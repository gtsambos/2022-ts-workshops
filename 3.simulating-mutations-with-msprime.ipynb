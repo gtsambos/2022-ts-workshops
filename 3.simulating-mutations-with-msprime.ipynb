{
 "cells": [
  {
   "cell_type": "markdown",
   "metadata": {},
   "source": [
    "# Simulating mutations with msprime"
   ]
  },
  {
   "cell_type": "markdown",
   "metadata": {},
   "source": [
    "First, should talk about why you might not always need to do this.\n",
    "\n",
    "In msprime simulations, the genealogy is independent of the genetic variation (Actually I don't think this is quite the right way to phrase it, because the mutation table is conditional on a specific tree... think more). You simulate the underlying genealogy first, as a set of node and edge tables, and *then* if desired, you simulate mutations to go with that genealogical structure. However, in many situations, the genealogy is all you need. \n",
    "\n",
    "Think carefully. Does your application *need* information about alleles and mutations? If not, save yourself (and your computer) some effort. The genealogy will in itself give you information about times, MRCAs, segments of identity-by-descent amongst other things. In later worksheetw we will see more examples of analyses that do not rely on mutations.\n",
    "\n",
    "But in this worksheet, we're going to focus on how to do mutation simulations, should this be needed...."
   ]
  },
  {
   "cell_type": "markdown",
   "metadata": {},
   "source": [
    "## A basic tree sequence to work with + packages"
   ]
  },
  {
   "cell_type": "code",
   "execution_count": 1,
   "metadata": {},
   "outputs": [
    {
     "data": {
      "text/plain": [
       "'1.1.1'"
      ]
     },
     "execution_count": 1,
     "metadata": {},
     "output_type": "execute_result"
    }
   ],
   "source": [
    "import msprime\n",
    "from IPython.display import SVG\n",
    "msprime.__version__"
   ]
  },
  {
   "cell_type": "code",
   "execution_count": 2,
   "metadata": {},
   "outputs": [
    {
     "data": {
      "image/svg+xml": [
       "<svg baseProfile=\"full\" height=\"200\" version=\"1.1\" width=\"400\" xmlns=\"http://www.w3.org/2000/svg\" xmlns:ev=\"http://www.w3.org/2001/xml-events\" xmlns:xlink=\"http://www.w3.org/1999/xlink\"><defs><style type=\"text/css\"><![CDATA[.background path {fill: #808080; fill-opacity: 0}.background path:nth-child(odd) {fill-opacity: .1}.axes {font-size: 14px}.x-axis .tick .lab {font-weight: bold; dominant-baseline: hanging}.axes, .tree {font-size: 14px; text-anchor: middle}.axes line, .edge {stroke: black; fill: none}.y-axis .grid {stroke: #FAFAFA}.node > .sym {fill: black; stroke: none}.site > .sym {stroke: black}.mut text {fill: red; font-style: italic}.mut.extra text {fill: hotpink}.mut line {fill: none; stroke: none}.mut .sym {fill: none; stroke: red}.mut.extra .sym {stroke: hotpink}.node .mut .sym {stroke-width: 1.5px}.tree text, .tree-sequence text {dominant-baseline: central}.plotbox .lab.lft {text-anchor: end}.plotbox .lab.rgt {text-anchor: start}]]></style></defs><g class=\"tree-sequence\"><g class=\"background\"><path d=\"M20,0 l180,0 l0,138.2 l-79.2,25 l0,5 l-100.8,0 l0,-5 l0,-25 l0,-138.2z\"/><path d=\"M200,0 l180,0 l0,138.2 l0,25 l0,5 l-259.2,0 l0,-5 l79.2,-25 l0,-138.2z\"/></g><g class=\"axes\"><g class=\"x-axis\"><g transform=\"translate(200 200)\"><text class=\"lab\" text-anchor=\"middle\" transform=\"translate(0 -11)\">Genome position</text></g><line x1=\"20\" x2=\"380\" y1=\"163.2\" y2=\"163.2\"/><g class=\"ticks\"><g class=\"tick\" transform=\"translate(20 163.2)\"><line x1=\"0\" x2=\"0\" y1=\"0\" y2=\"5\"/><g transform=\"translate(0 6)\"><text class=\"lab\">0</text></g></g><g class=\"tick\" transform=\"translate(120.8 163.2)\"><line x1=\"0\" x2=\"0\" y1=\"0\" y2=\"5\"/><g transform=\"translate(0 6)\"><text class=\"lab\">28</text></g></g><g class=\"tick\" transform=\"translate(380 163.2)\"><line x1=\"0\" x2=\"0\" y1=\"0\" y2=\"5\"/><g transform=\"translate(0 6)\"><text class=\"lab\">100</text></g></g></g></g></g><g class=\"plotbox trees\"><g class=\"tree t0\" transform=\"translate(20 0)\"><g class=\"plotbox\"><g class=\"c2 node n7 p0 root\" transform=\"translate(90 26.8)\"><g class=\"a7 c2 node n4 p0\" transform=\"translate(35 63.424)\"><g class=\"a4 i0 leaf node n1 p0 sample\" transform=\"translate(-17.5 31.176)\"><path class=\"edge\" d=\"M 0 0 V -31.176 H 17.5\"/><rect class=\"sym\" height=\"6\" width=\"6\" x=\"-3\" y=\"-3\"/><text class=\"lab\" transform=\"translate(0 11)\">1</text></g><g class=\"a4 i1 leaf node n2 p0 sample\" transform=\"translate(17.5 31.176)\"><path class=\"edge\" d=\"M 0 0 V -31.176 H -17.5\"/><rect class=\"sym\" height=\"6\" width=\"6\" x=\"-3\" y=\"-3\"/><text class=\"lab\" transform=\"translate(0 11)\">2</text></g><path class=\"edge\" d=\"M 0 0 V -63.424 H -35\"/><circle class=\"sym\" cx=\"0\" cy=\"0\" r=\"3\"/><text class=\"lab rgt\" transform=\"translate(3 -7.0)\">4</text></g><g class=\"a7 c2 node n6 p0\" transform=\"translate(-35 50.2832)\"><g class=\"a6 i0 leaf node n0 p0 sample\" transform=\"translate(-17.5 44.3168)\"><path class=\"edge\" d=\"M 0 0 V -44.3168 H 17.5\"/><rect class=\"sym\" height=\"6\" width=\"6\" x=\"-3\" y=\"-3\"/><text class=\"lab\" transform=\"translate(0 11)\">0</text></g><g class=\"a6 i1 leaf node n3 p0 sample\" transform=\"translate(17.5 44.3168)\"><path class=\"edge\" d=\"M 0 0 V -44.3168 H -17.5\"/><rect class=\"sym\" height=\"6\" width=\"6\" x=\"-3\" y=\"-3\"/><text class=\"lab\" transform=\"translate(0 11)\">3</text></g><path class=\"edge\" d=\"M 0 0 V -50.2832 H 35\"/><circle class=\"sym\" cx=\"0\" cy=\"0\" r=\"3\"/><text class=\"lab lft\" transform=\"translate(-3 -7.0)\">6</text></g><circle class=\"sym\" cx=\"0\" cy=\"0\" r=\"3\"/><text class=\"lab\" transform=\"translate(0 -11)\">7</text></g></g></g><g class=\"tree t1\" transform=\"translate(200 0)\"><g class=\"plotbox\"><g class=\"c2 node n7 p0 root\" transform=\"translate(76.875 26.8)\"><g class=\"a7 i0 leaf node n0 p0 sample\" transform=\"translate(-39.375 94.6)\"><path class=\"edge\" d=\"M 0 0 V -94.6 H 39.375\"/><rect class=\"sym\" height=\"6\" width=\"6\" x=\"-3\" y=\"-3\"/><text class=\"lab\" transform=\"translate(0 11)\">0</text></g><g class=\"a7 c2 node n5 p0\" transform=\"translate(39.375 56.6012)\"><g class=\"a5 i1 leaf node n3 p0 sample\" transform=\"translate(26.25 37.9988)\"><path class=\"edge\" d=\"M 0 0 V -37.9988 H -26.25\"/><rect class=\"sym\" height=\"6\" width=\"6\" x=\"-3\" y=\"-3\"/><text class=\"lab\" transform=\"translate(0 11)\">3</text></g><g class=\"a5 c2 node n4 p0\" transform=\"translate(-26.25 6.82282)\"><g class=\"a4 i0 leaf node n1 p0 sample\" transform=\"translate(-17.5 31.176)\"><path class=\"edge\" d=\"M 0 0 V -31.176 H 17.5\"/><rect class=\"sym\" height=\"6\" width=\"6\" x=\"-3\" y=\"-3\"/><text class=\"lab\" transform=\"translate(0 11)\">1</text></g><g class=\"a4 i1 leaf node n2 p0 sample\" transform=\"translate(17.5 31.176)\"><path class=\"edge\" d=\"M 0 0 V -31.176 H -17.5\"/><rect class=\"sym\" height=\"6\" width=\"6\" x=\"-3\" y=\"-3\"/><text class=\"lab\" transform=\"translate(0 11)\">2</text></g><path class=\"edge\" d=\"M 0 0 V -6.82282 H 26.25\"/><circle class=\"sym\" cx=\"0\" cy=\"0\" r=\"3\"/><text class=\"lab lft\" transform=\"translate(-3 -7.0)\">4</text></g><path class=\"edge\" d=\"M 0 0 V -56.6012 H -39.375\"/><circle class=\"sym\" cx=\"0\" cy=\"0\" r=\"3\"/><text class=\"lab rgt\" transform=\"translate(3 -7.0)\">5</text></g><circle class=\"sym\" cx=\"0\" cy=\"0\" r=\"3\"/><text class=\"lab\" transform=\"translate(0 -11)\">7</text></g></g></g></g></g></svg>"
      ],
      "text/plain": [
       "<IPython.core.display.SVG object>"
      ]
     },
     "execution_count": 2,
     "metadata": {},
     "output_type": "execute_result"
    }
   ],
   "source": [
    "ts = msprime.sim_ancestry(2, sequence_length=100, random_seed=1987, recombination_rate=0.001)\n",
    "SVG(ts.draw_svg())"
   ]
  },
  {
   "cell_type": "markdown",
   "metadata": {},
   "source": [
    "## Syntax + accessing the variants"
   ]
  },
  {
   "cell_type": "code",
   "execution_count": 3,
   "metadata": {},
   "outputs": [
    {
     "data": {
      "image/svg+xml": [
       "<svg baseProfile=\"full\" height=\"200\" version=\"1.1\" width=\"400\" xmlns=\"http://www.w3.org/2000/svg\" xmlns:ev=\"http://www.w3.org/2001/xml-events\" xmlns:xlink=\"http://www.w3.org/1999/xlink\"><defs><style type=\"text/css\"><![CDATA[.background path {fill: #808080; fill-opacity: 0}.background path:nth-child(odd) {fill-opacity: .1}.axes {font-size: 14px}.x-axis .tick .lab {font-weight: bold; dominant-baseline: hanging}.axes, .tree {font-size: 14px; text-anchor: middle}.axes line, .edge {stroke: black; fill: none}.y-axis .grid {stroke: #FAFAFA}.node > .sym {fill: black; stroke: none}.site > .sym {stroke: black}.mut text {fill: red; font-style: italic}.mut.extra text {fill: hotpink}.mut line {fill: none; stroke: none}.mut .sym {fill: none; stroke: red}.mut.extra .sym {stroke: hotpink}.node .mut .sym {stroke-width: 1.5px}.tree text, .tree-sequence text {dominant-baseline: central}.plotbox .lab.lft {text-anchor: end}.plotbox .lab.rgt {text-anchor: start}]]></style></defs><g class=\"tree-sequence\"><g class=\"background\"><path d=\"M20,0 l180,0 l0,138.2 l-79.2,25 l0,5 l-100.8,0 l0,-5 l0,-25 l0,-138.2z\"/><path d=\"M200,0 l180,0 l0,138.2 l0,25 l0,5 l-259.2,0 l0,-5 l79.2,-25 l0,-138.2z\"/></g><g class=\"axes\"><g class=\"x-axis\"><g transform=\"translate(200 200)\"><text class=\"lab\" text-anchor=\"middle\" transform=\"translate(0 -11)\">Genome position</text></g><line x1=\"20\" x2=\"380\" y1=\"163.2\" y2=\"163.2\"/><g class=\"ticks\"><g class=\"tick\" transform=\"translate(20 163.2)\"><line x1=\"0\" x2=\"0\" y1=\"0\" y2=\"5\"/><g transform=\"translate(0 6)\"><text class=\"lab\">0</text></g></g><g class=\"tick\" transform=\"translate(120.8 163.2)\"><line x1=\"0\" x2=\"0\" y1=\"0\" y2=\"5\"/><g transform=\"translate(0 6)\"><text class=\"lab\">28</text></g></g><g class=\"tick\" transform=\"translate(380 163.2)\"><line x1=\"0\" x2=\"0\" y1=\"0\" y2=\"5\"/><g transform=\"translate(0 6)\"><text class=\"lab\">100</text></g></g></g><g class=\"site s0\" transform=\"translate(34.4 163.2)\"><line class=\"sym\" x1=\"0\" x2=\"0\" y1=\"0\" y2=\"-10\"/><g class=\"mut m0\"><polyline class=\"sym\" points=\"2.5,-6.5 0,-1.5 -2.5,-6.5\"/></g></g><g class=\"site s1\" transform=\"translate(59.6 163.2)\"><line class=\"sym\" x1=\"0\" x2=\"0\" y1=\"0\" y2=\"-10\"/><g class=\"mut m1\"><polyline class=\"sym\" points=\"2.5,-6.5 0,-1.5 -2.5,-6.5\"/></g></g><g class=\"site s2\" transform=\"translate(92 163.2)\"><line class=\"sym\" x1=\"0\" x2=\"0\" y1=\"0\" y2=\"-10\"/><g class=\"mut m2\"><polyline class=\"sym\" points=\"2.5,-6.5 0,-1.5 -2.5,-6.5\"/></g></g><g class=\"site s3\" transform=\"translate(102.8 163.2)\"><line class=\"sym\" x1=\"0\" x2=\"0\" y1=\"0\" y2=\"-10\"/><g class=\"mut m3\"><polyline class=\"sym\" points=\"2.5,-6.5 0,-1.5 -2.5,-6.5\"/></g></g><g class=\"site s4\" transform=\"translate(153.2 163.2)\"><line class=\"sym\" x1=\"0\" x2=\"0\" y1=\"0\" y2=\"-10\"/><g class=\"mut m4\"><polyline class=\"sym\" points=\"2.5,-6.5 0,-1.5 -2.5,-6.5\"/></g></g><g class=\"site s5\" transform=\"translate(200 163.2)\"><line class=\"sym\" x1=\"0\" x2=\"0\" y1=\"0\" y2=\"-10\"/><g class=\"mut m5\"><polyline class=\"sym\" points=\"2.5,-6.5 0,-1.5 -2.5,-6.5\"/></g></g><g class=\"site s6\" transform=\"translate(225.2 163.2)\"><line class=\"sym\" x1=\"0\" x2=\"0\" y1=\"0\" y2=\"-10\"/><g class=\"mut m6\"><polyline class=\"sym\" points=\"2.5,-6.5 0,-1.5 -2.5,-6.5\"/></g></g><g class=\"site s7\" transform=\"translate(246.8 163.2)\"><line class=\"sym\" x1=\"0\" x2=\"0\" y1=\"0\" y2=\"-10\"/><g class=\"mut m7\"><polyline class=\"sym\" points=\"2.5,-6.5 0,-1.5 -2.5,-6.5\"/></g></g><g class=\"site s8\" transform=\"translate(286.4 163.2)\"><line class=\"sym\" x1=\"0\" x2=\"0\" y1=\"0\" y2=\"-10\"/><g class=\"mut m8\"><polyline class=\"sym\" points=\"2.5,-6.5 0,-1.5 -2.5,-6.5\"/></g></g><g class=\"site s9\" transform=\"translate(333.2 163.2)\"><line class=\"sym\" x1=\"0\" x2=\"0\" y1=\"0\" y2=\"-10\"/><g class=\"mut m9\"><polyline class=\"sym\" points=\"2.5,-6.5 0,-1.5 -2.5,-6.5\"/></g></g></g></g><g class=\"plotbox trees\"><g class=\"tree t0\" transform=\"translate(20 0)\"><g class=\"plotbox\"><g class=\"c2 node n7 p0 root\" transform=\"translate(90 26.8)\"><g class=\"a7 c2 node n4 p0\" transform=\"translate(35 63.424)\"><g class=\"a4 i0 leaf node n1 p0 sample\" transform=\"translate(-17.5 31.176)\"><path class=\"edge\" d=\"M 0 0 V -31.176 H 17.5\"/><rect class=\"sym\" height=\"6\" width=\"6\" x=\"-3\" y=\"-3\"/><text class=\"lab\" transform=\"translate(0 11)\">1</text></g><g class=\"a4 i1 leaf m0 m1 node n2 p0 s0 s1 sample\" transform=\"translate(17.5 31.176)\"><path class=\"edge\" d=\"M 0 0 V -31.176 H -17.5\"/><g class=\"mut m1 s1\" transform=\"translate(0 -7.95954)\"><line x1=\"0\" x2=\"0\" y1=\"0\" y2=\"7.95954\"/><path class=\"sym\" d=\"M -3,-3 l 6,6 M -3,3 l 6,-6\"/><text class=\"lab rgt\" transform=\"translate(5 0)\">1</text></g><g class=\"mut m0 s0\" transform=\"translate(0 -5.57527)\"><line x1=\"0\" x2=\"0\" y1=\"0\" y2=\"5.57527\"/><path class=\"sym\" d=\"M -3,-3 l 6,6 M -3,3 l 6,-6\"/><text class=\"lab rgt\" transform=\"translate(5 0)\">0</text></g><rect class=\"sym\" height=\"6\" width=\"6\" x=\"-3\" y=\"-3\"/><text class=\"lab\" transform=\"translate(0 11)\">2</text></g><path class=\"edge\" d=\"M 0 0 V -63.424 H -35\"/><circle class=\"sym\" cx=\"0\" cy=\"0\" r=\"3\"/><text class=\"lab rgt\" transform=\"translate(3 -7.0)\">4</text></g><g class=\"a7 c2 node n6 p0\" transform=\"translate(-35 50.2832)\"><g class=\"a6 i0 leaf m2 node n0 p0 s2 sample\" transform=\"translate(-17.5 44.3168)\"><path class=\"edge\" d=\"M 0 0 V -44.3168 H 17.5\"/><g class=\"mut m2 s2\" transform=\"translate(0 -34.2978)\"><line x1=\"0\" x2=\"0\" y1=\"0\" y2=\"34.2978\"/><path class=\"sym\" d=\"M -3,-3 l 6,6 M -3,3 l 6,-6\"/><text class=\"lab lft\" transform=\"translate(-5 0)\">2</text></g><rect class=\"sym\" height=\"6\" width=\"6\" x=\"-3\" y=\"-3\"/><text class=\"lab\" transform=\"translate(0 11)\">0</text></g><g class=\"a6 i1 leaf m3 node n3 p0 s3 sample\" transform=\"translate(17.5 44.3168)\"><path class=\"edge\" d=\"M 0 0 V -44.3168 H -17.5\"/><g class=\"mut m3 s3\" transform=\"translate(0 -42.6598)\"><line x1=\"0\" x2=\"0\" y1=\"0\" y2=\"42.6598\"/><path class=\"sym\" d=\"M -3,-3 l 6,6 M -3,3 l 6,-6\"/><text class=\"lab rgt\" transform=\"translate(5 0)\">3</text></g><rect class=\"sym\" height=\"6\" width=\"6\" x=\"-3\" y=\"-3\"/><text class=\"lab\" transform=\"translate(0 11)\">3</text></g><path class=\"edge\" d=\"M 0 0 V -50.2832 H 35\"/><circle class=\"sym\" cx=\"0\" cy=\"0\" r=\"3\"/><text class=\"lab lft\" transform=\"translate(-3 -7.0)\">6</text></g><circle class=\"sym\" cx=\"0\" cy=\"0\" r=\"3\"/><text class=\"lab\" transform=\"translate(0 -11)\">7</text></g></g></g><g class=\"tree t1\" transform=\"translate(200 0)\"><g class=\"plotbox\"><g class=\"c2 node n7 p0 root\" transform=\"translate(76.875 26.8)\"><g class=\"a7 i0 leaf m4 m5 m6 m9 node n0 p0 s4 s5 s6 s9 sample\" transform=\"translate(-39.375 94.6)\"><path class=\"edge\" d=\"M 0 0 V -94.6 H 39.375\"/><g class=\"mut m9 s9\" transform=\"translate(0 -92.4743)\"><line x1=\"0\" x2=\"0\" y1=\"0\" y2=\"92.4743\"/><path class=\"sym\" d=\"M -3,-3 l 6,6 M -3,3 l 6,-6\"/><text class=\"lab lft\" transform=\"translate(-5 0)\">9</text></g><g class=\"mut m5 s5\" transform=\"translate(0 -58.598)\"><line x1=\"0\" x2=\"0\" y1=\"0\" y2=\"58.598\"/><path class=\"sym\" d=\"M -3,-3 l 6,6 M -3,3 l 6,-6\"/><text class=\"lab lft\" transform=\"translate(-5 0)\">5</text></g><g class=\"mut m4 s4\" transform=\"translate(0 -46.8116)\"><line x1=\"0\" x2=\"0\" y1=\"0\" y2=\"46.8116\"/><path class=\"sym\" d=\"M -3,-3 l 6,6 M -3,3 l 6,-6\"/><text class=\"lab lft\" transform=\"translate(-5 0)\">4</text></g><g class=\"mut m6 s6\" transform=\"translate(0 -32.1176)\"><line x1=\"0\" x2=\"0\" y1=\"0\" y2=\"32.1176\"/><path class=\"sym\" d=\"M -3,-3 l 6,6 M -3,3 l 6,-6\"/><text class=\"lab lft\" transform=\"translate(-5 0)\">6</text></g><rect class=\"sym\" height=\"6\" width=\"6\" x=\"-3\" y=\"-3\"/><text class=\"lab\" transform=\"translate(0 11)\">0</text></g><g class=\"a7 c2 node n5 p0\" transform=\"translate(39.375 56.6012)\"><g class=\"a5 i1 leaf m7 node n3 p0 s7 sample\" transform=\"translate(26.25 37.9988)\"><path class=\"edge\" d=\"M 0 0 V -37.9988 H -26.25\"/><g class=\"mut m7 s7\" transform=\"translate(0 -3.00283)\"><line x1=\"0\" x2=\"0\" y1=\"0\" y2=\"3.00283\"/><path class=\"sym\" d=\"M -3,-3 l 6,6 M -3,3 l 6,-6\"/><text class=\"lab rgt\" transform=\"translate(5 0)\">7</text></g><rect class=\"sym\" height=\"6\" width=\"6\" x=\"-3\" y=\"-3\"/><text class=\"lab\" transform=\"translate(0 11)\">3</text></g><g class=\"a5 c2 m8 node n4 p0 s8\" transform=\"translate(-26.25 6.82282)\"><g class=\"a4 i0 leaf node n1 p0 sample\" transform=\"translate(-17.5 31.176)\"><path class=\"edge\" d=\"M 0 0 V -31.176 H 17.5\"/><rect class=\"sym\" height=\"6\" width=\"6\" x=\"-3\" y=\"-3\"/><text class=\"lab\" transform=\"translate(0 11)\">1</text></g><g class=\"a4 i1 leaf node n2 p0 sample\" transform=\"translate(17.5 31.176)\"><path class=\"edge\" d=\"M 0 0 V -31.176 H -17.5\"/><rect class=\"sym\" height=\"6\" width=\"6\" x=\"-3\" y=\"-3\"/><text class=\"lab\" transform=\"translate(0 11)\">2</text></g><path class=\"edge\" d=\"M 0 0 V -6.82282 H 26.25\"/><g class=\"mut m8 s8\" transform=\"translate(0 -6.30467)\"><line x1=\"0\" x2=\"0\" y1=\"0\" y2=\"6.30467\"/><path class=\"sym\" d=\"M -3,-3 l 6,6 M -3,3 l 6,-6\"/><text class=\"lab lft\" transform=\"translate(-5 0)\">8</text></g><circle class=\"sym\" cx=\"0\" cy=\"0\" r=\"3\"/><text class=\"lab lft\" transform=\"translate(-3 -7.0)\">4</text></g><path class=\"edge\" d=\"M 0 0 V -56.6012 H -39.375\"/><circle class=\"sym\" cx=\"0\" cy=\"0\" r=\"3\"/><text class=\"lab rgt\" transform=\"translate(3 -7.0)\">5</text></g><circle class=\"sym\" cx=\"0\" cy=\"0\" r=\"3\"/><text class=\"lab\" transform=\"translate(0 -11)\">7</text></g></g></g></g></g></svg>"
      ],
      "text/plain": [
       "<IPython.core.display.SVG object>"
      ]
     },
     "execution_count": 3,
     "metadata": {},
     "output_type": "execute_result"
    }
   ],
   "source": [
    "mts = msprime.sim_mutations(ts, rate=0.01, random_seed=2022)\n",
    "SVG(mts.draw_svg())"
   ]
  },
  {
   "cell_type": "code",
   "execution_count": 4,
   "metadata": {},
   "outputs": [
    {
     "data": {
      "text/html": [
       "\n",
       "            <div>\n",
       "                <style scoped=\"\">\n",
       "                    .tskit-table tbody tr th:only-of-type {vertical-align: middle;}\n",
       "                    .tskit-table tbody tr th {vertical-align: top;}\n",
       "                    .tskit-table tbody td {text-align: right;padding: 0.5em 0.5em;}\n",
       "                    .tskit-table tbody th {padding: 0.5em 0.5em;}\n",
       "                </style>\n",
       "                <table border=\"1\" class=\"tskit-table\">\n",
       "                    <thead>\n",
       "                        <tr>\n",
       "                            <th>id</th><th>site</th><th>node</th><th>time</th><th>derived_state</th><th>parent</th><th>metadata</th>\n",
       "                        </tr>\n",
       "                    </thead>\n",
       "                    <tbody>\n",
       "                        <tr><td>0</td><td>0</td><td>2</td><td>0.16174547</td><td>T</td><td>-1</td><td>b''</td></tr>\n",
       "<tr><td>1</td><td>1</td><td>2</td><td>0.23091606</td><td>T</td><td>-1</td><td>b''</td></tr>\n",
       "<tr><td>2</td><td>2</td><td>0</td><td>0.99502258</td><td>A</td><td>-1</td><td>b''</td></tr>\n",
       "<tr><td>3</td><td>3</td><td>3</td><td>1.23761207</td><td>G</td><td>-1</td><td>b''</td></tr>\n",
       "<tr><td>4</td><td>4</td><td>0</td><td>1.35806297</td><td>C</td><td>-1</td><td>b''</td></tr>\n",
       "<tr><td>5</td><td>5</td><td>0</td><td>1.70000009</td><td>T</td><td>-1</td><td>b''</td></tr>\n",
       "<tr><td>6</td><td>6</td><td>0</td><td>0.93177079</td><td>C</td><td>-1</td><td>b''</td></tr>\n",
       "<tr><td>7</td><td>7</td><td>3</td><td>0.08711580</td><td>G</td><td>-1</td><td>b''</td></tr>\n",
       "<tr><td>8</td><td>8</td><td>4</td><td>1.08735976</td><td>T</td><td>-1</td><td>b''</td></tr>\n",
       "<tr><td>9</td><td>9</td><td>0</td><td>2.68279273</td><td>G</td><td>-1</td><td>b''</td></tr>\n",
       "\n",
       "                    </tbody>\n",
       "                </table>\n",
       "            </div>\n",
       "        "
      ],
      "text/plain": [
       "<tskit.tables.MutationTable at 0x13aa471d0>"
      ]
     },
     "execution_count": 4,
     "metadata": {},
     "output_type": "execute_result"
    }
   ],
   "source": [
    "mts.tables.mutations"
   ]
  },
  {
   "cell_type": "code",
   "execution_count": 5,
   "metadata": {},
   "outputs": [
    {
     "data": {
      "text/html": [
       "\n",
       "            <div>\n",
       "                <style scoped=\"\">\n",
       "                    .tskit-table tbody tr th:only-of-type {vertical-align: middle;}\n",
       "                    .tskit-table tbody tr th {vertical-align: top;}\n",
       "                    .tskit-table tbody td {text-align: right;padding: 0.5em 0.5em;}\n",
       "                    .tskit-table tbody th {padding: 0.5em 0.5em;}\n",
       "                </style>\n",
       "                <table border=\"1\" class=\"tskit-table\">\n",
       "                    <thead>\n",
       "                        <tr>\n",
       "                            <th>id</th><th>position</th><th>ancestral_state</th><th>metadata</th>\n",
       "                        </tr>\n",
       "                    </thead>\n",
       "                    <tbody>\n",
       "                        <tr><td>0</td><td>4.00000000</td><td>G</td><td>b''</td></tr>\n",
       "<tr><td>1</td><td>11.00000000</td><td>C</td><td>b''</td></tr>\n",
       "<tr><td>2</td><td>20.00000000</td><td>C</td><td>b''</td></tr>\n",
       "<tr><td>3</td><td>23.00000000</td><td>T</td><td>b''</td></tr>\n",
       "<tr><td>4</td><td>37.00000000</td><td>A</td><td>b''</td></tr>\n",
       "<tr><td>5</td><td>50.00000000</td><td>G</td><td>b''</td></tr>\n",
       "<tr><td>6</td><td>57.00000000</td><td>T</td><td>b''</td></tr>\n",
       "<tr><td>7</td><td>63.00000000</td><td>C</td><td>b''</td></tr>\n",
       "<tr><td>8</td><td>74.00000000</td><td>A</td><td>b''</td></tr>\n",
       "<tr><td>9</td><td>87.00000000</td><td>C</td><td>b''</td></tr>\n",
       "\n",
       "                    </tbody>\n",
       "                </table>\n",
       "            </div>\n",
       "        "
      ],
      "text/plain": [
       "<tskit.tables.SiteTable at 0x13aa9e860>"
      ]
     },
     "execution_count": 5,
     "metadata": {},
     "output_type": "execute_result"
    }
   ],
   "source": [
    "mts.tables.sites"
   ]
  },
  {
   "cell_type": "markdown",
   "metadata": {},
   "source": [
    "Other tables the same as in the original tree sequence."
   ]
  },
  {
   "cell_type": "code",
   "execution_count": 6,
   "metadata": {},
   "outputs": [
    {
     "name": "stdout",
     "output_type": "stream",
     "text": [
      "4.0\t('G', 'T')\t[0 0 1 0]\n",
      "11.0\t('C', 'T')\t[0 0 1 0]\n",
      "20.0\t('C', 'A')\t[1 0 0 0]\n",
      "23.0\t('T', 'G')\t[0 0 0 1]\n",
      "37.0\t('A', 'C')\t[1 0 0 0]\n",
      "50.0\t('G', 'T')\t[1 0 0 0]\n",
      "57.0\t('T', 'C')\t[1 0 0 0]\n",
      "63.0\t('C', 'G')\t[0 0 0 1]\n",
      "74.0\t('A', 'T')\t[0 1 1 0]\n",
      "87.0\t('C', 'G')\t[1 0 0 0]\n"
     ]
    }
   ],
   "source": [
    "for var in mts.variants():\n",
    "    print(var.site.position, var.alleles, var.genotypes, sep=\"\\t\")"
   ]
  },
  {
   "cell_type": "markdown",
   "metadata": {},
   "source": [
    "## Mutation models and 'stackability' of mutations"
   ]
  },
  {
   "cell_type": "markdown",
   "metadata": {},
   "source": [
    "By default, uses a Jukes-Cantor model of mutations (mention some features of this model -- changes from 1 nucleotide type to another are all equally likely, right?), but others are possible. For full list (provide link to docs page), but here are some notable examples you may want to use instead:"
   ]
  },
  {
   "cell_type": "markdown",
   "metadata": {},
   "source": [
    "### HKY\n",
    "\n",
    "Under JK model, all transitions from one nucleotide to another are equally likely (Is the rate the rate for each of these types, or overall?). However, in many situations you'll want nucleotide transitions (A<->G), (C<->T) to be more likely than nucleotide tranversions (all others). Can do this with the HKY model, where you specify `kappa`, scaling parameter by which frequencies of each individual transition type is modified."
   ]
  },
  {
   "cell_type": "code",
   "execution_count": 9,
   "metadata": {},
   "outputs": [
    {
     "data": {
      "image/svg+xml": [
       "<svg baseProfile=\"full\" height=\"200\" version=\"1.1\" width=\"400\" xmlns=\"http://www.w3.org/2000/svg\" xmlns:ev=\"http://www.w3.org/2001/xml-events\" xmlns:xlink=\"http://www.w3.org/1999/xlink\"><defs><style type=\"text/css\"><![CDATA[.background path {fill: #808080; fill-opacity: 0}.background path:nth-child(odd) {fill-opacity: .1}.axes {font-size: 14px}.x-axis .tick .lab {font-weight: bold; dominant-baseline: hanging}.axes, .tree {font-size: 14px; text-anchor: middle}.axes line, .edge {stroke: black; fill: none}.y-axis .grid {stroke: #FAFAFA}.node > .sym {fill: black; stroke: none}.site > .sym {stroke: black}.mut text {fill: red; font-style: italic}.mut.extra text {fill: hotpink}.mut line {fill: none; stroke: none}.mut .sym {fill: none; stroke: red}.mut.extra .sym {stroke: hotpink}.node .mut .sym {stroke-width: 1.5px}.tree text, .tree-sequence text {dominant-baseline: central}.plotbox .lab.lft {text-anchor: end}.plotbox .lab.rgt {text-anchor: start}]]></style></defs><g class=\"tree-sequence\"><g class=\"background\"><path d=\"M20,0 l180,0 l0,138.2 l-79.2,25 l0,5 l-100.8,0 l0,-5 l0,-25 l0,-138.2z\"/><path d=\"M200,0 l180,0 l0,138.2 l0,25 l0,5 l-259.2,0 l0,-5 l79.2,-25 l0,-138.2z\"/></g><g class=\"axes\"><g class=\"x-axis\"><g transform=\"translate(200 200)\"><text class=\"lab\" text-anchor=\"middle\" transform=\"translate(0 -11)\">Genome position</text></g><line x1=\"20\" x2=\"380\" y1=\"163.2\" y2=\"163.2\"/><g class=\"ticks\"><g class=\"tick\" transform=\"translate(20 163.2)\"><line x1=\"0\" x2=\"0\" y1=\"0\" y2=\"5\"/><g transform=\"translate(0 6)\"><text class=\"lab\">0</text></g></g><g class=\"tick\" transform=\"translate(120.8 163.2)\"><line x1=\"0\" x2=\"0\" y1=\"0\" y2=\"5\"/><g transform=\"translate(0 6)\"><text class=\"lab\">28</text></g></g><g class=\"tick\" transform=\"translate(380 163.2)\"><line x1=\"0\" x2=\"0\" y1=\"0\" y2=\"5\"/><g transform=\"translate(0 6)\"><text class=\"lab\">100</text></g></g></g><g class=\"site s0\" transform=\"translate(34.4 163.2)\"><line class=\"sym\" x1=\"0\" x2=\"0\" y1=\"0\" y2=\"-10\"/><g class=\"mut m0\"><polyline class=\"sym\" points=\"2.5,-6.5 0,-1.5 -2.5,-6.5\"/></g></g><g class=\"site s1\" transform=\"translate(59.6 163.2)\"><line class=\"sym\" x1=\"0\" x2=\"0\" y1=\"0\" y2=\"-10\"/><g class=\"mut m1\"><polyline class=\"sym\" points=\"2.5,-6.5 0,-1.5 -2.5,-6.5\"/></g></g><g class=\"site s2\" transform=\"translate(92 163.2)\"><line class=\"sym\" x1=\"0\" x2=\"0\" y1=\"0\" y2=\"-10\"/><g class=\"mut m2\"><polyline class=\"sym\" points=\"2.5,-6.5 0,-1.5 -2.5,-6.5\"/></g></g><g class=\"site s3\" transform=\"translate(102.8 163.2)\"><line class=\"sym\" x1=\"0\" x2=\"0\" y1=\"0\" y2=\"-10\"/><g class=\"mut m3\"><polyline class=\"sym\" points=\"2.5,-6.5 0,-1.5 -2.5,-6.5\"/></g></g><g class=\"site s4\" transform=\"translate(153.2 163.2)\"><line class=\"sym\" x1=\"0\" x2=\"0\" y1=\"0\" y2=\"-10\"/><g class=\"mut m4\"><polyline class=\"sym\" points=\"2.5,-6.5 0,-1.5 -2.5,-6.5\"/></g></g><g class=\"site s5\" transform=\"translate(200 163.2)\"><line class=\"sym\" x1=\"0\" x2=\"0\" y1=\"0\" y2=\"-10\"/><g class=\"mut m5\"><polyline class=\"sym\" points=\"2.5,-6.5 0,-1.5 -2.5,-6.5\"/></g></g><g class=\"site s6\" transform=\"translate(225.2 163.2)\"><line class=\"sym\" x1=\"0\" x2=\"0\" y1=\"0\" y2=\"-10\"/><g class=\"mut m6\"><polyline class=\"sym\" points=\"2.5,-6.5 0,-1.5 -2.5,-6.5\"/></g></g><g class=\"site s7\" transform=\"translate(246.8 163.2)\"><line class=\"sym\" x1=\"0\" x2=\"0\" y1=\"0\" y2=\"-10\"/><g class=\"mut m7\"><polyline class=\"sym\" points=\"2.5,-6.5 0,-1.5 -2.5,-6.5\"/></g></g><g class=\"site s8\" transform=\"translate(286.4 163.2)\"><line class=\"sym\" x1=\"0\" x2=\"0\" y1=\"0\" y2=\"-10\"/><g class=\"mut m8\"><polyline class=\"sym\" points=\"2.5,-6.5 0,-1.5 -2.5,-6.5\"/></g></g><g class=\"site s9\" transform=\"translate(333.2 163.2)\"><line class=\"sym\" x1=\"0\" x2=\"0\" y1=\"0\" y2=\"-10\"/><g class=\"mut m9\"><polyline class=\"sym\" points=\"2.5,-6.5 0,-1.5 -2.5,-6.5\"/></g></g></g></g><g class=\"plotbox trees\"><g class=\"tree t0\" transform=\"translate(20 0)\"><g class=\"plotbox\"><g class=\"c2 node n7 p0 root\" transform=\"translate(90 26.8)\"><g class=\"a7 c2 node n4 p0\" transform=\"translate(35 63.424)\"><g class=\"a4 i0 leaf node n1 p0 sample\" transform=\"translate(-17.5 31.176)\"><path class=\"edge\" d=\"M 0 0 V -31.176 H 17.5\"/><rect class=\"sym\" height=\"6\" width=\"6\" x=\"-3\" y=\"-3\"/><text class=\"lab\" transform=\"translate(0 11)\">1</text></g><g class=\"a4 i1 leaf m0 m1 node n2 p0 s0 s1 sample\" transform=\"translate(17.5 31.176)\"><path class=\"edge\" d=\"M 0 0 V -31.176 H -17.5\"/><g class=\"mut m1 s1\" transform=\"translate(0 -7.95954)\"><line x1=\"0\" x2=\"0\" y1=\"0\" y2=\"7.95954\"/><path class=\"sym\" d=\"M -3,-3 l 6,6 M -3,3 l 6,-6\"/><text class=\"lab rgt\" transform=\"translate(5 0)\">1</text></g><g class=\"mut m0 s0\" transform=\"translate(0 -5.57527)\"><line x1=\"0\" x2=\"0\" y1=\"0\" y2=\"5.57527\"/><path class=\"sym\" d=\"M -3,-3 l 6,6 M -3,3 l 6,-6\"/><text class=\"lab rgt\" transform=\"translate(5 0)\">0</text></g><rect class=\"sym\" height=\"6\" width=\"6\" x=\"-3\" y=\"-3\"/><text class=\"lab\" transform=\"translate(0 11)\">2</text></g><path class=\"edge\" d=\"M 0 0 V -63.424 H -35\"/><circle class=\"sym\" cx=\"0\" cy=\"0\" r=\"3\"/><text class=\"lab rgt\" transform=\"translate(3 -7.0)\">4</text></g><g class=\"a7 c2 node n6 p0\" transform=\"translate(-35 50.2832)\"><g class=\"a6 i0 leaf m2 node n0 p0 s2 sample\" transform=\"translate(-17.5 44.3168)\"><path class=\"edge\" d=\"M 0 0 V -44.3168 H 17.5\"/><g class=\"mut m2 s2\" transform=\"translate(0 -34.2978)\"><line x1=\"0\" x2=\"0\" y1=\"0\" y2=\"34.2978\"/><path class=\"sym\" d=\"M -3,-3 l 6,6 M -3,3 l 6,-6\"/><text class=\"lab lft\" transform=\"translate(-5 0)\">2</text></g><rect class=\"sym\" height=\"6\" width=\"6\" x=\"-3\" y=\"-3\"/><text class=\"lab\" transform=\"translate(0 11)\">0</text></g><g class=\"a6 i1 leaf m3 node n3 p0 s3 sample\" transform=\"translate(17.5 44.3168)\"><path class=\"edge\" d=\"M 0 0 V -44.3168 H -17.5\"/><g class=\"mut m3 s3\" transform=\"translate(0 -42.6598)\"><line x1=\"0\" x2=\"0\" y1=\"0\" y2=\"42.6598\"/><path class=\"sym\" d=\"M -3,-3 l 6,6 M -3,3 l 6,-6\"/><text class=\"lab rgt\" transform=\"translate(5 0)\">3</text></g><rect class=\"sym\" height=\"6\" width=\"6\" x=\"-3\" y=\"-3\"/><text class=\"lab\" transform=\"translate(0 11)\">3</text></g><path class=\"edge\" d=\"M 0 0 V -50.2832 H 35\"/><circle class=\"sym\" cx=\"0\" cy=\"0\" r=\"3\"/><text class=\"lab lft\" transform=\"translate(-3 -7.0)\">6</text></g><circle class=\"sym\" cx=\"0\" cy=\"0\" r=\"3\"/><text class=\"lab\" transform=\"translate(0 -11)\">7</text></g></g></g><g class=\"tree t1\" transform=\"translate(200 0)\"><g class=\"plotbox\"><g class=\"c2 node n7 p0 root\" transform=\"translate(76.875 26.8)\"><g class=\"a7 i0 leaf m4 m5 m6 m9 node n0 p0 s4 s5 s6 s9 sample\" transform=\"translate(-39.375 94.6)\"><path class=\"edge\" d=\"M 0 0 V -94.6 H 39.375\"/><g class=\"mut m9 s9\" transform=\"translate(0 -92.4743)\"><line x1=\"0\" x2=\"0\" y1=\"0\" y2=\"92.4743\"/><path class=\"sym\" d=\"M -3,-3 l 6,6 M -3,3 l 6,-6\"/><text class=\"lab lft\" transform=\"translate(-5 0)\">9</text></g><g class=\"mut m5 s5\" transform=\"translate(0 -58.598)\"><line x1=\"0\" x2=\"0\" y1=\"0\" y2=\"58.598\"/><path class=\"sym\" d=\"M -3,-3 l 6,6 M -3,3 l 6,-6\"/><text class=\"lab lft\" transform=\"translate(-5 0)\">5</text></g><g class=\"mut m4 s4\" transform=\"translate(0 -46.8116)\"><line x1=\"0\" x2=\"0\" y1=\"0\" y2=\"46.8116\"/><path class=\"sym\" d=\"M -3,-3 l 6,6 M -3,3 l 6,-6\"/><text class=\"lab lft\" transform=\"translate(-5 0)\">4</text></g><g class=\"mut m6 s6\" transform=\"translate(0 -32.1176)\"><line x1=\"0\" x2=\"0\" y1=\"0\" y2=\"32.1176\"/><path class=\"sym\" d=\"M -3,-3 l 6,6 M -3,3 l 6,-6\"/><text class=\"lab lft\" transform=\"translate(-5 0)\">6</text></g><rect class=\"sym\" height=\"6\" width=\"6\" x=\"-3\" y=\"-3\"/><text class=\"lab\" transform=\"translate(0 11)\">0</text></g><g class=\"a7 c2 node n5 p0\" transform=\"translate(39.375 56.6012)\"><g class=\"a5 i1 leaf m7 node n3 p0 s7 sample\" transform=\"translate(26.25 37.9988)\"><path class=\"edge\" d=\"M 0 0 V -37.9988 H -26.25\"/><g class=\"mut m7 s7\" transform=\"translate(0 -3.00283)\"><line x1=\"0\" x2=\"0\" y1=\"0\" y2=\"3.00283\"/><path class=\"sym\" d=\"M -3,-3 l 6,6 M -3,3 l 6,-6\"/><text class=\"lab rgt\" transform=\"translate(5 0)\">7</text></g><rect class=\"sym\" height=\"6\" width=\"6\" x=\"-3\" y=\"-3\"/><text class=\"lab\" transform=\"translate(0 11)\">3</text></g><g class=\"a5 c2 m8 node n4 p0 s8\" transform=\"translate(-26.25 6.82282)\"><g class=\"a4 i0 leaf node n1 p0 sample\" transform=\"translate(-17.5 31.176)\"><path class=\"edge\" d=\"M 0 0 V -31.176 H 17.5\"/><rect class=\"sym\" height=\"6\" width=\"6\" x=\"-3\" y=\"-3\"/><text class=\"lab\" transform=\"translate(0 11)\">1</text></g><g class=\"a4 i1 leaf node n2 p0 sample\" transform=\"translate(17.5 31.176)\"><path class=\"edge\" d=\"M 0 0 V -31.176 H -17.5\"/><rect class=\"sym\" height=\"6\" width=\"6\" x=\"-3\" y=\"-3\"/><text class=\"lab\" transform=\"translate(0 11)\">2</text></g><path class=\"edge\" d=\"M 0 0 V -6.82282 H 26.25\"/><g class=\"mut m8 s8\" transform=\"translate(0 -6.30467)\"><line x1=\"0\" x2=\"0\" y1=\"0\" y2=\"6.30467\"/><path class=\"sym\" d=\"M -3,-3 l 6,6 M -3,3 l 6,-6\"/><text class=\"lab lft\" transform=\"translate(-5 0)\">8</text></g><circle class=\"sym\" cx=\"0\" cy=\"0\" r=\"3\"/><text class=\"lab lft\" transform=\"translate(-3 -7.0)\">4</text></g><path class=\"edge\" d=\"M 0 0 V -56.6012 H -39.375\"/><circle class=\"sym\" cx=\"0\" cy=\"0\" r=\"3\"/><text class=\"lab rgt\" transform=\"translate(3 -7.0)\">5</text></g><circle class=\"sym\" cx=\"0\" cy=\"0\" r=\"3\"/><text class=\"lab\" transform=\"translate(0 -11)\">7</text></g></g></g></g></g></svg>"
      ],
      "text/plain": [
       "<IPython.core.display.SVG object>"
      ]
     },
     "execution_count": 9,
     "metadata": {},
     "output_type": "execute_result"
    }
   ],
   "source": [
    "mts = msprime.sim_mutations(ts, rate=0.01, random_seed=2022, model=msprime.HKY(kappa=2))\n",
    "SVG(mts.draw_svg())"
   ]
  },
  {
   "cell_type": "markdown",
   "metadata": {},
   "source": [
    "(Best way to show which of therse are the transversions, and which the transitions?)"
   ]
  },
  {
   "cell_type": "markdown",
   "metadata": {},
   "source": [
    "### GTR\n",
    "\n",
    "What if you want to specify each nucleotide substitution individually?\n",
    "(Lots of parameters in this one -- maybe they should just look at the docs to see what this means)"
   ]
  },
  {
   "cell_type": "code",
   "execution_count": 10,
   "metadata": {},
   "outputs": [
    {
     "data": {
      "image/svg+xml": [
       "<svg baseProfile=\"full\" height=\"200\" version=\"1.1\" width=\"400\" xmlns=\"http://www.w3.org/2000/svg\" xmlns:ev=\"http://www.w3.org/2001/xml-events\" xmlns:xlink=\"http://www.w3.org/1999/xlink\"><defs><style type=\"text/css\"><![CDATA[.background path {fill: #808080; fill-opacity: 0}.background path:nth-child(odd) {fill-opacity: .1}.axes {font-size: 14px}.x-axis .tick .lab {font-weight: bold; dominant-baseline: hanging}.axes, .tree {font-size: 14px; text-anchor: middle}.axes line, .edge {stroke: black; fill: none}.y-axis .grid {stroke: #FAFAFA}.node > .sym {fill: black; stroke: none}.site > .sym {stroke: black}.mut text {fill: red; font-style: italic}.mut.extra text {fill: hotpink}.mut line {fill: none; stroke: none}.mut .sym {fill: none; stroke: red}.mut.extra .sym {stroke: hotpink}.node .mut .sym {stroke-width: 1.5px}.tree text, .tree-sequence text {dominant-baseline: central}.plotbox .lab.lft {text-anchor: end}.plotbox .lab.rgt {text-anchor: start}]]></style></defs><g class=\"tree-sequence\"><g class=\"background\"><path d=\"M20,0 l180,0 l0,138.2 l-79.2,25 l0,5 l-100.8,0 l0,-5 l0,-25 l0,-138.2z\"/><path d=\"M200,0 l180,0 l0,138.2 l0,25 l0,5 l-259.2,0 l0,-5 l79.2,-25 l0,-138.2z\"/></g><g class=\"axes\"><g class=\"x-axis\"><g transform=\"translate(200 200)\"><text class=\"lab\" text-anchor=\"middle\" transform=\"translate(0 -11)\">Genome position</text></g><line x1=\"20\" x2=\"380\" y1=\"163.2\" y2=\"163.2\"/><g class=\"ticks\"><g class=\"tick\" transform=\"translate(20 163.2)\"><line x1=\"0\" x2=\"0\" y1=\"0\" y2=\"5\"/><g transform=\"translate(0 6)\"><text class=\"lab\">0</text></g></g><g class=\"tick\" transform=\"translate(120.8 163.2)\"><line x1=\"0\" x2=\"0\" y1=\"0\" y2=\"5\"/><g transform=\"translate(0 6)\"><text class=\"lab\">28</text></g></g><g class=\"tick\" transform=\"translate(380 163.2)\"><line x1=\"0\" x2=\"0\" y1=\"0\" y2=\"5\"/><g transform=\"translate(0 6)\"><text class=\"lab\">100</text></g></g></g><g class=\"site s0\" transform=\"translate(34.4 163.2)\"><line class=\"sym\" x1=\"0\" x2=\"0\" y1=\"0\" y2=\"-10\"/><g class=\"mut m0\"><polyline class=\"sym\" points=\"2.5,-6.5 0,-1.5 -2.5,-6.5\"/></g></g><g class=\"site s1\" transform=\"translate(59.6 163.2)\"><line class=\"sym\" x1=\"0\" x2=\"0\" y1=\"0\" y2=\"-10\"/><g class=\"mut m1\"><polyline class=\"sym\" points=\"2.5,-6.5 0,-1.5 -2.5,-6.5\"/></g></g><g class=\"site s2\" transform=\"translate(92 163.2)\"><line class=\"sym\" x1=\"0\" x2=\"0\" y1=\"0\" y2=\"-10\"/><g class=\"mut m2\"><polyline class=\"sym\" points=\"2.5,-6.5 0,-1.5 -2.5,-6.5\"/></g></g><g class=\"site s3\" transform=\"translate(102.8 163.2)\"><line class=\"sym\" x1=\"0\" x2=\"0\" y1=\"0\" y2=\"-10\"/><g class=\"mut m3\"><polyline class=\"sym\" points=\"2.5,-6.5 0,-1.5 -2.5,-6.5\"/></g></g><g class=\"site s4\" transform=\"translate(153.2 163.2)\"><line class=\"sym\" x1=\"0\" x2=\"0\" y1=\"0\" y2=\"-10\"/><g class=\"mut m4\"><polyline class=\"sym\" points=\"2.5,-6.5 0,-1.5 -2.5,-6.5\"/></g></g><g class=\"site s5\" transform=\"translate(200 163.2)\"><line class=\"sym\" x1=\"0\" x2=\"0\" y1=\"0\" y2=\"-10\"/><g class=\"mut m5\"><polyline class=\"sym\" points=\"2.5,-6.5 0,-1.5 -2.5,-6.5\"/></g></g><g class=\"site s6\" transform=\"translate(225.2 163.2)\"><line class=\"sym\" x1=\"0\" x2=\"0\" y1=\"0\" y2=\"-10\"/><g class=\"mut m6\"><polyline class=\"sym\" points=\"2.5,-6.5 0,-1.5 -2.5,-6.5\"/></g></g><g class=\"site s7\" transform=\"translate(246.8 163.2)\"><line class=\"sym\" x1=\"0\" x2=\"0\" y1=\"0\" y2=\"-10\"/><g class=\"mut m7\"><polyline class=\"sym\" points=\"2.5,-6.5 0,-1.5 -2.5,-6.5\"/></g></g><g class=\"site s8\" transform=\"translate(286.4 163.2)\"><line class=\"sym\" x1=\"0\" x2=\"0\" y1=\"0\" y2=\"-10\"/><g class=\"mut m8\"><polyline class=\"sym\" points=\"2.5,-6.5 0,-1.5 -2.5,-6.5\"/></g></g><g class=\"site s9\" transform=\"translate(333.2 163.2)\"><line class=\"sym\" x1=\"0\" x2=\"0\" y1=\"0\" y2=\"-10\"/><g class=\"mut m9\"><polyline class=\"sym\" points=\"2.5,-6.5 0,-1.5 -2.5,-6.5\"/></g></g></g></g><g class=\"plotbox trees\"><g class=\"tree t0\" transform=\"translate(20 0)\"><g class=\"plotbox\"><g class=\"c2 node n7 p0 root\" transform=\"translate(90 26.8)\"><g class=\"a7 c2 node n4 p0\" transform=\"translate(35 63.424)\"><g class=\"a4 i0 leaf node n1 p0 sample\" transform=\"translate(-17.5 31.176)\"><path class=\"edge\" d=\"M 0 0 V -31.176 H 17.5\"/><rect class=\"sym\" height=\"6\" width=\"6\" x=\"-3\" y=\"-3\"/><text class=\"lab\" transform=\"translate(0 11)\">1</text></g><g class=\"a4 i1 leaf m0 m1 node n2 p0 s0 s1 sample\" transform=\"translate(17.5 31.176)\"><path class=\"edge\" d=\"M 0 0 V -31.176 H -17.5\"/><g class=\"mut m1 s1\" transform=\"translate(0 -7.95954)\"><line x1=\"0\" x2=\"0\" y1=\"0\" y2=\"7.95954\"/><path class=\"sym\" d=\"M -3,-3 l 6,6 M -3,3 l 6,-6\"/><text class=\"lab rgt\" transform=\"translate(5 0)\">1</text></g><g class=\"mut m0 s0\" transform=\"translate(0 -5.57527)\"><line x1=\"0\" x2=\"0\" y1=\"0\" y2=\"5.57527\"/><path class=\"sym\" d=\"M -3,-3 l 6,6 M -3,3 l 6,-6\"/><text class=\"lab rgt\" transform=\"translate(5 0)\">0</text></g><rect class=\"sym\" height=\"6\" width=\"6\" x=\"-3\" y=\"-3\"/><text class=\"lab\" transform=\"translate(0 11)\">2</text></g><path class=\"edge\" d=\"M 0 0 V -63.424 H -35\"/><circle class=\"sym\" cx=\"0\" cy=\"0\" r=\"3\"/><text class=\"lab rgt\" transform=\"translate(3 -7.0)\">4</text></g><g class=\"a7 c2 node n6 p0\" transform=\"translate(-35 50.2832)\"><g class=\"a6 i0 leaf m2 node n0 p0 s2 sample\" transform=\"translate(-17.5 44.3168)\"><path class=\"edge\" d=\"M 0 0 V -44.3168 H 17.5\"/><g class=\"mut m2 s2\" transform=\"translate(0 -34.2978)\"><line x1=\"0\" x2=\"0\" y1=\"0\" y2=\"34.2978\"/><path class=\"sym\" d=\"M -3,-3 l 6,6 M -3,3 l 6,-6\"/><text class=\"lab lft\" transform=\"translate(-5 0)\">2</text></g><rect class=\"sym\" height=\"6\" width=\"6\" x=\"-3\" y=\"-3\"/><text class=\"lab\" transform=\"translate(0 11)\">0</text></g><g class=\"a6 i1 leaf m3 node n3 p0 s3 sample\" transform=\"translate(17.5 44.3168)\"><path class=\"edge\" d=\"M 0 0 V -44.3168 H -17.5\"/><g class=\"mut m3 s3\" transform=\"translate(0 -42.6598)\"><line x1=\"0\" x2=\"0\" y1=\"0\" y2=\"42.6598\"/><path class=\"sym\" d=\"M -3,-3 l 6,6 M -3,3 l 6,-6\"/><text class=\"lab rgt\" transform=\"translate(5 0)\">3</text></g><rect class=\"sym\" height=\"6\" width=\"6\" x=\"-3\" y=\"-3\"/><text class=\"lab\" transform=\"translate(0 11)\">3</text></g><path class=\"edge\" d=\"M 0 0 V -50.2832 H 35\"/><circle class=\"sym\" cx=\"0\" cy=\"0\" r=\"3\"/><text class=\"lab lft\" transform=\"translate(-3 -7.0)\">6</text></g><circle class=\"sym\" cx=\"0\" cy=\"0\" r=\"3\"/><text class=\"lab\" transform=\"translate(0 -11)\">7</text></g></g></g><g class=\"tree t1\" transform=\"translate(200 0)\"><g class=\"plotbox\"><g class=\"c2 node n7 p0 root\" transform=\"translate(76.875 26.8)\"><g class=\"a7 i0 leaf m4 m5 m6 m9 node n0 p0 s4 s5 s6 s9 sample\" transform=\"translate(-39.375 94.6)\"><path class=\"edge\" d=\"M 0 0 V -94.6 H 39.375\"/><g class=\"mut m9 s9\" transform=\"translate(0 -92.4743)\"><line x1=\"0\" x2=\"0\" y1=\"0\" y2=\"92.4743\"/><path class=\"sym\" d=\"M -3,-3 l 6,6 M -3,3 l 6,-6\"/><text class=\"lab lft\" transform=\"translate(-5 0)\">9</text></g><g class=\"mut m5 s5\" transform=\"translate(0 -58.598)\"><line x1=\"0\" x2=\"0\" y1=\"0\" y2=\"58.598\"/><path class=\"sym\" d=\"M -3,-3 l 6,6 M -3,3 l 6,-6\"/><text class=\"lab lft\" transform=\"translate(-5 0)\">5</text></g><g class=\"mut m4 s4\" transform=\"translate(0 -46.8116)\"><line x1=\"0\" x2=\"0\" y1=\"0\" y2=\"46.8116\"/><path class=\"sym\" d=\"M -3,-3 l 6,6 M -3,3 l 6,-6\"/><text class=\"lab lft\" transform=\"translate(-5 0)\">4</text></g><g class=\"mut m6 s6\" transform=\"translate(0 -32.1176)\"><line x1=\"0\" x2=\"0\" y1=\"0\" y2=\"32.1176\"/><path class=\"sym\" d=\"M -3,-3 l 6,6 M -3,3 l 6,-6\"/><text class=\"lab lft\" transform=\"translate(-5 0)\">6</text></g><rect class=\"sym\" height=\"6\" width=\"6\" x=\"-3\" y=\"-3\"/><text class=\"lab\" transform=\"translate(0 11)\">0</text></g><g class=\"a7 c2 node n5 p0\" transform=\"translate(39.375 56.6012)\"><g class=\"a5 i1 leaf m7 node n3 p0 s7 sample\" transform=\"translate(26.25 37.9988)\"><path class=\"edge\" d=\"M 0 0 V -37.9988 H -26.25\"/><g class=\"mut m7 s7\" transform=\"translate(0 -3.00283)\"><line x1=\"0\" x2=\"0\" y1=\"0\" y2=\"3.00283\"/><path class=\"sym\" d=\"M -3,-3 l 6,6 M -3,3 l 6,-6\"/><text class=\"lab rgt\" transform=\"translate(5 0)\">7</text></g><rect class=\"sym\" height=\"6\" width=\"6\" x=\"-3\" y=\"-3\"/><text class=\"lab\" transform=\"translate(0 11)\">3</text></g><g class=\"a5 c2 m8 node n4 p0 s8\" transform=\"translate(-26.25 6.82282)\"><g class=\"a4 i0 leaf node n1 p0 sample\" transform=\"translate(-17.5 31.176)\"><path class=\"edge\" d=\"M 0 0 V -31.176 H 17.5\"/><rect class=\"sym\" height=\"6\" width=\"6\" x=\"-3\" y=\"-3\"/><text class=\"lab\" transform=\"translate(0 11)\">1</text></g><g class=\"a4 i1 leaf node n2 p0 sample\" transform=\"translate(17.5 31.176)\"><path class=\"edge\" d=\"M 0 0 V -31.176 H -17.5\"/><rect class=\"sym\" height=\"6\" width=\"6\" x=\"-3\" y=\"-3\"/><text class=\"lab\" transform=\"translate(0 11)\">2</text></g><path class=\"edge\" d=\"M 0 0 V -6.82282 H 26.25\"/><g class=\"mut m8 s8\" transform=\"translate(0 -6.30467)\"><line x1=\"0\" x2=\"0\" y1=\"0\" y2=\"6.30467\"/><path class=\"sym\" d=\"M -3,-3 l 6,6 M -3,3 l 6,-6\"/><text class=\"lab lft\" transform=\"translate(-5 0)\">8</text></g><circle class=\"sym\" cx=\"0\" cy=\"0\" r=\"3\"/><text class=\"lab lft\" transform=\"translate(-3 -7.0)\">4</text></g><path class=\"edge\" d=\"M 0 0 V -56.6012 H -39.375\"/><circle class=\"sym\" cx=\"0\" cy=\"0\" r=\"3\"/><text class=\"lab rgt\" transform=\"translate(3 -7.0)\">5</text></g><circle class=\"sym\" cx=\"0\" cy=\"0\" r=\"3\"/><text class=\"lab\" transform=\"translate(0 -11)\">7</text></g></g></g></g></g></svg>"
      ],
      "text/plain": [
       "<IPython.core.display.SVG object>"
      ]
     },
     "execution_count": 10,
     "metadata": {},
     "output_type": "execute_result"
    }
   ],
   "source": [
    "mts = msprime.sim_mutations(ts, rate=0.01, random_seed=2022, model=msprime.GTR(relative_rates=[1,2,1,2,1,2]))\n",
    "SVG(mts.draw_svg())"
   ]
  },
  {
   "cell_type": "markdown",
   "metadata": {},
   "source": [
    "### Models where the mutations aren't nucleotides"
   ]
  },
  {
   "cell_type": "code",
   "execution_count": 11,
   "metadata": {},
   "outputs": [
    {
     "data": {
      "image/svg+xml": [
       "<svg baseProfile=\"full\" height=\"200\" version=\"1.1\" width=\"400\" xmlns=\"http://www.w3.org/2000/svg\" xmlns:ev=\"http://www.w3.org/2001/xml-events\" xmlns:xlink=\"http://www.w3.org/1999/xlink\"><defs><style type=\"text/css\"><![CDATA[.background path {fill: #808080; fill-opacity: 0}.background path:nth-child(odd) {fill-opacity: .1}.axes {font-size: 14px}.x-axis .tick .lab {font-weight: bold; dominant-baseline: hanging}.axes, .tree {font-size: 14px; text-anchor: middle}.axes line, .edge {stroke: black; fill: none}.y-axis .grid {stroke: #FAFAFA}.node > .sym {fill: black; stroke: none}.site > .sym {stroke: black}.mut text {fill: red; font-style: italic}.mut.extra text {fill: hotpink}.mut line {fill: none; stroke: none}.mut .sym {fill: none; stroke: red}.mut.extra .sym {stroke: hotpink}.node .mut .sym {stroke-width: 1.5px}.tree text, .tree-sequence text {dominant-baseline: central}.plotbox .lab.lft {text-anchor: end}.plotbox .lab.rgt {text-anchor: start}]]></style></defs><g class=\"tree-sequence\"><g class=\"background\"><path d=\"M20,0 l180,0 l0,138.2 l-79.2,25 l0,5 l-100.8,0 l0,-5 l0,-25 l0,-138.2z\"/><path d=\"M200,0 l180,0 l0,138.2 l0,25 l0,5 l-259.2,0 l0,-5 l79.2,-25 l0,-138.2z\"/></g><g class=\"axes\"><g class=\"x-axis\"><g transform=\"translate(200 200)\"><text class=\"lab\" text-anchor=\"middle\" transform=\"translate(0 -11)\">Genome position</text></g><line x1=\"20\" x2=\"380\" y1=\"163.2\" y2=\"163.2\"/><g class=\"ticks\"><g class=\"tick\" transform=\"translate(20 163.2)\"><line x1=\"0\" x2=\"0\" y1=\"0\" y2=\"5\"/><g transform=\"translate(0 6)\"><text class=\"lab\">0</text></g></g><g class=\"tick\" transform=\"translate(120.8 163.2)\"><line x1=\"0\" x2=\"0\" y1=\"0\" y2=\"5\"/><g transform=\"translate(0 6)\"><text class=\"lab\">28</text></g></g><g class=\"tick\" transform=\"translate(380 163.2)\"><line x1=\"0\" x2=\"0\" y1=\"0\" y2=\"5\"/><g transform=\"translate(0 6)\"><text class=\"lab\">100</text></g></g></g><g class=\"site s0\" transform=\"translate(34.4 163.2)\"><line class=\"sym\" x1=\"0\" x2=\"0\" y1=\"0\" y2=\"-10\"/><g class=\"mut m0\"><polyline class=\"sym\" points=\"2.5,-6.5 0,-1.5 -2.5,-6.5\"/></g></g><g class=\"site s1\" transform=\"translate(59.6 163.2)\"><line class=\"sym\" x1=\"0\" x2=\"0\" y1=\"0\" y2=\"-10\"/><g class=\"mut m1\"><polyline class=\"sym\" points=\"2.5,-6.5 0,-1.5 -2.5,-6.5\"/></g></g><g class=\"site s2\" transform=\"translate(92 163.2)\"><line class=\"sym\" x1=\"0\" x2=\"0\" y1=\"0\" y2=\"-10\"/><g class=\"mut m2\"><polyline class=\"sym\" points=\"2.5,-6.5 0,-1.5 -2.5,-6.5\"/></g></g><g class=\"site s3\" transform=\"translate(102.8 163.2)\"><line class=\"sym\" x1=\"0\" x2=\"0\" y1=\"0\" y2=\"-10\"/><g class=\"mut m3\"><polyline class=\"sym\" points=\"2.5,-6.5 0,-1.5 -2.5,-6.5\"/></g></g><g class=\"site s4\" transform=\"translate(153.2 163.2)\"><line class=\"sym\" x1=\"0\" x2=\"0\" y1=\"0\" y2=\"-10\"/><g class=\"mut m4\"><polyline class=\"sym\" points=\"2.5,-6.5 0,-1.5 -2.5,-6.5\"/></g></g><g class=\"site s5\" transform=\"translate(200 163.2)\"><line class=\"sym\" x1=\"0\" x2=\"0\" y1=\"0\" y2=\"-10\"/><g class=\"mut m5\"><polyline class=\"sym\" points=\"2.5,-6.5 0,-1.5 -2.5,-6.5\"/></g></g><g class=\"site s6\" transform=\"translate(225.2 163.2)\"><line class=\"sym\" x1=\"0\" x2=\"0\" y1=\"0\" y2=\"-10\"/><g class=\"mut m6\"><polyline class=\"sym\" points=\"2.5,-6.5 0,-1.5 -2.5,-6.5\"/></g></g><g class=\"site s7\" transform=\"translate(246.8 163.2)\"><line class=\"sym\" x1=\"0\" x2=\"0\" y1=\"0\" y2=\"-10\"/><g class=\"mut m7\"><polyline class=\"sym\" points=\"2.5,-6.5 0,-1.5 -2.5,-6.5\"/></g></g><g class=\"site s8\" transform=\"translate(286.4 163.2)\"><line class=\"sym\" x1=\"0\" x2=\"0\" y1=\"0\" y2=\"-10\"/><g class=\"mut m8\"><polyline class=\"sym\" points=\"2.5,-6.5 0,-1.5 -2.5,-6.5\"/></g></g><g class=\"site s9\" transform=\"translate(333.2 163.2)\"><line class=\"sym\" x1=\"0\" x2=\"0\" y1=\"0\" y2=\"-10\"/><g class=\"mut m9\"><polyline class=\"sym\" points=\"2.5,-6.5 0,-1.5 -2.5,-6.5\"/></g></g></g></g><g class=\"plotbox trees\"><g class=\"tree t0\" transform=\"translate(20 0)\"><g class=\"plotbox\"><g class=\"c2 node n7 p0 root\" transform=\"translate(90 26.8)\"><g class=\"a7 c2 node n4 p0\" transform=\"translate(35 63.424)\"><g class=\"a4 i0 leaf node n1 p0 sample\" transform=\"translate(-17.5 31.176)\"><path class=\"edge\" d=\"M 0 0 V -31.176 H 17.5\"/><rect class=\"sym\" height=\"6\" width=\"6\" x=\"-3\" y=\"-3\"/><text class=\"lab\" transform=\"translate(0 11)\">1</text></g><g class=\"a4 i1 leaf m0 m1 node n2 p0 s0 s1 sample\" transform=\"translate(17.5 31.176)\"><path class=\"edge\" d=\"M 0 0 V -31.176 H -17.5\"/><g class=\"mut m1 s1\" transform=\"translate(0 -7.95954)\"><line x1=\"0\" x2=\"0\" y1=\"0\" y2=\"7.95954\"/><path class=\"sym\" d=\"M -3,-3 l 6,6 M -3,3 l 6,-6\"/><text class=\"lab rgt\" transform=\"translate(5 0)\">1</text></g><g class=\"mut m0 s0\" transform=\"translate(0 -5.57527)\"><line x1=\"0\" x2=\"0\" y1=\"0\" y2=\"5.57527\"/><path class=\"sym\" d=\"M -3,-3 l 6,6 M -3,3 l 6,-6\"/><text class=\"lab rgt\" transform=\"translate(5 0)\">0</text></g><rect class=\"sym\" height=\"6\" width=\"6\" x=\"-3\" y=\"-3\"/><text class=\"lab\" transform=\"translate(0 11)\">2</text></g><path class=\"edge\" d=\"M 0 0 V -63.424 H -35\"/><circle class=\"sym\" cx=\"0\" cy=\"0\" r=\"3\"/><text class=\"lab rgt\" transform=\"translate(3 -7.0)\">4</text></g><g class=\"a7 c2 node n6 p0\" transform=\"translate(-35 50.2832)\"><g class=\"a6 i0 leaf m2 node n0 p0 s2 sample\" transform=\"translate(-17.5 44.3168)\"><path class=\"edge\" d=\"M 0 0 V -44.3168 H 17.5\"/><g class=\"mut m2 s2\" transform=\"translate(0 -34.2978)\"><line x1=\"0\" x2=\"0\" y1=\"0\" y2=\"34.2978\"/><path class=\"sym\" d=\"M -3,-3 l 6,6 M -3,3 l 6,-6\"/><text class=\"lab lft\" transform=\"translate(-5 0)\">2</text></g><rect class=\"sym\" height=\"6\" width=\"6\" x=\"-3\" y=\"-3\"/><text class=\"lab\" transform=\"translate(0 11)\">0</text></g><g class=\"a6 i1 leaf m3 node n3 p0 s3 sample\" transform=\"translate(17.5 44.3168)\"><path class=\"edge\" d=\"M 0 0 V -44.3168 H -17.5\"/><g class=\"mut m3 s3\" transform=\"translate(0 -42.6598)\"><line x1=\"0\" x2=\"0\" y1=\"0\" y2=\"42.6598\"/><path class=\"sym\" d=\"M -3,-3 l 6,6 M -3,3 l 6,-6\"/><text class=\"lab rgt\" transform=\"translate(5 0)\">3</text></g><rect class=\"sym\" height=\"6\" width=\"6\" x=\"-3\" y=\"-3\"/><text class=\"lab\" transform=\"translate(0 11)\">3</text></g><path class=\"edge\" d=\"M 0 0 V -50.2832 H 35\"/><circle class=\"sym\" cx=\"0\" cy=\"0\" r=\"3\"/><text class=\"lab lft\" transform=\"translate(-3 -7.0)\">6</text></g><circle class=\"sym\" cx=\"0\" cy=\"0\" r=\"3\"/><text class=\"lab\" transform=\"translate(0 -11)\">7</text></g></g></g><g class=\"tree t1\" transform=\"translate(200 0)\"><g class=\"plotbox\"><g class=\"c2 node n7 p0 root\" transform=\"translate(76.875 26.8)\"><g class=\"a7 i0 leaf m4 m5 m6 m9 node n0 p0 s4 s5 s6 s9 sample\" transform=\"translate(-39.375 94.6)\"><path class=\"edge\" d=\"M 0 0 V -94.6 H 39.375\"/><g class=\"mut m9 s9\" transform=\"translate(0 -92.4743)\"><line x1=\"0\" x2=\"0\" y1=\"0\" y2=\"92.4743\"/><path class=\"sym\" d=\"M -3,-3 l 6,6 M -3,3 l 6,-6\"/><text class=\"lab lft\" transform=\"translate(-5 0)\">9</text></g><g class=\"mut m5 s5\" transform=\"translate(0 -58.598)\"><line x1=\"0\" x2=\"0\" y1=\"0\" y2=\"58.598\"/><path class=\"sym\" d=\"M -3,-3 l 6,6 M -3,3 l 6,-6\"/><text class=\"lab lft\" transform=\"translate(-5 0)\">5</text></g><g class=\"mut m4 s4\" transform=\"translate(0 -46.8116)\"><line x1=\"0\" x2=\"0\" y1=\"0\" y2=\"46.8116\"/><path class=\"sym\" d=\"M -3,-3 l 6,6 M -3,3 l 6,-6\"/><text class=\"lab lft\" transform=\"translate(-5 0)\">4</text></g><g class=\"mut m6 s6\" transform=\"translate(0 -32.1176)\"><line x1=\"0\" x2=\"0\" y1=\"0\" y2=\"32.1176\"/><path class=\"sym\" d=\"M -3,-3 l 6,6 M -3,3 l 6,-6\"/><text class=\"lab lft\" transform=\"translate(-5 0)\">6</text></g><rect class=\"sym\" height=\"6\" width=\"6\" x=\"-3\" y=\"-3\"/><text class=\"lab\" transform=\"translate(0 11)\">0</text></g><g class=\"a7 c2 node n5 p0\" transform=\"translate(39.375 56.6012)\"><g class=\"a5 i1 leaf m7 node n3 p0 s7 sample\" transform=\"translate(26.25 37.9988)\"><path class=\"edge\" d=\"M 0 0 V -37.9988 H -26.25\"/><g class=\"mut m7 s7\" transform=\"translate(0 -3.00283)\"><line x1=\"0\" x2=\"0\" y1=\"0\" y2=\"3.00283\"/><path class=\"sym\" d=\"M -3,-3 l 6,6 M -3,3 l 6,-6\"/><text class=\"lab rgt\" transform=\"translate(5 0)\">7</text></g><rect class=\"sym\" height=\"6\" width=\"6\" x=\"-3\" y=\"-3\"/><text class=\"lab\" transform=\"translate(0 11)\">3</text></g><g class=\"a5 c2 m8 node n4 p0 s8\" transform=\"translate(-26.25 6.82282)\"><g class=\"a4 i0 leaf node n1 p0 sample\" transform=\"translate(-17.5 31.176)\"><path class=\"edge\" d=\"M 0 0 V -31.176 H 17.5\"/><rect class=\"sym\" height=\"6\" width=\"6\" x=\"-3\" y=\"-3\"/><text class=\"lab\" transform=\"translate(0 11)\">1</text></g><g class=\"a4 i1 leaf node n2 p0 sample\" transform=\"translate(17.5 31.176)\"><path class=\"edge\" d=\"M 0 0 V -31.176 H -17.5\"/><rect class=\"sym\" height=\"6\" width=\"6\" x=\"-3\" y=\"-3\"/><text class=\"lab\" transform=\"translate(0 11)\">2</text></g><path class=\"edge\" d=\"M 0 0 V -6.82282 H 26.25\"/><g class=\"mut m8 s8\" transform=\"translate(0 -6.30467)\"><line x1=\"0\" x2=\"0\" y1=\"0\" y2=\"6.30467\"/><path class=\"sym\" d=\"M -3,-3 l 6,6 M -3,3 l 6,-6\"/><text class=\"lab lft\" transform=\"translate(-5 0)\">8</text></g><circle class=\"sym\" cx=\"0\" cy=\"0\" r=\"3\"/><text class=\"lab lft\" transform=\"translate(-3 -7.0)\">4</text></g><path class=\"edge\" d=\"M 0 0 V -56.6012 H -39.375\"/><circle class=\"sym\" cx=\"0\" cy=\"0\" r=\"3\"/><text class=\"lab rgt\" transform=\"translate(3 -7.0)\">5</text></g><circle class=\"sym\" cx=\"0\" cy=\"0\" r=\"3\"/><text class=\"lab\" transform=\"translate(0 -11)\">7</text></g></g></g></g></g></svg>"
      ],
      "text/plain": [
       "<IPython.core.display.SVG object>"
      ]
     },
     "execution_count": 11,
     "metadata": {},
     "output_type": "execute_result"
    }
   ],
   "source": [
    "mts = msprime.sim_mutations(ts, rate=0.01, random_seed=2022,\n",
    "                            model=msprime.PAM())\n",
    "SVG(mts.draw_svg())"
   ]
  },
  {
   "cell_type": "code",
   "execution_count": 12,
   "metadata": {},
   "outputs": [
    {
     "name": "stdout",
     "output_type": "stream",
     "text": [
      "4.0\t('P', 'T')\t[0 0 1 0]\n",
      "11.0\t('E', 'G')\t[0 0 1 0]\n",
      "20.0\t('E', 'A')\t[1 0 0 0]\n",
      "23.0\t('P', 'S')\t[0 0 0 1]\n",
      "37.0\t('A',)\t[0 0 0 0]\n",
      "50.0\t('L',)\t[0 0 0 0]\n",
      "57.0\t('T', 'K')\t[1 0 0 0]\n",
      "63.0\t('G',)\t[0 0 0 0]\n",
      "74.0\t('D', 'S')\t[0 1 1 0]\n",
      "87.0\t('I', 'K')\t[1 0 0 0]\n"
     ]
    }
   ],
   "source": [
    "for var in mts.variants():\n",
    "    print(var.site.position, var.alleles, var.genotypes, sep=\"\\t\")"
   ]
  },
  {
   "cell_type": "code",
   "execution_count": 13,
   "metadata": {},
   "outputs": [
    {
     "data": {
      "image/svg+xml": [
       "<svg baseProfile=\"full\" height=\"200\" version=\"1.1\" width=\"400\" xmlns=\"http://www.w3.org/2000/svg\" xmlns:ev=\"http://www.w3.org/2001/xml-events\" xmlns:xlink=\"http://www.w3.org/1999/xlink\"><defs><style type=\"text/css\"><![CDATA[.background path {fill: #808080; fill-opacity: 0}.background path:nth-child(odd) {fill-opacity: .1}.axes {font-size: 14px}.x-axis .tick .lab {font-weight: bold; dominant-baseline: hanging}.axes, .tree {font-size: 14px; text-anchor: middle}.axes line, .edge {stroke: black; fill: none}.y-axis .grid {stroke: #FAFAFA}.node > .sym {fill: black; stroke: none}.site > .sym {stroke: black}.mut text {fill: red; font-style: italic}.mut.extra text {fill: hotpink}.mut line {fill: none; stroke: none}.mut .sym {fill: none; stroke: red}.mut.extra .sym {stroke: hotpink}.node .mut .sym {stroke-width: 1.5px}.tree text, .tree-sequence text {dominant-baseline: central}.plotbox .lab.lft {text-anchor: end}.plotbox .lab.rgt {text-anchor: start}]]></style></defs><g class=\"tree-sequence\"><g class=\"background\"><path d=\"M20,0 l180,0 l0,138.2 l-79.2,25 l0,5 l-100.8,0 l0,-5 l0,-25 l0,-138.2z\"/><path d=\"M200,0 l180,0 l0,138.2 l0,25 l0,5 l-259.2,0 l0,-5 l79.2,-25 l0,-138.2z\"/></g><g class=\"axes\"><g class=\"x-axis\"><g transform=\"translate(200 200)\"><text class=\"lab\" text-anchor=\"middle\" transform=\"translate(0 -11)\">Genome position</text></g><line x1=\"20\" x2=\"380\" y1=\"163.2\" y2=\"163.2\"/><g class=\"ticks\"><g class=\"tick\" transform=\"translate(20 163.2)\"><line x1=\"0\" x2=\"0\" y1=\"0\" y2=\"5\"/><g transform=\"translate(0 6)\"><text class=\"lab\">0</text></g></g><g class=\"tick\" transform=\"translate(120.8 163.2)\"><line x1=\"0\" x2=\"0\" y1=\"0\" y2=\"5\"/><g transform=\"translate(0 6)\"><text class=\"lab\">28</text></g></g><g class=\"tick\" transform=\"translate(380 163.2)\"><line x1=\"0\" x2=\"0\" y1=\"0\" y2=\"5\"/><g transform=\"translate(0 6)\"><text class=\"lab\">100</text></g></g></g><g class=\"site s0\" transform=\"translate(34.4 163.2)\"><line class=\"sym\" x1=\"0\" x2=\"0\" y1=\"0\" y2=\"-10\"/><g class=\"mut m0\"><polyline class=\"sym\" points=\"2.5,-6.5 0,-1.5 -2.5,-6.5\"/></g></g><g class=\"site s1\" transform=\"translate(59.6 163.2)\"><line class=\"sym\" x1=\"0\" x2=\"0\" y1=\"0\" y2=\"-10\"/><g class=\"mut m1\"><polyline class=\"sym\" points=\"2.5,-6.5 0,-1.5 -2.5,-6.5\"/></g></g><g class=\"site s2\" transform=\"translate(92 163.2)\"><line class=\"sym\" x1=\"0\" x2=\"0\" y1=\"0\" y2=\"-10\"/><g class=\"mut m2\"><polyline class=\"sym\" points=\"2.5,-6.5 0,-1.5 -2.5,-6.5\"/></g></g><g class=\"site s3\" transform=\"translate(102.8 163.2)\"><line class=\"sym\" x1=\"0\" x2=\"0\" y1=\"0\" y2=\"-10\"/><g class=\"mut m3\"><polyline class=\"sym\" points=\"2.5,-6.5 0,-1.5 -2.5,-6.5\"/></g></g><g class=\"site s4\" transform=\"translate(153.2 163.2)\"><line class=\"sym\" x1=\"0\" x2=\"0\" y1=\"0\" y2=\"-10\"/><g class=\"mut m4\"><polyline class=\"sym\" points=\"2.5,-6.5 0,-1.5 -2.5,-6.5\"/></g></g><g class=\"site s5\" transform=\"translate(200 163.2)\"><line class=\"sym\" x1=\"0\" x2=\"0\" y1=\"0\" y2=\"-10\"/><g class=\"mut m5\"><polyline class=\"sym\" points=\"2.5,-6.5 0,-1.5 -2.5,-6.5\"/></g></g><g class=\"site s6\" transform=\"translate(225.2 163.2)\"><line class=\"sym\" x1=\"0\" x2=\"0\" y1=\"0\" y2=\"-10\"/><g class=\"mut m6\"><polyline class=\"sym\" points=\"2.5,-6.5 0,-1.5 -2.5,-6.5\"/></g></g><g class=\"site s7\" transform=\"translate(246.8 163.2)\"><line class=\"sym\" x1=\"0\" x2=\"0\" y1=\"0\" y2=\"-10\"/><g class=\"mut m7\"><polyline class=\"sym\" points=\"2.5,-6.5 0,-1.5 -2.5,-6.5\"/></g></g><g class=\"site s8\" transform=\"translate(286.4 163.2)\"><line class=\"sym\" x1=\"0\" x2=\"0\" y1=\"0\" y2=\"-10\"/><g class=\"mut m8\"><polyline class=\"sym\" points=\"2.5,-6.5 0,-1.5 -2.5,-6.5\"/></g></g><g class=\"site s9\" transform=\"translate(333.2 163.2)\"><line class=\"sym\" x1=\"0\" x2=\"0\" y1=\"0\" y2=\"-10\"/><g class=\"mut m9\"><polyline class=\"sym\" points=\"2.5,-6.5 0,-1.5 -2.5,-6.5\"/></g></g></g></g><g class=\"plotbox trees\"><g class=\"tree t0\" transform=\"translate(20 0)\"><g class=\"plotbox\"><g class=\"c2 node n7 p0 root\" transform=\"translate(90 26.8)\"><g class=\"a7 c2 node n4 p0\" transform=\"translate(35 63.424)\"><g class=\"a4 i0 leaf node n1 p0 sample\" transform=\"translate(-17.5 31.176)\"><path class=\"edge\" d=\"M 0 0 V -31.176 H 17.5\"/><rect class=\"sym\" height=\"6\" width=\"6\" x=\"-3\" y=\"-3\"/><text class=\"lab\" transform=\"translate(0 11)\">1</text></g><g class=\"a4 i1 leaf m0 m1 node n2 p0 s0 s1 sample\" transform=\"translate(17.5 31.176)\"><path class=\"edge\" d=\"M 0 0 V -31.176 H -17.5\"/><g class=\"mut m1 s1\" transform=\"translate(0 -7.95954)\"><line x1=\"0\" x2=\"0\" y1=\"0\" y2=\"7.95954\"/><path class=\"sym\" d=\"M -3,-3 l 6,6 M -3,3 l 6,-6\"/><text class=\"lab rgt\" transform=\"translate(5 0)\">1</text></g><g class=\"mut m0 s0\" transform=\"translate(0 -5.57527)\"><line x1=\"0\" x2=\"0\" y1=\"0\" y2=\"5.57527\"/><path class=\"sym\" d=\"M -3,-3 l 6,6 M -3,3 l 6,-6\"/><text class=\"lab rgt\" transform=\"translate(5 0)\">0</text></g><rect class=\"sym\" height=\"6\" width=\"6\" x=\"-3\" y=\"-3\"/><text class=\"lab\" transform=\"translate(0 11)\">2</text></g><path class=\"edge\" d=\"M 0 0 V -63.424 H -35\"/><circle class=\"sym\" cx=\"0\" cy=\"0\" r=\"3\"/><text class=\"lab rgt\" transform=\"translate(3 -7.0)\">4</text></g><g class=\"a7 c2 node n6 p0\" transform=\"translate(-35 50.2832)\"><g class=\"a6 i0 leaf m2 node n0 p0 s2 sample\" transform=\"translate(-17.5 44.3168)\"><path class=\"edge\" d=\"M 0 0 V -44.3168 H 17.5\"/><g class=\"mut m2 s2\" transform=\"translate(0 -34.2978)\"><line x1=\"0\" x2=\"0\" y1=\"0\" y2=\"34.2978\"/><path class=\"sym\" d=\"M -3,-3 l 6,6 M -3,3 l 6,-6\"/><text class=\"lab lft\" transform=\"translate(-5 0)\">2</text></g><rect class=\"sym\" height=\"6\" width=\"6\" x=\"-3\" y=\"-3\"/><text class=\"lab\" transform=\"translate(0 11)\">0</text></g><g class=\"a6 i1 leaf m3 node n3 p0 s3 sample\" transform=\"translate(17.5 44.3168)\"><path class=\"edge\" d=\"M 0 0 V -44.3168 H -17.5\"/><g class=\"mut m3 s3\" transform=\"translate(0 -42.6598)\"><line x1=\"0\" x2=\"0\" y1=\"0\" y2=\"42.6598\"/><path class=\"sym\" d=\"M -3,-3 l 6,6 M -3,3 l 6,-6\"/><text class=\"lab rgt\" transform=\"translate(5 0)\">3</text></g><rect class=\"sym\" height=\"6\" width=\"6\" x=\"-3\" y=\"-3\"/><text class=\"lab\" transform=\"translate(0 11)\">3</text></g><path class=\"edge\" d=\"M 0 0 V -50.2832 H 35\"/><circle class=\"sym\" cx=\"0\" cy=\"0\" r=\"3\"/><text class=\"lab lft\" transform=\"translate(-3 -7.0)\">6</text></g><circle class=\"sym\" cx=\"0\" cy=\"0\" r=\"3\"/><text class=\"lab\" transform=\"translate(0 -11)\">7</text></g></g></g><g class=\"tree t1\" transform=\"translate(200 0)\"><g class=\"plotbox\"><g class=\"c2 node n7 p0 root\" transform=\"translate(76.875 26.8)\"><g class=\"a7 i0 leaf m4 m5 m6 m9 node n0 p0 s4 s5 s6 s9 sample\" transform=\"translate(-39.375 94.6)\"><path class=\"edge\" d=\"M 0 0 V -94.6 H 39.375\"/><g class=\"mut m9 s9\" transform=\"translate(0 -92.4743)\"><line x1=\"0\" x2=\"0\" y1=\"0\" y2=\"92.4743\"/><path class=\"sym\" d=\"M -3,-3 l 6,6 M -3,3 l 6,-6\"/><text class=\"lab lft\" transform=\"translate(-5 0)\">9</text></g><g class=\"mut m5 s5\" transform=\"translate(0 -58.598)\"><line x1=\"0\" x2=\"0\" y1=\"0\" y2=\"58.598\"/><path class=\"sym\" d=\"M -3,-3 l 6,6 M -3,3 l 6,-6\"/><text class=\"lab lft\" transform=\"translate(-5 0)\">5</text></g><g class=\"mut m4 s4\" transform=\"translate(0 -46.8116)\"><line x1=\"0\" x2=\"0\" y1=\"0\" y2=\"46.8116\"/><path class=\"sym\" d=\"M -3,-3 l 6,6 M -3,3 l 6,-6\"/><text class=\"lab lft\" transform=\"translate(-5 0)\">4</text></g><g class=\"mut m6 s6\" transform=\"translate(0 -32.1176)\"><line x1=\"0\" x2=\"0\" y1=\"0\" y2=\"32.1176\"/><path class=\"sym\" d=\"M -3,-3 l 6,6 M -3,3 l 6,-6\"/><text class=\"lab lft\" transform=\"translate(-5 0)\">6</text></g><rect class=\"sym\" height=\"6\" width=\"6\" x=\"-3\" y=\"-3\"/><text class=\"lab\" transform=\"translate(0 11)\">0</text></g><g class=\"a7 c2 node n5 p0\" transform=\"translate(39.375 56.6012)\"><g class=\"a5 i1 leaf m7 node n3 p0 s7 sample\" transform=\"translate(26.25 37.9988)\"><path class=\"edge\" d=\"M 0 0 V -37.9988 H -26.25\"/><g class=\"mut m7 s7\" transform=\"translate(0 -3.00283)\"><line x1=\"0\" x2=\"0\" y1=\"0\" y2=\"3.00283\"/><path class=\"sym\" d=\"M -3,-3 l 6,6 M -3,3 l 6,-6\"/><text class=\"lab rgt\" transform=\"translate(5 0)\">7</text></g><rect class=\"sym\" height=\"6\" width=\"6\" x=\"-3\" y=\"-3\"/><text class=\"lab\" transform=\"translate(0 11)\">3</text></g><g class=\"a5 c2 m8 node n4 p0 s8\" transform=\"translate(-26.25 6.82282)\"><g class=\"a4 i0 leaf node n1 p0 sample\" transform=\"translate(-17.5 31.176)\"><path class=\"edge\" d=\"M 0 0 V -31.176 H 17.5\"/><rect class=\"sym\" height=\"6\" width=\"6\" x=\"-3\" y=\"-3\"/><text class=\"lab\" transform=\"translate(0 11)\">1</text></g><g class=\"a4 i1 leaf node n2 p0 sample\" transform=\"translate(17.5 31.176)\"><path class=\"edge\" d=\"M 0 0 V -31.176 H -17.5\"/><rect class=\"sym\" height=\"6\" width=\"6\" x=\"-3\" y=\"-3\"/><text class=\"lab\" transform=\"translate(0 11)\">2</text></g><path class=\"edge\" d=\"M 0 0 V -6.82282 H 26.25\"/><g class=\"mut m8 s8\" transform=\"translate(0 -6.30467)\"><line x1=\"0\" x2=\"0\" y1=\"0\" y2=\"6.30467\"/><path class=\"sym\" d=\"M -3,-3 l 6,6 M -3,3 l 6,-6\"/><text class=\"lab lft\" transform=\"translate(-5 0)\">8</text></g><circle class=\"sym\" cx=\"0\" cy=\"0\" r=\"3\"/><text class=\"lab lft\" transform=\"translate(-3 -7.0)\">4</text></g><path class=\"edge\" d=\"M 0 0 V -56.6012 H -39.375\"/><circle class=\"sym\" cx=\"0\" cy=\"0\" r=\"3\"/><text class=\"lab rgt\" transform=\"translate(3 -7.0)\">5</text></g><circle class=\"sym\" cx=\"0\" cy=\"0\" r=\"3\"/><text class=\"lab\" transform=\"translate(0 -11)\">7</text></g></g></g></g></g></svg>"
      ],
      "text/plain": [
       "<IPython.core.display.SVG object>"
      ]
     },
     "execution_count": 13,
     "metadata": {},
     "output_type": "execute_result"
    }
   ],
   "source": [
    "mts = msprime.sim_mutations(ts, rate=0.01, random_seed=2022,\n",
    "                            model=msprime.InfiniteAlleles())\n",
    "SVG(mts.draw_svg())"
   ]
  },
  {
   "cell_type": "markdown",
   "metadata": {},
   "source": [
    "'mutation flags', are they a thing?\n",
    "\n",
    "mention the SLiM mutation model, for anyone using SLiM"
   ]
  },
  {
   "cell_type": "markdown",
   "metadata": {},
   "source": [
    "### Make-your-own mutation model!"
   ]
  },
  {
   "cell_type": "code",
   "execution_count": 17,
   "metadata": {},
   "outputs": [
    {
     "data": {
      "image/svg+xml": [
       "<svg baseProfile=\"full\" height=\"200\" version=\"1.1\" width=\"400\" xmlns=\"http://www.w3.org/2000/svg\" xmlns:ev=\"http://www.w3.org/2001/xml-events\" xmlns:xlink=\"http://www.w3.org/1999/xlink\"><defs><style type=\"text/css\"><![CDATA[.background path {fill: #808080; fill-opacity: 0}.background path:nth-child(odd) {fill-opacity: .1}.axes {font-size: 14px}.x-axis .tick .lab {font-weight: bold; dominant-baseline: hanging}.axes, .tree {font-size: 14px; text-anchor: middle}.axes line, .edge {stroke: black; fill: none}.y-axis .grid {stroke: #FAFAFA}.node > .sym {fill: black; stroke: none}.site > .sym {stroke: black}.mut text {fill: red; font-style: italic}.mut.extra text {fill: hotpink}.mut line {fill: none; stroke: none}.mut .sym {fill: none; stroke: red}.mut.extra .sym {stroke: hotpink}.node .mut .sym {stroke-width: 1.5px}.tree text, .tree-sequence text {dominant-baseline: central}.plotbox .lab.lft {text-anchor: end}.plotbox .lab.rgt {text-anchor: start}]]></style></defs><g class=\"tree-sequence\"><g class=\"background\"><path d=\"M20,0 l180,0 l0,138.2 l-79.2,25 l0,5 l-100.8,0 l0,-5 l0,-25 l0,-138.2z\"/><path d=\"M200,0 l180,0 l0,138.2 l0,25 l0,5 l-259.2,0 l0,-5 l79.2,-25 l0,-138.2z\"/></g><g class=\"axes\"><g class=\"x-axis\"><g transform=\"translate(200 200)\"><text class=\"lab\" text-anchor=\"middle\" transform=\"translate(0 -11)\">Genome position</text></g><line x1=\"20\" x2=\"380\" y1=\"163.2\" y2=\"163.2\"/><g class=\"ticks\"><g class=\"tick\" transform=\"translate(20 163.2)\"><line x1=\"0\" x2=\"0\" y1=\"0\" y2=\"5\"/><g transform=\"translate(0 6)\"><text class=\"lab\">0</text></g></g><g class=\"tick\" transform=\"translate(120.8 163.2)\"><line x1=\"0\" x2=\"0\" y1=\"0\" y2=\"5\"/><g transform=\"translate(0 6)\"><text class=\"lab\">28</text></g></g><g class=\"tick\" transform=\"translate(380 163.2)\"><line x1=\"0\" x2=\"0\" y1=\"0\" y2=\"5\"/><g transform=\"translate(0 6)\"><text class=\"lab\">100</text></g></g></g><g class=\"site s0\" transform=\"translate(59.6 163.2)\"><line class=\"sym\" x1=\"0\" x2=\"0\" y1=\"0\" y2=\"-10\"/><g class=\"mut m0\"><polyline class=\"sym\" points=\"2.5,-6.5 0,-1.5 -2.5,-6.5\"/></g></g><g class=\"site s1\" transform=\"translate(63.2 163.2)\"><line class=\"sym\" x1=\"0\" x2=\"0\" y1=\"0\" y2=\"-10\"/><g class=\"mut m1\"><polyline class=\"sym\" points=\"2.5,-6.5 0,-1.5 -2.5,-6.5\"/></g></g><g class=\"site s2\" transform=\"translate(102.8 163.2)\"><line class=\"sym\" x1=\"0\" x2=\"0\" y1=\"0\" y2=\"-10\"/><g class=\"mut m2\"><polyline class=\"sym\" points=\"2.5,-6.5 0,-1.5 -2.5,-6.5\"/></g></g><g class=\"site s3\" transform=\"translate(124.4 163.2)\"><line class=\"sym\" x1=\"0\" x2=\"0\" y1=\"0\" y2=\"-10\"/><g class=\"mut m3\"><polyline class=\"sym\" points=\"2.5,-6.5 0,-1.5 -2.5,-6.5\"/></g></g><g class=\"site s4\" transform=\"translate(200 163.2)\"><line class=\"sym\" x1=\"0\" x2=\"0\" y1=\"0\" y2=\"-10\"/><g class=\"mut m4\"><polyline class=\"sym\" points=\"2.5,-6.5 0,-1.5 -2.5,-6.5\"/></g></g><g class=\"site s5\" transform=\"translate(254 163.2)\"><line class=\"sym\" x1=\"0\" x2=\"0\" y1=\"0\" y2=\"-10\"/><g class=\"mut m5\"><polyline class=\"sym\" points=\"2.5,-6.5 0,-1.5 -2.5,-6.5\"/></g></g><g class=\"site s6\" transform=\"translate(336.8 163.2)\"><line class=\"sym\" x1=\"0\" x2=\"0\" y1=\"0\" y2=\"-10\"/><g class=\"mut m6\"><polyline class=\"sym\" points=\"2.5,-6.5 0,-1.5 -2.5,-6.5\"/></g></g><g class=\"site s7\" transform=\"translate(354.8 163.2)\"><line class=\"sym\" x1=\"0\" x2=\"0\" y1=\"0\" y2=\"-10\"/><g class=\"mut m7\"><polyline class=\"sym\" points=\"2.5,-6.5 0,-1.5 -2.5,-6.5\"/></g></g></g></g><g class=\"plotbox trees\"><g class=\"tree t0\" transform=\"translate(20 0)\"><g class=\"plotbox\"><g class=\"c2 node n7 p0 root\" transform=\"translate(90 26.8)\"><g class=\"a7 c2 node n4 p0\" transform=\"translate(35 63.424)\"><g class=\"a4 i0 leaf m1 node n1 p0 s1 sample\" transform=\"translate(-17.5 31.176)\"><path class=\"edge\" d=\"M 0 0 V -31.176 H 17.5\"/><g class=\"mut m1 s1\" transform=\"translate(0 -9.42552)\"><line x1=\"0\" x2=\"0\" y1=\"0\" y2=\"9.42552\"/><path class=\"sym\" d=\"M -3,-3 l 6,6 M -3,3 l 6,-6\"/><text class=\"lab lft\" transform=\"translate(-5 0)\">1</text></g><rect class=\"sym\" height=\"6\" width=\"6\" x=\"-3\" y=\"-3\"/><text class=\"lab\" transform=\"translate(0 11)\">1</text></g><g class=\"a4 i1 leaf m2 node n2 p0 s2 sample\" transform=\"translate(17.5 31.176)\"><path class=\"edge\" d=\"M 0 0 V -31.176 H -17.5\"/><g class=\"mut m2 s2\" transform=\"translate(0 -2.87875)\"><line x1=\"0\" x2=\"0\" y1=\"0\" y2=\"2.87875\"/><path class=\"sym\" d=\"M -3,-3 l 6,6 M -3,3 l 6,-6\"/><text class=\"lab rgt\" transform=\"translate(5 0)\">2</text></g><rect class=\"sym\" height=\"6\" width=\"6\" x=\"-3\" y=\"-3\"/><text class=\"lab\" transform=\"translate(0 11)\">2</text></g><path class=\"edge\" d=\"M 0 0 V -63.424 H -35\"/><circle class=\"sym\" cx=\"0\" cy=\"0\" r=\"3\"/><text class=\"lab rgt\" transform=\"translate(3 -7.0)\">4</text></g><g class=\"a7 c2 m0 node n6 p0 s0\" transform=\"translate(-35 50.2832)\"><g class=\"a6 i0 leaf node n0 p0 sample\" transform=\"translate(-17.5 44.3168)\"><path class=\"edge\" d=\"M 0 0 V -44.3168 H 17.5\"/><rect class=\"sym\" height=\"6\" width=\"6\" x=\"-3\" y=\"-3\"/><text class=\"lab\" transform=\"translate(0 11)\">0</text></g><g class=\"a6 i1 leaf node n3 p0 sample\" transform=\"translate(17.5 44.3168)\"><path class=\"edge\" d=\"M 0 0 V -44.3168 H -17.5\"/><rect class=\"sym\" height=\"6\" width=\"6\" x=\"-3\" y=\"-3\"/><text class=\"lab\" transform=\"translate(0 11)\">3</text></g><path class=\"edge\" d=\"M 0 0 V -50.2832 H 35\"/><g class=\"mut m0 s0\" transform=\"translate(0 -22.9897)\"><line x1=\"0\" x2=\"0\" y1=\"0\" y2=\"22.9897\"/><path class=\"sym\" d=\"M -3,-3 l 6,6 M -3,3 l 6,-6\"/><text class=\"lab lft\" transform=\"translate(-5 0)\">0</text></g><circle class=\"sym\" cx=\"0\" cy=\"0\" r=\"3\"/><text class=\"lab lft\" transform=\"translate(-3 -7.0)\">6</text></g><circle class=\"sym\" cx=\"0\" cy=\"0\" r=\"3\"/><text class=\"lab\" transform=\"translate(0 -11)\">7</text></g></g></g><g class=\"tree t1\" transform=\"translate(200 0)\"><g class=\"plotbox\"><g class=\"c2 node n7 p0 root\" transform=\"translate(76.875 26.8)\"><g class=\"a7 i0 leaf m4 m5 m6 node n0 p0 s4 s5 s6 sample\" transform=\"translate(-39.375 94.6)\"><path class=\"edge\" d=\"M 0 0 V -94.6 H 39.375\"/><g class=\"mut m4 s4\" transform=\"translate(0 -64.8218)\"><line x1=\"0\" x2=\"0\" y1=\"0\" y2=\"64.8218\"/><path class=\"sym\" d=\"M -3,-3 l 6,6 M -3,3 l 6,-6\"/><text class=\"lab lft\" transform=\"translate(-5 0)\">4</text></g><g class=\"mut m6 s6\" transform=\"translate(0 -39.6558)\"><line x1=\"0\" x2=\"0\" y1=\"0\" y2=\"39.6558\"/><path class=\"sym\" d=\"M -3,-3 l 6,6 M -3,3 l 6,-6\"/><text class=\"lab lft\" transform=\"translate(-5 0)\">6</text></g><g class=\"mut m5 s5\" transform=\"translate(0 -19.3412)\"><line x1=\"0\" x2=\"0\" y1=\"0\" y2=\"19.3412\"/><path class=\"sym\" d=\"M -3,-3 l 6,6 M -3,3 l 6,-6\"/><text class=\"lab lft\" transform=\"translate(-5 0)\">5</text></g><rect class=\"sym\" height=\"6\" width=\"6\" x=\"-3\" y=\"-3\"/><text class=\"lab\" transform=\"translate(0 11)\">0</text></g><g class=\"a7 c2 m3 node n5 p0 s3\" transform=\"translate(39.375 56.6012)\"><g class=\"a5 i1 leaf node n3 p0 sample\" transform=\"translate(26.25 37.9988)\"><path class=\"edge\" d=\"M 0 0 V -37.9988 H -26.25\"/><rect class=\"sym\" height=\"6\" width=\"6\" x=\"-3\" y=\"-3\"/><text class=\"lab\" transform=\"translate(0 11)\">3</text></g><g class=\"a5 c2 node n4 p0\" transform=\"translate(-26.25 6.82282)\"><g class=\"a4 i0 leaf m7 node n1 p0 s7 sample\" transform=\"translate(-17.5 31.176)\"><path class=\"edge\" d=\"M 0 0 V -31.176 H 17.5\"/><g class=\"mut m7 s7\" transform=\"translate(0 -0.00356594)\"><line x1=\"0\" x2=\"0\" y1=\"0\" y2=\"0.00356594\"/><path class=\"sym\" d=\"M -3,-3 l 6,6 M -3,3 l 6,-6\"/><text class=\"lab lft\" transform=\"translate(-5 0)\">7</text></g><rect class=\"sym\" height=\"6\" width=\"6\" x=\"-3\" y=\"-3\"/><text class=\"lab\" transform=\"translate(0 11)\">1</text></g><g class=\"a4 i1 leaf node n2 p0 sample\" transform=\"translate(17.5 31.176)\"><path class=\"edge\" d=\"M 0 0 V -31.176 H -17.5\"/><rect class=\"sym\" height=\"6\" width=\"6\" x=\"-3\" y=\"-3\"/><text class=\"lab\" transform=\"translate(0 11)\">2</text></g><path class=\"edge\" d=\"M 0 0 V -6.82282 H 26.25\"/><circle class=\"sym\" cx=\"0\" cy=\"0\" r=\"3\"/><text class=\"lab lft\" transform=\"translate(-3 -7.0)\">4</text></g><path class=\"edge\" d=\"M 0 0 V -56.6012 H -39.375\"/><g class=\"mut m3 s3\" transform=\"translate(0 -30.2485)\"><line x1=\"0\" x2=\"0\" y1=\"0\" y2=\"30.2485\"/><path class=\"sym\" d=\"M -3,-3 l 6,6 M -3,3 l 6,-6\"/><text class=\"lab rgt\" transform=\"translate(5 0)\">3</text></g><circle class=\"sym\" cx=\"0\" cy=\"0\" r=\"3\"/><text class=\"lab rgt\" transform=\"translate(3 -7.0)\">5</text></g><circle class=\"sym\" cx=\"0\" cy=\"0\" r=\"3\"/><text class=\"lab\" transform=\"translate(0 -11)\">7</text></g></g></g></g></g></svg>"
      ],
      "text/plain": [
       "<IPython.core.display.SVG object>"
      ]
     },
     "execution_count": 17,
     "metadata": {},
     "output_type": "execute_result"
    }
   ],
   "source": [
    "alleles = [\"💩\", \"🎄\", \"🔥\"]\n",
    "model = msprime.MatrixMutationModel(\n",
    "    alleles,\n",
    "    root_distribution = [1.0, 0.0, 0.0],\n",
    "    transition_matrix = [[0.0, 1.0, 0.0],\n",
    "                         [0.0, 0.8, 0.2],\n",
    "                         [1.0, 0.0, 0.0]]\n",
    ")\n",
    "mts = msprime.sim_mutations(ts, rate=0.01, random_seed=1, model=model)\n",
    "SVG(mts.draw_svg())"
   ]
  },
  {
   "cell_type": "markdown",
   "metadata": {},
   "source": [
    "## Variation in mutation rates across the genome, and across the time (sort of)"
   ]
  },
  {
   "cell_type": "code",
   "execution_count": null,
   "metadata": {},
   "outputs": [],
   "source": [
    "# # Install a pip package in the current Jupyter kernel\n",
    "# import sys\n",
    "# !{sys.executable} -m pip install msprime --upgrade"
   ]
  },
  {
   "cell_type": "code",
   "execution_count": null,
   "metadata": {},
   "outputs": [],
   "source": []
  },
  {
   "cell_type": "markdown",
   "metadata": {},
   "source": []
  }
 ],
 "metadata": {
  "kernelspec": {
   "display_name": "Python 3",
   "language": "python",
   "name": "python3"
  },
  "language_info": {
   "codemirror_mode": {
    "name": "ipython",
    "version": 3
   },
   "file_extension": ".py",
   "mimetype": "text/x-python",
   "name": "python",
   "nbconvert_exporter": "python",
   "pygments_lexer": "ipython3",
   "version": "3.7.3"
  }
 },
 "nbformat": 4,
 "nbformat_minor": 4
}
