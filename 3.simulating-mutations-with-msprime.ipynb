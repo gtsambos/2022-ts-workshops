{
 "cells": [
  {
   "cell_type": "code",
   "execution_count": null,
   "metadata": {},
   "outputs": [],
   "source": [
    "import msprime, tskit\n",
    "import numpy as np\n",
    "from IPython.display import SVG\n",
    "msprime.__version__"
   ]
  },
  {
   "cell_type": "markdown",
   "metadata": {},
   "source": [
    "# Simulating mutations with msprime"
   ]
  },
  {
   "cell_type": "markdown",
   "metadata": {},
   "source": [
    " - Brief recap of what we learnt last time\n",
    "\n",
    "First, we need to make it clear that you might not always need to do this.\n",
    "\n",
    "In msprime simulations, the genealogy is created independently of the genetic variation. You simulate the underlying genealogy first, as a set of node and edge tables, and *then* if desired, you simulate mutations to go with that genealogical structure. All of the sequence and variation data in your simulation is simply a consequence of the mutations that you've thrown on top of the trees.\n",
    "\n",
    "(Get a picture of a tree sequence with and without mutations)\n",
    "\n",
    "However, in many situations, the genealogy is *all* you need. \n",
    "\n",
    "Think carefully. Does your application *need* information about alleles and mutations? If not, save yourself (and your computer) some effort.\n",
    "\n",
    "Some examples of analyses that *do not* require this information include:\n",
    " - most analyses of ancestry, including local ancestry, global ancestry and identity-by-descent\n",
    " - most recent common ancestors\n",
    " - genealogical nearest neighbours\n",
    " - ...?\n",
    "\n",
    "In later worksheets we will see some examples of these analyses.\n",
    "\n",
    "But in this worksheet, we're going to focus on how to do mutation simulations, should you need to look at actual genome **sequences**....\n",
    "\n",
    " - 3.1 The basic syntax\n",
    " - 3.2 Mutation models\n",
    " - 3.3 Silent mutations and adjustments\n",
    " - 3.4 Stacked mutations\n",
    " - 3.5 Mutation rate variation\n",
    " - 3.6 Discrete and continuous coordinates\n",
    " - 3.7 Exporting into other formats"
   ]
  },
  {
   "cell_type": "markdown",
   "metadata": {},
   "source": [
    "### A basic tree sequence to work with\n",
    "\n",
    "To emphasise that mutations and genealogy are truly separate in msprime, we will use the same simulated genealogy (ie. node and edge table) in all of the simulations in this worksheet. Everything else we do will just be throwing different sets of mutations on top of these trees, to produce different genomic sequences."
   ]
  },
  {
   "cell_type": "code",
   "execution_count": null,
   "metadata": {},
   "outputs": [],
   "source": [
    "ts = msprime.sim_ancestry(2, sequence_length=100, random_seed=1987, recombination_rate=0.001)\n",
    "SVG(ts.draw_svg())"
   ]
  },
  {
   "cell_type": "code",
   "execution_count": null,
   "metadata": {},
   "outputs": [],
   "source": [
    "ts_big = msprime.sim_ancestry(100, sequence_length=5e7, random_seed=1982, recombination_rate=1e-8)"
   ]
  },
  {
   "cell_type": "markdown",
   "metadata": {},
   "source": [
    "## 3.1 The basic syntax\n",
    "\n",
    "(2.10pm)\n",
    "\n",
    "To simulate mutations, apply the `sim_mutations()` method to an existing tree sequence object.\n",
    "At minimum, you must supply a per-base, per-generation mutation rate."
   ]
  },
  {
   "cell_type": "code",
   "execution_count": null,
   "metadata": {},
   "outputs": [],
   "source": [
    "mts = msprime.sim_mutations(ts, rate=0.01, random_seed=2016)\n",
    "SVG(mts.draw_svg())"
   ]
  },
  {
   "cell_type": "markdown",
   "metadata": {},
   "source": [
    "By default, the mutation are simulated under a discrete *Jukes-Cantor* model, which we'll discuss further later on.\n",
    "The output is yet another tree sequence, but this time with mutations on particular edges of the trees.\n",
    "Under the hood, you'll notice that in addition to the node and edge table that were there before, there are now two new tables in the tree sequence.\n",
    "One is a *mutations table*:"
   ]
  },
  {
   "cell_type": "code",
   "execution_count": null,
   "metadata": {},
   "outputs": [],
   "source": [
    "mts.tables.mutations"
   ]
  },
  {
   "cell_type": "markdown",
   "metadata": {},
   "source": [
    "The other holds information about the sites at which these mutations arose.\n",
    "Notice that some sites have experienced multiple mutations."
   ]
  },
  {
   "cell_type": "code",
   "execution_count": null,
   "metadata": {},
   "outputs": [],
   "source": [
    "mts.tables.sites"
   ]
  },
  {
   "cell_type": "markdown",
   "metadata": {},
   "source": [
    "To view the sequence information, you have a few options. The `variants()` iterator:"
   ]
  },
  {
   "cell_type": "code",
   "execution_count": null,
   "metadata": {},
   "outputs": [],
   "source": [
    "for var in mts.variants():\n",
    "    print(var.site.position, var.alleles, var.genotypes, sep=\"\\t\")"
   ]
  },
  {
   "cell_type": "markdown",
   "metadata": {},
   "source": [
    "To get all alleles at once, can use `genotype_matrix()` (**only** if the tree sequence is small!!)"
   ]
  },
  {
   "cell_type": "code",
   "execution_count": null,
   "metadata": {},
   "outputs": [],
   "source": [
    "mts.genotype_matrix()"
   ]
  },
  {
   "cell_type": "markdown",
   "metadata": {},
   "source": [
    "(Are there other ways? Ask others. Is there a way of getting all variants on a slice of the tree sequence)? VCF option discussed further down."
   ]
  },
  {
   "cell_type": "markdown",
   "metadata": {},
   "source": [
    "## Stacking mutations\n",
    "\n",
    "(2.20pm)\n",
    "\n",
    "Note: you can apply `sim_mutations()` to *any* tree sequence, including one that already has mutations on it. This allows you to 'stack' mutations, which can be useful if you wish to simulate several different types of mutations from different models, over different time periods. \n",
    "There can be complicated statistical consequences of doing this that you need to be aware of and which we'll discuss soon, but for now, just note that it is possible and easy to do this:"
   ]
  },
  {
   "cell_type": "code",
   "execution_count": null,
   "metadata": {},
   "outputs": [],
   "source": [
    "mmts = msprime.sim_mutations(mts, rate=0.01, random_seed=1959)\n",
    "SVG(mmts.draw_svg())"
   ]
  },
  {
   "cell_type": "markdown",
   "metadata": {},
   "source": [
    "Note that the tree sequence above is just the original one (below) with a few new mutations on it."
   ]
  },
  {
   "cell_type": "code",
   "execution_count": null,
   "metadata": {},
   "outputs": [],
   "source": [
    "SVG(mts.draw_svg()) "
   ]
  },
  {
   "cell_type": "markdown",
   "metadata": {},
   "source": [
    "There's also no reason why you can't apply `sim_mutations()` to a tree sequence generated outside of `msprime`. (This may be particularly useful if you want to add neutral mutations to a SLiM-generated dataset)."
   ]
  },
  {
   "cell_type": "markdown",
   "metadata": {},
   "source": [
    "## 3.2 Mutation models\n",
    "\n",
    "(2.25pm)"
   ]
  },
  {
   "cell_type": "markdown",
   "metadata": {},
   "source": [
    "By default, `msprime` invokes a Jukes-Cantor model of nucleotide mutations.\n",
    "Under this model, there is an equal probability of each ancestral state (`A`, `C`, `G`, `T`), and an equal probability of each possible transition between these states (`A<->C`, `A<->G` etc).\n",
    "This is defined in the model's `transition_matrix`:"
   ]
  },
  {
   "cell_type": "code",
   "execution_count": null,
   "metadata": {},
   "outputs": [],
   "source": [
    "msprime.JC69().transition_matrix"
   ]
  },
  {
   "cell_type": "markdown",
   "metadata": {},
   "source": [
    "In our case, we can eyeball all the mutations that has arisen in our simulations"
   ]
  },
  {
   "cell_type": "code",
   "execution_count": null,
   "metadata": {},
   "outputs": [],
   "source": [
    "for var in mts.variants():\n",
    "    print(var.site.position, var.alleles, var.genotypes, sep=\"\\t\")"
   ]
  },
  {
   "cell_type": "markdown",
   "metadata": {},
   "source": [
    "And summarise it like this, with some extra code"
   ]
  },
  {
   "cell_type": "code",
   "execution_count": null,
   "metadata": {},
   "outputs": [],
   "source": [
    "# Can I make the below code a bit more readable?\n",
    "def count_transitions(ts, alleles):\n",
    "    counts = np.zeros((len(alleles), len(alleles)), dtype='int')\n",
    "    for s in ts.sites():\n",
    "        aa = s.ancestral_state\n",
    "        for m in s.mutations:\n",
    "            pa = aa\n",
    "            da = m.derived_state\n",
    "            if m.parent != tskit.NULL:\n",
    "                pa = ts.mutation(m.parent).derived_state\n",
    "            counts[alleles.index(pa), alleles.index(da)] += 1\n",
    "    print(\"\\t\", \"\\t\".join(alleles))\n",
    "    for j, a in enumerate(alleles):\n",
    "        print(f\"{a}\\t\", \"\\t\".join(map(str, counts[j])))\n",
    "        \n",
    "count_transitions(mts, msprime.JC69().alleles)"
   ]
  },
  {
   "cell_type": "markdown",
   "metadata": {},
   "source": [
    "In this case, we have a reasonably small number of mutations, so it's not necessarily obvious that our mutations satisfy the Jukes-Cantor model. This should be clearer looking at a larger dataset:"
   ]
  },
  {
   "cell_type": "code",
   "execution_count": null,
   "metadata": {},
   "outputs": [],
   "source": [
    "mts_big = msprime.sim_mutations(ts_big, rate=0.0001, random_seed=2016)\n",
    "count_transitions(mts_big, msprime.JC69().alleles)"
   ]
  },
  {
   "cell_type": "markdown",
   "metadata": {},
   "source": [
    "What are the other options?"
   ]
  },
  {
   "cell_type": "markdown",
   "metadata": {},
   "source": [
    "### HKY\n",
    "\n",
    "In some situations you'll want nucleotide transitions (`A<->G`), (`C<->T`) (ie. exchanges of bases with a similar shape) to be more likely than nucleotide tranversions (all others).\n",
    "You can do this with the Hasegawa, Kishino & Yano (HKY) model.\n",
    "In addition to a mutation `rate`, which specifies the probability of transversions, you also specify `kappa`, a constant scaling parameter such that the probability of transitions is `kappa` times the probability of transversions."
   ]
  },
  {
   "cell_type": "code",
   "execution_count": null,
   "metadata": {},
   "outputs": [],
   "source": [
    "msprime.HKY(kappa=20).transition_matrix"
   ]
  },
  {
   "cell_type": "markdown",
   "metadata": {},
   "source": [
    "You'll notice that there is now a very small (non-0) probability of *silent mutations* -- transitions from one state to the other. We'll discuss this soon."
   ]
  },
  {
   "cell_type": "code",
   "execution_count": null,
   "metadata": {},
   "outputs": [],
   "source": [
    "mts = msprime.sim_mutations(ts, rate=0.01, random_seed=2022, model=msprime.HKY(kappa=20))\n",
    "SVG(mts.draw_svg())"
   ]
  },
  {
   "cell_type": "markdown",
   "metadata": {},
   "source": [
    "Now, most of the mutations are transitions. (Also, note that the site with multiple mutations now experiences a back mutation)."
   ]
  },
  {
   "cell_type": "code",
   "execution_count": null,
   "metadata": {},
   "outputs": [],
   "source": [
    "for var in mts.variants():\n",
    "    print(var.site.position, var.alleles, var.genotypes, sep=\"\\t\")"
   ]
  },
  {
   "cell_type": "code",
   "execution_count": null,
   "metadata": {},
   "outputs": [],
   "source": [
    "count_transitions(mts, msprime.HKY(kappa=20).alleles)"
   ]
  },
  {
   "cell_type": "markdown",
   "metadata": {},
   "source": [
    "Again, the patterns will be a bit more statistically clear on a larger tree sequence."
   ]
  },
  {
   "cell_type": "code",
   "execution_count": null,
   "metadata": {},
   "outputs": [],
   "source": [
    "mts_big = msprime.sim_mutations(ts_big, rate=0.0001, random_seed=2016, model=msprime.HKY(kappa=20))\n",
    "count_transitions(mts_big, msprime.HKY(kappa=20).alleles)"
   ]
  },
  {
   "cell_type": "markdown",
   "metadata": {},
   "source": [
    "### GTR\n",
    "\n",
    "(Maybe omit this...)\n",
    "For even more control, what if you want to specify each nucleotide substitution individually?\n",
    "Then you want the GTR (Generalised Time-Reversible) model.\n",
    "Would recommend looking up the documentation (put in a link) if you want to use this one, but essentially, in addition to specifying an equilibrium mutation `rate`, you also specify some `relative_rates`, which indicate the relative frequency of each of the possible nucleotide switches: (`A<->C`, `A<->G`, `A<->T`, `C<->G`, `C<->T`, `G<->T`)."
   ]
  },
  {
   "cell_type": "code",
   "execution_count": null,
   "metadata": {},
   "outputs": [],
   "source": [
    "mts = msprime.sim_mutations(\n",
    "    ts, rate=0.01, random_seed=2022, model=msprime.GTR(relative_rates=[1,2,1,2,1,2]))\n",
    "SVG(mts.draw_svg())"
   ]
  },
  {
   "cell_type": "markdown",
   "metadata": {},
   "source": [
    "### Binary mutation model\n",
    "Two possible alleles: 0 and 1, the ancestral allele is always 0."
   ]
  },
  {
   "cell_type": "code",
   "execution_count": null,
   "metadata": {},
   "outputs": [],
   "source": [
    "mts_big = msprime.sim_mutations(\n",
    "    ts_big, rate=0.0001, random_seed=20278,\n",
    "    model=msprime.BinaryMutationModel())\n",
    "count_transitions(mts_big, msprime.BinaryMutationModel().alleles)"
   ]
  },
  {
   "cell_type": "markdown",
   "metadata": {},
   "source": [
    "### Models where the mutations aren't nucleotides\n",
    "\n",
    "(2.35pm)\n",
    "\n",
    "So far, we've been thinking about genomic locations in terms of nucleotides, and mutations as nucloeotide substitutions.\n",
    "However, msprime just seems these genomic locations as numbers along a line, and there's no reason why those numbers can't represent other more general entities\n",
    "\n",
    "(mention that you need to reinterpret/rescale recombination rate in this case)"
   ]
  },
  {
   "cell_type": "code",
   "execution_count": null,
   "metadata": {},
   "outputs": [],
   "source": [
    "mts = msprime.sim_mutations(ts, rate=0.01, random_seed=2022,\n",
    "                            model=msprime.PAM())"
   ]
  },
  {
   "cell_type": "markdown",
   "metadata": {},
   "source": [
    "Now, all of the variants are one of the first 20 letters in the latin alphabet, representing an amino acid of some sort. "
   ]
  },
  {
   "cell_type": "code",
   "execution_count": null,
   "metadata": {},
   "outputs": [],
   "source": [
    "for var in mts.variants():\n",
    "    print(var.site.position, var.alleles, var.genotypes, sep=\"\\t\")"
   ]
  },
  {
   "cell_type": "markdown",
   "metadata": {},
   "source": [
    "In this case, *many* of the mutations are now silent."
   ]
  },
  {
   "cell_type": "code",
   "execution_count": null,
   "metadata": {},
   "outputs": [],
   "source": [
    "# mts_big = msprime.sim_mutations(ts_big, rate=0.0001, random_seed=2016, model=msprime.PAM())\n",
    "# count_transitions(mts_big, msprime.PAM().alleles)"
   ]
  },
  {
   "cell_type": "markdown",
   "metadata": {},
   "source": [
    "### Make-your-own mutation model!\n",
    "Maximum flexibility:\n",
    " - alleles (the possible 'choices' you can see at each unit\n",
    " - root distribution (what's the distribution of ancestral alleles?)\n",
    " - transition matrix (what's the probability of mutating from one allele to another?)"
   ]
  },
  {
   "cell_type": "code",
   "execution_count": null,
   "metadata": {},
   "outputs": [],
   "source": [
    "model = msprime.MatrixMutationModel(\n",
    "    alleles = [\"💩\", \"🎄\", \"🔥\"],\n",
    "    root_distribution = [1.0, 0.0, 0.0],\n",
    "    transition_matrix = [[0.0, 1.0, 0.0],\n",
    "                         [0.0, 0.8, 0.2],\n",
    "                         [1.0, 0.0, 0.0]]\n",
    ")\n",
    "mts = msprime.sim_mutations(ts, rate=0.01, random_seed=1215112, model=model)\n",
    "\n",
    "for var in mts.variants():\n",
    "    print(var.site.position, var.alleles, var.genotypes, sep=\"\\t\")"
   ]
  },
  {
   "cell_type": "markdown",
   "metadata": {},
   "source": [
    " - mention the SLiM mutation model, for anyone using SLiM\n",
    " - This would be a good place for an exercise"
   ]
  },
  {
   "cell_type": "markdown",
   "metadata": {},
   "source": [
    "### Exercise:\n",
    "Modify the following code to simulate mutations on top of the `ts` tree sequence, using a blah blah model where transpositions are 5 times more likely than transversions, with a hotspot between locations 25 and 50."
   ]
  },
  {
   "cell_type": "markdown",
   "metadata": {},
   "source": [
    "## 3.3 Silent mutations, state independence and related adjustments\n",
    "\n",
    "(2.45pm)\n",
    "\n",
    "Some things I've drawn attention to before:\n",
    " - mutations that apparently don't change the allelic state\n",
    " - non-0 diagonal entries in some transition matrices\n",
    " - the complications of simulating with stacked mutations\n",
    "\n",
    "These are all to do with *silent mutations*, i.e. mutations which do not change the allelic state. This the main 'gotcha' to keep in mind with some of these mutation models.\n",
    "\n",
    "Let's have a closer look at some of the transition matrices of the models we've looked at:"
   ]
  },
  {
   "cell_type": "code",
   "execution_count": null,
   "metadata": {},
   "outputs": [],
   "source": [
    "msprime.JC69().transition_matrix"
   ]
  },
  {
   "cell_type": "code",
   "execution_count": null,
   "metadata": {},
   "outputs": [],
   "source": [
    "msprime.HKY(kappa=20).transition_matrix"
   ]
  },
  {
   "cell_type": "code",
   "execution_count": null,
   "metadata": {},
   "outputs": [],
   "source": [
    "msprime.PAM().transition_matrix[:4,:4]"
   ]
  },
  {
   "cell_type": "code",
   "execution_count": null,
   "metadata": {},
   "outputs": [],
   "source": [
    "np.sum(msprime.PAM().transition_matrix[1,:])"
   ]
  },
  {
   "cell_type": "markdown",
   "metadata": {},
   "source": [
    "In particular, notice that some of the diagonal entries are non-zero. This indicates that there is a positive probability of mutations where the ancestral and derived state are the same. We have observed instances of these above.\n",
    "\n",
    "Why does `msprime` simulate these `silent mutations`? The short answer is that it is...\n",
    "\n",
    "The most important thing is that we know how to deal with it, and in particular, how to adjust for it. We might usually thing that when we specify a mutation rate, we are specifying a rate of mutations which change the allelic state. The consequence of using this mutation rate with a model that includes silent mutations is that we will have fewer varying sites than we might expect to produce, which in turn leads to underestimates of statistics relying on these, like diversity, segregating sites etc.\n",
    "\n",
    "If you are using an msprime mutation model where some fraction of the mutations are non-0, we need to figure out what fraction of our mutations are expected to be silent, and adjust our mutation rate accordingly. Link [here](https://tskit.dev/msprime/docs/stable/mutations.html#adjusting-mutation-rates-for-silent-mutations)"
   ]
  },
  {
   "cell_type": "markdown",
   "metadata": {},
   "source": [
    "Note that the probability of an `A<->A` transition is *more* likely than an `A->B`, `A->C`, `A->D` transition etc!\n",
    "This produces silent mutations.\n",
    "The reason why this happens: it's a workaround to ensure that `msprime` does not simulate nonsensical mutations.\n",
    "Let's see how to adjust the mutation rate for the PAM model:"
   ]
  },
  {
   "cell_type": "markdown",
   "metadata": {},
   "source": [
    "$$ \\mu = \\mu_{silent} + \\mu_{non-silent}$$\n",
    "\n",
    "and\n",
    "\n",
    "$$ \\mu_{silent} = \\sum_i T_{i, i} $$\n",
    "where $T_{i, j}$ is the $(i, j)$th element of the transition matrix for this mutation model."
   ]
  },
  {
   "cell_type": "code",
   "execution_count": null,
   "metadata": {},
   "outputs": [],
   "source": [
    "T_pam = msprime.PAM().transition_matrix\n",
    "silent_prop = np.sum(np.diag(T_pam))/np.sum(T_pam)\n",
    "silent_prop"
   ]
  },
  {
   "cell_type": "markdown",
   "metadata": {},
   "source": [
    "So 45% of our mutations will be silent. We therefore need to adjust our mutation rates to make up for this 'missing' 45%. $\\mu \\left( 1 + 45/55 \\right)$, right?\n",
    "\n",
    "These 'silent' mutations are just a mathematical artifact. Basically, in order to ensure that you throw down mutations that are consistent with each other, msprime makes this tradeoff -- you simulate variant mutations that are at a rate that is *proportional* to those specified by the model. You then need to adjust for this."
   ]
  },
  {
   "cell_type": "code",
   "execution_count": null,
   "metadata": {},
   "outputs": [],
   "source": [
    "mts = msprime.sim_mutations(ts, rate=0.01, random_seed=2022,\n",
    "                            model=msprime.PAM())\n",
    "SVG(mts.draw_svg())"
   ]
  },
  {
   "cell_type": "markdown",
   "metadata": {},
   "source": [
    " - Consider an exercise here where people adjust their mutation rate.\n",
    " - Discuss scenarios where silent mutations are and aren't likely to be an issue"
   ]
  },
  {
   "cell_type": "markdown",
   "metadata": {},
   "source": [
    "## 3.5 Mutation rate variation\n",
    "\n",
    "3pm\n",
    "\n",
    "You can specify mutation hotspots using the `RateMap` method as an argument to `rate`, instead of the single number:"
   ]
  },
  {
   "cell_type": "code",
   "execution_count": null,
   "metadata": {
    "scrolled": false
   },
   "outputs": [],
   "source": [
    "ratemap = msprime.RateMap(position=[0, 40, 60, 100], rate=[0.01, 0.1, 0.01])\n",
    "mts = msprime.sim_mutations(ts, rate=ratemap, random_seed=104)\n",
    "SVG(mts.draw_svg())"
   ]
  },
  {
   "cell_type": "code",
   "execution_count": null,
   "metadata": {},
   "outputs": [],
   "source": []
  },
  {
   "cell_type": "markdown",
   "metadata": {},
   "source": [
    "## 3.6 Mutation rates in different epochs\n",
    "\n",
    "(3.05pm)\n",
    "\n",
    "Use the `start_time` and `end_time` arguments to simulate mutations only within specific timeframes:"
   ]
  },
  {
   "cell_type": "code",
   "execution_count": null,
   "metadata": {},
   "outputs": [],
   "source": [
    "mts = msprime.sim_mutations(ts, rate=0.01, random_seed=1714, start_time=2)\n",
    "SVG(mts.draw_svg())"
   ]
  },
  {
   "cell_type": "code",
   "execution_count": null,
   "metadata": {},
   "outputs": [],
   "source": [
    "mmts = msprime.sim_mutations(mts, rate=0.1, random_seed=851, start_time=1,\n",
    "                            end_time=2)\n",
    "SVG(mmts.draw_svg())"
   ]
  },
  {
   "cell_type": "code",
   "execution_count": null,
   "metadata": {},
   "outputs": [],
   "source": [
    "mts.tables.mutations"
   ]
  },
  {
   "cell_type": "code",
   "execution_count": null,
   "metadata": {},
   "outputs": [],
   "source": [
    "# Why does msprime renumber the mutations?\n",
    "mmts.tables.mutations"
   ]
  },
  {
   "cell_type": "markdown",
   "metadata": {},
   "source": [
    "*Exercise*. Over the past 50 generations, your study organisms were exposed to an environmental mutagen that induces additional mutations uniformly across their genomes at a rate of 1e-6 per generation. Modify the code below to model these circumstances."
   ]
  },
  {
   "cell_type": "code",
   "execution_count": null,
   "metadata": {},
   "outputs": [],
   "source": []
  },
  {
   "cell_type": "markdown",
   "metadata": {},
   "source": [
    " ## 3.6 Discrete vs continuous coordinates\n",
    " \n",
    " (3.15pm)\n",
    " \n",
    " As with `sim_ancestry()`, we can choose whether to place mutations at discrete (integer) or continuous (floating point) positions. Use the `discrete_genome` argument:"
   ]
  },
  {
   "cell_type": "code",
   "execution_count": null,
   "metadata": {},
   "outputs": [],
   "source": [
    "mts = msprime.sim_mutations(ts, rate=0.01, random_seed=2016,\n",
    "                           discrete_genome=False)\n",
    "\n",
    "for var in mts.variants():\n",
    "    print(var.site.position, var.alleles, var.genotypes, sep=\"\\t\")"
   ]
  },
  {
   "cell_type": "markdown",
   "metadata": {},
   "source": [
    "(Our mutational model now confirms to the classical *infinite sites* assumption)."
   ]
  },
  {
   "cell_type": "markdown",
   "metadata": {},
   "source": [
    "## 3.7 Exporting sequence data into other formats\n",
    "\n",
    "(3.20pm)\n",
    "\n",
    "To run analyses using the sequence data you've just simulated, you have a lot of different approaches to consider.\n",
    "One thing that I'll mention briefly now, demonstrate fully later, is that there is a lot you can do using the tree sequence objects on their own. If there is a way to do the operation using `tskit`, we recommend it, as on realistically sized datasets, it will almost always be quicker and more memory-efficient.\n",
    "However sometimes you can't avoid exporting the data into another format, like VCF, in order to work with other software"
   ]
  },
  {
   "cell_type": "markdown",
   "metadata": {},
   "source": [
    "### To VCF\n",
    "Basic syntax:"
   ]
  },
  {
   "cell_type": "code",
   "execution_count": null,
   "metadata": {},
   "outputs": [],
   "source": [
    "mts.num_individuals"
   ]
  },
  {
   "cell_type": "code",
   "execution_count": null,
   "metadata": {},
   "outputs": [],
   "source": [
    "with open(\"worksheet3-output.vcf\", \"w\") as vcf_file:\n",
    "    mts.write_vcf(vcf_file)"
   ]
  },
  {
   "cell_type": "markdown",
   "metadata": {},
   "source": [
    "What the output looks like"
   ]
  },
  {
   "cell_type": "code",
   "execution_count": null,
   "metadata": {},
   "outputs": [],
   "source": [
    "with open(\"worksheet3-output.vcf\", \"r\") as f:\n",
    "    print(f.read())"
   ]
  },
  {
   "cell_type": "markdown",
   "metadata": {},
   "source": [
    "Fancier version, if you want to specify your own individual names:"
   ]
  },
  {
   "cell_type": "code",
   "execution_count": null,
   "metadata": {},
   "outputs": [],
   "source": [
    "indv_names = [\"platypus_1\", \"platypus_2\"]\n",
    "with open(\"worksheet3-output.vcf\", \"w\") as vcf_file:\n",
    "    mts.write_vcf(vcf_file, individual_names=indv_names)"
   ]
  },
  {
   "cell_type": "code",
   "execution_count": null,
   "metadata": {},
   "outputs": [],
   "source": [
    "with open(\"worksheet3-output.vcf\", \"r\") as f:\n",
    "    print(f.read())"
   ]
  },
  {
   "cell_type": "markdown",
   "metadata": {},
   "source": [
    "### To other Python objects\n",
    "\n",
    "Many of the underlying attributes of tskit objects are `numpy` objects, so play well with other Python libraries, including plotting libraries like `matplotlib` and scientific libraries like `scikit-allel`."
   ]
  },
  {
   "cell_type": "markdown",
   "metadata": {},
   "source": [
    "In particular, the `genotype_matrix` method will return an object that works as a HaplotypeArray in scikit-allel, which gives you access to summary functions."
   ]
  },
  {
   "cell_type": "code",
   "execution_count": null,
   "metadata": {},
   "outputs": [],
   "source": [
    "import allel"
   ]
  },
  {
   "cell_type": "markdown",
   "metadata": {},
   "source": [
    "(Confusingly named `genotype matrix`, but is actually haplotypes)"
   ]
  },
  {
   "cell_type": "code",
   "execution_count": null,
   "metadata": {},
   "outputs": [],
   "source": [
    "gens = mts.genotype_matrix()\n",
    "print(gens)"
   ]
  },
  {
   "cell_type": "markdown",
   "metadata": {},
   "source": [
    "Can easily be converted into the right objects for analyses with `allel`."
   ]
  },
  {
   "cell_type": "code",
   "execution_count": null,
   "metadata": {},
   "outputs": [],
   "source": [
    "haps = allel.HaplotypeArray(gens)\n",
    "allele_counts = haps.count_alleles()"
   ]
  },
  {
   "cell_type": "code",
   "execution_count": null,
   "metadata": {},
   "outputs": [],
   "source": [
    "%%time\n",
    "allel.mean_pairwise_difference(allele_counts)"
   ]
  },
  {
   "cell_type": "markdown",
   "metadata": {},
   "source": [
    "But, this takes a long time on big datasets. Some of these operations can be done much more quickly within tskit itself, which we'll get to next time."
   ]
  },
  {
   "cell_type": "code",
   "execution_count": null,
   "metadata": {},
   "outputs": [],
   "source": []
  }
 ],
 "metadata": {
  "kernelspec": {
   "display_name": "Python 3",
   "language": "python",
   "name": "python3"
  },
  "language_info": {
   "codemirror_mode": {
    "name": "ipython",
    "version": 3
   },
   "file_extension": ".py",
   "mimetype": "text/x-python",
   "name": "python",
   "nbconvert_exporter": "python",
   "pygments_lexer": "ipython3",
   "version": "3.7.3"
  }
 },
 "nbformat": 4,
 "nbformat_minor": 4
}
