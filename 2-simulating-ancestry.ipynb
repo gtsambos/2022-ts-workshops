{
 "cells": [
  {
   "cell_type": "markdown",
   "metadata": {},
   "source": [
    "# Simulating ancestry with msprime\n",
    "\n",
    "10.30am\n",
    "\n",
    "- What is msprime?\n",
    "- What makes it different from other genetic simulators out there?\n",
    "    - Historical connection with `ms`\n",
    "    - Tree sequences\n",
    "    - Forwards and backwards simulation and efficiency\n",
    "\t- When might you use  `msprime` over these other simulators\n",
    "    \n",
    "\n",
    "Overview of the two msprime sessions:\n",
    " -  simulating ancestry (node, edge, individuals, populations)\n",
    " -  simulating mutations (mutations, sites)\n",
    " -  discuss why these are separate\n",
    "\n",
    "Plan for the session:\n",
    "- Contigs\n",
    "- Demographic history\n",
    "- Models"
   ]
  },
  {
   "cell_type": "code",
   "execution_count": 2,
   "metadata": {},
   "outputs": [],
   "source": [
    "import msprime\n",
    "import random\n",
    "from IPython.display import SVG"
   ]
  },
  {
   "cell_type": "markdown",
   "metadata": {},
   "source": [
    "### Basic syntax\n",
    "\n",
    "(10.40am)"
   ]
  },
  {
   "cell_type": "code",
   "execution_count": 3,
   "metadata": {},
   "outputs": [
    {
     "data": {
      "image/svg+xml": [
       "<svg baseProfile=\"full\" height=\"200\" version=\"1.1\" width=\"200\" xmlns=\"http://www.w3.org/2000/svg\" xmlns:ev=\"http://www.w3.org/2001/xml-events\" xmlns:xlink=\"http://www.w3.org/1999/xlink\"><defs><style type=\"text/css\"><![CDATA[.background path {fill: #808080; fill-opacity: 0}.background path:nth-child(odd) {fill-opacity: .1}.axes {font-size: 14px}.x-axis .tick .lab {font-weight: bold; dominant-baseline: hanging}.axes, .tree {font-size: 14px; text-anchor: middle}.axes line, .edge {stroke: black; fill: none}.y-axis .grid {stroke: #FAFAFA}.node > .sym {fill: black; stroke: none}.site > .sym {stroke: black}.mut text {fill: red; font-style: italic}.mut.extra text {fill: hotpink}.mut line {fill: none; stroke: none}.mut .sym {fill: none; stroke: red}.mut.extra .sym {stroke: hotpink}.node .mut .sym {stroke-width: 1.5px}.tree text, .tree-sequence text {dominant-baseline: central}.plotbox .lab.lft {text-anchor: end}.plotbox .lab.rgt {text-anchor: start}]]></style></defs><g class=\"tree-sequence\"><g class=\"background\"><path d=\"M20,0 l160,0 l0,138.2 l0,25 l0,5 l-160,0 l0,-5 l0,-25 l0,-138.2z\"/></g><g class=\"axes\"><g class=\"x-axis\"><g transform=\"translate(100 200)\"><text class=\"lab\" text-anchor=\"middle\" transform=\"translate(0 -11)\">Genome position</text></g><line x1=\"20\" x2=\"180\" y1=\"163.2\" y2=\"163.2\"/><g class=\"ticks\"><g class=\"tick\" transform=\"translate(20 163.2)\"><line x1=\"0\" x2=\"0\" y1=\"0\" y2=\"5\"/><g transform=\"translate(0 6)\"><text class=\"lab\">0</text></g></g><g class=\"tick\" transform=\"translate(180 163.2)\"><line x1=\"0\" x2=\"0\" y1=\"0\" y2=\"5\"/><g transform=\"translate(0 6)\"><text class=\"lab\">1</text></g></g></g></g></g><g class=\"plotbox trees\"><g class=\"tree t0\" transform=\"translate(20 0)\"><g class=\"plotbox\"><g class=\"c2 node n6 p0 root\" transform=\"translate(98.75 26.8)\"><g class=\"a6 i1 leaf node n2 p0 sample\" transform=\"translate(26.25 94.6)\"><path class=\"edge\" d=\"M 0 0 V -94.6 H -26.25\"/><rect class=\"sym\" height=\"6\" width=\"6\" x=\"-3\" y=\"-3\"/><text class=\"lab\" transform=\"translate(0 11)\">2</text></g><g class=\"a6 c2 node n5 p0\" transform=\"translate(-26.25 25.2505)\"><g class=\"a5 i1 leaf node n3 p0 sample\" transform=\"translate(22.5 69.3495)\"><path class=\"edge\" d=\"M 0 0 V -69.3495 H -22.5\"/><rect class=\"sym\" height=\"6\" width=\"6\" x=\"-3\" y=\"-3\"/><text class=\"lab\" transform=\"translate(0 11)\">3</text></g><g class=\"a5 c2 node n4 p0\" transform=\"translate(-22.5 63.0417)\"><g class=\"a4 i0 leaf node n0 p0 sample\" transform=\"translate(-15 6.3078)\"><path class=\"edge\" d=\"M 0 0 V -6.3078 H 15\"/><rect class=\"sym\" height=\"6\" width=\"6\" x=\"-3\" y=\"-3\"/><text class=\"lab\" transform=\"translate(0 11)\">0</text></g><g class=\"a4 i0 leaf node n1 p0 sample\" transform=\"translate(15 6.3078)\"><path class=\"edge\" d=\"M 0 0 V -6.3078 H -15\"/><rect class=\"sym\" height=\"6\" width=\"6\" x=\"-3\" y=\"-3\"/><text class=\"lab\" transform=\"translate(0 11)\">1</text></g><path class=\"edge\" d=\"M 0 0 V -63.0417 H 22.5\"/><circle class=\"sym\" cx=\"0\" cy=\"0\" r=\"3\"/><text class=\"lab lft\" transform=\"translate(-3 -7.0)\">4</text></g><path class=\"edge\" d=\"M 0 0 V -25.2505 H 26.25\"/><circle class=\"sym\" cx=\"0\" cy=\"0\" r=\"3\"/><text class=\"lab lft\" transform=\"translate(-3 -7.0)\">5</text></g><circle class=\"sym\" cx=\"0\" cy=\"0\" r=\"3\"/><text class=\"lab\" transform=\"translate(0 -11)\">6</text></g></g></g></g></g></svg>"
      ],
      "text/plain": [
       "<IPython.core.display.SVG object>"
      ]
     },
     "execution_count": 3,
     "metadata": {},
     "output_type": "execute_result"
    }
   ],
   "source": [
    "ts = msprime.sim_ancestry(samples=2, random_seed=1)\n",
    "SVG(ts.draw_svg())"
   ]
  },
  {
   "cell_type": "markdown",
   "metadata": {},
   "source": [
    "Things to note here:\n",
    " - we have a tree sequence object that consists of just a single tree, bc recombination not yet specified\n",
    " - random seed argument just used to make sure we all get the same simulation\n",
    " - samples = 2 simulates haplotypes from 2 individuals, presumed diploid by default. To specify a different ploidy use the `ploidy` argument"
   ]
  },
  {
   "cell_type": "markdown",
   "metadata": {},
   "source": [
    "## Specifying contig information\n",
    " - ploidy\n",
    " - sequence length\n",
    " - discrete_genome\n",
    " - Recombination maps\n",
    "      - note that gene conversion is also possible\n",
    " - Exercise\n",
    " \n",
    "\n",
    "**Ploidy**"
   ]
  },
  {
   "cell_type": "code",
   "execution_count": 4,
   "metadata": {},
   "outputs": [
    {
     "data": {
      "image/svg+xml": [
       "<svg baseProfile=\"full\" height=\"200\" version=\"1.1\" width=\"200\" xmlns=\"http://www.w3.org/2000/svg\" xmlns:ev=\"http://www.w3.org/2001/xml-events\" xmlns:xlink=\"http://www.w3.org/1999/xlink\"><defs><style type=\"text/css\"><![CDATA[.background path {fill: #808080; fill-opacity: 0}.background path:nth-child(odd) {fill-opacity: .1}.axes {font-size: 14px}.x-axis .tick .lab {font-weight: bold; dominant-baseline: hanging}.axes, .tree {font-size: 14px; text-anchor: middle}.axes line, .edge {stroke: black; fill: none}.y-axis .grid {stroke: #FAFAFA}.node > .sym {fill: black; stroke: none}.site > .sym {stroke: black}.mut text {fill: red; font-style: italic}.mut.extra text {fill: hotpink}.mut line {fill: none; stroke: none}.mut .sym {fill: none; stroke: red}.mut.extra .sym {stroke: hotpink}.node .mut .sym {stroke-width: 1.5px}.tree text, .tree-sequence text {dominant-baseline: central}.plotbox .lab.lft {text-anchor: end}.plotbox .lab.rgt {text-anchor: start}]]></style></defs><g class=\"tree-sequence\"><g class=\"background\"><path d=\"M20,0 l160,0 l0,138.2 l0,25 l0,5 l-160,0 l0,-5 l0,-25 l0,-138.2z\"/></g><g class=\"axes\"><g class=\"x-axis\"><g transform=\"translate(100 200)\"><text class=\"lab\" text-anchor=\"middle\" transform=\"translate(0 -11)\">Genome position</text></g><line x1=\"20\" x2=\"180\" y1=\"163.2\" y2=\"163.2\"/><g class=\"ticks\"><g class=\"tick\" transform=\"translate(20 163.2)\"><line x1=\"0\" x2=\"0\" y1=\"0\" y2=\"5\"/><g transform=\"translate(0 6)\"><text class=\"lab\">0</text></g></g><g class=\"tick\" transform=\"translate(180 163.2)\"><line x1=\"0\" x2=\"0\" y1=\"0\" y2=\"5\"/><g transform=\"translate(0 6)\"><text class=\"lab\">1</text></g></g></g></g></g><g class=\"plotbox trees\"><g class=\"tree t0\" transform=\"translate(20 0)\"><g class=\"plotbox\"><g class=\"c2 node n10 p0 root\" transform=\"translate(85 26.8)\"><g class=\"a10 c2 node n7 p0\" transform=\"translate(-30 50.894)\"><g class=\"a7 i1 leaf node n5 p0 sample\" transform=\"translate(15 43.706)\"><path class=\"edge\" d=\"M 0 0 V -43.706 H -15\"/><rect class=\"sym\" height=\"6\" width=\"6\" x=\"-3\" y=\"-3\"/><text class=\"lab\" transform=\"translate(0 11)\">5</text></g><g class=\"a7 c2 node n6 p0\" transform=\"translate(-15 38.5615)\"><g class=\"a6 i0 leaf node n0 p0 sample\" transform=\"translate(-10 5.14449)\"><path class=\"edge\" d=\"M 0 0 V -5.14449 H 10\"/><rect class=\"sym\" height=\"6\" width=\"6\" x=\"-3\" y=\"-3\"/><text class=\"lab\" transform=\"translate(0 11)\">0</text></g><g class=\"a6 i0 leaf node n2 p0 sample\" transform=\"translate(10 5.14449)\"><path class=\"edge\" d=\"M 0 0 V -5.14449 H -10\"/><rect class=\"sym\" height=\"6\" width=\"6\" x=\"-3\" y=\"-3\"/><text class=\"lab\" transform=\"translate(0 11)\">2</text></g><path class=\"edge\" d=\"M 0 0 V -38.5615 H 15\"/><circle class=\"sym\" cx=\"0\" cy=\"0\" r=\"3\"/><text class=\"lab lft\" transform=\"translate(-3 -7.0)\">6</text></g><path class=\"edge\" d=\"M 0 0 V -50.894 H 30\"/><circle class=\"sym\" cx=\"0\" cy=\"0\" r=\"3\"/><text class=\"lab lft\" transform=\"translate(-3 -7.0)\">7</text></g><g class=\"a10 c2 node n9 p0\" transform=\"translate(30 29.4758)\"><g class=\"a9 i1 leaf node n3 p0 sample\" transform=\"translate(15 65.1242)\"><path class=\"edge\" d=\"M 0 0 V -65.1242 H -15\"/><rect class=\"sym\" height=\"6\" width=\"6\" x=\"-3\" y=\"-3\"/><text class=\"lab\" transform=\"translate(0 11)\">3</text></g><g class=\"a9 c2 node n8 p0\" transform=\"translate(-15 12.8374)\"><g class=\"a8 i0 leaf node n1 p0 sample\" transform=\"translate(-10 52.2867)\"><path class=\"edge\" d=\"M 0 0 V -52.2867 H 10\"/><rect class=\"sym\" height=\"6\" width=\"6\" x=\"-3\" y=\"-3\"/><text class=\"lab\" transform=\"translate(0 11)\">1</text></g><g class=\"a8 i1 leaf node n4 p0 sample\" transform=\"translate(10 52.2867)\"><path class=\"edge\" d=\"M 0 0 V -52.2867 H -10\"/><rect class=\"sym\" height=\"6\" width=\"6\" x=\"-3\" y=\"-3\"/><text class=\"lab\" transform=\"translate(0 11)\">4</text></g><path class=\"edge\" d=\"M 0 0 V -12.8374 H 15\"/><circle class=\"sym\" cx=\"0\" cy=\"0\" r=\"3\"/><text class=\"lab lft\" transform=\"translate(-3 -7.0)\">8</text></g><path class=\"edge\" d=\"M 0 0 V -29.4758 H -30\"/><circle class=\"sym\" cx=\"0\" cy=\"0\" r=\"3\"/><text class=\"lab rgt\" transform=\"translate(3 -7.0)\">9</text></g><circle class=\"sym\" cx=\"0\" cy=\"0\" r=\"3\"/><text class=\"lab\" transform=\"translate(0 -11)\">10</text></g></g></g></g></g></svg>"
      ],
      "text/plain": [
       "<IPython.core.display.SVG object>"
      ]
     },
     "execution_count": 4,
     "metadata": {},
     "output_type": "execute_result"
    }
   ],
   "source": [
    "ts = msprime.sim_ancestry(samples=2, random_seed=1, ploidy=3)\n",
    "SVG(ts.draw_svg())"
   ]
  },
  {
   "cell_type": "markdown",
   "metadata": {},
   "source": [
    "**Sequence length**"
   ]
  },
  {
   "cell_type": "code",
   "execution_count": 5,
   "metadata": {
    "scrolled": true
   },
   "outputs": [
    {
     "data": {
      "image/svg+xml": [
       "<svg baseProfile=\"full\" height=\"200\" version=\"1.1\" width=\"200\" xmlns=\"http://www.w3.org/2000/svg\" xmlns:ev=\"http://www.w3.org/2001/xml-events\" xmlns:xlink=\"http://www.w3.org/1999/xlink\"><defs><style type=\"text/css\"><![CDATA[.background path {fill: #808080; fill-opacity: 0}.background path:nth-child(odd) {fill-opacity: .1}.axes {font-size: 14px}.x-axis .tick .lab {font-weight: bold; dominant-baseline: hanging}.axes, .tree {font-size: 14px; text-anchor: middle}.axes line, .edge {stroke: black; fill: none}.y-axis .grid {stroke: #FAFAFA}.node > .sym {fill: black; stroke: none}.site > .sym {stroke: black}.mut text {fill: red; font-style: italic}.mut.extra text {fill: hotpink}.mut line {fill: none; stroke: none}.mut .sym {fill: none; stroke: red}.mut.extra .sym {stroke: hotpink}.node .mut .sym {stroke-width: 1.5px}.tree text, .tree-sequence text {dominant-baseline: central}.plotbox .lab.lft {text-anchor: end}.plotbox .lab.rgt {text-anchor: start}]]></style></defs><g class=\"tree-sequence\"><g class=\"background\"><path d=\"M20,0 l160,0 l0,138.2 l0,25 l0,5 l-160,0 l0,-5 l0,-25 l0,-138.2z\"/></g><g class=\"axes\"><g class=\"x-axis\"><g transform=\"translate(100 200)\"><text class=\"lab\" text-anchor=\"middle\" transform=\"translate(0 -11)\">Genome position</text></g><line x1=\"20\" x2=\"180\" y1=\"163.2\" y2=\"163.2\"/><g class=\"ticks\"><g class=\"tick\" transform=\"translate(20 163.2)\"><line x1=\"0\" x2=\"0\" y1=\"0\" y2=\"5\"/><g transform=\"translate(0 6)\"><text class=\"lab\">0</text></g></g><g class=\"tick\" transform=\"translate(180 163.2)\"><line x1=\"0\" x2=\"0\" y1=\"0\" y2=\"5\"/><g transform=\"translate(0 6)\"><text class=\"lab\">10</text></g></g></g></g></g><g class=\"plotbox trees\"><g class=\"tree t0\" transform=\"translate(20 0)\"><g class=\"plotbox\"><g class=\"c2 node n6 p0 root\" transform=\"translate(98.75 26.8)\"><g class=\"a6 i1 leaf node n2 p0 sample\" transform=\"translate(26.25 94.6)\"><path class=\"edge\" d=\"M 0 0 V -94.6 H -26.25\"/><rect class=\"sym\" height=\"6\" width=\"6\" x=\"-3\" y=\"-3\"/><text class=\"lab\" transform=\"translate(0 11)\">2</text></g><g class=\"a6 c2 node n5 p0\" transform=\"translate(-26.25 25.2505)\"><g class=\"a5 i1 leaf node n3 p0 sample\" transform=\"translate(22.5 69.3495)\"><path class=\"edge\" d=\"M 0 0 V -69.3495 H -22.5\"/><rect class=\"sym\" height=\"6\" width=\"6\" x=\"-3\" y=\"-3\"/><text class=\"lab\" transform=\"translate(0 11)\">3</text></g><g class=\"a5 c2 node n4 p0\" transform=\"translate(-22.5 63.0417)\"><g class=\"a4 i0 leaf node n0 p0 sample\" transform=\"translate(-15 6.3078)\"><path class=\"edge\" d=\"M 0 0 V -6.3078 H 15\"/><rect class=\"sym\" height=\"6\" width=\"6\" x=\"-3\" y=\"-3\"/><text class=\"lab\" transform=\"translate(0 11)\">0</text></g><g class=\"a4 i0 leaf node n1 p0 sample\" transform=\"translate(15 6.3078)\"><path class=\"edge\" d=\"M 0 0 V -6.3078 H -15\"/><rect class=\"sym\" height=\"6\" width=\"6\" x=\"-3\" y=\"-3\"/><text class=\"lab\" transform=\"translate(0 11)\">1</text></g><path class=\"edge\" d=\"M 0 0 V -63.0417 H 22.5\"/><circle class=\"sym\" cx=\"0\" cy=\"0\" r=\"3\"/><text class=\"lab lft\" transform=\"translate(-3 -7.0)\">4</text></g><path class=\"edge\" d=\"M 0 0 V -25.2505 H 26.25\"/><circle class=\"sym\" cx=\"0\" cy=\"0\" r=\"3\"/><text class=\"lab lft\" transform=\"translate(-3 -7.0)\">5</text></g><circle class=\"sym\" cx=\"0\" cy=\"0\" r=\"3\"/><text class=\"lab\" transform=\"translate(0 -11)\">6</text></g></g></g></g></g></svg>"
      ],
      "text/plain": [
       "<IPython.core.display.SVG object>"
      ]
     },
     "execution_count": 5,
     "metadata": {},
     "output_type": "execute_result"
    }
   ],
   "source": [
    "ts = msprime.sim_ancestry(samples=2, random_seed=1, sequence_length=10)\n",
    "SVG(ts.draw_svg())"
   ]
  },
  {
   "cell_type": "markdown",
   "metadata": {},
   "source": [
    "**Setting recombination rate**"
   ]
  },
  {
   "cell_type": "code",
   "execution_count": 6,
   "metadata": {},
   "outputs": [
    {
     "data": {
      "image/svg+xml": [
       "<svg baseProfile=\"full\" height=\"200\" version=\"1.1\" width=\"600\" xmlns=\"http://www.w3.org/2000/svg\" xmlns:ev=\"http://www.w3.org/2001/xml-events\" xmlns:xlink=\"http://www.w3.org/1999/xlink\"><defs><style type=\"text/css\"><![CDATA[.background path {fill: #808080; fill-opacity: 0}.background path:nth-child(odd) {fill-opacity: .1}.axes {font-size: 14px}.x-axis .tick .lab {font-weight: bold; dominant-baseline: hanging}.axes, .tree {font-size: 14px; text-anchor: middle}.axes line, .edge {stroke: black; fill: none}.y-axis .grid {stroke: #FAFAFA}.node > .sym {fill: black; stroke: none}.site > .sym {stroke: black}.mut text {fill: red; font-style: italic}.mut.extra text {fill: hotpink}.mut line {fill: none; stroke: none}.mut .sym {fill: none; stroke: red}.mut.extra .sym {stroke: hotpink}.node .mut .sym {stroke-width: 1.5px}.tree text, .tree-sequence text {dominant-baseline: central}.plotbox .lab.lft {text-anchor: end}.plotbox .lab.rgt {text-anchor: start}]]></style></defs><g class=\"tree-sequence\"><g class=\"background\"><path d=\"M20,0 l186.667,0 l0,138.2 l261.333,25 l0,5 l-448,0 l0,-5 l0,-25 l0,-138.2z\"/><path d=\"M206.667,0 l186.667,0 l0,138.2 l130.667,25 l0,5 l-56,0 l0,-5 l-261.333,-25 l0,-138.2z\"/><path d=\"M393.333,0 l186.667,0 l0,138.2 l0,25 l0,5 l-56,0 l0,-5 l-130.667,-25 l0,-138.2z\"/></g><g class=\"axes\"><g class=\"x-axis\"><g transform=\"translate(300 200)\"><text class=\"lab\" text-anchor=\"middle\" transform=\"translate(0 -11)\">Genome position</text></g><line x1=\"20\" x2=\"580\" y1=\"163.2\" y2=\"163.2\"/><g class=\"ticks\"><g class=\"tick\" transform=\"translate(20 163.2)\"><line x1=\"0\" x2=\"0\" y1=\"0\" y2=\"5\"/><g transform=\"translate(0 6)\"><text class=\"lab\">0</text></g></g><g class=\"tick\" transform=\"translate(468 163.2)\"><line x1=\"0\" x2=\"0\" y1=\"0\" y2=\"5\"/><g transform=\"translate(0 6)\"><text class=\"lab\">8</text></g></g><g class=\"tick\" transform=\"translate(524 163.2)\"><line x1=\"0\" x2=\"0\" y1=\"0\" y2=\"5\"/><g transform=\"translate(0 6)\"><text class=\"lab\">9</text></g></g><g class=\"tick\" transform=\"translate(580 163.2)\"><line x1=\"0\" x2=\"0\" y1=\"0\" y2=\"5\"/><g transform=\"translate(0 6)\"><text class=\"lab\">10</text></g></g></g></g></g><g class=\"plotbox trees\"><g class=\"tree t0\" transform=\"translate(20 0)\"><g class=\"plotbox\"><g class=\"c2 node n7 p0 root\" transform=\"translate(70.4167 96.9902)\"><g class=\"a7 i0 leaf node n0 p0 sample\" transform=\"translate(-32.0833 24.4098)\"><path class=\"edge\" d=\"M 0 0 V -24.4098 H 32.0833\"/><rect class=\"sym\" height=\"6\" width=\"6\" x=\"-3\" y=\"-3\"/><text class=\"lab\" transform=\"translate(0 11)\">0</text></g><g class=\"a7 c2 node n6 p0\" transform=\"translate(32.0833 19.6994)\"><g class=\"a6 i0 leaf node n1 p0 sample\" transform=\"translate(-27.5 4.71043)\"><path class=\"edge\" d=\"M 0 0 V -4.71043 H 27.5\"/><rect class=\"sym\" height=\"6\" width=\"6\" x=\"-3\" y=\"-3\"/><text class=\"lab\" transform=\"translate(0 11)\">1</text></g><g class=\"a6 c2 node n5 p0\" transform=\"translate(27.5 1.90244)\"><g class=\"a5 i1 leaf node n2 p0 sample\" transform=\"translate(-18.3333 2.80799)\"><path class=\"edge\" d=\"M 0 0 V -2.80799 H 18.3333\"/><rect class=\"sym\" height=\"6\" width=\"6\" x=\"-3\" y=\"-3\"/><text class=\"lab\" transform=\"translate(0 11)\">2</text></g><g class=\"a5 i1 leaf node n3 p0 sample\" transform=\"translate(18.3333 2.80799)\"><path class=\"edge\" d=\"M 0 0 V -2.80799 H -18.3333\"/><rect class=\"sym\" height=\"6\" width=\"6\" x=\"-3\" y=\"-3\"/><text class=\"lab\" transform=\"translate(0 11)\">3</text></g><path class=\"edge\" d=\"M 0 0 V -1.90244 H -27.5\"/><circle class=\"sym\" cx=\"0\" cy=\"0\" r=\"3\"/><text class=\"lab rgt\" transform=\"translate(3 -7.0)\">5</text></g><path class=\"edge\" d=\"M 0 0 V -19.6994 H -32.0833\"/><circle class=\"sym\" cx=\"0\" cy=\"0\" r=\"3\"/><text class=\"lab rgt\" transform=\"translate(3 -7.0)\">6</text></g><circle class=\"sym\" cx=\"0\" cy=\"0\" r=\"3\"/><text class=\"lab\" transform=\"translate(0 -11)\">7</text></g></g></g><g class=\"tree t1\" transform=\"translate(206.667 0)\"><g class=\"plotbox\"><g class=\"c2 node n8 p0 root\" transform=\"translate(79.5833 29.4968)\"><g class=\"a8 i0 leaf node n0 p0 sample\" transform=\"translate(-41.25 91.9032)\"><path class=\"edge\" d=\"M 0 0 V -91.9032 H 41.25\"/><rect class=\"sym\" height=\"6\" width=\"6\" x=\"-3\" y=\"-3\"/><text class=\"lab\" transform=\"translate(0 11)\">0</text></g><g class=\"a8 c2 node n5 p0\" transform=\"translate(41.25 89.0952)\"><g class=\"a5 i1 leaf node n3 p0 sample\" transform=\"translate(27.5 2.80799)\"><path class=\"edge\" d=\"M 0 0 V -2.80799 H -27.5\"/><rect class=\"sym\" height=\"6\" width=\"6\" x=\"-3\" y=\"-3\"/><text class=\"lab\" transform=\"translate(0 11)\">3</text></g><g class=\"a5 c2 node n4 p0\" transform=\"translate(-27.5 0.732444)\"><g class=\"a4 i0 leaf node n1 p0 sample\" transform=\"translate(-18.3333 2.07555)\"><path class=\"edge\" d=\"M 0 0 V -2.07555 H 18.3333\"/><rect class=\"sym\" height=\"6\" width=\"6\" x=\"-3\" y=\"-3\"/><text class=\"lab\" transform=\"translate(0 11)\">1</text></g><g class=\"a4 i1 leaf node n2 p0 sample\" transform=\"translate(18.3333 2.07555)\"><path class=\"edge\" d=\"M 0 0 V -2.07555 H -18.3333\"/><rect class=\"sym\" height=\"6\" width=\"6\" x=\"-3\" y=\"-3\"/><text class=\"lab\" transform=\"translate(0 11)\">2</text></g><path class=\"edge\" d=\"M 0 0 V -0.732444 H 27.5\"/><circle class=\"sym\" cx=\"0\" cy=\"0\" r=\"3\"/><text class=\"lab lft\" transform=\"translate(-3 -7.0)\">4</text></g><path class=\"edge\" d=\"M 0 0 V -89.0952 H -41.25\"/><circle class=\"sym\" cx=\"0\" cy=\"0\" r=\"3\"/><text class=\"lab rgt\" transform=\"translate(3 -7.0)\">5</text></g><circle class=\"sym\" cx=\"0\" cy=\"0\" r=\"3\"/><text class=\"lab\" transform=\"translate(0 -11)\">8</text></g></g></g><g class=\"tree t2\" transform=\"translate(393.333 0)\"><g class=\"plotbox\"><g class=\"c2 node n9 p0 root\" transform=\"translate(79.5833 26.8)\"><g class=\"a9 i0 leaf node n0 p0 sample\" transform=\"translate(-41.25 94.6)\"><path class=\"edge\" d=\"M 0 0 V -94.6 H 41.25\"/><rect class=\"sym\" height=\"6\" width=\"6\" x=\"-3\" y=\"-3\"/><text class=\"lab\" transform=\"translate(0 11)\">0</text></g><g class=\"a9 c2 node n5 p0\" transform=\"translate(41.25 91.792)\"><g class=\"a5 i1 leaf node n3 p0 sample\" transform=\"translate(27.5 2.80799)\"><path class=\"edge\" d=\"M 0 0 V -2.80799 H -27.5\"/><rect class=\"sym\" height=\"6\" width=\"6\" x=\"-3\" y=\"-3\"/><text class=\"lab\" transform=\"translate(0 11)\">3</text></g><g class=\"a5 c2 node n4 p0\" transform=\"translate(-27.5 0.732444)\"><g class=\"a4 i0 leaf node n1 p0 sample\" transform=\"translate(-18.3333 2.07555)\"><path class=\"edge\" d=\"M 0 0 V -2.07555 H 18.3333\"/><rect class=\"sym\" height=\"6\" width=\"6\" x=\"-3\" y=\"-3\"/><text class=\"lab\" transform=\"translate(0 11)\">1</text></g><g class=\"a4 i1 leaf node n2 p0 sample\" transform=\"translate(18.3333 2.07555)\"><path class=\"edge\" d=\"M 0 0 V -2.07555 H -18.3333\"/><rect class=\"sym\" height=\"6\" width=\"6\" x=\"-3\" y=\"-3\"/><text class=\"lab\" transform=\"translate(0 11)\">2</text></g><path class=\"edge\" d=\"M 0 0 V -0.732444 H 27.5\"/><circle class=\"sym\" cx=\"0\" cy=\"0\" r=\"3\"/><text class=\"lab lft\" transform=\"translate(-3 -7.0)\">4</text></g><path class=\"edge\" d=\"M 0 0 V -91.792 H -41.25\"/><circle class=\"sym\" cx=\"0\" cy=\"0\" r=\"3\"/><text class=\"lab rgt\" transform=\"translate(3 -7.0)\">5</text></g><circle class=\"sym\" cx=\"0\" cy=\"0\" r=\"3\"/><text class=\"lab\" transform=\"translate(0 -11)\">9</text></g></g></g></g></g></svg>"
      ],
      "text/plain": [
       "<IPython.core.display.SVG object>"
      ]
     },
     "execution_count": 6,
     "metadata": {},
     "output_type": "execute_result"
    }
   ],
   "source": [
    "ts = msprime.sim_ancestry(samples=2, random_seed=1, sequence_length=10, recombination_rate=0.1)\n",
    "SVG(ts.draw_svg())"
   ]
  },
  {
   "cell_type": "code",
   "execution_count": null,
   "metadata": {},
   "outputs": [],
   "source": []
  },
  {
   "cell_type": "code",
   "execution_count": null,
   "metadata": {},
   "outputs": [],
   "source": []
  },
  {
   "cell_type": "markdown",
   "metadata": {},
   "source": [
    "**Non-uniform recombination**"
   ]
  },
  {
   "cell_type": "code",
   "execution_count": 7,
   "metadata": {},
   "outputs": [
    {
     "data": {
      "image/svg+xml": [
       "<svg baseProfile=\"full\" height=\"200\" version=\"1.1\" width=\"800\" xmlns=\"http://www.w3.org/2000/svg\" xmlns:ev=\"http://www.w3.org/2001/xml-events\" xmlns:xlink=\"http://www.w3.org/1999/xlink\"><defs><style type=\"text/css\"><![CDATA[.background path {fill: #808080; fill-opacity: 0}.background path:nth-child(odd) {fill-opacity: .1}.axes {font-size: 14px}.x-axis .tick .lab {font-weight: bold; dominant-baseline: hanging}.axes, .tree {font-size: 14px; text-anchor: middle}.axes line, .edge {stroke: black; fill: none}.y-axis .grid {stroke: #FAFAFA}.node > .sym {fill: black; stroke: none}.site > .sym {stroke: black}.mut text {fill: red; font-style: italic}.mut.extra text {fill: hotpink}.mut line {fill: none; stroke: none}.mut .sym {fill: none; stroke: red}.mut.extra .sym {stroke: hotpink}.node .mut .sym {stroke-width: 1.5px}.tree text, .tree-sequence text {dominant-baseline: central}.plotbox .lab.lft {text-anchor: end}.plotbox .lab.rgt {text-anchor: start}]]></style></defs><g class=\"tree-sequence\"><g class=\"background\"><path d=\"M20,0 l190,0 l0,138.2 l228,25 l0,5 l-418,0 l0,-5 l0,-25 l0,-138.2z\"/><path d=\"M210,0 l190,0 l0,138.2 l76,25 l0,5 l-38,0 l0,-5 l-228,-25 l0,-138.2z\"/><path d=\"M400,0 l190,0 l0,138.2 l0,25 l0,5 l-114,0 l0,-5 l-76,-25 l0,-138.2z\"/><path d=\"M590,0 l190,0 l0,138.2 l0,25 l0,5 l-190,0 l0,-5 l0,-25 l0,-138.2z\"/></g><g class=\"axes\"><g class=\"x-axis\"><g transform=\"translate(400 200)\"><text class=\"lab\" text-anchor=\"middle\" transform=\"translate(0 -11)\">Genome position</text></g><line x1=\"20\" x2=\"780\" y1=\"163.2\" y2=\"163.2\"/><g class=\"ticks\"><g class=\"tick\" transform=\"translate(20 163.2)\"><line x1=\"0\" x2=\"0\" y1=\"0\" y2=\"5\"/><g transform=\"translate(0 6)\"><text class=\"lab\">0</text></g></g><g class=\"tick\" transform=\"translate(438 163.2)\"><line x1=\"0\" x2=\"0\" y1=\"0\" y2=\"5\"/><g transform=\"translate(0 6)\"><text class=\"lab\">11</text></g></g><g class=\"tick\" transform=\"translate(476 163.2)\"><line x1=\"0\" x2=\"0\" y1=\"0\" y2=\"5\"/><g transform=\"translate(0 6)\"><text class=\"lab\">12</text></g></g><g class=\"tick\" transform=\"translate(590 163.2)\"><line x1=\"0\" x2=\"0\" y1=\"0\" y2=\"5\"/><g transform=\"translate(0 6)\"><text class=\"lab\">15</text></g></g><g class=\"tick\" transform=\"translate(780 163.2)\"><line x1=\"0\" x2=\"0\" y1=\"0\" y2=\"5\"/><g transform=\"translate(0 6)\"><text class=\"lab\">20</text></g></g></g></g></g><g class=\"plotbox trees\"><g class=\"tree t0\" transform=\"translate(20 0)\"><g class=\"plotbox\"><g class=\"c2 node n14 p0 root\" transform=\"translate(74.6875 26.8)\"><g class=\"a14 c2 node n6 p0\" transform=\"translate(-29.6875 93.0814)\"><g class=\"a6 i0 leaf node n0 p0 sample\" transform=\"translate(-12.5 1.51859)\"><path class=\"edge\" d=\"M 0 0 V -1.51859 H 12.5\"/><rect class=\"sym\" height=\"6\" width=\"6\" x=\"-3\" y=\"-3\"/><text class=\"lab\" transform=\"translate(0 11)\">0</text></g><g class=\"a6 i2 leaf node n5 p0 sample\" transform=\"translate(12.5 1.51859)\"><path class=\"edge\" d=\"M 0 0 V -1.51859 H -12.5\"/><rect class=\"sym\" height=\"6\" width=\"6\" x=\"-3\" y=\"-3\"/><text class=\"lab\" transform=\"translate(0 11)\">5</text></g><path class=\"edge\" d=\"M 0 0 V -93.0814 H 29.6875\"/><circle class=\"sym\" cx=\"0\" cy=\"0\" r=\"3\"/><text class=\"lab lft\" transform=\"translate(-3 -7.0)\">6</text></g><g class=\"a14 c2 node n9 p0\" transform=\"translate(29.6875 68.193)\"><g class=\"a9 i0 leaf node n1 p0 sample\" transform=\"translate(-21.875 26.407)\"><path class=\"edge\" d=\"M 0 0 V -26.407 H 21.875\"/><rect class=\"sym\" height=\"6\" width=\"6\" x=\"-3\" y=\"-3\"/><text class=\"lab\" transform=\"translate(0 11)\">1</text></g><g class=\"a9 c2 node n8 p0\" transform=\"translate(21.875 9.93916)\"><g class=\"a8 i1 leaf node n2 p0 sample\" transform=\"translate(-18.75 16.4678)\"><path class=\"edge\" d=\"M 0 0 V -16.4678 H 18.75\"/><rect class=\"sym\" height=\"6\" width=\"6\" x=\"-3\" y=\"-3\"/><text class=\"lab\" transform=\"translate(0 11)\">2</text></g><g class=\"a8 c2 node n7 p0\" transform=\"translate(18.75 2.75709)\"><g class=\"a7 i1 leaf node n3 p0 sample\" transform=\"translate(-12.5 13.7107)\"><path class=\"edge\" d=\"M 0 0 V -13.7107 H 12.5\"/><rect class=\"sym\" height=\"6\" width=\"6\" x=\"-3\" y=\"-3\"/><text class=\"lab\" transform=\"translate(0 11)\">3</text></g><g class=\"a7 i2 leaf node n4 p0 sample\" transform=\"translate(12.5 13.7107)\"><path class=\"edge\" d=\"M 0 0 V -13.7107 H -12.5\"/><rect class=\"sym\" height=\"6\" width=\"6\" x=\"-3\" y=\"-3\"/><text class=\"lab\" transform=\"translate(0 11)\">4</text></g><path class=\"edge\" d=\"M 0 0 V -2.75709 H -18.75\"/><circle class=\"sym\" cx=\"0\" cy=\"0\" r=\"3\"/><text class=\"lab rgt\" transform=\"translate(3 -7.0)\">7</text></g><path class=\"edge\" d=\"M 0 0 V -9.93916 H -21.875\"/><circle class=\"sym\" cx=\"0\" cy=\"0\" r=\"3\"/><text class=\"lab rgt\" transform=\"translate(3 -7.0)\">8</text></g><path class=\"edge\" d=\"M 0 0 V -68.193 H -29.6875\"/><circle class=\"sym\" cx=\"0\" cy=\"0\" r=\"3\"/><text class=\"lab rgt\" transform=\"translate(3 -7.0)\">9</text></g><circle class=\"sym\" cx=\"0\" cy=\"0\" r=\"3\"/><text class=\"lab\" transform=\"translate(0 -11)\">14</text></g></g></g><g class=\"tree t1\" transform=\"translate(210 0)\"><g class=\"plotbox\"><g class=\"c2 node n14 p0 root\" transform=\"translate(87.1875 26.8)\"><g class=\"a14 c2 node n6 p0\" transform=\"translate(-42.1875 93.0814)\"><g class=\"a6 i0 leaf node n0 p0 sample\" transform=\"translate(-12.5 1.51859)\"><path class=\"edge\" d=\"M 0 0 V -1.51859 H 12.5\"/><rect class=\"sym\" height=\"6\" width=\"6\" x=\"-3\" y=\"-3\"/><text class=\"lab\" transform=\"translate(0 11)\">0</text></g><g class=\"a6 i2 leaf node n5 p0 sample\" transform=\"translate(12.5 1.51859)\"><path class=\"edge\" d=\"M 0 0 V -1.51859 H -12.5\"/><rect class=\"sym\" height=\"6\" width=\"6\" x=\"-3\" y=\"-3\"/><text class=\"lab\" transform=\"translate(0 11)\">5</text></g><path class=\"edge\" d=\"M 0 0 V -93.0814 H 42.1875\"/><circle class=\"sym\" cx=\"0\" cy=\"0\" r=\"3\"/><text class=\"lab lft\" transform=\"translate(-3 -7.0)\">6</text></g><g class=\"a14 c2 node n13 p0\" transform=\"translate(42.1875 13.747)\"><g class=\"a13 i1 leaf node n3 p0 sample\" transform=\"translate(28.125 80.853)\"><path class=\"edge\" d=\"M 0 0 V -80.853 H -28.125\"/><rect class=\"sym\" height=\"6\" width=\"6\" x=\"-3\" y=\"-3\"/><text class=\"lab\" transform=\"translate(0 11)\">3</text></g><g class=\"a13 c2 node n9 p0\" transform=\"translate(-28.125 54.446)\"><g class=\"a9 i0 leaf node n1 p0 sample\" transform=\"translate(-18.75 26.407)\"><path class=\"edge\" d=\"M 0 0 V -26.407 H 18.75\"/><rect class=\"sym\" height=\"6\" width=\"6\" x=\"-3\" y=\"-3\"/><text class=\"lab\" transform=\"translate(0 11)\">1</text></g><g class=\"a9 c2 node n8 p0\" transform=\"translate(18.75 9.93916)\"><g class=\"a8 i1 leaf node n2 p0 sample\" transform=\"translate(-12.5 16.4678)\"><path class=\"edge\" d=\"M 0 0 V -16.4678 H 12.5\"/><rect class=\"sym\" height=\"6\" width=\"6\" x=\"-3\" y=\"-3\"/><text class=\"lab\" transform=\"translate(0 11)\">2</text></g><g class=\"a8 i2 leaf node n4 p0 sample\" transform=\"translate(12.5 16.4678)\"><path class=\"edge\" d=\"M 0 0 V -16.4678 H -12.5\"/><rect class=\"sym\" height=\"6\" width=\"6\" x=\"-3\" y=\"-3\"/><text class=\"lab\" transform=\"translate(0 11)\">4</text></g><path class=\"edge\" d=\"M 0 0 V -9.93916 H -18.75\"/><circle class=\"sym\" cx=\"0\" cy=\"0\" r=\"3\"/><text class=\"lab rgt\" transform=\"translate(3 -7.0)\">8</text></g><path class=\"edge\" d=\"M 0 0 V -54.446 H 28.125\"/><circle class=\"sym\" cx=\"0\" cy=\"0\" r=\"3\"/><text class=\"lab lft\" transform=\"translate(-3 -7.0)\">9</text></g><path class=\"edge\" d=\"M 0 0 V -13.747 H -42.1875\"/><circle class=\"sym\" cx=\"0\" cy=\"0\" r=\"3\"/><text class=\"lab rgt\" transform=\"translate(3 -7.0)\">13</text></g><circle class=\"sym\" cx=\"0\" cy=\"0\" r=\"3\"/><text class=\"lab\" transform=\"translate(0 -11)\">14</text></g></g></g><g class=\"tree t2\" transform=\"translate(400 0)\"><g class=\"plotbox\"><g class=\"c2 node n14 p0 root\" transform=\"translate(101.25 26.8)\"><g class=\"a14 c2 node n13 p0\" transform=\"translate(37.5 13.747)\"><g class=\"a13 i1 leaf node n3 p0 sample\" transform=\"translate(18.75 80.853)\"><path class=\"edge\" d=\"M 0 0 V -80.853 H -18.75\"/><rect class=\"sym\" height=\"6\" width=\"6\" x=\"-3\" y=\"-3\"/><text class=\"lab\" transform=\"translate(0 11)\">3</text></g><g class=\"a13 c2 node n8 p0\" transform=\"translate(-18.75 64.3851)\"><g class=\"a8 i1 leaf node n2 p0 sample\" transform=\"translate(-12.5 16.4678)\"><path class=\"edge\" d=\"M 0 0 V -16.4678 H 12.5\"/><rect class=\"sym\" height=\"6\" width=\"6\" x=\"-3\" y=\"-3\"/><text class=\"lab\" transform=\"translate(0 11)\">2</text></g><g class=\"a8 i2 leaf node n4 p0 sample\" transform=\"translate(12.5 16.4678)\"><path class=\"edge\" d=\"M 0 0 V -16.4678 H -12.5\"/><rect class=\"sym\" height=\"6\" width=\"6\" x=\"-3\" y=\"-3\"/><text class=\"lab\" transform=\"translate(0 11)\">4</text></g><path class=\"edge\" d=\"M 0 0 V -64.3851 H 18.75\"/><circle class=\"sym\" cx=\"0\" cy=\"0\" r=\"3\"/><text class=\"lab lft\" transform=\"translate(-3 -7.0)\">8</text></g><path class=\"edge\" d=\"M 0 0 V -13.747 H -37.5\"/><circle class=\"sym\" cx=\"0\" cy=\"0\" r=\"3\"/><text class=\"lab rgt\" transform=\"translate(3 -7.0)\">13</text></g><g class=\"a14 c2 node n10 p0\" transform=\"translate(-37.5 60.1721)\"><g class=\"a10 i0 leaf node n1 p0 sample\" transform=\"translate(18.75 34.4279)\"><path class=\"edge\" d=\"M 0 0 V -34.4279 H -18.75\"/><rect class=\"sym\" height=\"6\" width=\"6\" x=\"-3\" y=\"-3\"/><text class=\"lab\" transform=\"translate(0 11)\">1</text></g><g class=\"a10 c2 node n6 p0\" transform=\"translate(-18.75 32.9093)\"><g class=\"a6 i0 leaf node n0 p0 sample\" transform=\"translate(-12.5 1.51859)\"><path class=\"edge\" d=\"M 0 0 V -1.51859 H 12.5\"/><rect class=\"sym\" height=\"6\" width=\"6\" x=\"-3\" y=\"-3\"/><text class=\"lab\" transform=\"translate(0 11)\">0</text></g><g class=\"a6 i2 leaf node n5 p0 sample\" transform=\"translate(12.5 1.51859)\"><path class=\"edge\" d=\"M 0 0 V -1.51859 H -12.5\"/><rect class=\"sym\" height=\"6\" width=\"6\" x=\"-3\" y=\"-3\"/><text class=\"lab\" transform=\"translate(0 11)\">5</text></g><path class=\"edge\" d=\"M 0 0 V -32.9093 H 18.75\"/><circle class=\"sym\" cx=\"0\" cy=\"0\" r=\"3\"/><text class=\"lab lft\" transform=\"translate(-3 -7.0)\">6</text></g><path class=\"edge\" d=\"M 0 0 V -60.1721 H 37.5\"/><circle class=\"sym\" cx=\"0\" cy=\"0\" r=\"3\"/><text class=\"lab lft\" transform=\"translate(-3 -7.0)\">10</text></g><circle class=\"sym\" cx=\"0\" cy=\"0\" r=\"3\"/><text class=\"lab\" transform=\"translate(0 -11)\">14</text></g></g></g><g class=\"tree t3\" transform=\"translate(590 0)\"><g class=\"plotbox\"><g class=\"c2 node n13 p0 root\" transform=\"translate(95 40.547)\"><g class=\"a13 c2 node n11 p0\" transform=\"translate(31.25 16.6876)\"><g class=\"a11 i0 leaf node n1 p0 sample\" transform=\"translate(-18.75 64.1653)\"><path class=\"edge\" d=\"M 0 0 V -64.1653 H 18.75\"/><rect class=\"sym\" height=\"6\" width=\"6\" x=\"-3\" y=\"-3\"/><text class=\"lab\" transform=\"translate(0 11)\">1</text></g><g class=\"a11 c2 node n8 p0\" transform=\"translate(18.75 47.6975)\"><g class=\"a8 i1 leaf node n2 p0 sample\" transform=\"translate(-12.5 16.4678)\"><path class=\"edge\" d=\"M 0 0 V -16.4678 H 12.5\"/><rect class=\"sym\" height=\"6\" width=\"6\" x=\"-3\" y=\"-3\"/><text class=\"lab\" transform=\"translate(0 11)\">2</text></g><g class=\"a8 i2 leaf node n4 p0 sample\" transform=\"translate(12.5 16.4678)\"><path class=\"edge\" d=\"M 0 0 V -16.4678 H -12.5\"/><rect class=\"sym\" height=\"6\" width=\"6\" x=\"-3\" y=\"-3\"/><text class=\"lab\" transform=\"translate(0 11)\">4</text></g><path class=\"edge\" d=\"M 0 0 V -47.6975 H -18.75\"/><circle class=\"sym\" cx=\"0\" cy=\"0\" r=\"3\"/><text class=\"lab rgt\" transform=\"translate(3 -7.0)\">8</text></g><path class=\"edge\" d=\"M 0 0 V -16.6876 H -31.25\"/><circle class=\"sym\" cx=\"0\" cy=\"0\" r=\"3\"/><text class=\"lab rgt\" transform=\"translate(3 -7.0)\">11</text></g><g class=\"a13 c2 node n12 p0\" transform=\"translate(-31.25 13.0746)\"><g class=\"a12 i1 leaf node n3 p0 sample\" transform=\"translate(18.75 67.7784)\"><path class=\"edge\" d=\"M 0 0 V -67.7784 H -18.75\"/><rect class=\"sym\" height=\"6\" width=\"6\" x=\"-3\" y=\"-3\"/><text class=\"lab\" transform=\"translate(0 11)\">3</text></g><g class=\"a12 c2 node n6 p0\" transform=\"translate(-18.75 66.2598)\"><g class=\"a6 i0 leaf node n0 p0 sample\" transform=\"translate(-12.5 1.51859)\"><path class=\"edge\" d=\"M 0 0 V -1.51859 H 12.5\"/><rect class=\"sym\" height=\"6\" width=\"6\" x=\"-3\" y=\"-3\"/><text class=\"lab\" transform=\"translate(0 11)\">0</text></g><g class=\"a6 i2 leaf node n5 p0 sample\" transform=\"translate(12.5 1.51859)\"><path class=\"edge\" d=\"M 0 0 V -1.51859 H -12.5\"/><rect class=\"sym\" height=\"6\" width=\"6\" x=\"-3\" y=\"-3\"/><text class=\"lab\" transform=\"translate(0 11)\">5</text></g><path class=\"edge\" d=\"M 0 0 V -66.2598 H 18.75\"/><circle class=\"sym\" cx=\"0\" cy=\"0\" r=\"3\"/><text class=\"lab lft\" transform=\"translate(-3 -7.0)\">6</text></g><path class=\"edge\" d=\"M 0 0 V -13.0746 H 31.25\"/><circle class=\"sym\" cx=\"0\" cy=\"0\" r=\"3\"/><text class=\"lab lft\" transform=\"translate(-3 -7.0)\">12</text></g><circle class=\"sym\" cx=\"0\" cy=\"0\" r=\"3\"/><text class=\"lab\" transform=\"translate(0 -11)\">13</text></g></g></g></g></g></svg>"
      ],
      "text/plain": [
       "<IPython.core.display.SVG object>"
      ]
     },
     "execution_count": 7,
     "metadata": {},
     "output_type": "execute_result"
    }
   ],
   "source": [
    "rate_map = msprime.RateMap(position=[0, 10, 20], rate=[0.01, 0.1])\n",
    "ts = msprime.sim_ancestry(3, recombination_rate=rate_map, random_seed=2)\n",
    "SVG(ts.draw_svg())"
   ]
  },
  {
   "cell_type": "markdown",
   "metadata": {},
   "source": [
    "Mention that gene conversion is possible in addition to recombination -- to see how this works, see this tutorial about the `gene_conversion_rate` and `gene_conversion_tract_length` arguments."
   ]
  },
  {
   "cell_type": "markdown",
   "metadata": {},
   "source": [
    "**Discrete genome:**\n",
    "\n",
    "by default the recombination positions will happen at integer locations, mimicking actually happens. However there may be situations where you want to model continuous genome -- eg. if you want to run a totally classical coalescent model with a infinite sites model of recombination. In this case, use `discrete_genome` argument:"
   ]
  },
  {
   "cell_type": "code",
   "execution_count": 8,
   "metadata": {},
   "outputs": [
    {
     "data": {
      "image/svg+xml": [
       "<svg baseProfile=\"full\" height=\"200\" version=\"1.1\" width=\"12800\" xmlns=\"http://www.w3.org/2000/svg\" xmlns:ev=\"http://www.w3.org/2001/xml-events\" xmlns:xlink=\"http://www.w3.org/1999/xlink\"><defs><style type=\"text/css\"><![CDATA[.background path {fill: #808080; fill-opacity: 0}.background path:nth-child(odd) {fill-opacity: .1}.axes {font-size: 14px}.x-axis .tick .lab {font-weight: bold; dominant-baseline: hanging}.axes, .tree {font-size: 14px; text-anchor: middle}.axes line, .edge {stroke: black; fill: none}.y-axis .grid {stroke: #FAFAFA}.node > .sym {fill: black; stroke: none}.site > .sym {stroke: black}.mut text {fill: red; font-style: italic}.mut.extra text {fill: hotpink}.mut line {fill: none; stroke: none}.mut .sym {fill: none; stroke: red}.mut.extra .sym {stroke: hotpink}.node .mut .sym {stroke-width: 1.5px}.tree text, .tree-sequence text {dominant-baseline: central}.plotbox .lab.lft {text-anchor: end}.plotbox .lab.rgt {text-anchor: start}]]></style></defs><g class=\"tree-sequence\"><g class=\"background\"><path d=\"M20,0 l199.375,0 l0,138.2 l570.729,25 l0,5 l-770.104,0 l0,-5 l0,-25 l0,-138.2z\"/><path d=\"M219.375,0 l199.375,0 l0,138.2 l386.265,25 l0,5 l-14.9108,0 l0,-5 l-570.729,-25 l0,-138.2z\"/><path d=\"M418.75,0 l199.375,0 l0,138.2 l664.374,25 l0,5 l-477.484,0 l0,-5 l-386.265,-25 l0,-138.2z\"/><path d=\"M618.125,0 l199.375,0 l0,138.2 l508.701,25 l0,5 l-43.7015,0 l0,-5 l-664.374,-25 l0,-138.2z\"/><path d=\"M817.5,0 l199.375,0 l0,138.2 l326.4,25 l0,5 l-17.0739,0 l0,-5 l-508.701,-25 l0,-138.2z\"/><path d=\"M1016.88,0 l199.375,0 l0,138.2 l161.81,25 l0,5 l-34.7857,0 l0,-5 l-326.4,-25 l0,-138.2z\"/><path d=\"M1216.25,0 l199.375,0 l0,138.2 l46.7006,25 l0,5 l-84.2651,0 l0,-5 l-161.81,-25 l0,-138.2z\"/><path d=\"M1415.62,0 l199.375,0 l0,138.2 l42.9314,25 l0,5 l-195.606,0 l0,-5 l-46.7006,-25 l0,-138.2z\"/><path d=\"M1615,0 l199.375,0 l0,138.2 l62.0486,25 l0,5 l-218.492,0 l0,-5 l-42.9314,-25 l0,-138.2z\"/><path d=\"M1814.38,0 l199.375,0 l0,138.2 l-126.321,25 l0,5 l-11.0057,0 l0,-5 l-62.0486,-25 l0,-138.2z\"/><path d=\"M2013.75,0 l199.375,0 l0,138.2 l-136.743,25 l0,5 l-188.953,0 l0,-5 l126.321,-25 l0,-138.2z\"/><path d=\"M2213.12,0 l199.375,0 l0,138.2 l-70.0867,25 l0,5 l-266.031,0 l0,-5 l136.743,-25 l0,-138.2z\"/><path d=\"M2412.5,0 l199.375,0 l0,138.2 l-218.375,25 l0,5 l-51.087,0 l0,-5 l70.0867,-25 l0,-138.2z\"/><path d=\"M2611.88,0 l199.375,0 l0,138.2 l-401.037,25 l0,5 l-16.7128,0 l0,-5 l218.375,-25 l0,-138.2z\"/><path d=\"M2811.25,0 l199.375,0 l0,138.2 l-544.419,25 l0,5 l-55.9931,0 l0,-5 l401.037,-25 l0,-138.2z\"/><path d=\"M3010.62,0 l199.375,0 l0,138.2 l-717.897,25 l0,5 l-25.8964,0 l0,-5 l544.419,-25 l0,-138.2z\"/><path d=\"M3210,0 l199.375,0 l0,138.2 l-537.106,25 l0,5 l-380.166,0 l0,-5 l717.897,-25 l0,-138.2z\"/><path d=\"M3409.38,0 l199.375,0 l0,138.2 l-525.418,25 l0,5 l-211.064,0 l0,-5 l537.106,-25 l0,-138.2z\"/><path d=\"M3608.75,0 l199.375,0 l0,138.2 l-404.234,25 l0,5 l-320.558,0 l0,-5 l525.418,-25 l0,-138.2z\"/><path d=\"M3808.12,0 l199.375,0 l0,138.2 l-319.436,25 l0,5 l-284.173,0 l0,-5 l404.234,-25 l0,-138.2z\"/><path d=\"M4007.5,0 l199.375,0 l0,138.2 l-369.247,25 l0,5 l-149.565,0 l0,-5 l319.436,-25 l0,-138.2z\"/><path d=\"M4206.88,0 l199.375,0 l0,138.2 l-330.261,25 l0,5 l-238.36,0 l0,-5 l369.247,-25 l0,-138.2z\"/><path d=\"M4406.25,0 l199.375,0 l0,138.2 l-505.14,25 l0,5 l-24.4967,0 l0,-5 l330.261,-25 l0,-138.2z\"/><path d=\"M4605.62,0 l199.375,0 l0,138.2 l-340.518,25 l0,5 l-363.997,0 l0,-5 l505.14,-25 l0,-138.2z\"/><path d=\"M4805,0 l199.375,0 l0,138.2 l-199.935,25 l0,5 l-339.958,0 l0,-5 l340.518,-25 l0,-138.2z\"/><path d=\"M5004.38,0 l199.375,0 l0,138.2 l-291.91,25 l0,5 l-107.4,0 l0,-5 l199.935,-25 l0,-138.2z\"/><path d=\"M5203.75,0 l199.375,0 l0,138.2 l-387.407,25 l0,5 l-103.878,0 l0,-5 l291.91,-25 l0,-138.2z\"/><path d=\"M5403.12,0 l199.375,0 l0,138.2 l-525.595,25 l0,5 l-61.1869,0 l0,-5 l387.407,-25 l0,-138.2z\"/><path d=\"M5602.5,0 l199.375,0 l0,138.2 l-683.807,25 l0,5 l-41.1634,0 l0,-5 l525.595,-25 l0,-138.2z\"/><path d=\"M5801.88,0 l199.375,0 l0,138.2 l-725.977,25 l0,5 l-157.205,0 l0,-5 l683.807,-25 l0,-138.2z\"/><path d=\"M6001.25,0 l199.375,0 l0,138.2 l-256.202,25 l0,5 l-669.15,0 l0,-5 l725.977,-25 l0,-138.2z\"/><path d=\"M6200.62,0 l199.375,0 l0,138.2 l-406.381,25 l0,5 l-49.1958,0 l0,-5 l256.202,-25 l0,-138.2z\"/><path d=\"M6400,0 l199.375,0 l0,138.2 l-379.86,25 l0,5 l-225.896,0 l0,-5 l406.381,-25 l0,-138.2z\"/><path d=\"M6599.38,0 l199.375,0 l0,138.2 l-573.258,25 l0,5 l-5.9773,0 l0,-5 l379.86,-25 l0,-138.2z\"/><path d=\"M6798.75,0 l199.375,0 l0,138.2 l-511.333,25 l0,5 l-261.3,0 l0,-5 l573.258,-25 l0,-138.2z\"/><path d=\"M6998.12,0 l199.375,0 l0,138.2 l-600.377,25 l0,5 l-110.331,0 l0,-5 l511.333,-25 l0,-138.2z\"/><path d=\"M7197.5,0 l199.375,0 l0,138.2 l-765.099,25 l0,5 l-34.6529,0 l0,-5 l600.377,-25 l0,-138.2z\"/><path d=\"M7396.88,0 l199.375,0 l0,138.2 l-667.373,25 l0,5 l-297.101,0 l0,-5 l765.099,-25 l0,-138.2z\"/><path d=\"M7596.25,0 l199.375,0 l0,138.2 l-631.201,25 l0,5 l-235.548,0 l0,-5 l667.373,-25 l0,-138.2z\"/><path d=\"M7795.62,0 l199.375,0 l0,138.2 l-788.438,25 l0,5 l-42.1379,0 l0,-5 l631.201,-25 l0,-138.2z\"/><path d=\"M7995,0 l199.375,0 l0,138.2 l-902.806,25 l0,5 l-85.0072,0 l0,-5 l788.438,-25 l0,-138.2z\"/><path d=\"M8194.38,0 l199.375,0 l0,138.2 l-1027.42,25 l0,5 l-74.7581,0 l0,-5 l902.806,-25 l0,-138.2z\"/><path d=\"M8393.75,0 l199.375,0 l0,138.2 l-1194.53,25 l0,5 l-32.265,0 l0,-5 l1027.42,-25 l0,-138.2z\"/><path d=\"M8593.12,0 l199.375,0 l0,138.2 l-573.48,25 l0,5 l-820.427,0 l0,-5 l1194.53,-25 l0,-138.2z\"/><path d=\"M8792.5,0 l199.375,0 l0,138.2 l-766.811,25 l0,5 l-6.04407,0 l0,-5 l573.48,-25 l0,-138.2z\"/><path d=\"M8991.88,0 l199.375,0 l0,138.2 l-955.399,25 l0,5 l-10.7866,0 l0,-5 l766.811,-25 l0,-138.2z\"/><path d=\"M9191.25,0 l199.375,0 l0,138.2 l-1096.69,25 l0,5 l-58.0834,0 l0,-5 l955.399,-25 l0,-138.2z\"/><path d=\"M9390.62,0 l199.375,0 l0,138.2 l-1033.06,25 l0,5 l-263.004,0 l0,-5 l1096.69,-25 l0,-138.2z\"/><path d=\"M9590,0 l199.375,0 l0,138.2 l-874.428,25 l0,5 l-358.009,0 l0,-5 l1033.06,-25 l0,-138.2z\"/><path d=\"M9789.38,0 l199.375,0 l0,138.2 l-1067.74,25 l0,5 l-6.05927,0 l0,-5 l874.428,-25 l0,-138.2z\"/><path d=\"M9988.75,0 l199.375,0 l0,138.2 l-1179.4,25 l0,5 l-87.7238,0 l0,-5 l1067.74,-25 l0,-138.2z\"/><path d=\"M10188.1,0 l199.375,0 l0,138.2 l-275.33,25 l0,5 l-1103.44,0 l0,-5 l1179.4,-25 l0,-138.2z\"/><path d=\"M10387.5,0 l199.375,0 l0,138.2 l-411.365,25 l0,5 l-63.3392,0 l0,-5 l275.33,-25 l0,-138.2z\"/><path d=\"M10586.9,0 l199.375,0 l0,138.2 l28.228,25 l0,5 l-638.968,0 l0,-5 l411.365,-25 l0,-138.2z\"/><path d=\"M10786.2,0 l199.375,0 l0,138.2 l-94.7348,25 l0,5 l-76.4122,0 l0,-5 l-28.228,-25 l0,-138.2z\"/><path d=\"M10985.6,0 l199.375,0 l0,138.2 l-183.213,25 l0,5 l-110.897,0 l0,-5 l94.7348,-25 l0,-138.2z\"/><path d=\"M11185,0 l199.375,0 l0,138.2 l-369.897,25 l0,5 l-12.6914,0 l0,-5 l183.213,-25 l0,-138.2z\"/><path d=\"M11384.4,0 l199.375,0 l0,138.2 l-172.092,25 l0,5 l-397.18,0 l0,-5 l369.897,-25 l0,-138.2z\"/><path d=\"M11583.8,0 l199.375,0 l0,138.2 l477.917,25 l0,5 l-849.384,0 l0,-5 l172.092,-25 l0,-138.2z\"/><path d=\"M11783.1,0 l199.375,0 l0,138.2 l311.729,25 l0,5 l-33.187,0 l0,-5 l-477.917,-25 l0,-138.2z\"/><path d=\"M11982.5,0 l199.375,0 l0,138.2 l120.267,25 l0,5 l-7.91283,0 l0,-5 l-311.729,-25 l0,-138.2z\"/><path d=\"M12181.9,0 l199.375,0 l0,138.2 l-77.5979,25 l0,5 l-1.51037,0 l0,-5 l-120.267,-25 l0,-138.2z\"/><path d=\"M12381.2,0 l199.375,0 l0,138.2 l-79.4959,25 l0,5 l-197.477,0 l0,-5 l77.5979,-25 l0,-138.2z\"/><path d=\"M12580.6,0 l199.375,0 l0,138.2 l0,25 l0,5 l-278.871,0 l0,-5 l79.4959,-25 l0,-138.2z\"/></g><g class=\"axes\"><g class=\"x-axis\"><g transform=\"translate(6400 200)\"><text class=\"lab\" text-anchor=\"middle\" transform=\"translate(0 -11)\">Genome position</text></g><line x1=\"20\" x2=\"12780\" y1=\"163.2\" y2=\"163.2\"/><g class=\"ticks\"><g class=\"tick\" transform=\"translate(20 163.2)\"><line x1=\"0\" x2=\"0\" y1=\"0\" y2=\"5\"/><g transform=\"translate(0 6)\"><text class=\"lab\">0.00</text></g></g><g class=\"tick\" transform=\"translate(790.104 163.2)\"><line x1=\"0\" x2=\"0\" y1=\"0\" y2=\"5\"/><g transform=\"translate(0 6)\"><text class=\"lab\">6.04</text></g></g><g class=\"tick\" transform=\"translate(805.015 163.2)\"><line x1=\"0\" x2=\"0\" y1=\"0\" y2=\"5\"/><g transform=\"translate(0 6)\"><text class=\"lab\">6.15</text></g></g><g class=\"tick\" transform=\"translate(1282.5 163.2)\"><line x1=\"0\" x2=\"0\" y1=\"0\" y2=\"5\"/><g transform=\"translate(0 6)\"><text class=\"lab\">9.89</text></g></g><g class=\"tick\" transform=\"translate(1326.2 163.2)\"><line x1=\"0\" x2=\"0\" y1=\"0\" y2=\"5\"/><g transform=\"translate(0 6)\"><text class=\"lab\">10.24</text></g></g><g class=\"tick\" transform=\"translate(1343.27 163.2)\"><line x1=\"0\" x2=\"0\" y1=\"0\" y2=\"5\"/><g transform=\"translate(0 6)\"><text class=\"lab\">10.37</text></g></g><g class=\"tick\" transform=\"translate(1378.06 163.2)\"><line x1=\"0\" x2=\"0\" y1=\"0\" y2=\"5\"/><g transform=\"translate(0 6)\"><text class=\"lab\">10.64</text></g></g><g class=\"tick\" transform=\"translate(1462.33 163.2)\"><line x1=\"0\" x2=\"0\" y1=\"0\" y2=\"5\"/><g transform=\"translate(0 6)\"><text class=\"lab\">11.30</text></g></g><g class=\"tick\" transform=\"translate(1657.93 163.2)\"><line x1=\"0\" x2=\"0\" y1=\"0\" y2=\"5\"/><g transform=\"translate(0 6)\"><text class=\"lab\">12.84</text></g></g><g class=\"tick\" transform=\"translate(1876.42 163.2)\"><line x1=\"0\" x2=\"0\" y1=\"0\" y2=\"5\"/><g transform=\"translate(0 6)\"><text class=\"lab\">14.55</text></g></g><g class=\"tick\" transform=\"translate(1887.43 163.2)\"><line x1=\"0\" x2=\"0\" y1=\"0\" y2=\"5\"/><g transform=\"translate(0 6)\"><text class=\"lab\">14.64</text></g></g><g class=\"tick\" transform=\"translate(2076.38 163.2)\"><line x1=\"0\" x2=\"0\" y1=\"0\" y2=\"5\"/><g transform=\"translate(0 6)\"><text class=\"lab\">16.12</text></g></g><g class=\"tick\" transform=\"translate(2342.41 163.2)\"><line x1=\"0\" x2=\"0\" y1=\"0\" y2=\"5\"/><g transform=\"translate(0 6)\"><text class=\"lab\">18.20</text></g></g><g class=\"tick\" transform=\"translate(2393.5 163.2)\"><line x1=\"0\" x2=\"0\" y1=\"0\" y2=\"5\"/><g transform=\"translate(0 6)\"><text class=\"lab\">18.60</text></g></g><g class=\"tick\" transform=\"translate(2410.21 163.2)\"><line x1=\"0\" x2=\"0\" y1=\"0\" y2=\"5\"/><g transform=\"translate(0 6)\"><text class=\"lab\">18.73</text></g></g><g class=\"tick\" transform=\"translate(2466.21 163.2)\"><line x1=\"0\" x2=\"0\" y1=\"0\" y2=\"5\"/><g transform=\"translate(0 6)\"><text class=\"lab\">19.17</text></g></g><g class=\"tick\" transform=\"translate(2492.1 163.2)\"><line x1=\"0\" x2=\"0\" y1=\"0\" y2=\"5\"/><g transform=\"translate(0 6)\"><text class=\"lab\">19.37</text></g></g><g class=\"tick\" transform=\"translate(2872.27 163.2)\"><line x1=\"0\" x2=\"0\" y1=\"0\" y2=\"5\"/><g transform=\"translate(0 6)\"><text class=\"lab\">22.35</text></g></g><g class=\"tick\" transform=\"translate(3083.33 163.2)\"><line x1=\"0\" x2=\"0\" y1=\"0\" y2=\"5\"/><g transform=\"translate(0 6)\"><text class=\"lab\">24.01</text></g></g><g class=\"tick\" transform=\"translate(3403.89 163.2)\"><line x1=\"0\" x2=\"0\" y1=\"0\" y2=\"5\"/><g transform=\"translate(0 6)\"><text class=\"lab\">26.52</text></g></g><g class=\"tick\" transform=\"translate(3688.06 163.2)\"><line x1=\"0\" x2=\"0\" y1=\"0\" y2=\"5\"/><g transform=\"translate(0 6)\"><text class=\"lab\">28.75</text></g></g><g class=\"tick\" transform=\"translate(3837.63 163.2)\"><line x1=\"0\" x2=\"0\" y1=\"0\" y2=\"5\"/><g transform=\"translate(0 6)\"><text class=\"lab\">29.92</text></g></g><g class=\"tick\" transform=\"translate(4075.99 163.2)\"><line x1=\"0\" x2=\"0\" y1=\"0\" y2=\"5\"/><g transform=\"translate(0 6)\"><text class=\"lab\">31.79</text></g></g><g class=\"tick\" transform=\"translate(4100.49 163.2)\"><line x1=\"0\" x2=\"0\" y1=\"0\" y2=\"5\"/><g transform=\"translate(0 6)\"><text class=\"lab\">31.98</text></g></g><g class=\"tick\" transform=\"translate(4464.48 163.2)\"><line x1=\"0\" x2=\"0\" y1=\"0\" y2=\"5\"/><g transform=\"translate(0 6)\"><text class=\"lab\">34.83</text></g></g><g class=\"tick\" transform=\"translate(4804.44 163.2)\"><line x1=\"0\" x2=\"0\" y1=\"0\" y2=\"5\"/><g transform=\"translate(0 6)\"><text class=\"lab\">37.50</text></g></g><g class=\"tick\" transform=\"translate(4911.84 163.2)\"><line x1=\"0\" x2=\"0\" y1=\"0\" y2=\"5\"/><g transform=\"translate(0 6)\"><text class=\"lab\">38.34</text></g></g><g class=\"tick\" transform=\"translate(5015.72 163.2)\"><line x1=\"0\" x2=\"0\" y1=\"0\" y2=\"5\"/><g transform=\"translate(0 6)\"><text class=\"lab\">39.15</text></g></g><g class=\"tick\" transform=\"translate(5076.9 163.2)\"><line x1=\"0\" x2=\"0\" y1=\"0\" y2=\"5\"/><g transform=\"translate(0 6)\"><text class=\"lab\">39.63</text></g></g><g class=\"tick\" transform=\"translate(5118.07 163.2)\"><line x1=\"0\" x2=\"0\" y1=\"0\" y2=\"5\"/><g transform=\"translate(0 6)\"><text class=\"lab\">39.95</text></g></g><g class=\"tick\" transform=\"translate(5275.27 163.2)\"><line x1=\"0\" x2=\"0\" y1=\"0\" y2=\"5\"/><g transform=\"translate(0 6)\"><text class=\"lab\">41.19</text></g></g><g class=\"tick\" transform=\"translate(5944.42 163.2)\"><line x1=\"0\" x2=\"0\" y1=\"0\" y2=\"5\"/><g transform=\"translate(0 6)\"><text class=\"lab\">46.43</text></g></g><g class=\"tick\" transform=\"translate(5993.62 163.2)\"><line x1=\"0\" x2=\"0\" y1=\"0\" y2=\"5\"/><g transform=\"translate(0 6)\"><text class=\"lab\">46.82</text></g></g><g class=\"tick\" transform=\"translate(6219.51 163.2)\"><line x1=\"0\" x2=\"0\" y1=\"0\" y2=\"5\"/><g transform=\"translate(0 6)\"><text class=\"lab\">48.59</text></g></g><g class=\"tick\" transform=\"translate(6225.49 163.2)\"><line x1=\"0\" x2=\"0\" y1=\"0\" y2=\"5\"/><g transform=\"translate(0 6)\"><text class=\"lab\">48.63</text></g></g><g class=\"tick\" transform=\"translate(6486.79 163.2)\"><line x1=\"0\" x2=\"0\" y1=\"0\" y2=\"5\"/><g transform=\"translate(0 6)\"><text class=\"lab\">50.68</text></g></g><g class=\"tick\" transform=\"translate(6597.12 163.2)\"><line x1=\"0\" x2=\"0\" y1=\"0\" y2=\"5\"/><g transform=\"translate(0 6)\"><text class=\"lab\">51.54</text></g></g><g class=\"tick\" transform=\"translate(6631.78 163.2)\"><line x1=\"0\" x2=\"0\" y1=\"0\" y2=\"5\"/><g transform=\"translate(0 6)\"><text class=\"lab\">51.82</text></g></g><g class=\"tick\" transform=\"translate(6928.88 163.2)\"><line x1=\"0\" x2=\"0\" y1=\"0\" y2=\"5\"/><g transform=\"translate(0 6)\"><text class=\"lab\">54.14</text></g></g><g class=\"tick\" transform=\"translate(7164.42 163.2)\"><line x1=\"0\" x2=\"0\" y1=\"0\" y2=\"5\"/><g transform=\"translate(0 6)\"><text class=\"lab\">55.99</text></g></g><g class=\"tick\" transform=\"translate(7206.56 163.2)\"><line x1=\"0\" x2=\"0\" y1=\"0\" y2=\"5\"/><g transform=\"translate(0 6)\"><text class=\"lab\">56.32</text></g></g><g class=\"tick\" transform=\"translate(7291.57 163.2)\"><line x1=\"0\" x2=\"0\" y1=\"0\" y2=\"5\"/><g transform=\"translate(0 6)\"><text class=\"lab\">56.99</text></g></g><g class=\"tick\" transform=\"translate(7366.33 163.2)\"><line x1=\"0\" x2=\"0\" y1=\"0\" y2=\"5\"/><g transform=\"translate(0 6)\"><text class=\"lab\">57.57</text></g></g><g class=\"tick\" transform=\"translate(7398.59 163.2)\"><line x1=\"0\" x2=\"0\" y1=\"0\" y2=\"5\"/><g transform=\"translate(0 6)\"><text class=\"lab\">57.83</text></g></g><g class=\"tick\" transform=\"translate(8219.02 163.2)\"><line x1=\"0\" x2=\"0\" y1=\"0\" y2=\"5\"/><g transform=\"translate(0 6)\"><text class=\"lab\">64.26</text></g></g><g class=\"tick\" transform=\"translate(8225.06 163.2)\"><line x1=\"0\" x2=\"0\" y1=\"0\" y2=\"5\"/><g transform=\"translate(0 6)\"><text class=\"lab\">64.30</text></g></g><g class=\"tick\" transform=\"translate(8235.85 163.2)\"><line x1=\"0\" x2=\"0\" y1=\"0\" y2=\"5\"/><g transform=\"translate(0 6)\"><text class=\"lab\">64.39</text></g></g><g class=\"tick\" transform=\"translate(8293.93 163.2)\"><line x1=\"0\" x2=\"0\" y1=\"0\" y2=\"5\"/><g transform=\"translate(0 6)\"><text class=\"lab\">64.84</text></g></g><g class=\"tick\" transform=\"translate(8556.94 163.2)\"><line x1=\"0\" x2=\"0\" y1=\"0\" y2=\"5\"/><g transform=\"translate(0 6)\"><text class=\"lab\">66.90</text></g></g><g class=\"tick\" transform=\"translate(8914.95 163.2)\"><line x1=\"0\" x2=\"0\" y1=\"0\" y2=\"5\"/><g transform=\"translate(0 6)\"><text class=\"lab\">69.71</text></g></g><g class=\"tick\" transform=\"translate(8921.01 163.2)\"><line x1=\"0\" x2=\"0\" y1=\"0\" y2=\"5\"/><g transform=\"translate(0 6)\"><text class=\"lab\">69.76</text></g></g><g class=\"tick\" transform=\"translate(9008.73 163.2)\"><line x1=\"0\" x2=\"0\" y1=\"0\" y2=\"5\"/><g transform=\"translate(0 6)\"><text class=\"lab\">70.44</text></g></g><g class=\"tick\" transform=\"translate(10112.2 163.2)\"><line x1=\"0\" x2=\"0\" y1=\"0\" y2=\"5\"/><g transform=\"translate(0 6)\"><text class=\"lab\">79.09</text></g></g><g class=\"tick\" transform=\"translate(10175.5 163.2)\"><line x1=\"0\" x2=\"0\" y1=\"0\" y2=\"5\"/><g transform=\"translate(0 6)\"><text class=\"lab\">79.59</text></g></g><g class=\"tick\" transform=\"translate(10814.5 163.2)\"><line x1=\"0\" x2=\"0\" y1=\"0\" y2=\"5\"/><g transform=\"translate(0 6)\"><text class=\"lab\">84.60</text></g></g><g class=\"tick\" transform=\"translate(10890.9 163.2)\"><line x1=\"0\" x2=\"0\" y1=\"0\" y2=\"5\"/><g transform=\"translate(0 6)\"><text class=\"lab\">85.20</text></g></g><g class=\"tick\" transform=\"translate(11001.8 163.2)\"><line x1=\"0\" x2=\"0\" y1=\"0\" y2=\"5\"/><g transform=\"translate(0 6)\"><text class=\"lab\">86.06</text></g></g><g class=\"tick\" transform=\"translate(11014.5 163.2)\"><line x1=\"0\" x2=\"0\" y1=\"0\" y2=\"5\"/><g transform=\"translate(0 6)\"><text class=\"lab\">86.16</text></g></g><g class=\"tick\" transform=\"translate(11411.7 163.2)\"><line x1=\"0\" x2=\"0\" y1=\"0\" y2=\"5\"/><g transform=\"translate(0 6)\"><text class=\"lab\">89.28</text></g></g><g class=\"tick\" transform=\"translate(12261 163.2)\"><line x1=\"0\" x2=\"0\" y1=\"0\" y2=\"5\"/><g transform=\"translate(0 6)\"><text class=\"lab\">95.93</text></g></g><g class=\"tick\" transform=\"translate(12294.2 163.2)\"><line x1=\"0\" x2=\"0\" y1=\"0\" y2=\"5\"/><g transform=\"translate(0 6)\"><text class=\"lab\">96.19</text></g></g><g class=\"tick\" transform=\"translate(12302.1 163.2)\"><line x1=\"0\" x2=\"0\" y1=\"0\" y2=\"5\"/><g transform=\"translate(0 6)\"><text class=\"lab\">96.26</text></g></g><g class=\"tick\" transform=\"translate(12303.7 163.2)\"><line x1=\"0\" x2=\"0\" y1=\"0\" y2=\"5\"/><g transform=\"translate(0 6)\"><text class=\"lab\">96.27</text></g></g><g class=\"tick\" transform=\"translate(12501.1 163.2)\"><line x1=\"0\" x2=\"0\" y1=\"0\" y2=\"5\"/><g transform=\"translate(0 6)\"><text class=\"lab\">97.81</text></g></g><g class=\"tick\" transform=\"translate(12780 163.2)\"><line x1=\"0\" x2=\"0\" y1=\"0\" y2=\"5\"/><g transform=\"translate(0 6)\"><text class=\"lab\">100.00</text></g></g></g></g></g><g class=\"plotbox trees\"><g class=\"tree t0\" transform=\"translate(20 0)\"><g class=\"plotbox\"><g class=\"c2 node n29 p0 root\" transform=\"translate(124.59 92.0579)\"><g class=\"a29 i1 leaf node n2 p0 sample\" transform=\"translate(34.8633 29.3421)\"><path class=\"edge\" d=\"M 0 0 V -29.3421 H -34.8633\"/><rect class=\"sym\" height=\"6\" width=\"6\" x=\"-3\" y=\"-3\"/><text class=\"lab\" transform=\"translate(0 11)\">2</text></g><g class=\"a29 c2 node n16 p0\" transform=\"translate(-34.8633 15.4356)\"><g class=\"a16 i0 leaf node n1 p0 sample\" transform=\"translate(29.8828 13.9064)\"><path class=\"edge\" d=\"M 0 0 V -13.9064 H -29.8828\"/><rect class=\"sym\" height=\"6\" width=\"6\" x=\"-3\" y=\"-3\"/><text class=\"lab\" transform=\"translate(0 11)\">1</text></g><g class=\"a16 c2 node n6 p0\" transform=\"translate(-29.8828 9.31813)\"><g class=\"a6 i0 leaf node n0 p0 sample\" transform=\"translate(-19.9219 4.58831)\"><path class=\"edge\" d=\"M 0 0 V -4.58831 H 19.9219\"/><rect class=\"sym\" height=\"6\" width=\"6\" x=\"-3\" y=\"-3\"/><text class=\"lab\" transform=\"translate(0 11)\">0</text></g><g class=\"a6 i1 leaf node n3 p0 sample\" transform=\"translate(19.9219 4.58831)\"><path class=\"edge\" d=\"M 0 0 V -4.58831 H -19.9219\"/><rect class=\"sym\" height=\"6\" width=\"6\" x=\"-3\" y=\"-3\"/><text class=\"lab\" transform=\"translate(0 11)\">3</text></g><path class=\"edge\" d=\"M 0 0 V -9.31813 H 29.8828\"/><circle class=\"sym\" cx=\"0\" cy=\"0\" r=\"3\"/><text class=\"lab lft\" transform=\"translate(-3 -7.0)\">6</text></g><path class=\"edge\" d=\"M 0 0 V -15.4356 H 34.8633\"/><circle class=\"sym\" cx=\"0\" cy=\"0\" r=\"3\"/><text class=\"lab lft\" transform=\"translate(-3 -7.0)\">16</text></g><circle class=\"sym\" cx=\"0\" cy=\"0\" r=\"3\"/><text class=\"lab\" transform=\"translate(0 -11)\">29</text></g></g></g><g class=\"tree t1\" transform=\"translate(219.375 0)\"><g class=\"plotbox\"><g class=\"c2 node n33 p0 root\" transform=\"translate(124.59 89.317)\"><g class=\"a33 i1 leaf node n2 p0 sample\" transform=\"translate(34.8633 32.083)\"><path class=\"edge\" d=\"M 0 0 V -32.083 H -34.8633\"/><rect class=\"sym\" height=\"6\" width=\"6\" x=\"-3\" y=\"-3\"/><text class=\"lab\" transform=\"translate(0 11)\">2</text></g><g class=\"a33 c2 node n16 p0\" transform=\"translate(-34.8633 18.1766)\"><g class=\"a16 i0 leaf node n1 p0 sample\" transform=\"translate(29.8828 13.9064)\"><path class=\"edge\" d=\"M 0 0 V -13.9064 H -29.8828\"/><rect class=\"sym\" height=\"6\" width=\"6\" x=\"-3\" y=\"-3\"/><text class=\"lab\" transform=\"translate(0 11)\">1</text></g><g class=\"a16 c2 node n6 p0\" transform=\"translate(-29.8828 9.31813)\"><g class=\"a6 i0 leaf node n0 p0 sample\" transform=\"translate(-19.9219 4.58831)\"><path class=\"edge\" d=\"M 0 0 V -4.58831 H 19.9219\"/><rect class=\"sym\" height=\"6\" width=\"6\" x=\"-3\" y=\"-3\"/><text class=\"lab\" transform=\"translate(0 11)\">0</text></g><g class=\"a6 i1 leaf node n3 p0 sample\" transform=\"translate(19.9219 4.58831)\"><path class=\"edge\" d=\"M 0 0 V -4.58831 H -19.9219\"/><rect class=\"sym\" height=\"6\" width=\"6\" x=\"-3\" y=\"-3\"/><text class=\"lab\" transform=\"translate(0 11)\">3</text></g><path class=\"edge\" d=\"M 0 0 V -9.31813 H 29.8828\"/><circle class=\"sym\" cx=\"0\" cy=\"0\" r=\"3\"/><text class=\"lab lft\" transform=\"translate(-3 -7.0)\">6</text></g><path class=\"edge\" d=\"M 0 0 V -18.1766 H 34.8633\"/><circle class=\"sym\" cx=\"0\" cy=\"0\" r=\"3\"/><text class=\"lab lft\" transform=\"translate(-3 -7.0)\">16</text></g><circle class=\"sym\" cx=\"0\" cy=\"0\" r=\"3\"/><text class=\"lab\" transform=\"translate(0 -11)\">33</text></g></g></g><g class=\"tree t2\" transform=\"translate(418.75 0)\"><g class=\"plotbox\"><g class=\"c2 node n33 p0 root\" transform=\"translate(99.6875 89.317)\"><g class=\"a33 c2 node n16 p0\" transform=\"translate(39.8438 18.1766)\"><g class=\"a16 i0 leaf node n1 p0 sample\" transform=\"translate(-19.9219 13.9064)\"><path class=\"edge\" d=\"M 0 0 V -13.9064 H 19.9219\"/><rect class=\"sym\" height=\"6\" width=\"6\" x=\"-3\" y=\"-3\"/><text class=\"lab\" transform=\"translate(0 11)\">1</text></g><g class=\"a16 i1 leaf node n3 p0 sample\" transform=\"translate(19.9219 13.9064)\"><path class=\"edge\" d=\"M 0 0 V -13.9064 H -19.9219\"/><rect class=\"sym\" height=\"6\" width=\"6\" x=\"-3\" y=\"-3\"/><text class=\"lab\" transform=\"translate(0 11)\">3</text></g><path class=\"edge\" d=\"M 0 0 V -18.1766 H -39.8438\"/><circle class=\"sym\" cx=\"0\" cy=\"0\" r=\"3\"/><text class=\"lab rgt\" transform=\"translate(3 -7.0)\">16</text></g><g class=\"a33 c2 node n12 p0\" transform=\"translate(-39.8438 22.2136)\"><g class=\"a12 i0 leaf node n0 p0 sample\" transform=\"translate(-19.9219 9.86948)\"><path class=\"edge\" d=\"M 0 0 V -9.86948 H 19.9219\"/><rect class=\"sym\" height=\"6\" width=\"6\" x=\"-3\" y=\"-3\"/><text class=\"lab\" transform=\"translate(0 11)\">0</text></g><g class=\"a12 i1 leaf node n2 p0 sample\" transform=\"translate(19.9219 9.86948)\"><path class=\"edge\" d=\"M 0 0 V -9.86948 H -19.9219\"/><rect class=\"sym\" height=\"6\" width=\"6\" x=\"-3\" y=\"-3\"/><text class=\"lab\" transform=\"translate(0 11)\">2</text></g><path class=\"edge\" d=\"M 0 0 V -22.2136 H 39.8438\"/><circle class=\"sym\" cx=\"0\" cy=\"0\" r=\"3\"/><text class=\"lab lft\" transform=\"translate(-3 -7.0)\">12</text></g><circle class=\"sym\" cx=\"0\" cy=\"0\" r=\"3\"/><text class=\"lab\" transform=\"translate(0 -11)\">33</text></g></g></g><g class=\"tree t3\" transform=\"translate(618.125 0)\"><g class=\"plotbox\"><g class=\"c2 node n33 p0 root\" transform=\"translate(99.6875 89.317)\"><g class=\"a33 c2 node n12 p0\" transform=\"translate(-39.8438 22.2136)\"><g class=\"a12 i0 leaf node n0 p0 sample\" transform=\"translate(-19.9219 9.86948)\"><path class=\"edge\" d=\"M 0 0 V -9.86948 H 19.9219\"/><rect class=\"sym\" height=\"6\" width=\"6\" x=\"-3\" y=\"-3\"/><text class=\"lab\" transform=\"translate(0 11)\">0</text></g><g class=\"a12 i1 leaf node n2 p0 sample\" transform=\"translate(19.9219 9.86948)\"><path class=\"edge\" d=\"M 0 0 V -9.86948 H -19.9219\"/><rect class=\"sym\" height=\"6\" width=\"6\" x=\"-3\" y=\"-3\"/><text class=\"lab\" transform=\"translate(0 11)\">2</text></g><path class=\"edge\" d=\"M 0 0 V -22.2136 H 39.8438\"/><circle class=\"sym\" cx=\"0\" cy=\"0\" r=\"3\"/><text class=\"lab lft\" transform=\"translate(-3 -7.0)\">12</text></g><g class=\"a33 c2 node n7 p0\" transform=\"translate(39.8438 26.96)\"><g class=\"a7 i0 leaf node n1 p0 sample\" transform=\"translate(-19.9219 5.12309)\"><path class=\"edge\" d=\"M 0 0 V -5.12309 H 19.9219\"/><rect class=\"sym\" height=\"6\" width=\"6\" x=\"-3\" y=\"-3\"/><text class=\"lab\" transform=\"translate(0 11)\">1</text></g><g class=\"a7 i1 leaf node n3 p0 sample\" transform=\"translate(19.9219 5.12309)\"><path class=\"edge\" d=\"M 0 0 V -5.12309 H -19.9219\"/><rect class=\"sym\" height=\"6\" width=\"6\" x=\"-3\" y=\"-3\"/><text class=\"lab\" transform=\"translate(0 11)\">3</text></g><path class=\"edge\" d=\"M 0 0 V -26.96 H -39.8438\"/><circle class=\"sym\" cx=\"0\" cy=\"0\" r=\"3\"/><text class=\"lab rgt\" transform=\"translate(3 -7.0)\">7</text></g><circle class=\"sym\" cx=\"0\" cy=\"0\" r=\"3\"/><text class=\"lab\" transform=\"translate(0 -11)\">33</text></g></g></g><g class=\"tree t4\" transform=\"translate(817.5 0)\"><g class=\"plotbox\"><g class=\"c2 node n53 p0 root\" transform=\"translate(99.6875 43.8202)\"><g class=\"a53 c2 node n7 p0\" transform=\"translate(39.8438 72.4567)\"><g class=\"a7 i0 leaf node n1 p0 sample\" transform=\"translate(-19.9219 5.12309)\"><path class=\"edge\" d=\"M 0 0 V -5.12309 H 19.9219\"/><rect class=\"sym\" height=\"6\" width=\"6\" x=\"-3\" y=\"-3\"/><text class=\"lab\" transform=\"translate(0 11)\">1</text></g><g class=\"a7 i1 leaf node n3 p0 sample\" transform=\"translate(19.9219 5.12309)\"><path class=\"edge\" d=\"M 0 0 V -5.12309 H -19.9219\"/><rect class=\"sym\" height=\"6\" width=\"6\" x=\"-3\" y=\"-3\"/><text class=\"lab\" transform=\"translate(0 11)\">3</text></g><path class=\"edge\" d=\"M 0 0 V -72.4567 H -39.8438\"/><circle class=\"sym\" cx=\"0\" cy=\"0\" r=\"3\"/><text class=\"lab rgt\" transform=\"translate(3 -7.0)\">7</text></g><g class=\"a53 c2 node n12 p0\" transform=\"translate(-39.8438 67.7103)\"><g class=\"a12 i0 leaf node n0 p0 sample\" transform=\"translate(-19.9219 9.86948)\"><path class=\"edge\" d=\"M 0 0 V -9.86948 H 19.9219\"/><rect class=\"sym\" height=\"6\" width=\"6\" x=\"-3\" y=\"-3\"/><text class=\"lab\" transform=\"translate(0 11)\">0</text></g><g class=\"a12 i1 leaf node n2 p0 sample\" transform=\"translate(19.9219 9.86948)\"><path class=\"edge\" d=\"M 0 0 V -9.86948 H -19.9219\"/><rect class=\"sym\" height=\"6\" width=\"6\" x=\"-3\" y=\"-3\"/><text class=\"lab\" transform=\"translate(0 11)\">2</text></g><path class=\"edge\" d=\"M 0 0 V -67.7103 H 39.8438\"/><circle class=\"sym\" cx=\"0\" cy=\"0\" r=\"3\"/><text class=\"lab lft\" transform=\"translate(-3 -7.0)\">12</text></g><circle class=\"sym\" cx=\"0\" cy=\"0\" r=\"3\"/><text class=\"lab\" transform=\"translate(0 -11)\">53</text></g></g></g><g class=\"tree t5\" transform=\"translate(1016.88 0)\"><g class=\"plotbox\"><g class=\"c2 node n53 p0 root\" transform=\"translate(124.59 43.8202)\"><g class=\"a53 c2 node n12 p0\" transform=\"translate(-34.8633 67.7103)\"><g class=\"a12 i1 leaf node n2 p0 sample\" transform=\"translate(29.8828 9.86948)\"><path class=\"edge\" d=\"M 0 0 V -9.86948 H -29.8828\"/><rect class=\"sym\" height=\"6\" width=\"6\" x=\"-3\" y=\"-3\"/><text class=\"lab\" transform=\"translate(0 11)\">2</text></g><g class=\"a12 c2 node n8 p0\" transform=\"translate(-29.8828 3.90254)\"><g class=\"a8 i0 leaf node n0 p0 sample\" transform=\"translate(-19.9219 5.96694)\"><path class=\"edge\" d=\"M 0 0 V -5.96694 H 19.9219\"/><rect class=\"sym\" height=\"6\" width=\"6\" x=\"-3\" y=\"-3\"/><text class=\"lab\" transform=\"translate(0 11)\">0</text></g><g class=\"a8 i1 leaf node n3 p0 sample\" transform=\"translate(19.9219 5.96694)\"><path class=\"edge\" d=\"M 0 0 V -5.96694 H -19.9219\"/><rect class=\"sym\" height=\"6\" width=\"6\" x=\"-3\" y=\"-3\"/><text class=\"lab\" transform=\"translate(0 11)\">3</text></g><path class=\"edge\" d=\"M 0 0 V -3.90254 H 29.8828\"/><circle class=\"sym\" cx=\"0\" cy=\"0\" r=\"3\"/><text class=\"lab lft\" transform=\"translate(-3 -7.0)\">8</text></g><path class=\"edge\" d=\"M 0 0 V -67.7103 H 34.8633\"/><circle class=\"sym\" cx=\"0\" cy=\"0\" r=\"3\"/><text class=\"lab lft\" transform=\"translate(-3 -7.0)\">12</text></g><g class=\"a53 i0 leaf node n1 p0 sample\" transform=\"translate(34.8633 77.5798)\"><path class=\"edge\" d=\"M 0 0 V -77.5798 H -34.8633\"/><rect class=\"sym\" height=\"6\" width=\"6\" x=\"-3\" y=\"-3\"/><text class=\"lab\" transform=\"translate(0 11)\">1</text></g><circle class=\"sym\" cx=\"0\" cy=\"0\" r=\"3\"/><text class=\"lab\" transform=\"translate(0 -11)\">53</text></g></g></g><g class=\"tree t6\" transform=\"translate(1216.25 0)\"><g class=\"plotbox\"><g class=\"c2 node n41 p0 root\" transform=\"translate(124.59 68.6726)\"><g class=\"a41 i0 leaf node n1 p0 sample\" transform=\"translate(34.8633 52.7274)\"><path class=\"edge\" d=\"M 0 0 V -52.7274 H -34.8633\"/><rect class=\"sym\" height=\"6\" width=\"6\" x=\"-3\" y=\"-3\"/><text class=\"lab\" transform=\"translate(0 11)\">1</text></g><g class=\"a41 c2 node n12 p0\" transform=\"translate(-34.8633 42.8579)\"><g class=\"a12 i1 leaf node n2 p0 sample\" transform=\"translate(29.8828 9.86948)\"><path class=\"edge\" d=\"M 0 0 V -9.86948 H -29.8828\"/><rect class=\"sym\" height=\"6\" width=\"6\" x=\"-3\" y=\"-3\"/><text class=\"lab\" transform=\"translate(0 11)\">2</text></g><g class=\"a12 c2 node n8 p0\" transform=\"translate(-29.8828 3.90254)\"><g class=\"a8 i0 leaf node n0 p0 sample\" transform=\"translate(-19.9219 5.96694)\"><path class=\"edge\" d=\"M 0 0 V -5.96694 H 19.9219\"/><rect class=\"sym\" height=\"6\" width=\"6\" x=\"-3\" y=\"-3\"/><text class=\"lab\" transform=\"translate(0 11)\">0</text></g><g class=\"a8 i1 leaf node n3 p0 sample\" transform=\"translate(19.9219 5.96694)\"><path class=\"edge\" d=\"M 0 0 V -5.96694 H -19.9219\"/><rect class=\"sym\" height=\"6\" width=\"6\" x=\"-3\" y=\"-3\"/><text class=\"lab\" transform=\"translate(0 11)\">3</text></g><path class=\"edge\" d=\"M 0 0 V -3.90254 H 29.8828\"/><circle class=\"sym\" cx=\"0\" cy=\"0\" r=\"3\"/><text class=\"lab lft\" transform=\"translate(-3 -7.0)\">8</text></g><path class=\"edge\" d=\"M 0 0 V -42.8579 H 34.8633\"/><circle class=\"sym\" cx=\"0\" cy=\"0\" r=\"3\"/><text class=\"lab lft\" transform=\"translate(-3 -7.0)\">12</text></g><circle class=\"sym\" cx=\"0\" cy=\"0\" r=\"3\"/><text class=\"lab\" transform=\"translate(0 -11)\">41</text></g></g></g><g class=\"tree t7\" transform=\"translate(1415.62 0)\"><g class=\"plotbox\"><g class=\"c2 node n53 p0 root\" transform=\"translate(124.59 43.8202)\"><g class=\"a53 i0 leaf node n1 p0 sample\" transform=\"translate(34.8633 77.5798)\"><path class=\"edge\" d=\"M 0 0 V -77.5798 H -34.8633\"/><rect class=\"sym\" height=\"6\" width=\"6\" x=\"-3\" y=\"-3\"/><text class=\"lab\" transform=\"translate(0 11)\">1</text></g><g class=\"a53 c2 node n12 p0\" transform=\"translate(-34.8633 67.7103)\"><g class=\"a12 i1 leaf node n2 p0 sample\" transform=\"translate(29.8828 9.86948)\"><path class=\"edge\" d=\"M 0 0 V -9.86948 H -29.8828\"/><rect class=\"sym\" height=\"6\" width=\"6\" x=\"-3\" y=\"-3\"/><text class=\"lab\" transform=\"translate(0 11)\">2</text></g><g class=\"a12 c2 node n8 p0\" transform=\"translate(-29.8828 3.90254)\"><g class=\"a8 i0 leaf node n0 p0 sample\" transform=\"translate(-19.9219 5.96694)\"><path class=\"edge\" d=\"M 0 0 V -5.96694 H 19.9219\"/><rect class=\"sym\" height=\"6\" width=\"6\" x=\"-3\" y=\"-3\"/><text class=\"lab\" transform=\"translate(0 11)\">0</text></g><g class=\"a8 i1 leaf node n3 p0 sample\" transform=\"translate(19.9219 5.96694)\"><path class=\"edge\" d=\"M 0 0 V -5.96694 H -19.9219\"/><rect class=\"sym\" height=\"6\" width=\"6\" x=\"-3\" y=\"-3\"/><text class=\"lab\" transform=\"translate(0 11)\">3</text></g><path class=\"edge\" d=\"M 0 0 V -3.90254 H 29.8828\"/><circle class=\"sym\" cx=\"0\" cy=\"0\" r=\"3\"/><text class=\"lab lft\" transform=\"translate(-3 -7.0)\">8</text></g><path class=\"edge\" d=\"M 0 0 V -67.7103 H 34.8633\"/><circle class=\"sym\" cx=\"0\" cy=\"0\" r=\"3\"/><text class=\"lab lft\" transform=\"translate(-3 -7.0)\">12</text></g><circle class=\"sym\" cx=\"0\" cy=\"0\" r=\"3\"/><text class=\"lab\" transform=\"translate(0 -11)\">53</text></g></g></g><g class=\"tree t8\" transform=\"translate(1615 0)\"><g class=\"plotbox\"><g class=\"c2 node n29 p0 root\" transform=\"translate(124.59 92.0579)\"><g class=\"a29 i0 leaf node n1 p0 sample\" transform=\"translate(34.8633 29.3421)\"><path class=\"edge\" d=\"M 0 0 V -29.3421 H -34.8633\"/><rect class=\"sym\" height=\"6\" width=\"6\" x=\"-3\" y=\"-3\"/><text class=\"lab\" transform=\"translate(0 11)\">1</text></g><g class=\"a29 c2 node n12 p0\" transform=\"translate(-34.8633 19.4726)\"><g class=\"a12 i1 leaf node n2 p0 sample\" transform=\"translate(29.8828 9.86948)\"><path class=\"edge\" d=\"M 0 0 V -9.86948 H -29.8828\"/><rect class=\"sym\" height=\"6\" width=\"6\" x=\"-3\" y=\"-3\"/><text class=\"lab\" transform=\"translate(0 11)\">2</text></g><g class=\"a12 c2 node n8 p0\" transform=\"translate(-29.8828 3.90254)\"><g class=\"a8 i0 leaf node n0 p0 sample\" transform=\"translate(-19.9219 5.96694)\"><path class=\"edge\" d=\"M 0 0 V -5.96694 H 19.9219\"/><rect class=\"sym\" height=\"6\" width=\"6\" x=\"-3\" y=\"-3\"/><text class=\"lab\" transform=\"translate(0 11)\">0</text></g><g class=\"a8 i1 leaf node n3 p0 sample\" transform=\"translate(19.9219 5.96694)\"><path class=\"edge\" d=\"M 0 0 V -5.96694 H -19.9219\"/><rect class=\"sym\" height=\"6\" width=\"6\" x=\"-3\" y=\"-3\"/><text class=\"lab\" transform=\"translate(0 11)\">3</text></g><path class=\"edge\" d=\"M 0 0 V -3.90254 H 29.8828\"/><circle class=\"sym\" cx=\"0\" cy=\"0\" r=\"3\"/><text class=\"lab lft\" transform=\"translate(-3 -7.0)\">8</text></g><path class=\"edge\" d=\"M 0 0 V -19.4726 H 34.8633\"/><circle class=\"sym\" cx=\"0\" cy=\"0\" r=\"3\"/><text class=\"lab lft\" transform=\"translate(-3 -7.0)\">12</text></g><circle class=\"sym\" cx=\"0\" cy=\"0\" r=\"3\"/><text class=\"lab\" transform=\"translate(0 -11)\">29</text></g></g></g><g class=\"tree t9\" transform=\"translate(1814.38 0)\"><g class=\"plotbox\"><g class=\"c2 node n53 p0 root\" transform=\"translate(124.59 43.8202)\"><g class=\"a53 i0 leaf node n1 p0 sample\" transform=\"translate(34.8633 77.5798)\"><path class=\"edge\" d=\"M 0 0 V -77.5798 H -34.8633\"/><rect class=\"sym\" height=\"6\" width=\"6\" x=\"-3\" y=\"-3\"/><text class=\"lab\" transform=\"translate(0 11)\">1</text></g><g class=\"a53 c2 node n12 p0\" transform=\"translate(-34.8633 67.7103)\"><g class=\"a12 i1 leaf node n2 p0 sample\" transform=\"translate(29.8828 9.86948)\"><path class=\"edge\" d=\"M 0 0 V -9.86948 H -29.8828\"/><rect class=\"sym\" height=\"6\" width=\"6\" x=\"-3\" y=\"-3\"/><text class=\"lab\" transform=\"translate(0 11)\">2</text></g><g class=\"a12 c2 node n8 p0\" transform=\"translate(-29.8828 3.90254)\"><g class=\"a8 i0 leaf node n0 p0 sample\" transform=\"translate(-19.9219 5.96694)\"><path class=\"edge\" d=\"M 0 0 V -5.96694 H 19.9219\"/><rect class=\"sym\" height=\"6\" width=\"6\" x=\"-3\" y=\"-3\"/><text class=\"lab\" transform=\"translate(0 11)\">0</text></g><g class=\"a8 i1 leaf node n3 p0 sample\" transform=\"translate(19.9219 5.96694)\"><path class=\"edge\" d=\"M 0 0 V -5.96694 H -19.9219\"/><rect class=\"sym\" height=\"6\" width=\"6\" x=\"-3\" y=\"-3\"/><text class=\"lab\" transform=\"translate(0 11)\">3</text></g><path class=\"edge\" d=\"M 0 0 V -3.90254 H 29.8828\"/><circle class=\"sym\" cx=\"0\" cy=\"0\" r=\"3\"/><text class=\"lab lft\" transform=\"translate(-3 -7.0)\">8</text></g><path class=\"edge\" d=\"M 0 0 V -67.7103 H 34.8633\"/><circle class=\"sym\" cx=\"0\" cy=\"0\" r=\"3\"/><text class=\"lab lft\" transform=\"translate(-3 -7.0)\">12</text></g><circle class=\"sym\" cx=\"0\" cy=\"0\" r=\"3\"/><text class=\"lab\" transform=\"translate(0 -11)\">53</text></g></g></g><g class=\"tree t10\" transform=\"translate(2013.75 0)\"><g class=\"plotbox\"><g class=\"c2 node n50 p0 root\" transform=\"translate(124.59 52.6321)\"><g class=\"a50 i0 leaf node n1 p0 sample\" transform=\"translate(34.8633 68.7679)\"><path class=\"edge\" d=\"M 0 0 V -68.7679 H -34.8633\"/><rect class=\"sym\" height=\"6\" width=\"6\" x=\"-3\" y=\"-3\"/><text class=\"lab\" transform=\"translate(0 11)\">1</text></g><g class=\"a50 c2 node n12 p0\" transform=\"translate(-34.8633 58.8984)\"><g class=\"a12 i1 leaf node n2 p0 sample\" transform=\"translate(29.8828 9.86948)\"><path class=\"edge\" d=\"M 0 0 V -9.86948 H -29.8828\"/><rect class=\"sym\" height=\"6\" width=\"6\" x=\"-3\" y=\"-3\"/><text class=\"lab\" transform=\"translate(0 11)\">2</text></g><g class=\"a12 c2 node n8 p0\" transform=\"translate(-29.8828 3.90254)\"><g class=\"a8 i0 leaf node n0 p0 sample\" transform=\"translate(-19.9219 5.96694)\"><path class=\"edge\" d=\"M 0 0 V -5.96694 H 19.9219\"/><rect class=\"sym\" height=\"6\" width=\"6\" x=\"-3\" y=\"-3\"/><text class=\"lab\" transform=\"translate(0 11)\">0</text></g><g class=\"a8 i1 leaf node n3 p0 sample\" transform=\"translate(19.9219 5.96694)\"><path class=\"edge\" d=\"M 0 0 V -5.96694 H -19.9219\"/><rect class=\"sym\" height=\"6\" width=\"6\" x=\"-3\" y=\"-3\"/><text class=\"lab\" transform=\"translate(0 11)\">3</text></g><path class=\"edge\" d=\"M 0 0 V -3.90254 H 29.8828\"/><circle class=\"sym\" cx=\"0\" cy=\"0\" r=\"3\"/><text class=\"lab lft\" transform=\"translate(-3 -7.0)\">8</text></g><path class=\"edge\" d=\"M 0 0 V -58.8984 H 34.8633\"/><circle class=\"sym\" cx=\"0\" cy=\"0\" r=\"3\"/><text class=\"lab lft\" transform=\"translate(-3 -7.0)\">12</text></g><circle class=\"sym\" cx=\"0\" cy=\"0\" r=\"3\"/><text class=\"lab\" transform=\"translate(0 -11)\">50</text></g></g></g><g class=\"tree t11\" transform=\"translate(2213.12 0)\"><g class=\"plotbox\"><g class=\"c2 node n39 p0 root\" transform=\"translate(124.59 79.4732)\"><g class=\"a39 i0 leaf node n1 p0 sample\" transform=\"translate(34.8633 41.9268)\"><path class=\"edge\" d=\"M 0 0 V -41.9268 H -34.8633\"/><rect class=\"sym\" height=\"6\" width=\"6\" x=\"-3\" y=\"-3\"/><text class=\"lab\" transform=\"translate(0 11)\">1</text></g><g class=\"a39 c2 node n12 p0\" transform=\"translate(-34.8633 32.0573)\"><g class=\"a12 i1 leaf node n2 p0 sample\" transform=\"translate(29.8828 9.86948)\"><path class=\"edge\" d=\"M 0 0 V -9.86948 H -29.8828\"/><rect class=\"sym\" height=\"6\" width=\"6\" x=\"-3\" y=\"-3\"/><text class=\"lab\" transform=\"translate(0 11)\">2</text></g><g class=\"a12 c2 node n8 p0\" transform=\"translate(-29.8828 3.90254)\"><g class=\"a8 i0 leaf node n0 p0 sample\" transform=\"translate(-19.9219 5.96694)\"><path class=\"edge\" d=\"M 0 0 V -5.96694 H 19.9219\"/><rect class=\"sym\" height=\"6\" width=\"6\" x=\"-3\" y=\"-3\"/><text class=\"lab\" transform=\"translate(0 11)\">0</text></g><g class=\"a8 i1 leaf node n3 p0 sample\" transform=\"translate(19.9219 5.96694)\"><path class=\"edge\" d=\"M 0 0 V -5.96694 H -19.9219\"/><rect class=\"sym\" height=\"6\" width=\"6\" x=\"-3\" y=\"-3\"/><text class=\"lab\" transform=\"translate(0 11)\">3</text></g><path class=\"edge\" d=\"M 0 0 V -3.90254 H 29.8828\"/><circle class=\"sym\" cx=\"0\" cy=\"0\" r=\"3\"/><text class=\"lab lft\" transform=\"translate(-3 -7.0)\">8</text></g><path class=\"edge\" d=\"M 0 0 V -32.0573 H 34.8633\"/><circle class=\"sym\" cx=\"0\" cy=\"0\" r=\"3\"/><text class=\"lab lft\" transform=\"translate(-3 -7.0)\">12</text></g><circle class=\"sym\" cx=\"0\" cy=\"0\" r=\"3\"/><text class=\"lab\" transform=\"translate(0 -11)\">39</text></g></g></g><g class=\"tree t12\" transform=\"translate(2412.5 0)\"><g class=\"plotbox\"><g class=\"c2 node n31 p0 root\" transform=\"translate(124.59 90.4352)\"><g class=\"a31 i0 leaf node n1 p0 sample\" transform=\"translate(34.8633 30.9648)\"><path class=\"edge\" d=\"M 0 0 V -30.9648 H -34.8633\"/><rect class=\"sym\" height=\"6\" width=\"6\" x=\"-3\" y=\"-3\"/><text class=\"lab\" transform=\"translate(0 11)\">1</text></g><g class=\"a31 c2 node n12 p0\" transform=\"translate(-34.8633 21.0953)\"><g class=\"a12 i1 leaf node n2 p0 sample\" transform=\"translate(29.8828 9.86948)\"><path class=\"edge\" d=\"M 0 0 V -9.86948 H -29.8828\"/><rect class=\"sym\" height=\"6\" width=\"6\" x=\"-3\" y=\"-3\"/><text class=\"lab\" transform=\"translate(0 11)\">2</text></g><g class=\"a12 c2 node n8 p0\" transform=\"translate(-29.8828 3.90254)\"><g class=\"a8 i0 leaf node n0 p0 sample\" transform=\"translate(-19.9219 5.96694)\"><path class=\"edge\" d=\"M 0 0 V -5.96694 H 19.9219\"/><rect class=\"sym\" height=\"6\" width=\"6\" x=\"-3\" y=\"-3\"/><text class=\"lab\" transform=\"translate(0 11)\">0</text></g><g class=\"a8 i1 leaf node n3 p0 sample\" transform=\"translate(19.9219 5.96694)\"><path class=\"edge\" d=\"M 0 0 V -5.96694 H -19.9219\"/><rect class=\"sym\" height=\"6\" width=\"6\" x=\"-3\" y=\"-3\"/><text class=\"lab\" transform=\"translate(0 11)\">3</text></g><path class=\"edge\" d=\"M 0 0 V -3.90254 H 29.8828\"/><circle class=\"sym\" cx=\"0\" cy=\"0\" r=\"3\"/><text class=\"lab lft\" transform=\"translate(-3 -7.0)\">8</text></g><path class=\"edge\" d=\"M 0 0 V -21.0953 H 34.8633\"/><circle class=\"sym\" cx=\"0\" cy=\"0\" r=\"3\"/><text class=\"lab lft\" transform=\"translate(-3 -7.0)\">12</text></g><circle class=\"sym\" cx=\"0\" cy=\"0\" r=\"3\"/><text class=\"lab\" transform=\"translate(0 -11)\">31</text></g></g></g><g class=\"tree t13\" transform=\"translate(2611.88 0)\"><g class=\"plotbox\"><g class=\"c2 node n51 p0 root\" transform=\"translate(124.59 52.3579)\"><g class=\"a51 i0 leaf node n1 p0 sample\" transform=\"translate(34.8633 69.0421)\"><path class=\"edge\" d=\"M 0 0 V -69.0421 H -34.8633\"/><rect class=\"sym\" height=\"6\" width=\"6\" x=\"-3\" y=\"-3\"/><text class=\"lab\" transform=\"translate(0 11)\">1</text></g><g class=\"a51 c2 node n12 p0\" transform=\"translate(-34.8633 59.1727)\"><g class=\"a12 i1 leaf node n2 p0 sample\" transform=\"translate(29.8828 9.86948)\"><path class=\"edge\" d=\"M 0 0 V -9.86948 H -29.8828\"/><rect class=\"sym\" height=\"6\" width=\"6\" x=\"-3\" y=\"-3\"/><text class=\"lab\" transform=\"translate(0 11)\">2</text></g><g class=\"a12 c2 node n8 p0\" transform=\"translate(-29.8828 3.90254)\"><g class=\"a8 i0 leaf node n0 p0 sample\" transform=\"translate(-19.9219 5.96694)\"><path class=\"edge\" d=\"M 0 0 V -5.96694 H 19.9219\"/><rect class=\"sym\" height=\"6\" width=\"6\" x=\"-3\" y=\"-3\"/><text class=\"lab\" transform=\"translate(0 11)\">0</text></g><g class=\"a8 i1 leaf node n3 p0 sample\" transform=\"translate(19.9219 5.96694)\"><path class=\"edge\" d=\"M 0 0 V -5.96694 H -19.9219\"/><rect class=\"sym\" height=\"6\" width=\"6\" x=\"-3\" y=\"-3\"/><text class=\"lab\" transform=\"translate(0 11)\">3</text></g><path class=\"edge\" d=\"M 0 0 V -3.90254 H 29.8828\"/><circle class=\"sym\" cx=\"0\" cy=\"0\" r=\"3\"/><text class=\"lab lft\" transform=\"translate(-3 -7.0)\">8</text></g><path class=\"edge\" d=\"M 0 0 V -59.1727 H 34.8633\"/><circle class=\"sym\" cx=\"0\" cy=\"0\" r=\"3\"/><text class=\"lab lft\" transform=\"translate(-3 -7.0)\">12</text></g><circle class=\"sym\" cx=\"0\" cy=\"0\" r=\"3\"/><text class=\"lab\" transform=\"translate(0 -11)\">51</text></g></g></g><g class=\"tree t14\" transform=\"translate(2811.25 0)\"><g class=\"plotbox\"><g class=\"c2 node n41 p0 root\" transform=\"translate(124.59 68.6726)\"><g class=\"a41 i0 leaf node n1 p0 sample\" transform=\"translate(34.8633 52.7274)\"><path class=\"edge\" d=\"M 0 0 V -52.7274 H -34.8633\"/><rect class=\"sym\" height=\"6\" width=\"6\" x=\"-3\" y=\"-3\"/><text class=\"lab\" transform=\"translate(0 11)\">1</text></g><g class=\"a41 c2 node n12 p0\" transform=\"translate(-34.8633 42.8579)\"><g class=\"a12 i1 leaf node n2 p0 sample\" transform=\"translate(29.8828 9.86948)\"><path class=\"edge\" d=\"M 0 0 V -9.86948 H -29.8828\"/><rect class=\"sym\" height=\"6\" width=\"6\" x=\"-3\" y=\"-3\"/><text class=\"lab\" transform=\"translate(0 11)\">2</text></g><g class=\"a12 c2 node n8 p0\" transform=\"translate(-29.8828 3.90254)\"><g class=\"a8 i0 leaf node n0 p0 sample\" transform=\"translate(-19.9219 5.96694)\"><path class=\"edge\" d=\"M 0 0 V -5.96694 H 19.9219\"/><rect class=\"sym\" height=\"6\" width=\"6\" x=\"-3\" y=\"-3\"/><text class=\"lab\" transform=\"translate(0 11)\">0</text></g><g class=\"a8 i1 leaf node n3 p0 sample\" transform=\"translate(19.9219 5.96694)\"><path class=\"edge\" d=\"M 0 0 V -5.96694 H -19.9219\"/><rect class=\"sym\" height=\"6\" width=\"6\" x=\"-3\" y=\"-3\"/><text class=\"lab\" transform=\"translate(0 11)\">3</text></g><path class=\"edge\" d=\"M 0 0 V -3.90254 H 29.8828\"/><circle class=\"sym\" cx=\"0\" cy=\"0\" r=\"3\"/><text class=\"lab lft\" transform=\"translate(-3 -7.0)\">8</text></g><path class=\"edge\" d=\"M 0 0 V -42.8579 H 34.8633\"/><circle class=\"sym\" cx=\"0\" cy=\"0\" r=\"3\"/><text class=\"lab lft\" transform=\"translate(-3 -7.0)\">12</text></g><circle class=\"sym\" cx=\"0\" cy=\"0\" r=\"3\"/><text class=\"lab\" transform=\"translate(0 -11)\">41</text></g></g></g><g class=\"tree t15\" transform=\"translate(3010.62 0)\"><g class=\"plotbox\"><g class=\"c2 node n41 p0 root\" transform=\"translate(124.59 68.6726)\"><g class=\"a41 i0 leaf node n1 p0 sample\" transform=\"translate(34.8633 52.7274)\"><path class=\"edge\" d=\"M 0 0 V -52.7274 H -34.8633\"/><rect class=\"sym\" height=\"6\" width=\"6\" x=\"-3\" y=\"-3\"/><text class=\"lab\" transform=\"translate(0 11)\">1</text></g><g class=\"a41 c2 node n12 p0\" transform=\"translate(-34.8633 42.8579)\"><g class=\"a12 i1 leaf node n2 p0 sample\" transform=\"translate(29.8828 9.86948)\"><path class=\"edge\" d=\"M 0 0 V -9.86948 H -29.8828\"/><rect class=\"sym\" height=\"6\" width=\"6\" x=\"-3\" y=\"-3\"/><text class=\"lab\" transform=\"translate(0 11)\">2</text></g><g class=\"a12 c2 node n10 p0\" transform=\"translate(-29.8828 1.01209)\"><g class=\"a10 i0 leaf node n0 p0 sample\" transform=\"translate(-19.9219 8.8574)\"><path class=\"edge\" d=\"M 0 0 V -8.8574 H 19.9219\"/><rect class=\"sym\" height=\"6\" width=\"6\" x=\"-3\" y=\"-3\"/><text class=\"lab\" transform=\"translate(0 11)\">0</text></g><g class=\"a10 i1 leaf node n3 p0 sample\" transform=\"translate(19.9219 8.8574)\"><path class=\"edge\" d=\"M 0 0 V -8.8574 H -19.9219\"/><rect class=\"sym\" height=\"6\" width=\"6\" x=\"-3\" y=\"-3\"/><text class=\"lab\" transform=\"translate(0 11)\">3</text></g><path class=\"edge\" d=\"M 0 0 V -1.01209 H 29.8828\"/><circle class=\"sym\" cx=\"0\" cy=\"0\" r=\"3\"/><text class=\"lab lft\" transform=\"translate(-3 -7.0)\">10</text></g><path class=\"edge\" d=\"M 0 0 V -42.8579 H 34.8633\"/><circle class=\"sym\" cx=\"0\" cy=\"0\" r=\"3\"/><text class=\"lab lft\" transform=\"translate(-3 -7.0)\">12</text></g><circle class=\"sym\" cx=\"0\" cy=\"0\" r=\"3\"/><text class=\"lab\" transform=\"translate(0 -11)\">41</text></g></g></g><g class=\"tree t16\" transform=\"translate(3210 0)\"><g class=\"plotbox\"><g class=\"c2 node n49 p0 root\" transform=\"translate(124.59 56.3309)\"><g class=\"a49 i0 leaf node n1 p0 sample\" transform=\"translate(34.8633 65.0691)\"><path class=\"edge\" d=\"M 0 0 V -65.0691 H -34.8633\"/><rect class=\"sym\" height=\"6\" width=\"6\" x=\"-3\" y=\"-3\"/><text class=\"lab\" transform=\"translate(0 11)\">1</text></g><g class=\"a49 c2 node n12 p0\" transform=\"translate(-34.8633 55.1996)\"><g class=\"a12 i1 leaf node n2 p0 sample\" transform=\"translate(29.8828 9.86948)\"><path class=\"edge\" d=\"M 0 0 V -9.86948 H -29.8828\"/><rect class=\"sym\" height=\"6\" width=\"6\" x=\"-3\" y=\"-3\"/><text class=\"lab\" transform=\"translate(0 11)\">2</text></g><g class=\"a12 c2 node n10 p0\" transform=\"translate(-29.8828 1.01209)\"><g class=\"a10 i0 leaf node n0 p0 sample\" transform=\"translate(-19.9219 8.8574)\"><path class=\"edge\" d=\"M 0 0 V -8.8574 H 19.9219\"/><rect class=\"sym\" height=\"6\" width=\"6\" x=\"-3\" y=\"-3\"/><text class=\"lab\" transform=\"translate(0 11)\">0</text></g><g class=\"a10 i1 leaf node n3 p0 sample\" transform=\"translate(19.9219 8.8574)\"><path class=\"edge\" d=\"M 0 0 V -8.8574 H -19.9219\"/><rect class=\"sym\" height=\"6\" width=\"6\" x=\"-3\" y=\"-3\"/><text class=\"lab\" transform=\"translate(0 11)\">3</text></g><path class=\"edge\" d=\"M 0 0 V -1.01209 H 29.8828\"/><circle class=\"sym\" cx=\"0\" cy=\"0\" r=\"3\"/><text class=\"lab lft\" transform=\"translate(-3 -7.0)\">10</text></g><path class=\"edge\" d=\"M 0 0 V -55.1996 H 34.8633\"/><circle class=\"sym\" cx=\"0\" cy=\"0\" r=\"3\"/><text class=\"lab lft\" transform=\"translate(-3 -7.0)\">12</text></g><circle class=\"sym\" cx=\"0\" cy=\"0\" r=\"3\"/><text class=\"lab\" transform=\"translate(0 -11)\">49</text></g></g></g><g class=\"tree t17\" transform=\"translate(3409.38 0)\"><g class=\"plotbox\"><g class=\"c2 node n50 p0 root\" transform=\"translate(124.59 52.6321)\"><g class=\"a50 i0 leaf node n1 p0 sample\" transform=\"translate(34.8633 68.7679)\"><path class=\"edge\" d=\"M 0 0 V -68.7679 H -34.8633\"/><rect class=\"sym\" height=\"6\" width=\"6\" x=\"-3\" y=\"-3\"/><text class=\"lab\" transform=\"translate(0 11)\">1</text></g><g class=\"a50 c2 node n12 p0\" transform=\"translate(-34.8633 58.8984)\"><g class=\"a12 i1 leaf node n2 p0 sample\" transform=\"translate(29.8828 9.86948)\"><path class=\"edge\" d=\"M 0 0 V -9.86948 H -29.8828\"/><rect class=\"sym\" height=\"6\" width=\"6\" x=\"-3\" y=\"-3\"/><text class=\"lab\" transform=\"translate(0 11)\">2</text></g><g class=\"a12 c2 node n10 p0\" transform=\"translate(-29.8828 1.01209)\"><g class=\"a10 i0 leaf node n0 p0 sample\" transform=\"translate(-19.9219 8.8574)\"><path class=\"edge\" d=\"M 0 0 V -8.8574 H 19.9219\"/><rect class=\"sym\" height=\"6\" width=\"6\" x=\"-3\" y=\"-3\"/><text class=\"lab\" transform=\"translate(0 11)\">0</text></g><g class=\"a10 i1 leaf node n3 p0 sample\" transform=\"translate(19.9219 8.8574)\"><path class=\"edge\" d=\"M 0 0 V -8.8574 H -19.9219\"/><rect class=\"sym\" height=\"6\" width=\"6\" x=\"-3\" y=\"-3\"/><text class=\"lab\" transform=\"translate(0 11)\">3</text></g><path class=\"edge\" d=\"M 0 0 V -1.01209 H 29.8828\"/><circle class=\"sym\" cx=\"0\" cy=\"0\" r=\"3\"/><text class=\"lab lft\" transform=\"translate(-3 -7.0)\">10</text></g><path class=\"edge\" d=\"M 0 0 V -58.8984 H 34.8633\"/><circle class=\"sym\" cx=\"0\" cy=\"0\" r=\"3\"/><text class=\"lab lft\" transform=\"translate(-3 -7.0)\">12</text></g><circle class=\"sym\" cx=\"0\" cy=\"0\" r=\"3\"/><text class=\"lab\" transform=\"translate(0 -11)\">50</text></g></g></g><g class=\"tree t18\" transform=\"translate(3608.75 0)\"><g class=\"plotbox\"><g class=\"c2 node n41 p0 root\" transform=\"translate(124.59 68.6726)\"><g class=\"a41 i0 leaf node n1 p0 sample\" transform=\"translate(34.8633 52.7274)\"><path class=\"edge\" d=\"M 0 0 V -52.7274 H -34.8633\"/><rect class=\"sym\" height=\"6\" width=\"6\" x=\"-3\" y=\"-3\"/><text class=\"lab\" transform=\"translate(0 11)\">1</text></g><g class=\"a41 c2 node n12 p0\" transform=\"translate(-34.8633 42.8579)\"><g class=\"a12 i1 leaf node n2 p0 sample\" transform=\"translate(29.8828 9.86948)\"><path class=\"edge\" d=\"M 0 0 V -9.86948 H -29.8828\"/><rect class=\"sym\" height=\"6\" width=\"6\" x=\"-3\" y=\"-3\"/><text class=\"lab\" transform=\"translate(0 11)\">2</text></g><g class=\"a12 c2 node n10 p0\" transform=\"translate(-29.8828 1.01209)\"><g class=\"a10 i0 leaf node n0 p0 sample\" transform=\"translate(-19.9219 8.8574)\"><path class=\"edge\" d=\"M 0 0 V -8.8574 H 19.9219\"/><rect class=\"sym\" height=\"6\" width=\"6\" x=\"-3\" y=\"-3\"/><text class=\"lab\" transform=\"translate(0 11)\">0</text></g><g class=\"a10 i1 leaf node n3 p0 sample\" transform=\"translate(19.9219 8.8574)\"><path class=\"edge\" d=\"M 0 0 V -8.8574 H -19.9219\"/><rect class=\"sym\" height=\"6\" width=\"6\" x=\"-3\" y=\"-3\"/><text class=\"lab\" transform=\"translate(0 11)\">3</text></g><path class=\"edge\" d=\"M 0 0 V -1.01209 H 29.8828\"/><circle class=\"sym\" cx=\"0\" cy=\"0\" r=\"3\"/><text class=\"lab lft\" transform=\"translate(-3 -7.0)\">10</text></g><path class=\"edge\" d=\"M 0 0 V -42.8579 H 34.8633\"/><circle class=\"sym\" cx=\"0\" cy=\"0\" r=\"3\"/><text class=\"lab lft\" transform=\"translate(-3 -7.0)\">12</text></g><circle class=\"sym\" cx=\"0\" cy=\"0\" r=\"3\"/><text class=\"lab\" transform=\"translate(0 -11)\">41</text></g></g></g><g class=\"tree t19\" transform=\"translate(3808.12 0)\"><g class=\"plotbox\"><g class=\"c2 node n37 p0 root\" transform=\"translate(124.59 82.1835)\"><g class=\"a37 i0 leaf node n1 p0 sample\" transform=\"translate(34.8633 39.2165)\"><path class=\"edge\" d=\"M 0 0 V -39.2165 H -34.8633\"/><rect class=\"sym\" height=\"6\" width=\"6\" x=\"-3\" y=\"-3\"/><text class=\"lab\" transform=\"translate(0 11)\">1</text></g><g class=\"a37 c2 node n12 p0\" transform=\"translate(-34.8633 29.347)\"><g class=\"a12 i1 leaf node n2 p0 sample\" transform=\"translate(29.8828 9.86948)\"><path class=\"edge\" d=\"M 0 0 V -9.86948 H -29.8828\"/><rect class=\"sym\" height=\"6\" width=\"6\" x=\"-3\" y=\"-3\"/><text class=\"lab\" transform=\"translate(0 11)\">2</text></g><g class=\"a12 c2 node n10 p0\" transform=\"translate(-29.8828 1.01209)\"><g class=\"a10 i0 leaf node n0 p0 sample\" transform=\"translate(-19.9219 8.8574)\"><path class=\"edge\" d=\"M 0 0 V -8.8574 H 19.9219\"/><rect class=\"sym\" height=\"6\" width=\"6\" x=\"-3\" y=\"-3\"/><text class=\"lab\" transform=\"translate(0 11)\">0</text></g><g class=\"a10 i1 leaf node n3 p0 sample\" transform=\"translate(19.9219 8.8574)\"><path class=\"edge\" d=\"M 0 0 V -8.8574 H -19.9219\"/><rect class=\"sym\" height=\"6\" width=\"6\" x=\"-3\" y=\"-3\"/><text class=\"lab\" transform=\"translate(0 11)\">3</text></g><path class=\"edge\" d=\"M 0 0 V -1.01209 H 29.8828\"/><circle class=\"sym\" cx=\"0\" cy=\"0\" r=\"3\"/><text class=\"lab lft\" transform=\"translate(-3 -7.0)\">10</text></g><path class=\"edge\" d=\"M 0 0 V -29.347 H 34.8633\"/><circle class=\"sym\" cx=\"0\" cy=\"0\" r=\"3\"/><text class=\"lab lft\" transform=\"translate(-3 -7.0)\">12</text></g><circle class=\"sym\" cx=\"0\" cy=\"0\" r=\"3\"/><text class=\"lab\" transform=\"translate(0 -11)\">37</text></g></g></g><g class=\"tree t20\" transform=\"translate(4007.5 0)\"><g class=\"plotbox\"><g class=\"c2 node n37 p0 root\" transform=\"translate(124.59 82.1835)\"><g class=\"a37 i0 leaf node n1 p0 sample\" transform=\"translate(34.8633 39.2165)\"><path class=\"edge\" d=\"M 0 0 V -39.2165 H -34.8633\"/><rect class=\"sym\" height=\"6\" width=\"6\" x=\"-3\" y=\"-3\"/><text class=\"lab\" transform=\"translate(0 11)\">1</text></g><g class=\"a37 c2 node n26 p0\" transform=\"translate(-34.8633 15.4362)\"><g class=\"a26 i1 leaf node n3 p0 sample\" transform=\"translate(29.8828 23.7803)\"><path class=\"edge\" d=\"M 0 0 V -23.7803 H -29.8828\"/><rect class=\"sym\" height=\"6\" width=\"6\" x=\"-3\" y=\"-3\"/><text class=\"lab\" transform=\"translate(0 11)\">3</text></g><g class=\"a26 c2 node n12 p0\" transform=\"translate(-29.8828 13.9109)\"><g class=\"a12 i1 leaf node n2 p0 sample\" transform=\"translate(19.9219 9.86948)\"><path class=\"edge\" d=\"M 0 0 V -9.86948 H -19.9219\"/><rect class=\"sym\" height=\"6\" width=\"6\" x=\"-3\" y=\"-3\"/><text class=\"lab\" transform=\"translate(0 11)\">2</text></g><g class=\"a12 i0 leaf node n0 p0 sample\" transform=\"translate(-19.9219 9.86948)\"><path class=\"edge\" d=\"M 0 0 V -9.86948 H 19.9219\"/><rect class=\"sym\" height=\"6\" width=\"6\" x=\"-3\" y=\"-3\"/><text class=\"lab\" transform=\"translate(0 11)\">0</text></g><path class=\"edge\" d=\"M 0 0 V -13.9109 H 29.8828\"/><circle class=\"sym\" cx=\"0\" cy=\"0\" r=\"3\"/><text class=\"lab lft\" transform=\"translate(-3 -7.0)\">12</text></g><path class=\"edge\" d=\"M 0 0 V -15.4362 H 34.8633\"/><circle class=\"sym\" cx=\"0\" cy=\"0\" r=\"3\"/><text class=\"lab lft\" transform=\"translate(-3 -7.0)\">26</text></g><circle class=\"sym\" cx=\"0\" cy=\"0\" r=\"3\"/><text class=\"lab\" transform=\"translate(0 -11)\">37</text></g></g></g><g class=\"tree t21\" transform=\"translate(4206.88 0)\"><g class=\"plotbox\"><g class=\"c2 node n26 p0 root\" transform=\"translate(99.6875 97.6197)\"><g class=\"a26 c2 node n12 p0\" transform=\"translate(-39.8438 13.9109)\"><g class=\"a12 i1 leaf node n2 p0 sample\" transform=\"translate(19.9219 9.86948)\"><path class=\"edge\" d=\"M 0 0 V -9.86948 H -19.9219\"/><rect class=\"sym\" height=\"6\" width=\"6\" x=\"-3\" y=\"-3\"/><text class=\"lab\" transform=\"translate(0 11)\">2</text></g><g class=\"a12 i0 leaf node n0 p0 sample\" transform=\"translate(-19.9219 9.86948)\"><path class=\"edge\" d=\"M 0 0 V -9.86948 H 19.9219\"/><rect class=\"sym\" height=\"6\" width=\"6\" x=\"-3\" y=\"-3\"/><text class=\"lab\" transform=\"translate(0 11)\">0</text></g><path class=\"edge\" d=\"M 0 0 V -13.9109 H 39.8438\"/><circle class=\"sym\" cx=\"0\" cy=\"0\" r=\"3\"/><text class=\"lab lft\" transform=\"translate(-3 -7.0)\">12</text></g><g class=\"a26 c2 node n9 p0\" transform=\"translate(39.8438 15.5856)\"><g class=\"a9 i0 leaf node n1 p0 sample\" transform=\"translate(-19.9219 8.19472)\"><path class=\"edge\" d=\"M 0 0 V -8.19472 H 19.9219\"/><rect class=\"sym\" height=\"6\" width=\"6\" x=\"-3\" y=\"-3\"/><text class=\"lab\" transform=\"translate(0 11)\">1</text></g><g class=\"a9 i1 leaf node n3 p0 sample\" transform=\"translate(19.9219 8.19472)\"><path class=\"edge\" d=\"M 0 0 V -8.19472 H -19.9219\"/><rect class=\"sym\" height=\"6\" width=\"6\" x=\"-3\" y=\"-3\"/><text class=\"lab\" transform=\"translate(0 11)\">3</text></g><path class=\"edge\" d=\"M 0 0 V -15.5856 H -39.8438\"/><circle class=\"sym\" cx=\"0\" cy=\"0\" r=\"3\"/><text class=\"lab rgt\" transform=\"translate(3 -7.0)\">9</text></g><circle class=\"sym\" cx=\"0\" cy=\"0\" r=\"3\"/><text class=\"lab\" transform=\"translate(0 -11)\">26</text></g></g></g><g class=\"tree t22\" transform=\"translate(4406.25 0)\"><g class=\"plotbox\"><g class=\"c2 node n26 p0 root\" transform=\"translate(114.629 97.6197)\"><g class=\"a26 c2 node n12 p0\" transform=\"translate(-44.8242 13.9109)\"><g class=\"a12 i0 leaf node n0 p0 sample\" transform=\"translate(-29.8828 9.86948)\"><path class=\"edge\" d=\"M 0 0 V -9.86948 H 29.8828\"/><rect class=\"sym\" height=\"6\" width=\"6\" x=\"-3\" y=\"-3\"/><text class=\"lab\" transform=\"translate(0 11)\">0</text></g><g class=\"a12 c2 node n5 p0\" transform=\"translate(29.8828 6.26201)\"><g class=\"a5 i0 leaf node n1 p0 sample\" transform=\"translate(-19.9219 3.60748)\"><path class=\"edge\" d=\"M 0 0 V -3.60748 H 19.9219\"/><rect class=\"sym\" height=\"6\" width=\"6\" x=\"-3\" y=\"-3\"/><text class=\"lab\" transform=\"translate(0 11)\">1</text></g><g class=\"a5 i1 leaf node n2 p0 sample\" transform=\"translate(19.9219 3.60748)\"><path class=\"edge\" d=\"M 0 0 V -3.60748 H -19.9219\"/><rect class=\"sym\" height=\"6\" width=\"6\" x=\"-3\" y=\"-3\"/><text class=\"lab\" transform=\"translate(0 11)\">2</text></g><path class=\"edge\" d=\"M 0 0 V -6.26201 H -29.8828\"/><circle class=\"sym\" cx=\"0\" cy=\"0\" r=\"3\"/><text class=\"lab rgt\" transform=\"translate(3 -7.0)\">5</text></g><path class=\"edge\" d=\"M 0 0 V -13.9109 H 44.8242\"/><circle class=\"sym\" cx=\"0\" cy=\"0\" r=\"3\"/><text class=\"lab lft\" transform=\"translate(-3 -7.0)\">12</text></g><g class=\"a26 i1 leaf node n3 p0 sample\" transform=\"translate(44.8242 23.7803)\"><path class=\"edge\" d=\"M 0 0 V -23.7803 H -44.8242\"/><rect class=\"sym\" height=\"6\" width=\"6\" x=\"-3\" y=\"-3\"/><text class=\"lab\" transform=\"translate(0 11)\">3</text></g><circle class=\"sym\" cx=\"0\" cy=\"0\" r=\"3\"/><text class=\"lab\" transform=\"translate(0 -11)\">26</text></g></g></g><g class=\"tree t23\" transform=\"translate(4605.62 0)\"><g class=\"plotbox\"><g class=\"c2 node n32 p0 root\" transform=\"translate(114.629 90.257)\"><g class=\"a32 i1 leaf node n3 p0 sample\" transform=\"translate(44.8242 31.143)\"><path class=\"edge\" d=\"M 0 0 V -31.143 H -44.8242\"/><rect class=\"sym\" height=\"6\" width=\"6\" x=\"-3\" y=\"-3\"/><text class=\"lab\" transform=\"translate(0 11)\">3</text></g><g class=\"a32 c2 node n12 p0\" transform=\"translate(-44.8242 21.2735)\"><g class=\"a12 i0 leaf node n0 p0 sample\" transform=\"translate(-29.8828 9.86948)\"><path class=\"edge\" d=\"M 0 0 V -9.86948 H 29.8828\"/><rect class=\"sym\" height=\"6\" width=\"6\" x=\"-3\" y=\"-3\"/><text class=\"lab\" transform=\"translate(0 11)\">0</text></g><g class=\"a12 c2 node n5 p0\" transform=\"translate(29.8828 6.26201)\"><g class=\"a5 i0 leaf node n1 p0 sample\" transform=\"translate(-19.9219 3.60748)\"><path class=\"edge\" d=\"M 0 0 V -3.60748 H 19.9219\"/><rect class=\"sym\" height=\"6\" width=\"6\" x=\"-3\" y=\"-3\"/><text class=\"lab\" transform=\"translate(0 11)\">1</text></g><g class=\"a5 i1 leaf node n2 p0 sample\" transform=\"translate(19.9219 3.60748)\"><path class=\"edge\" d=\"M 0 0 V -3.60748 H -19.9219\"/><rect class=\"sym\" height=\"6\" width=\"6\" x=\"-3\" y=\"-3\"/><text class=\"lab\" transform=\"translate(0 11)\">2</text></g><path class=\"edge\" d=\"M 0 0 V -6.26201 H -29.8828\"/><circle class=\"sym\" cx=\"0\" cy=\"0\" r=\"3\"/><text class=\"lab rgt\" transform=\"translate(3 -7.0)\">5</text></g><path class=\"edge\" d=\"M 0 0 V -21.2735 H 44.8242\"/><circle class=\"sym\" cx=\"0\" cy=\"0\" r=\"3\"/><text class=\"lab lft\" transform=\"translate(-3 -7.0)\">12</text></g><circle class=\"sym\" cx=\"0\" cy=\"0\" r=\"3\"/><text class=\"lab\" transform=\"translate(0 -11)\">32</text></g></g></g><g class=\"tree t24\" transform=\"translate(4805 0)\"><g class=\"plotbox\"><g class=\"c2 node n32 p0 root\" transform=\"translate(114.629 90.257)\"><g class=\"a32 i1 leaf node n3 p0 sample\" transform=\"translate(44.8242 31.143)\"><path class=\"edge\" d=\"M 0 0 V -31.143 H -44.8242\"/><rect class=\"sym\" height=\"6\" width=\"6\" x=\"-3\" y=\"-3\"/><text class=\"lab\" transform=\"translate(0 11)\">3</text></g><g class=\"a32 c2 node n31 p0\" transform=\"translate(-44.8242 0.178204)\"><g class=\"a31 i0 leaf node n0 p0 sample\" transform=\"translate(-29.8828 30.9648)\"><path class=\"edge\" d=\"M 0 0 V -30.9648 H 29.8828\"/><rect class=\"sym\" height=\"6\" width=\"6\" x=\"-3\" y=\"-3\"/><text class=\"lab\" transform=\"translate(0 11)\">0</text></g><g class=\"a31 c2 node n5 p0\" transform=\"translate(29.8828 27.3573)\"><g class=\"a5 i0 leaf node n1 p0 sample\" transform=\"translate(-19.9219 3.60748)\"><path class=\"edge\" d=\"M 0 0 V -3.60748 H 19.9219\"/><rect class=\"sym\" height=\"6\" width=\"6\" x=\"-3\" y=\"-3\"/><text class=\"lab\" transform=\"translate(0 11)\">1</text></g><g class=\"a5 i1 leaf node n2 p0 sample\" transform=\"translate(19.9219 3.60748)\"><path class=\"edge\" d=\"M 0 0 V -3.60748 H -19.9219\"/><rect class=\"sym\" height=\"6\" width=\"6\" x=\"-3\" y=\"-3\"/><text class=\"lab\" transform=\"translate(0 11)\">2</text></g><path class=\"edge\" d=\"M 0 0 V -27.3573 H -29.8828\"/><circle class=\"sym\" cx=\"0\" cy=\"0\" r=\"3\"/><text class=\"lab rgt\" transform=\"translate(3 -7.0)\">5</text></g><path class=\"edge\" d=\"M 0 0 V -0.178204 H 44.8242\"/><circle class=\"sym\" cx=\"0\" cy=\"0\" r=\"3\"/><text class=\"lab lft\" transform=\"translate(-3 -7.0)\">31</text></g><circle class=\"sym\" cx=\"0\" cy=\"0\" r=\"3\"/><text class=\"lab\" transform=\"translate(0 -11)\">32</text></g></g></g><g class=\"tree t25\" transform=\"translate(5004.38 0)\"><g class=\"plotbox\"><g class=\"c2 node n38 p0 root\" transform=\"translate(84.7461 79.7463)\"><g class=\"a38 i0 leaf node n0 p0 sample\" transform=\"translate(-44.8242 41.6537)\"><path class=\"edge\" d=\"M 0 0 V -41.6537 H 44.8242\"/><rect class=\"sym\" height=\"6\" width=\"6\" x=\"-3\" y=\"-3\"/><text class=\"lab\" transform=\"translate(0 11)\">0</text></g><g class=\"a38 c2 node n32 p0\" transform=\"translate(44.8242 10.5107)\"><g class=\"a32 i1 leaf node n3 p0 sample\" transform=\"translate(29.8828 31.143)\"><path class=\"edge\" d=\"M 0 0 V -31.143 H -29.8828\"/><rect class=\"sym\" height=\"6\" width=\"6\" x=\"-3\" y=\"-3\"/><text class=\"lab\" transform=\"translate(0 11)\">3</text></g><g class=\"a32 c2 node n5 p0\" transform=\"translate(-29.8828 27.5355)\"><g class=\"a5 i0 leaf node n1 p0 sample\" transform=\"translate(-19.9219 3.60748)\"><path class=\"edge\" d=\"M 0 0 V -3.60748 H 19.9219\"/><rect class=\"sym\" height=\"6\" width=\"6\" x=\"-3\" y=\"-3\"/><text class=\"lab\" transform=\"translate(0 11)\">1</text></g><g class=\"a5 i1 leaf node n2 p0 sample\" transform=\"translate(19.9219 3.60748)\"><path class=\"edge\" d=\"M 0 0 V -3.60748 H -19.9219\"/><rect class=\"sym\" height=\"6\" width=\"6\" x=\"-3\" y=\"-3\"/><text class=\"lab\" transform=\"translate(0 11)\">2</text></g><path class=\"edge\" d=\"M 0 0 V -27.5355 H 29.8828\"/><circle class=\"sym\" cx=\"0\" cy=\"0\" r=\"3\"/><text class=\"lab lft\" transform=\"translate(-3 -7.0)\">5</text></g><path class=\"edge\" d=\"M 0 0 V -10.5107 H -44.8242\"/><circle class=\"sym\" cx=\"0\" cy=\"0\" r=\"3\"/><text class=\"lab rgt\" transform=\"translate(3 -7.0)\">32</text></g><circle class=\"sym\" cx=\"0\" cy=\"0\" r=\"3\"/><text class=\"lab\" transform=\"translate(0 -11)\">38</text></g></g></g><g class=\"tree t26\" transform=\"translate(5203.75 0)\"><g class=\"plotbox\"><g class=\"c2 node n45 p0 root\" transform=\"translate(99.6875 63.1439)\"><g class=\"a45 c2 node n5 p0\" transform=\"translate(39.8438 54.6487)\"><g class=\"a5 i0 leaf node n1 p0 sample\" transform=\"translate(-19.9219 3.60748)\"><path class=\"edge\" d=\"M 0 0 V -3.60748 H 19.9219\"/><rect class=\"sym\" height=\"6\" width=\"6\" x=\"-3\" y=\"-3\"/><text class=\"lab\" transform=\"translate(0 11)\">1</text></g><g class=\"a5 i1 leaf node n2 p0 sample\" transform=\"translate(19.9219 3.60748)\"><path class=\"edge\" d=\"M 0 0 V -3.60748 H -19.9219\"/><rect class=\"sym\" height=\"6\" width=\"6\" x=\"-3\" y=\"-3\"/><text class=\"lab\" transform=\"translate(0 11)\">2</text></g><path class=\"edge\" d=\"M 0 0 V -54.6487 H -39.8438\"/><circle class=\"sym\" cx=\"0\" cy=\"0\" r=\"3\"/><text class=\"lab rgt\" transform=\"translate(3 -7.0)\">5</text></g><g class=\"a45 c2 node n38 p0\" transform=\"translate(-39.8438 16.6024)\"><g class=\"a38 i0 leaf node n0 p0 sample\" transform=\"translate(-19.9219 41.6537)\"><path class=\"edge\" d=\"M 0 0 V -41.6537 H 19.9219\"/><rect class=\"sym\" height=\"6\" width=\"6\" x=\"-3\" y=\"-3\"/><text class=\"lab\" transform=\"translate(0 11)\">0</text></g><g class=\"a38 i1 leaf node n3 p0 sample\" transform=\"translate(19.9219 41.6537)\"><path class=\"edge\" d=\"M 0 0 V -41.6537 H -19.9219\"/><rect class=\"sym\" height=\"6\" width=\"6\" x=\"-3\" y=\"-3\"/><text class=\"lab\" transform=\"translate(0 11)\">3</text></g><path class=\"edge\" d=\"M 0 0 V -16.6024 H 39.8438\"/><circle class=\"sym\" cx=\"0\" cy=\"0\" r=\"3\"/><text class=\"lab lft\" transform=\"translate(-3 -7.0)\">38</text></g><circle class=\"sym\" cx=\"0\" cy=\"0\" r=\"3\"/><text class=\"lab\" transform=\"translate(0 -11)\">45</text></g></g></g><g class=\"tree t27\" transform=\"translate(5403.12 0)\"><g class=\"plotbox\"><g class=\"c2 node n55 p0 root\" transform=\"translate(99.6875 32.1646)\"><g class=\"a55 c2 node n5 p0\" transform=\"translate(39.8438 85.6279)\"><g class=\"a5 i0 leaf node n1 p0 sample\" transform=\"translate(-19.9219 3.60748)\"><path class=\"edge\" d=\"M 0 0 V -3.60748 H 19.9219\"/><rect class=\"sym\" height=\"6\" width=\"6\" x=\"-3\" y=\"-3\"/><text class=\"lab\" transform=\"translate(0 11)\">1</text></g><g class=\"a5 i1 leaf node n2 p0 sample\" transform=\"translate(19.9219 3.60748)\"><path class=\"edge\" d=\"M 0 0 V -3.60748 H -19.9219\"/><rect class=\"sym\" height=\"6\" width=\"6\" x=\"-3\" y=\"-3\"/><text class=\"lab\" transform=\"translate(0 11)\">2</text></g><path class=\"edge\" d=\"M 0 0 V -85.6279 H -39.8438\"/><circle class=\"sym\" cx=\"0\" cy=\"0\" r=\"3\"/><text class=\"lab rgt\" transform=\"translate(3 -7.0)\">5</text></g><g class=\"a55 c2 node n38 p0\" transform=\"translate(-39.8438 47.5816)\"><g class=\"a38 i0 leaf node n0 p0 sample\" transform=\"translate(-19.9219 41.6537)\"><path class=\"edge\" d=\"M 0 0 V -41.6537 H 19.9219\"/><rect class=\"sym\" height=\"6\" width=\"6\" x=\"-3\" y=\"-3\"/><text class=\"lab\" transform=\"translate(0 11)\">0</text></g><g class=\"a38 i1 leaf node n3 p0 sample\" transform=\"translate(19.9219 41.6537)\"><path class=\"edge\" d=\"M 0 0 V -41.6537 H -19.9219\"/><rect class=\"sym\" height=\"6\" width=\"6\" x=\"-3\" y=\"-3\"/><text class=\"lab\" transform=\"translate(0 11)\">3</text></g><path class=\"edge\" d=\"M 0 0 V -47.5816 H 39.8438\"/><circle class=\"sym\" cx=\"0\" cy=\"0\" r=\"3\"/><text class=\"lab lft\" transform=\"translate(-3 -7.0)\">38</text></g><circle class=\"sym\" cx=\"0\" cy=\"0\" r=\"3\"/><text class=\"lab\" transform=\"translate(0 -11)\">55</text></g></g></g><g class=\"tree t28\" transform=\"translate(5602.5 0)\"><g class=\"plotbox\"><g class=\"c2 node n55 p0 root\" transform=\"translate(99.6875 32.1646)\"><g class=\"a55 c2 node n5 p0\" transform=\"translate(39.8438 85.6279)\"><g class=\"a5 i0 leaf node n1 p0 sample\" transform=\"translate(-19.9219 3.60748)\"><path class=\"edge\" d=\"M 0 0 V -3.60748 H 19.9219\"/><rect class=\"sym\" height=\"6\" width=\"6\" x=\"-3\" y=\"-3\"/><text class=\"lab\" transform=\"translate(0 11)\">1</text></g><g class=\"a5 i1 leaf node n2 p0 sample\" transform=\"translate(19.9219 3.60748)\"><path class=\"edge\" d=\"M 0 0 V -3.60748 H -19.9219\"/><rect class=\"sym\" height=\"6\" width=\"6\" x=\"-3\" y=\"-3\"/><text class=\"lab\" transform=\"translate(0 11)\">2</text></g><path class=\"edge\" d=\"M 0 0 V -85.6279 H -39.8438\"/><circle class=\"sym\" cx=\"0\" cy=\"0\" r=\"3\"/><text class=\"lab rgt\" transform=\"translate(3 -7.0)\">5</text></g><g class=\"a55 c2 node n32 p0\" transform=\"translate(-39.8438 58.0923)\"><g class=\"a32 i0 leaf node n0 p0 sample\" transform=\"translate(-19.9219 31.143)\"><path class=\"edge\" d=\"M 0 0 V -31.143 H 19.9219\"/><rect class=\"sym\" height=\"6\" width=\"6\" x=\"-3\" y=\"-3\"/><text class=\"lab\" transform=\"translate(0 11)\">0</text></g><g class=\"a32 i1 leaf node n3 p0 sample\" transform=\"translate(19.9219 31.143)\"><path class=\"edge\" d=\"M 0 0 V -31.143 H -19.9219\"/><rect class=\"sym\" height=\"6\" width=\"6\" x=\"-3\" y=\"-3\"/><text class=\"lab\" transform=\"translate(0 11)\">3</text></g><path class=\"edge\" d=\"M 0 0 V -58.0923 H 39.8438\"/><circle class=\"sym\" cx=\"0\" cy=\"0\" r=\"3\"/><text class=\"lab lft\" transform=\"translate(-3 -7.0)\">32</text></g><circle class=\"sym\" cx=\"0\" cy=\"0\" r=\"3\"/><text class=\"lab\" transform=\"translate(0 -11)\">55</text></g></g></g><g class=\"tree t29\" transform=\"translate(5801.88 0)\"><g class=\"plotbox\"><g class=\"c2 node n38 p0 root\" transform=\"translate(99.6875 79.7463)\"><g class=\"a38 c2 node n5 p0\" transform=\"translate(39.8438 38.0462)\"><g class=\"a5 i0 leaf node n1 p0 sample\" transform=\"translate(-19.9219 3.60748)\"><path class=\"edge\" d=\"M 0 0 V -3.60748 H 19.9219\"/><rect class=\"sym\" height=\"6\" width=\"6\" x=\"-3\" y=\"-3\"/><text class=\"lab\" transform=\"translate(0 11)\">1</text></g><g class=\"a5 i1 leaf node n2 p0 sample\" transform=\"translate(19.9219 3.60748)\"><path class=\"edge\" d=\"M 0 0 V -3.60748 H -19.9219\"/><rect class=\"sym\" height=\"6\" width=\"6\" x=\"-3\" y=\"-3\"/><text class=\"lab\" transform=\"translate(0 11)\">2</text></g><path class=\"edge\" d=\"M 0 0 V -38.0462 H -39.8438\"/><circle class=\"sym\" cx=\"0\" cy=\"0\" r=\"3\"/><text class=\"lab rgt\" transform=\"translate(3 -7.0)\">5</text></g><g class=\"a38 c2 node n32 p0\" transform=\"translate(-39.8438 10.5107)\"><g class=\"a32 i0 leaf node n0 p0 sample\" transform=\"translate(-19.9219 31.143)\"><path class=\"edge\" d=\"M 0 0 V -31.143 H 19.9219\"/><rect class=\"sym\" height=\"6\" width=\"6\" x=\"-3\" y=\"-3\"/><text class=\"lab\" transform=\"translate(0 11)\">0</text></g><g class=\"a32 i1 leaf node n3 p0 sample\" transform=\"translate(19.9219 31.143)\"><path class=\"edge\" d=\"M 0 0 V -31.143 H -19.9219\"/><rect class=\"sym\" height=\"6\" width=\"6\" x=\"-3\" y=\"-3\"/><text class=\"lab\" transform=\"translate(0 11)\">3</text></g><path class=\"edge\" d=\"M 0 0 V -10.5107 H 39.8438\"/><circle class=\"sym\" cx=\"0\" cy=\"0\" r=\"3\"/><text class=\"lab lft\" transform=\"translate(-3 -7.0)\">32</text></g><circle class=\"sym\" cx=\"0\" cy=\"0\" r=\"3\"/><text class=\"lab\" transform=\"translate(0 -11)\">38</text></g></g></g><g class=\"tree t30\" transform=\"translate(6001.25 0)\"><g class=\"plotbox\"><g class=\"c2 node n32 p0 root\" transform=\"translate(84.7461 90.257)\"><g class=\"a32 i0 leaf node n0 p0 sample\" transform=\"translate(-44.8242 31.143)\"><path class=\"edge\" d=\"M 0 0 V -31.143 H 44.8242\"/><rect class=\"sym\" height=\"6\" width=\"6\" x=\"-3\" y=\"-3\"/><text class=\"lab\" transform=\"translate(0 11)\">0</text></g><g class=\"a32 c2 node n21 p0\" transform=\"translate(44.8242 10.6891)\"><g class=\"a21 i1 leaf node n3 p0 sample\" transform=\"translate(29.8828 20.4539)\"><path class=\"edge\" d=\"M 0 0 V -20.4539 H -29.8828\"/><rect class=\"sym\" height=\"6\" width=\"6\" x=\"-3\" y=\"-3\"/><text class=\"lab\" transform=\"translate(0 11)\">3</text></g><g class=\"a21 c2 node n5 p0\" transform=\"translate(-29.8828 16.8464)\"><g class=\"a5 i0 leaf node n1 p0 sample\" transform=\"translate(-19.9219 3.60748)\"><path class=\"edge\" d=\"M 0 0 V -3.60748 H 19.9219\"/><rect class=\"sym\" height=\"6\" width=\"6\" x=\"-3\" y=\"-3\"/><text class=\"lab\" transform=\"translate(0 11)\">1</text></g><g class=\"a5 i1 leaf node n2 p0 sample\" transform=\"translate(19.9219 3.60748)\"><path class=\"edge\" d=\"M 0 0 V -3.60748 H -19.9219\"/><rect class=\"sym\" height=\"6\" width=\"6\" x=\"-3\" y=\"-3\"/><text class=\"lab\" transform=\"translate(0 11)\">2</text></g><path class=\"edge\" d=\"M 0 0 V -16.8464 H 29.8828\"/><circle class=\"sym\" cx=\"0\" cy=\"0\" r=\"3\"/><text class=\"lab lft\" transform=\"translate(-3 -7.0)\">5</text></g><path class=\"edge\" d=\"M 0 0 V -10.6891 H -44.8242\"/><circle class=\"sym\" cx=\"0\" cy=\"0\" r=\"3\"/><text class=\"lab rgt\" transform=\"translate(3 -7.0)\">21</text></g><circle class=\"sym\" cx=\"0\" cy=\"0\" r=\"3\"/><text class=\"lab\" transform=\"translate(0 -11)\">32</text></g></g></g><g class=\"tree t31\" transform=\"translate(6200.62 0)\"><g class=\"plotbox\"><g class=\"c2 node n36 p0 root\" transform=\"translate(84.7461 88.2629)\"><g class=\"a36 i0 leaf node n0 p0 sample\" transform=\"translate(-44.8242 33.1371)\"><path class=\"edge\" d=\"M 0 0 V -33.1371 H 44.8242\"/><rect class=\"sym\" height=\"6\" width=\"6\" x=\"-3\" y=\"-3\"/><text class=\"lab\" transform=\"translate(0 11)\">0</text></g><g class=\"a36 c2 node n21 p0\" transform=\"translate(44.8242 12.6832)\"><g class=\"a21 i1 leaf node n3 p0 sample\" transform=\"translate(29.8828 20.4539)\"><path class=\"edge\" d=\"M 0 0 V -20.4539 H -29.8828\"/><rect class=\"sym\" height=\"6\" width=\"6\" x=\"-3\" y=\"-3\"/><text class=\"lab\" transform=\"translate(0 11)\">3</text></g><g class=\"a21 c2 node n5 p0\" transform=\"translate(-29.8828 16.8464)\"><g class=\"a5 i0 leaf node n1 p0 sample\" transform=\"translate(-19.9219 3.60748)\"><path class=\"edge\" d=\"M 0 0 V -3.60748 H 19.9219\"/><rect class=\"sym\" height=\"6\" width=\"6\" x=\"-3\" y=\"-3\"/><text class=\"lab\" transform=\"translate(0 11)\">1</text></g><g class=\"a5 i1 leaf node n2 p0 sample\" transform=\"translate(19.9219 3.60748)\"><path class=\"edge\" d=\"M 0 0 V -3.60748 H -19.9219\"/><rect class=\"sym\" height=\"6\" width=\"6\" x=\"-3\" y=\"-3\"/><text class=\"lab\" transform=\"translate(0 11)\">2</text></g><path class=\"edge\" d=\"M 0 0 V -16.8464 H 29.8828\"/><circle class=\"sym\" cx=\"0\" cy=\"0\" r=\"3\"/><text class=\"lab lft\" transform=\"translate(-3 -7.0)\">5</text></g><path class=\"edge\" d=\"M 0 0 V -12.6832 H -44.8242\"/><circle class=\"sym\" cx=\"0\" cy=\"0\" r=\"3\"/><text class=\"lab rgt\" transform=\"translate(3 -7.0)\">21</text></g><circle class=\"sym\" cx=\"0\" cy=\"0\" r=\"3\"/><text class=\"lab\" transform=\"translate(0 -11)\">36</text></g></g></g><g class=\"tree t32\" transform=\"translate(6400 0)\"><g class=\"plotbox\"><g class=\"c2 node n36 p0 root\" transform=\"translate(84.7461 88.2629)\"><g class=\"a36 i0 leaf node n0 p0 sample\" transform=\"translate(-44.8242 33.1371)\"><path class=\"edge\" d=\"M 0 0 V -33.1371 H 44.8242\"/><rect class=\"sym\" height=\"6\" width=\"6\" x=\"-3\" y=\"-3\"/><text class=\"lab\" transform=\"translate(0 11)\">0</text></g><g class=\"a36 c2 node n21 p0\" transform=\"translate(44.8242 12.6832)\"><g class=\"a21 i1 leaf node n3 p0 sample\" transform=\"translate(29.8828 20.4539)\"><path class=\"edge\" d=\"M 0 0 V -20.4539 H -29.8828\"/><rect class=\"sym\" height=\"6\" width=\"6\" x=\"-3\" y=\"-3\"/><text class=\"lab\" transform=\"translate(0 11)\">3</text></g><g class=\"a21 c2 node n11 p0\" transform=\"translate(-29.8828 11.3649)\"><g class=\"a11 i0 leaf node n1 p0 sample\" transform=\"translate(-19.9219 9.08901)\"><path class=\"edge\" d=\"M 0 0 V -9.08901 H 19.9219\"/><rect class=\"sym\" height=\"6\" width=\"6\" x=\"-3\" y=\"-3\"/><text class=\"lab\" transform=\"translate(0 11)\">1</text></g><g class=\"a11 i1 leaf node n2 p0 sample\" transform=\"translate(19.9219 9.08901)\"><path class=\"edge\" d=\"M 0 0 V -9.08901 H -19.9219\"/><rect class=\"sym\" height=\"6\" width=\"6\" x=\"-3\" y=\"-3\"/><text class=\"lab\" transform=\"translate(0 11)\">2</text></g><path class=\"edge\" d=\"M 0 0 V -11.3649 H 29.8828\"/><circle class=\"sym\" cx=\"0\" cy=\"0\" r=\"3\"/><text class=\"lab lft\" transform=\"translate(-3 -7.0)\">11</text></g><path class=\"edge\" d=\"M 0 0 V -12.6832 H -44.8242\"/><circle class=\"sym\" cx=\"0\" cy=\"0\" r=\"3\"/><text class=\"lab rgt\" transform=\"translate(3 -7.0)\">21</text></g><circle class=\"sym\" cx=\"0\" cy=\"0\" r=\"3\"/><text class=\"lab\" transform=\"translate(0 -11)\">36</text></g></g></g><g class=\"tree t33\" transform=\"translate(6599.38 0)\"><g class=\"plotbox\"><g class=\"c2 node n32 p0 root\" transform=\"translate(84.7461 90.257)\"><g class=\"a32 i0 leaf node n0 p0 sample\" transform=\"translate(-44.8242 31.143)\"><path class=\"edge\" d=\"M 0 0 V -31.143 H 44.8242\"/><rect class=\"sym\" height=\"6\" width=\"6\" x=\"-3\" y=\"-3\"/><text class=\"lab\" transform=\"translate(0 11)\">0</text></g><g class=\"a32 c2 node n21 p0\" transform=\"translate(44.8242 10.6891)\"><g class=\"a21 i1 leaf node n3 p0 sample\" transform=\"translate(29.8828 20.4539)\"><path class=\"edge\" d=\"M 0 0 V -20.4539 H -29.8828\"/><rect class=\"sym\" height=\"6\" width=\"6\" x=\"-3\" y=\"-3\"/><text class=\"lab\" transform=\"translate(0 11)\">3</text></g><g class=\"a21 c2 node n11 p0\" transform=\"translate(-29.8828 11.3649)\"><g class=\"a11 i0 leaf node n1 p0 sample\" transform=\"translate(-19.9219 9.08901)\"><path class=\"edge\" d=\"M 0 0 V -9.08901 H 19.9219\"/><rect class=\"sym\" height=\"6\" width=\"6\" x=\"-3\" y=\"-3\"/><text class=\"lab\" transform=\"translate(0 11)\">1</text></g><g class=\"a11 i1 leaf node n2 p0 sample\" transform=\"translate(19.9219 9.08901)\"><path class=\"edge\" d=\"M 0 0 V -9.08901 H -19.9219\"/><rect class=\"sym\" height=\"6\" width=\"6\" x=\"-3\" y=\"-3\"/><text class=\"lab\" transform=\"translate(0 11)\">2</text></g><path class=\"edge\" d=\"M 0 0 V -11.3649 H 29.8828\"/><circle class=\"sym\" cx=\"0\" cy=\"0\" r=\"3\"/><text class=\"lab lft\" transform=\"translate(-3 -7.0)\">11</text></g><path class=\"edge\" d=\"M 0 0 V -10.6891 H -44.8242\"/><circle class=\"sym\" cx=\"0\" cy=\"0\" r=\"3\"/><text class=\"lab rgt\" transform=\"translate(3 -7.0)\">21</text></g><circle class=\"sym\" cx=\"0\" cy=\"0\" r=\"3\"/><text class=\"lab\" transform=\"translate(0 -11)\">32</text></g></g></g><g class=\"tree t34\" transform=\"translate(6798.75 0)\"><g class=\"plotbox\"><g class=\"c2 node n32 p0 root\" transform=\"translate(114.629 90.257)\"><g class=\"a32 i1 leaf node n3 p0 sample\" transform=\"translate(44.8242 31.143)\"><path class=\"edge\" d=\"M 0 0 V -31.143 H -44.8242\"/><rect class=\"sym\" height=\"6\" width=\"6\" x=\"-3\" y=\"-3\"/><text class=\"lab\" transform=\"translate(0 11)\">3</text></g><g class=\"a32 c2 node n22 p0\" transform=\"translate(-44.8242 10.295)\"><g class=\"a22 i0 leaf node n0 p0 sample\" transform=\"translate(-29.8828 20.8481)\"><path class=\"edge\" d=\"M 0 0 V -20.8481 H 29.8828\"/><rect class=\"sym\" height=\"6\" width=\"6\" x=\"-3\" y=\"-3\"/><text class=\"lab\" transform=\"translate(0 11)\">0</text></g><g class=\"a22 c2 node n11 p0\" transform=\"translate(29.8828 11.7591)\"><g class=\"a11 i0 leaf node n1 p0 sample\" transform=\"translate(-19.9219 9.08901)\"><path class=\"edge\" d=\"M 0 0 V -9.08901 H 19.9219\"/><rect class=\"sym\" height=\"6\" width=\"6\" x=\"-3\" y=\"-3\"/><text class=\"lab\" transform=\"translate(0 11)\">1</text></g><g class=\"a11 i1 leaf node n2 p0 sample\" transform=\"translate(19.9219 9.08901)\"><path class=\"edge\" d=\"M 0 0 V -9.08901 H -19.9219\"/><rect class=\"sym\" height=\"6\" width=\"6\" x=\"-3\" y=\"-3\"/><text class=\"lab\" transform=\"translate(0 11)\">2</text></g><path class=\"edge\" d=\"M 0 0 V -11.7591 H -29.8828\"/><circle class=\"sym\" cx=\"0\" cy=\"0\" r=\"3\"/><text class=\"lab rgt\" transform=\"translate(3 -7.0)\">11</text></g><path class=\"edge\" d=\"M 0 0 V -10.295 H 44.8242\"/><circle class=\"sym\" cx=\"0\" cy=\"0\" r=\"3\"/><text class=\"lab lft\" transform=\"translate(-3 -7.0)\">22</text></g><circle class=\"sym\" cx=\"0\" cy=\"0\" r=\"3\"/><text class=\"lab\" transform=\"translate(0 -11)\">32</text></g></g></g><g class=\"tree t35\" transform=\"translate(6998.12 0)\"><g class=\"plotbox\"><g class=\"c2 node n35 p0 root\" transform=\"translate(114.629 88.4354)\"><g class=\"a35 i1 leaf node n3 p0 sample\" transform=\"translate(44.8242 32.9646)\"><path class=\"edge\" d=\"M 0 0 V -32.9646 H -44.8242\"/><rect class=\"sym\" height=\"6\" width=\"6\" x=\"-3\" y=\"-3\"/><text class=\"lab\" transform=\"translate(0 11)\">3</text></g><g class=\"a35 c2 node n22 p0\" transform=\"translate(-44.8242 12.1165)\"><g class=\"a22 i0 leaf node n0 p0 sample\" transform=\"translate(-29.8828 20.8481)\"><path class=\"edge\" d=\"M 0 0 V -20.8481 H 29.8828\"/><rect class=\"sym\" height=\"6\" width=\"6\" x=\"-3\" y=\"-3\"/><text class=\"lab\" transform=\"translate(0 11)\">0</text></g><g class=\"a22 c2 node n11 p0\" transform=\"translate(29.8828 11.7591)\"><g class=\"a11 i0 leaf node n1 p0 sample\" transform=\"translate(-19.9219 9.08901)\"><path class=\"edge\" d=\"M 0 0 V -9.08901 H 19.9219\"/><rect class=\"sym\" height=\"6\" width=\"6\" x=\"-3\" y=\"-3\"/><text class=\"lab\" transform=\"translate(0 11)\">1</text></g><g class=\"a11 i1 leaf node n2 p0 sample\" transform=\"translate(19.9219 9.08901)\"><path class=\"edge\" d=\"M 0 0 V -9.08901 H -19.9219\"/><rect class=\"sym\" height=\"6\" width=\"6\" x=\"-3\" y=\"-3\"/><text class=\"lab\" transform=\"translate(0 11)\">2</text></g><path class=\"edge\" d=\"M 0 0 V -11.7591 H -29.8828\"/><circle class=\"sym\" cx=\"0\" cy=\"0\" r=\"3\"/><text class=\"lab rgt\" transform=\"translate(3 -7.0)\">11</text></g><path class=\"edge\" d=\"M 0 0 V -12.1165 H 44.8242\"/><circle class=\"sym\" cx=\"0\" cy=\"0\" r=\"3\"/><text class=\"lab lft\" transform=\"translate(-3 -7.0)\">22</text></g><circle class=\"sym\" cx=\"0\" cy=\"0\" r=\"3\"/><text class=\"lab\" transform=\"translate(0 -11)\">35</text></g></g></g><g class=\"tree t36\" transform=\"translate(7197.5 0)\"><g class=\"plotbox\"><g class=\"c2 node n35 p0 root\" transform=\"translate(114.629 88.4354)\"><g class=\"a35 i1 leaf node n3 p0 sample\" transform=\"translate(44.8242 32.9646)\"><path class=\"edge\" d=\"M 0 0 V -32.9646 H -44.8242\"/><rect class=\"sym\" height=\"6\" width=\"6\" x=\"-3\" y=\"-3\"/><text class=\"lab\" transform=\"translate(0 11)\">3</text></g><g class=\"a35 c2 node n25 p0\" transform=\"translate(-44.8242 9.20245)\"><g class=\"a25 i0 leaf node n0 p0 sample\" transform=\"translate(-29.8828 23.7621)\"><path class=\"edge\" d=\"M 0 0 V -23.7621 H 29.8828\"/><rect class=\"sym\" height=\"6\" width=\"6\" x=\"-3\" y=\"-3\"/><text class=\"lab\" transform=\"translate(0 11)\">0</text></g><g class=\"a25 c2 node n11 p0\" transform=\"translate(29.8828 14.6731)\"><g class=\"a11 i0 leaf node n1 p0 sample\" transform=\"translate(-19.9219 9.08901)\"><path class=\"edge\" d=\"M 0 0 V -9.08901 H 19.9219\"/><rect class=\"sym\" height=\"6\" width=\"6\" x=\"-3\" y=\"-3\"/><text class=\"lab\" transform=\"translate(0 11)\">1</text></g><g class=\"a11 i1 leaf node n2 p0 sample\" transform=\"translate(19.9219 9.08901)\"><path class=\"edge\" d=\"M 0 0 V -9.08901 H -19.9219\"/><rect class=\"sym\" height=\"6\" width=\"6\" x=\"-3\" y=\"-3\"/><text class=\"lab\" transform=\"translate(0 11)\">2</text></g><path class=\"edge\" d=\"M 0 0 V -14.6731 H -29.8828\"/><circle class=\"sym\" cx=\"0\" cy=\"0\" r=\"3\"/><text class=\"lab rgt\" transform=\"translate(3 -7.0)\">11</text></g><path class=\"edge\" d=\"M 0 0 V -9.20245 H 44.8242\"/><circle class=\"sym\" cx=\"0\" cy=\"0\" r=\"3\"/><text class=\"lab lft\" transform=\"translate(-3 -7.0)\">25</text></g><circle class=\"sym\" cx=\"0\" cy=\"0\" r=\"3\"/><text class=\"lab\" transform=\"translate(0 -11)\">35</text></g></g></g><g class=\"tree t37\" transform=\"translate(7396.88 0)\"><g class=\"plotbox\"><g class=\"c2 node n35 p0 root\" transform=\"translate(99.6875 88.4354)\"><g class=\"a35 c2 node n11 p0\" transform=\"translate(39.8438 23.8756)\"><g class=\"a11 i0 leaf node n1 p0 sample\" transform=\"translate(-19.9219 9.08901)\"><path class=\"edge\" d=\"M 0 0 V -9.08901 H 19.9219\"/><rect class=\"sym\" height=\"6\" width=\"6\" x=\"-3\" y=\"-3\"/><text class=\"lab\" transform=\"translate(0 11)\">1</text></g><g class=\"a11 i1 leaf node n2 p0 sample\" transform=\"translate(19.9219 9.08901)\"><path class=\"edge\" d=\"M 0 0 V -9.08901 H -19.9219\"/><rect class=\"sym\" height=\"6\" width=\"6\" x=\"-3\" y=\"-3\"/><text class=\"lab\" transform=\"translate(0 11)\">2</text></g><path class=\"edge\" d=\"M 0 0 V -23.8756 H -39.8438\"/><circle class=\"sym\" cx=\"0\" cy=\"0\" r=\"3\"/><text class=\"lab rgt\" transform=\"translate(3 -7.0)\">11</text></g><g class=\"a35 c2 node n18 p0\" transform=\"translate(-39.8438 18.0052)\"><g class=\"a18 i0 leaf node n0 p0 sample\" transform=\"translate(-19.9219 14.9594)\"><path class=\"edge\" d=\"M 0 0 V -14.9594 H 19.9219\"/><rect class=\"sym\" height=\"6\" width=\"6\" x=\"-3\" y=\"-3\"/><text class=\"lab\" transform=\"translate(0 11)\">0</text></g><g class=\"a18 i1 leaf node n3 p0 sample\" transform=\"translate(19.9219 14.9594)\"><path class=\"edge\" d=\"M 0 0 V -14.9594 H -19.9219\"/><rect class=\"sym\" height=\"6\" width=\"6\" x=\"-3\" y=\"-3\"/><text class=\"lab\" transform=\"translate(0 11)\">3</text></g><path class=\"edge\" d=\"M 0 0 V -18.0052 H 39.8438\"/><circle class=\"sym\" cx=\"0\" cy=\"0\" r=\"3\"/><text class=\"lab lft\" transform=\"translate(-3 -7.0)\">18</text></g><circle class=\"sym\" cx=\"0\" cy=\"0\" r=\"3\"/><text class=\"lab\" transform=\"translate(0 -11)\">35</text></g></g></g><g class=\"tree t38\" transform=\"translate(7596.25 0)\"><g class=\"plotbox\"><g class=\"c2 node n48 p0 root\" transform=\"translate(99.6875 61.4482)\"><g class=\"a48 c2 node n11 p0\" transform=\"translate(39.8438 50.8628)\"><g class=\"a11 i0 leaf node n1 p0 sample\" transform=\"translate(-19.9219 9.08901)\"><path class=\"edge\" d=\"M 0 0 V -9.08901 H 19.9219\"/><rect class=\"sym\" height=\"6\" width=\"6\" x=\"-3\" y=\"-3\"/><text class=\"lab\" transform=\"translate(0 11)\">1</text></g><g class=\"a11 i1 leaf node n2 p0 sample\" transform=\"translate(19.9219 9.08901)\"><path class=\"edge\" d=\"M 0 0 V -9.08901 H -19.9219\"/><rect class=\"sym\" height=\"6\" width=\"6\" x=\"-3\" y=\"-3\"/><text class=\"lab\" transform=\"translate(0 11)\">2</text></g><path class=\"edge\" d=\"M 0 0 V -50.8628 H -39.8438\"/><circle class=\"sym\" cx=\"0\" cy=\"0\" r=\"3\"/><text class=\"lab rgt\" transform=\"translate(3 -7.0)\">11</text></g><g class=\"a48 c2 node n18 p0\" transform=\"translate(-39.8438 44.9924)\"><g class=\"a18 i0 leaf node n0 p0 sample\" transform=\"translate(-19.9219 14.9594)\"><path class=\"edge\" d=\"M 0 0 V -14.9594 H 19.9219\"/><rect class=\"sym\" height=\"6\" width=\"6\" x=\"-3\" y=\"-3\"/><text class=\"lab\" transform=\"translate(0 11)\">0</text></g><g class=\"a18 i1 leaf node n3 p0 sample\" transform=\"translate(19.9219 14.9594)\"><path class=\"edge\" d=\"M 0 0 V -14.9594 H -19.9219\"/><rect class=\"sym\" height=\"6\" width=\"6\" x=\"-3\" y=\"-3\"/><text class=\"lab\" transform=\"translate(0 11)\">3</text></g><path class=\"edge\" d=\"M 0 0 V -44.9924 H 39.8438\"/><circle class=\"sym\" cx=\"0\" cy=\"0\" r=\"3\"/><text class=\"lab lft\" transform=\"translate(-3 -7.0)\">18</text></g><circle class=\"sym\" cx=\"0\" cy=\"0\" r=\"3\"/><text class=\"lab\" transform=\"translate(0 -11)\">48</text></g></g></g><g class=\"tree t39\" transform=\"translate(7795.62 0)\"><g class=\"plotbox\"><g class=\"c2 node n42 p0 root\" transform=\"translate(99.6875 67.1806)\"><g class=\"a42 c2 node n11 p0\" transform=\"translate(39.8438 45.1304)\"><g class=\"a11 i0 leaf node n1 p0 sample\" transform=\"translate(-19.9219 9.08901)\"><path class=\"edge\" d=\"M 0 0 V -9.08901 H 19.9219\"/><rect class=\"sym\" height=\"6\" width=\"6\" x=\"-3\" y=\"-3\"/><text class=\"lab\" transform=\"translate(0 11)\">1</text></g><g class=\"a11 i1 leaf node n2 p0 sample\" transform=\"translate(19.9219 9.08901)\"><path class=\"edge\" d=\"M 0 0 V -9.08901 H -19.9219\"/><rect class=\"sym\" height=\"6\" width=\"6\" x=\"-3\" y=\"-3\"/><text class=\"lab\" transform=\"translate(0 11)\">2</text></g><path class=\"edge\" d=\"M 0 0 V -45.1304 H -39.8438\"/><circle class=\"sym\" cx=\"0\" cy=\"0\" r=\"3\"/><text class=\"lab rgt\" transform=\"translate(3 -7.0)\">11</text></g><g class=\"a42 c2 node n18 p0\" transform=\"translate(-39.8438 39.26)\"><g class=\"a18 i0 leaf node n0 p0 sample\" transform=\"translate(-19.9219 14.9594)\"><path class=\"edge\" d=\"M 0 0 V -14.9594 H 19.9219\"/><rect class=\"sym\" height=\"6\" width=\"6\" x=\"-3\" y=\"-3\"/><text class=\"lab\" transform=\"translate(0 11)\">0</text></g><g class=\"a18 i1 leaf node n3 p0 sample\" transform=\"translate(19.9219 14.9594)\"><path class=\"edge\" d=\"M 0 0 V -14.9594 H -19.9219\"/><rect class=\"sym\" height=\"6\" width=\"6\" x=\"-3\" y=\"-3\"/><text class=\"lab\" transform=\"translate(0 11)\">3</text></g><path class=\"edge\" d=\"M 0 0 V -39.26 H 39.8438\"/><circle class=\"sym\" cx=\"0\" cy=\"0\" r=\"3\"/><text class=\"lab lft\" transform=\"translate(-3 -7.0)\">18</text></g><circle class=\"sym\" cx=\"0\" cy=\"0\" r=\"3\"/><text class=\"lab\" transform=\"translate(0 -11)\">42</text></g></g></g><g class=\"tree t40\" transform=\"translate(7995 0)\"><g class=\"plotbox\"><g class=\"c2 node n42 p0 root\" transform=\"translate(124.59 67.1806)\"><g class=\"a42 c2 node n18 p0\" transform=\"translate(-34.8633 39.26)\"><g class=\"a18 i1 leaf node n3 p0 sample\" transform=\"translate(29.8828 14.9594)\"><path class=\"edge\" d=\"M 0 0 V -14.9594 H -29.8828\"/><rect class=\"sym\" height=\"6\" width=\"6\" x=\"-3\" y=\"-3\"/><text class=\"lab\" transform=\"translate(0 11)\">3</text></g><g class=\"a18 c2 node n15 p0\" transform=\"translate(-29.8828 2.85991)\"><g class=\"a15 i0 leaf node n0 p0 sample\" transform=\"translate(-19.9219 12.0995)\"><path class=\"edge\" d=\"M 0 0 V -12.0995 H 19.9219\"/><rect class=\"sym\" height=\"6\" width=\"6\" x=\"-3\" y=\"-3\"/><text class=\"lab\" transform=\"translate(0 11)\">0</text></g><g class=\"a15 i0 leaf node n1 p0 sample\" transform=\"translate(19.9219 12.0995)\"><path class=\"edge\" d=\"M 0 0 V -12.0995 H -19.9219\"/><rect class=\"sym\" height=\"6\" width=\"6\" x=\"-3\" y=\"-3\"/><text class=\"lab\" transform=\"translate(0 11)\">1</text></g><path class=\"edge\" d=\"M 0 0 V -2.85991 H 29.8828\"/><circle class=\"sym\" cx=\"0\" cy=\"0\" r=\"3\"/><text class=\"lab lft\" transform=\"translate(-3 -7.0)\">15</text></g><path class=\"edge\" d=\"M 0 0 V -39.26 H 34.8633\"/><circle class=\"sym\" cx=\"0\" cy=\"0\" r=\"3\"/><text class=\"lab lft\" transform=\"translate(-3 -7.0)\">18</text></g><g class=\"a42 i1 leaf node n2 p0 sample\" transform=\"translate(34.8633 54.2194)\"><path class=\"edge\" d=\"M 0 0 V -54.2194 H -34.8633\"/><rect class=\"sym\" height=\"6\" width=\"6\" x=\"-3\" y=\"-3\"/><text class=\"lab\" transform=\"translate(0 11)\">2</text></g><circle class=\"sym\" cx=\"0\" cy=\"0\" r=\"3\"/><text class=\"lab\" transform=\"translate(0 -11)\">42</text></g></g></g><g class=\"tree t41\" transform=\"translate(8194.38 0)\"><g class=\"plotbox\"><g class=\"c2 node n42 p0 root\" transform=\"translate(124.59 67.1806)\"><g class=\"a42 i1 leaf node n2 p0 sample\" transform=\"translate(34.8633 54.2194)\"><path class=\"edge\" d=\"M 0 0 V -54.2194 H -34.8633\"/><rect class=\"sym\" height=\"6\" width=\"6\" x=\"-3\" y=\"-3\"/><text class=\"lab\" transform=\"translate(0 11)\">2</text></g><g class=\"a42 c2 node n17 p0\" transform=\"translate(-34.8633 39.8303)\"><g class=\"a17 i1 leaf node n3 p0 sample\" transform=\"translate(29.8828 14.3891)\"><path class=\"edge\" d=\"M 0 0 V -14.3891 H -29.8828\"/><rect class=\"sym\" height=\"6\" width=\"6\" x=\"-3\" y=\"-3\"/><text class=\"lab\" transform=\"translate(0 11)\">3</text></g><g class=\"a17 c2 node n15 p0\" transform=\"translate(-29.8828 2.28964)\"><g class=\"a15 i0 leaf node n0 p0 sample\" transform=\"translate(-19.9219 12.0995)\"><path class=\"edge\" d=\"M 0 0 V -12.0995 H 19.9219\"/><rect class=\"sym\" height=\"6\" width=\"6\" x=\"-3\" y=\"-3\"/><text class=\"lab\" transform=\"translate(0 11)\">0</text></g><g class=\"a15 i0 leaf node n1 p0 sample\" transform=\"translate(19.9219 12.0995)\"><path class=\"edge\" d=\"M 0 0 V -12.0995 H -19.9219\"/><rect class=\"sym\" height=\"6\" width=\"6\" x=\"-3\" y=\"-3\"/><text class=\"lab\" transform=\"translate(0 11)\">1</text></g><path class=\"edge\" d=\"M 0 0 V -2.28964 H 29.8828\"/><circle class=\"sym\" cx=\"0\" cy=\"0\" r=\"3\"/><text class=\"lab lft\" transform=\"translate(-3 -7.0)\">15</text></g><path class=\"edge\" d=\"M 0 0 V -39.8303 H 34.8633\"/><circle class=\"sym\" cx=\"0\" cy=\"0\" r=\"3\"/><text class=\"lab lft\" transform=\"translate(-3 -7.0)\">17</text></g><circle class=\"sym\" cx=\"0\" cy=\"0\" r=\"3\"/><text class=\"lab\" transform=\"translate(0 -11)\">42</text></g></g></g><g class=\"tree t42\" transform=\"translate(8393.75 0)\"><g class=\"plotbox\"><g class=\"c2 node n42 p0 root\" transform=\"translate(99.6875 67.1806)\"><g class=\"a42 c2 node n13 p0\" transform=\"translate(39.8438 43.7962)\"><g class=\"a13 i1 leaf node n2 p0 sample\" transform=\"translate(-19.9219 10.4232)\"><path class=\"edge\" d=\"M 0 0 V -10.4232 H 19.9219\"/><rect class=\"sym\" height=\"6\" width=\"6\" x=\"-3\" y=\"-3\"/><text class=\"lab\" transform=\"translate(0 11)\">2</text></g><g class=\"a13 i1 leaf node n3 p0 sample\" transform=\"translate(19.9219 10.4232)\"><path class=\"edge\" d=\"M 0 0 V -10.4232 H -19.9219\"/><rect class=\"sym\" height=\"6\" width=\"6\" x=\"-3\" y=\"-3\"/><text class=\"lab\" transform=\"translate(0 11)\">3</text></g><path class=\"edge\" d=\"M 0 0 V -43.7962 H -39.8438\"/><circle class=\"sym\" cx=\"0\" cy=\"0\" r=\"3\"/><text class=\"lab rgt\" transform=\"translate(3 -7.0)\">13</text></g><g class=\"a42 c2 node n15 p0\" transform=\"translate(-39.8438 42.1199)\"><g class=\"a15 i0 leaf node n0 p0 sample\" transform=\"translate(-19.9219 12.0995)\"><path class=\"edge\" d=\"M 0 0 V -12.0995 H 19.9219\"/><rect class=\"sym\" height=\"6\" width=\"6\" x=\"-3\" y=\"-3\"/><text class=\"lab\" transform=\"translate(0 11)\">0</text></g><g class=\"a15 i0 leaf node n1 p0 sample\" transform=\"translate(19.9219 12.0995)\"><path class=\"edge\" d=\"M 0 0 V -12.0995 H -19.9219\"/><rect class=\"sym\" height=\"6\" width=\"6\" x=\"-3\" y=\"-3\"/><text class=\"lab\" transform=\"translate(0 11)\">1</text></g><path class=\"edge\" d=\"M 0 0 V -42.1199 H 39.8438\"/><circle class=\"sym\" cx=\"0\" cy=\"0\" r=\"3\"/><text class=\"lab lft\" transform=\"translate(-3 -7.0)\">15</text></g><circle class=\"sym\" cx=\"0\" cy=\"0\" r=\"3\"/><text class=\"lab\" transform=\"translate(0 -11)\">42</text></g></g></g><g class=\"tree t43\" transform=\"translate(8593.12 0)\"><g class=\"plotbox\"><g class=\"c2 node n43 p0 root\" transform=\"translate(99.6875 65.905)\"><g class=\"a43 c2 node n13 p0\" transform=\"translate(39.8438 45.0719)\"><g class=\"a13 i1 leaf node n2 p0 sample\" transform=\"translate(-19.9219 10.4232)\"><path class=\"edge\" d=\"M 0 0 V -10.4232 H 19.9219\"/><rect class=\"sym\" height=\"6\" width=\"6\" x=\"-3\" y=\"-3\"/><text class=\"lab\" transform=\"translate(0 11)\">2</text></g><g class=\"a13 i1 leaf node n3 p0 sample\" transform=\"translate(19.9219 10.4232)\"><path class=\"edge\" d=\"M 0 0 V -10.4232 H -19.9219\"/><rect class=\"sym\" height=\"6\" width=\"6\" x=\"-3\" y=\"-3\"/><text class=\"lab\" transform=\"translate(0 11)\">3</text></g><path class=\"edge\" d=\"M 0 0 V -45.0719 H -39.8438\"/><circle class=\"sym\" cx=\"0\" cy=\"0\" r=\"3\"/><text class=\"lab rgt\" transform=\"translate(3 -7.0)\">13</text></g><g class=\"a43 c2 node n15 p0\" transform=\"translate(-39.8438 43.3955)\"><g class=\"a15 i0 leaf node n0 p0 sample\" transform=\"translate(-19.9219 12.0995)\"><path class=\"edge\" d=\"M 0 0 V -12.0995 H 19.9219\"/><rect class=\"sym\" height=\"6\" width=\"6\" x=\"-3\" y=\"-3\"/><text class=\"lab\" transform=\"translate(0 11)\">0</text></g><g class=\"a15 i0 leaf node n1 p0 sample\" transform=\"translate(19.9219 12.0995)\"><path class=\"edge\" d=\"M 0 0 V -12.0995 H -19.9219\"/><rect class=\"sym\" height=\"6\" width=\"6\" x=\"-3\" y=\"-3\"/><text class=\"lab\" transform=\"translate(0 11)\">1</text></g><path class=\"edge\" d=\"M 0 0 V -43.3955 H 39.8438\"/><circle class=\"sym\" cx=\"0\" cy=\"0\" r=\"3\"/><text class=\"lab lft\" transform=\"translate(-3 -7.0)\">15</text></g><circle class=\"sym\" cx=\"0\" cy=\"0\" r=\"3\"/><text class=\"lab\" transform=\"translate(0 -11)\">43</text></g></g></g><g class=\"tree t44\" transform=\"translate(8792.5 0)\"><g class=\"plotbox\"><g class=\"c2 node n40 p0 root\" transform=\"translate(99.6875 73.522)\"><g class=\"a40 c2 node n13 p0\" transform=\"translate(39.8438 37.4549)\"><g class=\"a13 i1 leaf node n2 p0 sample\" transform=\"translate(-19.9219 10.4232)\"><path class=\"edge\" d=\"M 0 0 V -10.4232 H 19.9219\"/><rect class=\"sym\" height=\"6\" width=\"6\" x=\"-3\" y=\"-3\"/><text class=\"lab\" transform=\"translate(0 11)\">2</text></g><g class=\"a13 i1 leaf node n3 p0 sample\" transform=\"translate(19.9219 10.4232)\"><path class=\"edge\" d=\"M 0 0 V -10.4232 H -19.9219\"/><rect class=\"sym\" height=\"6\" width=\"6\" x=\"-3\" y=\"-3\"/><text class=\"lab\" transform=\"translate(0 11)\">3</text></g><path class=\"edge\" d=\"M 0 0 V -37.4549 H -39.8438\"/><circle class=\"sym\" cx=\"0\" cy=\"0\" r=\"3\"/><text class=\"lab rgt\" transform=\"translate(3 -7.0)\">13</text></g><g class=\"a40 c2 node n15 p0\" transform=\"translate(-39.8438 35.7785)\"><g class=\"a15 i0 leaf node n0 p0 sample\" transform=\"translate(-19.9219 12.0995)\"><path class=\"edge\" d=\"M 0 0 V -12.0995 H 19.9219\"/><rect class=\"sym\" height=\"6\" width=\"6\" x=\"-3\" y=\"-3\"/><text class=\"lab\" transform=\"translate(0 11)\">0</text></g><g class=\"a15 i0 leaf node n1 p0 sample\" transform=\"translate(19.9219 12.0995)\"><path class=\"edge\" d=\"M 0 0 V -12.0995 H -19.9219\"/><rect class=\"sym\" height=\"6\" width=\"6\" x=\"-3\" y=\"-3\"/><text class=\"lab\" transform=\"translate(0 11)\">1</text></g><path class=\"edge\" d=\"M 0 0 V -35.7785 H 39.8438\"/><circle class=\"sym\" cx=\"0\" cy=\"0\" r=\"3\"/><text class=\"lab lft\" transform=\"translate(-3 -7.0)\">15</text></g><circle class=\"sym\" cx=\"0\" cy=\"0\" r=\"3\"/><text class=\"lab\" transform=\"translate(0 -11)\">40</text></g></g></g><g class=\"tree t45\" transform=\"translate(8991.88 0)\"><g class=\"plotbox\"><g class=\"c2 node n40 p0 root\" transform=\"translate(124.59 73.522)\"><g class=\"a40 i1 leaf node n3 p0 sample\" transform=\"translate(34.8633 47.878)\"><path class=\"edge\" d=\"M 0 0 V -47.878 H -34.8633\"/><rect class=\"sym\" height=\"6\" width=\"6\" x=\"-3\" y=\"-3\"/><text class=\"lab\" transform=\"translate(0 11)\">3</text></g><g class=\"a40 c2 node n23 p0\" transform=\"translate(-34.8633 25.6834)\"><g class=\"a23 i1 leaf node n2 p0 sample\" transform=\"translate(29.8828 22.1947)\"><path class=\"edge\" d=\"M 0 0 V -22.1947 H -29.8828\"/><rect class=\"sym\" height=\"6\" width=\"6\" x=\"-3\" y=\"-3\"/><text class=\"lab\" transform=\"translate(0 11)\">2</text></g><g class=\"a23 c2 node n15 p0\" transform=\"translate(-29.8828 10.0952)\"><g class=\"a15 i0 leaf node n0 p0 sample\" transform=\"translate(-19.9219 12.0995)\"><path class=\"edge\" d=\"M 0 0 V -12.0995 H 19.9219\"/><rect class=\"sym\" height=\"6\" width=\"6\" x=\"-3\" y=\"-3\"/><text class=\"lab\" transform=\"translate(0 11)\">0</text></g><g class=\"a15 i0 leaf node n1 p0 sample\" transform=\"translate(19.9219 12.0995)\"><path class=\"edge\" d=\"M 0 0 V -12.0995 H -19.9219\"/><rect class=\"sym\" height=\"6\" width=\"6\" x=\"-3\" y=\"-3\"/><text class=\"lab\" transform=\"translate(0 11)\">1</text></g><path class=\"edge\" d=\"M 0 0 V -10.0952 H 29.8828\"/><circle class=\"sym\" cx=\"0\" cy=\"0\" r=\"3\"/><text class=\"lab lft\" transform=\"translate(-3 -7.0)\">15</text></g><path class=\"edge\" d=\"M 0 0 V -25.6834 H 34.8633\"/><circle class=\"sym\" cx=\"0\" cy=\"0\" r=\"3\"/><text class=\"lab lft\" transform=\"translate(-3 -7.0)\">23</text></g><circle class=\"sym\" cx=\"0\" cy=\"0\" r=\"3\"/><text class=\"lab\" transform=\"translate(0 -11)\">40</text></g></g></g><g class=\"tree t46\" transform=\"translate(9191.25 0)\"><g class=\"plotbox\"><g class=\"c2 node n56 p0 root\" transform=\"translate(124.59 26.8)\"><g class=\"a56 i1 leaf node n3 p0 sample\" transform=\"translate(34.8633 94.6)\"><path class=\"edge\" d=\"M 0 0 V -94.6 H -34.8633\"/><rect class=\"sym\" height=\"6\" width=\"6\" x=\"-3\" y=\"-3\"/><text class=\"lab\" transform=\"translate(0 11)\">3</text></g><g class=\"a56 c2 node n23 p0\" transform=\"translate(-34.8633 72.4053)\"><g class=\"a23 i1 leaf node n2 p0 sample\" transform=\"translate(29.8828 22.1947)\"><path class=\"edge\" d=\"M 0 0 V -22.1947 H -29.8828\"/><rect class=\"sym\" height=\"6\" width=\"6\" x=\"-3\" y=\"-3\"/><text class=\"lab\" transform=\"translate(0 11)\">2</text></g><g class=\"a23 c2 node n15 p0\" transform=\"translate(-29.8828 10.0952)\"><g class=\"a15 i0 leaf node n0 p0 sample\" transform=\"translate(-19.9219 12.0995)\"><path class=\"edge\" d=\"M 0 0 V -12.0995 H 19.9219\"/><rect class=\"sym\" height=\"6\" width=\"6\" x=\"-3\" y=\"-3\"/><text class=\"lab\" transform=\"translate(0 11)\">0</text></g><g class=\"a15 i0 leaf node n1 p0 sample\" transform=\"translate(19.9219 12.0995)\"><path class=\"edge\" d=\"M 0 0 V -12.0995 H -19.9219\"/><rect class=\"sym\" height=\"6\" width=\"6\" x=\"-3\" y=\"-3\"/><text class=\"lab\" transform=\"translate(0 11)\">1</text></g><path class=\"edge\" d=\"M 0 0 V -10.0952 H 29.8828\"/><circle class=\"sym\" cx=\"0\" cy=\"0\" r=\"3\"/><text class=\"lab lft\" transform=\"translate(-3 -7.0)\">15</text></g><path class=\"edge\" d=\"M 0 0 V -72.4053 H 34.8633\"/><circle class=\"sym\" cx=\"0\" cy=\"0\" r=\"3\"/><text class=\"lab lft\" transform=\"translate(-3 -7.0)\">23</text></g><circle class=\"sym\" cx=\"0\" cy=\"0\" r=\"3\"/><text class=\"lab\" transform=\"translate(0 -11)\">56</text></g></g></g><g class=\"tree t47\" transform=\"translate(9390.62 0)\"><g class=\"plotbox\"><g class=\"c2 node n43 p0 root\" transform=\"translate(124.59 65.905)\"><g class=\"a43 i1 leaf node n3 p0 sample\" transform=\"translate(34.8633 55.495)\"><path class=\"edge\" d=\"M 0 0 V -55.495 H -34.8633\"/><rect class=\"sym\" height=\"6\" width=\"6\" x=\"-3\" y=\"-3\"/><text class=\"lab\" transform=\"translate(0 11)\">3</text></g><g class=\"a43 c2 node n23 p0\" transform=\"translate(-34.8633 33.3003)\"><g class=\"a23 i1 leaf node n2 p0 sample\" transform=\"translate(29.8828 22.1947)\"><path class=\"edge\" d=\"M 0 0 V -22.1947 H -29.8828\"/><rect class=\"sym\" height=\"6\" width=\"6\" x=\"-3\" y=\"-3\"/><text class=\"lab\" transform=\"translate(0 11)\">2</text></g><g class=\"a23 c2 node n15 p0\" transform=\"translate(-29.8828 10.0952)\"><g class=\"a15 i0 leaf node n0 p0 sample\" transform=\"translate(-19.9219 12.0995)\"><path class=\"edge\" d=\"M 0 0 V -12.0995 H 19.9219\"/><rect class=\"sym\" height=\"6\" width=\"6\" x=\"-3\" y=\"-3\"/><text class=\"lab\" transform=\"translate(0 11)\">0</text></g><g class=\"a15 i0 leaf node n1 p0 sample\" transform=\"translate(19.9219 12.0995)\"><path class=\"edge\" d=\"M 0 0 V -12.0995 H -19.9219\"/><rect class=\"sym\" height=\"6\" width=\"6\" x=\"-3\" y=\"-3\"/><text class=\"lab\" transform=\"translate(0 11)\">1</text></g><path class=\"edge\" d=\"M 0 0 V -10.0952 H 29.8828\"/><circle class=\"sym\" cx=\"0\" cy=\"0\" r=\"3\"/><text class=\"lab lft\" transform=\"translate(-3 -7.0)\">15</text></g><path class=\"edge\" d=\"M 0 0 V -33.3003 H 34.8633\"/><circle class=\"sym\" cx=\"0\" cy=\"0\" r=\"3\"/><text class=\"lab lft\" transform=\"translate(-3 -7.0)\">23</text></g><circle class=\"sym\" cx=\"0\" cy=\"0\" r=\"3\"/><text class=\"lab\" transform=\"translate(0 -11)\">43</text></g></g></g><g class=\"tree t48\" transform=\"translate(9590 0)\"><g class=\"plotbox\"><g class=\"c2 node n43 p0 root\" transform=\"translate(99.6875 65.905)\"><g class=\"a43 c2 node n15 p0\" transform=\"translate(-39.8438 43.3955)\"><g class=\"a15 i0 leaf node n0 p0 sample\" transform=\"translate(-19.9219 12.0995)\"><path class=\"edge\" d=\"M 0 0 V -12.0995 H 19.9219\"/><rect class=\"sym\" height=\"6\" width=\"6\" x=\"-3\" y=\"-3\"/><text class=\"lab\" transform=\"translate(0 11)\">0</text></g><g class=\"a15 i0 leaf node n1 p0 sample\" transform=\"translate(19.9219 12.0995)\"><path class=\"edge\" d=\"M 0 0 V -12.0995 H -19.9219\"/><rect class=\"sym\" height=\"6\" width=\"6\" x=\"-3\" y=\"-3\"/><text class=\"lab\" transform=\"translate(0 11)\">1</text></g><path class=\"edge\" d=\"M 0 0 V -43.3955 H 39.8438\"/><circle class=\"sym\" cx=\"0\" cy=\"0\" r=\"3\"/><text class=\"lab lft\" transform=\"translate(-3 -7.0)\">15</text></g><g class=\"a43 c2 node n20 p0\" transform=\"translate(39.8438 35.8236)\"><g class=\"a20 i1 leaf node n2 p0 sample\" transform=\"translate(-19.9219 19.6714)\"><path class=\"edge\" d=\"M 0 0 V -19.6714 H 19.9219\"/><rect class=\"sym\" height=\"6\" width=\"6\" x=\"-3\" y=\"-3\"/><text class=\"lab\" transform=\"translate(0 11)\">2</text></g><g class=\"a20 i1 leaf node n3 p0 sample\" transform=\"translate(19.9219 19.6714)\"><path class=\"edge\" d=\"M 0 0 V -19.6714 H -19.9219\"/><rect class=\"sym\" height=\"6\" width=\"6\" x=\"-3\" y=\"-3\"/><text class=\"lab\" transform=\"translate(0 11)\">3</text></g><path class=\"edge\" d=\"M 0 0 V -35.8236 H -39.8438\"/><circle class=\"sym\" cx=\"0\" cy=\"0\" r=\"3\"/><text class=\"lab rgt\" transform=\"translate(3 -7.0)\">20</text></g><circle class=\"sym\" cx=\"0\" cy=\"0\" r=\"3\"/><text class=\"lab\" transform=\"translate(0 -11)\">43</text></g></g></g><g class=\"tree t49\" transform=\"translate(9789.38 0)\"><g class=\"plotbox\"><g class=\"c2 node n44 p0 root\" transform=\"translate(99.6875 63.6441)\"><g class=\"a44 c2 node n15 p0\" transform=\"translate(-39.8438 45.6564)\"><g class=\"a15 i0 leaf node n0 p0 sample\" transform=\"translate(-19.9219 12.0995)\"><path class=\"edge\" d=\"M 0 0 V -12.0995 H 19.9219\"/><rect class=\"sym\" height=\"6\" width=\"6\" x=\"-3\" y=\"-3\"/><text class=\"lab\" transform=\"translate(0 11)\">0</text></g><g class=\"a15 i0 leaf node n1 p0 sample\" transform=\"translate(19.9219 12.0995)\"><path class=\"edge\" d=\"M 0 0 V -12.0995 H -19.9219\"/><rect class=\"sym\" height=\"6\" width=\"6\" x=\"-3\" y=\"-3\"/><text class=\"lab\" transform=\"translate(0 11)\">1</text></g><path class=\"edge\" d=\"M 0 0 V -45.6564 H 39.8438\"/><circle class=\"sym\" cx=\"0\" cy=\"0\" r=\"3\"/><text class=\"lab lft\" transform=\"translate(-3 -7.0)\">15</text></g><g class=\"a44 c2 node n20 p0\" transform=\"translate(39.8438 38.0845)\"><g class=\"a20 i1 leaf node n2 p0 sample\" transform=\"translate(-19.9219 19.6714)\"><path class=\"edge\" d=\"M 0 0 V -19.6714 H 19.9219\"/><rect class=\"sym\" height=\"6\" width=\"6\" x=\"-3\" y=\"-3\"/><text class=\"lab\" transform=\"translate(0 11)\">2</text></g><g class=\"a20 i1 leaf node n3 p0 sample\" transform=\"translate(19.9219 19.6714)\"><path class=\"edge\" d=\"M 0 0 V -19.6714 H -19.9219\"/><rect class=\"sym\" height=\"6\" width=\"6\" x=\"-3\" y=\"-3\"/><text class=\"lab\" transform=\"translate(0 11)\">3</text></g><path class=\"edge\" d=\"M 0 0 V -38.0845 H -39.8438\"/><circle class=\"sym\" cx=\"0\" cy=\"0\" r=\"3\"/><text class=\"lab rgt\" transform=\"translate(3 -7.0)\">20</text></g><circle class=\"sym\" cx=\"0\" cy=\"0\" r=\"3\"/><text class=\"lab\" transform=\"translate(0 -11)\">44</text></g></g></g><g class=\"tree t50\" transform=\"translate(9988.75 0)\"><g class=\"plotbox\"><g class=\"c2 node n30 p0 root\" transform=\"translate(99.6875 92.051)\"><g class=\"a30 c2 node n15 p0\" transform=\"translate(-39.8438 17.2495)\"><g class=\"a15 i0 leaf node n0 p0 sample\" transform=\"translate(-19.9219 12.0995)\"><path class=\"edge\" d=\"M 0 0 V -12.0995 H 19.9219\"/><rect class=\"sym\" height=\"6\" width=\"6\" x=\"-3\" y=\"-3\"/><text class=\"lab\" transform=\"translate(0 11)\">0</text></g><g class=\"a15 i0 leaf node n1 p0 sample\" transform=\"translate(19.9219 12.0995)\"><path class=\"edge\" d=\"M 0 0 V -12.0995 H -19.9219\"/><rect class=\"sym\" height=\"6\" width=\"6\" x=\"-3\" y=\"-3\"/><text class=\"lab\" transform=\"translate(0 11)\">1</text></g><path class=\"edge\" d=\"M 0 0 V -17.2495 H 39.8438\"/><circle class=\"sym\" cx=\"0\" cy=\"0\" r=\"3\"/><text class=\"lab lft\" transform=\"translate(-3 -7.0)\">15</text></g><g class=\"a30 c2 node n20 p0\" transform=\"translate(39.8438 9.67755)\"><g class=\"a20 i1 leaf node n2 p0 sample\" transform=\"translate(-19.9219 19.6714)\"><path class=\"edge\" d=\"M 0 0 V -19.6714 H 19.9219\"/><rect class=\"sym\" height=\"6\" width=\"6\" x=\"-3\" y=\"-3\"/><text class=\"lab\" transform=\"translate(0 11)\">2</text></g><g class=\"a20 i1 leaf node n3 p0 sample\" transform=\"translate(19.9219 19.6714)\"><path class=\"edge\" d=\"M 0 0 V -19.6714 H -19.9219\"/><rect class=\"sym\" height=\"6\" width=\"6\" x=\"-3\" y=\"-3\"/><text class=\"lab\" transform=\"translate(0 11)\">3</text></g><path class=\"edge\" d=\"M 0 0 V -9.67755 H -39.8438\"/><circle class=\"sym\" cx=\"0\" cy=\"0\" r=\"3\"/><text class=\"lab rgt\" transform=\"translate(3 -7.0)\">20</text></g><circle class=\"sym\" cx=\"0\" cy=\"0\" r=\"3\"/><text class=\"lab\" transform=\"translate(0 -11)\">30</text></g></g></g><g class=\"tree t51\" transform=\"translate(10188.1 0)\"><g class=\"plotbox\"><g class=\"c2 node n27 p0 root\" transform=\"translate(99.6875 96.5349)\"><g class=\"a27 c2 node n15 p0\" transform=\"translate(-39.8438 12.7656)\"><g class=\"a15 i0 leaf node n0 p0 sample\" transform=\"translate(-19.9219 12.0995)\"><path class=\"edge\" d=\"M 0 0 V -12.0995 H 19.9219\"/><rect class=\"sym\" height=\"6\" width=\"6\" x=\"-3\" y=\"-3\"/><text class=\"lab\" transform=\"translate(0 11)\">0</text></g><g class=\"a15 i0 leaf node n1 p0 sample\" transform=\"translate(19.9219 12.0995)\"><path class=\"edge\" d=\"M 0 0 V -12.0995 H -19.9219\"/><rect class=\"sym\" height=\"6\" width=\"6\" x=\"-3\" y=\"-3\"/><text class=\"lab\" transform=\"translate(0 11)\">1</text></g><path class=\"edge\" d=\"M 0 0 V -12.7656 H 39.8438\"/><circle class=\"sym\" cx=\"0\" cy=\"0\" r=\"3\"/><text class=\"lab lft\" transform=\"translate(-3 -7.0)\">15</text></g><g class=\"a27 c2 node n20 p0\" transform=\"translate(39.8438 5.19366)\"><g class=\"a20 i1 leaf node n2 p0 sample\" transform=\"translate(-19.9219 19.6714)\"><path class=\"edge\" d=\"M 0 0 V -19.6714 H 19.9219\"/><rect class=\"sym\" height=\"6\" width=\"6\" x=\"-3\" y=\"-3\"/><text class=\"lab\" transform=\"translate(0 11)\">2</text></g><g class=\"a20 i1 leaf node n3 p0 sample\" transform=\"translate(19.9219 19.6714)\"><path class=\"edge\" d=\"M 0 0 V -19.6714 H -19.9219\"/><rect class=\"sym\" height=\"6\" width=\"6\" x=\"-3\" y=\"-3\"/><text class=\"lab\" transform=\"translate(0 11)\">3</text></g><path class=\"edge\" d=\"M 0 0 V -5.19366 H -39.8438\"/><circle class=\"sym\" cx=\"0\" cy=\"0\" r=\"3\"/><text class=\"lab rgt\" transform=\"translate(3 -7.0)\">20</text></g><circle class=\"sym\" cx=\"0\" cy=\"0\" r=\"3\"/><text class=\"lab\" transform=\"translate(0 -11)\">27</text></g></g></g><g class=\"tree t52\" transform=\"translate(10387.5 0)\"><g class=\"plotbox\"><g class=\"c2 node n27 p0 root\" transform=\"translate(124.59 96.5349)\"><g class=\"a27 c2 node n20 p0\" transform=\"translate(-34.8633 5.19366)\"><g class=\"a20 i1 leaf node n2 p0 sample\" transform=\"translate(29.8828 19.6714)\"><path class=\"edge\" d=\"M 0 0 V -19.6714 H -29.8828\"/><rect class=\"sym\" height=\"6\" width=\"6\" x=\"-3\" y=\"-3\"/><text class=\"lab\" transform=\"translate(0 11)\">2</text></g><g class=\"a20 c2 node n14 p0\" transform=\"translate(-29.8828 8.71576)\"><g class=\"a14 i0 leaf node n0 p0 sample\" transform=\"translate(-19.9219 10.9557)\"><path class=\"edge\" d=\"M 0 0 V -10.9557 H 19.9219\"/><rect class=\"sym\" height=\"6\" width=\"6\" x=\"-3\" y=\"-3\"/><text class=\"lab\" transform=\"translate(0 11)\">0</text></g><g class=\"a14 i1 leaf node n3 p0 sample\" transform=\"translate(19.9219 10.9557)\"><path class=\"edge\" d=\"M 0 0 V -10.9557 H -19.9219\"/><rect class=\"sym\" height=\"6\" width=\"6\" x=\"-3\" y=\"-3\"/><text class=\"lab\" transform=\"translate(0 11)\">3</text></g><path class=\"edge\" d=\"M 0 0 V -8.71576 H 29.8828\"/><circle class=\"sym\" cx=\"0\" cy=\"0\" r=\"3\"/><text class=\"lab lft\" transform=\"translate(-3 -7.0)\">14</text></g><path class=\"edge\" d=\"M 0 0 V -5.19366 H 34.8633\"/><circle class=\"sym\" cx=\"0\" cy=\"0\" r=\"3\"/><text class=\"lab lft\" transform=\"translate(-3 -7.0)\">20</text></g><g class=\"a27 i0 leaf node n1 p0 sample\" transform=\"translate(34.8633 24.8651)\"><path class=\"edge\" d=\"M 0 0 V -24.8651 H -34.8633\"/><rect class=\"sym\" height=\"6\" width=\"6\" x=\"-3\" y=\"-3\"/><text class=\"lab\" transform=\"translate(0 11)\">1</text></g><circle class=\"sym\" cx=\"0\" cy=\"0\" r=\"3\"/><text class=\"lab\" transform=\"translate(0 -11)\">27</text></g></g></g><g class=\"tree t53\" transform=\"translate(10586.9 0)\"><g class=\"plotbox\"><g class=\"c2 node n47 p0 root\" transform=\"translate(124.59 61.7419)\"><g class=\"a47 i0 leaf node n1 p0 sample\" transform=\"translate(34.8633 59.6581)\"><path class=\"edge\" d=\"M 0 0 V -59.6581 H -34.8633\"/><rect class=\"sym\" height=\"6\" width=\"6\" x=\"-3\" y=\"-3\"/><text class=\"lab\" transform=\"translate(0 11)\">1</text></g><g class=\"a47 c2 node n20 p0\" transform=\"translate(-34.8633 39.9867)\"><g class=\"a20 i1 leaf node n2 p0 sample\" transform=\"translate(29.8828 19.6714)\"><path class=\"edge\" d=\"M 0 0 V -19.6714 H -29.8828\"/><rect class=\"sym\" height=\"6\" width=\"6\" x=\"-3\" y=\"-3\"/><text class=\"lab\" transform=\"translate(0 11)\">2</text></g><g class=\"a20 c2 node n14 p0\" transform=\"translate(-29.8828 8.71576)\"><g class=\"a14 i0 leaf node n0 p0 sample\" transform=\"translate(-19.9219 10.9557)\"><path class=\"edge\" d=\"M 0 0 V -10.9557 H 19.9219\"/><rect class=\"sym\" height=\"6\" width=\"6\" x=\"-3\" y=\"-3\"/><text class=\"lab\" transform=\"translate(0 11)\">0</text></g><g class=\"a14 i1 leaf node n3 p0 sample\" transform=\"translate(19.9219 10.9557)\"><path class=\"edge\" d=\"M 0 0 V -10.9557 H -19.9219\"/><rect class=\"sym\" height=\"6\" width=\"6\" x=\"-3\" y=\"-3\"/><text class=\"lab\" transform=\"translate(0 11)\">3</text></g><path class=\"edge\" d=\"M 0 0 V -8.71576 H 29.8828\"/><circle class=\"sym\" cx=\"0\" cy=\"0\" r=\"3\"/><text class=\"lab lft\" transform=\"translate(-3 -7.0)\">14</text></g><path class=\"edge\" d=\"M 0 0 V -39.9867 H 34.8633\"/><circle class=\"sym\" cx=\"0\" cy=\"0\" r=\"3\"/><text class=\"lab lft\" transform=\"translate(-3 -7.0)\">20</text></g><circle class=\"sym\" cx=\"0\" cy=\"0\" r=\"3\"/><text class=\"lab\" transform=\"translate(0 -11)\">47</text></g></g></g><g class=\"tree t54\" transform=\"translate(10786.2 0)\"><g class=\"plotbox\"><g class=\"c2 node n46 p0 root\" transform=\"translate(124.59 62.8056)\"><g class=\"a46 i0 leaf node n1 p0 sample\" transform=\"translate(34.8633 58.5944)\"><path class=\"edge\" d=\"M 0 0 V -58.5944 H -34.8633\"/><rect class=\"sym\" height=\"6\" width=\"6\" x=\"-3\" y=\"-3\"/><text class=\"lab\" transform=\"translate(0 11)\">1</text></g><g class=\"a46 c2 node n20 p0\" transform=\"translate(-34.8633 38.923)\"><g class=\"a20 i1 leaf node n2 p0 sample\" transform=\"translate(29.8828 19.6714)\"><path class=\"edge\" d=\"M 0 0 V -19.6714 H -29.8828\"/><rect class=\"sym\" height=\"6\" width=\"6\" x=\"-3\" y=\"-3\"/><text class=\"lab\" transform=\"translate(0 11)\">2</text></g><g class=\"a20 c2 node n14 p0\" transform=\"translate(-29.8828 8.71576)\"><g class=\"a14 i0 leaf node n0 p0 sample\" transform=\"translate(-19.9219 10.9557)\"><path class=\"edge\" d=\"M 0 0 V -10.9557 H 19.9219\"/><rect class=\"sym\" height=\"6\" width=\"6\" x=\"-3\" y=\"-3\"/><text class=\"lab\" transform=\"translate(0 11)\">0</text></g><g class=\"a14 i1 leaf node n3 p0 sample\" transform=\"translate(19.9219 10.9557)\"><path class=\"edge\" d=\"M 0 0 V -10.9557 H -19.9219\"/><rect class=\"sym\" height=\"6\" width=\"6\" x=\"-3\" y=\"-3\"/><text class=\"lab\" transform=\"translate(0 11)\">3</text></g><path class=\"edge\" d=\"M 0 0 V -8.71576 H 29.8828\"/><circle class=\"sym\" cx=\"0\" cy=\"0\" r=\"3\"/><text class=\"lab lft\" transform=\"translate(-3 -7.0)\">14</text></g><path class=\"edge\" d=\"M 0 0 V -38.923 H 34.8633\"/><circle class=\"sym\" cx=\"0\" cy=\"0\" r=\"3\"/><text class=\"lab lft\" transform=\"translate(-3 -7.0)\">20</text></g><circle class=\"sym\" cx=\"0\" cy=\"0\" r=\"3\"/><text class=\"lab\" transform=\"translate(0 -11)\">46</text></g></g></g><g class=\"tree t55\" transform=\"translate(10985.6 0)\"><g class=\"plotbox\"><g class=\"c2 node n52 p0 root\" transform=\"translate(124.59 51.9426)\"><g class=\"a52 i0 leaf node n1 p0 sample\" transform=\"translate(34.8633 69.4574)\"><path class=\"edge\" d=\"M 0 0 V -69.4574 H -34.8633\"/><rect class=\"sym\" height=\"6\" width=\"6\" x=\"-3\" y=\"-3\"/><text class=\"lab\" transform=\"translate(0 11)\">1</text></g><g class=\"a52 c2 node n20 p0\" transform=\"translate(-34.8633 49.786)\"><g class=\"a20 i1 leaf node n2 p0 sample\" transform=\"translate(29.8828 19.6714)\"><path class=\"edge\" d=\"M 0 0 V -19.6714 H -29.8828\"/><rect class=\"sym\" height=\"6\" width=\"6\" x=\"-3\" y=\"-3\"/><text class=\"lab\" transform=\"translate(0 11)\">2</text></g><g class=\"a20 c2 node n14 p0\" transform=\"translate(-29.8828 8.71576)\"><g class=\"a14 i0 leaf node n0 p0 sample\" transform=\"translate(-19.9219 10.9557)\"><path class=\"edge\" d=\"M 0 0 V -10.9557 H 19.9219\"/><rect class=\"sym\" height=\"6\" width=\"6\" x=\"-3\" y=\"-3\"/><text class=\"lab\" transform=\"translate(0 11)\">0</text></g><g class=\"a14 i1 leaf node n3 p0 sample\" transform=\"translate(19.9219 10.9557)\"><path class=\"edge\" d=\"M 0 0 V -10.9557 H -19.9219\"/><rect class=\"sym\" height=\"6\" width=\"6\" x=\"-3\" y=\"-3\"/><text class=\"lab\" transform=\"translate(0 11)\">3</text></g><path class=\"edge\" d=\"M 0 0 V -8.71576 H 29.8828\"/><circle class=\"sym\" cx=\"0\" cy=\"0\" r=\"3\"/><text class=\"lab lft\" transform=\"translate(-3 -7.0)\">14</text></g><path class=\"edge\" d=\"M 0 0 V -49.786 H 34.8633\"/><circle class=\"sym\" cx=\"0\" cy=\"0\" r=\"3\"/><text class=\"lab lft\" transform=\"translate(-3 -7.0)\">20</text></g><circle class=\"sym\" cx=\"0\" cy=\"0\" r=\"3\"/><text class=\"lab\" transform=\"translate(0 -11)\">52</text></g></g></g><g class=\"tree t56\" transform=\"translate(11185 0)\"><g class=\"plotbox\"><g class=\"c2 node n52 p0 root\" transform=\"translate(124.59 51.9426)\"><g class=\"a52 i0 leaf node n1 p0 sample\" transform=\"translate(34.8633 69.4574)\"><path class=\"edge\" d=\"M 0 0 V -69.4574 H -34.8633\"/><rect class=\"sym\" height=\"6\" width=\"6\" x=\"-3\" y=\"-3\"/><text class=\"lab\" transform=\"translate(0 11)\">1</text></g><g class=\"a52 c2 node n19 p0\" transform=\"translate(-34.8633 54.3941)\"><g class=\"a19 i1 leaf node n2 p0 sample\" transform=\"translate(29.8828 15.0633)\"><path class=\"edge\" d=\"M 0 0 V -15.0633 H -29.8828\"/><rect class=\"sym\" height=\"6\" width=\"6\" x=\"-3\" y=\"-3\"/><text class=\"lab\" transform=\"translate(0 11)\">2</text></g><g class=\"a19 c2 node n14 p0\" transform=\"translate(-29.8828 4.10766)\"><g class=\"a14 i0 leaf node n0 p0 sample\" transform=\"translate(-19.9219 10.9557)\"><path class=\"edge\" d=\"M 0 0 V -10.9557 H 19.9219\"/><rect class=\"sym\" height=\"6\" width=\"6\" x=\"-3\" y=\"-3\"/><text class=\"lab\" transform=\"translate(0 11)\">0</text></g><g class=\"a14 i1 leaf node n3 p0 sample\" transform=\"translate(19.9219 10.9557)\"><path class=\"edge\" d=\"M 0 0 V -10.9557 H -19.9219\"/><rect class=\"sym\" height=\"6\" width=\"6\" x=\"-3\" y=\"-3\"/><text class=\"lab\" transform=\"translate(0 11)\">3</text></g><path class=\"edge\" d=\"M 0 0 V -4.10766 H 29.8828\"/><circle class=\"sym\" cx=\"0\" cy=\"0\" r=\"3\"/><text class=\"lab lft\" transform=\"translate(-3 -7.0)\">14</text></g><path class=\"edge\" d=\"M 0 0 V -54.3941 H 34.8633\"/><circle class=\"sym\" cx=\"0\" cy=\"0\" r=\"3\"/><text class=\"lab lft\" transform=\"translate(-3 -7.0)\">19</text></g><circle class=\"sym\" cx=\"0\" cy=\"0\" r=\"3\"/><text class=\"lab\" transform=\"translate(0 -11)\">52</text></g></g></g><g class=\"tree t57\" transform=\"translate(11384.4 0)\"><g class=\"plotbox\"><g class=\"c2 node n28 p0 root\" transform=\"translate(124.59 94.5674)\"><g class=\"a28 i0 leaf node n1 p0 sample\" transform=\"translate(34.8633 26.8326)\"><path class=\"edge\" d=\"M 0 0 V -26.8326 H -34.8633\"/><rect class=\"sym\" height=\"6\" width=\"6\" x=\"-3\" y=\"-3\"/><text class=\"lab\" transform=\"translate(0 11)\">1</text></g><g class=\"a28 c2 node n19 p0\" transform=\"translate(-34.8633 11.7693)\"><g class=\"a19 i1 leaf node n2 p0 sample\" transform=\"translate(29.8828 15.0633)\"><path class=\"edge\" d=\"M 0 0 V -15.0633 H -29.8828\"/><rect class=\"sym\" height=\"6\" width=\"6\" x=\"-3\" y=\"-3\"/><text class=\"lab\" transform=\"translate(0 11)\">2</text></g><g class=\"a19 c2 node n14 p0\" transform=\"translate(-29.8828 4.10766)\"><g class=\"a14 i0 leaf node n0 p0 sample\" transform=\"translate(-19.9219 10.9557)\"><path class=\"edge\" d=\"M 0 0 V -10.9557 H 19.9219\"/><rect class=\"sym\" height=\"6\" width=\"6\" x=\"-3\" y=\"-3\"/><text class=\"lab\" transform=\"translate(0 11)\">0</text></g><g class=\"a14 i1 leaf node n3 p0 sample\" transform=\"translate(19.9219 10.9557)\"><path class=\"edge\" d=\"M 0 0 V -10.9557 H -19.9219\"/><rect class=\"sym\" height=\"6\" width=\"6\" x=\"-3\" y=\"-3\"/><text class=\"lab\" transform=\"translate(0 11)\">3</text></g><path class=\"edge\" d=\"M 0 0 V -4.10766 H 29.8828\"/><circle class=\"sym\" cx=\"0\" cy=\"0\" r=\"3\"/><text class=\"lab lft\" transform=\"translate(-3 -7.0)\">14</text></g><path class=\"edge\" d=\"M 0 0 V -11.7693 H 34.8633\"/><circle class=\"sym\" cx=\"0\" cy=\"0\" r=\"3\"/><text class=\"lab lft\" transform=\"translate(-3 -7.0)\">19</text></g><circle class=\"sym\" cx=\"0\" cy=\"0\" r=\"3\"/><text class=\"lab\" transform=\"translate(0 -11)\">28</text></g></g></g><g class=\"tree t58\" transform=\"translate(11583.8 0)\"><g class=\"plotbox\"><g class=\"c2 node n28 p0 root\" transform=\"translate(99.6875 94.5674)\"><g class=\"a28 c2 node n14 p0\" transform=\"translate(-39.8438 15.8769)\"><g class=\"a14 i0 leaf node n0 p0 sample\" transform=\"translate(-19.9219 10.9557)\"><path class=\"edge\" d=\"M 0 0 V -10.9557 H 19.9219\"/><rect class=\"sym\" height=\"6\" width=\"6\" x=\"-3\" y=\"-3\"/><text class=\"lab\" transform=\"translate(0 11)\">0</text></g><g class=\"a14 i1 leaf node n3 p0 sample\" transform=\"translate(19.9219 10.9557)\"><path class=\"edge\" d=\"M 0 0 V -10.9557 H -19.9219\"/><rect class=\"sym\" height=\"6\" width=\"6\" x=\"-3\" y=\"-3\"/><text class=\"lab\" transform=\"translate(0 11)\">3</text></g><path class=\"edge\" d=\"M 0 0 V -15.8769 H 39.8438\"/><circle class=\"sym\" cx=\"0\" cy=\"0\" r=\"3\"/><text class=\"lab lft\" transform=\"translate(-3 -7.0)\">14</text></g><g class=\"a28 c2 node n24 p0\" transform=\"translate(39.8438 4.31257)\"><g class=\"a24 i0 leaf node n1 p0 sample\" transform=\"translate(-19.9219 22.52)\"><path class=\"edge\" d=\"M 0 0 V -22.52 H 19.9219\"/><rect class=\"sym\" height=\"6\" width=\"6\" x=\"-3\" y=\"-3\"/><text class=\"lab\" transform=\"translate(0 11)\">1</text></g><g class=\"a24 i1 leaf node n2 p0 sample\" transform=\"translate(19.9219 22.52)\"><path class=\"edge\" d=\"M 0 0 V -22.52 H -19.9219\"/><rect class=\"sym\" height=\"6\" width=\"6\" x=\"-3\" y=\"-3\"/><text class=\"lab\" transform=\"translate(0 11)\">2</text></g><path class=\"edge\" d=\"M 0 0 V -4.31257 H -39.8438\"/><circle class=\"sym\" cx=\"0\" cy=\"0\" r=\"3\"/><text class=\"lab rgt\" transform=\"translate(3 -7.0)\">24</text></g><circle class=\"sym\" cx=\"0\" cy=\"0\" r=\"3\"/><text class=\"lab\" transform=\"translate(0 -11)\">28</text></g></g></g><g class=\"tree t59\" transform=\"translate(11783.1 0)\"><g class=\"plotbox\"><g class=\"c2 node n34 p0 root\" transform=\"translate(124.59 89.1034)\"><g class=\"a34 i1 leaf node n2 p0 sample\" transform=\"translate(34.8633 32.2966)\"><path class=\"edge\" d=\"M 0 0 V -32.2966 H -34.8633\"/><rect class=\"sym\" height=\"6\" width=\"6\" x=\"-3\" y=\"-3\"/><text class=\"lab\" transform=\"translate(0 11)\">2</text></g><g class=\"a34 c2 node n28 p0\" transform=\"translate(-34.8633 5.46404)\"><g class=\"a28 c2 node n14 p0\" transform=\"translate(-29.8828 15.8769)\"><g class=\"a14 i0 leaf node n0 p0 sample\" transform=\"translate(-19.9219 10.9557)\"><path class=\"edge\" d=\"M 0 0 V -10.9557 H 19.9219\"/><rect class=\"sym\" height=\"6\" width=\"6\" x=\"-3\" y=\"-3\"/><text class=\"lab\" transform=\"translate(0 11)\">0</text></g><g class=\"a14 i1 leaf node n3 p0 sample\" transform=\"translate(19.9219 10.9557)\"><path class=\"edge\" d=\"M 0 0 V -10.9557 H -19.9219\"/><rect class=\"sym\" height=\"6\" width=\"6\" x=\"-3\" y=\"-3\"/><text class=\"lab\" transform=\"translate(0 11)\">3</text></g><path class=\"edge\" d=\"M 0 0 V -15.8769 H 29.8828\"/><circle class=\"sym\" cx=\"0\" cy=\"0\" r=\"3\"/><text class=\"lab lft\" transform=\"translate(-3 -7.0)\">14</text></g><g class=\"a28 i0 leaf node n1 p0 sample\" transform=\"translate(29.8828 26.8326)\"><path class=\"edge\" d=\"M 0 0 V -26.8326 H -29.8828\"/><rect class=\"sym\" height=\"6\" width=\"6\" x=\"-3\" y=\"-3\"/><text class=\"lab\" transform=\"translate(0 11)\">1</text></g><path class=\"edge\" d=\"M 0 0 V -5.46404 H 34.8633\"/><circle class=\"sym\" cx=\"0\" cy=\"0\" r=\"3\"/><text class=\"lab lft\" transform=\"translate(-3 -7.0)\">28</text></g><circle class=\"sym\" cx=\"0\" cy=\"0\" r=\"3\"/><text class=\"lab\" transform=\"translate(0 -11)\">34</text></g></g></g><g class=\"tree t60\" transform=\"translate(11982.5 0)\"><g class=\"plotbox\"><g class=\"c2 node n46 p0 root\" transform=\"translate(124.59 62.8056)\"><g class=\"a46 i1 leaf node n2 p0 sample\" transform=\"translate(34.8633 58.5944)\"><path class=\"edge\" d=\"M 0 0 V -58.5944 H -34.8633\"/><rect class=\"sym\" height=\"6\" width=\"6\" x=\"-3\" y=\"-3\"/><text class=\"lab\" transform=\"translate(0 11)\">2</text></g><g class=\"a46 c2 node n28 p0\" transform=\"translate(-34.8633 31.7618)\"><g class=\"a28 c2 node n14 p0\" transform=\"translate(-29.8828 15.8769)\"><g class=\"a14 i0 leaf node n0 p0 sample\" transform=\"translate(-19.9219 10.9557)\"><path class=\"edge\" d=\"M 0 0 V -10.9557 H 19.9219\"/><rect class=\"sym\" height=\"6\" width=\"6\" x=\"-3\" y=\"-3\"/><text class=\"lab\" transform=\"translate(0 11)\">0</text></g><g class=\"a14 i1 leaf node n3 p0 sample\" transform=\"translate(19.9219 10.9557)\"><path class=\"edge\" d=\"M 0 0 V -10.9557 H -19.9219\"/><rect class=\"sym\" height=\"6\" width=\"6\" x=\"-3\" y=\"-3\"/><text class=\"lab\" transform=\"translate(0 11)\">3</text></g><path class=\"edge\" d=\"M 0 0 V -15.8769 H 29.8828\"/><circle class=\"sym\" cx=\"0\" cy=\"0\" r=\"3\"/><text class=\"lab lft\" transform=\"translate(-3 -7.0)\">14</text></g><g class=\"a28 i0 leaf node n1 p0 sample\" transform=\"translate(29.8828 26.8326)\"><path class=\"edge\" d=\"M 0 0 V -26.8326 H -29.8828\"/><rect class=\"sym\" height=\"6\" width=\"6\" x=\"-3\" y=\"-3\"/><text class=\"lab\" transform=\"translate(0 11)\">1</text></g><path class=\"edge\" d=\"M 0 0 V -31.7618 H 34.8633\"/><circle class=\"sym\" cx=\"0\" cy=\"0\" r=\"3\"/><text class=\"lab lft\" transform=\"translate(-3 -7.0)\">28</text></g><circle class=\"sym\" cx=\"0\" cy=\"0\" r=\"3\"/><text class=\"lab\" transform=\"translate(0 -11)\">46</text></g></g></g><g class=\"tree t61\" transform=\"translate(12181.9 0)\"><g class=\"plotbox\"><g class=\"c2 node n46 p0 root\" transform=\"translate(99.6875 62.8056)\"><g class=\"a46 c2 node n28 p0\" transform=\"translate(39.8438 31.7618)\"><g class=\"a28 i0 leaf node n1 p0 sample\" transform=\"translate(-19.9219 26.8326)\"><path class=\"edge\" d=\"M 0 0 V -26.8326 H 19.9219\"/><rect class=\"sym\" height=\"6\" width=\"6\" x=\"-3\" y=\"-3\"/><text class=\"lab\" transform=\"translate(0 11)\">1</text></g><g class=\"a28 i1 leaf node n3 p0 sample\" transform=\"translate(19.9219 26.8326)\"><path class=\"edge\" d=\"M 0 0 V -26.8326 H -19.9219\"/><rect class=\"sym\" height=\"6\" width=\"6\" x=\"-3\" y=\"-3\"/><text class=\"lab\" transform=\"translate(0 11)\">3</text></g><path class=\"edge\" d=\"M 0 0 V -31.7618 H -39.8438\"/><circle class=\"sym\" cx=\"0\" cy=\"0\" r=\"3\"/><text class=\"lab rgt\" transform=\"translate(3 -7.0)\">28</text></g><g class=\"a46 c2 node n4 p0\" transform=\"translate(-39.8438 56.1205)\"><g class=\"a4 i0 leaf node n0 p0 sample\" transform=\"translate(-19.9219 2.47387)\"><path class=\"edge\" d=\"M 0 0 V -2.47387 H 19.9219\"/><rect class=\"sym\" height=\"6\" width=\"6\" x=\"-3\" y=\"-3\"/><text class=\"lab\" transform=\"translate(0 11)\">0</text></g><g class=\"a4 i1 leaf node n2 p0 sample\" transform=\"translate(19.9219 2.47387)\"><path class=\"edge\" d=\"M 0 0 V -2.47387 H -19.9219\"/><rect class=\"sym\" height=\"6\" width=\"6\" x=\"-3\" y=\"-3\"/><text class=\"lab\" transform=\"translate(0 11)\">2</text></g><path class=\"edge\" d=\"M 0 0 V -56.1205 H 39.8438\"/><circle class=\"sym\" cx=\"0\" cy=\"0\" r=\"3\"/><text class=\"lab lft\" transform=\"translate(-3 -7.0)\">4</text></g><circle class=\"sym\" cx=\"0\" cy=\"0\" r=\"3\"/><text class=\"lab\" transform=\"translate(0 -11)\">46</text></g></g></g><g class=\"tree t62\" transform=\"translate(12381.2 0)\"><g class=\"plotbox\"><g class=\"c2 node n54 p0 root\" transform=\"translate(99.6875 39.2703)\"><g class=\"a54 c2 node n4 p0\" transform=\"translate(-39.8438 79.6558)\"><g class=\"a4 i0 leaf node n0 p0 sample\" transform=\"translate(-19.9219 2.47387)\"><path class=\"edge\" d=\"M 0 0 V -2.47387 H 19.9219\"/><rect class=\"sym\" height=\"6\" width=\"6\" x=\"-3\" y=\"-3\"/><text class=\"lab\" transform=\"translate(0 11)\">0</text></g><g class=\"a4 i1 leaf node n2 p0 sample\" transform=\"translate(19.9219 2.47387)\"><path class=\"edge\" d=\"M 0 0 V -2.47387 H -19.9219\"/><rect class=\"sym\" height=\"6\" width=\"6\" x=\"-3\" y=\"-3\"/><text class=\"lab\" transform=\"translate(0 11)\">2</text></g><path class=\"edge\" d=\"M 0 0 V -79.6558 H 39.8438\"/><circle class=\"sym\" cx=\"0\" cy=\"0\" r=\"3\"/><text class=\"lab lft\" transform=\"translate(-3 -7.0)\">4</text></g><g class=\"a54 c2 node n28 p0\" transform=\"translate(39.8438 55.2971)\"><g class=\"a28 i0 leaf node n1 p0 sample\" transform=\"translate(-19.9219 26.8326)\"><path class=\"edge\" d=\"M 0 0 V -26.8326 H 19.9219\"/><rect class=\"sym\" height=\"6\" width=\"6\" x=\"-3\" y=\"-3\"/><text class=\"lab\" transform=\"translate(0 11)\">1</text></g><g class=\"a28 i1 leaf node n3 p0 sample\" transform=\"translate(19.9219 26.8326)\"><path class=\"edge\" d=\"M 0 0 V -26.8326 H -19.9219\"/><rect class=\"sym\" height=\"6\" width=\"6\" x=\"-3\" y=\"-3\"/><text class=\"lab\" transform=\"translate(0 11)\">3</text></g><path class=\"edge\" d=\"M 0 0 V -55.2971 H -39.8438\"/><circle class=\"sym\" cx=\"0\" cy=\"0\" r=\"3\"/><text class=\"lab rgt\" transform=\"translate(3 -7.0)\">28</text></g><circle class=\"sym\" cx=\"0\" cy=\"0\" r=\"3\"/><text class=\"lab\" transform=\"translate(0 -11)\">54</text></g></g></g><g class=\"tree t63\" transform=\"translate(12580.6 0)\"><g class=\"plotbox\"><g class=\"c2 node n42 p0 root\" transform=\"translate(99.6875 67.1806)\"><g class=\"a42 c2 node n4 p0\" transform=\"translate(-39.8438 51.7455)\"><g class=\"a4 i0 leaf node n0 p0 sample\" transform=\"translate(-19.9219 2.47387)\"><path class=\"edge\" d=\"M 0 0 V -2.47387 H 19.9219\"/><rect class=\"sym\" height=\"6\" width=\"6\" x=\"-3\" y=\"-3\"/><text class=\"lab\" transform=\"translate(0 11)\">0</text></g><g class=\"a4 i1 leaf node n2 p0 sample\" transform=\"translate(19.9219 2.47387)\"><path class=\"edge\" d=\"M 0 0 V -2.47387 H -19.9219\"/><rect class=\"sym\" height=\"6\" width=\"6\" x=\"-3\" y=\"-3\"/><text class=\"lab\" transform=\"translate(0 11)\">2</text></g><path class=\"edge\" d=\"M 0 0 V -51.7455 H 39.8438\"/><circle class=\"sym\" cx=\"0\" cy=\"0\" r=\"3\"/><text class=\"lab lft\" transform=\"translate(-3 -7.0)\">4</text></g><g class=\"a42 c2 node n28 p0\" transform=\"translate(39.8438 27.3868)\"><g class=\"a28 i0 leaf node n1 p0 sample\" transform=\"translate(-19.9219 26.8326)\"><path class=\"edge\" d=\"M 0 0 V -26.8326 H 19.9219\"/><rect class=\"sym\" height=\"6\" width=\"6\" x=\"-3\" y=\"-3\"/><text class=\"lab\" transform=\"translate(0 11)\">1</text></g><g class=\"a28 i1 leaf node n3 p0 sample\" transform=\"translate(19.9219 26.8326)\"><path class=\"edge\" d=\"M 0 0 V -26.8326 H -19.9219\"/><rect class=\"sym\" height=\"6\" width=\"6\" x=\"-3\" y=\"-3\"/><text class=\"lab\" transform=\"translate(0 11)\">3</text></g><path class=\"edge\" d=\"M 0 0 V -27.3868 H -39.8438\"/><circle class=\"sym\" cx=\"0\" cy=\"0\" r=\"3\"/><text class=\"lab rgt\" transform=\"translate(3 -7.0)\">28</text></g><circle class=\"sym\" cx=\"0\" cy=\"0\" r=\"3\"/><text class=\"lab\" transform=\"translate(0 -11)\">42</text></g></g></g></g></g></svg>"
      ],
      "text/plain": [
       "<IPython.core.display.SVG object>"
      ]
     },
     "execution_count": 8,
     "metadata": {},
     "output_type": "execute_result"
    }
   ],
   "source": [
    "ts = msprime.sim_ancestry(\n",
    "    samples=2, random_seed=2, sequence_length=100,\n",
    "    recombination_rate=0.1, discrete_genome=False)\n",
    "SVG(ts.draw_svg())"
   ]
  },
  {
   "cell_type": "markdown",
   "metadata": {},
   "source": [
    "(10.55am)\n",
    "\n",
    "*Exercise:* modify the following code to simulate chromosomes for 2 organisms of ploidy 3, with a chromosome length of 100 and a variable recombination rate with a hotspot  from coordinates 50 to 60 where the rate is 0.1."
   ]
  },
  {
   "cell_type": "code",
   "execution_count": null,
   "metadata": {},
   "outputs": [],
   "source": [
    "rate_map = msprime.RateMap(position=[0, 100], rate=[0.01])\n",
    "ts = msprime.sim_ancestry(3, recombination_rate=rate_map, random_seed=193, ploidy=3)\n",
    "SVG(ts.draw_svg())"
   ]
  },
  {
   "cell_type": "markdown",
   "metadata": {},
   "source": [
    "## Demographic history\n",
    "\n",
    "(11am)\n",
    "\n",
    "So far we haven't really discussed the times in the branches, or the historical information. By default msprime uses population_size=1 (check: is this dependent on ploidy), which puts trees in 'coalescent time units'. (Can briefly explain why these are useful...)"
   ]
  },
  {
   "cell_type": "markdown",
   "metadata": {},
   "source": [
    "However, in reality we are trying to model a species whose demographic history we know something about"
   ]
  },
  {
   "cell_type": "markdown",
   "metadata": {},
   "source": [
    "So far, we have been simulating samples from a single population of a constant size, which isn’t particularly exciting! One of the strengths of msprime is that it can be used to specify quite complicated models of demography and population history with a simple Python API."
   ]
  },
  {
   "cell_type": "markdown",
   "metadata": {},
   "source": [
    "### Population structure\n",
    "\n",
    "(11.05am)"
   ]
  },
  {
   "cell_type": "markdown",
   "metadata": {},
   "source": [
    "msprime supports simulation from multiple discrete populations, each of which is initialized in msprime.Demography via the msprime.Demography.add_population() method. For each population, you can specify a sample size, an effective population size at time = 0, an exponential growth rate and a name.\n",
    "\n",
    "Suppose we wanted to simulate three sequences each from two populations with a constant effective population size of 500."
   ]
  },
  {
   "cell_type": "code",
   "execution_count": null,
   "metadata": {},
   "outputs": [],
   "source": [
    "# DON'T UNCOMMENT AND RUN!\n",
    "#\n",
    "# ts = msprime.sim_ancestry(\n",
    "#   samples={\"A\" : 3, \"B\" : 3}, \n",
    "#   demography=dem,\n",
    "#   random_seed=12,\n",
    "#   sequence_length=1000, \n",
    "#   recombination_rate=1e-4\n",
    "#   )"
   ]
  },
  {
   "cell_type": "markdown",
   "metadata": {},
   "source": [
    "However, this simulation will run forever unless we also specify some migration between the groups! To understand why, recall that msprime is a backwards-time simulator. The simulation will run beginning from the present day working further back in time, simulating until all samples have coalesced to a single common ancestor at each genomic location. However, with no migration between our two populations, samples in one population will never coalesce with samples in another population. To fix this, let’s add some migration events to the specific demographic history."
   ]
  },
  {
   "cell_type": "markdown",
   "metadata": {},
   "source": [
    "With msprime, you can specify continual rates of migrations between populations, as well as admixture events, divergences and one-off mass migrations.\n"
   ]
  },
  {
   "cell_type": "markdown",
   "metadata": {},
   "source": [
    "**Migration rates** between the populations can be thought as the elements of an N by N numpy array, and are passed to our msprime.Demography object individually via the msprime.Demography.set_migration_rate() method. This allows us to specify the expected number of migrants moving from population dest to population source per generation, divided by the size of population source. When this rate is small (close to 0), it is approximately equal to the fraction of population source that consists of new migrants from population dest in each generation. And if both of your populations are exchanging migrants at the same rate, you can save yourself some typing by specifying them with a single msprime.Demography.set_symmetric_migration_rate() call.\n",
    "\n",
    "For instance, the following migration matrix specifies that in each generation, approximately 5% of population 0 consists of migrants from population 1, and approximately 2% of population 1 consists of migrants from population 0."
   ]
  },
  {
   "cell_type": "code",
   "execution_count": 9,
   "metadata": {},
   "outputs": [
    {
     "data": {
      "text/html": [
       "\n",
       "            <div>\n",
       "              <style>\n",
       "                .tskit-table thead tr th {text-align: left;padding: 0.5em 0.5em;}\n",
       "                .tskit-table tbody tr td {padding: 0.5em 0.5em;}\n",
       "                .tskit-table tbody tr td:first-of-type {text-align: left;}\n",
       "                .tskit-details-label {vertical-align: top; padding-right:5px;}\n",
       "                .tskit-table-set {display: inline-flex;flex-wrap: wrap;margin: -12px 0 0 -12px;width: calc(100% + 12px);}\n",
       "                .tskit-table-set-table {margin: 12px 0 0 12px;}\n",
       "                details {display: inline-block;}\n",
       "                summary {cursor: pointer; outline: 0; display: list-item;}\n",
       "              </style>\n",
       "              <div class=\"tskit-table-set\">\n",
       "                <div class=\"tskit-table-set-table\">\n",
       "                  <table class=\"tskit-table\">\n",
       "                    <thead>\n",
       "                      <tr>\n",
       "                        <th style=\"padding:0;line-height:21px;\">\n",
       "                          <img style=\"height: 32px;display: inline-block;padding: 3px 5px 3px 0;\" src=\"https://raw.githubusercontent.com/tskit-dev/administrative/main/tskit_logo.svg\"/>\n",
       "                          <a target=\"_blank\" href=\"https://tskit.dev/tskit/docs/latest/python-api.html#the-treesequence-class\"> Tree Sequence </a>\n",
       "                        </th>\n",
       "                      </tr>\n",
       "                    </thead>\n",
       "                    <tbody>\n",
       "                      <tr><td>Trees</td><td>1</td></tr>\n",
       "                      <tr><td>Sequence Length</td><td>1000.0</td></tr>\n",
       "                      <tr><td>Time Units</td><td>generations</td></tr>\n",
       "                      <tr><td>Sample Nodes</td><td>4</td></tr>\n",
       "                      <tr><td>Total Size</td><td>2.3 KiB</td></tr>\n",
       "                      <tr>\n",
       "                        <td>Metadata</td><td style=\"text-align: left;\">No Metadata</td></tr>\n",
       "                    </tbody>\n",
       "                  </table>\n",
       "                </div>\n",
       "                <div class=\"tskit-table-set-table\">\n",
       "                  <table class=\"tskit-table\">\n",
       "                    <thead>\n",
       "                      <tr>\n",
       "                        <th style=\"line-height:21px;\">Table</th>\n",
       "                        <th>Rows</th>\n",
       "                        <th>Size</th>\n",
       "                        <th>Has Metadata</th>\n",
       "                      </tr>\n",
       "                    </thead>\n",
       "                    <tbody>\n",
       "                    \n",
       "                  <tr>\n",
       "                    <td>Edges</td>\n",
       "                      <td>6</td>\n",
       "                      <td>200 Bytes</td>\n",
       "                      <td style=\"text-align: center;\">\n",
       "                        \n",
       "                      </td>\n",
       "                    </tr>\n",
       "                \n",
       "                  <tr>\n",
       "                    <td>Individuals</td>\n",
       "                      <td>2</td>\n",
       "                      <td>80 Bytes</td>\n",
       "                      <td style=\"text-align: center;\">\n",
       "                        \n",
       "                      </td>\n",
       "                    </tr>\n",
       "                \n",
       "                  <tr>\n",
       "                    <td>Migrations</td>\n",
       "                      <td>0</td>\n",
       "                      <td>8 Bytes</td>\n",
       "                      <td style=\"text-align: center;\">\n",
       "                        \n",
       "                      </td>\n",
       "                    </tr>\n",
       "                \n",
       "                  <tr>\n",
       "                    <td>Mutations</td>\n",
       "                      <td>0</td>\n",
       "                      <td>16 Bytes</td>\n",
       "                      <td style=\"text-align: center;\">\n",
       "                        \n",
       "                      </td>\n",
       "                    </tr>\n",
       "                \n",
       "                  <tr>\n",
       "                    <td>Nodes</td>\n",
       "                      <td>7</td>\n",
       "                      <td>204 Bytes</td>\n",
       "                      <td style=\"text-align: center;\">\n",
       "                        \n",
       "                      </td>\n",
       "                    </tr>\n",
       "                \n",
       "                  <tr>\n",
       "                    <td>Populations</td>\n",
       "                      <td>2</td>\n",
       "                      <td>288 Bytes</td>\n",
       "                      <td style=\"text-align: center;\">\n",
       "                        ✅\n",
       "                      </td>\n",
       "                    </tr>\n",
       "                \n",
       "                  <tr>\n",
       "                    <td>Provenances</td>\n",
       "                      <td>1</td>\n",
       "                      <td>1.5 KiB</td>\n",
       "                      <td style=\"text-align: center;\">\n",
       "                        \n",
       "                      </td>\n",
       "                    </tr>\n",
       "                \n",
       "                  <tr>\n",
       "                    <td>Sites</td>\n",
       "                      <td>0</td>\n",
       "                      <td>16 Bytes</td>\n",
       "                      <td style=\"text-align: center;\">\n",
       "                        \n",
       "                      </td>\n",
       "                    </tr>\n",
       "                \n",
       "                    </tbody>\n",
       "                  </table>\n",
       "                </div>\n",
       "              </div>\n",
       "            </div>\n",
       "            "
      ],
      "text/plain": [
       "<tskit.trees.TreeSequence at 0x1021fc860>"
      ]
     },
     "execution_count": 9,
     "metadata": {},
     "output_type": "execute_result"
    }
   ],
   "source": [
    "dem = msprime.Demography()\n",
    "dem.add_population(name=\"A\", description=\"Plotted in red.\", initial_size=500)\n",
    "dem.add_population(name=\"B\", description=\"Plotted in blue.\",initial_size=500)\n",
    "\n",
    "# Set migration rates.\n",
    "dem.set_migration_rate(source=0, dest=1, rate=0.05)\n",
    "dem.set_migration_rate(source=1, dest=0, rate=0.02)\n",
    "\n",
    "# Simulate.\n",
    "ts = msprime.sim_ancestry(\n",
    "  samples={\"A\" : 1, \"B\" : 1},\n",
    "  demography=dem,\n",
    "  sequence_length=1000,\n",
    "  random_seed=141,\n",
    "  recombination_rate=1e-7)\n",
    "ts"
   ]
  },
  {
   "cell_type": "markdown",
   "metadata": {},
   "source": [
    "One consequence of specifying msprime.Population objects is that each of the simulated nodes will now belong to one of our specified populations:"
   ]
  },
  {
   "cell_type": "code",
   "execution_count": 10,
   "metadata": {},
   "outputs": [
    {
     "data": {
      "text/html": [
       "\n",
       "            <div>\n",
       "                <style scoped=\"\">\n",
       "                    .tskit-table tbody tr th:only-of-type {vertical-align: middle;}\n",
       "                    .tskit-table tbody tr th {vertical-align: top;}\n",
       "                    .tskit-table tbody td {text-align: right;padding: 0.5em 0.5em;}\n",
       "                    .tskit-table tbody th {padding: 0.5em 0.5em;}\n",
       "                </style>\n",
       "                <table border=\"1\" class=\"tskit-table\">\n",
       "                    <thead>\n",
       "                        <tr>\n",
       "                            <th>id</th><th>flags</th><th>population</th><th>individual</th><th>time</th><th>metadata</th>\n",
       "                        </tr>\n",
       "                    </thead>\n",
       "                    <tbody>\n",
       "                        <tr><td>0</td><td>1</td><td>0</td><td>0</td><td>0.00000000</td><td>b''</td></tr>\n",
       "<tr><td>1</td><td>1</td><td>0</td><td>0</td><td>0.00000000</td><td>b''</td></tr>\n",
       "<tr><td>2</td><td>1</td><td>1</td><td>1</td><td>0.00000000</td><td>b''</td></tr>\n",
       "<tr><td>3</td><td>1</td><td>1</td><td>1</td><td>0.00000000</td><td>b''</td></tr>\n",
       "<tr><td>4</td><td>0</td><td>0</td><td>-1</td><td>161.20712736</td><td>b''</td></tr>\n",
       "<tr><td>5</td><td>0</td><td>1</td><td>-1</td><td>336.10713452</td><td>b''</td></tr>\n",
       "<tr><td>6</td><td>0</td><td>1</td><td>-1</td><td>590.71203375</td><td>b''</td></tr>\n",
       "\n",
       "                    </tbody>\n",
       "                </table>\n",
       "            </div>\n",
       "        "
      ],
      "text/plain": [
       "<tskit.tables.NodeTable at 0x131edde80>"
      ]
     },
     "execution_count": 10,
     "metadata": {},
     "output_type": "execute_result"
    }
   ],
   "source": [
    "ts.tables.nodes"
   ]
  },
  {
   "cell_type": "markdown",
   "metadata": {},
   "source": [
    "Notice that the population column of the node table now contains values of 0 and 1. If you are working in a Jupyter notebook, you can draw the tree sequence with nodes coloured by population label using SVG:"
   ]
  },
  {
   "cell_type": "code",
   "execution_count": 11,
   "metadata": {},
   "outputs": [
    {
     "name": "stdout",
     "output_type": "stream",
     "text": [
      "Tree on interval: Interval(left=0.0, right=1000.0)\n"
     ]
    },
    {
     "data": {
      "image/svg+xml": [
       "<svg baseProfile=\"full\" height=\"200\" version=\"1.1\" width=\"200\" xmlns=\"http://www.w3.org/2000/svg\" xmlns:ev=\"http://www.w3.org/2001/xml-events\" xmlns:xlink=\"http://www.w3.org/1999/xlink\"><defs><style type=\"text/css\"><![CDATA[.background path {fill: #808080; fill-opacity: 0}.background path:nth-child(odd) {fill-opacity: .1}.axes {font-size: 14px}.x-axis .tick .lab {font-weight: bold; dominant-baseline: hanging}.axes, .tree {font-size: 14px; text-anchor: middle}.axes line, .edge {stroke: black; fill: none}.y-axis .grid {stroke: #FAFAFA}.node > .sym {fill: black; stroke: none}.site > .sym {stroke: black}.mut text {fill: red; font-style: italic}.mut.extra text {fill: hotpink}.mut line {fill: none; stroke: none}.mut .sym {fill: none; stroke: red}.mut.extra .sym {stroke: hotpink}.node .mut .sym {stroke-width: 1.5px}.tree text, .tree-sequence text {dominant-baseline: central}.plotbox .lab.lft {text-anchor: end}.plotbox .lab.rgt {text-anchor: start}]]></style></defs><g class=\"tree t0\"><g class=\"plotbox\"><g class=\"c2 node n6 p1 root\" transform=\"translate(125 26.8)\"><g class=\"a6 i1 leaf node n3 p1 sample\" transform=\"translate(35 141.4)\"><path class=\"edge\" d=\"M 0 0 V -141.4 H -35\"/><rect class=\"sym\" height=\"6\" style=\"fill:blue;\" width=\"6\" x=\"-3\" y=\"-3\"/><text class=\"lab\" transform=\"translate(0 11)\">3</text></g><g class=\"a6 c2 node n5 p1\" transform=\"translate(-35 60.9453)\"><g class=\"a5 i0 leaf node n1 p0 sample\" transform=\"translate(30 80.4547)\"><path class=\"edge\" d=\"M 0 0 V -80.4547 H -30\"/><rect class=\"sym\" height=\"6\" style=\"fill:red;\" width=\"6\" x=\"-3\" y=\"-3\"/><text class=\"lab\" transform=\"translate(0 11)\">1</text></g><g class=\"a5 c2 node n4 p0\" transform=\"translate(-30 41.8662)\"><g class=\"a4 i0 leaf node n0 p0 sample\" transform=\"translate(-20 38.5885)\"><path class=\"edge\" d=\"M 0 0 V -38.5885 H 20\"/><rect class=\"sym\" height=\"6\" style=\"fill:red;\" width=\"6\" x=\"-3\" y=\"-3\"/><text class=\"lab\" transform=\"translate(0 11)\">0</text></g><g class=\"a4 i1 leaf node n2 p1 sample\" transform=\"translate(20 38.5885)\"><path class=\"edge\" d=\"M 0 0 V -38.5885 H -20\"/><rect class=\"sym\" height=\"6\" style=\"fill:blue;\" width=\"6\" x=\"-3\" y=\"-3\"/><text class=\"lab\" transform=\"translate(0 11)\">2</text></g><path class=\"edge\" d=\"M 0 0 V -41.8662 H 30\"/><circle class=\"sym\" cx=\"0\" cy=\"0\" r=\"3\" style=\"fill:red;\"/><text class=\"lab lft\" transform=\"translate(-3 -7.0)\">4</text></g><path class=\"edge\" d=\"M 0 0 V -60.9453 H 35\"/><circle class=\"sym\" cx=\"0\" cy=\"0\" r=\"3\" style=\"fill:blue;\"/><text class=\"lab lft\" transform=\"translate(-3 -7.0)\">5</text></g><circle class=\"sym\" cx=\"0\" cy=\"0\" r=\"3\" style=\"fill:blue;\"/><text class=\"lab\" transform=\"translate(0 -11)\">6</text></g></g></g></svg>"
      ],
      "text/plain": [
       "<IPython.core.display.SVG object>"
      ]
     },
     "metadata": {},
     "output_type": "display_data"
    }
   ],
   "source": [
    "colour_map = {0:\"red\", 1:\"blue\"}\n",
    "node_colours = {u.id: colour_map[u.population] for u in ts.nodes()}\n",
    "for tree in ts.trees():\n",
    "    print(\"Tree on interval:\", tree.interval)\n",
    "    # The code below will only work in a Jupyter notebook with SVG output enabled.\n",
    "    display(SVG(tree.draw(node_colours=node_colours)))"
   ]
  },
  {
   "cell_type": "markdown",
   "metadata": {},
   "source": [
    "More coalescences are happening in population 1 than population 0. This makes sense given that population 1 is specifying more migrants to population 0 than vice versa."
   ]
  },
  {
   "cell_type": "markdown",
   "metadata": {},
   "source": [
    "### Changing migration rates\n",
    "\n",
    "(11.15am)\n",
    "\n",
    "We can change any of the migration rates at any time in the simulation. To do this, we just need to use the msprime.Demography.add_migration_rate_change() method on our msprime.Demography object, specifying the populations whose migration rates are to be changed, the time of the change and the new migration rate.\n",
    "\n",
    "For instance, say we wanted to specify that in each generation prior to time = 100, 1% of population 0 consisted of migrants from population 1."
   ]
  },
  {
   "cell_type": "code",
   "execution_count": null,
   "metadata": {},
   "outputs": [],
   "source": [
    "dem.add_migration_rate_change(time=100, rate=0.01, source=0, dest=1)\n",
    "dem"
   ]
  },
  {
   "cell_type": "markdown",
   "metadata": {},
   "source": [
    "The output above shows that we have successfully added our first demographic event to our msprime.Demography object, a migration rate change. We are now ready to simulate:"
   ]
  },
  {
   "cell_type": "code",
   "execution_count": null,
   "metadata": {},
   "outputs": [],
   "source": [
    "ts = msprime.sim_ancestry(\n",
    "  samples={\"A\" : 1, \"B\" : 1},\n",
    "  demography=dem,\n",
    "  sequence_length=1000,\n",
    "  random_seed=63461,\n",
    "  recombination_rate=1e-7)\n",
    "ts"
   ]
  },
  {
   "cell_type": "markdown",
   "metadata": {},
   "source": [
    "### Admixture\n",
    "\n",
    "(11.25am)\n",
    "\n",
    "It is also easy to specify admixture and divergence events with msprime. Suppose we wanted to specify our demography so that 50 generations ago, 30% of population 0 was a migrant from population 1:\n",
    "\n",
    "We can do this by using the msprime.Demography.add_admixture() method on our demography object. We must supply a list of ancestral populations participating in the admixture, and a list of the same size specifying the proportions of migrants from each of these populations."
   ]
  },
  {
   "cell_type": "code",
   "execution_count": 12,
   "metadata": {},
   "outputs": [],
   "source": [
    "dem = msprime.Demography()\n",
    "dem.add_population(name=\"AncestralPop0\", description=\"Plotted in red.\", initial_size=500, growth_rate=0)\n",
    "dem.add_population(name=\"AncestralPop1\", description=\"Plotted in blue.\", initial_size=500, growth_rate=0)\n",
    "dem.add_population(name=\"AdmixedPop\", description=\"Plotted in green.\", initial_size=500)\n",
    "dem.set_migration_rate(source=0, dest=1, rate=0.05)\n",
    "dem.set_migration_rate(source=1, dest=0, rate=0.02)\n",
    "\n",
    "# Specify admixture event.\n",
    "dem.add_admixture(time=50, derived=\"AdmixedPop\", ancestral=[\"AncestralPop0\", \"AncestralPop1\"], proportions=[0.3, 0.7]);"
   ]
  },
  {
   "cell_type": "markdown",
   "metadata": {},
   "source": [
    "This simulates a sample where all nodes (ancestral haplotypes) are from the admixed population up until the time of the admixture event, and before this, all nodes are from one of the ancestral populations."
   ]
  },
  {
   "cell_type": "code",
   "execution_count": 13,
   "metadata": {
    "scrolled": true
   },
   "outputs": [
    {
     "name": "stdout",
     "output_type": "stream",
     "text": [
      "Populations of nodes from time < 50:\n",
      "[2, 2, 2, 2, 2, 2, 2, 2, 2, 2, 2, 2, 2, 2, 2]\n",
      "Populations of nodes from time >= 50:\n",
      "[1, 1, 1, 1, 0, 1, 1, 1, 0, 1]\n"
     ]
    }
   ],
   "source": [
    "ts = msprime.sim_ancestry(\n",
    "  samples={\"AncestralPop0\" : 0, \"AncestralPop1\" : 0, \"AdmixedPop\" : 6},\n",
    "  demography=dem,\n",
    "  sequence_length=1000,\n",
    "  random_seed=63,\n",
    "  recombination_rate=1e-7)\n",
    "\n",
    "print(\"Populations of nodes from time < 50:\")\n",
    "print([u.population for u in ts.nodes() if u.time < 50])\n",
    "print(\"Populations of nodes from time >= 50:\")\n",
    "print([u.population for u in ts.nodes() if u.time >= 50])"
   ]
  },
  {
   "cell_type": "markdown",
   "metadata": {},
   "source": [
    "Admixtures and population splits are special types of demographic events that affect the state of some of the defined populations, in addition to moving lineages between populations. The output below shows that by adding the admixture event, we are triggering a change in the state of AdmixedPop at time = 50; the population is active at the start of the simulation, but becomes inactive for all steps of the simulation beyond time 50."
   ]
  },
  {
   "cell_type": "code",
   "execution_count": 14,
   "metadata": {},
   "outputs": [
    {
     "data": {
      "text/html": [
       "<div style=\"margin-left:20px\"><div><style scoped=\"\">\n",
       "            .tskit-table thead tr th:only-of-type {vertical-align: middle;}\n",
       "            .tskit-table thead tr th {text-align: center;vertical-align: top;}\n",
       "            .tskit-table tbody td {text-align: right;padding: 0.5em 0.5em;}\n",
       "            .tskit-table tbody th {padding: 0.5em 0.5em;}\n",
       "        </style><b>Populations (3)</b><table border=\"1\" class=\"tskit-table\"><thead><tr><th>id</th><th>name</th><th>description</th><th>initial_size</th><th>growth_rate</th><th>default_sampling_time</th><th>extra_metadata</th></tr></thead><tbody><tr><td>0</td><td>AncestralPop0</td><td>Plotted in red.</td><td>500.0</td><td>0</td><td>0</td><td>{}</td></tr><tr><td>1</td><td>AncestralPop1</td><td>Plotted in blue.</td><td>500.0</td><td>0</td><td>0</td><td>{}</td></tr><tr><td>2</td><td>AdmixedPop</td><td>Plotted in green.</td><td>500.0</td><td>0</td><td>0</td><td>{}</td></tr></tbody></table></div><div><style scoped=\"\">\n",
       "            .tskit-table thead tr th:only-of-type {vertical-align: middle;}\n",
       "            .tskit-table thead tr th {text-align: center;vertical-align: top;}\n",
       "            .tskit-table tbody td {text-align: right;padding: 0.5em 0.5em;}\n",
       "            .tskit-table tbody th {padding: 0.5em 0.5em;}\n",
       "        </style><b>Migration matrix</b><table border=\"1\" class=\"tskit-table\"><thead><tr><th></th><th>AncestralPop0</th><th>AncestralPop1</th><th>AdmixedPop</th></tr></thead><tbody><tr><td>AncestralPop0</td><td>0</td><td title='Backwards in time migration rate from population AncestralPop0 to AncestralPop1\n",
       "= 0.05 per generation. Forwards in time, this is the expected number of migrants\n",
       "moving from AncestralPop1 to AncestralPop0 per generation, divided by the size\n",
       "of AncestralPop0.'>0.05</td><td title='Backwards in time migration rate from population AncestralPop0 to AdmixedPop =\n",
       "0.0 per generation. Forwards in time, this is the expected number of migrants\n",
       "moving from AdmixedPop to AncestralPop0 per generation, divided by the size of\n",
       "AncestralPop0.'>0</td></tr><tr><td>AncestralPop1</td><td title='Backwards in time migration rate from population AncestralPop1 to AncestralPop0\n",
       "= 0.02 per generation. Forwards in time, this is the expected number of migrants\n",
       "moving from AncestralPop0 to AncestralPop1 per generation, divided by the size\n",
       "of AncestralPop1.'>0.02</td><td>0</td><td title='Backwards in time migration rate from population AncestralPop1 to AdmixedPop =\n",
       "0.0 per generation. Forwards in time, this is the expected number of migrants\n",
       "moving from AdmixedPop to AncestralPop1 per generation, divided by the size of\n",
       "AncestralPop1.'>0</td></tr><tr><td>AdmixedPop</td><td title='Backwards in time migration rate from population AdmixedPop to AncestralPop0 =\n",
       "0.0 per generation. Forwards in time, this is the expected number of migrants\n",
       "moving from AncestralPop0 to AdmixedPop per generation, divided by the size of\n",
       "AdmixedPop.'>0</td><td title='Backwards in time migration rate from population AdmixedPop to AncestralPop1 =\n",
       "0.0 per generation. Forwards in time, this is the expected number of migrants\n",
       "moving from AncestralPop1 to AdmixedPop per generation, divided by the size of\n",
       "AdmixedPop.'>0</td><td>0</td></tr></tbody></table></div><div><style scoped=\"\">\n",
       "            .tskit-table thead tr th:only-of-type {vertical-align: middle;}\n",
       "            .tskit-table thead tr th {text-align: center;vertical-align: top;}\n",
       "            .tskit-table tbody td {text-align: right;padding: 0.5em 0.5em;}\n",
       "            .tskit-table tbody th {padding: 0.5em 0.5em;}\n",
       "        </style><b>Events (1)</b><table border=\"1\" class=\"tskit-table\"><thead><tr><th>time</th><th>type</th><th>parameters</th><th>effect</th></tr></thead><tbody><tr><td>50</td><td><a href='https://tskit.dev/msprime/docs/latest/api.html#msprime.Demography.add_admixture'>Admixture</a></td><td>derived=AdmixedPop ancestral=[AncestralPop0, AncestralPop1] proportions=[0.30, 0.70]</td><td>Moves all lineages from admixed population &#x27;AdmixedPop&#x27; to ancestral populations. Lineages move to &#x27;AncestralPop0&#x27; with proba 0.3; &#x27;AncestralPop1&#x27; with proba 0.7. Set &#x27;AdmixedPop&#x27; to inactive, and all migration rates to and from &#x27;AdmixedPop&#x27; to zero.</td></tr></tbody></table></div></div>"
      ],
      "text/plain": [
       "Demography(populations=[Population(initial_size=500, growth_rate=0, name='AncestralPop0', description='Plotted in red.', extra_metadata={}, default_sampling_time=None, initially_active=None, id=0), Population(initial_size=500, growth_rate=0, name='AncestralPop1', description='Plotted in blue.', extra_metadata={}, default_sampling_time=None, initially_active=None, id=1), Population(initial_size=500, growth_rate=0, name='AdmixedPop', description='Plotted in green.', extra_metadata={}, default_sampling_time=None, initially_active=None, id=2)], events=[Admixture(time=50, derived='AdmixedPop', ancestral=['AncestralPop0', 'AncestralPop1'], proportions=[0.3, 0.7])], migration_matrix=array([[0.  , 0.05, 0.  ],\n",
       "       [0.02, 0.  , 0.  ],\n",
       "       [0.  , 0.  , 0.  ]]))"
      ]
     },
     "execution_count": 14,
     "metadata": {},
     "output_type": "execute_result"
    }
   ],
   "source": [
    "dem"
   ]
  },
  {
   "cell_type": "markdown",
   "metadata": {},
   "source": [
    "This means that, for example, adding any demographic events that affect AdmixedPop beyond this time will produce an error:"
   ]
  },
  {
   "cell_type": "code",
   "execution_count": null,
   "metadata": {},
   "outputs": [],
   "source": [
    "## THIS WON'T WORK\n",
    "# dem.add_migration_rate_change(time=80, rate=0.01, source=\"AncestralPop0\", dest=\"AdmixedPop\");\n",
    "# ts = msprime.sim_ancestry(\n",
    "#   samples={\"AncestralPop0\" : 0, \"AncestralPop1\" : 0, \"AdmixedPop\" : 6},\n",
    "#   demography=dem,\n",
    "#   sequence_length=1000,\n",
    "#   random_seed=63,\n",
    "#   recombination_rate=1e-7)"
   ]
  },
  {
   "cell_type": "markdown",
   "metadata": {},
   "source": [
    "To read more about the way that msprime treats the life cycle of populations, see here."
   ]
  },
  {
   "cell_type": "markdown",
   "metadata": {},
   "source": [
    "### Population splits\n",
    "\n",
    "(11.25am)\n",
    "\n",
    "We can also simulate population divergences with msprime. Suppose we want to model a situation where all lineages from multiple populations are migrants from a single ancestral population at a single point in time.\n",
    "\n",
    "We’ll specify this with the msprime.Demography.add_population_split() method. We need to know the time of the event, and the IDs or labels of the derived and ancestral populations participating in the divergence event. Notice that in this case, we do not need to provide proportions as we did in the case of admixture. This makes sense when you think about the fact that msprime simulates backwards-in-time: all lineages in all of the derived populations originate from the ancestral population in a split event. Any differences in ‘quantities’ of migrants must be modelled by sizes of the derived populations at the time of the split."
   ]
  },
  {
   "cell_type": "code",
   "execution_count": null,
   "metadata": {},
   "outputs": [],
   "source": [
    "dem = msprime.Demography()\n",
    "dem.add_population(name=\"A\", description=\"Plotted in red.\", initial_size=500)\n",
    "dem.add_population(name=\"B\", description=\"Plotted in blue.\",initial_size=500)\n",
    "dem.add_population(name=\"AncestralPopulation\", description=\"Plotted in green.\", initial_size=500)\n",
    "\n",
    "# Add the population split.\n",
    "dem.add_population_split(time=100, derived=[\"A\",\"B\"], ancestral=\"AncestralPopulation\")\n",
    "dem"
   ]
  },
  {
   "cell_type": "markdown",
   "metadata": {},
   "source": [
    "Population splits will also modify the state of each of the derived populations, changing them from active to inactive at the time of the split."
   ]
  },
  {
   "cell_type": "code",
   "execution_count": null,
   "metadata": {},
   "outputs": [],
   "source": [
    "ts = msprime.sim_ancestry(\n",
    "  samples={\"A\" : 3, \"B\" : 3, \"AncestralPopulation\" : 0},\n",
    "  demography=dem,\n",
    "  sequence_length=1000,\n",
    "  random_seed=63,\n",
    "  recombination_rate=1e-7)\n",
    "\n",
    "print(\"Populations of nodes from time < 100:\")\n",
    "print([u.population for u in ts.nodes() if u.time < 100])\n",
    "print(\"Populations of nodes from time >= 100:\")\n",
    "print([u.population for u in ts.nodes() if u.time >= 100])"
   ]
  },
  {
   "cell_type": "markdown",
   "metadata": {},
   "source": [
    "### Changing population sizes or growth rates\n",
    "\n",
    "(11.35am))"
   ]
  },
  {
   "cell_type": "markdown",
   "metadata": {},
   "source": [
    "We may wish to specify changes to rates of population growth, or sudden changes in population size at a particular time. Both of these can be specified by applying the msprime.Demography.add_population_parameters_change() method to our msprime.Demography object."
   ]
  },
  {
   "cell_type": "code",
   "execution_count": null,
   "metadata": {},
   "outputs": [],
   "source": [
    "dem = msprime.Demography()\n",
    "dem.add_population(name=\"A\", description=\"Plotted in red.\", initial_size=500)\n",
    "dem.add_population(name=\"B\", description=\"Plotted in blue.\",initial_size=500)\n",
    "dem.set_migration_rate(source=0, dest=1, rate=0.05)\n",
    "dem.set_migration_rate(source=1, dest=0, rate=0.02)\n",
    "\n",
    "# Bottleneck in Population 0 between 50 - 150 generations ago.\n",
    "dem.add_population_parameters_change(time=50, initial_size=250, population=0)\n",
    "dem.add_population_parameters_change(time=150, initial_size=500, population=0)\n",
    "\n",
    "# Exponential growth in Population 1 starting 50 generations ago.\n",
    "dem.add_population_parameters_change(time=100, growth_rate=0.01, population=1)\n",
    "\n",
    "# Sort events, since we've added some out of time order.\n",
    "dem.sort_events()\n",
    "\n",
    "# Simulate.\n",
    "ts = msprime.sim_ancestry(samples={\"A\" : 3, \"B\" : 3},\n",
    "                          demography=dem, sequence_length=1000,\n",
    "                          random_seed=63461,\n",
    "                          recombination_rate=1e-7)"
   ]
  },
  {
   "cell_type": "markdown",
   "metadata": {},
   "source": [
    "Note that because msprime simulates backwards-in-time, parameter changes must be interpreted backwards-in-time as well. For instance, the pop1_growth event in the example above specifies continual growth in the early history of population 1 up until 100 generations in the past."
   ]
  },
  {
   "cell_type": "markdown",
   "metadata": {},
   "source": [
    "## Debugging demography\n",
    "\n",
    "(11.40am)\n",
    "\n",
    "As we’ve seen, it’s pretty easy to make mistakes when specifying demography!\n",
    "\n",
    "To help you spot these, msprime provides a debugger that prints out your population history in a more human-readable form. It’s good to get into the habit of running the msprime.DemographyDebugger before running your simulations."
   ]
  },
  {
   "cell_type": "markdown",
   "metadata": {},
   "source": [
    "my_history = msprime.DemographyDebugger(demography=dem)\n",
    "my_history"
   ]
  },
  {
   "cell_type": "markdown",
   "metadata": {},
   "source": [
    "## Other ancestry models\n",
    "\n",
    "(11.45am)\n",
    "\n",
    "When might the default (Hudson coalescent) model not be ideal for you?\n",
    " - Neutrality\n",
    " - Random mating and survival\n",
    " - Infinite population size\n",
    " - Infinite sites\n",
    " \n",
    " There may be situations where these assumptions are too restrictive for you. If you have particularly complicated requirements, you may wish move to SLiM. However, it is now possible to simulate with other models in msprime as well.\n",
    "\n",
    "Default is Hudson, but have other options like Discrete-Time-Wright-Fisher (main features)"
   ]
  },
  {
   "cell_type": "code",
   "execution_count": null,
   "metadata": {},
   "outputs": [],
   "source": [
    "# DTWF sim"
   ]
  },
  {
   "cell_type": "markdown",
   "metadata": {},
   "source": [
    "Or simple model of genic selection at a single site using a structured-coalescent:"
   ]
  },
  {
   "cell_type": "code",
   "execution_count": null,
   "metadata": {},
   "outputs": [],
   "source": [
    "Ne = 1e3\n",
    "L = 1e6  # Length of simulated region\n",
    "num_reps = 100\n",
    "\n",
    "# define hard sweep model\n",
    "sweep_model = msprime.SweepGenicSelection(\n",
    "    position=L / 2,  # middle of chrom\n",
    "    start_frequency=1.0 / (2 * Ne),\n",
    "    end_frequency=1.0 - (1.0 / (2 * Ne)),\n",
    "    s=0.25,\n",
    "    dt=1e-6,\n",
    ")"
   ]
  },
  {
   "cell_type": "code",
   "execution_count": null,
   "metadata": {},
   "outputs": [],
   "source": [
    "# Run a small simulation and plot it, hopefully showcasing small trees?"
   ]
  },
  {
   "cell_type": "markdown",
   "metadata": {},
   "source": [
    "## Mixing different ancestry models\n",
    "\n",
    "(11.52am)"
   ]
  },
  {
   "cell_type": "markdown",
   "metadata": {},
   "source": [
    "You can even run multiple models. (Can we simplify the code below?)"
   ]
  },
  {
   "cell_type": "code",
   "execution_count": null,
   "metadata": {},
   "outputs": [],
   "source": [
    "random.seed(1234)\n",
    "L = 100\n",
    "Ne = 1e6\n",
    "\n",
    "models = []\n",
    "for _ in range(100):\n",
    "    models.append(msprime.StandardCoalescent(duration=random.uniform(0, 1)))\n",
    "    models.append(\n",
    "        msprime.SweepGenicSelection(\n",
    "            position=random.randint(1, L - 1),\n",
    "            start_frequency=1 / (2 * Ne),\n",
    "            end_frequency=1.0 - 1 / (2 * Ne),\n",
    "            s=0.01,\n",
    "            dt=1e-6,\n",
    "        )\n",
    "    )\n",
    "models.append(msprime.StandardCoalescent())\n",
    "models[:5]"
   ]
  },
  {
   "cell_type": "code",
   "execution_count": null,
   "metadata": {},
   "outputs": [],
   "source": [
    "ts = msprime.sim_ancestry(\n",
    "    10,\n",
    "    population_size=100,\n",
    "    sequence_length=L,\n",
    "    recombination_rate=0.01,\n",
    "    model=models,\n",
    "    random_seed=6789\n",
    ")\n",
    "ts"
   ]
  },
  {
   "cell_type": "code",
   "execution_count": null,
   "metadata": {},
   "outputs": [],
   "source": []
  }
 ],
 "metadata": {
  "kernelspec": {
   "display_name": "Python 3",
   "language": "python",
   "name": "python3"
  },
  "language_info": {
   "codemirror_mode": {
    "name": "ipython",
    "version": 3
   },
   "file_extension": ".py",
   "mimetype": "text/x-python",
   "name": "python",
   "nbconvert_exporter": "python",
   "pygments_lexer": "ipython3",
   "version": "3.7.3"
  }
 },
 "nbformat": 4,
 "nbformat_minor": 2
}
