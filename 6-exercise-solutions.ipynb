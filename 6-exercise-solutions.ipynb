{
 "cells": [
  {
   "cell_type": "code",
   "execution_count": 1,
   "metadata": {},
   "outputs": [],
   "source": [
    "import tskit, msprime\n",
    "import io\n",
    "from IPython.display import SVG\n",
    "import matplotlib.pyplot as plt\n",
    "import numpy as np\n",
    "import pandas as pd"
   ]
  },
  {
   "cell_type": "markdown",
   "metadata": {},
   "source": [
    "### Notebook 1\n",
    "\n",
    "*Exercise*: Can you modify the following Table Collection until the corresponding tree sequence looks like the one in this plot?\n",
    "\n",
    "<img src=\"pics/worksheet1-pic-for-example.png\" width=\"400\" height=\"400\">"
   ]
  },
  {
   "cell_type": "code",
   "execution_count": 2,
   "metadata": {},
   "outputs": [
    {
     "data": {
      "image/svg+xml": [
       "<svg baseProfile=\"full\" height=\"200\" version=\"1.1\" width=\"400\" xmlns=\"http://www.w3.org/2000/svg\" xmlns:ev=\"http://www.w3.org/2001/xml-events\" xmlns:xlink=\"http://www.w3.org/1999/xlink\"><defs><style type=\"text/css\"><![CDATA[.background path {fill: #808080; fill-opacity: 0}.background path:nth-child(odd) {fill-opacity: .1}.axes {font-size: 14px}.x-axis .tick .lab {font-weight: bold; dominant-baseline: hanging}.axes, .tree {font-size: 14px; text-anchor: middle}.axes line, .edge {stroke: black; fill: none}.y-axis .grid {stroke: #FAFAFA}.node > .sym {fill: black; stroke: none}.site > .sym {stroke: black}.mut text {fill: red; font-style: italic}.mut.extra text {fill: hotpink}.mut line {fill: none; stroke: none}.mut .sym {fill: none; stroke: red}.mut.extra .sym {stroke: hotpink}.node .mut .sym {stroke-width: 1.5px}.tree text, .tree-sequence text {dominant-baseline: central}.plotbox .lab.lft {text-anchor: end}.plotbox .lab.rgt {text-anchor: start}]]></style></defs><g class=\"tree-sequence\"><g class=\"background\"><path d=\"M20,0 l180,0 l0,138.2 l0,25 l0,5 l-180,0 l0,-5 l0,-25 l0,-138.2z\"/><path d=\"M200,0 l180,0 l0,138.2 l0,25 l0,5 l-180,0 l0,-5 l0,-25 l0,-138.2z\"/></g><g class=\"axes\"><g class=\"x-axis\"><g transform=\"translate(200 200)\"><text class=\"lab\" text-anchor=\"middle\" transform=\"translate(0 -11)\">Genome position</text></g><line x1=\"20\" x2=\"380\" y1=\"163.2\" y2=\"163.2\"/><g class=\"ticks\"><g class=\"tick\" transform=\"translate(20 163.2)\"><line x1=\"0\" x2=\"0\" y1=\"0\" y2=\"5\"/><g transform=\"translate(0 6)\"><text class=\"lab\">0.00</text></g></g><g class=\"tick\" transform=\"translate(200 163.2)\"><line x1=\"0\" x2=\"0\" y1=\"0\" y2=\"5\"/><g transform=\"translate(0 6)\"><text class=\"lab\">0.50</text></g></g><g class=\"tick\" transform=\"translate(380 163.2)\"><line x1=\"0\" x2=\"0\" y1=\"0\" y2=\"5\"/><g transform=\"translate(0 6)\"><text class=\"lab\">1.00</text></g></g></g></g></g><g class=\"plotbox trees\"><g class=\"tree t0\" transform=\"translate(20 0)\"><g class=\"plotbox\"><g class=\"c2 node n9 p0 root\" transform=\"translate(100.5 38.625)\"><g class=\"a9 c2 node n6 p0\" transform=\"translate(31.5 47.3)\"><g class=\"a6 leaf node n2 p0 sample\" transform=\"translate(-14 35.475)\"><path class=\"edge\" d=\"M 0 0 V -35.475 H 14\"/><rect class=\"sym\" height=\"6\" width=\"6\" x=\"-3\" y=\"-3\"/><text class=\"lab\" transform=\"translate(0 11)\">2</text></g><g class=\"a6 leaf node n3 p0 sample\" transform=\"translate(14 35.475)\"><path class=\"edge\" d=\"M 0 0 V -35.475 H -14\"/><rect class=\"sym\" height=\"6\" width=\"6\" x=\"-3\" y=\"-3\"/><text class=\"lab\" transform=\"translate(0 11)\">3</text></g><path class=\"edge\" d=\"M 0 0 V -47.3 H -31.5\"/><circle class=\"sym\" cx=\"0\" cy=\"0\" r=\"3\"/><text class=\"lab rgt\" transform=\"translate(3 -7.0)\">6</text></g><g class=\"a9 c2 node n7 p0\" transform=\"translate(-31.5 35.475)\"><g class=\"a7 leaf node n4 p0 sample\" transform=\"translate(21 47.3)\"><path class=\"edge\" d=\"M 0 0 V -47.3 H -21\"/><rect class=\"sym\" height=\"6\" width=\"6\" x=\"-3\" y=\"-3\"/><text class=\"lab\" transform=\"translate(0 11)\">4</text></g><g class=\"a7 c2 node n5 p0\" transform=\"translate(-21 23.65)\"><g class=\"a5 leaf node n0 p0 sample\" transform=\"translate(-14 23.65)\"><path class=\"edge\" d=\"M 0 0 V -23.65 H 14\"/><rect class=\"sym\" height=\"6\" width=\"6\" x=\"-3\" y=\"-3\"/><text class=\"lab\" transform=\"translate(0 11)\">0</text></g><g class=\"a5 leaf node n1 p0 sample\" transform=\"translate(14 23.65)\"><path class=\"edge\" d=\"M 0 0 V -23.65 H -14\"/><rect class=\"sym\" height=\"6\" width=\"6\" x=\"-3\" y=\"-3\"/><text class=\"lab\" transform=\"translate(0 11)\">1</text></g><path class=\"edge\" d=\"M 0 0 V -23.65 H 21\"/><circle class=\"sym\" cx=\"0\" cy=\"0\" r=\"3\"/><text class=\"lab lft\" transform=\"translate(-3 -7.0)\">5</text></g><path class=\"edge\" d=\"M 0 0 V -35.475 H 31.5\"/><circle class=\"sym\" cx=\"0\" cy=\"0\" r=\"3\"/><text class=\"lab lft\" transform=\"translate(-3 -7.0)\">7</text></g><circle class=\"sym\" cx=\"0\" cy=\"0\" r=\"3\"/><text class=\"lab\" transform=\"translate(0 -11)\">9</text></g></g></g><g class=\"tree t1\" transform=\"translate(200 0)\"><g class=\"plotbox\"><g class=\"c2 node n10 p0 root\" transform=\"translate(111 26.8)\"><g class=\"a10 leaf node n4 p0 sample\" transform=\"translate(35 94.6)\"><path class=\"edge\" d=\"M 0 0 V -94.6 H -35\"/><rect class=\"sym\" height=\"6\" width=\"6\" x=\"-3\" y=\"-3\"/><text class=\"lab\" transform=\"translate(0 11)\">4</text></g><g class=\"a10 c2 node n8 p0\" transform=\"translate(-35 23.65)\"><g class=\"a8 c2 node n5 p0\" transform=\"translate(-28 47.3)\"><g class=\"a5 leaf node n0 p0 sample\" transform=\"translate(-14 23.65)\"><path class=\"edge\" d=\"M 0 0 V -23.65 H 14\"/><rect class=\"sym\" height=\"6\" width=\"6\" x=\"-3\" y=\"-3\"/><text class=\"lab\" transform=\"translate(0 11)\">0</text></g><g class=\"a5 leaf node n1 p0 sample\" transform=\"translate(14 23.65)\"><path class=\"edge\" d=\"M 0 0 V -23.65 H -14\"/><rect class=\"sym\" height=\"6\" width=\"6\" x=\"-3\" y=\"-3\"/><text class=\"lab\" transform=\"translate(0 11)\">1</text></g><path class=\"edge\" d=\"M 0 0 V -47.3 H 28\"/><circle class=\"sym\" cx=\"0\" cy=\"0\" r=\"3\"/><text class=\"lab lft\" transform=\"translate(-3 -7.0)\">5</text></g><g class=\"a8 c2 node n6 p0\" transform=\"translate(28 35.475)\"><g class=\"a6 leaf node n2 p0 sample\" transform=\"translate(-14 35.475)\"><path class=\"edge\" d=\"M 0 0 V -35.475 H 14\"/><rect class=\"sym\" height=\"6\" width=\"6\" x=\"-3\" y=\"-3\"/><text class=\"lab\" transform=\"translate(0 11)\">2</text></g><g class=\"a6 leaf node n3 p0 sample\" transform=\"translate(14 35.475)\"><path class=\"edge\" d=\"M 0 0 V -35.475 H -14\"/><rect class=\"sym\" height=\"6\" width=\"6\" x=\"-3\" y=\"-3\"/><text class=\"lab\" transform=\"translate(0 11)\">3</text></g><path class=\"edge\" d=\"M 0 0 V -35.475 H -28\"/><circle class=\"sym\" cx=\"0\" cy=\"0\" r=\"3\"/><text class=\"lab rgt\" transform=\"translate(3 -7.0)\">6</text></g><path class=\"edge\" d=\"M 0 0 V -23.65 H 35\"/><circle class=\"sym\" cx=\"0\" cy=\"0\" r=\"3\"/><text class=\"lab lft\" transform=\"translate(-3 -7.0)\">8</text></g><circle class=\"sym\" cx=\"0\" cy=\"0\" r=\"3\"/><text class=\"lab\" transform=\"translate(0 -11)\">10</text></g></g></g></g></g></svg>"
      ],
      "text/plain": [
       "<IPython.core.display.SVG object>"
      ]
     },
     "execution_count": 2,
     "metadata": {},
     "output_type": "execute_result"
    }
   ],
   "source": [
    "# Modify this code.\n",
    "nodes_ex = io.StringIO(\"\"\"\\\n",
    "id      is_sample   population      time\n",
    "0       1       0               0.0\n",
    "1       1       0               0.0\n",
    "2       1       0               0.0\n",
    "3       1       0               0.0\n",
    "4       1       0               0.0\n",
    "5       0       0               1.0\n",
    "6       0       0               1.5\n",
    "7       0       0               2.0\n",
    "8       0       0               3.0\n",
    "9       0       0               3.5\n",
    "10      0       0               4.0\n",
    "\"\"\")\n",
    "edges_ex = io.StringIO(\"\"\"\\\n",
    "id      left            right           parent  child\n",
    "0       0.00000000      1.00000000      5       0\n",
    "1       0.00000000      1.00000000      5       1\n",
    "2       0.00000000      1.00000000      6       2\n",
    "3       0.00000000      1.00000000      6       3\n",
    "4       0.00000000      0.50000000      7       4\n",
    "5       0.00000000      0.50000000      7       5\n",
    "6       0.50000000      1.00000000      8       5\n",
    "7       0.50000000      1.00000000      8       6\n",
    "8       0.00000000      0.50000000      9       6\n",
    "9       0.00000000      0.50000000      9       7\n",
    "10      0.50000000      1.00000000      10      4\n",
    "11      0.50000000      1.00000000      10      8\n",
    "\"\"\")\n",
    "\n",
    "# GT: I added edges 4 and 10.\n",
    "\n",
    "# Load the tree sequence.\n",
    "ts_ex = tskit.load_text(nodes=nodes_ex, edges=edges_ex, strict=False)\n",
    "\n",
    "# Test by plotting it.\n",
    "SVG(ts_ex.draw_svg())"
   ]
  },
  {
   "cell_type": "markdown",
   "metadata": {},
   "source": [
    "### Notebook 2\n",
    "<img src=\"pics/worksheet2-ex.png\" width=\"400\" height=\"400\">\n",
    "\n",
    "*Exercise:* The code below specifies a simulation of two populations in which population 1 and population 0 are created by a population split at time 200.\n",
    "\n",
    "Can you add a third contemporary population, population 2, so that populations 1 and 2 are created by a more recent population split  at time 150? (You may need to create some other ancestral populations too.)\n",
    "\n",
    "*GT: There was a small typo in my 'helper' code that might have made this a bit more frustrating than I meant it to be! Sorry!!*"
   ]
  },
  {
   "cell_type": "code",
   "execution_count": 3,
   "metadata": {},
   "outputs": [
    {
     "data": {
      "text/html": [
       "<div style=\"margin-left:20px\"><div><style scoped=\"\">\n",
       "            .tskit-table thead tr th:only-of-type {vertical-align: middle;}\n",
       "            .tskit-table thead tr th {text-align: center;vertical-align: top;}\n",
       "            .tskit-table tbody td {text-align: right;padding: 0.5em 0.5em;}\n",
       "            .tskit-table tbody th {padding: 0.5em 0.5em;}\n",
       "        </style><b>Populations (5)</b><table border=\"1\" class=\"tskit-table\"><thead><tr><th>id</th><th>name</th><th>description</th><th>initial_size</th><th>growth_rate</th><th>default_sampling_time</th><th>extra_metadata</th></tr></thead><tbody><tr><td>0</td><td>R</td><td>Plotted in red.</td><td>500.0</td><td>0</td><td>0</td><td>{}</td></tr><tr><td>1</td><td>B</td><td>Plotted in blue.</td><td>500.0</td><td>0</td><td>0</td><td>{}</td></tr><tr><td>2</td><td>G</td><td>Plotted in green.</td><td>500.0</td><td>0</td><td>0</td><td>{}</td></tr><tr><td>3</td><td>AncestralPopulationGB</td><td>Plotted in purple.</td><td>500.0</td><td>0</td><td>1.5e+02</td><td>{}</td></tr><tr><td>4</td><td>AncestralPopulationRGB</td><td>Plotted in purple.</td><td>500.0</td><td>0</td><td>2e+02</td><td>{}</td></tr></tbody></table></div><div><style scoped=\"\">\n",
       "            .tskit-table thead tr th:only-of-type {vertical-align: middle;}\n",
       "            .tskit-table thead tr th {text-align: center;vertical-align: top;}\n",
       "            .tskit-table tbody td {text-align: right;padding: 0.5em 0.5em;}\n",
       "            .tskit-table tbody th {padding: 0.5em 0.5em;}\n",
       "        </style><b>Migration matrix (all zero)</b><table border=\"1\" class=\"tskit-table\"><thead><tr></tr></thead><tbody></tbody></table></div><div><style scoped=\"\">\n",
       "            .tskit-table thead tr th:only-of-type {vertical-align: middle;}\n",
       "            .tskit-table thead tr th {text-align: center;vertical-align: top;}\n",
       "            .tskit-table tbody td {text-align: right;padding: 0.5em 0.5em;}\n",
       "            .tskit-table tbody th {padding: 0.5em 0.5em;}\n",
       "        </style><b>Events (2)</b><table border=\"1\" class=\"tskit-table\"><thead><tr><th>time</th><th>type</th><th>parameters</th><th>effect</th></tr></thead><tbody><tr><td>150</td><td><a href='https://tskit.dev/msprime/docs/latest/api.html#msprime.Demography.add_population_split'>Population Split</a></td><td>derived=[G, B], ancestral=AncestralPopulationGB</td><td>Moves all lineages from derived populations &#x27;G&#x27; and &#x27;B&#x27; to the ancestral &#x27;AncestralPopulationGB&#x27; population. Also set the derived populations to inactive, and all migration rates to and from the derived populations to zero.</td></tr><tr><td>200</td><td><a href='https://tskit.dev/msprime/docs/latest/api.html#msprime.Demography.add_population_split'>Population Split</a></td><td>derived=[AncestralPopulationGB, R], ancestral=AncestralPopulationRGB</td><td>Moves all lineages from derived populations &#x27;AncestralPopulationGB&#x27; and &#x27;R&#x27; to the ancestral &#x27;AncestralPopulationRGB&#x27; population. Also set the derived populations to inactive, and all migration rates to and from the derived populations to zero.</td></tr></tbody></table></div></div>"
      ],
      "text/plain": [
       "Demography(populations=[Population(initial_size=500, growth_rate=0, name='R', description='Plotted in red.', extra_metadata={}, default_sampling_time=None, initially_active=None, id=0), Population(initial_size=500, growth_rate=0, name='B', description='Plotted in blue.', extra_metadata={}, default_sampling_time=None, initially_active=None, id=1), Population(initial_size=500, growth_rate=0, name='G', description='Plotted in green.', extra_metadata={}, default_sampling_time=None, initially_active=None, id=2), Population(initial_size=500, growth_rate=0, name='AncestralPopulationGB', description='Plotted in purple.', extra_metadata={}, default_sampling_time=150, initially_active=False, id=3), Population(initial_size=500, growth_rate=0, name='AncestralPopulationRGB', description='Plotted in purple.', extra_metadata={}, default_sampling_time=200, initially_active=False, id=4)], events=[PopulationSplit(time=150, derived=['G', 'B'], ancestral='AncestralPopulationGB'), PopulationSplit(time=200, derived=['AncestralPopulationGB', 'R'], ancestral='AncestralPopulationRGB')], migration_matrix=array([[0., 0., 0., 0., 0.],\n",
       "       [0., 0., 0., 0., 0.],\n",
       "       [0., 0., 0., 0., 0.],\n",
       "       [0., 0., 0., 0., 0.],\n",
       "       [0., 0., 0., 0., 0.]]))"
      ]
     },
     "execution_count": 3,
     "metadata": {},
     "output_type": "execute_result"
    }
   ],
   "source": [
    "# Setup.\n",
    "dem = msprime.Demography()\n",
    "dem.add_population(name=\"R\", description=\"Plotted in red.\", initial_size=500)\n",
    "dem.add_population(name=\"B\", description=\"Plotted in blue.\",initial_size=500)\n",
    "dem.add_population(name=\"G\", description=\"Plotted in green.\",initial_size=500)\n",
    "dem.add_population(name=\"AncestralPopulationGB\",\n",
    "                   description=\"Plotted in purple.\", initial_size=500)\n",
    "dem.add_population(name=\"AncestralPopulationRGB\",\n",
    "                   description=\"Plotted in purple.\", initial_size=500)\n",
    "\n",
    "# Add the population split.\n",
    "dem.add_population_split(time=150, derived=[\"G\",\"B\"], ancestral=\"AncestralPopulationGB\")\n",
    "dem.add_population_split(time=200, derived=[\"AncestralPopulationGB\",\"R\"],\n",
    "                         ancestral=\"AncestralPopulationRGB\")\n",
    "dem"
   ]
  },
  {
   "cell_type": "code",
   "execution_count": 4,
   "metadata": {},
   "outputs": [],
   "source": [
    "# Simulate!\n",
    "ts_ex = msprime.sim_ancestry(\n",
    "  samples={\"R\" : 1, \"B\" : 1, \"G\" : 1},\n",
    "  demography=dem,\n",
    "  sequence_length=1000,\n",
    "  random_seed=63\n",
    ")"
   ]
  },
  {
   "cell_type": "code",
   "execution_count": 5,
   "metadata": {},
   "outputs": [
    {
     "name": "stdout",
     "output_type": "stream",
     "text": [
      "Tree on interval: Interval(left=0.0, right=1000.0)\n"
     ]
    },
    {
     "data": {
      "image/svg+xml": [
       "<svg baseProfile=\"full\" height=\"400\" version=\"1.1\" width=\"500\" xmlns=\"http://www.w3.org/2000/svg\" xmlns:ev=\"http://www.w3.org/2001/xml-events\" xmlns:xlink=\"http://www.w3.org/1999/xlink\"><defs><style type=\"text/css\"><![CDATA[.background path {fill: #808080; fill-opacity: 0}.background path:nth-child(odd) {fill-opacity: .1}.axes {font-size: 14px}.x-axis .tick .lab {font-weight: bold; dominant-baseline: hanging}.axes, .tree {font-size: 14px; text-anchor: middle}.axes line, .edge {stroke: black; fill: none}.y-axis .grid {stroke: #FAFAFA}.node > .sym {fill: black; stroke: none}.site > .sym {stroke: black}.mut text {fill: red; font-style: italic}.mut.extra text {fill: hotpink}.mut line {fill: none; stroke: none}.mut .sym {fill: none; stroke: red}.mut.extra .sym {stroke: hotpink}.node .mut .sym {stroke-width: 1.5px}.tree text, .tree-sequence text {dominant-baseline: central}.plotbox .lab.lft {text-anchor: end}.plotbox .lab.rgt {text-anchor: start}]]></style></defs><g class=\"tree t0\"><g class=\"plotbox\"><g class=\"c2 node n10 p4 root\" transform=\"translate(273.958 26.8)\"><g class=\"a10 c2 node n8 p4\" transform=\"translate(129.375 286.395)\"><g class=\"a8 i0 leaf node n1 p0 sample\" transform=\"translate(-38.3333 55.0046)\"><path class=\"edge\" d=\"M 0 0 V -55.0046 H 38.3333\"/><rect class=\"sym\" height=\"6\" style=\"fill:red;\" width=\"6\" x=\"-3\" y=\"-3\"/><text class=\"lab\" transform=\"translate(0 11)\">1</text></g><g class=\"a8 i1 leaf node n2 p1 sample\" transform=\"translate(38.3333 55.0046)\"><path class=\"edge\" d=\"M 0 0 V -55.0046 H -38.3333\"/><rect class=\"sym\" height=\"6\" style=\"fill:blue;\" width=\"6\" x=\"-3\" y=\"-3\"/><text class=\"lab\" transform=\"translate(0 11)\">2</text></g><path class=\"edge\" d=\"M 0 0 V -286.395 H -129.375\"/><circle class=\"sym\" cx=\"0\" cy=\"0\" r=\"3\" style=\"fill:orange;\"/><text class=\"lab rgt\" transform=\"translate(3 -7.0)\">8</text></g><g class=\"a10 c2 node n9 p4\" transform=\"translate(-129.375 173.469)\"><g class=\"a9 i0 leaf node n0 p0 sample\" transform=\"translate(-86.25 167.931)\"><path class=\"edge\" d=\"M 0 0 V -167.931 H 86.25\"/><rect class=\"sym\" height=\"6\" style=\"fill:red;\" width=\"6\" x=\"-3\" y=\"-3\"/><text class=\"lab\" transform=\"translate(0 11)\">0</text></g><g class=\"a9 c2 node n7 p4\" transform=\"translate(86.25 116.448)\"><g class=\"a7 i2 leaf node n5 p2 sample\" transform=\"translate(57.5 51.4821)\"><path class=\"edge\" d=\"M 0 0 V -51.4821 H -57.5\"/><rect class=\"sym\" height=\"6\" style=\"fill:green;\" width=\"6\" x=\"-3\" y=\"-3\"/><text class=\"lab\" transform=\"translate(0 11)\">5</text></g><g class=\"a7 c2 node n6 p3\" transform=\"translate(-57.5 10.933)\"><g class=\"a6 i1 leaf node n3 p1 sample\" transform=\"translate(-38.3333 40.5491)\"><path class=\"edge\" d=\"M 0 0 V -40.5491 H 38.3333\"/><rect class=\"sym\" height=\"6\" style=\"fill:blue;\" width=\"6\" x=\"-3\" y=\"-3\"/><text class=\"lab\" transform=\"translate(0 11)\">3</text></g><g class=\"a6 i2 leaf node n4 p2 sample\" transform=\"translate(38.3333 40.5491)\"><path class=\"edge\" d=\"M 0 0 V -40.5491 H -38.3333\"/><rect class=\"sym\" height=\"6\" style=\"fill:green;\" width=\"6\" x=\"-3\" y=\"-3\"/><text class=\"lab\" transform=\"translate(0 11)\">4</text></g><path class=\"edge\" d=\"M 0 0 V -10.933 H 57.5\"/><circle class=\"sym\" cx=\"0\" cy=\"0\" r=\"3\" style=\"fill:purple;\"/><text class=\"lab lft\" transform=\"translate(-3 -7.0)\">6</text></g><path class=\"edge\" d=\"M 0 0 V -116.448 H -86.25\"/><circle class=\"sym\" cx=\"0\" cy=\"0\" r=\"3\" style=\"fill:orange;\"/><text class=\"lab rgt\" transform=\"translate(3 -7.0)\">7</text></g><path class=\"edge\" d=\"M 0 0 V -173.469 H 129.375\"/><circle class=\"sym\" cx=\"0\" cy=\"0\" r=\"3\" style=\"fill:orange;\"/><text class=\"lab lft\" transform=\"translate(-3 -7.0)\">9</text></g><circle class=\"sym\" cx=\"0\" cy=\"0\" r=\"3\" style=\"fill:orange;\"/><text class=\"lab\" transform=\"translate(0 -11)\">10</text></g></g></g></svg>"
      ],
      "text/plain": [
       "<IPython.core.display.SVG object>"
      ]
     },
     "metadata": {},
     "output_type": "display_data"
    }
   ],
   "source": [
    "# Plot.\n",
    "colour_map = {0:\"red\", 1:\"blue\", 2:\"green\", 3: \"purple\", 4: \"orange\"}\n",
    "node_colours = {u.id: colour_map[u.population] for u in ts_ex.nodes()}\n",
    "for tree in ts_ex.trees():\n",
    "    print(\"Tree on interval:\", tree.interval)\n",
    "    # The code below will only work in a Jupyter notebook with SVG output enabled.\n",
    "    display(SVG(tree.draw(node_colours=node_colours, width=500, height=400)))"
   ]
  },
  {
   "cell_type": "markdown",
   "metadata": {},
   "source": [
    "### Notebook 3\n",
    "\n",
    "*Exercise*. For most of their evolutionary history, mutations in your study organisms were well described by the Jukes-Cantor model. \n",
    "However, they were all were exposed to an environmental mutagen 50 generations ago, and from then on all new mutations were of type 👽. All of the nucleotide bases have an equal probability of mutating to an allele of type 👽. Once a nucleotide mutates to a 👽, it cannot mutate back to a normal nucleotide. Modify the code below to simulate this scenario."
   ]
  },
  {
   "cell_type": "code",
   "execution_count": 6,
   "metadata": {},
   "outputs": [],
   "source": [
    "# The underlying genealogy\n",
    "ts_ex = msprime.sim_ancestry(\n",
    "    10, sequence_length=1000, random_seed=1987, recombination_rate=0.001,\n",
    "    population_size=1e3)"
   ]
  },
  {
   "cell_type": "code",
   "execution_count": 7,
   "metadata": {},
   "outputs": [],
   "source": [
    "# Modify code here\n",
    "model = msprime.MatrixMutationModel(\n",
    "    alleles = [\"A\", \"C\", \"G\", \"T\", \"👽\"],\n",
    "    root_distribution = [0.25, 0.25, 0.25, 0.25, 0.0],\n",
    "    transition_matrix = [[0.0, 0.0, 0.0, 0.0, 1.0],\n",
    "                         [0.0, 0.0, 0.0, 0.0, 1.0],\n",
    "                         [0.0, 0.0, 0.0, 0.0, 1.0],\n",
    "                         [0.0, 0.0, 0.0, 0.0, 1.0],\n",
    "                         [0.0, 0.0, 0.0, 0.0, 1.0]]\n",
    ")\n",
    "\n",
    "mts_ex = msprime.sim_mutations(ts_ex, rate=1e-6, random_seed=752, start_time=50)\n",
    "\n",
    "mts_ex = msprime.sim_mutations(mts_ex, rate=1e-6, random_seed=851, start_time=0,\n",
    "                            end_time=50, model=model)"
   ]
  },
  {
   "cell_type": "code",
   "execution_count": 8,
   "metadata": {},
   "outputs": [
    {
     "name": "stdout",
     "output_type": "stream",
     "text": [
      "╔══╤════╤════╤═════════════╤═════════════╤══════╤════════╗\n",
      "║id│site│node│time         │derived_state│parent│metadata║\n",
      "╠══╪════╪════╪═════════════╪═════════════╪══════╪════════╣\n",
      "║0 │   0│  12│  26.19673780│            👽│    -1│     b''║\n",
      "║1 │   1│ 993│1080.73366012│            C│    -1│     b''║\n",
      "║2 │   2│   7│  45.06634352│            👽│    -1│     b''║\n",
      "║3 │   3│1840│ 508.53139009│            T│    -1│     b''║\n",
      "║4 │   4│   8│ 224.66157800│            G│    -1│     b''║\n",
      "║5 │   5│ 687│6529.29267485│            T│    -1│     b''║\n",
      "║6 │   6│3622│7099.53462718│            A│    -1│     b''║\n",
      "║7 │   7│  13│ 413.05691858│            G│    -1│     b''║\n",
      "║8 │   8│  12│ 175.08036637│            C│    -1│     b''║\n",
      "║9 │   9│3205│1671.37834344│            T│    -1│     b''║\n",
      "║10│  10│2619│2897.51611664│            T│    -1│     b''║\n",
      "║11│  11│  12│  48.97276474│            👽│    -1│     b''║\n",
      "║12│  12│   9│ 716.86318876│            A│    -1│     b''║\n",
      "║13│  13│1511│1651.37247430│            T│    -1│     b''║\n",
      "║14│  14│1006│5547.00775284│            G│    -1│     b''║\n",
      "╚══╧════╧════╧═════════════╧═════════════╧══════╧════════╝\n",
      "\n"
     ]
    }
   ],
   "source": [
    "# Check here\n",
    "print(mts_ex.tables.mutations)"
   ]
  },
  {
   "cell_type": "code",
   "execution_count": 9,
   "metadata": {},
   "outputs": [
    {
     "name": "stdout",
     "output_type": "stream",
     "text": [
      "35.0\t('C', '👽')\t[0 0 0 0 0 0 0 0 0 0 0 0 1 0 0 0 0 0 0 0]\n",
      "95.0\t('A', 'C')\t[0 0 0 0 0 0 0 0 1 0 0 0 0 0 0 0 0 0 0 1]\n",
      "101.0\t('C', '👽')\t[0 0 0 0 0 0 0 1 0 0 0 0 0 0 0 0 0 0 0 0]\n",
      "118.0\t('A', 'T')\t[1 0 0 1 0 1 0 1 1 0 0 0 0 0 1 0 1 0 1 1]\n",
      "142.0\t('T', 'G')\t[0 0 0 0 0 0 0 0 1 0 0 0 0 0 0 0 0 0 0 0]\n",
      "205.0\t('G', 'T')\t[0 1 0 0 0 0 0 0 0 0 0 0 0 0 1 0 0 0 0 0]\n",
      "268.0\t('T', 'A')\t[1 1 1 1 1 1 1 1 1 1 1 1 1 1 1 1 1 1 0 1]\n",
      "333.0\t('A', 'G')\t[0 0 0 0 0 0 0 0 0 0 0 0 0 1 0 0 0 0 0 0]\n",
      "440.0\t('T', 'C')\t[0 0 0 0 0 0 0 0 0 0 0 0 1 0 0 0 0 0 0 0]\n",
      "456.0\t('A', 'T')\t[0 0 0 0 0 0 1 1 1 0 0 0 0 0 0 0 0 1 0 0]\n",
      "662.0\t('A', 'T')\t[1 1 1 1 0 1 1 1 0 0 0 0 0 0 1 0 0 1 0 1]\n",
      "667.0\t('T', '👽')\t[0 0 0 0 0 0 0 0 0 0 0 0 1 0 0 0 0 0 0 0]\n",
      "694.0\t('T', 'A')\t[0 0 0 0 0 0 0 0 0 1 0 0 0 0 0 0 0 0 0 0]\n",
      "815.0\t('A', 'T')\t[0 0 0 0 0 1 0 0 1 1 0 0 0 0 0 0 0 0 0 0]\n",
      "905.0\t('A', 'G')\t[0 0 0 0 0 0 0 0 0 0 1 1 0 0 0 0 0 1 0 0]\n"
     ]
    }
   ],
   "source": [
    "# Check here\n",
    "for var in mts_ex.variants():\n",
    "    print(var.site.position, var.alleles, var.genotypes, sep=\"\\t\")"
   ]
  },
  {
   "cell_type": "markdown",
   "metadata": {},
   "source": [
    "### Notebook 4\n",
    "\n",
    "*Exercise*. Modify the following code to compute $f_2$ statistics in 5Mb windows along the genome between the samples from populations SMALL and BIG, as well as between populations SMALL and ADMIX."
   ]
  },
  {
   "cell_type": "code",
   "execution_count": 10,
   "metadata": {},
   "outputs": [],
   "source": [
    "demography = msprime.Demography()\n",
    "demography.add_population(name=\"SMALL\", initial_size=2000)\n",
    "demography.add_population(name=\"BIG\", initial_size=5000)\n",
    "demography.add_population(name=\"ADMIX\", initial_size=2000)\n",
    "demography.add_population(name=\"ANC\", initial_size=5000)\n",
    "demography.add_admixture(\n",
    "    time=100, derived=\"ADMIX\", ancestral=[\"SMALL\", \"BIG\"],\n",
    "    proportions=[0.5, 0.5])\n",
    "demography.add_population_split(\n",
    "    time=1000, derived=[\"SMALL\", \"BIG\"], ancestral=\"ANC\")\n",
    "\n",
    "ts = msprime.sim_ancestry(\n",
    "    samples={\"SMALL\": 100, \"BIG\": 100, \"ADMIX\" : 100},\n",
    "    demography=demography,\n",
    "    random_seed=2432,\n",
    "    sequence_length=5e7,\n",
    "    recombination_rate=1e-8\n",
    ")\n",
    "ts = msprime.sim_mutations(ts, rate=1e-8, random_seed=6151)"
   ]
  },
  {
   "cell_type": "code",
   "execution_count": 11,
   "metadata": {},
   "outputs": [
    {
     "data": {
      "text/plain": [
       "Text(0.5, 1.0, 'Windowed F2 values')"
      ]
     },
     "execution_count": 11,
     "metadata": {},
     "output_type": "execute_result"
    },
    {
     "data": {
      "image/png": "[encoded data removed]",
      "text/plain": [
       "<Figure size 432x288 with 1 Axes>"
      ]
     },
     "metadata": {
      "needs_background": "light"
     },
     "output_type": "display_data"
    }
   ],
   "source": [
    "breakpoints = [5*i*1e6 for i in range(0, 10 + 1)]\n",
    "f2_small_big = ts.f2(sample_sets=[ts.samples(0),\n",
    "                                  ts.samples(1)],\n",
    "                                windows=breakpoints)\n",
    "f2_small_admix = ts.f2(sample_sets=[ts.samples(0),\n",
    "                                  ts.samples(2)],\n",
    "                                  windows=breakpoints)\n",
    "\n",
    "# Plot.\n",
    "names_to_plot = ['f2(SMALL,BIG)', 'f2(SMALL,ADMIX)']\n",
    "lines = plt.plot(\n",
    "    breakpoints[:-1], np.transpose([f2_small_big, f2_small_admix]))\n",
    "plt.legend(lines, names_to_plot)\n",
    "plt.xticks()\n",
    "plt.xlabel(\"Position on chromosome\")\n",
    "plt.title(\"Windowed F2 values\")"
   ]
  },
  {
   "cell_type": "code",
   "execution_count": null,
   "metadata": {},
   "outputs": [],
   "source": []
  }
 ],
 "metadata": {
  "kernelspec": {
   "display_name": "Python 3",
   "language": "python",
   "name": "python3"
  },
  "language_info": {
   "codemirror_mode": {
    "name": "ipython",
    "version": 3
   },
   "file_extension": ".py",
   "mimetype": "text/x-python",
   "name": "python",
   "nbconvert_exporter": "python",
   "pygments_lexer": "ipython3",
   "version": "3.7.3"
  }
 },
 "nbformat": 4,
 "nbformat_minor": 4
}
