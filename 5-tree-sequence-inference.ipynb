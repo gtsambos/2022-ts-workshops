{
 "cells": [
  {
   "cell_type": "code",
   "execution_count": null,
   "metadata": {},
   "outputs": [],
   "source": [
    "import msprime, tskit\n",
    "import tsinfer, tsdate\n",
    "from IPython.display import SVG"
   ]
  },
  {
   "cell_type": "markdown",
   "metadata": {},
   "source": [
    "# 5. Tree sequence inference with tsinfer and tsdate\n",
    "\n",
    " - [5.1 An overview of tsinfer](#5.1Overview)\n",
    " - [5.2 Hands on with tsinfer](#5.2HandsOn)\n",
    " - [5.3 Inference accuracy](#5.3InferenceAccuracy)\n",
    "\n",
    "Simulating a tree sequence is relatively simple compared to *inferring* a tree sequence from existing data.\n",
    "The [tsinfer software](https://tsinfer.readthedocs.io/en/stable/) implements a heuristic algorithm which does this in a scalable manner.\n",
    "\n",
    "<a id='5.1Overview'></a>\n",
    "## 5.1 An overview of `tsinfer`\n",
    "\n",
    "`Tsinfer` (pronounced t-s-infer) is comparable in some ways to other ancestral inference software such as [ARGweaver](https://doi.org/10.1371/journal.pgen.1004342), [Relate](https://myersgroup.github.io/relate/), and [Rent+](https://doi.org/10.1093/bioinformatics/btw735). However, it differs considerably in approach and scalability.\n",
    "Note that none of these other software packages produce tree sequences as output, although is possible to convert their output to tree sequences.\n",
    "Also note that `tsinfer` produces trees with a relatively accurate topology, but unlike other ancestral inference tools, it makes no attempt at the moment to produce precise branch length estimates -- for this we need another tool like `tsdate`.\n",
    "\n",
    "An important restriction is that `tsinfer` requires phased sample sequences with known ancestral states for each variant. It also works better with full sequence data than with data from scattered target SNPs (e.g. as obtained from SNP chips)."
   ]
  },
  {
   "cell_type": "markdown",
   "metadata": {},
   "source": [
    "###  Algorithm overview\n",
    "The `tsinfer` method is split into two main parts: \n",
    "1. the reconstruction and time ordering of ancestral haplotypes and \n",
    "2. the inference of the copying process. \n",
    "\n",
    "The paper contains the following schematic overview of the method, with part 1 on the left and part 2 on the right. Note the reduced length of the blue inferred ancestor chunks back in time. \n",
    "\n",
    "<img style=\"height: 600px\" src=\"pics/tsinfer-schematic.png\">"
   ]
  },
  {
   "cell_type": "markdown",
   "metadata": {},
   "source": [
    "<a id='5.2HandsOn'></a>\n",
    "## 5.2 Hands-on with `tsinfer` and `tsdate`\n",
    "\n",
    "Let's try out `tsinfer` using some sequence data generated with `msprime`.\n",
    "Here's a small simulated sample drawn from an admixture scenario:"
   ]
  },
  {
   "cell_type": "code",
   "execution_count": null,
   "metadata": {},
   "outputs": [],
   "source": [
    "# Specify demographic history.\n",
    "demography = msprime.Demography()\n",
    "demography.add_population(name=\"SMALL\", initial_size=2000)\n",
    "demography.add_population(name=\"BIG\", initial_size=5000)\n",
    "demography.add_population(name=\"ADMIX\", initial_size=2000)\n",
    "demography.add_population(name=\"ANC\", initial_size=5000)\n",
    "demography.add_admixture(\n",
    "    time=100, derived=\"ADMIX\", ancestral=[\"SMALL\", \"BIG\"], proportions=[0.5, 0.5])\n",
    "demography.add_population_split(time=1000, derived=[\"SMALL\", \"BIG\"], ancestral=\"ANC\")\n",
    "# demography.debug()"
   ]
  },
  {
   "cell_type": "code",
   "execution_count": null,
   "metadata": {},
   "outputs": [],
   "source": [
    "# Simulate.\n",
    "seq_length = 1e6\n",
    "ts = msprime.sim_ancestry(samples={\"SMALL\": 1, \"BIG\": 1, \"ADMIX\" : 1},\n",
    "                          demography=demography,\n",
    "                          random_seed=83,\n",
    "                         sequence_length=seq_length,\n",
    "                        recombination_rate=1e-8)\n",
    "ts = msprime.sim_mutations(ts, rate=1e-8, random_seed=318)\n",
    "ts"
   ]
  },
  {
   "cell_type": "code",
   "execution_count": null,
   "metadata": {},
   "outputs": [],
   "source": [
    "# Write to VCF.\n",
    "with open(\"worksheet5-input.vcf\", \"w\") as vcf_file:\n",
    "    ts.write_vcf(vcf_file)"
   ]
  },
  {
   "cell_type": "markdown",
   "metadata": {},
   "source": [
    "### Step 1: pre-process data\n",
    "\n",
    "`tsinfer` requires a `SampleData` object as input.\n",
    "To create this, we'll need:\n",
    "\n",
    " - phased genotype data at sites with known positions\n",
    " - information about ancestral and derived alleles at each site\n",
    " \n",
    "First, let's see how we might get this information from a VCF file:"
   ]
  },
  {
   "cell_type": "code",
   "execution_count": null,
   "metadata": {},
   "outputs": [],
   "source": [
    "a_file = open(\"worksheet5-input.vcf\")\n",
    "number_of_lines = 10\n",
    "\n",
    "for i in range(number_of_lines):\n",
    "    line = a_file.readline()\n",
    "    print(line)"
   ]
  },
  {
   "cell_type": "markdown",
   "metadata": {},
   "source": [
    "We'll need the information in the `POS`, `REF` and `ALT` fields, as well as the genotypes."
   ]
  },
  {
   "cell_type": "code",
   "execution_count": null,
   "metadata": {},
   "outputs": [],
   "source": [
    "a_file = open(\"worksheet5-input.vcf\")\n",
    "\n",
    "lines = a_file.readlines()\n",
    "with tsinfer.SampleData(sequence_length=seq_length) as sample_data:\n",
    "    for line in lines:\n",
    "        if line[0] != \"#\":\n",
    "            l = line.split(\"\\t\")\n",
    "            pos = int(l[1])\n",
    "            ref = l[3]\n",
    "            alt = l[4]\n",
    "            gens = \"\".join(l[9:]).replace(\"|\", \"\").replace(\"\\n\", \"\")\n",
    "            gens = [int(g) for g in gens]\n",
    "            sample_data.add_site(pos, gens, [ref, alt])\n",
    "a_file.close()"
   ]
  },
  {
   "cell_type": "markdown",
   "metadata": {},
   "source": [
    "For larger VCFs, you may wish to use the [cyvcf2](https://github.com/brentp/cyvcf2) package.\n",
    "See [this](https://tsinfer.readthedocs.io/en/latest/tutorial.html#reading-a-vcf) for some example usage.\n",
    "\n",
    "You can use the `from_tree_sequence` method to create a `SampleData` object from the larger Pongo dataset:"
   ]
  },
  {
   "cell_type": "markdown",
   "metadata": {},
   "source": [
    "### Step 2: Apply tsinfer!\n",
    "\n",
    "All we need is our `SampleData` object and an estimated recombination rate:"
   ]
  },
  {
   "cell_type": "code",
   "execution_count": null,
   "metadata": {},
   "outputs": [],
   "source": [
    "tsi = tsinfer.infer(sample_data, recombination_rate=1e-7)\n",
    "tsi"
   ]
  },
  {
   "cell_type": "markdown",
   "metadata": {},
   "source": [
    "Let's have a look at some of the inferred trees. How do they compare with the real ones?"
   ]
  },
  {
   "cell_type": "code",
   "execution_count": null,
   "metadata": {
    "scrolled": false
   },
   "outputs": [],
   "source": [
    "location=50000\n",
    "SVG(tsi.at(location).draw_svg(size=(500,500)))"
   ]
  },
  {
   "cell_type": "code",
   "execution_count": null,
   "metadata": {},
   "outputs": [],
   "source": [
    "SVG(ts.at(location).draw_svg(size=(600,350)))"
   ]
  },
  {
   "cell_type": "markdown",
   "metadata": {},
   "source": [
    "Some quick observations:\n",
    " - Various inaccuracies in topologies\n",
    " - Some *polytomies:* nodes with more than two children \n",
    " \n",
    "`tsinfer` also works on larger datasets:"
   ]
  },
  {
   "cell_type": "markdown",
   "metadata": {},
   "source": [
    "To obtain estimates of node times, we will need to use `tsdate`,\n",
    "a method for efficiently inferring the ages of ancestors in a tree sequence.\n",
    "See the documentation page [here](https://tsdate.readthedocs.io/en/latest/)."
   ]
  },
  {
   "cell_type": "markdown",
   "metadata": {},
   "source": [
    "### Step 3: simplify the tree sequence\n",
    "\n",
    "First, we'll apply `simplify()`:"
   ]
  },
  {
   "cell_type": "code",
   "execution_count": null,
   "metadata": {},
   "outputs": [],
   "source": [
    "tsi = tsi.simplify()\n",
    "SVG(tsi.at(location).draw_svg())"
   ]
  },
  {
   "cell_type": "markdown",
   "metadata": {},
   "source": [
    "### Step 4: Apply `tsdate`!\n",
    "\n",
    "We supply an estimated (haploid) effective population size, and a mutation rate."
   ]
  },
  {
   "cell_type": "code",
   "execution_count": null,
   "metadata": {},
   "outputs": [],
   "source": [
    "tsid = tsdate.date(tsi, Ne=7000, mutation_rate=1e-8)\n",
    "SVG(tsid.at(location).draw_svg())"
   ]
  },
  {
   "cell_type": "code",
   "execution_count": null,
   "metadata": {},
   "outputs": [],
   "source": [
    "SVG(ts.at(location).draw_svg())"
   ]
  },
  {
   "cell_type": "markdown",
   "metadata": {},
   "source": [
    "With inferred node times and branch lengths in our tree sequence,\n",
    "we can now apply any of the branch or time-related methods in the previous worksheet to obtain inferred branch statistics, IBD segments and so on."
   ]
  },
  {
   "cell_type": "markdown",
   "metadata": {},
   "source": [
    "<a id='5.3InferenceAccuracy'></a>\n",
    "## 5.3 Inference accuracy\n",
    "\n",
    "Inferring genome-wide genealogies is a challenging task, and (as we have seen) the output from `tsinfer` should be treated with some caution.\n",
    "\n",
    "There are not many established ways to compare one tree sequence (or ARG) with another. However, thanks to phylogenetics, there *are* many ways to compare individual trees (i.e. tree distance metrics). The most discriminating that we have found is the Kendall-Colijn metric, which also has the benefit of dealing in a principled way with the *polytomies* found in `tsinfer` trees.\n",
    "\n",
    "<img style=\"height: 600px\" src=\"pics/worksheet5-distances.png\">\n",
    "\n",
    "Consider what parts of the inferred tree sequence are likely to be important in your downstream analyses.\n",
    "For instance, do branch lengths and ancestor times matter for you, or will tree topologies suffice?\n",
    "Do you need your ancestral segments to be contiguous,\n",
    "or is it okay if they are split over multiple ancestors in multiple edges?\n",
    "Questions like these should inform the types of benchmarking that matter to you.\n",
    "\n",
    "For instance, I thought `tsinfer` did a pretty good job of inferring recent IBD segment lengths:\n",
    "\n",
    "<img style=\"height: 300px\" src=\"pics/worksheet5-ibd-length.png\">\n",
    "\n",
    "But `tsdate` seemed to systematically overestimate their ages:\n",
    "\n",
    "<img style=\"height: 300px\" src=\"pics/worksheet5-ibd-time.png\">\n",
    "\n",
    "Given the variety of tools that are now available for these purposes (including the many that we have covered today), benchmarking the accuracy of these inferences is a task of high community importance if we are to rely on inferred genome-wide genealogies for future work."
   ]
  },
  {
   "cell_type": "code",
   "execution_count": null,
   "metadata": {},
   "outputs": [],
   "source": []
  }
 ],
 "metadata": {
  "kernelspec": {
   "display_name": "Python 3",
   "language": "python",
   "name": "python3"
  },
  "language_info": {
   "codemirror_mode": {
    "name": "ipython",
    "version": 3
   },
   "file_extension": ".py",
   "mimetype": "text/x-python",
   "name": "python",
   "nbconvert_exporter": "python",
   "pygments_lexer": "ipython3",
   "version": "3.7.3"
  }
 },
 "nbformat": 4,
 "nbformat_minor": 2
}
