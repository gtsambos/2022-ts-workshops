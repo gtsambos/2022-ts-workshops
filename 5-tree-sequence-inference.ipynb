{
 "cells": [
  {
   "cell_type": "code",
   "execution_count": 1,
   "metadata": {},
   "outputs": [],
   "source": [
    "import msprime, tskit\n",
    "import tsinfer, tsdate\n",
    "from IPython.display import SVG\n",
    "import numpy as np\n",
    "import pandas as pd\n",
    "import seaborn\n",
    "import matplotlib.pyplot as plt"
   ]
  },
  {
   "cell_type": "code",
   "execution_count": 2,
   "metadata": {},
   "outputs": [
    {
     "data": {
      "text/plain": [
       "'0.2.3'"
      ]
     },
     "execution_count": 2,
     "metadata": {},
     "output_type": "execute_result"
    }
   ],
   "source": [
    "tsinfer.__version__"
   ]
  },
  {
   "cell_type": "code",
   "execution_count": null,
   "metadata": {},
   "outputs": [],
   "source": []
  },
  {
   "cell_type": "code",
   "execution_count": 3,
   "metadata": {},
   "outputs": [
    {
     "data": {
      "text/plain": [
       "'0.1.4'"
      ]
     },
     "execution_count": 3,
     "metadata": {},
     "output_type": "execute_result"
    }
   ],
   "source": [
    "tsdate.__version__"
   ]
  },
  {
   "cell_type": "code",
   "execution_count": 4,
   "metadata": {},
   "outputs": [],
   "source": [
    "# import sys\n",
    "# !{sys.executable} -m pip install tsdate --upgrade"
   ]
  },
  {
   "cell_type": "markdown",
   "metadata": {},
   "source": [
    "Simulate something to be used in this analysis."
   ]
  },
  {
   "cell_type": "code",
   "execution_count": 5,
   "metadata": {},
   "outputs": [
    {
     "data": {
      "text/plain": [
       "PopulationSplit(time=600, derived=['SMALL', 'BIG'], ancestral='ANC')"
      ]
     },
     "execution_count": 5,
     "metadata": {},
     "output_type": "execute_result"
    }
   ],
   "source": [
    "demography = msprime.Demography()\n",
    "demography.add_population(name=\"SMALL\", initial_size=200)\n",
    "demography.add_population(name=\"BIG\", initial_size=500)\n",
    "demography.add_population(name=\"ADMIX\", initial_size=200)\n",
    "demography.add_population(name=\"ANC\", initial_size=500)\n",
    "demography.add_admixture(\n",
    "    time=20, derived=\"ADMIX\", ancestral=[\"SMALL\", \"BIG\"], proportions=[0.5, 0.5])\n",
    "demography.add_population_split(time=600, derived=[\"SMALL\", \"BIG\"], ancestral=\"ANC\")\n",
    "# demography.debug()"
   ]
  },
  {
   "cell_type": "code",
   "execution_count": 6,
   "metadata": {},
   "outputs": [
    {
     "data": {
      "image/svg+xml": [
       "<svg baseProfile=\"full\" height=\"200\" version=\"1.1\" width=\"400\" xmlns=\"http://www.w3.org/2000/svg\" xmlns:ev=\"http://www.w3.org/2001/xml-events\" xmlns:xlink=\"http://www.w3.org/1999/xlink\"><defs><style type=\"text/css\"><![CDATA[.background path {fill: #808080; fill-opacity: 0}.background path:nth-child(odd) {fill-opacity: .1}.axes {font-size: 14px}.x-axis .tick .lab {font-weight: bold; dominant-baseline: hanging}.axes, .tree {font-size: 14px; text-anchor: middle}.axes line, .edge {stroke: black; fill: none}.y-axis .grid {stroke: #FAFAFA}.node > .sym {fill: black; stroke: none}.site > .sym {stroke: black}.mut text {fill: red; font-style: italic}.mut.extra text {fill: hotpink}.mut line {fill: none; stroke: none}.mut .sym {fill: none; stroke: red}.mut.extra .sym {stroke: hotpink}.node .mut .sym {stroke-width: 1.5px}.tree text, .tree-sequence text {dominant-baseline: central}.plotbox .lab.lft {text-anchor: end}.plotbox .lab.rgt {text-anchor: start}]]></style></defs><g class=\"tree-sequence\"><g class=\"background\"><path d=\"M20,0 l180,0 l0,138.2 l-126.209,25 l0,5 l-53.7912,0 l0,-5 l0,-25 l0,-138.2z\"/><path d=\"M200,0 l180,0 l0,138.2 l0,25 l0,5 l-306.209,0 l0,-5 l126.209,-25 l0,-138.2z\"/></g><g class=\"axes\"><g class=\"x-axis\"><g transform=\"translate(200 200)\"><text class=\"lab\" text-anchor=\"middle\" transform=\"translate(0 -11)\">Genome position</text></g><line x1=\"20\" x2=\"380\" y1=\"163.2\" y2=\"163.2\"/><g class=\"ticks\"><g class=\"tick\" transform=\"translate(20 163.2)\"><line x1=\"0\" x2=\"0\" y1=\"0\" y2=\"5\"/><g transform=\"translate(0 6)\"><text class=\"lab\">0</text></g></g><g class=\"tick\" transform=\"translate(73.7912 163.2)\"><line x1=\"0\" x2=\"0\" y1=\"0\" y2=\"5\"/><g transform=\"translate(0 6)\"><text class=\"lab\">7471</text></g></g><g class=\"tick\" transform=\"translate(380 163.2)\"><line x1=\"0\" x2=\"0\" y1=\"0\" y2=\"5\"/><g transform=\"translate(0 6)\"><text class=\"lab\">50000</text></g></g></g><g class=\"site s0\" transform=\"translate(53.192 163.2)\"><line class=\"sym\" x1=\"0\" x2=\"0\" y1=\"0\" y2=\"-10\"/><g class=\"mut m0\"><polyline class=\"sym\" points=\"2.5,-6.5 0,-1.5 -2.5,-6.5\"/></g></g><g class=\"site s1\" transform=\"translate(56.1656 163.2)\"><line class=\"sym\" x1=\"0\" x2=\"0\" y1=\"0\" y2=\"-10\"/><g class=\"mut m1\"><polyline class=\"sym\" points=\"2.5,-6.5 0,-1.5 -2.5,-6.5\"/></g></g><g class=\"site s2\" transform=\"translate(65.2088 163.2)\"><line class=\"sym\" x1=\"0\" x2=\"0\" y1=\"0\" y2=\"-10\"/><g class=\"mut m2\"><polyline class=\"sym\" points=\"2.5,-6.5 0,-1.5 -2.5,-6.5\"/></g></g><g class=\"site s3\" transform=\"translate(72.3296 163.2)\"><line class=\"sym\" x1=\"0\" x2=\"0\" y1=\"0\" y2=\"-10\"/><g class=\"mut m3\"><polyline class=\"sym\" points=\"2.5,-6.5 0,-1.5 -2.5,-6.5\"/></g></g><g class=\"site s4\" transform=\"translate(72.4952 163.2)\"><line class=\"sym\" x1=\"0\" x2=\"0\" y1=\"0\" y2=\"-10\"/><g class=\"mut m4\"><polyline class=\"sym\" points=\"2.5,-6.5 0,-1.5 -2.5,-6.5\"/></g></g><g class=\"site s5\" transform=\"translate(94.6064 163.2)\"><line class=\"sym\" x1=\"0\" x2=\"0\" y1=\"0\" y2=\"-10\"/><g class=\"mut m5\"><polyline class=\"sym\" points=\"2.5,-6.5 0,-1.5 -2.5,-6.5\"/></g></g><g class=\"site s6\" transform=\"translate(122.067 163.2)\"><line class=\"sym\" x1=\"0\" x2=\"0\" y1=\"0\" y2=\"-10\"/><g class=\"mut m6\"><polyline class=\"sym\" points=\"2.5,-6.5 0,-1.5 -2.5,-6.5\"/></g></g><g class=\"site s7\" transform=\"translate(152.66 163.2)\"><line class=\"sym\" x1=\"0\" x2=\"0\" y1=\"0\" y2=\"-10\"/><g class=\"mut m7\"><polyline class=\"sym\" points=\"2.5,-6.5 0,-1.5 -2.5,-6.5\"/></g></g><g class=\"site s8\" transform=\"translate(156.073 163.2)\"><line class=\"sym\" x1=\"0\" x2=\"0\" y1=\"0\" y2=\"-10\"/><g class=\"mut m8\"><polyline class=\"sym\" points=\"2.5,-6.5 0,-1.5 -2.5,-6.5\"/></g></g><g class=\"site s9\" transform=\"translate(183.138 163.2)\"><line class=\"sym\" x1=\"0\" x2=\"0\" y1=\"0\" y2=\"-10\"/><g class=\"mut m9\"><polyline class=\"sym\" points=\"2.5,-6.5 0,-1.5 -2.5,-6.5\"/></g></g><g class=\"site s10\" transform=\"translate(255.224 163.2)\"><line class=\"sym\" x1=\"0\" x2=\"0\" y1=\"0\" y2=\"-10\"/><g class=\"mut m10\"><polyline class=\"sym\" points=\"2.5,-6.5 0,-1.5 -2.5,-6.5\"/></g></g><g class=\"site s11\" transform=\"translate(269.523 163.2)\"><line class=\"sym\" x1=\"0\" x2=\"0\" y1=\"0\" y2=\"-10\"/><g class=\"mut m11\"><polyline class=\"sym\" points=\"2.5,-6.5 0,-1.5 -2.5,-6.5\"/></g></g><g class=\"site s12\" transform=\"translate(280.863 163.2)\"><line class=\"sym\" x1=\"0\" x2=\"0\" y1=\"0\" y2=\"-10\"/><g class=\"mut m12\"><polyline class=\"sym\" points=\"2.5,-6.5 0,-1.5 -2.5,-6.5\"/></g></g><g class=\"site s13\" transform=\"translate(290.626 163.2)\"><line class=\"sym\" x1=\"0\" x2=\"0\" y1=\"0\" y2=\"-10\"/><g class=\"mut m13\"><polyline class=\"sym\" points=\"2.5,-6.5 0,-1.5 -2.5,-6.5\"/></g></g><g class=\"site s14\" transform=\"translate(295.695 163.2)\"><line class=\"sym\" x1=\"0\" x2=\"0\" y1=\"0\" y2=\"-10\"/><g class=\"mut m14\"><polyline class=\"sym\" points=\"2.5,-6.5 0,-1.5 -2.5,-6.5\"/></g></g><g class=\"site s15\" transform=\"translate(305.79 163.2)\"><line class=\"sym\" x1=\"0\" x2=\"0\" y1=\"0\" y2=\"-10\"/><g class=\"mut m15\"><polyline class=\"sym\" points=\"2.5,-6.5 0,-1.5 -2.5,-6.5\"/></g></g><g class=\"site s16\" transform=\"translate(324.135 163.2)\"><line class=\"sym\" x1=\"0\" x2=\"0\" y1=\"0\" y2=\"-10\"/><g class=\"mut m16\"><polyline class=\"sym\" points=\"2.5,-6.5 0,-1.5 -2.5,-6.5\"/></g></g><g class=\"site s17\" transform=\"translate(342.661 163.2)\"><line class=\"sym\" x1=\"0\" x2=\"0\" y1=\"0\" y2=\"-10\"/><g class=\"mut m17\"><polyline class=\"sym\" points=\"2.5,-6.5 0,-1.5 -2.5,-6.5\"/></g></g><g class=\"site s18\" transform=\"translate(347.254 163.2)\"><line class=\"sym\" x1=\"0\" x2=\"0\" y1=\"0\" y2=\"-10\"/><g class=\"mut m18\"><polyline class=\"sym\" points=\"2.5,-6.5 0,-1.5 -2.5,-6.5\"/></g></g><g class=\"site s19\" transform=\"translate(370.51 163.2)\"><line class=\"sym\" x1=\"0\" x2=\"0\" y1=\"0\" y2=\"-10\"/><g class=\"mut m19\"><polyline class=\"sym\" points=\"2.5,-6.5 0,-1.5 -2.5,-6.5\"/></g></g></g></g><g class=\"plotbox trees\"><g class=\"tree t0\" transform=\"translate(20 0)\"><g class=\"plotbox\"><g class=\"c2 node n11 p3 root\" transform=\"translate(78.3333 26.8)\"><g class=\"a11 c2 m1 m4 node n8 p0 s1 s4\" transform=\"translate(-35 65.1933)\"><g class=\"a8 i0 leaf node n0 p0 sample\" transform=\"translate(-11.6667 29.4067)\"><path class=\"edge\" d=\"M 0 0 V -29.4067 H 11.6667\"/><rect class=\"sym\" height=\"6\" width=\"6\" x=\"-3\" y=\"-3\"/><text class=\"lab\" transform=\"translate(0 11)\">0</text></g><g class=\"a8 i0 leaf node n1 p0 sample\" transform=\"translate(11.6667 29.4067)\"><path class=\"edge\" d=\"M 0 0 V -29.4067 H -11.6667\"/><rect class=\"sym\" height=\"6\" width=\"6\" x=\"-3\" y=\"-3\"/><text class=\"lab\" transform=\"translate(0 11)\">1</text></g><path class=\"edge\" d=\"M 0 0 V -65.1933 H 35\"/><g class=\"mut m1 s1\" transform=\"translate(0 -21.2078)\"><line x1=\"0\" x2=\"0\" y1=\"0\" y2=\"21.2078\"/><path class=\"sym\" d=\"M -3,-3 l 6,6 M -3,3 l 6,-6\"/><text class=\"lab lft\" transform=\"translate(-5 0)\">1</text></g><g class=\"mut m4 s4\" transform=\"translate(0 -9.30421)\"><line x1=\"0\" x2=\"0\" y1=\"0\" y2=\"9.30421\"/><path class=\"sym\" d=\"M -3,-3 l 6,6 M -3,3 l 6,-6\"/><text class=\"lab lft\" transform=\"translate(-5 0)\">4</text></g><circle class=\"sym\" cx=\"0\" cy=\"0\" r=\"3\"/><text class=\"lab lft\" transform=\"translate(-3 -7.0)\">8</text></g><g class=\"a11 c2 m0 node n10 p3 s0\" transform=\"translate(35 12.7722)\"><g class=\"a10 c2 node n7 p1\" transform=\"translate(-23.3333 57.3561)\"><g class=\"a7 i1 leaf node n2 p1 sample\" transform=\"translate(-11.6667 24.4717)\"><path class=\"edge\" d=\"M 0 0 V -24.4717 H 11.6667\"/><rect class=\"sym\" height=\"6\" width=\"6\" x=\"-3\" y=\"-3\"/><text class=\"lab\" transform=\"translate(0 11)\">2</text></g><g class=\"a7 i2 leaf m2 node n5 p2 s2 sample\" transform=\"translate(11.6667 24.4717)\"><path class=\"edge\" d=\"M 0 0 V -24.4717 H -11.6667\"/><g class=\"mut m2 s2\" transform=\"translate(0 -0.994304)\"><line x1=\"0\" x2=\"0\" y1=\"0\" y2=\"0.994304\"/><path class=\"sym\" d=\"M -3,-3 l 6,6 M -3,3 l 6,-6\"/><text class=\"lab rgt\" transform=\"translate(5 0)\">2</text></g><rect class=\"sym\" height=\"6\" width=\"6\" x=\"-3\" y=\"-3\"/><text class=\"lab\" transform=\"translate(0 11)\">5</text></g><path class=\"edge\" d=\"M 0 0 V -57.3561 H 23.3333\"/><circle class=\"sym\" cx=\"0\" cy=\"0\" r=\"3\"/><text class=\"lab lft\" transform=\"translate(-3 -7.0)\">7</text></g><g class=\"a10 c2 node n9 p3\" transform=\"translate(23.3333 33.6307)\"><g class=\"a9 i1 leaf m3 node n3 p1 s3 sample\" transform=\"translate(-11.6667 48.1971)\"><path class=\"edge\" d=\"M 0 0 V -48.1971 H 11.6667\"/><g class=\"mut m3 s3\" transform=\"translate(0 -22.018)\"><line x1=\"0\" x2=\"0\" y1=\"0\" y2=\"22.018\"/><path class=\"sym\" d=\"M -3,-3 l 6,6 M -3,3 l 6,-6\"/><text class=\"lab lft\" transform=\"translate(-5 0)\">3</text></g><rect class=\"sym\" height=\"6\" width=\"6\" x=\"-3\" y=\"-3\"/><text class=\"lab\" transform=\"translate(0 11)\">3</text></g><g class=\"a9 i2 leaf node n4 p2 sample\" transform=\"translate(11.6667 48.1971)\"><path class=\"edge\" d=\"M 0 0 V -48.1971 H -11.6667\"/><rect class=\"sym\" height=\"6\" width=\"6\" x=\"-3\" y=\"-3\"/><text class=\"lab\" transform=\"translate(0 11)\">4</text></g><path class=\"edge\" d=\"M 0 0 V -33.6307 H -23.3333\"/><circle class=\"sym\" cx=\"0\" cy=\"0\" r=\"3\"/><text class=\"lab rgt\" transform=\"translate(3 -7.0)\">9</text></g><path class=\"edge\" d=\"M 0 0 V -12.7722 H -35\"/><g class=\"mut m0 s0\" transform=\"translate(0 -5.28409)\"><line x1=\"0\" x2=\"0\" y1=\"0\" y2=\"5.28409\"/><path class=\"sym\" d=\"M -3,-3 l 6,6 M -3,3 l 6,-6\"/><text class=\"lab rgt\" transform=\"translate(5 0)\">0</text></g><circle class=\"sym\" cx=\"0\" cy=\"0\" r=\"3\"/><text class=\"lab rgt\" transform=\"translate(3 -7.0)\">10</text></g><circle class=\"sym\" cx=\"0\" cy=\"0\" r=\"3\"/><text class=\"lab\" transform=\"translate(0 -11)\">11</text></g></g></g><g class=\"tree t1\" transform=\"translate(200 0)\"><g class=\"plotbox\"><g class=\"c2 node n11 p3 root\" transform=\"translate(117.708 26.8)\"><g class=\"a11 c2 m10 m8 node n10 p3 s10 s8\" transform=\"translate(-30.625 12.7722)\"><g class=\"a10 c2 m14 m19 node n7 p1 s14 s19\" transform=\"translate(26.25 57.3561)\"><g class=\"a7 i1 leaf node n2 p1 sample\" transform=\"translate(-11.6667 24.4717)\"><path class=\"edge\" d=\"M 0 0 V -24.4717 H 11.6667\"/><rect class=\"sym\" height=\"6\" width=\"6\" x=\"-3\" y=\"-3\"/><text class=\"lab\" transform=\"translate(0 11)\">2</text></g><g class=\"a7 i2 leaf m17 m5 node n5 p2 s17 s5 sample\" transform=\"translate(11.6667 24.4717)\"><path class=\"edge\" d=\"M 0 0 V -24.4717 H -11.6667\"/><g class=\"mut m5 s5\" transform=\"translate(0 -6.06625)\"><line x1=\"0\" x2=\"0\" y1=\"0\" y2=\"6.06625\"/><path class=\"sym\" d=\"M -3,-3 l 6,6 M -3,3 l 6,-6\"/><text class=\"lab rgt\" transform=\"translate(5 0)\">5</text></g><g class=\"mut m17 s17\" transform=\"translate(0 -0.458796)\"><line x1=\"0\" x2=\"0\" y1=\"0\" y2=\"0.458796\"/><path class=\"sym\" d=\"M -3,-3 l 6,6 M -3,3 l 6,-6\"/><text class=\"lab rgt\" transform=\"translate(5 0)\">17</text></g><rect class=\"sym\" height=\"6\" width=\"6\" x=\"-3\" y=\"-3\"/><text class=\"lab\" transform=\"translate(0 11)\">5</text></g><path class=\"edge\" d=\"M 0 0 V -57.3561 H -26.25\"/><g class=\"mut m14 s14\" transform=\"translate(0 -32.0537)\"><line x1=\"0\" x2=\"0\" y1=\"0\" y2=\"32.0537\"/><path class=\"sym\" d=\"M -3,-3 l 6,6 M -3,3 l 6,-6\"/><text class=\"lab rgt\" transform=\"translate(5 0)\">14</text></g><g class=\"mut m19 s19\" transform=\"translate(0 -14.8697)\"><line x1=\"0\" x2=\"0\" y1=\"0\" y2=\"14.8697\"/><path class=\"sym\" d=\"M -3,-3 l 6,6 M -3,3 l 6,-6\"/><text class=\"lab rgt\" transform=\"translate(5 0)\">19</text></g><circle class=\"sym\" cx=\"0\" cy=\"0\" r=\"3\"/><text class=\"lab rgt\" transform=\"translate(3 -7.0)\">7</text></g><g class=\"a10 c2 m11 m6 node n9 p3 s11 s6\" transform=\"translate(-26.25 33.6307)\"><g class=\"a9 i1 leaf m9 node n3 p1 s9 sample\" transform=\"translate(17.5 48.1971)\"><path class=\"edge\" d=\"M 0 0 V -48.1971 H -17.5\"/><g class=\"mut m9 s9\" transform=\"translate(0 -31.2869)\"><line x1=\"0\" x2=\"0\" y1=\"0\" y2=\"31.2869\"/><path class=\"sym\" d=\"M -3,-3 l 6,6 M -3,3 l 6,-6\"/><text class=\"lab rgt\" transform=\"translate(5 0)\">9</text></g><rect class=\"sym\" height=\"6\" width=\"6\" x=\"-3\" y=\"-3\"/><text class=\"lab\" transform=\"translate(0 11)\">3</text></g><g class=\"a9 c2 m12 node n6 p0 s12\" transform=\"translate(-17.5 35.1262)\"><g class=\"a6 i0 leaf m13 node n0 p0 s13 sample\" transform=\"translate(-11.6667 13.0709)\"><path class=\"edge\" d=\"M 0 0 V -13.0709 H 11.6667\"/><g class=\"mut m13 s13\" transform=\"translate(0 -10.9789)\"><line x1=\"0\" x2=\"0\" y1=\"0\" y2=\"10.9789\"/><path class=\"sym\" d=\"M -3,-3 l 6,6 M -3,3 l 6,-6\"/><text class=\"lab lft\" transform=\"translate(-5 0)\">13</text></g><rect class=\"sym\" height=\"6\" width=\"6\" x=\"-3\" y=\"-3\"/><text class=\"lab\" transform=\"translate(0 11)\">0</text></g><g class=\"a6 i2 leaf node n4 p2 sample\" transform=\"translate(11.6667 13.0709)\"><path class=\"edge\" d=\"M 0 0 V -13.0709 H -11.6667\"/><rect class=\"sym\" height=\"6\" width=\"6\" x=\"-3\" y=\"-3\"/><text class=\"lab\" transform=\"translate(0 11)\">4</text></g><path class=\"edge\" d=\"M 0 0 V -35.1262 H 17.5\"/><g class=\"mut m12 s12\" transform=\"translate(0 -17.3044)\"><line x1=\"0\" x2=\"0\" y1=\"0\" y2=\"17.3044\"/><path class=\"sym\" d=\"M -3,-3 l 6,6 M -3,3 l 6,-6\"/><text class=\"lab lft\" transform=\"translate(-5 0)\">12</text></g><circle class=\"sym\" cx=\"0\" cy=\"0\" r=\"3\"/><text class=\"lab lft\" transform=\"translate(-3 -7.0)\">6</text></g><path class=\"edge\" d=\"M 0 0 V -33.6307 H 26.25\"/><g class=\"mut m11 s11\" transform=\"translate(0 -19.7285)\"><line x1=\"0\" x2=\"0\" y1=\"0\" y2=\"19.7285\"/><path class=\"sym\" d=\"M -3,-3 l 6,6 M -3,3 l 6,-6\"/><text class=\"lab lft\" transform=\"translate(-5 0)\">11</text></g><g class=\"mut m6 s6\" transform=\"translate(0 -10.3031)\"><line x1=\"0\" x2=\"0\" y1=\"0\" y2=\"10.3031\"/><path class=\"sym\" d=\"M -3,-3 l 6,6 M -3,3 l 6,-6\"/><text class=\"lab lft\" transform=\"translate(-5 0)\">6</text></g><circle class=\"sym\" cx=\"0\" cy=\"0\" r=\"3\"/><text class=\"lab lft\" transform=\"translate(-3 -7.0)\">9</text></g><path class=\"edge\" d=\"M 0 0 V -12.7722 H 30.625\"/><g class=\"mut m10 s10\" transform=\"translate(0 -10.0535)\"><line x1=\"0\" x2=\"0\" y1=\"0\" y2=\"10.0535\"/><path class=\"sym\" d=\"M -3,-3 l 6,6 M -3,3 l 6,-6\"/><text class=\"lab lft\" transform=\"translate(-5 0)\">10</text></g><g class=\"mut m8 s8\" transform=\"translate(0 -5.42437)\"><line x1=\"0\" x2=\"0\" y1=\"0\" y2=\"5.42437\"/><path class=\"sym\" d=\"M -3,-3 l 6,6 M -3,3 l 6,-6\"/><text class=\"lab lft\" transform=\"translate(-5 0)\">8</text></g><circle class=\"sym\" cx=\"0\" cy=\"0\" r=\"3\"/><text class=\"lab lft\" transform=\"translate(-3 -7.0)\">10</text></g><g class=\"a11 i0 leaf m15 m16 m18 m7 node n1 p0 s15 s16 s18 s7 sample\" transform=\"translate(30.625 94.6)\"><path class=\"edge\" d=\"M 0 0 V -94.6 H -30.625\"/><g class=\"mut m15 s15\" transform=\"translate(0 -73.8178)\"><line x1=\"0\" x2=\"0\" y1=\"0\" y2=\"73.8178\"/><path class=\"sym\" d=\"M -3,-3 l 6,6 M -3,3 l 6,-6\"/><text class=\"lab rgt\" transform=\"translate(5 0)\">15</text></g><g class=\"mut m18 s18\" transform=\"translate(0 -36.7021)\"><line x1=\"0\" x2=\"0\" y1=\"0\" y2=\"36.7021\"/><path class=\"sym\" d=\"M -3,-3 l 6,6 M -3,3 l 6,-6\"/><text class=\"lab rgt\" transform=\"translate(5 0)\">18</text></g><g class=\"mut m16 s16\" transform=\"translate(0 -28.982)\"><line x1=\"0\" x2=\"0\" y1=\"0\" y2=\"28.982\"/><path class=\"sym\" d=\"M -3,-3 l 6,6 M -3,3 l 6,-6\"/><text class=\"lab rgt\" transform=\"translate(5 0)\">16</text></g><g class=\"mut m7 s7\" transform=\"translate(0 -20.9972)\"><line x1=\"0\" x2=\"0\" y1=\"0\" y2=\"20.9972\"/><path class=\"sym\" d=\"M -3,-3 l 6,6 M -3,3 l 6,-6\"/><text class=\"lab rgt\" transform=\"translate(5 0)\">7</text></g><rect class=\"sym\" height=\"6\" width=\"6\" x=\"-3\" y=\"-3\"/><text class=\"lab\" transform=\"translate(0 11)\">1</text></g><circle class=\"sym\" cx=\"0\" cy=\"0\" r=\"3\"/><text class=\"lab\" transform=\"translate(0 -11)\">11</text></g></g></g></g></g></svg>"
      ],
      "text/plain": [
       "<IPython.core.display.SVG object>"
      ]
     },
     "execution_count": 6,
     "metadata": {},
     "output_type": "execute_result"
    }
   ],
   "source": [
    "seq_length = 5e4\n",
    "ts = msprime.sim_ancestry(samples={\"SMALL\": 1, \"BIG\": 1, \"ADMIX\" : 1},\n",
    "                          demography=demography, random_seed=574,\n",
    "                         sequence_length=seq_length, recombination_rate=1e-8)\n",
    "ts = msprime.sim_mutations(ts, rate=1e-7, random_seed=3)\n",
    "# ts\n",
    "SVG(ts.draw_svg())"
   ]
  },
  {
   "cell_type": "code",
   "execution_count": 7,
   "metadata": {},
   "outputs": [
    {
     "data": {
      "text/html": [
       "\n",
       "            <div>\n",
       "              <style>\n",
       "                .tskit-table thead tr th {text-align: left;padding: 0.5em 0.5em;}\n",
       "                .tskit-table tbody tr td {padding: 0.5em 0.5em;}\n",
       "                .tskit-table tbody tr td:first-of-type {text-align: left;}\n",
       "                .tskit-details-label {vertical-align: top; padding-right:5px;}\n",
       "                .tskit-table-set {display: inline-flex;flex-wrap: wrap;margin: -12px 0 0 -12px;width: calc(100% + 12px);}\n",
       "                .tskit-table-set-table {margin: 12px 0 0 12px;}\n",
       "                details {display: inline-block;}\n",
       "                summary {cursor: pointer; outline: 0; display: list-item;}\n",
       "              </style>\n",
       "              <div class=\"tskit-table-set\">\n",
       "                <div class=\"tskit-table-set-table\">\n",
       "                  <table class=\"tskit-table\">\n",
       "                    <thead>\n",
       "                      <tr>\n",
       "                        <th style=\"padding:0;line-height:21px;\">\n",
       "                          <img style=\"height: 32px;display: inline-block;padding: 3px 5px 3px 0;\" src=\"https://raw.githubusercontent.com/tskit-dev/administrative/main/tskit_logo.svg\"/>\n",
       "                          <a target=\"_blank\" href=\"https://tskit.dev/tskit/docs/latest/python-api.html#the-treesequence-class\"> Tree Sequence </a>\n",
       "                        </th>\n",
       "                      </tr>\n",
       "                    </thead>\n",
       "                    <tbody>\n",
       "                      <tr><td>Trees</td><td>5084</td></tr>\n",
       "                      <tr><td>Sequence Length</td><td>50000000.0</td></tr>\n",
       "                      <tr><td>Time Units</td><td>unknown</td></tr>\n",
       "                      <tr><td>Sample Nodes</td><td>60</td></tr>\n",
       "                      <tr><td>Total Size</td><td>1.1 MiB</td></tr>\n",
       "                      <tr>\n",
       "                        <td>Metadata</td><td style=\"text-align: left;\">No Metadata</td></tr>\n",
       "                    </tbody>\n",
       "                  </table>\n",
       "                </div>\n",
       "                <div class=\"tskit-table-set-table\">\n",
       "                  <table class=\"tskit-table\">\n",
       "                    <thead>\n",
       "                      <tr>\n",
       "                        <th style=\"line-height:21px;\">Table</th>\n",
       "                        <th>Rows</th>\n",
       "                        <th>Size</th>\n",
       "                        <th>Has Metadata</th>\n",
       "                      </tr>\n",
       "                    </thead>\n",
       "                    <tbody>\n",
       "                    \n",
       "                  <tr>\n",
       "                    <td>Edges</td>\n",
       "                      <td>18077</td>\n",
       "                      <td>564.9 KiB</td>\n",
       "                      <td style=\"text-align: center;\">\n",
       "                        \n",
       "                      </td>\n",
       "                    </tr>\n",
       "                \n",
       "                  <tr>\n",
       "                    <td>Individuals</td>\n",
       "                      <td>30</td>\n",
       "                      <td>864 Bytes</td>\n",
       "                      <td style=\"text-align: center;\">\n",
       "                        \n",
       "                      </td>\n",
       "                    </tr>\n",
       "                \n",
       "                  <tr>\n",
       "                    <td>Migrations</td>\n",
       "                      <td>0</td>\n",
       "                      <td>8 Bytes</td>\n",
       "                      <td style=\"text-align: center;\">\n",
       "                        \n",
       "                      </td>\n",
       "                    </tr>\n",
       "                \n",
       "                  <tr>\n",
       "                    <td>Mutations</td>\n",
       "                      <td>5849</td>\n",
       "                      <td>211.4 KiB</td>\n",
       "                      <td style=\"text-align: center;\">\n",
       "                        \n",
       "                      </td>\n",
       "                    </tr>\n",
       "                \n",
       "                  <tr>\n",
       "                    <td>Nodes</td>\n",
       "                      <td>3363</td>\n",
       "                      <td>92.0 KiB</td>\n",
       "                      <td style=\"text-align: center;\">\n",
       "                        \n",
       "                      </td>\n",
       "                    </tr>\n",
       "                \n",
       "                  <tr>\n",
       "                    <td>Populations</td>\n",
       "                      <td>4</td>\n",
       "                      <td>343 Bytes</td>\n",
       "                      <td style=\"text-align: center;\">\n",
       "                        ✅\n",
       "                      </td>\n",
       "                    </tr>\n",
       "                \n",
       "                  <tr>\n",
       "                    <td>Provenances</td>\n",
       "                      <td>2</td>\n",
       "                      <td>2.8 KiB</td>\n",
       "                      <td style=\"text-align: center;\">\n",
       "                        \n",
       "                      </td>\n",
       "                    </tr>\n",
       "                \n",
       "                  <tr>\n",
       "                    <td>Sites</td>\n",
       "                      <td>5849</td>\n",
       "                      <td>142.8 KiB</td>\n",
       "                      <td style=\"text-align: center;\">\n",
       "                        \n",
       "                      </td>\n",
       "                    </tr>\n",
       "                \n",
       "                    </tbody>\n",
       "                  </table>\n",
       "                </div>\n",
       "              </div>\n",
       "            </div>\n",
       "            "
      ],
      "text/plain": [
       "<tskit.trees.TreeSequence at 0x12fa36210>"
      ]
     },
     "execution_count": 7,
     "metadata": {},
     "output_type": "execute_result"
    }
   ],
   "source": [
    "ts_big = msprime.sim_ancestry(samples={\"SMALL\": 10, \"BIG\": 10, \"ADMIX\" : 10},\n",
    "                          demography=demography, random_seed=574,\n",
    "                         sequence_length=5e7, recombination_rate=1e-8)\n",
    "ts_big = msprime.sim_mutations(ts_big, rate=1e-8, random_seed=3)\n",
    "ts_big"
   ]
  },
  {
   "cell_type": "markdown",
   "metadata": {},
   "source": [
    "For now, will use a VCF of these."
   ]
  },
  {
   "cell_type": "code",
   "execution_count": 8,
   "metadata": {},
   "outputs": [],
   "source": [
    "with open(\"worksheet5-input.vcf\", \"w\") as vcf_file:\n",
    "    ts.write_vcf(vcf_file)"
   ]
  },
  {
   "cell_type": "markdown",
   "metadata": {},
   "source": [
    "### Put data into the right format\n",
    "\n",
    "Make a SampleData file. Requires:\n",
    " - phased genotypes\n",
    " - ref and alt allele data\n",
    " \n",
    "First we'll show how to get this info from the VCF file:"
   ]
  },
  {
   "cell_type": "code",
   "execution_count": 9,
   "metadata": {},
   "outputs": [],
   "source": [
    "a_file = open(\"worksheet5-input.vcf\")\n",
    "\n",
    "# lines = a_file.readlines()\n",
    "# for line in lines:\n",
    "# #     print(line)\n",
    "# a_file.close()"
   ]
  },
  {
   "cell_type": "markdown",
   "metadata": {},
   "source": [
    "Note: shouldn't encourage readlines here, because it reads the whole file in all at once."
   ]
  },
  {
   "cell_type": "code",
   "execution_count": 10,
   "metadata": {},
   "outputs": [],
   "source": [
    "a_file = open(\"worksheet5-input.vcf\")\n",
    "\n",
    "lines = a_file.readlines()\n",
    "with tsinfer.SampleData(sequence_length=seq_length) as sample_data:\n",
    "    for line in lines:\n",
    "        if line[0] != \"#\":\n",
    "            l = line.split(\"\\t\")\n",
    "#             print(line.split(\"\\t\"))\n",
    "            pos = int(l[1])\n",
    "            ref = l[3]\n",
    "            alt = l[4]\n",
    "#             print(pos, ref, alt)\n",
    "            gens = \"\".join(l[9:]).replace(\"|\", \"\").replace(\"\\n\", \"\")\n",
    "            gens = [int(g) for g in gens]\n",
    "#             print(gens)\n",
    "\n",
    "            sample_data.add_site(pos, gens, [ref, alt])\n",
    "a_file.close()"
   ]
  },
  {
   "cell_type": "markdown",
   "metadata": {},
   "source": [
    "Now we have a sample data file.\n",
    "If you already have a tree sequence file, can use the from_tree_sequence method, as so:"
   ]
  },
  {
   "cell_type": "code",
   "execution_count": 11,
   "metadata": {},
   "outputs": [],
   "source": [
    "sample_data_big = tsinfer.SampleData.from_tree_sequence(\n",
    "    ts_big, path=\"simulation.samples\", num_flush_threads=1)"
   ]
  },
  {
   "cell_type": "markdown",
   "metadata": {},
   "source": [
    "### Using tsinfer"
   ]
  },
  {
   "cell_type": "code",
   "execution_count": 12,
   "metadata": {},
   "outputs": [
    {
     "data": {
      "text/html": [
       "\n",
       "            <div>\n",
       "              <style>\n",
       "                .tskit-table thead tr th {text-align: left;padding: 0.5em 0.5em;}\n",
       "                .tskit-table tbody tr td {padding: 0.5em 0.5em;}\n",
       "                .tskit-table tbody tr td:first-of-type {text-align: left;}\n",
       "                .tskit-details-label {vertical-align: top; padding-right:5px;}\n",
       "                .tskit-table-set {display: inline-flex;flex-wrap: wrap;margin: -12px 0 0 -12px;width: calc(100% + 12px);}\n",
       "                .tskit-table-set-table {margin: 12px 0 0 12px;}\n",
       "                details {display: inline-block;}\n",
       "                summary {cursor: pointer; outline: 0; display: list-item;}\n",
       "              </style>\n",
       "              <div class=\"tskit-table-set\">\n",
       "                <div class=\"tskit-table-set-table\">\n",
       "                  <table class=\"tskit-table\">\n",
       "                    <thead>\n",
       "                      <tr>\n",
       "                        <th style=\"padding:0;line-height:21px;\">\n",
       "                          <img style=\"height: 32px;display: inline-block;padding: 3px 5px 3px 0;\" src=\"https://raw.githubusercontent.com/tskit-dev/administrative/main/tskit_logo.svg\"/>\n",
       "                          <a target=\"_blank\" href=\"https://tskit.dev/tskit/docs/latest/python-api.html#the-treesequence-class\"> Tree Sequence </a>\n",
       "                        </th>\n",
       "                      </tr>\n",
       "                    </thead>\n",
       "                    <tbody>\n",
       "                      <tr><td>Trees</td><td>3</td></tr>\n",
       "                      <tr><td>Sequence Length</td><td>50000.0</td></tr>\n",
       "                      <tr><td>Time Units</td><td>unknown</td></tr>\n",
       "                      <tr><td>Sample Nodes</td><td>6</td></tr>\n",
       "                      <tr><td>Total Size</td><td>5.7 KiB</td></tr>\n",
       "                      <tr>\n",
       "                        <td>Metadata</td><td style=\"text-align: left;\">\n",
       "                <div>\n",
       "                  <span class=\"tskit-details-label\"></span>\n",
       "                  <details open>\n",
       "                    <summary>dict</summary>\n",
       "                    \n",
       "                  </details>\n",
       "                </div>\n",
       "                </td></tr>\n",
       "                    </tbody>\n",
       "                  </table>\n",
       "                </div>\n",
       "                <div class=\"tskit-table-set-table\">\n",
       "                  <table class=\"tskit-table\">\n",
       "                    <thead>\n",
       "                      <tr>\n",
       "                        <th style=\"line-height:21px;\">Table</th>\n",
       "                        <th>Rows</th>\n",
       "                        <th>Size</th>\n",
       "                        <th>Has Metadata</th>\n",
       "                      </tr>\n",
       "                    </thead>\n",
       "                    <tbody>\n",
       "                    \n",
       "                  <tr>\n",
       "                    <td>Edges</td>\n",
       "                      <td>15</td>\n",
       "                      <td>488 Bytes</td>\n",
       "                      <td style=\"text-align: center;\">\n",
       "                        \n",
       "                      </td>\n",
       "                    </tr>\n",
       "                \n",
       "                  <tr>\n",
       "                    <td>Individuals</td>\n",
       "                      <td>6</td>\n",
       "                      <td>204 Bytes</td>\n",
       "                      <td style=\"text-align: center;\">\n",
       "                        ✅\n",
       "                      </td>\n",
       "                    </tr>\n",
       "                \n",
       "                  <tr>\n",
       "                    <td>Migrations</td>\n",
       "                      <td>0</td>\n",
       "                      <td>8 Bytes</td>\n",
       "                      <td style=\"text-align: center;\">\n",
       "                        \n",
       "                      </td>\n",
       "                    </tr>\n",
       "                \n",
       "                  <tr>\n",
       "                    <td>Mutations</td>\n",
       "                      <td>21</td>\n",
       "                      <td>793 Bytes</td>\n",
       "                      <td style=\"text-align: center;\">\n",
       "                        \n",
       "                      </td>\n",
       "                    </tr>\n",
       "                \n",
       "                  <tr>\n",
       "                    <td>Nodes</td>\n",
       "                      <td>14</td>\n",
       "                      <td>584 Bytes</td>\n",
       "                      <td style=\"text-align: center;\">\n",
       "                        ✅\n",
       "                      </td>\n",
       "                    </tr>\n",
       "                \n",
       "                  <tr>\n",
       "                    <td>Populations</td>\n",
       "                      <td>0</td>\n",
       "                      <td>8 Bytes</td>\n",
       "                      <td style=\"text-align: center;\">\n",
       "                        \n",
       "                      </td>\n",
       "                    </tr>\n",
       "                \n",
       "                  <tr>\n",
       "                    <td>Provenances</td>\n",
       "                      <td>4</td>\n",
       "                      <td>2.4 KiB</td>\n",
       "                      <td style=\"text-align: center;\">\n",
       "                        \n",
       "                      </td>\n",
       "                    </tr>\n",
       "                \n",
       "                  <tr>\n",
       "                    <td>Sites</td>\n",
       "                      <td>20</td>\n",
       "                      <td>1.1 KiB</td>\n",
       "                      <td style=\"text-align: center;\">\n",
       "                        ✅\n",
       "                      </td>\n",
       "                    </tr>\n",
       "                \n",
       "                    </tbody>\n",
       "                  </table>\n",
       "                </div>\n",
       "              </div>\n",
       "            </div>\n",
       "            "
      ],
      "text/plain": [
       "<tskit.trees.TreeSequence at 0x12fb10d50>"
      ]
     },
     "execution_count": 12,
     "metadata": {},
     "output_type": "execute_result"
    }
   ],
   "source": [
    "tsi = tsinfer.infer(sample_data, recombination_rate=1e-8)\n",
    "tsi"
   ]
  },
  {
   "cell_type": "markdown",
   "metadata": {},
   "source": [
    "Let's have a look at the inferred trees. How do they compare with the real one?"
   ]
  },
  {
   "cell_type": "code",
   "execution_count": 13,
   "metadata": {
    "scrolled": false
   },
   "outputs": [
    {
     "data": {
      "image/svg+xml": [
       "<svg baseProfile=\"full\" height=\"200\" version=\"1.1\" width=\"600\" xmlns=\"http://www.w3.org/2000/svg\" xmlns:ev=\"http://www.w3.org/2001/xml-events\" xmlns:xlink=\"http://www.w3.org/1999/xlink\"><defs><style type=\"text/css\"><![CDATA[.background path {fill: #808080; fill-opacity: 0}.background path:nth-child(odd) {fill-opacity: .1}.axes {font-size: 14px}.x-axis .tick .lab {font-weight: bold; dominant-baseline: hanging}.axes, .tree {font-size: 14px; text-anchor: middle}.axes line, .edge {stroke: black; fill: none}.y-axis .grid {stroke: #FAFAFA}.node > .sym {fill: black; stroke: none}.site > .sym {stroke: black}.mut text {fill: red; font-style: italic}.mut.extra text {fill: hotpink}.mut line {fill: none; stroke: none}.mut .sym {fill: none; stroke: red}.mut.extra .sym {stroke: hotpink}.node .mut .sym {stroke-width: 1.5px}.tree text, .tree-sequence text {dominant-baseline: central}.plotbox .lab.lft {text-anchor: end}.plotbox .lab.rgt {text-anchor: start}]]></style></defs><g class=\"tree-sequence\"><g class=\"background\"><path d=\"M20,0 l186.667,0 l0,138.2 l-27.8955,25 l0,5 l-158.771,0 l0,-5 l0,-25 l0,-138.2z\"/><path d=\"M206.667,0 l186.667,0 l0,138.2 l-7.42933,25 l0,5 l-207.133,0 l0,-5 l27.8955,-25 l0,-138.2z\"/><path d=\"M393.333,0 l186.667,0 l0,138.2 l0,25 l0,5 l-194.096,0 l0,-5 l7.42933,-25 l0,-138.2z\"/></g><g class=\"axes\"><g class=\"x-axis\"><g transform=\"translate(300 200)\"><text class=\"lab\" text-anchor=\"middle\" transform=\"translate(0 -11)\">Genome position</text></g><line x1=\"20\" x2=\"580\" y1=\"163.2\" y2=\"163.2\"/><g class=\"ticks\"><g class=\"tick\" transform=\"translate(20 163.2)\"><line x1=\"0\" x2=\"0\" y1=\"0\" y2=\"5\"/><g transform=\"translate(0 6)\"><text class=\"lab\">0</text></g></g><g class=\"tick\" transform=\"translate(178.771 163.2)\"><line x1=\"0\" x2=\"0\" y1=\"0\" y2=\"5\"/><g transform=\"translate(0 6)\"><text class=\"lab\">14176</text></g></g><g class=\"tick\" transform=\"translate(385.904 163.2)\"><line x1=\"0\" x2=\"0\" y1=\"0\" y2=\"5\"/><g transform=\"translate(0 6)\"><text class=\"lab\">32670</text></g></g><g class=\"tick\" transform=\"translate(580 163.2)\"><line x1=\"0\" x2=\"0\" y1=\"0\" y2=\"5\"/><g transform=\"translate(0 6)\"><text class=\"lab\">50000</text></g></g></g><g class=\"site s0\" transform=\"translate(71.632 163.2)\"><line class=\"sym\" x1=\"0\" x2=\"0\" y1=\"0\" y2=\"-10\"/><g class=\"mut m1\"><polyline class=\"sym\" points=\"2.5,-6.5 0,-1.5 -2.5,-6.5\"/></g><g class=\"mut m0\"><polyline class=\"sym\" points=\"2.5,-10.5 0,-5.5 -2.5,-10.5\"/></g></g><g class=\"site s1\" transform=\"translate(76.2576 163.2)\"><line class=\"sym\" x1=\"0\" x2=\"0\" y1=\"0\" y2=\"-10\"/><g class=\"mut m2\"><polyline class=\"sym\" points=\"2.5,-6.5 0,-1.5 -2.5,-6.5\"/></g></g><g class=\"site s2\" transform=\"translate(90.3248 163.2)\"><line class=\"sym\" x1=\"0\" x2=\"0\" y1=\"0\" y2=\"-10\"/><g class=\"mut m3\"><polyline class=\"sym\" points=\"2.5,-6.5 0,-1.5 -2.5,-6.5\"/></g></g><g class=\"site s3\" transform=\"translate(101.402 163.2)\"><line class=\"sym\" x1=\"0\" x2=\"0\" y1=\"0\" y2=\"-10\"/><g class=\"mut m4\"><polyline class=\"sym\" points=\"2.5,-6.5 0,-1.5 -2.5,-6.5\"/></g></g><g class=\"site s4\" transform=\"translate(101.659 163.2)\"><line class=\"sym\" x1=\"0\" x2=\"0\" y1=\"0\" y2=\"-10\"/><g class=\"mut m5\"><polyline class=\"sym\" points=\"2.5,-6.5 0,-1.5 -2.5,-6.5\"/></g></g><g class=\"site s5\" transform=\"translate(136.054 163.2)\"><line class=\"sym\" x1=\"0\" x2=\"0\" y1=\"0\" y2=\"-10\"/><g class=\"mut m6\"><polyline class=\"sym\" points=\"2.5,-6.5 0,-1.5 -2.5,-6.5\"/></g></g><g class=\"site s6\" transform=\"translate(178.771 163.2)\"><line class=\"sym\" x1=\"0\" x2=\"0\" y1=\"0\" y2=\"-10\"/><g class=\"mut m7\"><polyline class=\"sym\" points=\"2.5,-6.5 0,-1.5 -2.5,-6.5\"/></g></g><g class=\"site s7\" transform=\"translate(226.36 163.2)\"><line class=\"sym\" x1=\"0\" x2=\"0\" y1=\"0\" y2=\"-10\"/><g class=\"mut m8\"><polyline class=\"sym\" points=\"2.5,-6.5 0,-1.5 -2.5,-6.5\"/></g></g><g class=\"site s8\" transform=\"translate(231.669 163.2)\"><line class=\"sym\" x1=\"0\" x2=\"0\" y1=\"0\" y2=\"-10\"/><g class=\"mut m9\"><polyline class=\"sym\" points=\"2.5,-6.5 0,-1.5 -2.5,-6.5\"/></g></g><g class=\"site s9\" transform=\"translate(273.77 163.2)\"><line class=\"sym\" x1=\"0\" x2=\"0\" y1=\"0\" y2=\"-10\"/><g class=\"mut m10\"><polyline class=\"sym\" points=\"2.5,-6.5 0,-1.5 -2.5,-6.5\"/></g></g><g class=\"site s10\" transform=\"translate(385.904 163.2)\"><line class=\"sym\" x1=\"0\" x2=\"0\" y1=\"0\" y2=\"-10\"/><g class=\"mut m11\"><polyline class=\"sym\" points=\"2.5,-6.5 0,-1.5 -2.5,-6.5\"/></g></g><g class=\"site s11\" transform=\"translate(408.147 163.2)\"><line class=\"sym\" x1=\"0\" x2=\"0\" y1=\"0\" y2=\"-10\"/><g class=\"mut m12\"><polyline class=\"sym\" points=\"2.5,-6.5 0,-1.5 -2.5,-6.5\"/></g></g><g class=\"site s12\" transform=\"translate(425.787 163.2)\"><line class=\"sym\" x1=\"0\" x2=\"0\" y1=\"0\" y2=\"-10\"/><g class=\"mut m13\"><polyline class=\"sym\" points=\"2.5,-6.5 0,-1.5 -2.5,-6.5\"/></g></g><g class=\"site s13\" transform=\"translate(440.974 163.2)\"><line class=\"sym\" x1=\"0\" x2=\"0\" y1=\"0\" y2=\"-10\"/><g class=\"mut m14\"><polyline class=\"sym\" points=\"2.5,-6.5 0,-1.5 -2.5,-6.5\"/></g></g><g class=\"site s14\" transform=\"translate(448.859 163.2)\"><line class=\"sym\" x1=\"0\" x2=\"0\" y1=\"0\" y2=\"-10\"/><g class=\"mut m15\"><polyline class=\"sym\" points=\"2.5,-6.5 0,-1.5 -2.5,-6.5\"/></g></g><g class=\"site s15\" transform=\"translate(464.562 163.2)\"><line class=\"sym\" x1=\"0\" x2=\"0\" y1=\"0\" y2=\"-10\"/><g class=\"mut m16\"><polyline class=\"sym\" points=\"2.5,-6.5 0,-1.5 -2.5,-6.5\"/></g></g><g class=\"site s16\" transform=\"translate(493.099 163.2)\"><line class=\"sym\" x1=\"0\" x2=\"0\" y1=\"0\" y2=\"-10\"/><g class=\"mut m17\"><polyline class=\"sym\" points=\"2.5,-6.5 0,-1.5 -2.5,-6.5\"/></g></g><g class=\"site s17\" transform=\"translate(521.917 163.2)\"><line class=\"sym\" x1=\"0\" x2=\"0\" y1=\"0\" y2=\"-10\"/><g class=\"mut m18\"><polyline class=\"sym\" points=\"2.5,-6.5 0,-1.5 -2.5,-6.5\"/></g></g><g class=\"site s18\" transform=\"translate(529.062 163.2)\"><line class=\"sym\" x1=\"0\" x2=\"0\" y1=\"0\" y2=\"-10\"/><g class=\"mut m19\"><polyline class=\"sym\" points=\"2.5,-6.5 0,-1.5 -2.5,-6.5\"/></g></g><g class=\"site s19\" transform=\"translate(565.238 163.2)\"><line class=\"sym\" x1=\"0\" x2=\"0\" y1=\"0\" y2=\"-10\"/><g class=\"mut m20\"><polyline class=\"sym\" points=\"2.5,-6.5 0,-1.5 -2.5,-6.5\"/></g></g></g></g><g class=\"plotbox trees\"><g class=\"tree t0\" transform=\"translate(20 0)\"><g class=\"plotbox\"><g class=\"c1 node n13 root\" transform=\"translate(108.611 26.8)\"><g class=\"a13 c1 node n12\" transform=\"translate(0.0 15.7667)\"><g class=\"a12 c1 node n11\" transform=\"translate(0.0 15.7667)\"><g class=\"a11 c2 m0 node n10 s0\" transform=\"translate(0.0 12.6133)\"><g class=\"a10 c2 node n6\" transform=\"translate(33.6111 25.2267)\"><g class=\"a6 i2 leaf node n2 sample\" transform=\"translate(-12.2222 25.2267)\"><path class=\"edge\" d=\"M 0 0 V -25.2267 H 12.2222\"/><rect class=\"sym\" height=\"6\" width=\"6\" x=\"-3\" y=\"-3\"/><text class=\"lab\" transform=\"translate(0 11)\">2</text></g><g class=\"a6 i5 leaf m3 m6 node n5 s2 s5 sample\" transform=\"translate(12.2222 25.2267)\"><path class=\"edge\" d=\"M 0 0 V -25.2267 H -12.2222\"/><g class=\"mut m3 s2 unknown_time\" transform=\"translate(0 -16.8178)\"><line x1=\"0\" x2=\"0\" y1=\"0\" y2=\"16.8178\"/><path class=\"sym\" d=\"M -3,-3 l 6,6 M -3,3 l 6,-6\"/><text class=\"lab rgt\" transform=\"translate(5 0)\">3</text></g><g class=\"mut m6 s5 unknown_time\" transform=\"translate(0 -8.40889)\"><line x1=\"0\" x2=\"0\" y1=\"0\" y2=\"8.40889\"/><path class=\"sym\" d=\"M -3,-3 l 6,6 M -3,3 l 6,-6\"/><text class=\"lab rgt\" transform=\"translate(5 0)\">6</text></g><rect class=\"sym\" height=\"6\" width=\"6\" x=\"-3\" y=\"-3\"/><text class=\"lab\" transform=\"translate(0 11)\">5</text></g><path class=\"edge\" d=\"M 0 0 V -25.2267 H -33.6111\"/><circle class=\"sym\" cx=\"0\" cy=\"0\" r=\"3\"/><text class=\"lab rgt\" transform=\"translate(3 -7.0)\">6</text></g><g class=\"a10 c3 node n9\" transform=\"translate(-33.6111 12.6133)\"><g class=\"a9 i3 leaf m4 node n3 s3 sample\" transform=\"translate(6.11111 37.84)\"><path class=\"edge\" d=\"M 0 0 V -37.84 H -6.11111\"/><g class=\"mut m4 s3 unknown_time\" transform=\"translate(0 -18.92)\"><line x1=\"0\" x2=\"0\" y1=\"0\" y2=\"18.92\"/><path class=\"sym\" d=\"M -3,-3 l 6,6 M -3,3 l 6,-6\"/><text class=\"lab rgt\" transform=\"translate(5 0)\">4</text></g><rect class=\"sym\" height=\"6\" width=\"6\" x=\"-3\" y=\"-3\"/><text class=\"lab\" transform=\"translate(0 11)\">3</text></g><g class=\"a9 c1 node n7\" transform=\"translate(30.5556 12.6133)\"><g class=\"a7 i4 leaf node n4 sample\" transform=\"translate(0.0 25.2267)\"><path class=\"edge\" d=\"M 0 0 V -25.2267 H 0.0\"/><rect class=\"sym\" height=\"6\" width=\"6\" x=\"-3\" y=\"-3\"/><text class=\"lab\" transform=\"translate(0 11)\">4</text></g><path class=\"edge\" d=\"M 0 0 V -12.6133 H -30.5556\"/><circle class=\"sym\" cx=\"0\" cy=\"0\" r=\"3\"/><text class=\"lab rgt\" transform=\"translate(3 -7.0)\">7</text></g><g class=\"a9 c2 m1 m2 m5 node n8 s0 s1 s4\" transform=\"translate(-30.5556 12.6133)\"><g class=\"a8 i0 leaf node n0 sample\" transform=\"translate(-12.2222 25.2267)\"><path class=\"edge\" d=\"M 0 0 V -25.2267 H 12.2222\"/><rect class=\"sym\" height=\"6\" width=\"6\" x=\"-3\" y=\"-3\"/><text class=\"lab\" transform=\"translate(0 11)\">0</text></g><g class=\"a8 i1 leaf node n1 sample\" transform=\"translate(12.2222 25.2267)\"><path class=\"edge\" d=\"M 0 0 V -25.2267 H -12.2222\"/><rect class=\"sym\" height=\"6\" width=\"6\" x=\"-3\" y=\"-3\"/><text class=\"lab\" transform=\"translate(0 11)\">1</text></g><path class=\"edge\" d=\"M 0 0 V -12.6133 H 30.5556\"/><g class=\"mut m1 s0 unknown_time\" transform=\"translate(0 -9.46)\"><line x1=\"0\" x2=\"0\" y1=\"0\" y2=\"9.46\"/><path class=\"sym\" d=\"M -3,-3 l 6,6 M -3,3 l 6,-6\"/><text class=\"lab lft\" transform=\"translate(-5 0)\">1</text></g><g class=\"mut m2 s1 unknown_time\" transform=\"translate(0 -6.30667)\"><line x1=\"0\" x2=\"0\" y1=\"0\" y2=\"6.30667\"/><path class=\"sym\" d=\"M -3,-3 l 6,6 M -3,3 l 6,-6\"/><text class=\"lab lft\" transform=\"translate(-5 0)\">2</text></g><g class=\"mut m5 s4 unknown_time\" transform=\"translate(0 -3.15333)\"><line x1=\"0\" x2=\"0\" y1=\"0\" y2=\"3.15333\"/><path class=\"sym\" d=\"M -3,-3 l 6,6 M -3,3 l 6,-6\"/><text class=\"lab lft\" transform=\"translate(-5 0)\">5</text></g><circle class=\"sym\" cx=\"0\" cy=\"0\" r=\"3\"/><text class=\"lab lft\" transform=\"translate(-3 -7.0)\">8</text></g><path class=\"edge\" d=\"M 0 0 V -12.6133 H 33.6111\"/><circle class=\"sym\" cx=\"0\" cy=\"0\" r=\"3\"/><text class=\"lab lft\" transform=\"translate(-3 -7.0)\">9</text></g><path class=\"edge\" d=\"M 0 0 V -12.6133 H 0.0\"/><g class=\"mut m0 s0 unknown_time\" transform=\"translate(0 -6.30667)\"><line x1=\"0\" x2=\"0\" y1=\"0\" y2=\"6.30667\"/><path class=\"sym\" d=\"M -3,-3 l 6,6 M -3,3 l 6,-6\"/><text class=\"lab lft\" transform=\"translate(-5 0)\">0</text></g><circle class=\"sym\" cx=\"0\" cy=\"0\" r=\"3\"/><text class=\"lab lft\" transform=\"translate(-3 -7.0)\">10</text></g><path class=\"edge\" d=\"M 0 0 V -15.7667 H 0.0\"/><circle class=\"sym\" cx=\"0\" cy=\"0\" r=\"3\"/><text class=\"lab lft\" transform=\"translate(-3 -7.0)\">11</text></g><path class=\"edge\" d=\"M 0 0 V -15.7667 H 0.0\"/><circle class=\"sym\" cx=\"0\" cy=\"0\" r=\"3\"/><text class=\"lab lft\" transform=\"translate(-3 -7.0)\">12</text></g><circle class=\"sym\" cx=\"0\" cy=\"0\" r=\"3\"/><text class=\"lab\" transform=\"translate(0 -11)\">13</text></g></g></g><g class=\"tree t1\" transform=\"translate(206.667 0)\"><g class=\"plotbox\"><g class=\"c1 node n13 root\" transform=\"translate(120.833 26.8)\"><g class=\"a13 c2 node n12\" transform=\"translate(0.0 15.7667)\"><g class=\"a12 c1 m9 node n11 s8\" transform=\"translate(-33.6111 15.7667)\"><g class=\"a11 c2 node n10\" transform=\"translate(0.0 12.6133)\"><g class=\"a10 c2 node n6\" transform=\"translate(30.5556 25.2267)\"><g class=\"a6 i2 leaf node n2 sample\" transform=\"translate(-12.2222 25.2267)\"><path class=\"edge\" d=\"M 0 0 V -25.2267 H 12.2222\"/><rect class=\"sym\" height=\"6\" width=\"6\" x=\"-3\" y=\"-3\"/><text class=\"lab\" transform=\"translate(0 11)\">2</text></g><g class=\"a6 i5 leaf node n5 sample\" transform=\"translate(12.2222 25.2267)\"><path class=\"edge\" d=\"M 0 0 V -25.2267 H -12.2222\"/><rect class=\"sym\" height=\"6\" width=\"6\" x=\"-3\" y=\"-3\"/><text class=\"lab\" transform=\"translate(0 11)\">5</text></g><path class=\"edge\" d=\"M 0 0 V -25.2267 H -30.5556\"/><circle class=\"sym\" cx=\"0\" cy=\"0\" r=\"3\"/><text class=\"lab rgt\" transform=\"translate(3 -7.0)\">6</text></g><g class=\"a10 c3 m7 node n9 s6\" transform=\"translate(-30.5556 12.6133)\"><g class=\"a9 i3 leaf m10 node n3 s9 sample\" transform=\"translate(-7.10543e-15 37.84)\"><path class=\"edge\" d=\"M 0 0 V -37.84 H 7.10543e-15\"/><g class=\"mut m10 s9 unknown_time\" transform=\"translate(0 -18.92)\"><line x1=\"0\" x2=\"0\" y1=\"0\" y2=\"18.92\"/><path class=\"sym\" d=\"M -3,-3 l 6,6 M -3,3 l 6,-6\"/><text class=\"lab rgt\" transform=\"translate(5 0)\">10</text></g><rect class=\"sym\" height=\"6\" width=\"6\" x=\"-3\" y=\"-3\"/><text class=\"lab\" transform=\"translate(0 11)\">3</text></g><g class=\"a9 c1 node n7\" transform=\"translate(24.4444 12.6133)\"><g class=\"a7 i4 leaf node n4 sample\" transform=\"translate(0.0 25.2267)\"><path class=\"edge\" d=\"M 0 0 V -25.2267 H 0.0\"/><rect class=\"sym\" height=\"6\" width=\"6\" x=\"-3\" y=\"-3\"/><text class=\"lab\" transform=\"translate(0 11)\">4</text></g><path class=\"edge\" d=\"M 0 0 V -12.6133 H -24.4444\"/><circle class=\"sym\" cx=\"0\" cy=\"0\" r=\"3\"/><text class=\"lab rgt\" transform=\"translate(3 -7.0)\">7</text></g><g class=\"a9 c1 node n8\" transform=\"translate(-24.4444 12.6133)\"><g class=\"a8 i0 leaf node n0 sample\" transform=\"translate(0.0 25.2267)\"><path class=\"edge\" d=\"M 0 0 V -25.2267 H 0.0\"/><rect class=\"sym\" height=\"6\" width=\"6\" x=\"-3\" y=\"-3\"/><text class=\"lab\" transform=\"translate(0 11)\">0</text></g><path class=\"edge\" d=\"M 0 0 V -12.6133 H 24.4444\"/><circle class=\"sym\" cx=\"0\" cy=\"0\" r=\"3\"/><text class=\"lab lft\" transform=\"translate(-3 -7.0)\">8</text></g><path class=\"edge\" d=\"M 0 0 V -12.6133 H 30.5556\"/><g class=\"mut m7 s6 unknown_time\" transform=\"translate(0 -6.30667)\"><line x1=\"0\" x2=\"0\" y1=\"0\" y2=\"6.30667\"/><path class=\"sym\" d=\"M -3,-3 l 6,6 M -3,3 l 6,-6\"/><text class=\"lab lft\" transform=\"translate(-5 0)\">7</text></g><circle class=\"sym\" cx=\"0\" cy=\"0\" r=\"3\"/><text class=\"lab lft\" transform=\"translate(-3 -7.0)\">9</text></g><path class=\"edge\" d=\"M 0 0 V -12.6133 H 0.0\"/><circle class=\"sym\" cx=\"0\" cy=\"0\" r=\"3\"/><text class=\"lab lft\" transform=\"translate(-3 -7.0)\">10</text></g><path class=\"edge\" d=\"M 0 0 V -15.7667 H 33.6111\"/><g class=\"mut m9 s8 unknown_time\" transform=\"translate(0 -7.88333)\"><line x1=\"0\" x2=\"0\" y1=\"0\" y2=\"7.88333\"/><path class=\"sym\" d=\"M -3,-3 l 6,6 M -3,3 l 6,-6\"/><text class=\"lab lft\" transform=\"translate(-5 0)\">9</text></g><circle class=\"sym\" cx=\"0\" cy=\"0\" r=\"3\"/><text class=\"lab lft\" transform=\"translate(-3 -7.0)\">11</text></g><g class=\"a12 i1 leaf m8 node n1 s7 sample\" transform=\"translate(33.6111 78.8333)\"><path class=\"edge\" d=\"M 0 0 V -78.8333 H -33.6111\"/><g class=\"mut m8 s7 unknown_time\" transform=\"translate(0 -39.4167)\"><line x1=\"0\" x2=\"0\" y1=\"0\" y2=\"39.4167\"/><path class=\"sym\" d=\"M -3,-3 l 6,6 M -3,3 l 6,-6\"/><text class=\"lab rgt\" transform=\"translate(5 0)\">8</text></g><rect class=\"sym\" height=\"6\" width=\"6\" x=\"-3\" y=\"-3\"/><text class=\"lab\" transform=\"translate(0 11)\">1</text></g><path class=\"edge\" d=\"M 0 0 V -15.7667 H 0.0\"/><circle class=\"sym\" cx=\"0\" cy=\"0\" r=\"3\"/><text class=\"lab lft\" transform=\"translate(-3 -7.0)\">12</text></g><circle class=\"sym\" cx=\"0\" cy=\"0\" r=\"3\"/><text class=\"lab\" transform=\"translate(0 -11)\">13</text></g></g></g><g class=\"tree t2\" transform=\"translate(393.333 0)\"><g class=\"plotbox\"><g class=\"c1 node n13 root\" transform=\"translate(122.361 26.8)\"><g class=\"a13 c2 node n12\" transform=\"translate(0.0 15.7667)\"><g class=\"a12 c1 m11 node n11 s10\" transform=\"translate(-32.0833 15.7667)\"><g class=\"a11 c2 node n10\" transform=\"translate(0.0 12.6133)\"><g class=\"a10 c2 m15 m20 node n6 s14 s19\" transform=\"translate(27.5 25.2267)\"><g class=\"a6 i2 leaf node n2 sample\" transform=\"translate(-12.2222 25.2267)\"><path class=\"edge\" d=\"M 0 0 V -25.2267 H 12.2222\"/><rect class=\"sym\" height=\"6\" width=\"6\" x=\"-3\" y=\"-3\"/><text class=\"lab\" transform=\"translate(0 11)\">2</text></g><g class=\"a6 i5 leaf m18 node n5 s17 sample\" transform=\"translate(12.2222 25.2267)\"><path class=\"edge\" d=\"M 0 0 V -25.2267 H -12.2222\"/><g class=\"mut m18 s17 unknown_time\" transform=\"translate(0 -12.6133)\"><line x1=\"0\" x2=\"0\" y1=\"0\" y2=\"12.6133\"/><path class=\"sym\" d=\"M -3,-3 l 6,6 M -3,3 l 6,-6\"/><text class=\"lab rgt\" transform=\"translate(5 0)\">18</text></g><rect class=\"sym\" height=\"6\" width=\"6\" x=\"-3\" y=\"-3\"/><text class=\"lab\" transform=\"translate(0 11)\">5</text></g><path class=\"edge\" d=\"M 0 0 V -25.2267 H -27.5\"/><g class=\"mut m15 s14 unknown_time\" transform=\"translate(0 -16.8178)\"><line x1=\"0\" x2=\"0\" y1=\"0\" y2=\"16.8178\"/><path class=\"sym\" d=\"M -3,-3 l 6,6 M -3,3 l 6,-6\"/><text class=\"lab rgt\" transform=\"translate(5 0)\">15</text></g><g class=\"mut m20 s19 unknown_time\" transform=\"translate(0 -8.40889)\"><line x1=\"0\" x2=\"0\" y1=\"0\" y2=\"8.40889\"/><path class=\"sym\" d=\"M -3,-3 l 6,6 M -3,3 l 6,-6\"/><text class=\"lab rgt\" transform=\"translate(5 0)\">20</text></g><circle class=\"sym\" cx=\"0\" cy=\"0\" r=\"3\"/><text class=\"lab rgt\" transform=\"translate(3 -7.0)\">6</text></g><g class=\"a10 c2 m12 node n9 s11\" transform=\"translate(-27.5 12.6133)\"><g class=\"a9 i3 leaf node n3 sample\" transform=\"translate(18.3333 37.84)\"><path class=\"edge\" d=\"M 0 0 V -37.84 H -18.3333\"/><rect class=\"sym\" height=\"6\" width=\"6\" x=\"-3\" y=\"-3\"/><text class=\"lab\" transform=\"translate(0 11)\">3</text></g><g class=\"a9 c2 m13 node n7 s12\" transform=\"translate(-18.3333 12.6133)\"><g class=\"a7 i4 leaf node n4 sample\" transform=\"translate(12.2222 25.2267)\"><path class=\"edge\" d=\"M 0 0 V -25.2267 H -12.2222\"/><rect class=\"sym\" height=\"6\" width=\"6\" x=\"-3\" y=\"-3\"/><text class=\"lab\" transform=\"translate(0 11)\">4</text></g><g class=\"a7 i0 leaf m14 node n0 s13 sample\" transform=\"translate(-12.2222 25.2267)\"><path class=\"edge\" d=\"M 0 0 V -25.2267 H 12.2222\"/><g class=\"mut m14 s13 unknown_time\" transform=\"translate(0 -12.6133)\"><line x1=\"0\" x2=\"0\" y1=\"0\" y2=\"12.6133\"/><path class=\"sym\" d=\"M -3,-3 l 6,6 M -3,3 l 6,-6\"/><text class=\"lab lft\" transform=\"translate(-5 0)\">14</text></g><rect class=\"sym\" height=\"6\" width=\"6\" x=\"-3\" y=\"-3\"/><text class=\"lab\" transform=\"translate(0 11)\">0</text></g><path class=\"edge\" d=\"M 0 0 V -12.6133 H 18.3333\"/><g class=\"mut m13 s12 unknown_time\" transform=\"translate(0 -6.30667)\"><line x1=\"0\" x2=\"0\" y1=\"0\" y2=\"6.30667\"/><path class=\"sym\" d=\"M -3,-3 l 6,6 M -3,3 l 6,-6\"/><text class=\"lab lft\" transform=\"translate(-5 0)\">13</text></g><circle class=\"sym\" cx=\"0\" cy=\"0\" r=\"3\"/><text class=\"lab lft\" transform=\"translate(-3 -7.0)\">7</text></g><path class=\"edge\" d=\"M 0 0 V -12.6133 H 27.5\"/><g class=\"mut m12 s11 unknown_time\" transform=\"translate(0 -6.30667)\"><line x1=\"0\" x2=\"0\" y1=\"0\" y2=\"6.30667\"/><path class=\"sym\" d=\"M -3,-3 l 6,6 M -3,3 l 6,-6\"/><text class=\"lab lft\" transform=\"translate(-5 0)\">12</text></g><circle class=\"sym\" cx=\"0\" cy=\"0\" r=\"3\"/><text class=\"lab lft\" transform=\"translate(-3 -7.0)\">9</text></g><path class=\"edge\" d=\"M 0 0 V -12.6133 H 0.0\"/><circle class=\"sym\" cx=\"0\" cy=\"0\" r=\"3\"/><text class=\"lab lft\" transform=\"translate(-3 -7.0)\">10</text></g><path class=\"edge\" d=\"M 0 0 V -15.7667 H 32.0833\"/><g class=\"mut m11 s10 unknown_time\" transform=\"translate(0 -7.88333)\"><line x1=\"0\" x2=\"0\" y1=\"0\" y2=\"7.88333\"/><path class=\"sym\" d=\"M -3,-3 l 6,6 M -3,3 l 6,-6\"/><text class=\"lab lft\" transform=\"translate(-5 0)\">11</text></g><circle class=\"sym\" cx=\"0\" cy=\"0\" r=\"3\"/><text class=\"lab lft\" transform=\"translate(-3 -7.0)\">11</text></g><g class=\"a12 i1 leaf m16 m17 m19 node n1 s15 s16 s18 sample\" transform=\"translate(32.0833 78.8333)\"><path class=\"edge\" d=\"M 0 0 V -78.8333 H -32.0833\"/><g class=\"mut m16 s15 unknown_time\" transform=\"translate(0 -59.125)\"><line x1=\"0\" x2=\"0\" y1=\"0\" y2=\"59.125\"/><path class=\"sym\" d=\"M -3,-3 l 6,6 M -3,3 l 6,-6\"/><text class=\"lab rgt\" transform=\"translate(5 0)\">16</text></g><g class=\"mut m17 s16 unknown_time\" transform=\"translate(0 -39.4167)\"><line x1=\"0\" x2=\"0\" y1=\"0\" y2=\"39.4167\"/><path class=\"sym\" d=\"M -3,-3 l 6,6 M -3,3 l 6,-6\"/><text class=\"lab rgt\" transform=\"translate(5 0)\">17</text></g><g class=\"mut m19 s18 unknown_time\" transform=\"translate(0 -19.7083)\"><line x1=\"0\" x2=\"0\" y1=\"0\" y2=\"19.7083\"/><path class=\"sym\" d=\"M -3,-3 l 6,6 M -3,3 l 6,-6\"/><text class=\"lab rgt\" transform=\"translate(5 0)\">19</text></g><rect class=\"sym\" height=\"6\" width=\"6\" x=\"-3\" y=\"-3\"/><text class=\"lab\" transform=\"translate(0 11)\">1</text></g><path class=\"edge\" d=\"M 0 0 V -15.7667 H 0.0\"/><circle class=\"sym\" cx=\"0\" cy=\"0\" r=\"3\"/><text class=\"lab lft\" transform=\"translate(-3 -7.0)\">12</text></g><circle class=\"sym\" cx=\"0\" cy=\"0\" r=\"3\"/><text class=\"lab\" transform=\"translate(0 -11)\">13</text></g></g></g></g></g></svg>"
      ],
      "text/plain": [
       "<IPython.core.display.SVG object>"
      ]
     },
     "execution_count": 13,
     "metadata": {},
     "output_type": "execute_result"
    }
   ],
   "source": [
    "SVG(tsi.draw_svg())"
   ]
  },
  {
   "cell_type": "code",
   "execution_count": 14,
   "metadata": {},
   "outputs": [
    {
     "data": {
      "image/svg+xml": [
       "<svg baseProfile=\"full\" height=\"200\" version=\"1.1\" width=\"400\" xmlns=\"http://www.w3.org/2000/svg\" xmlns:ev=\"http://www.w3.org/2001/xml-events\" xmlns:xlink=\"http://www.w3.org/1999/xlink\"><defs><style type=\"text/css\"><![CDATA[.background path {fill: #808080; fill-opacity: 0}.background path:nth-child(odd) {fill-opacity: .1}.axes {font-size: 14px}.x-axis .tick .lab {font-weight: bold; dominant-baseline: hanging}.axes, .tree {font-size: 14px; text-anchor: middle}.axes line, .edge {stroke: black; fill: none}.y-axis .grid {stroke: #FAFAFA}.node > .sym {fill: black; stroke: none}.site > .sym {stroke: black}.mut text {fill: red; font-style: italic}.mut.extra text {fill: hotpink}.mut line {fill: none; stroke: none}.mut .sym {fill: none; stroke: red}.mut.extra .sym {stroke: hotpink}.node .mut .sym {stroke-width: 1.5px}.tree text, .tree-sequence text {dominant-baseline: central}.plotbox .lab.lft {text-anchor: end}.plotbox .lab.rgt {text-anchor: start}]]></style></defs><g class=\"tree-sequence\"><g class=\"background\"><path d=\"M20,0 l180,0 l0,138.2 l-126.209,25 l0,5 l-53.7912,0 l0,-5 l0,-25 l0,-138.2z\"/><path d=\"M200,0 l180,0 l0,138.2 l0,25 l0,5 l-306.209,0 l0,-5 l126.209,-25 l0,-138.2z\"/></g><g class=\"axes\"><g class=\"x-axis\"><g transform=\"translate(200 200)\"><text class=\"lab\" text-anchor=\"middle\" transform=\"translate(0 -11)\">Genome position</text></g><line x1=\"20\" x2=\"380\" y1=\"163.2\" y2=\"163.2\"/><g class=\"ticks\"><g class=\"tick\" transform=\"translate(20 163.2)\"><line x1=\"0\" x2=\"0\" y1=\"0\" y2=\"5\"/><g transform=\"translate(0 6)\"><text class=\"lab\">0</text></g></g><g class=\"tick\" transform=\"translate(73.7912 163.2)\"><line x1=\"0\" x2=\"0\" y1=\"0\" y2=\"5\"/><g transform=\"translate(0 6)\"><text class=\"lab\">7471</text></g></g><g class=\"tick\" transform=\"translate(380 163.2)\"><line x1=\"0\" x2=\"0\" y1=\"0\" y2=\"5\"/><g transform=\"translate(0 6)\"><text class=\"lab\">50000</text></g></g></g><g class=\"site s0\" transform=\"translate(53.192 163.2)\"><line class=\"sym\" x1=\"0\" x2=\"0\" y1=\"0\" y2=\"-10\"/><g class=\"mut m0\"><polyline class=\"sym\" points=\"2.5,-6.5 0,-1.5 -2.5,-6.5\"/></g></g><g class=\"site s1\" transform=\"translate(56.1656 163.2)\"><line class=\"sym\" x1=\"0\" x2=\"0\" y1=\"0\" y2=\"-10\"/><g class=\"mut m1\"><polyline class=\"sym\" points=\"2.5,-6.5 0,-1.5 -2.5,-6.5\"/></g></g><g class=\"site s2\" transform=\"translate(65.2088 163.2)\"><line class=\"sym\" x1=\"0\" x2=\"0\" y1=\"0\" y2=\"-10\"/><g class=\"mut m2\"><polyline class=\"sym\" points=\"2.5,-6.5 0,-1.5 -2.5,-6.5\"/></g></g><g class=\"site s3\" transform=\"translate(72.3296 163.2)\"><line class=\"sym\" x1=\"0\" x2=\"0\" y1=\"0\" y2=\"-10\"/><g class=\"mut m3\"><polyline class=\"sym\" points=\"2.5,-6.5 0,-1.5 -2.5,-6.5\"/></g></g><g class=\"site s4\" transform=\"translate(72.4952 163.2)\"><line class=\"sym\" x1=\"0\" x2=\"0\" y1=\"0\" y2=\"-10\"/><g class=\"mut m4\"><polyline class=\"sym\" points=\"2.5,-6.5 0,-1.5 -2.5,-6.5\"/></g></g><g class=\"site s5\" transform=\"translate(94.6064 163.2)\"><line class=\"sym\" x1=\"0\" x2=\"0\" y1=\"0\" y2=\"-10\"/><g class=\"mut m5\"><polyline class=\"sym\" points=\"2.5,-6.5 0,-1.5 -2.5,-6.5\"/></g></g><g class=\"site s6\" transform=\"translate(122.067 163.2)\"><line class=\"sym\" x1=\"0\" x2=\"0\" y1=\"0\" y2=\"-10\"/><g class=\"mut m6\"><polyline class=\"sym\" points=\"2.5,-6.5 0,-1.5 -2.5,-6.5\"/></g></g><g class=\"site s7\" transform=\"translate(152.66 163.2)\"><line class=\"sym\" x1=\"0\" x2=\"0\" y1=\"0\" y2=\"-10\"/><g class=\"mut m7\"><polyline class=\"sym\" points=\"2.5,-6.5 0,-1.5 -2.5,-6.5\"/></g></g><g class=\"site s8\" transform=\"translate(156.073 163.2)\"><line class=\"sym\" x1=\"0\" x2=\"0\" y1=\"0\" y2=\"-10\"/><g class=\"mut m8\"><polyline class=\"sym\" points=\"2.5,-6.5 0,-1.5 -2.5,-6.5\"/></g></g><g class=\"site s9\" transform=\"translate(183.138 163.2)\"><line class=\"sym\" x1=\"0\" x2=\"0\" y1=\"0\" y2=\"-10\"/><g class=\"mut m9\"><polyline class=\"sym\" points=\"2.5,-6.5 0,-1.5 -2.5,-6.5\"/></g></g><g class=\"site s10\" transform=\"translate(255.224 163.2)\"><line class=\"sym\" x1=\"0\" x2=\"0\" y1=\"0\" y2=\"-10\"/><g class=\"mut m10\"><polyline class=\"sym\" points=\"2.5,-6.5 0,-1.5 -2.5,-6.5\"/></g></g><g class=\"site s11\" transform=\"translate(269.523 163.2)\"><line class=\"sym\" x1=\"0\" x2=\"0\" y1=\"0\" y2=\"-10\"/><g class=\"mut m11\"><polyline class=\"sym\" points=\"2.5,-6.5 0,-1.5 -2.5,-6.5\"/></g></g><g class=\"site s12\" transform=\"translate(280.863 163.2)\"><line class=\"sym\" x1=\"0\" x2=\"0\" y1=\"0\" y2=\"-10\"/><g class=\"mut m12\"><polyline class=\"sym\" points=\"2.5,-6.5 0,-1.5 -2.5,-6.5\"/></g></g><g class=\"site s13\" transform=\"translate(290.626 163.2)\"><line class=\"sym\" x1=\"0\" x2=\"0\" y1=\"0\" y2=\"-10\"/><g class=\"mut m13\"><polyline class=\"sym\" points=\"2.5,-6.5 0,-1.5 -2.5,-6.5\"/></g></g><g class=\"site s14\" transform=\"translate(295.695 163.2)\"><line class=\"sym\" x1=\"0\" x2=\"0\" y1=\"0\" y2=\"-10\"/><g class=\"mut m14\"><polyline class=\"sym\" points=\"2.5,-6.5 0,-1.5 -2.5,-6.5\"/></g></g><g class=\"site s15\" transform=\"translate(305.79 163.2)\"><line class=\"sym\" x1=\"0\" x2=\"0\" y1=\"0\" y2=\"-10\"/><g class=\"mut m15\"><polyline class=\"sym\" points=\"2.5,-6.5 0,-1.5 -2.5,-6.5\"/></g></g><g class=\"site s16\" transform=\"translate(324.135 163.2)\"><line class=\"sym\" x1=\"0\" x2=\"0\" y1=\"0\" y2=\"-10\"/><g class=\"mut m16\"><polyline class=\"sym\" points=\"2.5,-6.5 0,-1.5 -2.5,-6.5\"/></g></g><g class=\"site s17\" transform=\"translate(342.661 163.2)\"><line class=\"sym\" x1=\"0\" x2=\"0\" y1=\"0\" y2=\"-10\"/><g class=\"mut m17\"><polyline class=\"sym\" points=\"2.5,-6.5 0,-1.5 -2.5,-6.5\"/></g></g><g class=\"site s18\" transform=\"translate(347.254 163.2)\"><line class=\"sym\" x1=\"0\" x2=\"0\" y1=\"0\" y2=\"-10\"/><g class=\"mut m18\"><polyline class=\"sym\" points=\"2.5,-6.5 0,-1.5 -2.5,-6.5\"/></g></g><g class=\"site s19\" transform=\"translate(370.51 163.2)\"><line class=\"sym\" x1=\"0\" x2=\"0\" y1=\"0\" y2=\"-10\"/><g class=\"mut m19\"><polyline class=\"sym\" points=\"2.5,-6.5 0,-1.5 -2.5,-6.5\"/></g></g></g></g><g class=\"plotbox trees\"><g class=\"tree t0\" transform=\"translate(20 0)\"><g class=\"plotbox\"><g class=\"c2 node n11 p3 root\" transform=\"translate(78.3333 26.8)\"><g class=\"a11 c2 m1 m4 node n8 p0 s1 s4\" transform=\"translate(-35 65.1933)\"><g class=\"a8 i0 leaf node n0 p0 sample\" transform=\"translate(-11.6667 29.4067)\"><path class=\"edge\" d=\"M 0 0 V -29.4067 H 11.6667\"/><rect class=\"sym\" height=\"6\" width=\"6\" x=\"-3\" y=\"-3\"/><text class=\"lab\" transform=\"translate(0 11)\">0</text></g><g class=\"a8 i0 leaf node n1 p0 sample\" transform=\"translate(11.6667 29.4067)\"><path class=\"edge\" d=\"M 0 0 V -29.4067 H -11.6667\"/><rect class=\"sym\" height=\"6\" width=\"6\" x=\"-3\" y=\"-3\"/><text class=\"lab\" transform=\"translate(0 11)\">1</text></g><path class=\"edge\" d=\"M 0 0 V -65.1933 H 35\"/><g class=\"mut m1 s1\" transform=\"translate(0 -21.2078)\"><line x1=\"0\" x2=\"0\" y1=\"0\" y2=\"21.2078\"/><path class=\"sym\" d=\"M -3,-3 l 6,6 M -3,3 l 6,-6\"/><text class=\"lab lft\" transform=\"translate(-5 0)\">1</text></g><g class=\"mut m4 s4\" transform=\"translate(0 -9.30421)\"><line x1=\"0\" x2=\"0\" y1=\"0\" y2=\"9.30421\"/><path class=\"sym\" d=\"M -3,-3 l 6,6 M -3,3 l 6,-6\"/><text class=\"lab lft\" transform=\"translate(-5 0)\">4</text></g><circle class=\"sym\" cx=\"0\" cy=\"0\" r=\"3\"/><text class=\"lab lft\" transform=\"translate(-3 -7.0)\">8</text></g><g class=\"a11 c2 m0 node n10 p3 s0\" transform=\"translate(35 12.7722)\"><g class=\"a10 c2 node n7 p1\" transform=\"translate(-23.3333 57.3561)\"><g class=\"a7 i1 leaf node n2 p1 sample\" transform=\"translate(-11.6667 24.4717)\"><path class=\"edge\" d=\"M 0 0 V -24.4717 H 11.6667\"/><rect class=\"sym\" height=\"6\" width=\"6\" x=\"-3\" y=\"-3\"/><text class=\"lab\" transform=\"translate(0 11)\">2</text></g><g class=\"a7 i2 leaf m2 node n5 p2 s2 sample\" transform=\"translate(11.6667 24.4717)\"><path class=\"edge\" d=\"M 0 0 V -24.4717 H -11.6667\"/><g class=\"mut m2 s2\" transform=\"translate(0 -0.994304)\"><line x1=\"0\" x2=\"0\" y1=\"0\" y2=\"0.994304\"/><path class=\"sym\" d=\"M -3,-3 l 6,6 M -3,3 l 6,-6\"/><text class=\"lab rgt\" transform=\"translate(5 0)\">2</text></g><rect class=\"sym\" height=\"6\" width=\"6\" x=\"-3\" y=\"-3\"/><text class=\"lab\" transform=\"translate(0 11)\">5</text></g><path class=\"edge\" d=\"M 0 0 V -57.3561 H 23.3333\"/><circle class=\"sym\" cx=\"0\" cy=\"0\" r=\"3\"/><text class=\"lab lft\" transform=\"translate(-3 -7.0)\">7</text></g><g class=\"a10 c2 node n9 p3\" transform=\"translate(23.3333 33.6307)\"><g class=\"a9 i1 leaf m3 node n3 p1 s3 sample\" transform=\"translate(-11.6667 48.1971)\"><path class=\"edge\" d=\"M 0 0 V -48.1971 H 11.6667\"/><g class=\"mut m3 s3\" transform=\"translate(0 -22.018)\"><line x1=\"0\" x2=\"0\" y1=\"0\" y2=\"22.018\"/><path class=\"sym\" d=\"M -3,-3 l 6,6 M -3,3 l 6,-6\"/><text class=\"lab lft\" transform=\"translate(-5 0)\">3</text></g><rect class=\"sym\" height=\"6\" width=\"6\" x=\"-3\" y=\"-3\"/><text class=\"lab\" transform=\"translate(0 11)\">3</text></g><g class=\"a9 i2 leaf node n4 p2 sample\" transform=\"translate(11.6667 48.1971)\"><path class=\"edge\" d=\"M 0 0 V -48.1971 H -11.6667\"/><rect class=\"sym\" height=\"6\" width=\"6\" x=\"-3\" y=\"-3\"/><text class=\"lab\" transform=\"translate(0 11)\">4</text></g><path class=\"edge\" d=\"M 0 0 V -33.6307 H -23.3333\"/><circle class=\"sym\" cx=\"0\" cy=\"0\" r=\"3\"/><text class=\"lab rgt\" transform=\"translate(3 -7.0)\">9</text></g><path class=\"edge\" d=\"M 0 0 V -12.7722 H -35\"/><g class=\"mut m0 s0\" transform=\"translate(0 -5.28409)\"><line x1=\"0\" x2=\"0\" y1=\"0\" y2=\"5.28409\"/><path class=\"sym\" d=\"M -3,-3 l 6,6 M -3,3 l 6,-6\"/><text class=\"lab rgt\" transform=\"translate(5 0)\">0</text></g><circle class=\"sym\" cx=\"0\" cy=\"0\" r=\"3\"/><text class=\"lab rgt\" transform=\"translate(3 -7.0)\">10</text></g><circle class=\"sym\" cx=\"0\" cy=\"0\" r=\"3\"/><text class=\"lab\" transform=\"translate(0 -11)\">11</text></g></g></g><g class=\"tree t1\" transform=\"translate(200 0)\"><g class=\"plotbox\"><g class=\"c2 node n11 p3 root\" transform=\"translate(117.708 26.8)\"><g class=\"a11 c2 m10 m8 node n10 p3 s10 s8\" transform=\"translate(-30.625 12.7722)\"><g class=\"a10 c2 m14 m19 node n7 p1 s14 s19\" transform=\"translate(26.25 57.3561)\"><g class=\"a7 i1 leaf node n2 p1 sample\" transform=\"translate(-11.6667 24.4717)\"><path class=\"edge\" d=\"M 0 0 V -24.4717 H 11.6667\"/><rect class=\"sym\" height=\"6\" width=\"6\" x=\"-3\" y=\"-3\"/><text class=\"lab\" transform=\"translate(0 11)\">2</text></g><g class=\"a7 i2 leaf m17 m5 node n5 p2 s17 s5 sample\" transform=\"translate(11.6667 24.4717)\"><path class=\"edge\" d=\"M 0 0 V -24.4717 H -11.6667\"/><g class=\"mut m5 s5\" transform=\"translate(0 -6.06625)\"><line x1=\"0\" x2=\"0\" y1=\"0\" y2=\"6.06625\"/><path class=\"sym\" d=\"M -3,-3 l 6,6 M -3,3 l 6,-6\"/><text class=\"lab rgt\" transform=\"translate(5 0)\">5</text></g><g class=\"mut m17 s17\" transform=\"translate(0 -0.458796)\"><line x1=\"0\" x2=\"0\" y1=\"0\" y2=\"0.458796\"/><path class=\"sym\" d=\"M -3,-3 l 6,6 M -3,3 l 6,-6\"/><text class=\"lab rgt\" transform=\"translate(5 0)\">17</text></g><rect class=\"sym\" height=\"6\" width=\"6\" x=\"-3\" y=\"-3\"/><text class=\"lab\" transform=\"translate(0 11)\">5</text></g><path class=\"edge\" d=\"M 0 0 V -57.3561 H -26.25\"/><g class=\"mut m14 s14\" transform=\"translate(0 -32.0537)\"><line x1=\"0\" x2=\"0\" y1=\"0\" y2=\"32.0537\"/><path class=\"sym\" d=\"M -3,-3 l 6,6 M -3,3 l 6,-6\"/><text class=\"lab rgt\" transform=\"translate(5 0)\">14</text></g><g class=\"mut m19 s19\" transform=\"translate(0 -14.8697)\"><line x1=\"0\" x2=\"0\" y1=\"0\" y2=\"14.8697\"/><path class=\"sym\" d=\"M -3,-3 l 6,6 M -3,3 l 6,-6\"/><text class=\"lab rgt\" transform=\"translate(5 0)\">19</text></g><circle class=\"sym\" cx=\"0\" cy=\"0\" r=\"3\"/><text class=\"lab rgt\" transform=\"translate(3 -7.0)\">7</text></g><g class=\"a10 c2 m11 m6 node n9 p3 s11 s6\" transform=\"translate(-26.25 33.6307)\"><g class=\"a9 i1 leaf m9 node n3 p1 s9 sample\" transform=\"translate(17.5 48.1971)\"><path class=\"edge\" d=\"M 0 0 V -48.1971 H -17.5\"/><g class=\"mut m9 s9\" transform=\"translate(0 -31.2869)\"><line x1=\"0\" x2=\"0\" y1=\"0\" y2=\"31.2869\"/><path class=\"sym\" d=\"M -3,-3 l 6,6 M -3,3 l 6,-6\"/><text class=\"lab rgt\" transform=\"translate(5 0)\">9</text></g><rect class=\"sym\" height=\"6\" width=\"6\" x=\"-3\" y=\"-3\"/><text class=\"lab\" transform=\"translate(0 11)\">3</text></g><g class=\"a9 c2 m12 node n6 p0 s12\" transform=\"translate(-17.5 35.1262)\"><g class=\"a6 i0 leaf m13 node n0 p0 s13 sample\" transform=\"translate(-11.6667 13.0709)\"><path class=\"edge\" d=\"M 0 0 V -13.0709 H 11.6667\"/><g class=\"mut m13 s13\" transform=\"translate(0 -10.9789)\"><line x1=\"0\" x2=\"0\" y1=\"0\" y2=\"10.9789\"/><path class=\"sym\" d=\"M -3,-3 l 6,6 M -3,3 l 6,-6\"/><text class=\"lab lft\" transform=\"translate(-5 0)\">13</text></g><rect class=\"sym\" height=\"6\" width=\"6\" x=\"-3\" y=\"-3\"/><text class=\"lab\" transform=\"translate(0 11)\">0</text></g><g class=\"a6 i2 leaf node n4 p2 sample\" transform=\"translate(11.6667 13.0709)\"><path class=\"edge\" d=\"M 0 0 V -13.0709 H -11.6667\"/><rect class=\"sym\" height=\"6\" width=\"6\" x=\"-3\" y=\"-3\"/><text class=\"lab\" transform=\"translate(0 11)\">4</text></g><path class=\"edge\" d=\"M 0 0 V -35.1262 H 17.5\"/><g class=\"mut m12 s12\" transform=\"translate(0 -17.3044)\"><line x1=\"0\" x2=\"0\" y1=\"0\" y2=\"17.3044\"/><path class=\"sym\" d=\"M -3,-3 l 6,6 M -3,3 l 6,-6\"/><text class=\"lab lft\" transform=\"translate(-5 0)\">12</text></g><circle class=\"sym\" cx=\"0\" cy=\"0\" r=\"3\"/><text class=\"lab lft\" transform=\"translate(-3 -7.0)\">6</text></g><path class=\"edge\" d=\"M 0 0 V -33.6307 H 26.25\"/><g class=\"mut m11 s11\" transform=\"translate(0 -19.7285)\"><line x1=\"0\" x2=\"0\" y1=\"0\" y2=\"19.7285\"/><path class=\"sym\" d=\"M -3,-3 l 6,6 M -3,3 l 6,-6\"/><text class=\"lab lft\" transform=\"translate(-5 0)\">11</text></g><g class=\"mut m6 s6\" transform=\"translate(0 -10.3031)\"><line x1=\"0\" x2=\"0\" y1=\"0\" y2=\"10.3031\"/><path class=\"sym\" d=\"M -3,-3 l 6,6 M -3,3 l 6,-6\"/><text class=\"lab lft\" transform=\"translate(-5 0)\">6</text></g><circle class=\"sym\" cx=\"0\" cy=\"0\" r=\"3\"/><text class=\"lab lft\" transform=\"translate(-3 -7.0)\">9</text></g><path class=\"edge\" d=\"M 0 0 V -12.7722 H 30.625\"/><g class=\"mut m10 s10\" transform=\"translate(0 -10.0535)\"><line x1=\"0\" x2=\"0\" y1=\"0\" y2=\"10.0535\"/><path class=\"sym\" d=\"M -3,-3 l 6,6 M -3,3 l 6,-6\"/><text class=\"lab lft\" transform=\"translate(-5 0)\">10</text></g><g class=\"mut m8 s8\" transform=\"translate(0 -5.42437)\"><line x1=\"0\" x2=\"0\" y1=\"0\" y2=\"5.42437\"/><path class=\"sym\" d=\"M -3,-3 l 6,6 M -3,3 l 6,-6\"/><text class=\"lab lft\" transform=\"translate(-5 0)\">8</text></g><circle class=\"sym\" cx=\"0\" cy=\"0\" r=\"3\"/><text class=\"lab lft\" transform=\"translate(-3 -7.0)\">10</text></g><g class=\"a11 i0 leaf m15 m16 m18 m7 node n1 p0 s15 s16 s18 s7 sample\" transform=\"translate(30.625 94.6)\"><path class=\"edge\" d=\"M 0 0 V -94.6 H -30.625\"/><g class=\"mut m15 s15\" transform=\"translate(0 -73.8178)\"><line x1=\"0\" x2=\"0\" y1=\"0\" y2=\"73.8178\"/><path class=\"sym\" d=\"M -3,-3 l 6,6 M -3,3 l 6,-6\"/><text class=\"lab rgt\" transform=\"translate(5 0)\">15</text></g><g class=\"mut m18 s18\" transform=\"translate(0 -36.7021)\"><line x1=\"0\" x2=\"0\" y1=\"0\" y2=\"36.7021\"/><path class=\"sym\" d=\"M -3,-3 l 6,6 M -3,3 l 6,-6\"/><text class=\"lab rgt\" transform=\"translate(5 0)\">18</text></g><g class=\"mut m16 s16\" transform=\"translate(0 -28.982)\"><line x1=\"0\" x2=\"0\" y1=\"0\" y2=\"28.982\"/><path class=\"sym\" d=\"M -3,-3 l 6,6 M -3,3 l 6,-6\"/><text class=\"lab rgt\" transform=\"translate(5 0)\">16</text></g><g class=\"mut m7 s7\" transform=\"translate(0 -20.9972)\"><line x1=\"0\" x2=\"0\" y1=\"0\" y2=\"20.9972\"/><path class=\"sym\" d=\"M -3,-3 l 6,6 M -3,3 l 6,-6\"/><text class=\"lab rgt\" transform=\"translate(5 0)\">7</text></g><rect class=\"sym\" height=\"6\" width=\"6\" x=\"-3\" y=\"-3\"/><text class=\"lab\" transform=\"translate(0 11)\">1</text></g><circle class=\"sym\" cx=\"0\" cy=\"0\" r=\"3\"/><text class=\"lab\" transform=\"translate(0 -11)\">11</text></g></g></g></g></g></svg>"
      ],
      "text/plain": [
       "<IPython.core.display.SVG object>"
      ]
     },
     "execution_count": 14,
     "metadata": {},
     "output_type": "execute_result"
    }
   ],
   "source": [
    "SVG(ts.draw_svg())"
   ]
  },
  {
   "cell_type": "markdown",
   "metadata": {},
   "source": [
    "Some things to note:\n",
    " - Various inaccuracies in topology, and location(s) of recombination breakpoints\n",
    " - Some polytomies (see node 9)\n",
    " \n",
    "How might we make sense of this quantitatively?\n",
    "\n",
    "We'll focus on one way -- looking at genealogical nearest neighbours (GNN)."
   ]
  },
  {
   "cell_type": "code",
   "execution_count": 15,
   "metadata": {},
   "outputs": [],
   "source": [
    "tsi_big = tsinfer.infer(sample_data_big, recombination_rate=1e-8)"
   ]
  },
  {
   "cell_type": "markdown",
   "metadata": {},
   "source": [
    "## Genealogical nearest neighbours\n",
    "\n",
    "Here is a tree from an inferred Plasmodium Vivax sample (Thanks Yan, Wilder).\n",
    "Tips of tree have been coloured in according to their country of origin.\n",
    "\n",
    "A useful metric for understanding population level relationships from a tree sequence is genealogical nearest neighbours. Given K sets of reference nodes (e.g., the samples for each of the 15 populations of clonal vivax samples), the GNN statistic for a specific node is a K-vector describing the proportion of its immediate neighbours within the tree from each of these reference sets. Think of this as looking at the most recent node, or ancestor, of each sample and determining what population the other daughter sample(s) of that node came from."
   ]
  },
  {
   "cell_type": "code",
   "execution_count": 16,
   "metadata": {},
   "outputs": [
    {
     "data": {
      "text/plain": [
       "array([[0.28352   , 0.18494   , 0.53154   ],\n",
       "       [0.426816  , 0.286592  , 0.286592  ],\n",
       "       [0.        , 0.        , 1.        ],\n",
       "       [0.54725333, 0.        , 0.45274667],\n",
       "       [0.72055333, 0.27944667, 0.        ],\n",
       "       [0.        , 1.        , 0.        ]])"
      ]
     },
     "execution_count": 16,
     "metadata": {},
     "output_type": "execute_result"
    }
   ],
   "source": [
    "A = tsi.genealogical_nearest_neighbours(\n",
    "    focal=tsi.samples(), sample_sets=[[0,1], [2, 3], [4, 5]])\n",
    "A"
   ]
  },
  {
   "cell_type": "code",
   "execution_count": 17,
   "metadata": {},
   "outputs": [
    {
     "data": {
      "text/html": [
       "\n",
       "            <div>\n",
       "                <style scoped=\"\">\n",
       "                    .tskit-table tbody tr th:only-of-type {vertical-align: middle;}\n",
       "                    .tskit-table tbody tr th {vertical-align: top;}\n",
       "                    .tskit-table tbody td {text-align: right;padding: 0.5em 0.5em;}\n",
       "                    .tskit-table tbody th {padding: 0.5em 0.5em;}\n",
       "                </style>\n",
       "                <table border=\"1\" class=\"tskit-table\">\n",
       "                    <thead>\n",
       "                        <tr>\n",
       "                            <th>id</th><th>metadata</th>\n",
       "                        </tr>\n",
       "                    </thead>\n",
       "                    <tbody>\n",
       "                        <tr><td>0</td><td>{'description': '', 'name': 'SMALL'}</td></tr>\n",
       "<tr><td>1</td><td>{'description': '', 'name': 'BIG'}</td></tr>\n",
       "<tr><td>2</td><td>{'description': '', 'name': 'ADMIX'}</td></tr>\n",
       "<tr><td>3</td><td>{'description': '', 'name': 'ANC'}</td></tr>\n",
       "\n",
       "                    </tbody>\n",
       "                </table>\n",
       "            </div>\n",
       "        "
      ],
      "text/plain": [
       "<tskit.tables.PopulationTable at 0x10fb6da90>"
      ]
     },
     "execution_count": 17,
     "metadata": {},
     "output_type": "execute_result"
    }
   ],
   "source": [
    "tsi_big.tables.populations"
   ]
  },
  {
   "cell_type": "markdown",
   "metadata": {},
   "source": [
    "First, we'll get the reference sets of samples."
   ]
  },
  {
   "cell_type": "code",
   "execution_count": 18,
   "metadata": {},
   "outputs": [
    {
     "data": {
      "text/plain": [
       "[array([ 0,  1,  2,  3,  4,  5,  6,  7,  8,  9, 10, 11, 12, 13, 14, 15, 16,\n",
       "        17, 18, 19], dtype=int32),\n",
       " array([20, 21, 22, 23, 24, 25, 26, 27, 28, 29, 30, 31, 32, 33, 34, 35, 36,\n",
       "        37, 38, 39], dtype=int32),\n",
       " array([40, 41, 42, 43, 44, 45, 46, 47, 48, 49, 50, 51, 52, 53, 54, 55, 56,\n",
       "        57, 58, 59], dtype=int32)]"
      ]
     },
     "execution_count": 18,
     "metadata": {},
     "output_type": "execute_result"
    }
   ],
   "source": [
    "reference_sets = [tsi_big.samples(i) for i in [0, 1, 2]]\n",
    "reference_sets"
   ]
  },
  {
   "cell_type": "markdown",
   "metadata": {},
   "source": [
    "We then run the genealogical_nearest_neighbours function, converting the resulting array into a Pandas DataFrame and adding a Population column."
   ]
  },
  {
   "cell_type": "code",
   "execution_count": 19,
   "metadata": {},
   "outputs": [
    {
     "data": {
      "text/html": [
       "<div>\n",
       "<style scoped>\n",
       "    .dataframe tbody tr th:only-of-type {\n",
       "        vertical-align: middle;\n",
       "    }\n",
       "\n",
       "    .dataframe tbody tr th {\n",
       "        vertical-align: top;\n",
       "    }\n",
       "\n",
       "    .dataframe thead th {\n",
       "        text-align: right;\n",
       "    }\n",
       "</style>\n",
       "<table border=\"1\" class=\"dataframe\">\n",
       "  <thead>\n",
       "    <tr style=\"text-align: right;\">\n",
       "      <th></th>\n",
       "      <th>0</th>\n",
       "      <th>1</th>\n",
       "      <th>2</th>\n",
       "    </tr>\n",
       "  </thead>\n",
       "  <tbody>\n",
       "    <tr>\n",
       "      <th>0</th>\n",
       "      <td>0.652563</td>\n",
       "      <td>0.00000</td>\n",
       "      <td>0.347437</td>\n",
       "    </tr>\n",
       "    <tr>\n",
       "      <th>1</th>\n",
       "      <td>0.704494</td>\n",
       "      <td>0.00027</td>\n",
       "      <td>0.295237</td>\n",
       "    </tr>\n",
       "    <tr>\n",
       "      <th>2</th>\n",
       "      <td>0.469977</td>\n",
       "      <td>0.00000</td>\n",
       "      <td>0.530023</td>\n",
       "    </tr>\n",
       "    <tr>\n",
       "      <th>3</th>\n",
       "      <td>1.000000</td>\n",
       "      <td>0.00000</td>\n",
       "      <td>0.000000</td>\n",
       "    </tr>\n",
       "    <tr>\n",
       "      <th>4</th>\n",
       "      <td>0.458809</td>\n",
       "      <td>0.00000</td>\n",
       "      <td>0.541191</td>\n",
       "    </tr>\n",
       "  </tbody>\n",
       "</table>\n",
       "</div>"
      ],
      "text/plain": [
       "          0        1         2\n",
       "0  0.652563  0.00000  0.347437\n",
       "1  0.704494  0.00027  0.295237\n",
       "2  0.469977  0.00000  0.530023\n",
       "3  1.000000  0.00000  0.000000\n",
       "4  0.458809  0.00000  0.541191"
      ]
     },
     "execution_count": 19,
     "metadata": {},
     "output_type": "execute_result"
    }
   ],
   "source": [
    "A = tsi_big.genealogical_nearest_neighbours(\n",
    "    focal=tsi_big.samples(), sample_sets=reference_sets)\n",
    "gnn = pd.DataFrame(A)\n",
    "gnn.head()"
   ]
  },
  {
   "cell_type": "markdown",
   "metadata": {},
   "source": [
    "We create a dictionary listing the samples belonging to each population from the metadata."
   ]
  },
  {
   "cell_type": "code",
   "execution_count": 20,
   "metadata": {},
   "outputs": [
    {
     "data": {
      "text/plain": [
       "{'SMALL': array([ 0,  1,  2,  3,  4,  5,  6,  7,  8,  9, 10, 11, 12, 13, 14, 15, 16,\n",
       "        17, 18, 19], dtype=int32),\n",
       " 'BIG': array([20, 21, 22, 23, 24, 25, 26, 27, 28, 29, 30, 31, 32, 33, 34, 35, 36,\n",
       "        37, 38, 39], dtype=int32),\n",
       " 'ADMIX': array([40, 41, 42, 43, 44, 45, 46, 47, 48, 49, 50, 51, 52, 53, 54, 55, 56,\n",
       "        57, 58, 59], dtype=int32),\n",
       " 'ANC': array([], dtype=int32)}"
      ]
     },
     "execution_count": 20,
     "metadata": {},
     "output_type": "execute_result"
    }
   ],
   "source": [
    "pop_dict = {}\n",
    "for p in tsi_big.populations():\n",
    "    pop_dict[p.metadata['name']] = tsi_big.samples(population=p.id)\n",
    "pop_dict"
   ]
  },
  {
   "cell_type": "code",
   "execution_count": 21,
   "metadata": {},
   "outputs": [
    {
     "data": {
      "text/plain": [
       "['SMALL', 'BIG', 'ADMIX', 'ANC']"
      ]
     },
     "execution_count": 21,
     "metadata": {},
     "output_type": "execute_result"
    }
   ],
   "source": [
    "pop_names = list(pop_dict.keys())\n",
    "pop_names"
   ]
  },
  {
   "cell_type": "markdown",
   "metadata": {},
   "source": [
    "We then use this dictionary to assign a population to each sample and rename the columns by the population they represent."
   ]
  },
  {
   "cell_type": "code",
   "execution_count": 22,
   "metadata": {},
   "outputs": [
    {
     "data": {
      "text/html": [
       "<div>\n",
       "<style scoped>\n",
       "    .dataframe tbody tr th:only-of-type {\n",
       "        vertical-align: middle;\n",
       "    }\n",
       "\n",
       "    .dataframe tbody tr th {\n",
       "        vertical-align: top;\n",
       "    }\n",
       "\n",
       "    .dataframe thead th {\n",
       "        text-align: right;\n",
       "    }\n",
       "</style>\n",
       "<table border=\"1\" class=\"dataframe\">\n",
       "  <thead>\n",
       "    <tr style=\"text-align: right;\">\n",
       "      <th></th>\n",
       "      <th>0</th>\n",
       "      <th>1</th>\n",
       "      <th>2</th>\n",
       "      <th>Population</th>\n",
       "    </tr>\n",
       "  </thead>\n",
       "  <tbody>\n",
       "    <tr>\n",
       "      <th>0</th>\n",
       "      <td>0.652563</td>\n",
       "      <td>0.00000</td>\n",
       "      <td>0.347437</td>\n",
       "      <td>SMALL</td>\n",
       "    </tr>\n",
       "    <tr>\n",
       "      <th>1</th>\n",
       "      <td>0.704494</td>\n",
       "      <td>0.00027</td>\n",
       "      <td>0.295237</td>\n",
       "      <td>SMALL</td>\n",
       "    </tr>\n",
       "    <tr>\n",
       "      <th>2</th>\n",
       "      <td>0.469977</td>\n",
       "      <td>0.00000</td>\n",
       "      <td>0.530023</td>\n",
       "      <td>SMALL</td>\n",
       "    </tr>\n",
       "    <tr>\n",
       "      <th>3</th>\n",
       "      <td>1.000000</td>\n",
       "      <td>0.00000</td>\n",
       "      <td>0.000000</td>\n",
       "      <td>SMALL</td>\n",
       "    </tr>\n",
       "    <tr>\n",
       "      <th>4</th>\n",
       "      <td>0.458809</td>\n",
       "      <td>0.00000</td>\n",
       "      <td>0.541191</td>\n",
       "      <td>SMALL</td>\n",
       "    </tr>\n",
       "  </tbody>\n",
       "</table>\n",
       "</div>"
      ],
      "text/plain": [
       "          0        1         2 Population\n",
       "0  0.652563  0.00000  0.347437      SMALL\n",
       "1  0.704494  0.00027  0.295237      SMALL\n",
       "2  0.469977  0.00000  0.530023      SMALL\n",
       "3  1.000000  0.00000  0.000000      SMALL\n",
       "4  0.458809  0.00000  0.541191      SMALL"
      ]
     },
     "execution_count": 22,
     "metadata": {},
     "output_type": "execute_result"
    }
   ],
   "source": [
    "nodes = tsi_big.tables.nodes\n",
    "# print(pop_names)\n",
    "pop_column = []\n",
    "for s in tsi_big.samples():\n",
    "    pop_label = nodes[s].population\n",
    "#     print(pop_label)\n",
    "    p = pop_names[pop_label]\n",
    "#     print(pop_names[pop_label])\n",
    "    pop_column.append(p)\n",
    "\n",
    "gnn[\"Population\"] = pop_column\n",
    "gnn.head()"
   ]
  },
  {
   "cell_type": "code",
   "execution_count": 23,
   "metadata": {},
   "outputs": [
    {
     "data": {
      "text/html": [
       "<div>\n",
       "<style scoped>\n",
       "    .dataframe tbody tr th:only-of-type {\n",
       "        vertical-align: middle;\n",
       "    }\n",
       "\n",
       "    .dataframe tbody tr th {\n",
       "        vertical-align: top;\n",
       "    }\n",
       "\n",
       "    .dataframe thead th {\n",
       "        text-align: right;\n",
       "    }\n",
       "</style>\n",
       "<table border=\"1\" class=\"dataframe\">\n",
       "  <thead>\n",
       "    <tr style=\"text-align: right;\">\n",
       "      <th></th>\n",
       "      <th>SMALL</th>\n",
       "      <th>BIG</th>\n",
       "      <th>ADMIX</th>\n",
       "      <th>Population</th>\n",
       "    </tr>\n",
       "  </thead>\n",
       "  <tbody>\n",
       "    <tr>\n",
       "      <th>0</th>\n",
       "      <td>0.652563</td>\n",
       "      <td>0.00000</td>\n",
       "      <td>0.347437</td>\n",
       "      <td>SMALL</td>\n",
       "    </tr>\n",
       "    <tr>\n",
       "      <th>1</th>\n",
       "      <td>0.704494</td>\n",
       "      <td>0.00027</td>\n",
       "      <td>0.295237</td>\n",
       "      <td>SMALL</td>\n",
       "    </tr>\n",
       "    <tr>\n",
       "      <th>2</th>\n",
       "      <td>0.469977</td>\n",
       "      <td>0.00000</td>\n",
       "      <td>0.530023</td>\n",
       "      <td>SMALL</td>\n",
       "    </tr>\n",
       "    <tr>\n",
       "      <th>3</th>\n",
       "      <td>1.000000</td>\n",
       "      <td>0.00000</td>\n",
       "      <td>0.000000</td>\n",
       "      <td>SMALL</td>\n",
       "    </tr>\n",
       "    <tr>\n",
       "      <th>4</th>\n",
       "      <td>0.458809</td>\n",
       "      <td>0.00000</td>\n",
       "      <td>0.541191</td>\n",
       "      <td>SMALL</td>\n",
       "    </tr>\n",
       "  </tbody>\n",
       "</table>\n",
       "</div>"
      ],
      "text/plain": [
       "      SMALL      BIG     ADMIX Population\n",
       "0  0.652563  0.00000  0.347437      SMALL\n",
       "1  0.704494  0.00027  0.295237      SMALL\n",
       "2  0.469977  0.00000  0.530023      SMALL\n",
       "3  1.000000  0.00000  0.000000      SMALL\n",
       "4  0.458809  0.00000  0.541191      SMALL"
      ]
     },
     "execution_count": 23,
     "metadata": {},
     "output_type": "execute_result"
    }
   ],
   "source": [
    "gnn = gnn.rename(index=str, columns={v: k for v, k in enumerate(list(pop_dict.keys()))})\n",
    "gnn.head()"
   ]
  },
  {
   "cell_type": "code",
   "execution_count": 24,
   "metadata": {},
   "outputs": [
    {
     "name": "stdout",
     "output_type": "stream",
     "text": [
      "               ADMIX       BIG     SMALL\n",
      "Population                              \n",
      "ADMIX       0.467321  0.187338  0.345340\n",
      "BIG         0.181232  0.814067  0.004701\n",
      "SMALL       0.258030  0.000981  0.740989\n"
     ]
    }
   ],
   "source": [
    "dfg = gnn.groupby(\"Population\").mean()\n",
    "dfg = dfg.reindex(sorted(dfg.columns), axis=1)\n",
    "print(dfg)"
   ]
  },
  {
   "cell_type": "code",
   "execution_count": 25,
   "metadata": {},
   "outputs": [
    {
     "data": {
      "text/plain": [
       "<AxesSubplot:ylabel='Population'>"
      ]
     },
     "execution_count": 25,
     "metadata": {},
     "output_type": "execute_result"
    },
    {
     "data": {
      "image/png": "[encoded data removed]",
      "text/plain": [
       "<Figure size 432x288 with 2 Axes>"
      ]
     },
     "metadata": {
      "needs_background": "light"
     },
     "output_type": "display_data"
    }
   ],
   "source": [
    "seaborn.heatmap(dfg, vmin=0, vmax=1.0, square=True)"
   ]
  },
  {
   "cell_type": "markdown",
   "metadata": {},
   "source": [
    "What we don't get from tsinfer: *times*."
   ]
  },
  {
   "cell_type": "code",
   "execution_count": 26,
   "metadata": {},
   "outputs": [
    {
     "data": {
      "text/html": [
       "\n",
       "            <div>\n",
       "                <style scoped=\"\">\n",
       "                    .tskit-table tbody tr th:only-of-type {vertical-align: middle;}\n",
       "                    .tskit-table tbody tr th {vertical-align: top;}\n",
       "                    .tskit-table tbody td {text-align: right;padding: 0.5em 0.5em;}\n",
       "                    .tskit-table tbody th {padding: 0.5em 0.5em;}\n",
       "                </style>\n",
       "                <table border=\"1\" class=\"tskit-table\">\n",
       "                    <thead>\n",
       "                        <tr>\n",
       "                            <th>id</th><th>flags</th><th>population</th><th>individual</th><th>time</th><th>metadata</th>\n",
       "                        </tr>\n",
       "                    </thead>\n",
       "                    <tbody>\n",
       "                        <tr><td>0</td><td>1</td><td>-1</td><td>0</td><td>0.00000000</td><td>b''</td></tr>\n",
       "<tr><td>1</td><td>1</td><td>-1</td><td>1</td><td>0.00000000</td><td>b''</td></tr>\n",
       "<tr><td>2</td><td>1</td><td>-1</td><td>2</td><td>0.00000000</td><td>b''</td></tr>\n",
       "<tr><td>3</td><td>1</td><td>-1</td><td>3</td><td>0.00000000</td><td>b''</td></tr>\n",
       "<tr><td>4</td><td>1</td><td>-1</td><td>4</td><td>0.00000000</td><td>b''</td></tr>\n",
       "<tr><td>5</td><td>1</td><td>-1</td><td>5</td><td>0.00000000</td><td>b''</td></tr>\n",
       "<tr><td>6</td><td>0</td><td>-1</td><td>-1</td><td>0.33333333</td><td>b'{\"ancestor_data_id\": 5}'</td></tr>\n",
       "<tr><td>7</td><td>0</td><td>-1</td><td>-1</td><td>0.33333333</td><td>b'{\"ancestor_data_id\": 6}'</td></tr>\n",
       "<tr><td>8</td><td>0</td><td>-1</td><td>-1</td><td>0.33333333</td><td>b'{\"ancestor_data_id\": 7}'</td></tr>\n",
       "<tr><td>9</td><td>0</td><td>-1</td><td>-1</td><td>0.50000000</td><td>b'{\"ancestor_data_id\": 4}'</td></tr>\n",
       "<tr><td>10</td><td>0</td><td>-1</td><td>-1</td><td>0.66666667</td><td>b'{\"ancestor_data_id\": 3}'</td></tr>\n",
       "<tr><td>11</td><td>0</td><td>-1</td><td>-1</td><td>0.83333333</td><td>b'{\"ancestor_data_id\": 2}'</td></tr>\n",
       "<tr><td>12</td><td>0</td><td>-1</td><td>-1</td><td>1.04166667</td><td>b'{\"ancestor_data_id\": 1}'</td></tr>\n",
       "<tr><td>13</td><td>0</td><td>-1</td><td>-1</td><td>1.25000000</td><td>b'{\"ancestor_data_id\": 0}'</td></tr>\n",
       "\n",
       "                    </tbody>\n",
       "                </table>\n",
       "            </div>\n",
       "        "
      ],
      "text/plain": [
       "<tskit.tables.NodeTable at 0x12f6a7450>"
      ]
     },
     "execution_count": 26,
     "metadata": {},
     "output_type": "execute_result"
    }
   ],
   "source": [
    "tsi.tables.nodes"
   ]
  },
  {
   "cell_type": "markdown",
   "metadata": {},
   "source": [
    "## tsdate\n",
    "\n",
    "Let's infer some times.\n",
    "\n",
    "First, apply simplify():"
   ]
  },
  {
   "cell_type": "code",
   "execution_count": 27,
   "metadata": {},
   "outputs": [
    {
     "data": {
      "image/svg+xml": [
       "<svg baseProfile=\"full\" height=\"200\" version=\"1.1\" width=\"600\" xmlns=\"http://www.w3.org/2000/svg\" xmlns:ev=\"http://www.w3.org/2001/xml-events\" xmlns:xlink=\"http://www.w3.org/1999/xlink\"><defs><style type=\"text/css\"><![CDATA[.background path {fill: #808080; fill-opacity: 0}.background path:nth-child(odd) {fill-opacity: .1}.axes {font-size: 14px}.x-axis .tick .lab {font-weight: bold; dominant-baseline: hanging}.axes, .tree {font-size: 14px; text-anchor: middle}.axes line, .edge {stroke: black; fill: none}.y-axis .grid {stroke: #FAFAFA}.node > .sym {fill: black; stroke: none}.site > .sym {stroke: black}.mut text {fill: red; font-style: italic}.mut.extra text {fill: hotpink}.mut line {fill: none; stroke: none}.mut .sym {fill: none; stroke: red}.mut.extra .sym {stroke: hotpink}.node .mut .sym {stroke-width: 1.5px}.tree text, .tree-sequence text {dominant-baseline: central}.plotbox .lab.lft {text-anchor: end}.plotbox .lab.rgt {text-anchor: start}]]></style></defs><g class=\"tree-sequence\"><g class=\"background\"><path d=\"M20,0 l186.667,0 l0,138.2 l-27.8955,25 l0,5 l-158.771,0 l0,-5 l0,-25 l0,-138.2z\"/><path d=\"M206.667,0 l186.667,0 l0,138.2 l-7.42933,25 l0,5 l-207.133,0 l0,-5 l27.8955,-25 l0,-138.2z\"/><path d=\"M393.333,0 l186.667,0 l0,138.2 l0,25 l0,5 l-194.096,0 l0,-5 l7.42933,-25 l0,-138.2z\"/></g><g class=\"axes\"><g class=\"x-axis\"><g transform=\"translate(300 200)\"><text class=\"lab\" text-anchor=\"middle\" transform=\"translate(0 -11)\">Genome position</text></g><line x1=\"20\" x2=\"580\" y1=\"163.2\" y2=\"163.2\"/><g class=\"ticks\"><g class=\"tick\" transform=\"translate(20 163.2)\"><line x1=\"0\" x2=\"0\" y1=\"0\" y2=\"5\"/><g transform=\"translate(0 6)\"><text class=\"lab\">0</text></g></g><g class=\"tick\" transform=\"translate(178.771 163.2)\"><line x1=\"0\" x2=\"0\" y1=\"0\" y2=\"5\"/><g transform=\"translate(0 6)\"><text class=\"lab\">14176</text></g></g><g class=\"tick\" transform=\"translate(385.904 163.2)\"><line x1=\"0\" x2=\"0\" y1=\"0\" y2=\"5\"/><g transform=\"translate(0 6)\"><text class=\"lab\">32670</text></g></g><g class=\"tick\" transform=\"translate(580 163.2)\"><line x1=\"0\" x2=\"0\" y1=\"0\" y2=\"5\"/><g transform=\"translate(0 6)\"><text class=\"lab\">50000</text></g></g></g><g class=\"site s0\" transform=\"translate(71.632 163.2)\"><line class=\"sym\" x1=\"0\" x2=\"0\" y1=\"0\" y2=\"-10\"/><g class=\"mut m1\"><polyline class=\"sym\" points=\"2.5,-6.5 0,-1.5 -2.5,-6.5\"/></g><g class=\"mut m0\"><polyline class=\"sym\" points=\"2.5,-10.5 0,-5.5 -2.5,-10.5\"/></g></g><g class=\"site s1\" transform=\"translate(76.2576 163.2)\"><line class=\"sym\" x1=\"0\" x2=\"0\" y1=\"0\" y2=\"-10\"/><g class=\"mut m2\"><polyline class=\"sym\" points=\"2.5,-6.5 0,-1.5 -2.5,-6.5\"/></g></g><g class=\"site s2\" transform=\"translate(90.3248 163.2)\"><line class=\"sym\" x1=\"0\" x2=\"0\" y1=\"0\" y2=\"-10\"/><g class=\"mut m3\"><polyline class=\"sym\" points=\"2.5,-6.5 0,-1.5 -2.5,-6.5\"/></g></g><g class=\"site s3\" transform=\"translate(101.402 163.2)\"><line class=\"sym\" x1=\"0\" x2=\"0\" y1=\"0\" y2=\"-10\"/><g class=\"mut m4\"><polyline class=\"sym\" points=\"2.5,-6.5 0,-1.5 -2.5,-6.5\"/></g></g><g class=\"site s4\" transform=\"translate(101.659 163.2)\"><line class=\"sym\" x1=\"0\" x2=\"0\" y1=\"0\" y2=\"-10\"/><g class=\"mut m5\"><polyline class=\"sym\" points=\"2.5,-6.5 0,-1.5 -2.5,-6.5\"/></g></g><g class=\"site s5\" transform=\"translate(136.054 163.2)\"><line class=\"sym\" x1=\"0\" x2=\"0\" y1=\"0\" y2=\"-10\"/><g class=\"mut m6\"><polyline class=\"sym\" points=\"2.5,-6.5 0,-1.5 -2.5,-6.5\"/></g></g><g class=\"site s6\" transform=\"translate(178.771 163.2)\"><line class=\"sym\" x1=\"0\" x2=\"0\" y1=\"0\" y2=\"-10\"/><g class=\"mut m7\"><polyline class=\"sym\" points=\"2.5,-6.5 0,-1.5 -2.5,-6.5\"/></g></g><g class=\"site s7\" transform=\"translate(226.36 163.2)\"><line class=\"sym\" x1=\"0\" x2=\"0\" y1=\"0\" y2=\"-10\"/><g class=\"mut m8\"><polyline class=\"sym\" points=\"2.5,-6.5 0,-1.5 -2.5,-6.5\"/></g></g><g class=\"site s8\" transform=\"translate(231.669 163.2)\"><line class=\"sym\" x1=\"0\" x2=\"0\" y1=\"0\" y2=\"-10\"/><g class=\"mut m9\"><polyline class=\"sym\" points=\"2.5,-6.5 0,-1.5 -2.5,-6.5\"/></g></g><g class=\"site s9\" transform=\"translate(273.77 163.2)\"><line class=\"sym\" x1=\"0\" x2=\"0\" y1=\"0\" y2=\"-10\"/><g class=\"mut m10\"><polyline class=\"sym\" points=\"2.5,-6.5 0,-1.5 -2.5,-6.5\"/></g></g><g class=\"site s10\" transform=\"translate(385.904 163.2)\"><line class=\"sym\" x1=\"0\" x2=\"0\" y1=\"0\" y2=\"-10\"/><g class=\"mut m11\"><polyline class=\"sym\" points=\"2.5,-6.5 0,-1.5 -2.5,-6.5\"/></g></g><g class=\"site s11\" transform=\"translate(408.147 163.2)\"><line class=\"sym\" x1=\"0\" x2=\"0\" y1=\"0\" y2=\"-10\"/><g class=\"mut m12\"><polyline class=\"sym\" points=\"2.5,-6.5 0,-1.5 -2.5,-6.5\"/></g></g><g class=\"site s12\" transform=\"translate(425.787 163.2)\"><line class=\"sym\" x1=\"0\" x2=\"0\" y1=\"0\" y2=\"-10\"/><g class=\"mut m13\"><polyline class=\"sym\" points=\"2.5,-6.5 0,-1.5 -2.5,-6.5\"/></g></g><g class=\"site s13\" transform=\"translate(440.974 163.2)\"><line class=\"sym\" x1=\"0\" x2=\"0\" y1=\"0\" y2=\"-10\"/><g class=\"mut m14\"><polyline class=\"sym\" points=\"2.5,-6.5 0,-1.5 -2.5,-6.5\"/></g></g><g class=\"site s14\" transform=\"translate(448.859 163.2)\"><line class=\"sym\" x1=\"0\" x2=\"0\" y1=\"0\" y2=\"-10\"/><g class=\"mut m15\"><polyline class=\"sym\" points=\"2.5,-6.5 0,-1.5 -2.5,-6.5\"/></g></g><g class=\"site s15\" transform=\"translate(464.562 163.2)\"><line class=\"sym\" x1=\"0\" x2=\"0\" y1=\"0\" y2=\"-10\"/><g class=\"mut m16\"><polyline class=\"sym\" points=\"2.5,-6.5 0,-1.5 -2.5,-6.5\"/></g></g><g class=\"site s16\" transform=\"translate(493.099 163.2)\"><line class=\"sym\" x1=\"0\" x2=\"0\" y1=\"0\" y2=\"-10\"/><g class=\"mut m17\"><polyline class=\"sym\" points=\"2.5,-6.5 0,-1.5 -2.5,-6.5\"/></g></g><g class=\"site s17\" transform=\"translate(521.917 163.2)\"><line class=\"sym\" x1=\"0\" x2=\"0\" y1=\"0\" y2=\"-10\"/><g class=\"mut m18\"><polyline class=\"sym\" points=\"2.5,-6.5 0,-1.5 -2.5,-6.5\"/></g></g><g class=\"site s18\" transform=\"translate(529.062 163.2)\"><line class=\"sym\" x1=\"0\" x2=\"0\" y1=\"0\" y2=\"-10\"/><g class=\"mut m19\"><polyline class=\"sym\" points=\"2.5,-6.5 0,-1.5 -2.5,-6.5\"/></g></g><g class=\"site s19\" transform=\"translate(565.238 163.2)\"><line class=\"sym\" x1=\"0\" x2=\"0\" y1=\"0\" y2=\"-10\"/><g class=\"mut m20\"><polyline class=\"sym\" points=\"2.5,-6.5 0,-1.5 -2.5,-6.5\"/></g></g></g></g><g class=\"plotbox trees\"><g class=\"tree t0\" transform=\"translate(20 0)\"><g class=\"plotbox\"><g class=\"c2 m0 node n10 root s0\" transform=\"translate(108.611 58.0258)\"><g class=\"a10 c2 node n6\" transform=\"translate(33.6111 31.6871)\"><g class=\"a6 i2 leaf node n2 sample\" transform=\"translate(-12.2222 31.6871)\"><path class=\"edge\" d=\"M 0 0 V -31.6871 H 12.2222\"/><rect class=\"sym\" height=\"6\" width=\"6\" x=\"-3\" y=\"-3\"/><text class=\"lab\" transform=\"translate(0 11)\">2</text></g><g class=\"a6 i5 leaf m3 m6 node n5 s2 s5 sample\" transform=\"translate(12.2222 31.6871)\"><path class=\"edge\" d=\"M 0 0 V -31.6871 H -12.2222\"/><g class=\"mut m3 s2 unknown_time\" transform=\"translate(0 -21.1247)\"><line x1=\"0\" x2=\"0\" y1=\"0\" y2=\"21.1247\"/><path class=\"sym\" d=\"M -3,-3 l 6,6 M -3,3 l 6,-6\"/><text class=\"lab rgt\" transform=\"translate(5 0)\">3</text></g><g class=\"mut m6 s5 unknown_time\" transform=\"translate(0 -10.5624)\"><line x1=\"0\" x2=\"0\" y1=\"0\" y2=\"10.5624\"/><path class=\"sym\" d=\"M -3,-3 l 6,6 M -3,3 l 6,-6\"/><text class=\"lab rgt\" transform=\"translate(5 0)\">6</text></g><rect class=\"sym\" height=\"6\" width=\"6\" x=\"-3\" y=\"-3\"/><text class=\"lab\" transform=\"translate(0 11)\">5</text></g><path class=\"edge\" d=\"M 0 0 V -31.6871 H -33.6111\"/><circle class=\"sym\" cx=\"0\" cy=\"0\" r=\"3\"/><text class=\"lab rgt\" transform=\"translate(3 -7.0)\">6</text></g><g class=\"a10 c3 node n9\" transform=\"translate(-33.6111 15.8436)\"><g class=\"a9 i3 leaf m4 node n3 s3 sample\" transform=\"translate(6.11111 47.5307)\"><path class=\"edge\" d=\"M 0 0 V -47.5307 H -6.11111\"/><g class=\"mut m4 s3 unknown_time\" transform=\"translate(0 -23.7653)\"><line x1=\"0\" x2=\"0\" y1=\"0\" y2=\"23.7653\"/><path class=\"sym\" d=\"M -3,-3 l 6,6 M -3,3 l 6,-6\"/><text class=\"lab rgt\" transform=\"translate(5 0)\">4</text></g><rect class=\"sym\" height=\"6\" width=\"6\" x=\"-3\" y=\"-3\"/><text class=\"lab\" transform=\"translate(0 11)\">3</text></g><g class=\"a9 i4 leaf node n4 sample\" transform=\"translate(30.5556 47.5307)\"><path class=\"edge\" d=\"M 0 0 V -47.5307 H -30.5556\"/><rect class=\"sym\" height=\"6\" width=\"6\" x=\"-3\" y=\"-3\"/><text class=\"lab\" transform=\"translate(0 11)\">4</text></g><g class=\"a9 c2 m1 m2 m5 node n8 s0 s1 s4\" transform=\"translate(-30.5556 15.8436)\"><g class=\"a8 i0 leaf node n0 sample\" transform=\"translate(-12.2222 31.6871)\"><path class=\"edge\" d=\"M 0 0 V -31.6871 H 12.2222\"/><rect class=\"sym\" height=\"6\" width=\"6\" x=\"-3\" y=\"-3\"/><text class=\"lab\" transform=\"translate(0 11)\">0</text></g><g class=\"a8 i1 leaf node n1 sample\" transform=\"translate(12.2222 31.6871)\"><path class=\"edge\" d=\"M 0 0 V -31.6871 H -12.2222\"/><rect class=\"sym\" height=\"6\" width=\"6\" x=\"-3\" y=\"-3\"/><text class=\"lab\" transform=\"translate(0 11)\">1</text></g><path class=\"edge\" d=\"M 0 0 V -15.8436 H 30.5556\"/><g class=\"mut m1 s0 unknown_time\" transform=\"translate(0 -11.8827)\"><line x1=\"0\" x2=\"0\" y1=\"0\" y2=\"11.8827\"/><path class=\"sym\" d=\"M -3,-3 l 6,6 M -3,3 l 6,-6\"/><text class=\"lab lft\" transform=\"translate(-5 0)\">1</text></g><g class=\"mut m2 s1 unknown_time\" transform=\"translate(0 -7.92178)\"><line x1=\"0\" x2=\"0\" y1=\"0\" y2=\"7.92178\"/><path class=\"sym\" d=\"M -3,-3 l 6,6 M -3,3 l 6,-6\"/><text class=\"lab lft\" transform=\"translate(-5 0)\">2</text></g><g class=\"mut m5 s4 unknown_time\" transform=\"translate(0 -3.96089)\"><line x1=\"0\" x2=\"0\" y1=\"0\" y2=\"3.96089\"/><path class=\"sym\" d=\"M -3,-3 l 6,6 M -3,3 l 6,-6\"/><text class=\"lab lft\" transform=\"translate(-5 0)\">5</text></g><circle class=\"sym\" cx=\"0\" cy=\"0\" r=\"3\"/><text class=\"lab lft\" transform=\"translate(-3 -7.0)\">8</text></g><path class=\"edge\" d=\"M 0 0 V -15.8436 H 33.6111\"/><circle class=\"sym\" cx=\"0\" cy=\"0\" r=\"3\"/><text class=\"lab lft\" transform=\"translate(-3 -7.0)\">9</text></g><path class=\"edge\" d=\"M 0 0 V -12.3778 H 0\"/><g class=\"mut m0 s0 unknown_time\" transform=\"translate(0 -6.18889)\"><line x1=\"0\" x2=\"0\" y1=\"0\" y2=\"6.18889\"/><path class=\"sym\" d=\"M -3,-3 l 6,6 M -3,3 l 6,-6\"/><text class=\"lab rgt\" transform=\"translate(5 0)\">0</text></g><circle class=\"sym\" cx=\"0\" cy=\"0\" r=\"3\"/><text class=\"lab rgt\" transform=\"translate(3 -7.0)\">10</text></g></g></g><g class=\"tree t1\" transform=\"translate(206.667 0)\"><g class=\"plotbox\"><g class=\"c2 node n11 root\" transform=\"translate(120.833 22.3778)\"><g class=\"a11 i1 leaf m8 node n1 s7 sample\" transform=\"translate(33.6111 99.0222)\"><path class=\"edge\" d=\"M 0 0 V -99.0222 H -33.6111\"/><g class=\"mut m8 s7 unknown_time\" transform=\"translate(0 -49.5111)\"><line x1=\"0\" x2=\"0\" y1=\"0\" y2=\"49.5111\"/><path class=\"sym\" d=\"M -3,-3 l 6,6 M -3,3 l 6,-6\"/><text class=\"lab rgt\" transform=\"translate(5 0)\">8</text></g><rect class=\"sym\" height=\"6\" width=\"6\" x=\"-3\" y=\"-3\"/><text class=\"lab\" transform=\"translate(0 11)\">1</text></g><g class=\"a11 c2 m9 node n10 s8\" transform=\"translate(-33.6111 35.648)\"><g class=\"a10 c2 node n6\" transform=\"translate(30.5556 31.6871)\"><g class=\"a6 i2 leaf node n2 sample\" transform=\"translate(-12.2222 31.6871)\"><path class=\"edge\" d=\"M 0 0 V -31.6871 H 12.2222\"/><rect class=\"sym\" height=\"6\" width=\"6\" x=\"-3\" y=\"-3\"/><text class=\"lab\" transform=\"translate(0 11)\">2</text></g><g class=\"a6 i5 leaf node n5 sample\" transform=\"translate(12.2222 31.6871)\"><path class=\"edge\" d=\"M 0 0 V -31.6871 H -12.2222\"/><rect class=\"sym\" height=\"6\" width=\"6\" x=\"-3\" y=\"-3\"/><text class=\"lab\" transform=\"translate(0 11)\">5</text></g><path class=\"edge\" d=\"M 0 0 V -31.6871 H -30.5556\"/><circle class=\"sym\" cx=\"0\" cy=\"0\" r=\"3\"/><text class=\"lab rgt\" transform=\"translate(3 -7.0)\">6</text></g><g class=\"a10 c3 m7 node n9 s6\" transform=\"translate(-30.5556 15.8436)\"><g class=\"a9 i3 leaf m10 node n3 s9 sample\" transform=\"translate(-7.10543e-15 47.5307)\"><path class=\"edge\" d=\"M 0 0 V -47.5307 H 7.10543e-15\"/><g class=\"mut m10 s9 unknown_time\" transform=\"translate(0 -23.7653)\"><line x1=\"0\" x2=\"0\" y1=\"0\" y2=\"23.7653\"/><path class=\"sym\" d=\"M -3,-3 l 6,6 M -3,3 l 6,-6\"/><text class=\"lab rgt\" transform=\"translate(5 0)\">10</text></g><rect class=\"sym\" height=\"6\" width=\"6\" x=\"-3\" y=\"-3\"/><text class=\"lab\" transform=\"translate(0 11)\">3</text></g><g class=\"a9 i4 leaf node n4 sample\" transform=\"translate(24.4444 47.5307)\"><path class=\"edge\" d=\"M 0 0 V -47.5307 H -24.4444\"/><rect class=\"sym\" height=\"6\" width=\"6\" x=\"-3\" y=\"-3\"/><text class=\"lab\" transform=\"translate(0 11)\">4</text></g><g class=\"a9 i0 leaf node n0 sample\" transform=\"translate(-24.4444 47.5307)\"><path class=\"edge\" d=\"M 0 0 V -47.5307 H 24.4444\"/><rect class=\"sym\" height=\"6\" width=\"6\" x=\"-3\" y=\"-3\"/><text class=\"lab\" transform=\"translate(0 11)\">0</text></g><path class=\"edge\" d=\"M 0 0 V -15.8436 H 30.5556\"/><g class=\"mut m7 s6 unknown_time\" transform=\"translate(0 -7.92178)\"><line x1=\"0\" x2=\"0\" y1=\"0\" y2=\"7.92178\"/><path class=\"sym\" d=\"M -3,-3 l 6,6 M -3,3 l 6,-6\"/><text class=\"lab lft\" transform=\"translate(-5 0)\">7</text></g><circle class=\"sym\" cx=\"0\" cy=\"0\" r=\"3\"/><text class=\"lab lft\" transform=\"translate(-3 -7.0)\">9</text></g><path class=\"edge\" d=\"M 0 0 V -35.648 H 33.6111\"/><g class=\"mut m9 s8 unknown_time\" transform=\"translate(0 -17.824)\"><line x1=\"0\" x2=\"0\" y1=\"0\" y2=\"17.824\"/><path class=\"sym\" d=\"M -3,-3 l 6,6 M -3,3 l 6,-6\"/><text class=\"lab lft\" transform=\"translate(-5 0)\">9</text></g><circle class=\"sym\" cx=\"0\" cy=\"0\" r=\"3\"/><text class=\"lab lft\" transform=\"translate(-3 -7.0)\">10</text></g><path class=\"edge\" d=\"M 0 0 V -12.3778 H 0\"/><circle class=\"sym\" cx=\"0\" cy=\"0\" r=\"3\"/><text class=\"lab rgt\" transform=\"translate(3 -7.0)\">11</text></g></g></g><g class=\"tree t2\" transform=\"translate(393.333 0)\"><g class=\"plotbox\"><g class=\"c2 node n11 root\" transform=\"translate(122.361 22.3778)\"><g class=\"a11 i1 leaf m16 m17 m19 node n1 s15 s16 s18 sample\" transform=\"translate(32.0833 99.0222)\"><path class=\"edge\" d=\"M 0 0 V -99.0222 H -32.0833\"/><g class=\"mut m16 s15 unknown_time\" transform=\"translate(0 -74.2667)\"><line x1=\"0\" x2=\"0\" y1=\"0\" y2=\"74.2667\"/><path class=\"sym\" d=\"M -3,-3 l 6,6 M -3,3 l 6,-6\"/><text class=\"lab rgt\" transform=\"translate(5 0)\">16</text></g><g class=\"mut m17 s16 unknown_time\" transform=\"translate(0 -49.5111)\"><line x1=\"0\" x2=\"0\" y1=\"0\" y2=\"49.5111\"/><path class=\"sym\" d=\"M -3,-3 l 6,6 M -3,3 l 6,-6\"/><text class=\"lab rgt\" transform=\"translate(5 0)\">17</text></g><g class=\"mut m19 s18 unknown_time\" transform=\"translate(0 -24.7556)\"><line x1=\"0\" x2=\"0\" y1=\"0\" y2=\"24.7556\"/><path class=\"sym\" d=\"M -3,-3 l 6,6 M -3,3 l 6,-6\"/><text class=\"lab rgt\" transform=\"translate(5 0)\">19</text></g><rect class=\"sym\" height=\"6\" width=\"6\" x=\"-3\" y=\"-3\"/><text class=\"lab\" transform=\"translate(0 11)\">1</text></g><g class=\"a11 c2 m11 node n10 s10\" transform=\"translate(-32.0833 35.648)\"><g class=\"a10 c2 m15 m20 node n6 s14 s19\" transform=\"translate(27.5 31.6871)\"><g class=\"a6 i2 leaf node n2 sample\" transform=\"translate(-12.2222 31.6871)\"><path class=\"edge\" d=\"M 0 0 V -31.6871 H 12.2222\"/><rect class=\"sym\" height=\"6\" width=\"6\" x=\"-3\" y=\"-3\"/><text class=\"lab\" transform=\"translate(0 11)\">2</text></g><g class=\"a6 i5 leaf m18 node n5 s17 sample\" transform=\"translate(12.2222 31.6871)\"><path class=\"edge\" d=\"M 0 0 V -31.6871 H -12.2222\"/><g class=\"mut m18 s17 unknown_time\" transform=\"translate(0 -15.8436)\"><line x1=\"0\" x2=\"0\" y1=\"0\" y2=\"15.8436\"/><path class=\"sym\" d=\"M -3,-3 l 6,6 M -3,3 l 6,-6\"/><text class=\"lab rgt\" transform=\"translate(5 0)\">18</text></g><rect class=\"sym\" height=\"6\" width=\"6\" x=\"-3\" y=\"-3\"/><text class=\"lab\" transform=\"translate(0 11)\">5</text></g><path class=\"edge\" d=\"M 0 0 V -31.6871 H -27.5\"/><g class=\"mut m15 s14 unknown_time\" transform=\"translate(0 -21.1247)\"><line x1=\"0\" x2=\"0\" y1=\"0\" y2=\"21.1247\"/><path class=\"sym\" d=\"M -3,-3 l 6,6 M -3,3 l 6,-6\"/><text class=\"lab rgt\" transform=\"translate(5 0)\">15</text></g><g class=\"mut m20 s19 unknown_time\" transform=\"translate(0 -10.5624)\"><line x1=\"0\" x2=\"0\" y1=\"0\" y2=\"10.5624\"/><path class=\"sym\" d=\"M -3,-3 l 6,6 M -3,3 l 6,-6\"/><text class=\"lab rgt\" transform=\"translate(5 0)\">20</text></g><circle class=\"sym\" cx=\"0\" cy=\"0\" r=\"3\"/><text class=\"lab rgt\" transform=\"translate(3 -7.0)\">6</text></g><g class=\"a10 c2 m12 node n9 s11\" transform=\"translate(-27.5 15.8436)\"><g class=\"a9 i3 leaf node n3 sample\" transform=\"translate(18.3333 47.5307)\"><path class=\"edge\" d=\"M 0 0 V -47.5307 H -18.3333\"/><rect class=\"sym\" height=\"6\" width=\"6\" x=\"-3\" y=\"-3\"/><text class=\"lab\" transform=\"translate(0 11)\">3</text></g><g class=\"a9 c2 m13 node n7 s12\" transform=\"translate(-18.3333 15.8436)\"><g class=\"a7 i0 leaf m14 node n0 s13 sample\" transform=\"translate(-12.2222 31.6871)\"><path class=\"edge\" d=\"M 0 0 V -31.6871 H 12.2222\"/><g class=\"mut m14 s13 unknown_time\" transform=\"translate(0 -15.8436)\"><line x1=\"0\" x2=\"0\" y1=\"0\" y2=\"15.8436\"/><path class=\"sym\" d=\"M -3,-3 l 6,6 M -3,3 l 6,-6\"/><text class=\"lab lft\" transform=\"translate(-5 0)\">14</text></g><rect class=\"sym\" height=\"6\" width=\"6\" x=\"-3\" y=\"-3\"/><text class=\"lab\" transform=\"translate(0 11)\">0</text></g><g class=\"a7 i4 leaf node n4 sample\" transform=\"translate(12.2222 31.6871)\"><path class=\"edge\" d=\"M 0 0 V -31.6871 H -12.2222\"/><rect class=\"sym\" height=\"6\" width=\"6\" x=\"-3\" y=\"-3\"/><text class=\"lab\" transform=\"translate(0 11)\">4</text></g><path class=\"edge\" d=\"M 0 0 V -15.8436 H 18.3333\"/><g class=\"mut m13 s12 unknown_time\" transform=\"translate(0 -7.92178)\"><line x1=\"0\" x2=\"0\" y1=\"0\" y2=\"7.92178\"/><path class=\"sym\" d=\"M -3,-3 l 6,6 M -3,3 l 6,-6\"/><text class=\"lab lft\" transform=\"translate(-5 0)\">13</text></g><circle class=\"sym\" cx=\"0\" cy=\"0\" r=\"3\"/><text class=\"lab lft\" transform=\"translate(-3 -7.0)\">7</text></g><path class=\"edge\" d=\"M 0 0 V -15.8436 H 27.5\"/><g class=\"mut m12 s11 unknown_time\" transform=\"translate(0 -7.92178)\"><line x1=\"0\" x2=\"0\" y1=\"0\" y2=\"7.92178\"/><path class=\"sym\" d=\"M -3,-3 l 6,6 M -3,3 l 6,-6\"/><text class=\"lab lft\" transform=\"translate(-5 0)\">12</text></g><circle class=\"sym\" cx=\"0\" cy=\"0\" r=\"3\"/><text class=\"lab lft\" transform=\"translate(-3 -7.0)\">9</text></g><path class=\"edge\" d=\"M 0 0 V -35.648 H 32.0833\"/><g class=\"mut m11 s10 unknown_time\" transform=\"translate(0 -17.824)\"><line x1=\"0\" x2=\"0\" y1=\"0\" y2=\"17.824\"/><path class=\"sym\" d=\"M -3,-3 l 6,6 M -3,3 l 6,-6\"/><text class=\"lab lft\" transform=\"translate(-5 0)\">11</text></g><circle class=\"sym\" cx=\"0\" cy=\"0\" r=\"3\"/><text class=\"lab lft\" transform=\"translate(-3 -7.0)\">10</text></g><path class=\"edge\" d=\"M 0 0 V -12.3778 H 0\"/><circle class=\"sym\" cx=\"0\" cy=\"0\" r=\"3\"/><text class=\"lab rgt\" transform=\"translate(3 -7.0)\">11</text></g></g></g></g></g></svg>"
      ],
      "text/plain": [
       "<IPython.core.display.SVG object>"
      ]
     },
     "execution_count": 27,
     "metadata": {},
     "output_type": "execute_result"
    }
   ],
   "source": [
    "tsi = tsi.simplify()\n",
    "tsi_big = tsi_big.simplify()\n",
    "SVG(tsi.draw_svg())"
   ]
  },
  {
   "cell_type": "markdown",
   "metadata": {},
   "source": [
    "Next, we'll run tsdate:"
   ]
  },
  {
   "cell_type": "code",
   "execution_count": 28,
   "metadata": {},
   "outputs": [],
   "source": [
    "tsid = tsdate.date(tsi, Ne=500, mutation_rate=1e-8, num_threads=1)"
   ]
  },
  {
   "cell_type": "code",
   "execution_count": 29,
   "metadata": {},
   "outputs": [
    {
     "data": {
      "text/html": [
       "\n",
       "            <div>\n",
       "                <style scoped=\"\">\n",
       "                    .tskit-table tbody tr th:only-of-type {vertical-align: middle;}\n",
       "                    .tskit-table tbody tr th {vertical-align: top;}\n",
       "                    .tskit-table tbody td {text-align: right;padding: 0.5em 0.5em;}\n",
       "                    .tskit-table tbody th {padding: 0.5em 0.5em;}\n",
       "                </style>\n",
       "                <table border=\"1\" class=\"tskit-table\">\n",
       "                    <thead>\n",
       "                        <tr>\n",
       "                            <th>id</th><th>flags</th><th>population</th><th>individual</th><th>time</th><th>metadata</th>\n",
       "                        </tr>\n",
       "                    </thead>\n",
       "                    <tbody>\n",
       "                        <tr><td>0</td><td>1</td><td>-1</td><td>0</td><td>0.00000000</td><td>b''</td></tr>\n",
       "<tr><td>1</td><td>1</td><td>-1</td><td>1</td><td>0.00000000</td><td>b''</td></tr>\n",
       "<tr><td>2</td><td>1</td><td>-1</td><td>2</td><td>0.00000000</td><td>b''</td></tr>\n",
       "<tr><td>3</td><td>1</td><td>-1</td><td>3</td><td>0.00000000</td><td>b''</td></tr>\n",
       "<tr><td>4</td><td>1</td><td>-1</td><td>4</td><td>0.00000000</td><td>b''</td></tr>\n",
       "<tr><td>5</td><td>1</td><td>-1</td><td>5</td><td>0.00000000</td><td>b''</td></tr>\n",
       "<tr><td>6</td><td>0</td><td>-1</td><td>-1</td><td>621.09200808</td><td>b'{\"mn\": 621.0920080750495, \"vr\": 128...</td></tr>\n",
       "<tr><td>7</td><td>0</td><td>-1</td><td>-1</td><td>248.37315423</td><td>b'{\"mn\": 248.37315423408768, \"vr\": 37...</td></tr>\n",
       "<tr><td>8</td><td>0</td><td>-1</td><td>-1</td><td>109.84865447</td><td>b'{\"mn\": 109.84865446794741, \"vr\": 89...</td></tr>\n",
       "<tr><td>9</td><td>0</td><td>-1</td><td>-1</td><td>1204.57695748</td><td>b'{\"mn\": 1204.5769574807864, \"vr\": 15...</td></tr>\n",
       "<tr><td>10</td><td>0</td><td>-1</td><td>-1</td><td>2234.82132296</td><td>b'{\"mn\": 2234.821322957479, \"vr\": 246...</td></tr>\n",
       "<tr><td>11</td><td>0</td><td>-1</td><td>-1</td><td>3540.10937414</td><td>b'{\"mn\": 3540.109374143802, \"vr\": 159...</td></tr>\n",
       "\n",
       "                    </tbody>\n",
       "                </table>\n",
       "            </div>\n",
       "        "
      ],
      "text/plain": [
       "<tskit.tables.NodeTable at 0x13347b9d0>"
      ]
     },
     "execution_count": 29,
     "metadata": {},
     "output_type": "execute_result"
    }
   ],
   "source": [
    "tsid.tables.nodes"
   ]
  },
  {
   "cell_type": "markdown",
   "metadata": {},
   "source": [
    "Let's also do it for our bigger tree sequence:"
   ]
  },
  {
   "cell_type": "code",
   "execution_count": 30,
   "metadata": {},
   "outputs": [],
   "source": [
    "tsid_big = tsdate.date(tsi_big, Ne=500, mutation_rate=1e-8, num_threads=1)"
   ]
  },
  {
   "cell_type": "markdown",
   "metadata": {},
   "source": [
    "Now that we have inferred times and branch lengths, we can apply any of the branch/time related method we saw before -- branch statistics, `ibd_segments` etc -- to get inferred branch statistics, inferred ibd segments and so on."
   ]
  },
  {
   "cell_type": "markdown",
   "metadata": {},
   "source": [
    "However! Treat this as an exploratory first pass, and please do continue to use other inferential methods as well.\n",
    "\n",
    "(Could link to some evidence here about tsdate's performance -- a number of papers have recently come out, plots from my own thesis work)."
   ]
  },
  {
   "cell_type": "code",
   "execution_count": null,
   "metadata": {},
   "outputs": [],
   "source": []
  }
 ],
 "metadata": {
  "kernelspec": {
   "display_name": "Python 3",
   "language": "python",
   "name": "python3"
  },
  "language_info": {
   "codemirror_mode": {
    "name": "ipython",
    "version": 3
   },
   "file_extension": ".py",
   "mimetype": "text/x-python",
   "name": "python",
   "nbconvert_exporter": "python",
   "pygments_lexer": "ipython3",
   "version": "3.7.5"
  }
 },
 "nbformat": 4,
 "nbformat_minor": 2
}
