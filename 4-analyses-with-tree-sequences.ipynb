{
 "cells": [
  {
   "cell_type": "code",
   "execution_count": 1,
   "metadata": {},
   "outputs": [],
   "source": [
    "import msprime, tskit\n",
    "import matplotlib.pyplot as plt # Only needed for plotting\n",
    "import numpy as np\n",
    "import pandas as pd\n",
    "from IPython.display import SVG\n",
    "from matplotlib.patches import Polygon"
   ]
  },
  {
   "cell_type": "markdown",
   "metadata": {},
   "source": [
    "# Analyses with tskit\n",
    "\n",
    "At the end of the previous worksheet, we looked at ways to convert the mutation information in tree sequences back out into sequence information so we could calculate various cool statistics with it. \n",
    "\n",
    "However, it turns out you don't need to do this a lot of the time.\n",
    "There's a lot you can do within tskit, and these native methods are often quicker and more efficient than these other methods."
   ]
  },
  {
   "cell_type": "markdown",
   "metadata": {},
   "source": [
    "Firsst, we'll simulate a tree sequence dataset with mutations to use in the rest of this notebook.\n",
    "Here's a simple 3-population model, where the 2 pops split 50 generations ago from an ancestral population, and the third is formed after an admixture event between these two. One of these modern-day unadmixed pops is smaller than the other. "
   ]
  },
  {
   "cell_type": "code",
   "execution_count": 2,
   "metadata": {},
   "outputs": [
    {
     "data": {
      "text/plain": [
       "PopulationSplit(time=600, derived=['SMALL', 'BIG'], ancestral='ANC')"
      ]
     },
     "execution_count": 2,
     "metadata": {},
     "output_type": "execute_result"
    }
   ],
   "source": [
    "demography = msprime.Demography()\n",
    "demography.add_population(name=\"SMALL\", initial_size=200)\n",
    "demography.add_population(name=\"BIG\", initial_size=500)\n",
    "demography.add_population(name=\"ADMIX\", initial_size=200)\n",
    "demography.add_population(name=\"ANC\", initial_size=500)\n",
    "demography.add_admixture(\n",
    "    time=20, derived=\"ADMIX\", ancestral=[\"SMALL\", \"BIG\"], proportions=[0.5, 0.5])\n",
    "demography.add_population_split(time=600, derived=[\"SMALL\", \"BIG\"], ancestral=\"ANC\")\n",
    "# demography.debug()"
   ]
  },
  {
   "cell_type": "code",
   "execution_count": 3,
   "metadata": {},
   "outputs": [
    {
     "data": {
      "text/html": [
       "\n",
       "            <div>\n",
       "              <style>\n",
       "                .tskit-table thead tr th {text-align: left;padding: 0.5em 0.5em;}\n",
       "                .tskit-table tbody tr td {padding: 0.5em 0.5em;}\n",
       "                .tskit-table tbody tr td:first-of-type {text-align: left;}\n",
       "                .tskit-details-label {vertical-align: top; padding-right:5px;}\n",
       "                .tskit-table-set {display: inline-flex;flex-wrap: wrap;margin: -12px 0 0 -12px;width: calc(100% + 12px);}\n",
       "                .tskit-table-set-table {margin: 12px 0 0 12px;}\n",
       "                details {display: inline-block;}\n",
       "                summary {cursor: pointer; outline: 0; display: list-item;}\n",
       "              </style>\n",
       "              <div class=\"tskit-table-set\">\n",
       "                <div class=\"tskit-table-set-table\">\n",
       "                  <table class=\"tskit-table\">\n",
       "                    <thead>\n",
       "                      <tr>\n",
       "                        <th style=\"padding:0;line-height:21px;\">\n",
       "                          <img style=\"height: 32px;display: inline-block;padding: 3px 5px 3px 0;\" src=\"https://raw.githubusercontent.com/tskit-dev/administrative/main/tskit_logo.svg\"/>\n",
       "                          <a target=\"_blank\" href=\"https://tskit.dev/tskit/docs/latest/python-api.html#the-treesequence-class\"> Tree Sequence </a>\n",
       "                        </th>\n",
       "                      </tr>\n",
       "                    </thead>\n",
       "                    <tbody>\n",
       "                      <tr><td>Trees</td><td>5112</td></tr>\n",
       "                      <tr><td>Sequence Length</td><td>50000000.0</td></tr>\n",
       "                      <tr><td>Time Units</td><td>unknown</td></tr>\n",
       "                      <tr><td>Sample Nodes</td><td>60</td></tr>\n",
       "                      <tr><td>Total Size</td><td>1.1 MiB</td></tr>\n",
       "                      <tr>\n",
       "                        <td>Metadata</td><td style=\"text-align: left;\">No Metadata</td></tr>\n",
       "                    </tbody>\n",
       "                  </table>\n",
       "                </div>\n",
       "                <div class=\"tskit-table-set-table\">\n",
       "                  <table class=\"tskit-table\">\n",
       "                    <thead>\n",
       "                      <tr>\n",
       "                        <th style=\"line-height:21px;\">Table</th>\n",
       "                        <th>Rows</th>\n",
       "                        <th>Size</th>\n",
       "                        <th>Has Metadata</th>\n",
       "                      </tr>\n",
       "                    </thead>\n",
       "                    <tbody>\n",
       "                    \n",
       "                  <tr>\n",
       "                    <td>Edges</td>\n",
       "                      <td>18290</td>\n",
       "                      <td>571.6 KiB</td>\n",
       "                      <td style=\"text-align: center;\">\n",
       "                        \n",
       "                      </td>\n",
       "                    </tr>\n",
       "                \n",
       "                  <tr>\n",
       "                    <td>Individuals</td>\n",
       "                      <td>30</td>\n",
       "                      <td>864 Bytes</td>\n",
       "                      <td style=\"text-align: center;\">\n",
       "                        \n",
       "                      </td>\n",
       "                    </tr>\n",
       "                \n",
       "                  <tr>\n",
       "                    <td>Migrations</td>\n",
       "                      <td>0</td>\n",
       "                      <td>8 Bytes</td>\n",
       "                      <td style=\"text-align: center;\">\n",
       "                        \n",
       "                      </td>\n",
       "                    </tr>\n",
       "                \n",
       "                  <tr>\n",
       "                    <td>Mutations</td>\n",
       "                      <td>6004</td>\n",
       "                      <td>217.0 KiB</td>\n",
       "                      <td style=\"text-align: center;\">\n",
       "                        \n",
       "                      </td>\n",
       "                    </tr>\n",
       "                \n",
       "                  <tr>\n",
       "                    <td>Nodes</td>\n",
       "                      <td>3395</td>\n",
       "                      <td>92.8 KiB</td>\n",
       "                      <td style=\"text-align: center;\">\n",
       "                        \n",
       "                      </td>\n",
       "                    </tr>\n",
       "                \n",
       "                  <tr>\n",
       "                    <td>Populations</td>\n",
       "                      <td>4</td>\n",
       "                      <td>343 Bytes</td>\n",
       "                      <td style=\"text-align: center;\">\n",
       "                        ✅\n",
       "                      </td>\n",
       "                    </tr>\n",
       "                \n",
       "                  <tr>\n",
       "                    <td>Provenances</td>\n",
       "                      <td>2</td>\n",
       "                      <td>2.8 KiB</td>\n",
       "                      <td style=\"text-align: center;\">\n",
       "                        \n",
       "                      </td>\n",
       "                    </tr>\n",
       "                \n",
       "                  <tr>\n",
       "                    <td>Sites</td>\n",
       "                      <td>6003</td>\n",
       "                      <td>146.6 KiB</td>\n",
       "                      <td style=\"text-align: center;\">\n",
       "                        \n",
       "                      </td>\n",
       "                    </tr>\n",
       "                \n",
       "                    </tbody>\n",
       "                  </table>\n",
       "                </div>\n",
       "              </div>\n",
       "            </div>\n",
       "            "
      ],
      "text/plain": [
       "<tskit.trees.TreeSequence at 0x114c29ed0>"
      ]
     },
     "execution_count": 3,
     "metadata": {},
     "output_type": "execute_result"
    }
   ],
   "source": [
    "ts = msprime.sim_ancestry(samples={\"SMALL\": 10, \"BIG\": 10, \"ADMIX\" : 10},\n",
    "                          demography=demography, random_seed=2432,\n",
    "                         sequence_length=5e7, recombination_rate=1e-8)\n",
    "ts = msprime.sim_mutations(ts, rate=1e-8, random_seed=6151)\n",
    "ts"
   ]
  },
  {
   "cell_type": "code",
   "execution_count": 4,
   "metadata": {},
   "outputs": [],
   "source": [
    "tss = ts.simplify(samples=[1, 11, 21, 31, 41, 51])\n",
    "mts1 = msprime.sim_mutations(tss, rate=1e-8, random_seed=1812)\n",
    "mts2 = msprime.sim_mutations(tss, rate=1e-8, random_seed=1901)"
   ]
  },
  {
   "cell_type": "markdown",
   "metadata": {},
   "source": [
    "## Tree stats"
   ]
  },
  {
   "cell_type": "markdown",
   "metadata": {},
   "source": [
    "Suppose you wanted to calculate something like mean pairwise diversity with some sequence data of $n$ samples.\n",
    "Here's an equation you can use:\n",
    "\n",
    "$$ \\pi = \\dfrac{1}{n(n-1)/2}\\sum_{i=1}^{n-1} \\sum_{j=i+1}^n k_{ij} $$\n",
    "\n",
    "where $k_{ij}$ is the number of sites where sequences $i$ and $j$ have a different allele. (Got this from Matt Hahn's MolPopGen book.)\n",
    "\n",
    "First you look at the first two alleles -- are they the same or different? Update the statistic, move to the next position. Are they the same or different? update the statistic, move on. Do this for every site in the sample, to get some number. Then you have to do this again for every possible pair of sequences -- the calculation is (n choose 2) * M, where n is the number of samples, and M the number of sites. The scaling is\n",
    "\n",
    "$$ O\\left( n^2 m \\right) $$\n",
    "\n",
    "where $m$ is the number of sites.\n"
   ]
  },
  {
   "cell_type": "markdown",
   "metadata": {},
   "source": [
    "Howver, because these sequences are simply a projection onto the present day of *mutations* on a tree sequence, and these mutations only appear once, there should be ways of updating all statistics every time you come across a mutation on a given branch. (Probably don’t need quite this much explanation). This is basically what tree sequences statistics offer."
   ]
  },
  {
   "cell_type": "markdown",
   "metadata": {},
   "source": [
    "See this paper:\n",
    "\n",
    "Peter Ralph, Kevin Thornton, Jerome Kelleher, Efficiently Summarizing Relationships in Large Samples: A General Duality Between Statistics of Genealogies and Genomes, Genetics, Volume 215, Issue 3, 1 July 2020, Pages 779–797, https://doi.org/10.1534/genetics.120.303253"
   ]
  },
  {
   "cell_type": "markdown",
   "metadata": {},
   "source": [
    "### Nucleotide diversity: an example of the basic syntax\n",
    "\n",
    "Tree sequence statistics are methods that you can perform on tree sequence objects:\n"
   ]
  },
  {
   "cell_type": "code",
   "execution_count": 5,
   "metadata": {},
   "outputs": [
    {
     "name": "stdout",
     "output_type": "stream",
     "text": [
      "CPU times: user 4.22 ms, sys: 66 µs, total: 4.28 ms\n",
      "Wall time: 4.26 ms\n"
     ]
    },
    {
     "data": {
      "text/plain": [
       "array(2.33554011e-05)"
      ]
     },
     "execution_count": 5,
     "metadata": {},
     "output_type": "execute_result"
    }
   ],
   "source": [
    "%%time\n",
    "ts.diversity()"
   ]
  },
  {
   "cell_type": "markdown",
   "metadata": {},
   "source": [
    "Note it's a lot faster than the previous example, even though it's also bigger (more mutations, and more samples).\n",
    "A quick note: by default, `tskit` will present a normalised version of this statistic scaled by the length of the region represented in `ts`. (This allows you to make comparisons between different tree sequences that may be of different lengths). However, this isn't how all other software computes diversity.\n",
    "If you wish to disable this behaviour, use the `span_normalise` argument"
   ]
  },
  {
   "cell_type": "code",
   "execution_count": 6,
   "metadata": {},
   "outputs": [
    {
     "data": {
      "text/plain": [
       "1167.7700564971785"
      ]
     },
     "execution_count": 6,
     "metadata": {},
     "output_type": "execute_result"
    }
   ],
   "source": [
    "div = ts.diversity(span_normalise=False)\n",
    "div[()]"
   ]
  },
  {
   "cell_type": "markdown",
   "metadata": {},
   "source": [
    "What else might you want to do? Well, remember our dataset consists of samples from two populations here, of different sizes. We’d expect them to each have different diversity levels, and for these to differ from the overall (sample-wide) diversity rate. We can get this information out by specifying each of these with the `sample_nodes` output."
   ]
  },
  {
   "cell_type": "code",
   "execution_count": 7,
   "metadata": {},
   "outputs": [
    {
     "data": {
      "text/html": [
       "\n",
       "            <div>\n",
       "                <style scoped=\"\">\n",
       "                    .tskit-table tbody tr th:only-of-type {vertical-align: middle;}\n",
       "                    .tskit-table tbody tr th {vertical-align: top;}\n",
       "                    .tskit-table tbody td {text-align: right;padding: 0.5em 0.5em;}\n",
       "                    .tskit-table tbody th {padding: 0.5em 0.5em;}\n",
       "                </style>\n",
       "                <table border=\"1\" class=\"tskit-table\">\n",
       "                    <thead>\n",
       "                        <tr>\n",
       "                            <th>id</th><th>metadata</th>\n",
       "                        </tr>\n",
       "                    </thead>\n",
       "                    <tbody>\n",
       "                        <tr><td>0</td><td>{'description': '', 'name': 'SMALL'}</td></tr>\n",
       "<tr><td>1</td><td>{'description': '', 'name': 'BIG'}</td></tr>\n",
       "<tr><td>2</td><td>{'description': '', 'name': 'ADMIX'}</td></tr>\n",
       "<tr><td>3</td><td>{'description': '', 'name': 'ANC'}</td></tr>\n",
       "\n",
       "                    </tbody>\n",
       "                </table>\n",
       "            </div>\n",
       "        "
      ],
      "text/plain": [
       "<tskit.tables.PopulationTable at 0x116998290>"
      ]
     },
     "execution_count": 7,
     "metadata": {},
     "output_type": "execute_result"
    }
   ],
   "source": [
    "ts.tables.populations"
   ]
  },
  {
   "cell_type": "code",
   "execution_count": 8,
   "metadata": {},
   "outputs": [
    {
     "data": {
      "text/plain": [
       "array([], dtype=int32)"
      ]
     },
     "execution_count": 8,
     "metadata": {},
     "output_type": "execute_result"
    }
   ],
   "source": [
    "ts.samples(3)"
   ]
  },
  {
   "cell_type": "code",
   "execution_count": 9,
   "metadata": {},
   "outputs": [
    {
     "data": {
      "text/plain": [
       "array([1.16266316e-05, 2.02216842e-05, 2.15248421e-05, 2.33554011e-05])"
      ]
     },
     "execution_count": 9,
     "metadata": {},
     "output_type": "execute_result"
    }
   ],
   "source": [
    "samples_of_interest=[ts.samples(population=0),\n",
    "                          ts.samples(population=1),\n",
    "                          ts.samples(population=2),\n",
    "                          ts.samples()]\n",
    "ts.diversity(sample_sets=samples_of_interest)"
   ]
  },
  {
   "cell_type": "code",
   "execution_count": 10,
   "metadata": {},
   "outputs": [
    {
     "data": {
      "text/plain": [
       "array([1.11880000e-05, 2.55733333e-05])"
      ]
     },
     "execution_count": 10,
     "metadata": {},
     "output_type": "execute_result"
    }
   ],
   "source": [
    "ts.diversity(sample_sets=[[12, 14, 18, 7, 8],\n",
    "                          [23, 19, 10]])"
   ]
  },
  {
   "cell_type": "markdown",
   "metadata": {},
   "source": [
    "#### Genome scans\n",
    "\n",
    "So far — we’ve just been calculating these values along the entire regions. However, in many cases, you might be more interested in a scan of these values, to see how they vary along the genome. You can do this with the `windows` argument. You specify the start and end points of the sequence, and the locations of the breakpoints between each window. For instance, here, we’re specifying some windows of length 100kb:"
   ]
  },
  {
   "cell_type": "code",
   "execution_count": 11,
   "metadata": {},
   "outputs": [
    {
     "name": "stdout",
     "output_type": "stream",
     "text": [
      "[0.0, 1000000.0, 2000000.0, 3000000.0, 4000000.0, 5000000.0, 6000000.0, 7000000.0, 8000000.0, 9000000.0, 10000000.0, 11000000.0, 12000000.0, 13000000.0, 14000000.0, 15000000.0, 16000000.0, 17000000.0, 18000000.0, 19000000.0, 20000000.0, 21000000.0, 22000000.0, 23000000.0, 24000000.0, 25000000.0, 26000000.0, 27000000.0, 28000000.0, 29000000.0, 30000000.0, 31000000.0, 32000000.0, 33000000.0, 34000000.0, 35000000.0, 36000000.0, 37000000.0, 38000000.0, 39000000.0, 40000000.0, 41000000.0, 42000000.0, 43000000.0, 44000000.0, 45000000.0, 46000000.0, 47000000.0, 48000000.0, 49000000.0, 50000000.0]\n"
     ]
    }
   ],
   "source": [
    "breakpoints = [i*1e6 for i in range(0, 50 + 1)]\n",
    "print(breakpoints)"
   ]
  },
  {
   "cell_type": "code",
   "execution_count": 12,
   "metadata": {},
   "outputs": [
    {
     "name": "stdout",
     "output_type": "stream",
     "text": [
      "(50, 4)\n"
     ]
    }
   ],
   "source": [
    "div = ts.diversity(sample_sets=samples_of_interest, windows=breakpoints)\n",
    "print(div.shape)\n",
    "# print(div)"
   ]
  },
  {
   "cell_type": "markdown",
   "metadata": {},
   "source": [
    "The result is now that we get a 50 by 4 array, one row for each window, each element of the row being diversity value in that particular window amongst a particular set of samples. Let’s plot these:"
   ]
  },
  {
   "cell_type": "code",
   "execution_count": 13,
   "metadata": {},
   "outputs": [
    {
     "data": {
      "image/png": "[encoded data removed]",
      "text/plain": [
       "<Figure size 432x288 with 1 Axes>"
      ]
     },
     "metadata": {
      "needs_background": "light"
     },
     "output_type": "display_data"
    }
   ],
   "source": [
    "names_to_plot = ['SMALL', 'BIG', 'ADMIX', 'ALL']\n",
    "lines = plt.plot(breakpoints[:-1], div)\n",
    "plt.legend(lines, names_to_plot);"
   ]
  },
  {
   "cell_type": "markdown",
   "metadata": {},
   "source": [
    "Because we ran a neutral simulation, we don’t expect any significant changes in diversity along the genome, and the variation we do see is likely just noise. Soon, we’ll see another way to clarify this. "
   ]
  },
  {
   "cell_type": "markdown",
   "metadata": {},
   "source": [
    "### Multi-way statistics"
   ]
  },
  {
   "cell_type": "markdown",
   "metadata": {},
   "source": [
    "So far we’ve been looking only at diversity, to help us get used to the general syntax of tskit’s statistics interface. But there are many others which work in exactly the same way. The only thing that can really differ is whether the statistics are 'one-way' or 'not.\n",
    "\n",
    "Diversity is an example of a 'one-way' statistic. Basically, this means that the statistic is based on calculating a number where all of the samples are exchangeable in the calculation: if you were to re-label one of the samples with another label, you’d still get the same number out, all of the samples have the exact same 'role' in the calculation you perform.\n",
    "\n",
    "Other examples of one-way statistics are: (list them) in these, you can specify any number of 'sample_sets' and the one-way statitic will be computed on each of them in turn.\n",
    "\n",
    " - [allele_frequency_spectrum](https://tskit.dev/tskit/docs/stable/python-api.html#tskit.TreeSequence.allele_frequency_spectrum)\n",
    " - [segregating_sites](https://tskit.dev/tskit/docs/stable/python-api.html#tskit.TreeSequence.segregating_sites)\n",
    " - [Tajimas_D](https://tskit.dev/tskit/docs/stable/python-api.html#tskit.TreeSequence.Tajimas_D)\n",
    " - [trait_covariance](https://tskit.dev/tskit/docs/stable/python-api.html#tskit.TreeSequence.trait_covariance), [trait_correlation](https://tskit.dev/tskit/docs/stable/python-api.html#tskit.TreeSequence.trait_correlation) and [trait_linear_model](https://tskit.dev/tskit/docs/stable/python-api.html#tskit.TreeSequence.trait_linear_model)\n",
    " \n",
    "These last 3 are interesting ones we'll look at later link [here](https://tskit.dev/tskit/docs/stable/stats.html#sec-stats-notes-trait). "
   ]
  },
  {
   "cell_type": "markdown",
   "metadata": {},
   "source": [
    "This is *not* the case for certain other population genetic statistics that we call ‘multi-way statistics’. F-statistics being a prime example.\n",
    "F3: a measure of ‘admixedness’. You can’t just put some samples from A in B, or from B in C, you’ll get a completely different number (that will often not represent the thing you are actually trying to measure).\n",
    "In these statistics, you’ll need to pay special heed to the `sample_sets` argument — the docs will specify exactly how many sets are required, and what should be in which field, to get the statistic you are interested in. For F3, we need (a, b, c)"
   ]
  },
  {
   "cell_type": "code",
   "execution_count": 14,
   "metadata": {},
   "outputs": [],
   "source": [
    "f3_012 = ts.f3(sample_sets=[ts.samples(0), ts.samples(1), ts.samples(2)],\n",
    "               windows=breakpoints)\n",
    "f3_102 = ts.f3(sample_sets=[ts.samples(1), ts.samples(0), ts.samples(2)],\n",
    "               windows=breakpoints)\n",
    "f3_201 = ts.f3(sample_sets=[ts.samples(2), ts.samples(0), ts.samples(1)],\n",
    "               windows=breakpoints)"
   ]
  },
  {
   "cell_type": "code",
   "execution_count": 15,
   "metadata": {},
   "outputs": [
    {
     "data": {
      "text/plain": [
       "<matplotlib.legend.Legend at 0x117a92690>"
      ]
     },
     "execution_count": 15,
     "metadata": {},
     "output_type": "execute_result"
    },
    {
     "data": {
      "image/png": "[encoded data removed]",
      "text/plain": [
       "<Figure size 432x288 with 1 Axes>"
      ]
     },
     "metadata": {
      "needs_background": "light"
     },
     "output_type": "display_data"
    }
   ],
   "source": [
    "names_to_plot = ['SMALL;BIG,ADMIX', 'BIG;SMALL,ADMIX', 'ADMIX;BIG,SMALL']\n",
    "lines = plt.plot(breakpoints[:-1], np.transpose([f3_012, f3_102, f3_201]))\n",
    "plt.legend(lines, names_to_plot)"
   ]
  },
  {
   "cell_type": "markdown",
   "metadata": {},
   "source": [
    "The green line `f3(ADMIX;BIG,SMALL)` is different to the others, consistently below 0. This suggests that `ADMIX` might be an admixed population with gene flow from `BIG` and `SMALL` (which is indeed the case, since this is what we simulated)."
   ]
  },
  {
   "cell_type": "markdown",
   "metadata": {},
   "source": [
    "Here are some other examples of multi-way statistics provided by tskit: (add in links later)\n",
    "\n",
    " - divergence\n",
    " - genetic_relatedness\n",
    " - Patterson's f2, f3, f4\n",
    " - genealogical_nearest_neighbours\n",
    " - Fst"
   ]
  },
  {
   "cell_type": "markdown",
   "metadata": {},
   "source": [
    "### Branch stats\n",
    "\n",
    "We saw, and briefly noted, how apparently the statistics were along the genome. As you know by now, some of this is just noise, and it can be difficult doing this statistic test by just eyeballing the data. A big part of many population genetic tests, including tests for selection, introgressed regions, is being able to make educated guesses about where the patterns you see are *not* due to this.\n",
    "This is complicated by the fact that there are several different types of randomness in genetic models that interact with each other.\n",
    "There is randomness in the genealogical trees that are produced. If you have two populations same in size, still may have coalescences (common ancestors) in slightly different times (expect those to obey the same distribution), each simulation is just one realisation of potential history, and randomness of recombination means locations, lengths along which those relationships hold also random (this is what sim_ancestry models).\n",
    "\n",
    "On top of that, there’s added randomness due to randomness of mutation processes. Even if you have two regions of a genome in a given individual that has been inherited from the same two regions of some ancestor, inherited via the same set of genealogical descendants, there may be a different density of mutations simply because of the randomness of mutations.\n",
    "\n",
    "Consider how different one of our trees looks..."
   ]
  },
  {
   "cell_type": "code",
   "execution_count": 16,
   "metadata": {},
   "outputs": [
    {
     "data": {
      "image/svg+xml": [
       "<svg baseProfile=\"full\" height=\"200\" version=\"1.1\" width=\"300\" xmlns=\"http://www.w3.org/2000/svg\" xmlns:ev=\"http://www.w3.org/2001/xml-events\" xmlns:xlink=\"http://www.w3.org/1999/xlink\"><defs><style type=\"text/css\"><![CDATA[.background path {fill: #808080; fill-opacity: 0}.background path:nth-child(odd) {fill-opacity: .1}.axes {font-size: 14px}.x-axis .tick .lab {font-weight: bold; dominant-baseline: hanging}.axes, .tree {font-size: 14px; text-anchor: middle}.axes line, .edge {stroke: black; fill: none}.y-axis .grid {stroke: #FAFAFA}.node > .sym {fill: black; stroke: none}.site > .sym {stroke: black}.mut text {fill: red; font-style: italic}.mut.extra text {fill: hotpink}.mut line {fill: none; stroke: none}.mut .sym {fill: none; stroke: red}.mut.extra .sym {stroke: hotpink}.node .mut .sym {stroke-width: 1.5px}.tree text, .tree-sequence text {dominant-baseline: central}.plotbox .lab.lft {text-anchor: end}.plotbox .lab.rgt {text-anchor: start}]]></style></defs><g class=\"tree t0\"><g class=\"plotbox\"><g class=\"c2 node n1004 p3 root\" transform=\"translate(185.208 26.8)\"><g class=\"a1004 c2 node n678 p3\" transform=\"translate(51.4583 63.9778)\"><g class=\"a678 i2 leaf node n2 p1 sample\" transform=\"translate(-21.6667 77.4222)\"><path class=\"edge\" d=\"M 0 0 V -77.4222 H 21.6667\"/><rect class=\"sym\" height=\"6\" width=\"6\" x=\"-3\" y=\"-3\"/><text class=\"lab\" transform=\"translate(0 11)\">2</text></g><g class=\"a678 i3 leaf node n3 p1 sample\" transform=\"translate(21.6667 77.4222)\"><path class=\"edge\" d=\"M 0 0 V -77.4222 H -21.6667\"/><rect class=\"sym\" height=\"6\" width=\"6\" x=\"-3\" y=\"-3\"/><text class=\"lab\" transform=\"translate(0 11)\">3</text></g><path class=\"edge\" d=\"M 0 0 V -63.9778 H -51.4583\"/><circle class=\"sym\" cx=\"0\" cy=\"0\" r=\"3\"/><text class=\"lab rgt\" transform=\"translate(3 -7.0)\">678</text></g><g class=\"a1004 c2 node n721 p3\" transform=\"translate(-51.4583 58.1972)\"><g class=\"a721 i4 leaf node n4 p2 sample\" transform=\"translate(37.9167 83.2028)\"><path class=\"edge\" d=\"M 0 0 V -83.2028 H -37.9167\"/><rect class=\"sym\" height=\"6\" width=\"6\" x=\"-3\" y=\"-3\"/><text class=\"lab\" transform=\"translate(0 11)\">4</text></g><g class=\"a721 c2 node n250 p0\" transform=\"translate(-37.9167 55.2199)\"><g class=\"a250 i5 leaf node n5 p2 sample\" transform=\"translate(32.5 27.9829)\"><path class=\"edge\" d=\"M 0 0 V -27.9829 H -32.5\"/><rect class=\"sym\" height=\"6\" width=\"6\" x=\"-3\" y=\"-3\"/><text class=\"lab\" transform=\"translate(0 11)\">5</text></g><g class=\"a250 c2 node n9 p0\" transform=\"translate(-32.5 25.7035)\"><g class=\"a9 i0 leaf node n0 p0 sample\" transform=\"translate(-21.6667 2.2794)\"><path class=\"edge\" d=\"M 0 0 V -2.2794 H 21.6667\"/><rect class=\"sym\" height=\"6\" width=\"6\" x=\"-3\" y=\"-3\"/><text class=\"lab\" transform=\"translate(0 11)\">0</text></g><g class=\"a9 i1 leaf node n1 p0 sample\" transform=\"translate(21.6667 2.2794)\"><path class=\"edge\" d=\"M 0 0 V -2.2794 H -21.6667\"/><rect class=\"sym\" height=\"6\" width=\"6\" x=\"-3\" y=\"-3\"/><text class=\"lab\" transform=\"translate(0 11)\">1</text></g><path class=\"edge\" d=\"M 0 0 V -25.7035 H 32.5\"/><circle class=\"sym\" cx=\"0\" cy=\"0\" r=\"3\"/><text class=\"lab lft\" transform=\"translate(-3 -7.0)\">9</text></g><path class=\"edge\" d=\"M 0 0 V -55.2199 H 37.9167\"/><circle class=\"sym\" cx=\"0\" cy=\"0\" r=\"3\"/><text class=\"lab lft\" transform=\"translate(-3 -7.0)\">250</text></g><path class=\"edge\" d=\"M 0 0 V -58.1972 H 51.4583\"/><circle class=\"sym\" cx=\"0\" cy=\"0\" r=\"3\"/><text class=\"lab lft\" transform=\"translate(-3 -7.0)\">721</text></g><circle class=\"sym\" cx=\"0\" cy=\"0\" r=\"3\"/><text class=\"lab\" transform=\"translate(0 -11)\">1004</text></g></g></g></svg>"
      ],
      "text/plain": [
       "<IPython.core.display.SVG object>"
      ]
     },
     "metadata": {},
     "output_type": "display_data"
    }
   ],
   "source": [
    "# [Look at two different trees that are very far apart from each other]\n",
    "sts = ts.simplify(samples=[1, 11, 21, 31, 41, 51])\n",
    "tree = sts.first()\n",
    "display(SVG(tree.draw(width=300)))"
   ]
  },
  {
   "cell_type": "markdown",
   "metadata": {},
   "source": [
    "from one much further along the genome"
   ]
  },
  {
   "cell_type": "code",
   "execution_count": 17,
   "metadata": {},
   "outputs": [
    {
     "data": {
      "image/svg+xml": [
       "<svg baseProfile=\"full\" height=\"200\" version=\"1.1\" width=\"300\" xmlns=\"http://www.w3.org/2000/svg\" xmlns:ev=\"http://www.w3.org/2001/xml-events\" xmlns:xlink=\"http://www.w3.org/1999/xlink\"><defs><style type=\"text/css\"><![CDATA[.background path {fill: #808080; fill-opacity: 0}.background path:nth-child(odd) {fill-opacity: .1}.axes {font-size: 14px}.x-axis .tick .lab {font-weight: bold; dominant-baseline: hanging}.axes, .tree {font-size: 14px; text-anchor: middle}.axes line, .edge {stroke: black; fill: none}.y-axis .grid {stroke: #FAFAFA}.node > .sym {fill: black; stroke: none}.site > .sym {stroke: black}.mut text {fill: red; font-style: italic}.mut.extra text {fill: hotpink}.mut line {fill: none; stroke: none}.mut .sym {fill: none; stroke: red}.mut.extra .sym {stroke: hotpink}.node .mut .sym {stroke-width: 1.5px}.tree text, .tree-sequence text {dominant-baseline: central}.plotbox .lab.lft {text-anchor: end}.plotbox .lab.rgt {text-anchor: start}]]></style></defs><g class=\"tree t2029\"><g class=\"plotbox\"><g class=\"c2 node n758 p3 root\" transform=\"translate(150 26.8)\"><g class=\"a758 c2 node n363 p0\" transform=\"translate(-75.8333 74.7452)\"><g class=\"a363 i0 leaf node n0 p0 sample\" transform=\"translate(-32.5 66.6548)\"><path class=\"edge\" d=\"M 0 0 V -66.6548 H 32.5\"/><rect class=\"sym\" height=\"6\" width=\"6\" x=\"-3\" y=\"-3\"/><text class=\"lab\" transform=\"translate(0 11)\">0</text></g><g class=\"a363 c2 node n130 p0\" transform=\"translate(32.5 39.5584)\"><g class=\"a130 i1 leaf node n1 p0 sample\" transform=\"translate(-21.6667 27.0964)\"><path class=\"edge\" d=\"M 0 0 V -27.0964 H 21.6667\"/><rect class=\"sym\" height=\"6\" width=\"6\" x=\"-3\" y=\"-3\"/><text class=\"lab\" transform=\"translate(0 11)\">1</text></g><g class=\"a130 i4 leaf node n4 p2 sample\" transform=\"translate(21.6667 27.0964)\"><path class=\"edge\" d=\"M 0 0 V -27.0964 H -21.6667\"/><rect class=\"sym\" height=\"6\" width=\"6\" x=\"-3\" y=\"-3\"/><text class=\"lab\" transform=\"translate(0 11)\">4</text></g><path class=\"edge\" d=\"M 0 0 V -39.5584 H -32.5\"/><circle class=\"sym\" cx=\"0\" cy=\"0\" r=\"3\"/><text class=\"lab rgt\" transform=\"translate(3 -7.0)\">130</text></g><path class=\"edge\" d=\"M 0 0 V -74.7452 H 75.8333\"/><circle class=\"sym\" cx=\"0\" cy=\"0\" r=\"3\"/><text class=\"lab lft\" transform=\"translate(-3 -7.0)\">363</text></g><g class=\"a758 c2 node n538 p3\" transform=\"translate(75.8333 45.5174)\"><g class=\"a538 i5 leaf node n5 p2 sample\" transform=\"translate(32.5 95.8826)\"><path class=\"edge\" d=\"M 0 0 V -95.8826 H -32.5\"/><rect class=\"sym\" height=\"6\" width=\"6\" x=\"-3\" y=\"-3\"/><text class=\"lab\" transform=\"translate(0 11)\">5</text></g><g class=\"a538 c2 node n7 p1\" transform=\"translate(-32.5 93.8164)\"><g class=\"a7 i2 leaf node n2 p1 sample\" transform=\"translate(-21.6667 2.06617)\"><path class=\"edge\" d=\"M 0 0 V -2.06617 H 21.6667\"/><rect class=\"sym\" height=\"6\" width=\"6\" x=\"-3\" y=\"-3\"/><text class=\"lab\" transform=\"translate(0 11)\">2</text></g><g class=\"a7 i3 leaf node n3 p1 sample\" transform=\"translate(21.6667 2.06617)\"><path class=\"edge\" d=\"M 0 0 V -2.06617 H -21.6667\"/><rect class=\"sym\" height=\"6\" width=\"6\" x=\"-3\" y=\"-3\"/><text class=\"lab\" transform=\"translate(0 11)\">3</text></g><path class=\"edge\" d=\"M 0 0 V -93.8164 H 32.5\"/><circle class=\"sym\" cx=\"0\" cy=\"0\" r=\"3\"/><text class=\"lab lft\" transform=\"translate(-3 -7.0)\">7</text></g><path class=\"edge\" d=\"M 0 0 V -45.5174 H -75.8333\"/><circle class=\"sym\" cx=\"0\" cy=\"0\" r=\"3\"/><text class=\"lab rgt\" transform=\"translate(3 -7.0)\">538</text></g><circle class=\"sym\" cx=\"0\" cy=\"0\" r=\"3\"/><text class=\"lab\" transform=\"translate(0 -11)\">758</text></g></g></g></svg>"
      ],
      "text/plain": [
       "<IPython.core.display.SVG object>"
      ]
     },
     "metadata": {},
     "output_type": "display_data"
    }
   ],
   "source": [
    "tree = sts.last()\n",
    "display(SVG(tree.draw(width=300)))"
   ]
  },
  {
   "cell_type": "markdown",
   "metadata": {},
   "source": [
    "When you calculate statistics based on allele-frequencies — what we call site-based statistics — *both* of these sources of noise contribute to the noisiness you see."
   ]
  },
  {
   "cell_type": "code",
   "execution_count": 18,
   "metadata": {},
   "outputs": [
    {
     "data": {
      "image/svg+xml": [
       "<svg baseProfile=\"full\" height=\"200\" version=\"1.1\" width=\"300\" xmlns=\"http://www.w3.org/2000/svg\" xmlns:ev=\"http://www.w3.org/2001/xml-events\" xmlns:xlink=\"http://www.w3.org/1999/xlink\"><defs><style type=\"text/css\"><![CDATA[.background path {fill: #808080; fill-opacity: 0}.background path:nth-child(odd) {fill-opacity: .1}.axes {font-size: 14px}.x-axis .tick .lab {font-weight: bold; dominant-baseline: hanging}.axes, .tree {font-size: 14px; text-anchor: middle}.axes line, .edge {stroke: black; fill: none}.y-axis .grid {stroke: #FAFAFA}.node > .sym {fill: black; stroke: none}.site > .sym {stroke: black}.mut text {fill: red; font-style: italic}.mut.extra text {fill: hotpink}.mut line {fill: none; stroke: none}.mut .sym {fill: none; stroke: red}.mut.extra .sym {stroke: hotpink}.node .mut .sym {stroke-width: 1.5px}.tree text, .tree-sequence text {dominant-baseline: central}.plotbox .lab.lft {text-anchor: end}.plotbox .lab.rgt {text-anchor: start}]]></style></defs><g class=\"tree t2029\"><g class=\"plotbox\"><g class=\"c2 node n758 p3 root\" transform=\"translate(150 26.8)\"><g class=\"a758 c2 node n363 p0\" transform=\"translate(-75.8333 74.7452)\"><g class=\"a363 i0 leaf node n0 p0 sample\" transform=\"translate(-32.5 66.6548)\"><path class=\"edge\" d=\"M 0 0 V -66.6548 H 32.5\"/><rect class=\"sym\" height=\"6\" width=\"6\" x=\"-3\" y=\"-3\"/><text class=\"lab\" transform=\"translate(0 11)\">0</text></g><g class=\"a363 c2 node n130 p0\" transform=\"translate(32.5 39.5584)\"><g class=\"a130 i1 leaf node n1 p0 sample\" transform=\"translate(-21.6667 27.0964)\"><path class=\"edge\" d=\"M 0 0 V -27.0964 H 21.6667\"/><rect class=\"sym\" height=\"6\" width=\"6\" x=\"-3\" y=\"-3\"/><text class=\"lab\" transform=\"translate(0 11)\">1</text></g><g class=\"a130 i4 leaf node n4 p2 sample\" transform=\"translate(21.6667 27.0964)\"><path class=\"edge\" d=\"M 0 0 V -27.0964 H -21.6667\"/><rect class=\"sym\" height=\"6\" width=\"6\" x=\"-3\" y=\"-3\"/><text class=\"lab\" transform=\"translate(0 11)\">4</text></g><path class=\"edge\" d=\"M 0 0 V -39.5584 H -32.5\"/><circle class=\"sym\" cx=\"0\" cy=\"0\" r=\"3\"/><text class=\"lab rgt\" transform=\"translate(3 -7.0)\">130</text></g><path class=\"edge\" d=\"M 0 0 V -74.7452 H 75.8333\"/><circle class=\"sym\" cx=\"0\" cy=\"0\" r=\"3\"/><text class=\"lab lft\" transform=\"translate(-3 -7.0)\">363</text></g><g class=\"a758 c2 node n538 p3\" transform=\"translate(75.8333 45.5174)\"><g class=\"a538 i5 leaf node n5 p2 sample\" transform=\"translate(32.5 95.8826)\"><path class=\"edge\" d=\"M 0 0 V -95.8826 H -32.5\"/><rect class=\"sym\" height=\"6\" width=\"6\" x=\"-3\" y=\"-3\"/><text class=\"lab\" transform=\"translate(0 11)\">5</text></g><g class=\"a538 c2 node n7 p1\" transform=\"translate(-32.5 93.8164)\"><g class=\"a7 i2 leaf node n2 p1 sample\" transform=\"translate(-21.6667 2.06617)\"><path class=\"edge\" d=\"M 0 0 V -2.06617 H 21.6667\"/><rect class=\"sym\" height=\"6\" width=\"6\" x=\"-3\" y=\"-3\"/><text class=\"lab\" transform=\"translate(0 11)\">2</text></g><g class=\"a7 i3 leaf node n3 p1 sample\" transform=\"translate(21.6667 2.06617)\"><path class=\"edge\" d=\"M 0 0 V -2.06617 H -21.6667\"/><rect class=\"sym\" height=\"6\" width=\"6\" x=\"-3\" y=\"-3\"/><text class=\"lab\" transform=\"translate(0 11)\">3</text></g><path class=\"edge\" d=\"M 0 0 V -93.8164 H 32.5\"/><circle class=\"sym\" cx=\"0\" cy=\"0\" r=\"3\"/><text class=\"lab lft\" transform=\"translate(-3 -7.0)\">7</text></g><path class=\"edge\" d=\"M 0 0 V -45.5174 H -75.8333\"/><circle class=\"sym\" cx=\"0\" cy=\"0\" r=\"3\"/><text class=\"lab rgt\" transform=\"translate(3 -7.0)\">538</text></g><circle class=\"sym\" cx=\"0\" cy=\"0\" r=\"3\"/><text class=\"lab\" transform=\"translate(0 -11)\">758</text></g></g></g></svg>"
      ],
      "text/plain": [
       "<IPython.core.display.SVG object>"
      ]
     },
     "metadata": {},
     "output_type": "display_data"
    }
   ],
   "source": [
    "# [Look at the same tree, overlaid with different mutations each time]\n",
    "display(SVG(mts1.last().draw(width=300)))"
   ]
  },
  {
   "cell_type": "code",
   "execution_count": 19,
   "metadata": {},
   "outputs": [
    {
     "data": {
      "image/svg+xml": [
       "<svg baseProfile=\"full\" height=\"200\" version=\"1.1\" width=\"300\" xmlns=\"http://www.w3.org/2000/svg\" xmlns:ev=\"http://www.w3.org/2001/xml-events\" xmlns:xlink=\"http://www.w3.org/1999/xlink\"><defs><style type=\"text/css\"><![CDATA[.background path {fill: #808080; fill-opacity: 0}.background path:nth-child(odd) {fill-opacity: .1}.axes {font-size: 14px}.x-axis .tick .lab {font-weight: bold; dominant-baseline: hanging}.axes, .tree {font-size: 14px; text-anchor: middle}.axes line, .edge {stroke: black; fill: none}.y-axis .grid {stroke: #FAFAFA}.node > .sym {fill: black; stroke: none}.site > .sym {stroke: black}.mut text {fill: red; font-style: italic}.mut.extra text {fill: hotpink}.mut line {fill: none; stroke: none}.mut .sym {fill: none; stroke: red}.mut.extra .sym {stroke: hotpink}.node .mut .sym {stroke-width: 1.5px}.tree text, .tree-sequence text {dominant-baseline: central}.plotbox .lab.lft {text-anchor: end}.plotbox .lab.rgt {text-anchor: start}]]></style></defs><g class=\"tree t2029\"><g class=\"plotbox\"><g class=\"c2 node n758 p3 root\" transform=\"translate(150 26.8)\"><g class=\"a758 c2 node n363 p0\" transform=\"translate(-75.8333 74.7452)\"><g class=\"a363 i0 leaf node n0 p0 sample\" transform=\"translate(-32.5 66.6548)\"><path class=\"edge\" d=\"M 0 0 V -66.6548 H 32.5\"/><rect class=\"sym\" height=\"6\" width=\"6\" x=\"-3\" y=\"-3\"/><text class=\"lab\" transform=\"translate(0 11)\">0</text></g><g class=\"a363 c2 node n130 p0\" transform=\"translate(32.5 39.5584)\"><g class=\"a130 i1 leaf node n1 p0 sample\" transform=\"translate(-21.6667 27.0964)\"><path class=\"edge\" d=\"M 0 0 V -27.0964 H 21.6667\"/><rect class=\"sym\" height=\"6\" width=\"6\" x=\"-3\" y=\"-3\"/><text class=\"lab\" transform=\"translate(0 11)\">1</text></g><g class=\"a130 i4 leaf node n4 p2 sample\" transform=\"translate(21.6667 27.0964)\"><path class=\"edge\" d=\"M 0 0 V -27.0964 H -21.6667\"/><rect class=\"sym\" height=\"6\" width=\"6\" x=\"-3\" y=\"-3\"/><text class=\"lab\" transform=\"translate(0 11)\">4</text></g><path class=\"edge\" d=\"M 0 0 V -39.5584 H -32.5\"/><circle class=\"sym\" cx=\"0\" cy=\"0\" r=\"3\"/><text class=\"lab rgt\" transform=\"translate(3 -7.0)\">130</text></g><path class=\"edge\" d=\"M 0 0 V -74.7452 H 75.8333\"/><circle class=\"sym\" cx=\"0\" cy=\"0\" r=\"3\"/><text class=\"lab lft\" transform=\"translate(-3 -7.0)\">363</text></g><g class=\"a758 c2 node n538 p3\" transform=\"translate(75.8333 45.5174)\"><g class=\"a538 i5 leaf node n5 p2 sample\" transform=\"translate(32.5 95.8826)\"><path class=\"edge\" d=\"M 0 0 V -95.8826 H -32.5\"/><rect class=\"sym\" height=\"6\" width=\"6\" x=\"-3\" y=\"-3\"/><text class=\"lab\" transform=\"translate(0 11)\">5</text></g><g class=\"a538 c2 node n7 p1\" transform=\"translate(-32.5 93.8164)\"><g class=\"a7 i2 leaf node n2 p1 sample\" transform=\"translate(-21.6667 2.06617)\"><path class=\"edge\" d=\"M 0 0 V -2.06617 H 21.6667\"/><rect class=\"sym\" height=\"6\" width=\"6\" x=\"-3\" y=\"-3\"/><text class=\"lab\" transform=\"translate(0 11)\">2</text></g><g class=\"a7 i3 leaf node n3 p1 sample\" transform=\"translate(21.6667 2.06617)\"><path class=\"edge\" d=\"M 0 0 V -2.06617 H -21.6667\"/><rect class=\"sym\" height=\"6\" width=\"6\" x=\"-3\" y=\"-3\"/><text class=\"lab\" transform=\"translate(0 11)\">3</text></g><path class=\"edge\" d=\"M 0 0 V -93.8164 H 32.5\"/><circle class=\"sym\" cx=\"0\" cy=\"0\" r=\"3\"/><text class=\"lab lft\" transform=\"translate(-3 -7.0)\">7</text></g><path class=\"edge\" d=\"M 0 0 V -45.5174 H -75.8333\"/><circle class=\"sym\" cx=\"0\" cy=\"0\" r=\"3\"/><text class=\"lab rgt\" transform=\"translate(3 -7.0)\">538</text></g><circle class=\"sym\" cx=\"0\" cy=\"0\" r=\"3\"/><text class=\"lab\" transform=\"translate(0 -11)\">758</text></g></g></g></svg>"
      ],
      "text/plain": [
       "<IPython.core.display.SVG object>"
      ]
     },
     "metadata": {},
     "output_type": "display_data"
    }
   ],
   "source": [
    "display(SVG(mts2.last().draw(width=300)))"
   ]
  },
  {
   "cell_type": "markdown",
   "metadata": {},
   "source": [
    "But in tree sequences, you have information about branches which allows you to bypass this latter type of mutation.\n",
    "Instead of moving up the trees and updating counts of some statistic every time you come across a mutation, update the statistic based on the *number of mutations you expect*. This is proportional to the branch length (since we’re assuming uniformity of mutations over time). This is the basic idea of branch stats — low variance form of site-based statistic that substitutes the length of each branch for the actual number of mutations on that branch. Note this deals with the second type of randomness, so is overall lower variance.\n",
    "\n",
    "Here are the diversity stats we looked at before, this time with the branch versions included. Notice that the branch and site versions are clearly correlated, which makes sense — the mutations on a given tree are conditional on that tree — but the branch versions have significantly lower variance."
   ]
  },
  {
   "cell_type": "code",
   "execution_count": 20,
   "metadata": {},
   "outputs": [
    {
     "data": {
      "image/png": "[encoded data removed]",
      "text/plain": [
       "<Figure size 432x288 with 1 Axes>"
      ]
     },
     "metadata": {
      "needs_background": "light"
     },
     "output_type": "display_data"
    }
   ],
   "source": [
    "# [Diversity stat]\n",
    "div = ts.diversity(sample_sets=samples_of_interest, windows=breakpoints, mode='branch',span_normalise=True)\n",
    "names_to_plot = ['SMALL', 'BIG', 'ADMIX', 'ALL']\n",
    "lines = plt.plot(breakpoints[:-1], div)\n",
    "plt.legend(lines, names_to_plot);"
   ]
  },
  {
   "cell_type": "code",
   "execution_count": 21,
   "metadata": {},
   "outputs": [
    {
     "data": {
      "image/png": "[encoded data removed]",
      "text/plain": [
       "<Figure size 432x288 with 1 Axes>"
      ]
     },
     "metadata": {
      "needs_background": "light"
     },
     "output_type": "display_data"
    }
   ],
   "source": [
    "# [Diversity stat]\n",
    "breakpoints = [i*1e6 for i in range(0, 50 + 1)]\n",
    "div_site = ts.diversity(sample_sets=samples_of_interest, windows=breakpoints, mode='site')\n",
    "div_branch = ts.diversity(sample_sets=samples_of_interest, windows=breakpoints, mode='branch')\n",
    "names_to_plot = ['SMALL', 'BIG', 'ADMIX', 'ALL']\n",
    "# lines = plt.plot(breakpoints[:-1], div_site)\n",
    "lines = plt.plot(breakpoints[:-1], div_site/div_branch)\n",
    "plt.legend(lines, names_to_plot);"
   ]
  },
  {
   "cell_type": "markdown",
   "metadata": {},
   "source": [
    "Since publication, has been leveraged in other more specific applications (Charleston Chiang, genetic_relatedness, our work). May be that conditional on having accurate tree , simulated or otherwise, departures between the branch and site versions of a statistic may indicate other processes of interest — mutagens affected particular genomic regions, for instance.\n",
    "\n",
    "(Is there some way to scale according to the mutation rate?)"
   ]
  },
  {
   "cell_type": "markdown",
   "metadata": {},
   "source": [
    "## Simplify"
   ]
  },
  {
   "cell_type": "markdown",
   "metadata": {},
   "source": [
    "Simplify is a powerful and flexible subsetting operation on tree sequences. \n",
    "Simplify your tree sequence so that it shows only the information you need (and correspondingly, easier\n",
    "Two of the most common ’subsetting’ operations we want to do with genomic datasets: We want to \n",
    "-  Look at the data for a subset of the samples in the original dataset\n",
    "- Look at sequence/variant information at only the sites that vary with respect to that subset.\n",
    "You’ve probably used bcftoolls, vcftools to do some combo of these things before if you’ve worked with real data.\n",
    "Tree sequence version of that is simplify, but it does a lot more. \n",
    "\n",
    "Basic syntax: the ’simplify’ method, with a list of sample IDs that you want to be in the new tree sequence.\n",
    "Here, we return the tree sequence for all of the admixed samples (which remember, has a population label of ‘2’):"
   ]
  },
  {
   "cell_type": "code",
   "execution_count": 22,
   "metadata": {
    "scrolled": true
   },
   "outputs": [
    {
     "data": {
      "text/html": [
       "\n",
       "            <div>\n",
       "              <style>\n",
       "                .tskit-table thead tr th {text-align: left;padding: 0.5em 0.5em;}\n",
       "                .tskit-table tbody tr td {padding: 0.5em 0.5em;}\n",
       "                .tskit-table tbody tr td:first-of-type {text-align: left;}\n",
       "                .tskit-details-label {vertical-align: top; padding-right:5px;}\n",
       "                .tskit-table-set {display: inline-flex;flex-wrap: wrap;margin: -12px 0 0 -12px;width: calc(100% + 12px);}\n",
       "                .tskit-table-set-table {margin: 12px 0 0 12px;}\n",
       "                details {display: inline-block;}\n",
       "                summary {cursor: pointer; outline: 0; display: list-item;}\n",
       "              </style>\n",
       "              <div class=\"tskit-table-set\">\n",
       "                <div class=\"tskit-table-set-table\">\n",
       "                  <table class=\"tskit-table\">\n",
       "                    <thead>\n",
       "                      <tr>\n",
       "                        <th style=\"padding:0;line-height:21px;\">\n",
       "                          <img style=\"height: 32px;display: inline-block;padding: 3px 5px 3px 0;\" src=\"https://raw.githubusercontent.com/tskit-dev/administrative/main/tskit_logo.svg\"/>\n",
       "                          <a target=\"_blank\" href=\"https://tskit.dev/tskit/docs/latest/python-api.html#the-treesequence-class\"> Tree Sequence </a>\n",
       "                        </th>\n",
       "                      </tr>\n",
       "                    </thead>\n",
       "                    <tbody>\n",
       "                      <tr><td>Trees</td><td>3012</td></tr>\n",
       "                      <tr><td>Sequence Length</td><td>50000000.0</td></tr>\n",
       "                      <tr><td>Time Units</td><td>unknown</td></tr>\n",
       "                      <tr><td>Sample Nodes</td><td>20</td></tr>\n",
       "                      <tr><td>Total Size</td><td>684.1 KiB</td></tr>\n",
       "                      <tr>\n",
       "                        <td>Metadata</td><td style=\"text-align: left;\">No Metadata</td></tr>\n",
       "                    </tbody>\n",
       "                  </table>\n",
       "                </div>\n",
       "                <div class=\"tskit-table-set-table\">\n",
       "                  <table class=\"tskit-table\">\n",
       "                    <thead>\n",
       "                      <tr>\n",
       "                        <th style=\"line-height:21px;\">Table</th>\n",
       "                        <th>Rows</th>\n",
       "                        <th>Size</th>\n",
       "                        <th>Has Metadata</th>\n",
       "                      </tr>\n",
       "                    </thead>\n",
       "                    <tbody>\n",
       "                    \n",
       "                  <tr>\n",
       "                    <td>Edges</td>\n",
       "                      <td>9923</td>\n",
       "                      <td>310.1 KiB</td>\n",
       "                      <td style=\"text-align: center;\">\n",
       "                        \n",
       "                      </td>\n",
       "                    </tr>\n",
       "                \n",
       "                  <tr>\n",
       "                    <td>Individuals</td>\n",
       "                      <td>10</td>\n",
       "                      <td>304 Bytes</td>\n",
       "                      <td style=\"text-align: center;\">\n",
       "                        \n",
       "                      </td>\n",
       "                    </tr>\n",
       "                \n",
       "                  <tr>\n",
       "                    <td>Migrations</td>\n",
       "                      <td>0</td>\n",
       "                      <td>8 Bytes</td>\n",
       "                      <td style=\"text-align: center;\">\n",
       "                        \n",
       "                      </td>\n",
       "                    </tr>\n",
       "                \n",
       "                  <tr>\n",
       "                    <td>Mutations</td>\n",
       "                      <td>3904</td>\n",
       "                      <td>141.1 KiB</td>\n",
       "                      <td style=\"text-align: center;\">\n",
       "                        \n",
       "                      </td>\n",
       "                    </tr>\n",
       "                \n",
       "                  <tr>\n",
       "                    <td>Nodes</td>\n",
       "                      <td>2050</td>\n",
       "                      <td>56.1 KiB</td>\n",
       "                      <td style=\"text-align: center;\">\n",
       "                        \n",
       "                      </td>\n",
       "                    </tr>\n",
       "                \n",
       "                  <tr>\n",
       "                    <td>Populations</td>\n",
       "                      <td>4</td>\n",
       "                      <td>343 Bytes</td>\n",
       "                      <td style=\"text-align: center;\">\n",
       "                        ✅\n",
       "                      </td>\n",
       "                    </tr>\n",
       "                \n",
       "                  <tr>\n",
       "                    <td>Provenances</td>\n",
       "                      <td>3</td>\n",
       "                      <td>3.3 KiB</td>\n",
       "                      <td style=\"text-align: center;\">\n",
       "                        \n",
       "                      </td>\n",
       "                    </tr>\n",
       "                \n",
       "                  <tr>\n",
       "                    <td>Sites</td>\n",
       "                      <td>3904</td>\n",
       "                      <td>95.3 KiB</td>\n",
       "                      <td style=\"text-align: center;\">\n",
       "                        \n",
       "                      </td>\n",
       "                    </tr>\n",
       "                \n",
       "                    </tbody>\n",
       "                  </table>\n",
       "                </div>\n",
       "              </div>\n",
       "            </div>\n",
       "            "
      ],
      "text/plain": [
       "<tskit.trees.TreeSequence at 0x116b39b90>"
      ]
     },
     "execution_count": 22,
     "metadata": {},
     "output_type": "execute_result"
    }
   ],
   "source": [
    "tss = ts.simplify(ts.samples(2))\n",
    "tss"
   ]
  },
  {
   "cell_type": "code",
   "execution_count": 23,
   "metadata": {},
   "outputs": [
    {
     "data": {
      "text/html": [
       "\n",
       "            <div>\n",
       "              <style>\n",
       "                .tskit-table thead tr th {text-align: left;padding: 0.5em 0.5em;}\n",
       "                .tskit-table tbody tr td {padding: 0.5em 0.5em;}\n",
       "                .tskit-table tbody tr td:first-of-type {text-align: left;}\n",
       "                .tskit-details-label {vertical-align: top; padding-right:5px;}\n",
       "                .tskit-table-set {display: inline-flex;flex-wrap: wrap;margin: -12px 0 0 -12px;width: calc(100% + 12px);}\n",
       "                .tskit-table-set-table {margin: 12px 0 0 12px;}\n",
       "                details {display: inline-block;}\n",
       "                summary {cursor: pointer; outline: 0; display: list-item;}\n",
       "              </style>\n",
       "              <div class=\"tskit-table-set\">\n",
       "                <div class=\"tskit-table-set-table\">\n",
       "                  <table class=\"tskit-table\">\n",
       "                    <thead>\n",
       "                      <tr>\n",
       "                        <th style=\"padding:0;line-height:21px;\">\n",
       "                          <img style=\"height: 32px;display: inline-block;padding: 3px 5px 3px 0;\" src=\"https://raw.githubusercontent.com/tskit-dev/administrative/main/tskit_logo.svg\"/>\n",
       "                          <a target=\"_blank\" href=\"https://tskit.dev/tskit/docs/latest/python-api.html#the-treesequence-class\"> Tree Sequence </a>\n",
       "                        </th>\n",
       "                      </tr>\n",
       "                    </thead>\n",
       "                    <tbody>\n",
       "                      <tr><td>Trees</td><td>5112</td></tr>\n",
       "                      <tr><td>Sequence Length</td><td>50000000.0</td></tr>\n",
       "                      <tr><td>Time Units</td><td>unknown</td></tr>\n",
       "                      <tr><td>Sample Nodes</td><td>60</td></tr>\n",
       "                      <tr><td>Total Size</td><td>1.1 MiB</td></tr>\n",
       "                      <tr>\n",
       "                        <td>Metadata</td><td style=\"text-align: left;\">No Metadata</td></tr>\n",
       "                    </tbody>\n",
       "                  </table>\n",
       "                </div>\n",
       "                <div class=\"tskit-table-set-table\">\n",
       "                  <table class=\"tskit-table\">\n",
       "                    <thead>\n",
       "                      <tr>\n",
       "                        <th style=\"line-height:21px;\">Table</th>\n",
       "                        <th>Rows</th>\n",
       "                        <th>Size</th>\n",
       "                        <th>Has Metadata</th>\n",
       "                      </tr>\n",
       "                    </thead>\n",
       "                    <tbody>\n",
       "                    \n",
       "                  <tr>\n",
       "                    <td>Edges</td>\n",
       "                      <td>18290</td>\n",
       "                      <td>571.6 KiB</td>\n",
       "                      <td style=\"text-align: center;\">\n",
       "                        \n",
       "                      </td>\n",
       "                    </tr>\n",
       "                \n",
       "                  <tr>\n",
       "                    <td>Individuals</td>\n",
       "                      <td>30</td>\n",
       "                      <td>864 Bytes</td>\n",
       "                      <td style=\"text-align: center;\">\n",
       "                        \n",
       "                      </td>\n",
       "                    </tr>\n",
       "                \n",
       "                  <tr>\n",
       "                    <td>Migrations</td>\n",
       "                      <td>0</td>\n",
       "                      <td>8 Bytes</td>\n",
       "                      <td style=\"text-align: center;\">\n",
       "                        \n",
       "                      </td>\n",
       "                    </tr>\n",
       "                \n",
       "                  <tr>\n",
       "                    <td>Mutations</td>\n",
       "                      <td>6004</td>\n",
       "                      <td>217.0 KiB</td>\n",
       "                      <td style=\"text-align: center;\">\n",
       "                        \n",
       "                      </td>\n",
       "                    </tr>\n",
       "                \n",
       "                  <tr>\n",
       "                    <td>Nodes</td>\n",
       "                      <td>3395</td>\n",
       "                      <td>92.8 KiB</td>\n",
       "                      <td style=\"text-align: center;\">\n",
       "                        \n",
       "                      </td>\n",
       "                    </tr>\n",
       "                \n",
       "                  <tr>\n",
       "                    <td>Populations</td>\n",
       "                      <td>4</td>\n",
       "                      <td>343 Bytes</td>\n",
       "                      <td style=\"text-align: center;\">\n",
       "                        ✅\n",
       "                      </td>\n",
       "                    </tr>\n",
       "                \n",
       "                  <tr>\n",
       "                    <td>Provenances</td>\n",
       "                      <td>2</td>\n",
       "                      <td>2.8 KiB</td>\n",
       "                      <td style=\"text-align: center;\">\n",
       "                        \n",
       "                      </td>\n",
       "                    </tr>\n",
       "                \n",
       "                  <tr>\n",
       "                    <td>Sites</td>\n",
       "                      <td>6003</td>\n",
       "                      <td>146.6 KiB</td>\n",
       "                      <td style=\"text-align: center;\">\n",
       "                        \n",
       "                      </td>\n",
       "                    </tr>\n",
       "                \n",
       "                    </tbody>\n",
       "                  </table>\n",
       "                </div>\n",
       "              </div>\n",
       "            </div>\n",
       "            "
      ],
      "text/plain": [
       "<tskit.trees.TreeSequence at 0x114c29ed0>"
      ]
     },
     "execution_count": 23,
     "metadata": {},
     "output_type": "execute_result"
    }
   ],
   "source": [
    "ts"
   ]
  },
  {
   "cell_type": "markdown",
   "metadata": {},
   "source": [
    "Examining this, we have a smaller tree sequence. Now 20 samples — just those that were in this population in the bigger tree seq. Also fewer edges, nodes in general — means statistics and other analyses will run quicker that if you’d used [sample_sets] in the bigger one.\n",
    "\n",
    "Note that the number of sites and mutations is also reduced. This is because simplify, in removing all the bits of ’tree sequence’ that weren’t necessary for the genealogy of these samples, it’s also removed all the mutations on those branches. These will either be mutations that are only inherited by other samples, or mutation that are ancestral to everyone in this smaller subset (so not variant sites).\n",
    "\n",
    "Also also -- it's not too much smaller. (not by 1/3, which is what you'd expect if tree sequences scaled linearly)\n",
    "\n",
    "Turns out that being able to do this operation efficiently is essential to using tree sequences in forward-time simulations — see [simplify paper] if interested."
   ]
  },
  {
   "cell_type": "markdown",
   "metadata": {},
   "source": [
    "## local ancestry"
   ]
  },
  {
   "cell_type": "markdown",
   "metadata": {},
   "source": [
    "Simulate with a census event"
   ]
  },
  {
   "cell_type": "code",
   "execution_count": 24,
   "metadata": {},
   "outputs": [
    {
     "data": {
      "text/plain": [
       "PopulationSplit(time=600, derived=['SMALL', 'BIG'], ancestral='ANC')"
      ]
     },
     "execution_count": 24,
     "metadata": {},
     "output_type": "execute_result"
    }
   ],
   "source": [
    "demography = msprime.Demography()\n",
    "demography.add_population(name=\"SMALL\", initial_size=200)\n",
    "demography.add_population(name=\"BIG\", initial_size=500)\n",
    "demography.add_population(name=\"ADMIX\", initial_size=200)\n",
    "demography.add_population(name=\"ANC\", initial_size=500)\n",
    "demography.add_admixture(\n",
    "    time=20, derived=\"ADMIX\", ancestral=[\"SMALL\", \"BIG\"], proportions=[0.5, 0.5])\n",
    "demography.add_census(time=21)\n",
    "demography.add_population_split(time=600, derived=[\"SMALL\", \"BIG\"], ancestral=\"ANC\")\n",
    "# demography.debug()"
   ]
  },
  {
   "cell_type": "code",
   "execution_count": 25,
   "metadata": {},
   "outputs": [
    {
     "data": {
      "text/html": [
       "\n",
       "            <div>\n",
       "              <style>\n",
       "                .tskit-table thead tr th {text-align: left;padding: 0.5em 0.5em;}\n",
       "                .tskit-table tbody tr td {padding: 0.5em 0.5em;}\n",
       "                .tskit-table tbody tr td:first-of-type {text-align: left;}\n",
       "                .tskit-details-label {vertical-align: top; padding-right:5px;}\n",
       "                .tskit-table-set {display: inline-flex;flex-wrap: wrap;margin: -12px 0 0 -12px;width: calc(100% + 12px);}\n",
       "                .tskit-table-set-table {margin: 12px 0 0 12px;}\n",
       "                details {display: inline-block;}\n",
       "                summary {cursor: pointer; outline: 0; display: list-item;}\n",
       "              </style>\n",
       "              <div class=\"tskit-table-set\">\n",
       "                <div class=\"tskit-table-set-table\">\n",
       "                  <table class=\"tskit-table\">\n",
       "                    <thead>\n",
       "                      <tr>\n",
       "                        <th style=\"padding:0;line-height:21px;\">\n",
       "                          <img style=\"height: 32px;display: inline-block;padding: 3px 5px 3px 0;\" src=\"https://raw.githubusercontent.com/tskit-dev/administrative/main/tskit_logo.svg\"/>\n",
       "                          <a target=\"_blank\" href=\"https://tskit.dev/tskit/docs/latest/python-api.html#the-treesequence-class\"> Tree Sequence </a>\n",
       "                        </th>\n",
       "                      </tr>\n",
       "                    </thead>\n",
       "                    <tbody>\n",
       "                      <tr><td>Trees</td><td>5259</td></tr>\n",
       "                      <tr><td>Sequence Length</td><td>50000000.0</td></tr>\n",
       "                      <tr><td>Time Units</td><td>unknown</td></tr>\n",
       "                      <tr><td>Sample Nodes</td><td>60</td></tr>\n",
       "                      <tr><td>Total Size</td><td>875.2 KiB</td></tr>\n",
       "                      <tr>\n",
       "                        <td>Metadata</td><td style=\"text-align: left;\">No Metadata</td></tr>\n",
       "                    </tbody>\n",
       "                  </table>\n",
       "                </div>\n",
       "                <div class=\"tskit-table-set-table\">\n",
       "                  <table class=\"tskit-table\">\n",
       "                    <thead>\n",
       "                      <tr>\n",
       "                        <th style=\"line-height:21px;\">Table</th>\n",
       "                        <th>Rows</th>\n",
       "                        <th>Size</th>\n",
       "                        <th>Has Metadata</th>\n",
       "                      </tr>\n",
       "                    </thead>\n",
       "                    <tbody>\n",
       "                    \n",
       "                  <tr>\n",
       "                    <td>Edges</td>\n",
       "                      <td>19390</td>\n",
       "                      <td>605.9 KiB</td>\n",
       "                      <td style=\"text-align: center;\">\n",
       "                        \n",
       "                      </td>\n",
       "                    </tr>\n",
       "                \n",
       "                  <tr>\n",
       "                    <td>Individuals</td>\n",
       "                      <td>30</td>\n",
       "                      <td>864 Bytes</td>\n",
       "                      <td style=\"text-align: center;\">\n",
       "                        \n",
       "                      </td>\n",
       "                    </tr>\n",
       "                \n",
       "                  <tr>\n",
       "                    <td>Migrations</td>\n",
       "                      <td>0</td>\n",
       "                      <td>8 Bytes</td>\n",
       "                      <td style=\"text-align: center;\">\n",
       "                        \n",
       "                      </td>\n",
       "                    </tr>\n",
       "                \n",
       "                  <tr>\n",
       "                    <td>Mutations</td>\n",
       "                      <td>0</td>\n",
       "                      <td>16 Bytes</td>\n",
       "                      <td style=\"text-align: center;\">\n",
       "                        \n",
       "                      </td>\n",
       "                    </tr>\n",
       "                \n",
       "                  <tr>\n",
       "                    <td>Nodes</td>\n",
       "                      <td>4188</td>\n",
       "                      <td>114.5 KiB</td>\n",
       "                      <td style=\"text-align: center;\">\n",
       "                        \n",
       "                      </td>\n",
       "                    </tr>\n",
       "                \n",
       "                  <tr>\n",
       "                    <td>Populations</td>\n",
       "                      <td>4</td>\n",
       "                      <td>343 Bytes</td>\n",
       "                      <td style=\"text-align: center;\">\n",
       "                        ✅\n",
       "                      </td>\n",
       "                    </tr>\n",
       "                \n",
       "                  <tr>\n",
       "                    <td>Provenances</td>\n",
       "                      <td>1</td>\n",
       "                      <td>2.0 KiB</td>\n",
       "                      <td style=\"text-align: center;\">\n",
       "                        \n",
       "                      </td>\n",
       "                    </tr>\n",
       "                \n",
       "                  <tr>\n",
       "                    <td>Sites</td>\n",
       "                      <td>0</td>\n",
       "                      <td>16 Bytes</td>\n",
       "                      <td style=\"text-align: center;\">\n",
       "                        \n",
       "                      </td>\n",
       "                    </tr>\n",
       "                \n",
       "                    </tbody>\n",
       "                  </table>\n",
       "                </div>\n",
       "              </div>\n",
       "            </div>\n",
       "            "
      ],
      "text/plain": [
       "<tskit.trees.TreeSequence at 0x116998790>"
      ]
     },
     "execution_count": 25,
     "metadata": {},
     "output_type": "execute_result"
    }
   ],
   "source": [
    "ts = msprime.sim_ancestry(samples={\"SMALL\": 10, \"BIG\": 10, \"ADMIX\" : 10},\n",
    "                          demography=demography, random_seed=1001,\n",
    "                         sequence_length=5e7, recombination_rate=1e-8)\n",
    "ts"
   ]
  },
  {
   "cell_type": "markdown",
   "metadata": {},
   "source": [
    "Get census nodes"
   ]
  },
  {
   "cell_type": "code",
   "execution_count": 26,
   "metadata": {},
   "outputs": [],
   "source": [
    "census_nodes = []\n",
    "for n in ts.nodes():\n",
    "    if n.time == 21:\n",
    "        census_nodes.append(n.id)"
   ]
  },
  {
   "cell_type": "markdown",
   "metadata": {},
   "source": [
    "Apply link-ancestors"
   ]
  },
  {
   "cell_type": "code",
   "execution_count": 27,
   "metadata": {},
   "outputs": [],
   "source": [
    "local_ancestry = ts.tables.link_ancestors(samples=[40,41], ancestors=census_nodes)"
   ]
  },
  {
   "cell_type": "code",
   "execution_count": 28,
   "metadata": {
    "scrolled": true
   },
   "outputs": [
    {
     "data": {
      "text/html": [
       "\n",
       "            <div>\n",
       "                <style scoped=\"\">\n",
       "                    .tskit-table tbody tr th:only-of-type {vertical-align: middle;}\n",
       "                    .tskit-table tbody tr th {vertical-align: top;}\n",
       "                    .tskit-table tbody td {text-align: right;padding: 0.5em 0.5em;}\n",
       "                    .tskit-table tbody th {padding: 0.5em 0.5em;}\n",
       "                </style>\n",
       "                <table border=\"1\" class=\"tskit-table\">\n",
       "                    <thead>\n",
       "                        <tr>\n",
       "                            <th>id</th><th>left</th><th>right</th><th>parent</th><th>child</th><th>metadata</th>\n",
       "                        </tr>\n",
       "                    </thead>\n",
       "                    <tbody>\n",
       "                        <tr><td>0</td><td>36346020.00000000</td><td>36729099.00000000</td><td>228</td><td>40</td><td>b''</td></tr>\n",
       "<tr><td>1</td><td>37607517.00000000</td><td>38180194.00000000</td><td>235</td><td>41</td><td>b''</td></tr>\n",
       "<tr><td>2</td><td>38180194.00000000</td><td>44484003.00000000</td><td>236</td><td>41</td><td>b''</td></tr>\n",
       "<tr><td>3</td><td>44484003.00000000</td><td>45771986.00000000</td><td>237</td><td>41</td><td>b''</td></tr>\n",
       "<tr><td>4</td><td>45771986.00000000</td><td>45898358.00000000</td><td>238</td><td>41</td><td>b''</td></tr>\n",
       "<tr><td>5</td><td>39225748.00000000</td><td>39623302.00000000</td><td>243</td><td>40</td><td>b''</td></tr>\n",
       "<tr><td>6</td><td>39623302.00000000</td><td>39659028.00000000</td><td>244</td><td>40</td><td>b''</td></tr>\n",
       "<tr><td>7</td><td>26237653.00000000</td><td>33436160.00000000</td><td>303</td><td>41</td><td>b''</td></tr>\n",
       "<tr><td>8</td><td>7357071.00000000</td><td>9589874.00000000</td><td>345</td><td>41</td><td>b''</td></tr>\n",
       "<tr><td>9</td><td>9589874.00000000</td><td>12614062.00000000</td><td>346</td><td>41</td><td>b''</td></tr>\n",
       "<tr><td>10</td><td>12614062.00000000</td><td>12854207.00000000</td><td>347</td><td>41</td><td>b''</td></tr>\n",
       "<tr><td>11</td><td>12854207.00000000</td><td>15399352.00000000</td><td>348</td><td>41</td><td>b''</td></tr>\n",
       "<tr><td>12</td><td>5940591.00000000</td><td>7357071.00000000</td><td>366</td><td>41</td><td>b''</td></tr>\n",
       "<tr><td>13</td><td>43118654.00000000</td><td>43804990.00000000</td><td>381</td><td>40</td><td>b''</td></tr>\n",
       "<tr><td>14</td><td>45898358.00000000</td><td>50000000.00000000</td><td>383</td><td>41</td><td>b''</td></tr>\n",
       "<tr><td>15</td><td>43804990.00000000</td><td>49258474.00000000</td><td>385</td><td>40</td><td>b''</td></tr>\n",
       "<tr><td>16</td><td>49258474.00000000</td><td>50000000.00000000</td><td>386</td><td>40</td><td>b''</td></tr>\n",
       "<tr><td>17</td><td>34354004.00000000</td><td>36346020.00000000</td><td>387</td><td>40</td><td>b''</td></tr>\n",
       "<tr><td>18</td><td>15399352.00000000</td><td>21523924.00000000</td><td>409</td><td>41</td><td>b''</td></tr>\n",
       "<tr><td>19</td><td>36729099.00000000</td><td>38492586.00000000</td><td>417</td><td>40</td><td>b''</td></tr>\n",
       "<tr><td>20</td><td>38492586.00000000</td><td>39225748.00000000</td><td>418</td><td>40</td><td>b''</td></tr>\n",
       "<tr><td>21</td><td>2265254.00000000</td><td>2450811.00000000</td><td>463</td><td>40</td><td>b''</td></tr>\n",
       "<tr><td>22</td><td>33436160.00000000</td><td>37607517.00000000</td><td>498</td><td>41</td><td>b''</td></tr>\n",
       "<tr><td>23</td><td>24061124.00000000</td><td>26864266.00000000</td><td>693</td><td>40</td><td>b''</td></tr>\n",
       "<tr><td>24</td><td>0.00000000</td><td>1408063.00000000</td><td>697</td><td>40</td><td>b''</td></tr>\n",
       "<tr><td>25</td><td>1408063.00000000</td><td>1698837.00000000</td><td>698</td><td>40</td><td>b''</td></tr>\n",
       "<tr><td>26</td><td>1698837.00000000</td><td>2265254.00000000</td><td>699</td><td>40</td><td>b''</td></tr>\n",
       "<tr><td>27</td><td>2787682.00000000</td><td>4064949.00000000</td><td>700</td><td>40</td><td>b''</td></tr>\n",
       "<tr><td>28</td><td>32782918.00000000</td><td>34354004.00000000</td><td>723</td><td>40</td><td>b''</td></tr>\n",
       "<tr><td>29</td><td>21523924.00000000</td><td>22055826.00000000</td><td>760</td><td>41</td><td>b''</td></tr>\n",
       "<tr><td>30</td><td>22055826.00000000</td><td>23258955.00000000</td><td>761</td><td>41</td><td>b''</td></tr>\n",
       "<tr><td>31</td><td>23036036.00000000</td><td>24061124.00000000</td><td>768</td><td>40</td><td>b''</td></tr>\n",
       "<tr><td>32</td><td>26864266.00000000</td><td>32782918.00000000</td><td>770</td><td>40</td><td>b''</td></tr>\n",
       "<tr><td>33</td><td>23258955.00000000</td><td>24813049.00000000</td><td>778</td><td>41</td><td>b''</td></tr>\n",
       "<tr><td>34</td><td>24813049.00000000</td><td>26237653.00000000</td><td>779</td><td>41</td><td>b''</td></tr>\n",
       "<tr><td>35</td><td>2450811.00000000</td><td>2787682.00000000</td><td>788</td><td>40</td><td>b''</td></tr>\n",
       "<tr><td>36</td><td>39659028.00000000</td><td>43118654.00000000</td><td>846</td><td>40</td><td>b''</td></tr>\n",
       "<tr><td>37</td><td>4064949.00000000</td><td>23036036.00000000</td><td>879</td><td>40</td><td>b''</td></tr>\n",
       "<tr><td>38</td><td>0.00000000</td><td>5940591.00000000</td><td>890</td><td>41</td><td>b''</td></tr>\n",
       "\n",
       "                    </tbody>\n",
       "                </table>\n",
       "            </div>\n",
       "        "
      ],
      "text/plain": [
       "<tskit.tables.EdgeTable at 0x117a92e50>"
      ]
     },
     "execution_count": 28,
     "metadata": {},
     "output_type": "execute_result"
    }
   ],
   "source": [
    "local_ancestry"
   ]
  },
  {
   "cell_type": "markdown",
   "metadata": {},
   "source": [
    "Note that every number in the 'parent' table above is one of the nodes in `ancestors_1000_gens`. This is essentially what `link_ancestors` does -- it shows you directly which of your samples descend from which ancestors.\n",
    "\n",
    "3. Replace the parent nodes with their population label"
   ]
  },
  {
   "cell_type": "code",
   "execution_count": 29,
   "metadata": {},
   "outputs": [],
   "source": [
    "def get_population_id(node, ts):\n",
    "    return ts.tables.nodes.population[node]"
   ]
  },
  {
   "cell_type": "code",
   "execution_count": 30,
   "metadata": {},
   "outputs": [
    {
     "name": "stdout",
     "output_type": "stream",
     "text": [
      "          left       right  population  child\n",
      "0   36346020.0  36729099.0           0     40\n",
      "1   37607517.0  38180194.0           0     41\n",
      "2   38180194.0  44484003.0           0     41\n",
      "3   44484003.0  45771986.0           0     41\n",
      "4   45771986.0  45898358.0           0     41\n",
      "5   39225748.0  39623302.0           0     40\n",
      "6   39623302.0  39659028.0           0     40\n",
      "7   26237653.0  33436160.0           0     41\n",
      "8    7357071.0   9589874.0           0     41\n",
      "9    9589874.0  12614062.0           0     41\n",
      "10  12614062.0  12854207.0           0     41\n",
      "11  12854207.0  15399352.0           0     41\n",
      "12   5940591.0   7357071.0           0     41\n",
      "13  43118654.0  43804990.0           0     40\n",
      "14  45898358.0  50000000.0           0     41\n",
      "15  43804990.0  49258474.0           0     40\n",
      "16  49258474.0  50000000.0           0     40\n",
      "17  34354004.0  36346020.0           0     40\n",
      "18  15399352.0  21523924.0           0     41\n",
      "19  36729099.0  38492586.0           0     40\n",
      "20  38492586.0  39225748.0           0     40\n",
      "21   2265254.0   2450811.0           0     40\n",
      "22  33436160.0  37607517.0           0     41\n",
      "23  24061124.0  26864266.0           1     40\n",
      "24         0.0   1408063.0           1     40\n",
      "25   1408063.0   1698837.0           1     40\n",
      "26   1698837.0   2265254.0           1     40\n",
      "27   2787682.0   4064949.0           1     40\n",
      "28  32782918.0  34354004.0           1     40\n",
      "29  21523924.0  22055826.0           1     41\n",
      "30  22055826.0  23258955.0           1     41\n",
      "31  23036036.0  24061124.0           1     40\n",
      "32  26864266.0  32782918.0           1     40\n",
      "33  23258955.0  24813049.0           1     41\n",
      "34  24813049.0  26237653.0           1     41\n",
      "35   2450811.0   2787682.0           1     40\n",
      "36  39659028.0  43118654.0           1     40\n",
      "37   4064949.0  23036036.0           1     40\n",
      "38         0.0   5940591.0           1     41\n"
     ]
    }
   ],
   "source": [
    "ancestry_table = pd.DataFrame(\n",
    "    data = {\n",
    "        'left': local_ancestry.left,\n",
    "        'right': local_ancestry.right,\n",
    "        'population' : [get_population_id(u, ts) for u in local_ancestry.parent],\n",
    "        'child' : local_ancestry.child\n",
    "    }\n",
    ")\n",
    "\n",
    "print(ancestry_table)"
   ]
  },
  {
   "cell_type": "markdown",
   "metadata": {},
   "source": [
    "If you want: sort, and squash"
   ]
  },
  {
   "cell_type": "code",
   "execution_count": 31,
   "metadata": {},
   "outputs": [
    {
     "data": {
      "text/html": [
       "<div>\n",
       "<style scoped>\n",
       "    .dataframe tbody tr th:only-of-type {\n",
       "        vertical-align: middle;\n",
       "    }\n",
       "\n",
       "    .dataframe tbody tr th {\n",
       "        vertical-align: top;\n",
       "    }\n",
       "\n",
       "    .dataframe thead th {\n",
       "        text-align: right;\n",
       "    }\n",
       "</style>\n",
       "<table border=\"1\" class=\"dataframe\">\n",
       "  <thead>\n",
       "    <tr style=\"text-align: right;\">\n",
       "      <th></th>\n",
       "      <th>left</th>\n",
       "      <th>right</th>\n",
       "      <th>population</th>\n",
       "      <th>child</th>\n",
       "    </tr>\n",
       "  </thead>\n",
       "  <tbody>\n",
       "    <tr>\n",
       "      <th>0</th>\n",
       "      <td>0.0</td>\n",
       "      <td>1408063.0</td>\n",
       "      <td>1</td>\n",
       "      <td>40</td>\n",
       "    </tr>\n",
       "    <tr>\n",
       "      <th>1</th>\n",
       "      <td>1408063.0</td>\n",
       "      <td>1698837.0</td>\n",
       "      <td>1</td>\n",
       "      <td>40</td>\n",
       "    </tr>\n",
       "    <tr>\n",
       "      <th>2</th>\n",
       "      <td>1698837.0</td>\n",
       "      <td>2265254.0</td>\n",
       "      <td>1</td>\n",
       "      <td>40</td>\n",
       "    </tr>\n",
       "    <tr>\n",
       "      <th>3</th>\n",
       "      <td>2265254.0</td>\n",
       "      <td>2450811.0</td>\n",
       "      <td>0</td>\n",
       "      <td>40</td>\n",
       "    </tr>\n",
       "    <tr>\n",
       "      <th>4</th>\n",
       "      <td>2450811.0</td>\n",
       "      <td>2787682.0</td>\n",
       "      <td>1</td>\n",
       "      <td>40</td>\n",
       "    </tr>\n",
       "    <tr>\n",
       "      <th>5</th>\n",
       "      <td>2787682.0</td>\n",
       "      <td>4064949.0</td>\n",
       "      <td>1</td>\n",
       "      <td>40</td>\n",
       "    </tr>\n",
       "    <tr>\n",
       "      <th>6</th>\n",
       "      <td>4064949.0</td>\n",
       "      <td>23036036.0</td>\n",
       "      <td>1</td>\n",
       "      <td>40</td>\n",
       "    </tr>\n",
       "    <tr>\n",
       "      <th>7</th>\n",
       "      <td>23036036.0</td>\n",
       "      <td>24061124.0</td>\n",
       "      <td>1</td>\n",
       "      <td>40</td>\n",
       "    </tr>\n",
       "    <tr>\n",
       "      <th>8</th>\n",
       "      <td>24061124.0</td>\n",
       "      <td>26864266.0</td>\n",
       "      <td>1</td>\n",
       "      <td>40</td>\n",
       "    </tr>\n",
       "    <tr>\n",
       "      <th>9</th>\n",
       "      <td>26864266.0</td>\n",
       "      <td>32782918.0</td>\n",
       "      <td>1</td>\n",
       "      <td>40</td>\n",
       "    </tr>\n",
       "    <tr>\n",
       "      <th>10</th>\n",
       "      <td>32782918.0</td>\n",
       "      <td>34354004.0</td>\n",
       "      <td>1</td>\n",
       "      <td>40</td>\n",
       "    </tr>\n",
       "    <tr>\n",
       "      <th>11</th>\n",
       "      <td>34354004.0</td>\n",
       "      <td>36346020.0</td>\n",
       "      <td>0</td>\n",
       "      <td>40</td>\n",
       "    </tr>\n",
       "    <tr>\n",
       "      <th>12</th>\n",
       "      <td>36346020.0</td>\n",
       "      <td>36729099.0</td>\n",
       "      <td>0</td>\n",
       "      <td>40</td>\n",
       "    </tr>\n",
       "    <tr>\n",
       "      <th>13</th>\n",
       "      <td>36729099.0</td>\n",
       "      <td>38492586.0</td>\n",
       "      <td>0</td>\n",
       "      <td>40</td>\n",
       "    </tr>\n",
       "    <tr>\n",
       "      <th>14</th>\n",
       "      <td>38492586.0</td>\n",
       "      <td>39225748.0</td>\n",
       "      <td>0</td>\n",
       "      <td>40</td>\n",
       "    </tr>\n",
       "    <tr>\n",
       "      <th>15</th>\n",
       "      <td>39225748.0</td>\n",
       "      <td>39623302.0</td>\n",
       "      <td>0</td>\n",
       "      <td>40</td>\n",
       "    </tr>\n",
       "    <tr>\n",
       "      <th>16</th>\n",
       "      <td>39623302.0</td>\n",
       "      <td>39659028.0</td>\n",
       "      <td>0</td>\n",
       "      <td>40</td>\n",
       "    </tr>\n",
       "    <tr>\n",
       "      <th>17</th>\n",
       "      <td>39659028.0</td>\n",
       "      <td>43118654.0</td>\n",
       "      <td>1</td>\n",
       "      <td>40</td>\n",
       "    </tr>\n",
       "    <tr>\n",
       "      <th>18</th>\n",
       "      <td>43118654.0</td>\n",
       "      <td>43804990.0</td>\n",
       "      <td>0</td>\n",
       "      <td>40</td>\n",
       "    </tr>\n",
       "    <tr>\n",
       "      <th>19</th>\n",
       "      <td>43804990.0</td>\n",
       "      <td>49258474.0</td>\n",
       "      <td>0</td>\n",
       "      <td>40</td>\n",
       "    </tr>\n",
       "    <tr>\n",
       "      <th>20</th>\n",
       "      <td>49258474.0</td>\n",
       "      <td>50000000.0</td>\n",
       "      <td>0</td>\n",
       "      <td>40</td>\n",
       "    </tr>\n",
       "    <tr>\n",
       "      <th>21</th>\n",
       "      <td>0.0</td>\n",
       "      <td>5940591.0</td>\n",
       "      <td>1</td>\n",
       "      <td>41</td>\n",
       "    </tr>\n",
       "    <tr>\n",
       "      <th>22</th>\n",
       "      <td>5940591.0</td>\n",
       "      <td>7357071.0</td>\n",
       "      <td>0</td>\n",
       "      <td>41</td>\n",
       "    </tr>\n",
       "    <tr>\n",
       "      <th>23</th>\n",
       "      <td>7357071.0</td>\n",
       "      <td>9589874.0</td>\n",
       "      <td>0</td>\n",
       "      <td>41</td>\n",
       "    </tr>\n",
       "    <tr>\n",
       "      <th>24</th>\n",
       "      <td>9589874.0</td>\n",
       "      <td>12614062.0</td>\n",
       "      <td>0</td>\n",
       "      <td>41</td>\n",
       "    </tr>\n",
       "    <tr>\n",
       "      <th>25</th>\n",
       "      <td>12614062.0</td>\n",
       "      <td>12854207.0</td>\n",
       "      <td>0</td>\n",
       "      <td>41</td>\n",
       "    </tr>\n",
       "    <tr>\n",
       "      <th>26</th>\n",
       "      <td>12854207.0</td>\n",
       "      <td>15399352.0</td>\n",
       "      <td>0</td>\n",
       "      <td>41</td>\n",
       "    </tr>\n",
       "    <tr>\n",
       "      <th>27</th>\n",
       "      <td>15399352.0</td>\n",
       "      <td>21523924.0</td>\n",
       "      <td>0</td>\n",
       "      <td>41</td>\n",
       "    </tr>\n",
       "    <tr>\n",
       "      <th>28</th>\n",
       "      <td>21523924.0</td>\n",
       "      <td>22055826.0</td>\n",
       "      <td>1</td>\n",
       "      <td>41</td>\n",
       "    </tr>\n",
       "    <tr>\n",
       "      <th>29</th>\n",
       "      <td>22055826.0</td>\n",
       "      <td>23258955.0</td>\n",
       "      <td>1</td>\n",
       "      <td>41</td>\n",
       "    </tr>\n",
       "    <tr>\n",
       "      <th>30</th>\n",
       "      <td>23258955.0</td>\n",
       "      <td>24813049.0</td>\n",
       "      <td>1</td>\n",
       "      <td>41</td>\n",
       "    </tr>\n",
       "    <tr>\n",
       "      <th>31</th>\n",
       "      <td>24813049.0</td>\n",
       "      <td>26237653.0</td>\n",
       "      <td>1</td>\n",
       "      <td>41</td>\n",
       "    </tr>\n",
       "    <tr>\n",
       "      <th>32</th>\n",
       "      <td>26237653.0</td>\n",
       "      <td>33436160.0</td>\n",
       "      <td>0</td>\n",
       "      <td>41</td>\n",
       "    </tr>\n",
       "    <tr>\n",
       "      <th>33</th>\n",
       "      <td>33436160.0</td>\n",
       "      <td>37607517.0</td>\n",
       "      <td>0</td>\n",
       "      <td>41</td>\n",
       "    </tr>\n",
       "    <tr>\n",
       "      <th>34</th>\n",
       "      <td>37607517.0</td>\n",
       "      <td>38180194.0</td>\n",
       "      <td>0</td>\n",
       "      <td>41</td>\n",
       "    </tr>\n",
       "    <tr>\n",
       "      <th>35</th>\n",
       "      <td>38180194.0</td>\n",
       "      <td>44484003.0</td>\n",
       "      <td>0</td>\n",
       "      <td>41</td>\n",
       "    </tr>\n",
       "    <tr>\n",
       "      <th>36</th>\n",
       "      <td>44484003.0</td>\n",
       "      <td>45771986.0</td>\n",
       "      <td>0</td>\n",
       "      <td>41</td>\n",
       "    </tr>\n",
       "    <tr>\n",
       "      <th>37</th>\n",
       "      <td>45771986.0</td>\n",
       "      <td>45898358.0</td>\n",
       "      <td>0</td>\n",
       "      <td>41</td>\n",
       "    </tr>\n",
       "    <tr>\n",
       "      <th>38</th>\n",
       "      <td>45898358.0</td>\n",
       "      <td>50000000.0</td>\n",
       "      <td>0</td>\n",
       "      <td>41</td>\n",
       "    </tr>\n",
       "  </tbody>\n",
       "</table>\n",
       "</div>"
      ],
      "text/plain": [
       "          left       right  population  child\n",
       "0          0.0   1408063.0           1     40\n",
       "1    1408063.0   1698837.0           1     40\n",
       "2    1698837.0   2265254.0           1     40\n",
       "3    2265254.0   2450811.0           0     40\n",
       "4    2450811.0   2787682.0           1     40\n",
       "5    2787682.0   4064949.0           1     40\n",
       "6    4064949.0  23036036.0           1     40\n",
       "7   23036036.0  24061124.0           1     40\n",
       "8   24061124.0  26864266.0           1     40\n",
       "9   26864266.0  32782918.0           1     40\n",
       "10  32782918.0  34354004.0           1     40\n",
       "11  34354004.0  36346020.0           0     40\n",
       "12  36346020.0  36729099.0           0     40\n",
       "13  36729099.0  38492586.0           0     40\n",
       "14  38492586.0  39225748.0           0     40\n",
       "15  39225748.0  39623302.0           0     40\n",
       "16  39623302.0  39659028.0           0     40\n",
       "17  39659028.0  43118654.0           1     40\n",
       "18  43118654.0  43804990.0           0     40\n",
       "19  43804990.0  49258474.0           0     40\n",
       "20  49258474.0  50000000.0           0     40\n",
       "21         0.0   5940591.0           1     41\n",
       "22   5940591.0   7357071.0           0     41\n",
       "23   7357071.0   9589874.0           0     41\n",
       "24   9589874.0  12614062.0           0     41\n",
       "25  12614062.0  12854207.0           0     41\n",
       "26  12854207.0  15399352.0           0     41\n",
       "27  15399352.0  21523924.0           0     41\n",
       "28  21523924.0  22055826.0           1     41\n",
       "29  22055826.0  23258955.0           1     41\n",
       "30  23258955.0  24813049.0           1     41\n",
       "31  24813049.0  26237653.0           1     41\n",
       "32  26237653.0  33436160.0           0     41\n",
       "33  33436160.0  37607517.0           0     41\n",
       "34  37607517.0  38180194.0           0     41\n",
       "35  38180194.0  44484003.0           0     41\n",
       "36  44484003.0  45771986.0           0     41\n",
       "37  45771986.0  45898358.0           0     41\n",
       "38  45898358.0  50000000.0           0     41"
      ]
     },
     "execution_count": 31,
     "metadata": {},
     "output_type": "execute_result"
    }
   ],
   "source": [
    "ancestry_table.sort_values(by=['child','left'], inplace=True, ignore_index=True)\n",
    "\n",
    "ancestry_table"
   ]
  },
  {
   "cell_type": "code",
   "execution_count": 32,
   "metadata": {},
   "outputs": [
    {
     "data": {
      "text/html": [
       "<div>\n",
       "<style scoped>\n",
       "    .dataframe tbody tr th:only-of-type {\n",
       "        vertical-align: middle;\n",
       "    }\n",
       "\n",
       "    .dataframe tbody tr th {\n",
       "        vertical-align: top;\n",
       "    }\n",
       "\n",
       "    .dataframe thead th {\n",
       "        text-align: right;\n",
       "    }\n",
       "</style>\n",
       "<table border=\"1\" class=\"dataframe\">\n",
       "  <thead>\n",
       "    <tr style=\"text-align: right;\">\n",
       "      <th></th>\n",
       "      <th>child</th>\n",
       "      <th>left</th>\n",
       "      <th>right</th>\n",
       "      <th>population</th>\n",
       "    </tr>\n",
       "  </thead>\n",
       "  <tbody>\n",
       "    <tr>\n",
       "      <th>0</th>\n",
       "      <td>40</td>\n",
       "      <td>0.0</td>\n",
       "      <td>2265254.0</td>\n",
       "      <td>1</td>\n",
       "    </tr>\n",
       "    <tr>\n",
       "      <th>1</th>\n",
       "      <td>40</td>\n",
       "      <td>2265254.0</td>\n",
       "      <td>2450811.0</td>\n",
       "      <td>0</td>\n",
       "    </tr>\n",
       "    <tr>\n",
       "      <th>2</th>\n",
       "      <td>40</td>\n",
       "      <td>2450811.0</td>\n",
       "      <td>34354004.0</td>\n",
       "      <td>1</td>\n",
       "    </tr>\n",
       "    <tr>\n",
       "      <th>3</th>\n",
       "      <td>40</td>\n",
       "      <td>34354004.0</td>\n",
       "      <td>39659028.0</td>\n",
       "      <td>0</td>\n",
       "    </tr>\n",
       "    <tr>\n",
       "      <th>4</th>\n",
       "      <td>40</td>\n",
       "      <td>39659028.0</td>\n",
       "      <td>43118654.0</td>\n",
       "      <td>1</td>\n",
       "    </tr>\n",
       "    <tr>\n",
       "      <th>5</th>\n",
       "      <td>40</td>\n",
       "      <td>43118654.0</td>\n",
       "      <td>50000000.0</td>\n",
       "      <td>0</td>\n",
       "    </tr>\n",
       "    <tr>\n",
       "      <th>6</th>\n",
       "      <td>41</td>\n",
       "      <td>0.0</td>\n",
       "      <td>5940591.0</td>\n",
       "      <td>1</td>\n",
       "    </tr>\n",
       "    <tr>\n",
       "      <th>7</th>\n",
       "      <td>41</td>\n",
       "      <td>5940591.0</td>\n",
       "      <td>21523924.0</td>\n",
       "      <td>0</td>\n",
       "    </tr>\n",
       "    <tr>\n",
       "      <th>8</th>\n",
       "      <td>41</td>\n",
       "      <td>21523924.0</td>\n",
       "      <td>26237653.0</td>\n",
       "      <td>1</td>\n",
       "    </tr>\n",
       "    <tr>\n",
       "      <th>9</th>\n",
       "      <td>41</td>\n",
       "      <td>26237653.0</td>\n",
       "      <td>50000000.0</td>\n",
       "      <td>0</td>\n",
       "    </tr>\n",
       "  </tbody>\n",
       "</table>\n",
       "</div>"
      ],
      "text/plain": [
       "   child        left       right  population\n",
       "0     40         0.0   2265254.0           1\n",
       "1     40   2265254.0   2450811.0           0\n",
       "2     40   2450811.0  34354004.0           1\n",
       "3     40  34354004.0  39659028.0           0\n",
       "4     40  39659028.0  43118654.0           1\n",
       "5     40  43118654.0  50000000.0           0\n",
       "6     41         0.0   5940591.0           1\n",
       "7     41   5940591.0  21523924.0           0\n",
       "8     41  21523924.0  26237653.0           1\n",
       "9     41  26237653.0  50000000.0           0"
      ]
     },
     "execution_count": 32,
     "metadata": {},
     "output_type": "execute_result"
    }
   ],
   "source": [
    "new_sample = []\n",
    "new_left = []\n",
    "new_right = []\n",
    "new_population = []\n",
    "\n",
    "for ind, row in ancestry_table.iterrows():\n",
    "    if ind > 0 and row['left']==new_right[-1] and row['population'] == new_population[-1] and row['child'] == new_sample[-1]:\n",
    "        new_right[-1] = row['right']\n",
    "    else:\n",
    "        new_sample.append(row['child'])\n",
    "        new_left.append(row['left'])\n",
    "        new_right.append(row['right'])\n",
    "        new_population.append(row['population'])\n",
    "        \n",
    "squashed_ancestry_table = pd.DataFrame({\n",
    "    'child': [int(i) for i in new_sample],\n",
    "    'left' : new_left,\n",
    "    'right': new_right,\n",
    "    'population' : [int(p) for p in new_population]\n",
    "})\n",
    "\n",
    "squashed_ancestry_table"
   ]
  },
  {
   "cell_type": "code",
   "execution_count": null,
   "metadata": {},
   "outputs": [],
   "source": [
    "# def plot_ancestry_chunk(row, chrom):\n",
    "#     l = row.left*1e-6\n",
    "#     r = row.right*1e-6\n",
    "#     p = row.population\n",
    "#     if int(p) == 0:\n",
    "#         c = 'blue'\n",
    "#     elif int(p) == 1:\n",
    "#         c = 'red'\n",
    "#     print('p is', p)\n",
    "#     chunk = np.array([[l, 0], [r, 0], [r, 1], [l, 1]])\n",
    "#     chrom.add_patch(Polygon(xy=chunk, color = c))"
   ]
  },
  {
   "cell_type": "code",
   "execution_count": 39,
   "metadata": {},
   "outputs": [
    {
     "data": {
      "image/png": "[encoded data removed]",
      "text/plain": [
       "<Figure size 720x144 with 2 Axes>"
      ]
     },
     "metadata": {
      "needs_background": "light"
     },
     "output_type": "display_data"
    }
   ],
   "source": [
    "chrom_labels = {40: 'chr0', 41: 'chr1'}\n",
    "colors = ['red', 'blue']\n",
    "length = ts.sequence_length\n",
    "\n",
    "fig, (chr0, chr1) = plt.subplots(2, figsize=(10,2))\n",
    "fig.suptitle('Ancestry in admixed individual')\n",
    "fig.frameon=False\n",
    "fig.legend(\n",
    "    handles = [Polygon(xy = np.array([[0,0],[0,1],[1,1],[1,0]]), color = 'blue'),\n",
    "              Polygon(xy = np.array([[0,0],[0,1],[1,1],[1,0]]), color = 'red')],\n",
    "    labels = ['SMALL', 'BIG'],\n",
    "    loc = 'right'\n",
    ")\n",
    "for ind, row in squashed_ancestry_table.iterrows():\n",
    "    chunk = np.array([[row.left/length, 0], [row.right/length, 0],\n",
    "                      [row.right/length, 1], [row.left/length, 1]])\n",
    "    if chrom_labels[row.child] == 'chr0':\n",
    "        chr0.add_patch(Polygon(xy=chunk, color = colors[int(row.population)]))\n",
    "    elif chrom_labels[row.child] == 'chr1':\n",
    "        chr1.add_patch(Polygon(xy=chunk, color = colors[int(row.population)]))\n",
    "\n",
    "chr0.set_ylabel('Chrom 0')\n",
    "chr0.tick_params(left=False, bottom=False, labelleft=False, labelbottom=False)\n",
    "chr1.set_xticks(ticks= [0.2, 0.4, 0.6, 0.8, 1.0], labels=[10, 20, 30, 40, 50])\n",
    "chr1.set_xlabel('Chromosomal position (Mb)')\n",
    "chr1.set_ylabel('Chrom 1')\n",
    "chr1.tick_params(left=False, labelleft=False)\n",
    "    "
   ]
  },
  {
   "cell_type": "markdown",
   "metadata": {},
   "source": [
    "## ibd-segments"
   ]
  },
  {
   "cell_type": "code",
   "execution_count": 57,
   "metadata": {},
   "outputs": [
    {
     "name": "stdout",
     "output_type": "stream",
     "text": [
      "╔════════════════════════════╗\n",
      "║IdentitySegments            ║\n",
      "╠══════════════╤═════════════╣\n",
      "║Parameters:   │             ║\n",
      "║max_time      │          inf║\n",
      "║min_span      │            0║\n",
      "║store_pairs   │        False║\n",
      "║store_segments│        False║\n",
      "║Results:      │             ║\n",
      "║num_segments  │      3582984║\n",
      "║total_span    │88500000000.0║\n",
      "╚══════════════╧═════════════╝\n",
      "\n"
     ]
    }
   ],
   "source": [
    "ibd_info = ts.ibd_segments()\n",
    "print(ibd_info)"
   ]
  },
  {
   "cell_type": "code",
   "execution_count": 41,
   "metadata": {},
   "outputs": [
    {
     "name": "stdout",
     "output_type": "stream",
     "text": [
      "╔══════════════════════════╗\n",
      "║IdentitySegments          ║\n",
      "╠══════════════╤═══════════╣\n",
      "║Parameters:   │           ║\n",
      "║max_time      │        inf║\n",
      "║min_span      │          0║\n",
      "║store_pairs   │      False║\n",
      "║store_segments│       True║\n",
      "║Results:      │           ║\n",
      "║num_segments  │       4998║\n",
      "║total_span    │300000000.0║\n",
      "╚══════════════╧═══════════╝\n",
      "\n"
     ]
    }
   ],
   "source": [
    "ibd_info = ts.ibd_segments(\n",
    "    within = [1, 2, 3, 4],\n",
    "    store_segments=True\n",
    ")\n",
    "print(ibd_info)"
   ]
  },
  {
   "cell_type": "code",
   "execution_count": 43,
   "metadata": {},
   "outputs": [],
   "source": [
    "# def print_ibd(find_ibd_output):\n",
    "#     for key in find_ibd_output.keys():\n",
    "#         print('Common ancestral segments for sample pair', key, ':')\n",
    "#         ibd = find_ibd_output[key]\n",
    "#         for i in range(len(ibd.left)):\n",
    "#             print('Interval: [', ibd.left[i], ibd.right[i], '),', \n",
    "#                  'ancestral node:', ibd.node[i])\n",
    "#         print()\n",
    "        \n",
    "# print_ibd(ibd_info)"
   ]
  },
  {
   "cell_type": "code",
   "execution_count": 45,
   "metadata": {},
   "outputs": [],
   "source": [
    "# ibd_info = ts.ibd_segments(\n",
    "#     between = [[1, 2], [3, 4]],\n",
    "#     store_segments=True\n",
    "# )\n",
    "\n",
    "# print_ibd(ibd_info)"
   ]
  },
  {
   "cell_type": "code",
   "execution_count": 50,
   "metadata": {},
   "outputs": [
    {
     "name": "stdout",
     "output_type": "stream",
     "text": [
      "Common ancestral segments for sample pair (1, 3) :\n",
      "Interval: [ 19364337.0 23294773.0 ), ancestral node: 979\n",
      "Interval: [ 24834138.0 30357623.0 ), ancestral node: 979\n",
      "\n",
      "Common ancestral segments for sample pair (1, 4) :\n",
      "Interval: [ 31553052.0 33887652.0 ), ancestral node: 163\n",
      "\n",
      "Common ancestral segments for sample pair (2, 3) :\n",
      "Interval: [ 41591115.0 50000000.0 ), ancestral node: 168\n",
      "\n",
      "Common ancestral segments for sample pair (2, 4) :\n",
      "Interval: [ 25822034.0 30369674.0 ), ancestral node: 1034\n",
      "\n"
     ]
    }
   ],
   "source": [
    "ibd_info = ts.ibd_segments(\n",
    "    within = [1, 2, 3, 4],\n",
    "    min_span = 2e6,\n",
    "    store_segments=True\n",
    ")\n",
    "print_ibd(ibd_info)"
   ]
  },
  {
   "cell_type": "code",
   "execution_count": 55,
   "metadata": {},
   "outputs": [
    {
     "name": "stdout",
     "output_type": "stream",
     "text": [
      "Common ancestral segments for sample pair (0, 2) :\n",
      "Interval: [ 1949245.0 4915106.0 ), ancestral node: 177\n",
      "\n",
      "Common ancestral segments for sample pair (0, 3) :\n",
      "Interval: [ 9815119.0 10765754.0 ), ancestral node: 181\n",
      "\n",
      "Common ancestral segments for sample pair (2, 3) :\n",
      "Interval: [ 41591115.0 50000000.0 ), ancestral node: 168\n",
      "\n"
     ]
    }
   ],
   "source": [
    "ibd_info = ts.ibd_segments(\n",
    "    within = [0, 1, 2, 3],\n",
    "    max_time = 20,\n",
    "    store_segments=True\n",
    ")\n",
    "print_ibd(ibd_info)"
   ]
  },
  {
   "cell_type": "markdown",
   "metadata": {},
   "source": [
    "Here's an IBD version of the plot we made before:"
   ]
  },
  {
   "cell_type": "code",
   "execution_count": null,
   "metadata": {},
   "outputs": [],
   "source": []
  }
 ],
 "metadata": {
  "kernelspec": {
   "display_name": "Python 3",
   "language": "python",
   "name": "python3"
  },
  "language_info": {
   "codemirror_mode": {
    "name": "ipython",
    "version": 3
   },
   "file_extension": ".py",
   "mimetype": "text/x-python",
   "name": "python",
   "nbconvert_exporter": "python",
   "pygments_lexer": "ipython3",
   "version": "3.7.5"
  }
 },
 "nbformat": 4,
 "nbformat_minor": 2
}
