{
 "cells": [
  {
   "cell_type": "code",
   "execution_count": null,
   "metadata": {},
   "outputs": [],
   "source": [
    "import msprime, tskit\n",
    "import matplotlib.pyplot as plt # Only needed for plotting\n",
    "import numpy as np\n",
    "import pandas as pd\n",
    "import random\n",
    "from IPython.display import SVG\n",
    "from matplotlib.patches import Polygon"
   ]
  },
  {
   "cell_type": "markdown",
   "metadata": {},
   "source": [
    "# Analyses with tskit\n",
    "\n",
    "At the end of the previous worksheet, we learnt how to convert a tree sequence's mutational information back into a VCF sequence file. This allows use to use software like scikit-allel, plink, bcftools and vcftools on our simulated dataset.\n",
    "\n",
    "However, you may not need to do this. There's a lot you can do entirely within `tskit`, and these native methods are often quicker and more efficient than methods that work directly on the sequence data.\n",
    "\n",
    " - 4.1: Site statistics\n",
    " - 4.2: One-way and multi-way statistics\n",
    " - 4.3: Simplify\n",
    " - 4.4: Ancestry: identity-by-descent\n",
    " - 4.4: Ancestry: population-based ancestry\n",
    " - 4.5: Branch statistics"
   ]
  },
  {
   "cell_type": "markdown",
   "metadata": {},
   "source": [
    "###  A basic simulated tree sequence to use\n",
    "\n",
    "First, we'll simulate a tree sequence dataset with mutations to use in the rest of this notebook.\n",
    "Here's a simple 3-population model, where the 2 pops split 50 generations ago from an ancestral population, and the third is formed after an admixture event between these two. One of these modern-day unadmixed pops is smaller than the other. "
   ]
  },
  {
   "cell_type": "code",
   "execution_count": null,
   "metadata": {},
   "outputs": [],
   "source": [
    "demography = msprime.Demography()\n",
    "demography.add_population(name=\"SMALL\", initial_size=200)\n",
    "demography.add_population(name=\"BIG\", initial_size=500)\n",
    "demography.add_population(name=\"ADMIX\", initial_size=200)\n",
    "demography.add_population(name=\"ANC\", initial_size=500)\n",
    "demography.add_admixture(\n",
    "    time=20, derived=\"ADMIX\", ancestral=[\"SMALL\", \"BIG\"], proportions=[0.5, 0.5])\n",
    "demography.add_population_split(time=600, derived=[\"SMALL\", \"BIG\"], ancestral=\"ANC\")\n",
    "# demography.debug()"
   ]
  },
  {
   "cell_type": "code",
   "execution_count": null,
   "metadata": {},
   "outputs": [],
   "source": [
    "ts = msprime.sim_ancestry(samples={\"SMALL\": 10, \"BIG\": 10, \"ADMIX\" : 10},\n",
    "                          demography=demography, random_seed=2432,\n",
    "                         sequence_length=5e7, recombination_rate=1e-8)\n",
    "ts = msprime.sim_mutations(ts, rate=1e-8, random_seed=6151)\n",
    "ts"
   ]
  },
  {
   "cell_type": "code",
   "execution_count": null,
   "metadata": {},
   "outputs": [],
   "source": [
    "tss = ts.simplify(samples=[1, 11, 21, 31, 41, 51])\n",
    "mts1 = msprime.sim_mutations(tss, rate=1e-8, random_seed=1812)\n",
    "mts2 = msprime.sim_mutations(tss, rate=1e-8, random_seed=1901)"
   ]
  },
  {
   "cell_type": "markdown",
   "metadata": {},
   "source": [
    "## 4.1 Site statistics\n",
    "\n",
    "(3.40pm)"
   ]
  },
  {
   "cell_type": "markdown",
   "metadata": {},
   "source": [
    "Suppose you wanted to calculate something like mean pairwise diversity with some sequence data of $n$ samples.\n",
    "Here's an equation you can use:\n",
    "\n",
    "$$ \\pi = \\dfrac{1}{n(n-1)/2}\\sum_{i=1}^{n-1} \\sum_{j=i+1}^n k_{ij} $$\n",
    "\n",
    "where $k_{ij}$ is the number of sites where sequences $i$ and $j$ have a different allele. (Got this from Matt Hahn's MolPopGen book.)\n",
    "\n",
    "Consider how you would calculate this with sequence data if you had to do this by hand. Suppose you have $n$ sequenes typed at $m$ different sites.\n",
    "\n",
    "```\n",
    "   ...GTAACGCGATAAGAGATTAGCCCAAAAACACAGACATGGAAATAGCGTA...\n",
    "   ...GTAACGCGATAAGAGATTAGCCCAAAAACACAGACATGGAAATAGCGTA...\n",
    "   ...GTAACGCGATAAGATATTAGCCCAAAAACACAGACATGGAAATAGCGTA...\n",
    "   ...GTAACGCGATAAGATATTAGCCCAAAAACACAGACATGGAAATAGCGTA...\n",
    "   ...GTAACGCGATAAGATATTAGCCCAAAAACACAGACATGGAAATAGCGTA...\n",
    "   ...GTAACGCGATAAGATATTAGCCCAAAAACACAGACATGGTAATAGCGTA...\n",
    "   ...GTAACGCGATAAGATATTAGCCCAAAAACACAGACATGGTAATAGCGTA...\n",
    "```\n",
    "\n",
    "First you would look at the first two alleles in the first two sequences -- are they the same or different? Then you would move to the next position -- are they the same or different? To perform the full calculation, you would repeat this operation at each site, over each possible pair of sequences. The scaling of this procedure is\n",
    "\n",
    "$$ O\\left( n^2 m \\right) $$\n",
    "\n",
    "ie. quadratic in the number of samples $n$, and linear in the number of sites $m$."
   ]
  },
  {
   "cell_type": "markdown",
   "metadata": {},
   "source": [
    "(Would be good to have a tree sequence picture somewhere here -- look through the paper again.)\n",
    "\n",
    "However, these sequences are simply a consequence of *mutations* on the tree sequence. \n",
    "We've already learnt that recording these mutations directly allows us to *store* these sequences in a more compact way -- it turns out that they also allow you to calculate statistics on these sequences more efficiently too. The basic idea is that you place weights on each of the sample nodes in the tree and then 'propagate' these upwards through the tree. (Is this too vague to be helpful?)\n",
    "\n",
    "This is an example of what `tskit` classifies as a *site statistic*. Essentially, this means... (find a proper definition somewhere: something to do with counts of alleles? A summary of the allele frequency spectrum?)."
   ]
  },
  {
   "cell_type": "markdown",
   "metadata": {},
   "source": [
    "See this paper for further details, especially if you are interested in coming up with tree sequence statistics of your own. (In theory, it should be possible to calculate any statistic that summarises the allele frequency spectrum using the framework described in this paper).\n",
    "\n",
    "Peter Ralph, Kevin Thornton, Jerome Kelleher, Efficiently Summarizing Relationships in Large Samples: A General Duality Between Statistics of Genealogies and Genomes, Genetics, Volume 215, Issue 3, 1 July 2020, Pages 779–797, https://doi.org/10.1534/genetics.120.303253"
   ]
  },
  {
   "cell_type": "markdown",
   "metadata": {},
   "source": [
    "### The basic syntax: (nucleotide diversity)\n",
    "\n",
    "(3.45pm)\n",
    "\n",
    "`tskit` uses very similar syntax for all of its inbuilt statistics, so we'll explore the options using `diversity()` as a case study.\n"
   ]
  },
  {
   "cell_type": "code",
   "execution_count": null,
   "metadata": {},
   "outputs": [],
   "source": [
    "%%time\n",
    "ts.diversity()"
   ]
  },
  {
   "cell_type": "markdown",
   "metadata": {},
   "source": [
    "Notice how much faster this calculation runs compared with the one we did using `allel` at the end of the previous notebook (update this!!!).\n",
    "\n",
    "By default, `tskit` presents a normalised version of the statistic  scaled by the length of the region represented in `ts`. This allows you to make comparisons between different tree sequences that may be of different lengths. However, this isn't how all other genetic software computes diversity -- if you wish to disable `tskit`'s default behaviour, use the `span_normalise` argument."
   ]
  },
  {
   "cell_type": "code",
   "execution_count": null,
   "metadata": {},
   "outputs": [],
   "source": [
    "div = ts.diversity(span_normalise=False)\n",
    "div[()]"
   ]
  },
  {
   "cell_type": "markdown",
   "metadata": {},
   "source": [
    "### Calculating statistics on subsets of the samples\n",
    "\n",
    "(3.50pm)\n",
    "\n",
    "What else might you want to do? Well, remember our dataset consists of samples from two populations here, of different sizes. We’d expect them to each have different diversity levels, and for these to differ from the overall (sample-wide) diversity rate. We can get this information out by specifying each of these with the `sample_nodes` argument.\n",
    "\n",
    "A quick and simple way to get all of the sample node IDs from a particular population is to use the `samples()` method. For instance, the following code returns a numpy array holding all of the sample node IDs from 'population 0':"
   ]
  },
  {
   "cell_type": "code",
   "execution_count": null,
   "metadata": {},
   "outputs": [],
   "source": [
    "ts.samples(0)"
   ]
  },
  {
   "cell_type": "markdown",
   "metadata": {},
   "source": [
    "By cross-checking against the population table, we can see the population IDs of all the populations in our simulated demography."
   ]
  },
  {
   "cell_type": "code",
   "execution_count": null,
   "metadata": {},
   "outputs": [],
   "source": [
    "ts.tables.populations"
   ]
  },
  {
   "cell_type": "markdown",
   "metadata": {},
   "source": [
    "Suppose we wanted to calculate the value of the diversity statistic for each of the three contemporary populations in our dataset ('SMALL', 'BIG' and 'ADMIX'), as well as for the pooled set of samples:"
   ]
  },
  {
   "cell_type": "code",
   "execution_count": null,
   "metadata": {},
   "outputs": [],
   "source": [
    "samples_of_interest=[ts.samples(population=0),\n",
    "                          ts.samples(population=1),\n",
    "                          ts.samples(population=2),\n",
    "                          ts.samples()]\n",
    "ts.diversity(sample_sets=samples_of_interest)"
   ]
  },
  {
   "cell_type": "markdown",
   "metadata": {},
   "source": [
    "The output is a 1-dimensional numpy array, where each element is a diversity statistic value for one of the sample sets we specified.\n",
    "Nucleotide diversity is lowest in the set of samples from the small population, and largest in the pooled set of samples, as you'd expect.\n",
    "\n",
    "Note that you can use any old list of node IDs as inputs to `sample_sets`. This may be useful if your samples of interest correspond to something else (for instance, samples that hold some phenotype of interest)."
   ]
  },
  {
   "cell_type": "code",
   "execution_count": null,
   "metadata": {},
   "outputs": [],
   "source": [
    "ts.diversity(sample_sets=[[12, 14, 18, 7, 8],\n",
    "                          [23, 19, 10]])"
   ]
  },
  {
   "cell_type": "markdown",
   "metadata": {},
   "source": [
    "### Genome scans\n",
    "\n",
    "(4pm)\n",
    "\n",
    "So far, we’ve just been calculating statistics summarising diversity values along the entire simulated genome. However, in many cases, we might be more interested in how diversity varies along the genome. We can do this using the `windows` argument.\n",
    "\n",
    "We specify the start and end points of the sequence, and the locations of the breakpoints between each window. For instance, suppose we wanted to specify some windows of length 1Mb covering our 50Mb chromosome:"
   ]
  },
  {
   "cell_type": "code",
   "execution_count": null,
   "metadata": {},
   "outputs": [],
   "source": [
    "breakpoints = [i*1e6 for i in range(0, 50 + 1)]\n",
    "print(breakpoints)"
   ]
  },
  {
   "cell_type": "code",
   "execution_count": null,
   "metadata": {},
   "outputs": [],
   "source": [
    "div = ts.diversity(sample_sets=samples_of_interest, windows=breakpoints)\n",
    "print(\"Dimensions of the output:\", div.shape, \"\\n\")\n",
    "print(\"Diversity values over the first 10 windows in each sample set:\")\n",
    "print(div[:10,:])"
   ]
  },
  {
   "cell_type": "markdown",
   "metadata": {},
   "source": [
    "The output is a 50 by 4 array, one row for each of our specified windows. Each element of the row holds diversity value in some particular window amongst one of our sample sets. Let’s plot these:"
   ]
  },
  {
   "cell_type": "code",
   "execution_count": null,
   "metadata": {},
   "outputs": [],
   "source": [
    "names_to_plot = ['SMALL', 'BIG', 'ADMIX', 'ALL']\n",
    "lines = plt.plot(breakpoints[:-1], div)\n",
    "plt.legend(lines, names_to_plot);"
   ]
  },
  {
   "cell_type": "markdown",
   "metadata": {},
   "source": [
    "Because we ran a neutral simulation, we don’t expect to see any significant changes in diversity along the genome, and the variation we do see is likely just noise. Soon, we’ll see another way to clarify this. "
   ]
  },
  {
   "cell_type": "markdown",
   "metadata": {},
   "source": [
    "### Multi-way statistics\n",
    "\n",
    "(4.10pm)"
   ]
  },
  {
   "cell_type": "markdown",
   "metadata": {},
   "source": [
    "So far we’ve been looking only at diversity, to help us get used to the general syntax of tskit’s statistics interface. But there are many others which work in exactly the same way.\n",
    "\n",
    "Diversity is an example of a 'one-way' statistic. All of the samples are exchangeable in the calculation: if we were to re-label one of the samples with another label, we’d still get the same statistic.\n",
    "\n",
    "Other examples of one-way statistics are:\n",
    "\n",
    " - [allele_frequency_spectrum](https://tskit.dev/tskit/docs/stable/python-api.html#tskit.TreeSequence.allele_frequency_spectrum)\n",
    " - [segregating_sites](https://tskit.dev/tskit/docs/stable/python-api.html#tskit.TreeSequence.segregating_sites)\n",
    " - [Tajimas_D](https://tskit.dev/tskit/docs/stable/python-api.html#tskit.TreeSequence.Tajimas_D)\n",
    " - [trait_covariance](https://tskit.dev/tskit/docs/stable/python-api.html#tskit.TreeSequence.trait_covariance), [trait_correlation](https://tskit.dev/tskit/docs/stable/python-api.html#tskit.TreeSequence.trait_correlation) and [trait_linear_model](https://tskit.dev/tskit/docs/stable/python-api.html#tskit.TreeSequence.trait_linear_model)\n",
    " \n",
    "These last 3 are interesting ones we'll look at later link [here](https://tskit.dev/tskit/docs/stable/stats.html#sec-stats-notes-trait). \n",
    "(Note: it's weird that these last three wouldn't be multi-way: they aren't completely statistically exchangeable for each other, right? Change the way you describe this. Also, these last 3 aren't strictly summaries of the allele frequency spectrum either.)"
   ]
  },
  {
   "cell_type": "markdown",
   "metadata": {},
   "source": [
    "This is *not* the case for certain other population genetic statistics that we call ‘multi-way statistics’.\n",
    "In these statistics, you’ll need to pay special heed to the `sample_sets` argument — the online docs will specify exactly how many sample sets are required, and what should supplied in each field, to get the statistic we are interested in.\n",
    "\n",
    "Consider Patterson's $f_3$ statistic. Looking at this function's entry in the docs (provide link), we'll need to supply three `sample_sets`, with the first of these acting as the 'focal' population. "
   ]
  },
  {
   "cell_type": "code",
   "execution_count": null,
   "metadata": {},
   "outputs": [],
   "source": [
    "f3_012 = ts.f3(sample_sets=[ts.samples(0), ts.samples(1), ts.samples(2)],\n",
    "               windows=breakpoints)\n",
    "f3_102 = ts.f3(sample_sets=[ts.samples(1), ts.samples(0), ts.samples(2)],\n",
    "               windows=breakpoints)\n",
    "f3_201 = ts.f3(sample_sets=[ts.samples(2), ts.samples(0), ts.samples(1)],\n",
    "               windows=breakpoints)"
   ]
  },
  {
   "cell_type": "code",
   "execution_count": null,
   "metadata": {},
   "outputs": [],
   "source": [
    "names_to_plot = ['SMALL;BIG,ADMIX', 'BIG;SMALL,ADMIX', 'ADMIX;BIG,SMALL']\n",
    "lines = plt.plot(breakpoints[:-1], np.transpose([f3_012, f3_102, f3_201]))\n",
    "plt.legend(lines, names_to_plot)"
   ]
  },
  {
   "cell_type": "markdown",
   "metadata": {},
   "source": [
    "The green line `f3(ADMIX;BIG,SMALL)` is consistently below 0. This suggests that `ADMIX` might be an admixed population with gene flow from `BIG` and `SMALL` (which is indeed the case, since this is what we simulated)."
   ]
  },
  {
   "cell_type": "markdown",
   "metadata": {},
   "source": [
    "Here are some other examples of multi-way statistics provided by tskit: (add in links later)\n",
    "\n",
    " - divergence\n",
    " - genetic_relatedness\n",
    " - Patterson's f2, f3, f4\n",
    " - genealogical_nearest_neighbours\n",
    " - Fst"
   ]
  },
  {
   "cell_type": "markdown",
   "metadata": {},
   "source": [
    "*Exercise*. Modify the following code to compute $f_2$ statistics in 5Mb windows along the genome between the samples from populations SMALL and BIG, as well as between populations SMALL and ADMIX."
   ]
  },
  {
   "cell_type": "code",
   "execution_count": null,
   "metadata": {},
   "outputs": [],
   "source": [
    "breakpoints = [i*1e6 for i in range(0, 50 + 1)]\n",
    "# print(\"Breakpoints:\", breakpoints)\n",
    "f2_small_big = ts.f3(sample_sets=[ts.samples(0),\n",
    "                                  ts.samples(1),\n",
    "                                  ts.samples(2)],\n",
    "               windows=breakpoints)\n",
    "f2_small_admix = ts.f3(sample_sets=[ts.samples(2),\n",
    "                                  ts.samples(1),\n",
    "                                  ts.samples(0)],\n",
    "               windows=breakpoints)\n",
    "\n",
    "# Plot.\n",
    "names_to_plot = ['f2(SMALL,BIG)', 'f2(SMALL,ADMIX)']\n",
    "lines = plt.plot(breakpoints[:-1], np.transpose([f2_small_big, f2_small_admix]))\n",
    "plt.legend(lines, names_to_plot)\n"
   ]
  },
  {
   "cell_type": "markdown",
   "metadata": {},
   "source": [
    "## Trait-based statistics\n",
    "\n",
    "(4.20pm)\n",
    "\n",
    "Don't understand output; look up later."
   ]
  },
  {
   "cell_type": "code",
   "execution_count": null,
   "metadata": {},
   "outputs": [],
   "source": [
    "beak_size = np.array([[np.log10(x+1) for x in range(ts.num_samples)]])\n",
    "beak_size.shape\n",
    "# print(beak_size)\n",
    "ts.trait_linear_model(np.transpose(beak_size))"
   ]
  },
  {
   "cell_type": "code",
   "execution_count": null,
   "metadata": {},
   "outputs": [],
   "source": []
  },
  {
   "cell_type": "markdown",
   "metadata": {},
   "source": [
    "## Simplify\n",
    "\n",
    "(4.25pm)"
   ]
  },
  {
   "cell_type": "markdown",
   "metadata": {},
   "source": [
    "Here are two of the most common ’subset’-type operations we want to do with genomic datasets:\n",
    "\n",
    "-  Look at the data for a subset of the samples in the original dataset.\n",
    "- Look at sequence/variant information at only the sites that vary with respect to that subset.\n",
    "\n",
    "You’ve may have used software like bcftoolls, vcftools to do some combo of these things before if you’ve worked with real data.\n",
    "`simplify` is the tree sequence version of these operations.\n",
    "\n",
    "### The basic syntax\n",
    "\n",
    "’simplify’ requires a list of sample IDs that you wish to include in the new, smaller tree sequence.\n",
    "Here, we return the tree sequence for all of the samples from population 'ADMIX' (which has a population label of `2`):"
   ]
  },
  {
   "cell_type": "code",
   "execution_count": null,
   "metadata": {
    "scrolled": true
   },
   "outputs": [],
   "source": [
    "tss = ts.simplify(ts.samples(2))\n",
    "tss"
   ]
  },
  {
   "cell_type": "code",
   "execution_count": null,
   "metadata": {},
   "outputs": [],
   "source": [
    "ts"
   ]
  },
  {
   "cell_type": "markdown",
   "metadata": {},
   "source": [
    "We now have a smaller tree sequence holding just those 20 sample chromosomes from population 'ADMIX'.\n",
    "Note that the number of sites and mutations is also reduced. This is because `simplify` has also removed all the mutations on the edges that were pruned away. Thes alleles arising from these mutations were only inherited by other samples, or are ancestral to everyone in this smaller subset, so they are not variant sites and are arguably irrelevant. (Option to keep them?)\n",
    "\n",
    "Note also that although there are fewer edges, nodes and mutations in this newer, simplified tree sequence, it's not a drastic difference. This shows the sub-linearity and efficiency of tree sequence structures. \n",
    "\n",
    "It turns out that operations like `simplify` are essential using tree sequences in forward-time simulations — see [simplify paper] if you are interested."
   ]
  },
  {
   "cell_type": "markdown",
   "metadata": {},
   "source": [
    "## local ancestry"
   ]
  },
  {
   "cell_type": "markdown",
   "metadata": {},
   "source": [
    "Simulate with a census event"
   ]
  },
  {
   "cell_type": "code",
   "execution_count": null,
   "metadata": {},
   "outputs": [],
   "source": [
    "demography = msprime.Demography()\n",
    "demography.add_population(name=\"SMALL\", initial_size=200)\n",
    "demography.add_population(name=\"BIG\", initial_size=500)\n",
    "demography.add_population(name=\"ADMIX\", initial_size=200)\n",
    "demography.add_population(name=\"ANC\", initial_size=500)\n",
    "demography.add_admixture(\n",
    "    time=20, derived=\"ADMIX\", ancestral=[\"SMALL\", \"BIG\"], proportions=[0.5, 0.5])\n",
    "demography.add_census(time=21)\n",
    "demography.add_population_split(time=600, derived=[\"SMALL\", \"BIG\"], ancestral=\"ANC\")\n",
    "# demography.debug()"
   ]
  },
  {
   "cell_type": "code",
   "execution_count": null,
   "metadata": {},
   "outputs": [],
   "source": [
    "ts = msprime.sim_ancestry(samples={\"SMALL\": 10, \"BIG\": 10, \"ADMIX\" : 10},\n",
    "                          demography=demography, random_seed=1001,\n",
    "                         sequence_length=5e7, recombination_rate=1e-8)\n",
    "ts"
   ]
  },
  {
   "cell_type": "markdown",
   "metadata": {},
   "source": [
    "Get census nodes"
   ]
  },
  {
   "cell_type": "code",
   "execution_count": null,
   "metadata": {},
   "outputs": [],
   "source": [
    "census_nodes = []\n",
    "for n in ts.nodes():\n",
    "    if n.time == 21:\n",
    "        census_nodes.append(n.id)"
   ]
  },
  {
   "cell_type": "markdown",
   "metadata": {},
   "source": [
    "Apply link-ancestors"
   ]
  },
  {
   "cell_type": "code",
   "execution_count": null,
   "metadata": {},
   "outputs": [],
   "source": [
    "local_ancestry = ts.tables.link_ancestors(samples=[40,41], ancestors=census_nodes)"
   ]
  },
  {
   "cell_type": "code",
   "execution_count": null,
   "metadata": {
    "scrolled": true
   },
   "outputs": [],
   "source": [
    "local_ancestry"
   ]
  },
  {
   "cell_type": "markdown",
   "metadata": {},
   "source": [
    "Note that every number in the 'parent' table above is one of the nodes in `ancestors_1000_gens`. This is essentially what `link_ancestors` does -- it shows you directly which of your samples descend from which ancestors.\n",
    "\n",
    "3. Replace the parent nodes with their population label"
   ]
  },
  {
   "cell_type": "code",
   "execution_count": null,
   "metadata": {},
   "outputs": [],
   "source": [
    "def get_population_id(node, ts):\n",
    "    return ts.tables.nodes.population[node]"
   ]
  },
  {
   "cell_type": "code",
   "execution_count": null,
   "metadata": {},
   "outputs": [],
   "source": [
    "ancestry_table = pd.DataFrame(\n",
    "    data = {\n",
    "        'left': local_ancestry.left,\n",
    "        'right': local_ancestry.right,\n",
    "        'population' : [get_population_id(u, ts) for u in local_ancestry.parent],\n",
    "        'child' : local_ancestry.child\n",
    "    }\n",
    ")\n",
    "\n",
    "print(ancestry_table)"
   ]
  },
  {
   "cell_type": "markdown",
   "metadata": {},
   "source": [
    "If you want: sort, and squash"
   ]
  },
  {
   "cell_type": "code",
   "execution_count": null,
   "metadata": {},
   "outputs": [],
   "source": [
    "# import sys\n",
    "# !{sys.executable} -m pip install pandas --upgrade"
   ]
  },
  {
   "cell_type": "code",
   "execution_count": null,
   "metadata": {},
   "outputs": [],
   "source": [
    "ancestry_table.sort_values(by=['child','left'], inplace=True, ignore_index=True)\n",
    "\n",
    "ancestry_table"
   ]
  },
  {
   "cell_type": "code",
   "execution_count": null,
   "metadata": {},
   "outputs": [],
   "source": [
    "new_sample = []\n",
    "new_left = []\n",
    "new_right = []\n",
    "new_population = []\n",
    "\n",
    "for ind, row in ancestry_table.iterrows():\n",
    "    if ind > 0 and row['left']==new_right[-1] and row['population'] == new_population[-1] and row['child'] == new_sample[-1]:\n",
    "        new_right[-1] = row['right']\n",
    "    else:\n",
    "        new_sample.append(row['child'])\n",
    "        new_left.append(row['left'])\n",
    "        new_right.append(row['right'])\n",
    "        new_population.append(row['population'])\n",
    "        \n",
    "squashed_ancestry_table = pd.DataFrame({\n",
    "    'child': [int(i) for i in new_sample],\n",
    "    'left' : new_left,\n",
    "    'right': new_right,\n",
    "    'population' : [int(p) for p in new_population]\n",
    "})\n",
    "\n",
    "squashed_ancestry_table"
   ]
  },
  {
   "cell_type": "code",
   "execution_count": null,
   "metadata": {},
   "outputs": [],
   "source": [
    "# def plot_ancestry_chunk(row, chrom):\n",
    "#     l = row.left*1e-6\n",
    "#     r = row.right*1e-6\n",
    "#     p = row.population\n",
    "#     if int(p) == 0:\n",
    "#         c = 'blue'\n",
    "#     elif int(p) == 1:\n",
    "#         c = 'red'\n",
    "#     print('p is', p)\n",
    "#     chunk = np.array([[l, 0], [r, 0], [r, 1], [l, 1]])\n",
    "#     chrom.add_patch(Polygon(xy=chunk, color = c))"
   ]
  },
  {
   "cell_type": "code",
   "execution_count": null,
   "metadata": {},
   "outputs": [],
   "source": []
  },
  {
   "cell_type": "code",
   "execution_count": null,
   "metadata": {},
   "outputs": [],
   "source": [
    "chrom_labels = {40: 'chr0', 41: 'chr1'}\n",
    "colors = ['red', 'blue']\n",
    "length = ts.sequence_length\n",
    "\n",
    "fig, (chr0, chr1) = plt.subplots(2, figsize=(10,2))\n",
    "fig.suptitle('Ancestry in admixed individual')\n",
    "fig.frameon=False\n",
    "fig.legend(\n",
    "    handles = [Polygon(xy = np.array([[0,0],[0,1],[1,1],[1,0]]), color = 'blue'),\n",
    "              Polygon(xy = np.array([[0,0],[0,1],[1,1],[1,0]]), color = 'red')],\n",
    "    labels = ['SMALL', 'BIG'],\n",
    "    loc = 'right'\n",
    ")\n",
    "for ind, row in squashed_ancestry_table.iterrows():\n",
    "    chunk = np.array([[row.left/length, 0], [row.right/length, 0],\n",
    "                      [row.right/length, 1], [row.left/length, 1]])\n",
    "    if chrom_labels[row.child] == 'chr0':\n",
    "        chr0.add_patch(Polygon(xy=chunk, color = colors[int(row.population)]))\n",
    "    elif chrom_labels[row.child] == 'chr1':\n",
    "        chr1.add_patch(Polygon(xy=chunk, color = colors[int(row.population)]))\n",
    "\n",
    "chr0.set_ylabel('Chrom 0')\n",
    "chr0.tick_params(left=False, bottom=False, labelleft=False, labelbottom=False)\n",
    "chr1.set_xticks(ticks= [0.2, 0.4, 0.6, 0.8, 1.0], labels=[10, 20, 30, 40, 50])\n",
    "chr1.set_xlabel('Chromosomal position (Mb)')\n",
    "chr1.set_ylabel('Chrom 1')\n",
    "chr1.tick_params(left=False, labelleft=False)\n",
    "    "
   ]
  },
  {
   "cell_type": "markdown",
   "metadata": {},
   "source": [
    "## ibd-segments"
   ]
  },
  {
   "cell_type": "code",
   "execution_count": null,
   "metadata": {},
   "outputs": [],
   "source": [
    "ibd_info = ts.ibd_segments()\n",
    "print(ibd_info)"
   ]
  },
  {
   "cell_type": "code",
   "execution_count": null,
   "metadata": {},
   "outputs": [],
   "source": [
    "ibd_info = ts.ibd_segments(\n",
    "    within = [1, 2, 3, 4],\n",
    "    store_segments=True\n",
    ")\n",
    "print(ibd_info)"
   ]
  },
  {
   "cell_type": "code",
   "execution_count": null,
   "metadata": {},
   "outputs": [],
   "source": [
    "# def print_ibd(find_ibd_output):\n",
    "#     for key in find_ibd_output.keys():\n",
    "#         print('Common ancestral segments for sample pair', key, ':')\n",
    "#         ibd = find_ibd_output[key]\n",
    "#         for i in range(len(ibd.left)):\n",
    "#             print('Interval: [', ibd.left[i], ibd.right[i], '),', \n",
    "#                  'ancestral node:', ibd.node[i])\n",
    "#         print()\n",
    "        \n",
    "# print(ibd_info)"
   ]
  },
  {
   "cell_type": "code",
   "execution_count": null,
   "metadata": {},
   "outputs": [],
   "source": [
    "ibd_info = ts.ibd_segments(\n",
    "    between = [[1, 2], [3, 4]],\n",
    "    store_segments=True\n",
    ")\n",
    "\n",
    "print(ibd_info)"
   ]
  },
  {
   "cell_type": "code",
   "execution_count": null,
   "metadata": {},
   "outputs": [],
   "source": [
    "ibd_info = ts.ibd_segments(\n",
    "    within = [1, 2, 3, 4],\n",
    "    min_span = 2e6,\n",
    "    store_segments=True\n",
    ")\n",
    "print(ibd_info)"
   ]
  },
  {
   "cell_type": "code",
   "execution_count": null,
   "metadata": {},
   "outputs": [],
   "source": [
    "ibd_info = ts.ibd_segments(\n",
    "    within = [0, 1, 2, 3],\n",
    "    max_time = 20,\n",
    "    store_segments=True\n",
    ")\n",
    "print(ibd_info)"
   ]
  },
  {
   "cell_type": "markdown",
   "metadata": {},
   "source": [
    "Here's an IBD version of the plot we made before:"
   ]
  },
  {
   "cell_type": "code",
   "execution_count": null,
   "metadata": {},
   "outputs": [],
   "source": []
  },
  {
   "cell_type": "markdown",
   "metadata": {},
   "source": [
    "### Branch stats\n",
    "\n",
    "We saw, and briefly noted, how apparently the statistics were along the genome. As you know by now, some of this is just noise, and it can be difficult doing this statistic test by just eyeballing the data. A big part of many population genetic tests, including tests for selection, introgressed regions, is being able to make educated guesses about where the patterns you see are *not* due to this.\n",
    "This is complicated by the fact that there are several different types of randomness in genetic models that interact with each other.\n",
    "There is randomness in the genealogical trees that are produced. If you have two populations same in size, still may have coalescences (common ancestors) in slightly different times (expect those to obey the same distribution), each simulation is just one realisation of potential history, and randomness of recombination means locations, lengths along which those relationships hold also random (this is what sim_ancestry models).\n",
    "\n",
    "On top of that, there’s added randomness due to randomness of mutation processes. Even if you have two regions of a genome in a given individual that has been inherited from the same two regions of some ancestor, inherited via the same set of genealogical descendants, there may be a different density of mutations simply because of the randomness of mutations.\n",
    "\n",
    "Consider how different one of our trees looks..."
   ]
  },
  {
   "cell_type": "code",
   "execution_count": null,
   "metadata": {},
   "outputs": [],
   "source": [
    "# [Look at two different trees that are very far apart from each other]\n",
    "sts = ts.simplify(samples=[1, 11, 21, 31, 41, 51])\n",
    "tree = sts.first()\n",
    "display(SVG(tree.draw(width=300)))"
   ]
  },
  {
   "cell_type": "markdown",
   "metadata": {},
   "source": [
    "from one much further along the genome"
   ]
  },
  {
   "cell_type": "code",
   "execution_count": null,
   "metadata": {},
   "outputs": [],
   "source": [
    "tree = sts.last()\n",
    "display(SVG(tree.draw(width=300)))"
   ]
  },
  {
   "cell_type": "markdown",
   "metadata": {},
   "source": [
    "When you calculate statistics based on allele-frequencies — what we call site-based statistics — *both* of these sources of noise contribute to the noisiness you see."
   ]
  },
  {
   "cell_type": "code",
   "execution_count": null,
   "metadata": {},
   "outputs": [],
   "source": [
    "# [Look at the same tree, overlaid with different mutations each time]\n",
    "display(SVG(mts1.last().draw(width=300)))"
   ]
  },
  {
   "cell_type": "code",
   "execution_count": null,
   "metadata": {},
   "outputs": [],
   "source": [
    "display(SVG(mts2.last().draw(width=300)))"
   ]
  },
  {
   "cell_type": "markdown",
   "metadata": {},
   "source": [
    "But in tree sequences, you have information about branches which allows you to bypass this latter type of mutation.\n",
    "Instead of moving up the trees and updating counts of some statistic every time you come across a mutation, update the statistic based on the *number of mutations you expect*. This is proportional to the branch length (since we’re assuming uniformity of mutations over time). This is the basic idea of branch stats — low variance form of site-based statistic that substitutes the length of each branch for the actual number of mutations on that branch. Note this deals with the second type of randomness, so is overall lower variance.\n",
    "\n",
    "Here are the diversity stats we looked at before, this time with the branch versions included. Notice that the branch and site versions are clearly correlated, which makes sense — the mutations on a given tree are conditional on that tree — but the branch versions have significantly lower variance."
   ]
  },
  {
   "cell_type": "code",
   "execution_count": null,
   "metadata": {},
   "outputs": [],
   "source": [
    "# [Diversity stat]\n",
    "div = ts.diversity(sample_sets=samples_of_interest, windows=breakpoints, mode='branch',span_normalise=True)\n",
    "names_to_plot = ['SMALL', 'BIG', 'ADMIX', 'ALL']\n",
    "lines = plt.plot(breakpoints[:-1], div)\n",
    "plt.legend(lines, names_to_plot);"
   ]
  },
  {
   "cell_type": "code",
   "execution_count": null,
   "metadata": {},
   "outputs": [],
   "source": [
    "# [Diversity stat]\n",
    "breakpoints = [i*1e6 for i in range(0, 50 + 1)]\n",
    "div_site = ts.diversity(sample_sets=samples_of_interest, windows=breakpoints, mode='site')\n",
    "div_branch = ts.diversity(sample_sets=samples_of_interest, windows=breakpoints, mode='branch')\n",
    "names_to_plot = ['SMALL', 'BIG', 'ADMIX', 'ALL']\n",
    "# lines = plt.plot(breakpoints[:-1], div_site)\n",
    "lines = plt.plot(breakpoints[:-1], div_site/div_branch)\n",
    "plt.legend(lines, names_to_plot);"
   ]
  },
  {
   "cell_type": "markdown",
   "metadata": {},
   "source": [
    "Since publication, has been leveraged in other more specific applications (Charleston Chiang, genetic_relatedness, our work). May be that conditional on having accurate tree , simulated or otherwise, departures between the branch and site versions of a statistic may indicate other processes of interest — mutagens affected particular genomic regions, for instance.\n",
    "\n",
    "(Is there some way to scale according to the mutation rate?)"
   ]
  }
 ],
 "metadata": {
  "kernelspec": {
   "display_name": "Python 3",
   "language": "python",
   "name": "python3"
  },
  "language_info": {
   "codemirror_mode": {
    "name": "ipython",
    "version": 3
   },
   "file_extension": ".py",
   "mimetype": "text/x-python",
   "name": "python",
   "nbconvert_exporter": "python",
   "pygments_lexer": "ipython3",
   "version": "3.7.3"
  }
 },
 "nbformat": 4,
 "nbformat_minor": 2
}
