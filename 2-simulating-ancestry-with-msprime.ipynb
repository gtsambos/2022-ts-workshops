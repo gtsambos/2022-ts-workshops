{
 "cells": [
  {
   "cell_type": "markdown",
   "metadata": {},
   "source": [
    "# Simulating ancestry with msprime\n",
    "\n",
    "10.30am\n",
    "\n",
    "This is the first of two sessions about `msprime`, a backwards-time tree sequence simulator. In this first worksheet, we will learn how to design simulations using customisable models of genomic history. In the next session, we will add mutations to these simulated histories to obtain sequence data.\n",
    "\n",
    "#### Some relevant papers:\n",
    " -  [Efficient coalescent simulation and genealogical analysis for large sample sizes](https://doi.org/10.1371/journal.pcbi.1004842)\n",
    " - [Efficient ancestry and mutation simulation with msprime 1.0](https://doi.org/10.1093/genetics/iyab229)\n",
    " - [tskit.dev documentation](https://tskit.dev/)\n",
    " \n",
    "Simulations are important in population genetics for many reasons...\n",
    "\n",
    "**Exploration:**\n",
    "Simulations allow us to explore the influence of various historical scenarios on observed patterns of genetic variation and inheritance.\n",
    "\n",
    "**Benchmarking and evaluating methodologies:**\n",
    "To assess the accuracy of inferential methods, we need test datasets for which the true values of important parameters are known.\n",
    "\n",
    "**Model training:**\n",
    "Some methods for ancestry inference are trained on simulated data (eg. Approximate Bayesian Computation).\n",
    "This is especially important in studies of complex demographies, where there are many potential parameters and models, and it is impractical to formal specifying likelihood functions.\n",
    "\n",
    "### A brief history of msprime\n",
    "\n",
    "The first release of `msprime` was an emulation of the popular `ms` coalescent simulator with added support for tree sequences.\n",
    "However, it has since become an expansive and flexible backwards-in-time simulator for various different models of genetic ancestry and mutation, and even for simplified models of selection.\n",
    "\n",
    "#### Forwards and backwards simulation\n",
    "\n",
    "The main characteristic of `msprime` is that is simulates *tree sequences* in *backwards-time*.\n",
    "\n",
    "<img src=\"pics/msprime-1.png\" width=\"200\" height=\"200\">\n",
    "<img src=\"pics/msprime-2.png\" width=\"200\" height=\"200\">\n",
    "<img src=\"pics/msprime-3.png\" width=\"200\" height=\"200\">\n",
    "<img src=\"pics/msprime-4.png\" width=\"200\" height=\"200\">\n",
    "<img src=\"pics/msprime-5.png\" width=\"200\" height=\"200\">\n",
    "\n",
    "The main alternative is to use a *forwards-time* simulator like `SLiM`:\n",
    "\n",
    "<img src=\"pics/slim-1.png\" width=\"200\" height=\"200\">\n",
    "<img src=\"pics/slim-2.png\" width=\"200\" height=\"200\">\n",
    "<img src=\"pics/slim-3.png\" width=\"200\" height=\"200\">\n",
    "<img src=\"pics/slim-4.png\" width=\"200\" height=\"200\">\n",
    "<img src=\"pics/slim-5.png\" width=\"200\" height=\"200\">\n",
    "<img src=\"pics/slim-6.png\" width=\"200\" height=\"200\">\n",
    "<img src=\"pics/slim-7.png\" width=\"200\" height=\"200\">\n",
    "<img src=\"pics/slim-8.png\" width=\"200\" height=\"200\">\n",
    "<img src=\"pics/slim-9.png\" width=\"200\" height=\"200\">\n",
    "<img src=\"pics/slim-10.png\" width=\"200\" height=\"200\">"
   ]
  },
  {
   "cell_type": "markdown",
   "metadata": {},
   "source": [
    "In general, forwards-time simulation with `SLiM` is *detailed* and *more realistic*,\n",
    "while backwards-time simulation with `msprime` is *fast* and *efficient*.\n",
    "`msprime` is better suited for *neutral* simulations, while `SLiM` is better suited to complex simulations, including those involving selection.\n",
    "\n",
    "However, `pyslim` allows you to combine these via a process called 'recapitation':\n",
    "\n",
    "<img src=\"pics/recapitation-1.png\" width=\"400\" height=\"400\">\n",
    "<img src=\"pics/recapitation-2.png\" width=\"400\" height=\"400\">"
   ]
  },
  {
   "cell_type": "code",
   "execution_count": 2,
   "metadata": {},
   "outputs": [],
   "source": [
    "import msprime\n",
    "import random\n",
    "from IPython.display import SVG"
   ]
  },
  {
   "cell_type": "markdown",
   "metadata": {},
   "source": [
    "### Basic syntax\n",
    "\n",
    "(10.40am)\n",
    "\n",
    "To simulate a tree sequence, we use the `sim_ancestry()` method:"
   ]
  },
  {
   "cell_type": "code",
   "execution_count": 3,
   "metadata": {},
   "outputs": [
    {
     "data": {
      "image/svg+xml": [
       "<svg baseProfile=\"full\" height=\"200\" version=\"1.1\" width=\"200\" xmlns=\"http://www.w3.org/2000/svg\" xmlns:ev=\"http://www.w3.org/2001/xml-events\" xmlns:xlink=\"http://www.w3.org/1999/xlink\"><defs><style type=\"text/css\"><![CDATA[.background path {fill: #808080; fill-opacity: 0}.background path:nth-child(odd) {fill-opacity: .1}.axes {font-size: 14px}.x-axis .tick .lab {font-weight: bold; dominant-baseline: hanging}.axes, .tree {font-size: 14px; text-anchor: middle}.axes line, .edge {stroke: black; fill: none}.y-axis .grid {stroke: #FAFAFA}.node > .sym {fill: black; stroke: none}.site > .sym {stroke: black}.mut text {fill: red; font-style: italic}.mut.extra text {fill: hotpink}.mut line {fill: none; stroke: none}.mut .sym {fill: none; stroke: red}.mut.extra .sym {stroke: hotpink}.node .mut .sym {stroke-width: 1.5px}.tree text, .tree-sequence text {dominant-baseline: central}.plotbox .lab.lft {text-anchor: end}.plotbox .lab.rgt {text-anchor: start}]]></style></defs><g class=\"tree-sequence\"><g class=\"background\"><path d=\"M20,0 l160,0 l0,138.2 l0,25 l0,5 l-160,0 l0,-5 l0,-25 l0,-138.2z\"/></g><g class=\"axes\"><g class=\"x-axis\"><g transform=\"translate(100 200)\"><text class=\"lab\" text-anchor=\"middle\" transform=\"translate(0 -11)\">Genome position</text></g><line x1=\"20\" x2=\"180\" y1=\"163.2\" y2=\"163.2\"/><g class=\"ticks\"><g class=\"tick\" transform=\"translate(20 163.2)\"><line x1=\"0\" x2=\"0\" y1=\"0\" y2=\"5\"/><g transform=\"translate(0 6)\"><text class=\"lab\">0</text></g></g><g class=\"tick\" transform=\"translate(180 163.2)\"><line x1=\"0\" x2=\"0\" y1=\"0\" y2=\"5\"/><g transform=\"translate(0 6)\"><text class=\"lab\">1</text></g></g></g></g></g><g class=\"plotbox trees\"><g class=\"tree t0\" transform=\"translate(20 0)\"><g class=\"plotbox\"><g class=\"c2 node n6 p0 root\" transform=\"translate(98.75 26.8)\"><g class=\"a6 i1 leaf node n2 p0 sample\" transform=\"translate(26.25 94.6)\"><path class=\"edge\" d=\"M 0 0 V -94.6 H -26.25\"/><rect class=\"sym\" height=\"6\" width=\"6\" x=\"-3\" y=\"-3\"/><text class=\"lab\" transform=\"translate(0 11)\">2</text></g><g class=\"a6 c2 node n5 p0\" transform=\"translate(-26.25 25.2505)\"><g class=\"a5 i1 leaf node n3 p0 sample\" transform=\"translate(22.5 69.3495)\"><path class=\"edge\" d=\"M 0 0 V -69.3495 H -22.5\"/><rect class=\"sym\" height=\"6\" width=\"6\" x=\"-3\" y=\"-3\"/><text class=\"lab\" transform=\"translate(0 11)\">3</text></g><g class=\"a5 c2 node n4 p0\" transform=\"translate(-22.5 63.0417)\"><g class=\"a4 i0 leaf node n0 p0 sample\" transform=\"translate(-15 6.3078)\"><path class=\"edge\" d=\"M 0 0 V -6.3078 H 15\"/><rect class=\"sym\" height=\"6\" width=\"6\" x=\"-3\" y=\"-3\"/><text class=\"lab\" transform=\"translate(0 11)\">0</text></g><g class=\"a4 i0 leaf node n1 p0 sample\" transform=\"translate(15 6.3078)\"><path class=\"edge\" d=\"M 0 0 V -6.3078 H -15\"/><rect class=\"sym\" height=\"6\" width=\"6\" x=\"-3\" y=\"-3\"/><text class=\"lab\" transform=\"translate(0 11)\">1</text></g><path class=\"edge\" d=\"M 0 0 V -63.0417 H 22.5\"/><circle class=\"sym\" cx=\"0\" cy=\"0\" r=\"3\"/><text class=\"lab lft\" transform=\"translate(-3 -7.0)\">4</text></g><path class=\"edge\" d=\"M 0 0 V -25.2505 H 26.25\"/><circle class=\"sym\" cx=\"0\" cy=\"0\" r=\"3\"/><text class=\"lab lft\" transform=\"translate(-3 -7.0)\">5</text></g><circle class=\"sym\" cx=\"0\" cy=\"0\" r=\"3\"/><text class=\"lab\" transform=\"translate(0 -11)\">6</text></g></g></g></g></g></svg>"
      ],
      "text/plain": [
       "<IPython.core.display.SVG object>"
      ]
     },
     "execution_count": 3,
     "metadata": {},
     "output_type": "execute_result"
    }
   ],
   "source": [
    "ts = msprime.sim_ancestry(samples=2, random_seed=1)\n",
    "SVG(ts.draw_svg())"
   ]
  },
  {
   "cell_type": "code",
   "execution_count": 4,
   "metadata": {},
   "outputs": [
    {
     "data": {
      "text/html": [
       "\n",
       "            <div>\n",
       "              <style>\n",
       "                .tskit-table thead tr th {text-align: left;padding: 0.5em 0.5em;}\n",
       "                .tskit-table tbody tr td {padding: 0.5em 0.5em;}\n",
       "                .tskit-table tbody tr td:first-of-type {text-align: left;}\n",
       "                .tskit-details-label {vertical-align: top; padding-right:5px;}\n",
       "                .tskit-table-set {display: inline-flex;flex-wrap: wrap;margin: -12px 0 0 -12px;width: calc(100% + 12px);}\n",
       "                .tskit-table-set-table {margin: 12px 0 0 12px;}\n",
       "                details {display: inline-block;}\n",
       "                summary {cursor: pointer; outline: 0; display: list-item;}\n",
       "              </style>\n",
       "              <div class=\"tskit-table-set\">\n",
       "                <div class=\"tskit-table-set-table\">\n",
       "                  <table class=\"tskit-table\">\n",
       "                    <thead>\n",
       "                      <tr>\n",
       "                        <th style=\"padding:0;line-height:21px;\">\n",
       "                          <img style=\"height: 32px;display: inline-block;padding: 3px 5px 3px 0;\" src=\"https://raw.githubusercontent.com/tskit-dev/administrative/main/tskit_logo.svg\"/>\n",
       "                          <a target=\"_blank\" href=\"https://tskit.dev/tskit/docs/latest/python-api.html#the-treesequence-class\"> Tree Sequence </a>\n",
       "                        </th>\n",
       "                      </tr>\n",
       "                    </thead>\n",
       "                    <tbody>\n",
       "                      <tr><td>Trees</td><td>1</td></tr>\n",
       "                      <tr><td>Sequence Length</td><td>1.0</td></tr>\n",
       "                      <tr><td>Time Units</td><td>generations</td></tr>\n",
       "                      <tr><td>Sample Nodes</td><td>4</td></tr>\n",
       "                      <tr><td>Total Size</td><td>1.8 KiB</td></tr>\n",
       "                      <tr>\n",
       "                        <td>Metadata</td><td style=\"text-align: left;\">No Metadata</td></tr>\n",
       "                    </tbody>\n",
       "                  </table>\n",
       "                </div>\n",
       "                <div class=\"tskit-table-set-table\">\n",
       "                  <table class=\"tskit-table\">\n",
       "                    <thead>\n",
       "                      <tr>\n",
       "                        <th style=\"line-height:21px;\">Table</th>\n",
       "                        <th>Rows</th>\n",
       "                        <th>Size</th>\n",
       "                        <th>Has Metadata</th>\n",
       "                      </tr>\n",
       "                    </thead>\n",
       "                    <tbody>\n",
       "                    \n",
       "                  <tr>\n",
       "                    <td>Edges</td>\n",
       "                      <td>6</td>\n",
       "                      <td>200 Bytes</td>\n",
       "                      <td style=\"text-align: center;\">\n",
       "                        \n",
       "                      </td>\n",
       "                    </tr>\n",
       "                \n",
       "                  <tr>\n",
       "                    <td>Individuals</td>\n",
       "                      <td>2</td>\n",
       "                      <td>80 Bytes</td>\n",
       "                      <td style=\"text-align: center;\">\n",
       "                        \n",
       "                      </td>\n",
       "                    </tr>\n",
       "                \n",
       "                  <tr>\n",
       "                    <td>Migrations</td>\n",
       "                      <td>0</td>\n",
       "                      <td>8 Bytes</td>\n",
       "                      <td style=\"text-align: center;\">\n",
       "                        \n",
       "                      </td>\n",
       "                    </tr>\n",
       "                \n",
       "                  <tr>\n",
       "                    <td>Mutations</td>\n",
       "                      <td>0</td>\n",
       "                      <td>16 Bytes</td>\n",
       "                      <td style=\"text-align: center;\">\n",
       "                        \n",
       "                      </td>\n",
       "                    </tr>\n",
       "                \n",
       "                  <tr>\n",
       "                    <td>Nodes</td>\n",
       "                      <td>7</td>\n",
       "                      <td>204 Bytes</td>\n",
       "                      <td style=\"text-align: center;\">\n",
       "                        \n",
       "                      </td>\n",
       "                    </tr>\n",
       "                \n",
       "                  <tr>\n",
       "                    <td>Populations</td>\n",
       "                      <td>1</td>\n",
       "                      <td>224 Bytes</td>\n",
       "                      <td style=\"text-align: center;\">\n",
       "                        ✅\n",
       "                      </td>\n",
       "                    </tr>\n",
       "                \n",
       "                  <tr>\n",
       "                    <td>Provenances</td>\n",
       "                      <td>1</td>\n",
       "                      <td>994 Bytes</td>\n",
       "                      <td style=\"text-align: center;\">\n",
       "                        \n",
       "                      </td>\n",
       "                    </tr>\n",
       "                \n",
       "                  <tr>\n",
       "                    <td>Sites</td>\n",
       "                      <td>0</td>\n",
       "                      <td>16 Bytes</td>\n",
       "                      <td style=\"text-align: center;\">\n",
       "                        \n",
       "                      </td>\n",
       "                    </tr>\n",
       "                \n",
       "                    </tbody>\n",
       "                  </table>\n",
       "                </div>\n",
       "              </div>\n",
       "            </div>\n",
       "            "
      ],
      "text/plain": [
       "<tskit.trees.TreeSequence at 0x137d11908>"
      ]
     },
     "execution_count": 4,
     "metadata": {},
     "output_type": "execute_result"
    }
   ],
   "source": [
    "ts"
   ]
  },
  {
   "cell_type": "markdown",
   "metadata": {},
   "source": [
    "## Specifying contig information\n",
    "Note that although we have specified 2 samples, our tree sequence contains 4 sample nodes.\n",
    "This is because the `samples` argument specifies the number of *individuals* in the sample,\n",
    "and `msprime` assumes diploid organisms.\n",
    "To change this, use the `ploidy` argument:"
   ]
  },
  {
   "cell_type": "code",
   "execution_count": 4,
   "metadata": {},
   "outputs": [
    {
     "data": {
      "image/svg+xml": [
       "<svg baseProfile=\"full\" height=\"200\" version=\"1.1\" width=\"200\" xmlns=\"http://www.w3.org/2000/svg\" xmlns:ev=\"http://www.w3.org/2001/xml-events\" xmlns:xlink=\"http://www.w3.org/1999/xlink\"><defs><style type=\"text/css\"><![CDATA[.background path {fill: #808080; fill-opacity: 0}.background path:nth-child(odd) {fill-opacity: .1}.axes {font-size: 14px}.x-axis .tick .lab {font-weight: bold; dominant-baseline: hanging}.axes, .tree {font-size: 14px; text-anchor: middle}.axes line, .edge {stroke: black; fill: none}.y-axis .grid {stroke: #FAFAFA}.node > .sym {fill: black; stroke: none}.site > .sym {stroke: black}.mut text {fill: red; font-style: italic}.mut.extra text {fill: hotpink}.mut line {fill: none; stroke: none}.mut .sym {fill: none; stroke: red}.mut.extra .sym {stroke: hotpink}.node .mut .sym {stroke-width: 1.5px}.tree text, .tree-sequence text {dominant-baseline: central}.plotbox .lab.lft {text-anchor: end}.plotbox .lab.rgt {text-anchor: start}]]></style></defs><g class=\"tree-sequence\"><g class=\"background\"><path d=\"M20,0 l160,0 l0,138.2 l0,25 l0,5 l-160,0 l0,-5 l0,-25 l0,-138.2z\"/></g><g class=\"axes\"><g class=\"x-axis\"><g transform=\"translate(100 200)\"><text class=\"lab\" text-anchor=\"middle\" transform=\"translate(0 -11)\">Genome position</text></g><line x1=\"20\" x2=\"180\" y1=\"163.2\" y2=\"163.2\"/><g class=\"ticks\"><g class=\"tick\" transform=\"translate(20 163.2)\"><line x1=\"0\" x2=\"0\" y1=\"0\" y2=\"5\"/><g transform=\"translate(0 6)\"><text class=\"lab\">0</text></g></g><g class=\"tick\" transform=\"translate(180 163.2)\"><line x1=\"0\" x2=\"0\" y1=\"0\" y2=\"5\"/><g transform=\"translate(0 6)\"><text class=\"lab\">1</text></g></g></g></g></g><g class=\"plotbox trees\"><g class=\"tree t0\" transform=\"translate(20 0)\"><g class=\"plotbox\"><g class=\"c2 node n10 p0 root\" transform=\"translate(85 26.8)\"><g class=\"a10 c2 node n7 p0\" transform=\"translate(-30 50.894)\"><g class=\"a7 i1 leaf node n5 p0 sample\" transform=\"translate(15 43.706)\"><path class=\"edge\" d=\"M 0 0 V -43.706 H -15\"/><rect class=\"sym\" height=\"6\" width=\"6\" x=\"-3\" y=\"-3\"/><text class=\"lab\" transform=\"translate(0 11)\">5</text></g><g class=\"a7 c2 node n6 p0\" transform=\"translate(-15 38.5615)\"><g class=\"a6 i0 leaf node n0 p0 sample\" transform=\"translate(-10 5.14449)\"><path class=\"edge\" d=\"M 0 0 V -5.14449 H 10\"/><rect class=\"sym\" height=\"6\" width=\"6\" x=\"-3\" y=\"-3\"/><text class=\"lab\" transform=\"translate(0 11)\">0</text></g><g class=\"a6 i0 leaf node n2 p0 sample\" transform=\"translate(10 5.14449)\"><path class=\"edge\" d=\"M 0 0 V -5.14449 H -10\"/><rect class=\"sym\" height=\"6\" width=\"6\" x=\"-3\" y=\"-3\"/><text class=\"lab\" transform=\"translate(0 11)\">2</text></g><path class=\"edge\" d=\"M 0 0 V -38.5615 H 15\"/><circle class=\"sym\" cx=\"0\" cy=\"0\" r=\"3\"/><text class=\"lab lft\" transform=\"translate(-3 -7.0)\">6</text></g><path class=\"edge\" d=\"M 0 0 V -50.894 H 30\"/><circle class=\"sym\" cx=\"0\" cy=\"0\" r=\"3\"/><text class=\"lab lft\" transform=\"translate(-3 -7.0)\">7</text></g><g class=\"a10 c2 node n9 p0\" transform=\"translate(30 29.4758)\"><g class=\"a9 i1 leaf node n3 p0 sample\" transform=\"translate(15 65.1242)\"><path class=\"edge\" d=\"M 0 0 V -65.1242 H -15\"/><rect class=\"sym\" height=\"6\" width=\"6\" x=\"-3\" y=\"-3\"/><text class=\"lab\" transform=\"translate(0 11)\">3</text></g><g class=\"a9 c2 node n8 p0\" transform=\"translate(-15 12.8374)\"><g class=\"a8 i0 leaf node n1 p0 sample\" transform=\"translate(-10 52.2867)\"><path class=\"edge\" d=\"M 0 0 V -52.2867 H 10\"/><rect class=\"sym\" height=\"6\" width=\"6\" x=\"-3\" y=\"-3\"/><text class=\"lab\" transform=\"translate(0 11)\">1</text></g><g class=\"a8 i1 leaf node n4 p0 sample\" transform=\"translate(10 52.2867)\"><path class=\"edge\" d=\"M 0 0 V -52.2867 H -10\"/><rect class=\"sym\" height=\"6\" width=\"6\" x=\"-3\" y=\"-3\"/><text class=\"lab\" transform=\"translate(0 11)\">4</text></g><path class=\"edge\" d=\"M 0 0 V -12.8374 H 15\"/><circle class=\"sym\" cx=\"0\" cy=\"0\" r=\"3\"/><text class=\"lab lft\" transform=\"translate(-3 -7.0)\">8</text></g><path class=\"edge\" d=\"M 0 0 V -29.4758 H -30\"/><circle class=\"sym\" cx=\"0\" cy=\"0\" r=\"3\"/><text class=\"lab rgt\" transform=\"translate(3 -7.0)\">9</text></g><circle class=\"sym\" cx=\"0\" cy=\"0\" r=\"3\"/><text class=\"lab\" transform=\"translate(0 -11)\">10</text></g></g></g></g></g></svg>"
      ],
      "text/plain": [
       "<IPython.core.display.SVG object>"
      ]
     },
     "execution_count": 4,
     "metadata": {},
     "output_type": "execute_result"
    }
   ],
   "source": [
    "ts = msprime.sim_ancestry(samples=2, random_seed=1, ploidy=3)\n",
    "SVG(ts.draw_svg())"
   ]
  },
  {
   "cell_type": "markdown",
   "metadata": {},
   "source": [
    "It's easiest to start thinking about genome lengths in units of nucleotides. By default, we are simulating a sequence length that spans just one of these units.\n",
    "We can specify a larger region using the `sequence_length` argument:"
   ]
  },
  {
   "cell_type": "code",
   "execution_count": 5,
   "metadata": {
    "scrolled": true
   },
   "outputs": [
    {
     "data": {
      "image/svg+xml": [
       "<svg baseProfile=\"full\" height=\"200\" version=\"1.1\" width=\"200\" xmlns=\"http://www.w3.org/2000/svg\" xmlns:ev=\"http://www.w3.org/2001/xml-events\" xmlns:xlink=\"http://www.w3.org/1999/xlink\"><defs><style type=\"text/css\"><![CDATA[.background path {fill: #808080; fill-opacity: 0}.background path:nth-child(odd) {fill-opacity: .1}.axes {font-size: 14px}.x-axis .tick .lab {font-weight: bold; dominant-baseline: hanging}.axes, .tree {font-size: 14px; text-anchor: middle}.axes line, .edge {stroke: black; fill: none}.y-axis .grid {stroke: #FAFAFA}.node > .sym {fill: black; stroke: none}.site > .sym {stroke: black}.mut text {fill: red; font-style: italic}.mut.extra text {fill: hotpink}.mut line {fill: none; stroke: none}.mut .sym {fill: none; stroke: red}.mut.extra .sym {stroke: hotpink}.node .mut .sym {stroke-width: 1.5px}.tree text, .tree-sequence text {dominant-baseline: central}.plotbox .lab.lft {text-anchor: end}.plotbox .lab.rgt {text-anchor: start}]]></style></defs><g class=\"tree-sequence\"><g class=\"background\"><path d=\"M20,0 l160,0 l0,138.2 l0,25 l0,5 l-160,0 l0,-5 l0,-25 l0,-138.2z\"/></g><g class=\"axes\"><g class=\"x-axis\"><g transform=\"translate(100 200)\"><text class=\"lab\" text-anchor=\"middle\" transform=\"translate(0 -11)\">Genome position</text></g><line x1=\"20\" x2=\"180\" y1=\"163.2\" y2=\"163.2\"/><g class=\"ticks\"><g class=\"tick\" transform=\"translate(20 163.2)\"><line x1=\"0\" x2=\"0\" y1=\"0\" y2=\"5\"/><g transform=\"translate(0 6)\"><text class=\"lab\">0</text></g></g><g class=\"tick\" transform=\"translate(180 163.2)\"><line x1=\"0\" x2=\"0\" y1=\"0\" y2=\"5\"/><g transform=\"translate(0 6)\"><text class=\"lab\">10</text></g></g></g></g></g><g class=\"plotbox trees\"><g class=\"tree t0\" transform=\"translate(20 0)\"><g class=\"plotbox\"><g class=\"c2 node n6 p0 root\" transform=\"translate(98.75 26.8)\"><g class=\"a6 i1 leaf node n2 p0 sample\" transform=\"translate(26.25 94.6)\"><path class=\"edge\" d=\"M 0 0 V -94.6 H -26.25\"/><rect class=\"sym\" height=\"6\" width=\"6\" x=\"-3\" y=\"-3\"/><text class=\"lab\" transform=\"translate(0 11)\">2</text></g><g class=\"a6 c2 node n5 p0\" transform=\"translate(-26.25 25.2505)\"><g class=\"a5 i1 leaf node n3 p0 sample\" transform=\"translate(22.5 69.3495)\"><path class=\"edge\" d=\"M 0 0 V -69.3495 H -22.5\"/><rect class=\"sym\" height=\"6\" width=\"6\" x=\"-3\" y=\"-3\"/><text class=\"lab\" transform=\"translate(0 11)\">3</text></g><g class=\"a5 c2 node n4 p0\" transform=\"translate(-22.5 63.0417)\"><g class=\"a4 i0 leaf node n0 p0 sample\" transform=\"translate(-15 6.3078)\"><path class=\"edge\" d=\"M 0 0 V -6.3078 H 15\"/><rect class=\"sym\" height=\"6\" width=\"6\" x=\"-3\" y=\"-3\"/><text class=\"lab\" transform=\"translate(0 11)\">0</text></g><g class=\"a4 i0 leaf node n1 p0 sample\" transform=\"translate(15 6.3078)\"><path class=\"edge\" d=\"M 0 0 V -6.3078 H -15\"/><rect class=\"sym\" height=\"6\" width=\"6\" x=\"-3\" y=\"-3\"/><text class=\"lab\" transform=\"translate(0 11)\">1</text></g><path class=\"edge\" d=\"M 0 0 V -63.0417 H 22.5\"/><circle class=\"sym\" cx=\"0\" cy=\"0\" r=\"3\"/><text class=\"lab lft\" transform=\"translate(-3 -7.0)\">4</text></g><path class=\"edge\" d=\"M 0 0 V -25.2505 H 26.25\"/><circle class=\"sym\" cx=\"0\" cy=\"0\" r=\"3\"/><text class=\"lab lft\" transform=\"translate(-3 -7.0)\">5</text></g><circle class=\"sym\" cx=\"0\" cy=\"0\" r=\"3\"/><text class=\"lab\" transform=\"translate(0 -11)\">6</text></g></g></g></g></g></svg>"
      ],
      "text/plain": [
       "<IPython.core.display.SVG object>"
      ]
     },
     "execution_count": 5,
     "metadata": {},
     "output_type": "execute_result"
    }
   ],
   "source": [
    "ts = msprime.sim_ancestry(samples=2, random_seed=1, sequence_length=10)\n",
    "SVG(ts.draw_svg())"
   ]
  },
  {
   "cell_type": "markdown",
   "metadata": {},
   "source": [
    "Also, note that our 'tree sequence' consists of just a single tree. This is because we have not yet specified a `recombination_rate`, and the default is 0. \n",
    "This is the probability of a recombination event per genomic unit (base), per generation."
   ]
  },
  {
   "cell_type": "code",
   "execution_count": 7,
   "metadata": {},
   "outputs": [
    {
     "data": {
      "image/svg+xml": [
       "<svg baseProfile=\"full\" height=\"200\" version=\"1.1\" width=\"800\" xmlns=\"http://www.w3.org/2000/svg\" xmlns:ev=\"http://www.w3.org/2001/xml-events\" xmlns:xlink=\"http://www.w3.org/1999/xlink\"><defs><style type=\"text/css\"><![CDATA[.background path {fill: #808080; fill-opacity: 0}.background path:nth-child(odd) {fill-opacity: .1}.axes {font-size: 14px}.x-axis .tick .lab {font-weight: bold; dominant-baseline: hanging}.axes, .tree {font-size: 14px; text-anchor: middle}.axes line, .edge {stroke: black; fill: none}.y-axis .grid {stroke: #FAFAFA}.node > .sym {fill: black; stroke: none}.site > .sym {stroke: black}.mut text {fill: red; font-style: italic}.mut.extra text {fill: hotpink}.mut line {fill: none; stroke: none}.mut .sym {fill: none; stroke: red}.mut.extra .sym {stroke: hotpink}.node .mut .sym {stroke-width: 1.5px}.tree text, .tree-sequence text {dominant-baseline: central}.plotbox .lab.lft {text-anchor: end}.plotbox .lab.rgt {text-anchor: start}]]></style></defs><g class=\"tree-sequence\"><g class=\"background\"><path d=\"M20,0 l190,0 l0,138.2 l-114,25 l0,5 l-76,0 l0,-5 l0,-25 l0,-138.2z\"/><path d=\"M210,0 l190,0 l0,138.2 l-228,25 l0,5 l-76,0 l0,-5 l114,-25 l0,-138.2z\"/><path d=\"M400,0 l190,0 l0,138.2 l114,25 l0,5 l-532,0 l0,-5 l228,-25 l0,-138.2z\"/><path d=\"M590,0 l190,0 l0,138.2 l0,25 l0,5 l-76,0 l0,-5 l-114,-25 l0,-138.2z\"/></g><g class=\"axes\"><g class=\"x-axis\"><g transform=\"translate(400 200)\"><text class=\"lab\" text-anchor=\"middle\" transform=\"translate(0 -11)\">Genome position</text></g><line x1=\"20\" x2=\"780\" y1=\"163.2\" y2=\"163.2\"/><g class=\"ticks\"><g class=\"tick\" transform=\"translate(20 163.2)\"><line x1=\"0\" x2=\"0\" y1=\"0\" y2=\"5\"/><g transform=\"translate(0 6)\"><text class=\"lab\">0</text></g></g><g class=\"tick\" transform=\"translate(96 163.2)\"><line x1=\"0\" x2=\"0\" y1=\"0\" y2=\"5\"/><g transform=\"translate(0 6)\"><text class=\"lab\">1</text></g></g><g class=\"tick\" transform=\"translate(172 163.2)\"><line x1=\"0\" x2=\"0\" y1=\"0\" y2=\"5\"/><g transform=\"translate(0 6)\"><text class=\"lab\">2</text></g></g><g class=\"tick\" transform=\"translate(704 163.2)\"><line x1=\"0\" x2=\"0\" y1=\"0\" y2=\"5\"/><g transform=\"translate(0 6)\"><text class=\"lab\">9</text></g></g><g class=\"tick\" transform=\"translate(780 163.2)\"><line x1=\"0\" x2=\"0\" y1=\"0\" y2=\"5\"/><g transform=\"translate(0 6)\"><text class=\"lab\">10</text></g></g></g></g></g><g class=\"plotbox trees\"><g class=\"tree t0\" transform=\"translate(20 0)\"><g class=\"plotbox\"><g class=\"c2 node n8 p0 root\" transform=\"translate(109.062 30.0081)\"><g class=\"a8 i1 leaf node n3 p0 sample\" transform=\"translate(42.1875 91.3919)\"><path class=\"edge\" d=\"M 0 0 V -91.3919 H -42.1875\"/><rect class=\"sym\" height=\"6\" width=\"6\" x=\"-3\" y=\"-3\"/><text class=\"lab\" transform=\"translate(0 11)\">3</text></g><g class=\"a8 c2 node n5 p0\" transform=\"translate(-42.1875 46.5549)\"><g class=\"a5 i0 leaf node n0 p0 sample\" transform=\"translate(-28.125 44.837)\"><path class=\"edge\" d=\"M 0 0 V -44.837 H 28.125\"/><rect class=\"sym\" height=\"6\" width=\"6\" x=\"-3\" y=\"-3\"/><text class=\"lab\" transform=\"translate(0 11)\">0</text></g><g class=\"a5 c2 node n4 p0\" transform=\"translate(28.125 44.1532)\"><g class=\"a4 i0 leaf node n1 p0 sample\" transform=\"translate(-18.75 0.683774)\"><path class=\"edge\" d=\"M 0 0 V -0.683774 H 18.75\"/><rect class=\"sym\" height=\"6\" width=\"6\" x=\"-3\" y=\"-3\"/><text class=\"lab\" transform=\"translate(0 11)\">1</text></g><g class=\"a4 i1 leaf node n2 p0 sample\" transform=\"translate(18.75 0.683774)\"><path class=\"edge\" d=\"M 0 0 V -0.683774 H -18.75\"/><rect class=\"sym\" height=\"6\" width=\"6\" x=\"-3\" y=\"-3\"/><text class=\"lab\" transform=\"translate(0 11)\">2</text></g><path class=\"edge\" d=\"M 0 0 V -44.1532 H -28.125\"/><circle class=\"sym\" cx=\"0\" cy=\"0\" r=\"3\"/><text class=\"lab rgt\" transform=\"translate(3 -7.0)\">4</text></g><path class=\"edge\" d=\"M 0 0 V -46.5549 H 42.1875\"/><circle class=\"sym\" cx=\"0\" cy=\"0\" r=\"3\"/><text class=\"lab lft\" transform=\"translate(-3 -7.0)\">5</text></g><circle class=\"sym\" cx=\"0\" cy=\"0\" r=\"3\"/><text class=\"lab\" transform=\"translate(0 -11)\">8</text></g></g></g><g class=\"tree t1\" transform=\"translate(210 0)\"><g class=\"plotbox\"><g class=\"c2 node n7 p0 root\" transform=\"translate(109.062 36.5039)\"><g class=\"a7 i1 leaf node n3 p0 sample\" transform=\"translate(42.1875 84.8961)\"><path class=\"edge\" d=\"M 0 0 V -84.8961 H -42.1875\"/><rect class=\"sym\" height=\"6\" width=\"6\" x=\"-3\" y=\"-3\"/><text class=\"lab\" transform=\"translate(0 11)\">3</text></g><g class=\"a7 c2 node n5 p0\" transform=\"translate(-42.1875 40.0591)\"><g class=\"a5 i0 leaf node n0 p0 sample\" transform=\"translate(-28.125 44.837)\"><path class=\"edge\" d=\"M 0 0 V -44.837 H 28.125\"/><rect class=\"sym\" height=\"6\" width=\"6\" x=\"-3\" y=\"-3\"/><text class=\"lab\" transform=\"translate(0 11)\">0</text></g><g class=\"a5 c2 node n4 p0\" transform=\"translate(28.125 44.1532)\"><g class=\"a4 i0 leaf node n1 p0 sample\" transform=\"translate(-18.75 0.683774)\"><path class=\"edge\" d=\"M 0 0 V -0.683774 H 18.75\"/><rect class=\"sym\" height=\"6\" width=\"6\" x=\"-3\" y=\"-3\"/><text class=\"lab\" transform=\"translate(0 11)\">1</text></g><g class=\"a4 i1 leaf node n2 p0 sample\" transform=\"translate(18.75 0.683774)\"><path class=\"edge\" d=\"M 0 0 V -0.683774 H -18.75\"/><rect class=\"sym\" height=\"6\" width=\"6\" x=\"-3\" y=\"-3\"/><text class=\"lab\" transform=\"translate(0 11)\">2</text></g><path class=\"edge\" d=\"M 0 0 V -44.1532 H -28.125\"/><circle class=\"sym\" cx=\"0\" cy=\"0\" r=\"3\"/><text class=\"lab rgt\" transform=\"translate(3 -7.0)\">4</text></g><path class=\"edge\" d=\"M 0 0 V -40.0591 H 42.1875\"/><circle class=\"sym\" cx=\"0\" cy=\"0\" r=\"3\"/><text class=\"lab lft\" transform=\"translate(-3 -7.0)\">5</text></g><circle class=\"sym\" cx=\"0\" cy=\"0\" r=\"3\"/><text class=\"lab\" transform=\"translate(0 -11)\">7</text></g></g></g><g class=\"tree t2\" transform=\"translate(400 0)\"><g class=\"plotbox\"><g class=\"c2 node n7 p0 root\" transform=\"translate(80.9375 36.5039)\"><g class=\"a7 i0 leaf node n0 p0 sample\" transform=\"translate(-42.1875 84.8961)\"><path class=\"edge\" d=\"M 0 0 V -84.8961 H 42.1875\"/><rect class=\"sym\" height=\"6\" width=\"6\" x=\"-3\" y=\"-3\"/><text class=\"lab\" transform=\"translate(0 11)\">0</text></g><g class=\"a7 c2 node n6 p0\" transform=\"translate(42.1875 32.1058)\"><g class=\"a6 i1 leaf node n3 p0 sample\" transform=\"translate(28.125 52.7904)\"><path class=\"edge\" d=\"M 0 0 V -52.7904 H -28.125\"/><rect class=\"sym\" height=\"6\" width=\"6\" x=\"-3\" y=\"-3\"/><text class=\"lab\" transform=\"translate(0 11)\">3</text></g><g class=\"a6 c2 node n4 p0\" transform=\"translate(-28.125 52.1066)\"><g class=\"a4 i0 leaf node n1 p0 sample\" transform=\"translate(-18.75 0.683774)\"><path class=\"edge\" d=\"M 0 0 V -0.683774 H 18.75\"/><rect class=\"sym\" height=\"6\" width=\"6\" x=\"-3\" y=\"-3\"/><text class=\"lab\" transform=\"translate(0 11)\">1</text></g><g class=\"a4 i1 leaf node n2 p0 sample\" transform=\"translate(18.75 0.683774)\"><path class=\"edge\" d=\"M 0 0 V -0.683774 H -18.75\"/><rect class=\"sym\" height=\"6\" width=\"6\" x=\"-3\" y=\"-3\"/><text class=\"lab\" transform=\"translate(0 11)\">2</text></g><path class=\"edge\" d=\"M 0 0 V -52.1066 H 28.125\"/><circle class=\"sym\" cx=\"0\" cy=\"0\" r=\"3\"/><text class=\"lab lft\" transform=\"translate(-3 -7.0)\">4</text></g><path class=\"edge\" d=\"M 0 0 V -32.1058 H -42.1875\"/><circle class=\"sym\" cx=\"0\" cy=\"0\" r=\"3\"/><text class=\"lab rgt\" transform=\"translate(3 -7.0)\">6</text></g><circle class=\"sym\" cx=\"0\" cy=\"0\" r=\"3\"/><text class=\"lab\" transform=\"translate(0 -11)\">7</text></g></g></g><g class=\"tree t3\" transform=\"translate(590 0)\"><g class=\"plotbox\"><g class=\"c2 node n9 p0 root\" transform=\"translate(95 26.8)\"><g class=\"a9 c2 node n4 p0\" transform=\"translate(37.5 93.9162)\"><g class=\"a4 i0 leaf node n1 p0 sample\" transform=\"translate(-18.75 0.683774)\"><path class=\"edge\" d=\"M 0 0 V -0.683774 H 18.75\"/><rect class=\"sym\" height=\"6\" width=\"6\" x=\"-3\" y=\"-3\"/><text class=\"lab\" transform=\"translate(0 11)\">1</text></g><g class=\"a4 i1 leaf node n2 p0 sample\" transform=\"translate(18.75 0.683774)\"><path class=\"edge\" d=\"M 0 0 V -0.683774 H -18.75\"/><rect class=\"sym\" height=\"6\" width=\"6\" x=\"-3\" y=\"-3\"/><text class=\"lab\" transform=\"translate(0 11)\">2</text></g><path class=\"edge\" d=\"M 0 0 V -93.9162 H -37.5\"/><circle class=\"sym\" cx=\"0\" cy=\"0\" r=\"3\"/><text class=\"lab rgt\" transform=\"translate(3 -7.0)\">4</text></g><g class=\"a9 c2 node n7 p0\" transform=\"translate(-37.5 9.70388)\"><g class=\"a7 i0 leaf node n0 p0 sample\" transform=\"translate(-18.75 84.8961)\"><path class=\"edge\" d=\"M 0 0 V -84.8961 H 18.75\"/><rect class=\"sym\" height=\"6\" width=\"6\" x=\"-3\" y=\"-3\"/><text class=\"lab\" transform=\"translate(0 11)\">0</text></g><g class=\"a7 i1 leaf node n3 p0 sample\" transform=\"translate(18.75 84.8961)\"><path class=\"edge\" d=\"M 0 0 V -84.8961 H -18.75\"/><rect class=\"sym\" height=\"6\" width=\"6\" x=\"-3\" y=\"-3\"/><text class=\"lab\" transform=\"translate(0 11)\">3</text></g><path class=\"edge\" d=\"M 0 0 V -9.70388 H 37.5\"/><circle class=\"sym\" cx=\"0\" cy=\"0\" r=\"3\"/><text class=\"lab lft\" transform=\"translate(-3 -7.0)\">7</text></g><circle class=\"sym\" cx=\"0\" cy=\"0\" r=\"3\"/><text class=\"lab\" transform=\"translate(0 -11)\">9</text></g></g></g></g></g></svg>"
      ],
      "text/plain": [
       "<IPython.core.display.SVG object>"
      ]
     },
     "execution_count": 7,
     "metadata": {},
     "output_type": "execute_result"
    }
   ],
   "source": [
    "ts = msprime.sim_ancestry(\n",
    "                samples=2,\n",
    "                random_seed=82,\n",
    "                sequence_length=10,\n",
    "                recombination_rate=0.1)\n",
    "SVG(ts.draw_svg())"
   ]
  },
  {
   "cell_type": "markdown",
   "metadata": {},
   "source": [
    "We may also wish to specify recombination rates that vary across the genome. \n",
    "We do this by creating a `RateMap` object,\n",
    "which lists recombination rates between defined positions in the sequence."
   ]
  },
  {
   "cell_type": "code",
   "execution_count": 7,
   "metadata": {},
   "outputs": [
    {
     "data": {
      "image/svg+xml": [
       "<svg baseProfile=\"full\" height=\"200\" version=\"1.1\" width=\"800\" xmlns=\"http://www.w3.org/2000/svg\" xmlns:ev=\"http://www.w3.org/2001/xml-events\" xmlns:xlink=\"http://www.w3.org/1999/xlink\"><defs><style type=\"text/css\"><![CDATA[.background path {fill: #808080; fill-opacity: 0}.background path:nth-child(odd) {fill-opacity: .1}.axes {font-size: 14px}.x-axis .tick .lab {font-weight: bold; dominant-baseline: hanging}.axes, .tree {font-size: 14px; text-anchor: middle}.axes line, .edge {stroke: black; fill: none}.y-axis .grid {stroke: #FAFAFA}.node > .sym {fill: black; stroke: none}.site > .sym {stroke: black}.mut text {fill: red; font-style: italic}.mut.extra text {fill: hotpink}.mut line {fill: none; stroke: none}.mut .sym {fill: none; stroke: red}.mut.extra .sym {stroke: hotpink}.node .mut .sym {stroke-width: 1.5px}.tree text, .tree-sequence text {dominant-baseline: central}.plotbox .lab.lft {text-anchor: end}.plotbox .lab.rgt {text-anchor: start}]]></style></defs><g class=\"tree-sequence\"><g class=\"background\"><path d=\"M20,0 l190,0 l0,138.2 l228,25 l0,5 l-418,0 l0,-5 l0,-25 l0,-138.2z\"/><path d=\"M210,0 l190,0 l0,138.2 l76,25 l0,5 l-38,0 l0,-5 l-228,-25 l0,-138.2z\"/><path d=\"M400,0 l190,0 l0,138.2 l0,25 l0,5 l-114,0 l0,-5 l-76,-25 l0,-138.2z\"/><path d=\"M590,0 l190,0 l0,138.2 l0,25 l0,5 l-190,0 l0,-5 l0,-25 l0,-138.2z\"/></g><g class=\"axes\"><g class=\"x-axis\"><g transform=\"translate(400 200)\"><text class=\"lab\" text-anchor=\"middle\" transform=\"translate(0 -11)\">Genome position</text></g><line x1=\"20\" x2=\"780\" y1=\"163.2\" y2=\"163.2\"/><g class=\"ticks\"><g class=\"tick\" transform=\"translate(20 163.2)\"><line x1=\"0\" x2=\"0\" y1=\"0\" y2=\"5\"/><g transform=\"translate(0 6)\"><text class=\"lab\">0</text></g></g><g class=\"tick\" transform=\"translate(438 163.2)\"><line x1=\"0\" x2=\"0\" y1=\"0\" y2=\"5\"/><g transform=\"translate(0 6)\"><text class=\"lab\">11</text></g></g><g class=\"tick\" transform=\"translate(476 163.2)\"><line x1=\"0\" x2=\"0\" y1=\"0\" y2=\"5\"/><g transform=\"translate(0 6)\"><text class=\"lab\">12</text></g></g><g class=\"tick\" transform=\"translate(590 163.2)\"><line x1=\"0\" x2=\"0\" y1=\"0\" y2=\"5\"/><g transform=\"translate(0 6)\"><text class=\"lab\">15</text></g></g><g class=\"tick\" transform=\"translate(780 163.2)\"><line x1=\"0\" x2=\"0\" y1=\"0\" y2=\"5\"/><g transform=\"translate(0 6)\"><text class=\"lab\">20</text></g></g></g></g></g><g class=\"plotbox trees\"><g class=\"tree t0\" transform=\"translate(20 0)\"><g class=\"plotbox\"><g class=\"c2 node n14 p0 root\" transform=\"translate(74.6875 26.8)\"><g class=\"a14 c2 node n6 p0\" transform=\"translate(-29.6875 93.0814)\"><g class=\"a6 i0 leaf node n0 p0 sample\" transform=\"translate(-12.5 1.51859)\"><path class=\"edge\" d=\"M 0 0 V -1.51859 H 12.5\"/><rect class=\"sym\" height=\"6\" width=\"6\" x=\"-3\" y=\"-3\"/><text class=\"lab\" transform=\"translate(0 11)\">0</text></g><g class=\"a6 i2 leaf node n5 p0 sample\" transform=\"translate(12.5 1.51859)\"><path class=\"edge\" d=\"M 0 0 V -1.51859 H -12.5\"/><rect class=\"sym\" height=\"6\" width=\"6\" x=\"-3\" y=\"-3\"/><text class=\"lab\" transform=\"translate(0 11)\">5</text></g><path class=\"edge\" d=\"M 0 0 V -93.0814 H 29.6875\"/><circle class=\"sym\" cx=\"0\" cy=\"0\" r=\"3\"/><text class=\"lab lft\" transform=\"translate(-3 -7.0)\">6</text></g><g class=\"a14 c2 node n9 p0\" transform=\"translate(29.6875 68.193)\"><g class=\"a9 i0 leaf node n1 p0 sample\" transform=\"translate(-21.875 26.407)\"><path class=\"edge\" d=\"M 0 0 V -26.407 H 21.875\"/><rect class=\"sym\" height=\"6\" width=\"6\" x=\"-3\" y=\"-3\"/><text class=\"lab\" transform=\"translate(0 11)\">1</text></g><g class=\"a9 c2 node n8 p0\" transform=\"translate(21.875 9.93916)\"><g class=\"a8 i1 leaf node n2 p0 sample\" transform=\"translate(-18.75 16.4678)\"><path class=\"edge\" d=\"M 0 0 V -16.4678 H 18.75\"/><rect class=\"sym\" height=\"6\" width=\"6\" x=\"-3\" y=\"-3\"/><text class=\"lab\" transform=\"translate(0 11)\">2</text></g><g class=\"a8 c2 node n7 p0\" transform=\"translate(18.75 2.75709)\"><g class=\"a7 i1 leaf node n3 p0 sample\" transform=\"translate(-12.5 13.7107)\"><path class=\"edge\" d=\"M 0 0 V -13.7107 H 12.5\"/><rect class=\"sym\" height=\"6\" width=\"6\" x=\"-3\" y=\"-3\"/><text class=\"lab\" transform=\"translate(0 11)\">3</text></g><g class=\"a7 i2 leaf node n4 p0 sample\" transform=\"translate(12.5 13.7107)\"><path class=\"edge\" d=\"M 0 0 V -13.7107 H -12.5\"/><rect class=\"sym\" height=\"6\" width=\"6\" x=\"-3\" y=\"-3\"/><text class=\"lab\" transform=\"translate(0 11)\">4</text></g><path class=\"edge\" d=\"M 0 0 V -2.75709 H -18.75\"/><circle class=\"sym\" cx=\"0\" cy=\"0\" r=\"3\"/><text class=\"lab rgt\" transform=\"translate(3 -7.0)\">7</text></g><path class=\"edge\" d=\"M 0 0 V -9.93916 H -21.875\"/><circle class=\"sym\" cx=\"0\" cy=\"0\" r=\"3\"/><text class=\"lab rgt\" transform=\"translate(3 -7.0)\">8</text></g><path class=\"edge\" d=\"M 0 0 V -68.193 H -29.6875\"/><circle class=\"sym\" cx=\"0\" cy=\"0\" r=\"3\"/><text class=\"lab rgt\" transform=\"translate(3 -7.0)\">9</text></g><circle class=\"sym\" cx=\"0\" cy=\"0\" r=\"3\"/><text class=\"lab\" transform=\"translate(0 -11)\">14</text></g></g></g><g class=\"tree t1\" transform=\"translate(210 0)\"><g class=\"plotbox\"><g class=\"c2 node n14 p0 root\" transform=\"translate(87.1875 26.8)\"><g class=\"a14 c2 node n6 p0\" transform=\"translate(-42.1875 93.0814)\"><g class=\"a6 i0 leaf node n0 p0 sample\" transform=\"translate(-12.5 1.51859)\"><path class=\"edge\" d=\"M 0 0 V -1.51859 H 12.5\"/><rect class=\"sym\" height=\"6\" width=\"6\" x=\"-3\" y=\"-3\"/><text class=\"lab\" transform=\"translate(0 11)\">0</text></g><g class=\"a6 i2 leaf node n5 p0 sample\" transform=\"translate(12.5 1.51859)\"><path class=\"edge\" d=\"M 0 0 V -1.51859 H -12.5\"/><rect class=\"sym\" height=\"6\" width=\"6\" x=\"-3\" y=\"-3\"/><text class=\"lab\" transform=\"translate(0 11)\">5</text></g><path class=\"edge\" d=\"M 0 0 V -93.0814 H 42.1875\"/><circle class=\"sym\" cx=\"0\" cy=\"0\" r=\"3\"/><text class=\"lab lft\" transform=\"translate(-3 -7.0)\">6</text></g><g class=\"a14 c2 node n13 p0\" transform=\"translate(42.1875 13.747)\"><g class=\"a13 i1 leaf node n3 p0 sample\" transform=\"translate(28.125 80.853)\"><path class=\"edge\" d=\"M 0 0 V -80.853 H -28.125\"/><rect class=\"sym\" height=\"6\" width=\"6\" x=\"-3\" y=\"-3\"/><text class=\"lab\" transform=\"translate(0 11)\">3</text></g><g class=\"a13 c2 node n9 p0\" transform=\"translate(-28.125 54.446)\"><g class=\"a9 i0 leaf node n1 p0 sample\" transform=\"translate(-18.75 26.407)\"><path class=\"edge\" d=\"M 0 0 V -26.407 H 18.75\"/><rect class=\"sym\" height=\"6\" width=\"6\" x=\"-3\" y=\"-3\"/><text class=\"lab\" transform=\"translate(0 11)\">1</text></g><g class=\"a9 c2 node n8 p0\" transform=\"translate(18.75 9.93916)\"><g class=\"a8 i1 leaf node n2 p0 sample\" transform=\"translate(-12.5 16.4678)\"><path class=\"edge\" d=\"M 0 0 V -16.4678 H 12.5\"/><rect class=\"sym\" height=\"6\" width=\"6\" x=\"-3\" y=\"-3\"/><text class=\"lab\" transform=\"translate(0 11)\">2</text></g><g class=\"a8 i2 leaf node n4 p0 sample\" transform=\"translate(12.5 16.4678)\"><path class=\"edge\" d=\"M 0 0 V -16.4678 H -12.5\"/><rect class=\"sym\" height=\"6\" width=\"6\" x=\"-3\" y=\"-3\"/><text class=\"lab\" transform=\"translate(0 11)\">4</text></g><path class=\"edge\" d=\"M 0 0 V -9.93916 H -18.75\"/><circle class=\"sym\" cx=\"0\" cy=\"0\" r=\"3\"/><text class=\"lab rgt\" transform=\"translate(3 -7.0)\">8</text></g><path class=\"edge\" d=\"M 0 0 V -54.446 H 28.125\"/><circle class=\"sym\" cx=\"0\" cy=\"0\" r=\"3\"/><text class=\"lab lft\" transform=\"translate(-3 -7.0)\">9</text></g><path class=\"edge\" d=\"M 0 0 V -13.747 H -42.1875\"/><circle class=\"sym\" cx=\"0\" cy=\"0\" r=\"3\"/><text class=\"lab rgt\" transform=\"translate(3 -7.0)\">13</text></g><circle class=\"sym\" cx=\"0\" cy=\"0\" r=\"3\"/><text class=\"lab\" transform=\"translate(0 -11)\">14</text></g></g></g><g class=\"tree t2\" transform=\"translate(400 0)\"><g class=\"plotbox\"><g class=\"c2 node n14 p0 root\" transform=\"translate(101.25 26.8)\"><g class=\"a14 c2 node n13 p0\" transform=\"translate(37.5 13.747)\"><g class=\"a13 i1 leaf node n3 p0 sample\" transform=\"translate(18.75 80.853)\"><path class=\"edge\" d=\"M 0 0 V -80.853 H -18.75\"/><rect class=\"sym\" height=\"6\" width=\"6\" x=\"-3\" y=\"-3\"/><text class=\"lab\" transform=\"translate(0 11)\">3</text></g><g class=\"a13 c2 node n8 p0\" transform=\"translate(-18.75 64.3851)\"><g class=\"a8 i1 leaf node n2 p0 sample\" transform=\"translate(-12.5 16.4678)\"><path class=\"edge\" d=\"M 0 0 V -16.4678 H 12.5\"/><rect class=\"sym\" height=\"6\" width=\"6\" x=\"-3\" y=\"-3\"/><text class=\"lab\" transform=\"translate(0 11)\">2</text></g><g class=\"a8 i2 leaf node n4 p0 sample\" transform=\"translate(12.5 16.4678)\"><path class=\"edge\" d=\"M 0 0 V -16.4678 H -12.5\"/><rect class=\"sym\" height=\"6\" width=\"6\" x=\"-3\" y=\"-3\"/><text class=\"lab\" transform=\"translate(0 11)\">4</text></g><path class=\"edge\" d=\"M 0 0 V -64.3851 H 18.75\"/><circle class=\"sym\" cx=\"0\" cy=\"0\" r=\"3\"/><text class=\"lab lft\" transform=\"translate(-3 -7.0)\">8</text></g><path class=\"edge\" d=\"M 0 0 V -13.747 H -37.5\"/><circle class=\"sym\" cx=\"0\" cy=\"0\" r=\"3\"/><text class=\"lab rgt\" transform=\"translate(3 -7.0)\">13</text></g><g class=\"a14 c2 node n10 p0\" transform=\"translate(-37.5 60.1721)\"><g class=\"a10 i0 leaf node n1 p0 sample\" transform=\"translate(18.75 34.4279)\"><path class=\"edge\" d=\"M 0 0 V -34.4279 H -18.75\"/><rect class=\"sym\" height=\"6\" width=\"6\" x=\"-3\" y=\"-3\"/><text class=\"lab\" transform=\"translate(0 11)\">1</text></g><g class=\"a10 c2 node n6 p0\" transform=\"translate(-18.75 32.9093)\"><g class=\"a6 i0 leaf node n0 p0 sample\" transform=\"translate(-12.5 1.51859)\"><path class=\"edge\" d=\"M 0 0 V -1.51859 H 12.5\"/><rect class=\"sym\" height=\"6\" width=\"6\" x=\"-3\" y=\"-3\"/><text class=\"lab\" transform=\"translate(0 11)\">0</text></g><g class=\"a6 i2 leaf node n5 p0 sample\" transform=\"translate(12.5 1.51859)\"><path class=\"edge\" d=\"M 0 0 V -1.51859 H -12.5\"/><rect class=\"sym\" height=\"6\" width=\"6\" x=\"-3\" y=\"-3\"/><text class=\"lab\" transform=\"translate(0 11)\">5</text></g><path class=\"edge\" d=\"M 0 0 V -32.9093 H 18.75\"/><circle class=\"sym\" cx=\"0\" cy=\"0\" r=\"3\"/><text class=\"lab lft\" transform=\"translate(-3 -7.0)\">6</text></g><path class=\"edge\" d=\"M 0 0 V -60.1721 H 37.5\"/><circle class=\"sym\" cx=\"0\" cy=\"0\" r=\"3\"/><text class=\"lab lft\" transform=\"translate(-3 -7.0)\">10</text></g><circle class=\"sym\" cx=\"0\" cy=\"0\" r=\"3\"/><text class=\"lab\" transform=\"translate(0 -11)\">14</text></g></g></g><g class=\"tree t3\" transform=\"translate(590 0)\"><g class=\"plotbox\"><g class=\"c2 node n13 p0 root\" transform=\"translate(95 40.547)\"><g class=\"a13 c2 node n11 p0\" transform=\"translate(31.25 16.6876)\"><g class=\"a11 i0 leaf node n1 p0 sample\" transform=\"translate(-18.75 64.1653)\"><path class=\"edge\" d=\"M 0 0 V -64.1653 H 18.75\"/><rect class=\"sym\" height=\"6\" width=\"6\" x=\"-3\" y=\"-3\"/><text class=\"lab\" transform=\"translate(0 11)\">1</text></g><g class=\"a11 c2 node n8 p0\" transform=\"translate(18.75 47.6975)\"><g class=\"a8 i1 leaf node n2 p0 sample\" transform=\"translate(-12.5 16.4678)\"><path class=\"edge\" d=\"M 0 0 V -16.4678 H 12.5\"/><rect class=\"sym\" height=\"6\" width=\"6\" x=\"-3\" y=\"-3\"/><text class=\"lab\" transform=\"translate(0 11)\">2</text></g><g class=\"a8 i2 leaf node n4 p0 sample\" transform=\"translate(12.5 16.4678)\"><path class=\"edge\" d=\"M 0 0 V -16.4678 H -12.5\"/><rect class=\"sym\" height=\"6\" width=\"6\" x=\"-3\" y=\"-3\"/><text class=\"lab\" transform=\"translate(0 11)\">4</text></g><path class=\"edge\" d=\"M 0 0 V -47.6975 H -18.75\"/><circle class=\"sym\" cx=\"0\" cy=\"0\" r=\"3\"/><text class=\"lab rgt\" transform=\"translate(3 -7.0)\">8</text></g><path class=\"edge\" d=\"M 0 0 V -16.6876 H -31.25\"/><circle class=\"sym\" cx=\"0\" cy=\"0\" r=\"3\"/><text class=\"lab rgt\" transform=\"translate(3 -7.0)\">11</text></g><g class=\"a13 c2 node n12 p0\" transform=\"translate(-31.25 13.0746)\"><g class=\"a12 i1 leaf node n3 p0 sample\" transform=\"translate(18.75 67.7784)\"><path class=\"edge\" d=\"M 0 0 V -67.7784 H -18.75\"/><rect class=\"sym\" height=\"6\" width=\"6\" x=\"-3\" y=\"-3\"/><text class=\"lab\" transform=\"translate(0 11)\">3</text></g><g class=\"a12 c2 node n6 p0\" transform=\"translate(-18.75 66.2598)\"><g class=\"a6 i0 leaf node n0 p0 sample\" transform=\"translate(-12.5 1.51859)\"><path class=\"edge\" d=\"M 0 0 V -1.51859 H 12.5\"/><rect class=\"sym\" height=\"6\" width=\"6\" x=\"-3\" y=\"-3\"/><text class=\"lab\" transform=\"translate(0 11)\">0</text></g><g class=\"a6 i2 leaf node n5 p0 sample\" transform=\"translate(12.5 1.51859)\"><path class=\"edge\" d=\"M 0 0 V -1.51859 H -12.5\"/><rect class=\"sym\" height=\"6\" width=\"6\" x=\"-3\" y=\"-3\"/><text class=\"lab\" transform=\"translate(0 11)\">5</text></g><path class=\"edge\" d=\"M 0 0 V -66.2598 H 18.75\"/><circle class=\"sym\" cx=\"0\" cy=\"0\" r=\"3\"/><text class=\"lab lft\" transform=\"translate(-3 -7.0)\">6</text></g><path class=\"edge\" d=\"M 0 0 V -13.0746 H 31.25\"/><circle class=\"sym\" cx=\"0\" cy=\"0\" r=\"3\"/><text class=\"lab lft\" transform=\"translate(-3 -7.0)\">12</text></g><circle class=\"sym\" cx=\"0\" cy=\"0\" r=\"3\"/><text class=\"lab\" transform=\"translate(0 -11)\">13</text></g></g></g></g></g></svg>"
      ],
      "text/plain": [
       "<IPython.core.display.SVG object>"
      ]
     },
     "execution_count": 7,
     "metadata": {},
     "output_type": "execute_result"
    }
   ],
   "source": [
    "rate_map = msprime.RateMap(position=[0, 10, 20], rate=[0.01, 0.1])\n",
    "ts = msprime.sim_ancestry(3, recombination_rate=rate_map, random_seed=2)\n",
    "SVG(ts.draw_svg())"
   ]
  },
  {
   "cell_type": "markdown",
   "metadata": {},
   "source": [
    "Note that it's also possible to simulate gene conversion in `msprime`.\n",
    "If this is of interest, have a look at the API documentation for the `gene_conversion_rate` and `gene_conversion_tract_length` arguments,\n",
    "and [this](https://tskit.dev/msprime/docs/stable/ancestry.html?highlight=gene%20conversion#gene-conversion) short tutorial.\n"
   ]
  },
  {
   "cell_type": "markdown",
   "metadata": {},
   "source": [
    "By default, the recombination events will be assigned to integer locations along the sequence. However there may be situations where you want to model the genome using continuous coordinates. In this case, use the `discrete_genome=False` argument:"
   ]
  },
  {
   "cell_type": "code",
   "execution_count": 9,
   "metadata": {},
   "outputs": [
    {
     "data": {
      "image/svg+xml": [
       "<svg baseProfile=\"full\" height=\"200\" version=\"1.1\" width=\"800\" xmlns=\"http://www.w3.org/2000/svg\" xmlns:ev=\"http://www.w3.org/2001/xml-events\" xmlns:xlink=\"http://www.w3.org/1999/xlink\"><defs><style type=\"text/css\"><![CDATA[.background path {fill: #808080; fill-opacity: 0}.background path:nth-child(odd) {fill-opacity: .1}.axes {font-size: 14px}.x-axis .tick .lab {font-weight: bold; dominant-baseline: hanging}.axes, .tree {font-size: 14px; text-anchor: middle}.axes line, .edge {stroke: black; fill: none}.y-axis .grid {stroke: #FAFAFA}.node > .sym {fill: black; stroke: none}.site > .sym {stroke: black}.mut text {fill: red; font-style: italic}.mut.extra text {fill: hotpink}.mut line {fill: none; stroke: none}.mut .sym {fill: none; stroke: red}.mut.extra .sym {stroke: hotpink}.node .mut .sym {stroke-width: 1.5px}.tree text, .tree-sequence text {dominant-baseline: central}.plotbox .lab.lft {text-anchor: end}.plotbox .lab.rgt {text-anchor: start}]]></style></defs><g class=\"tree-sequence\"><g class=\"background\"><path d=\"M20,0 l190,0 l0,138.2 l-43.4894,25 l0,5 l-146.511,0 l0,-5 l0,-25 l0,-138.2z\"/><path d=\"M210,0 l190,0 l0,138.2 l-72.5098,25 l0,5 l-160.98,0 l0,-5 l43.4894,-25 l0,-138.2z\"/><path d=\"M400,0 l190,0 l0,138.2 l94.7864,25 l0,5 l-357.296,0 l0,-5 l72.5098,-25 l0,-138.2z\"/><path d=\"M590,0 l190,0 l0,138.2 l0,25 l0,5 l-95.2136,0 l0,-5 l-94.7864,-25 l0,-138.2z\"/></g><g class=\"axes\"><g class=\"x-axis\"><g transform=\"translate(400 200)\"><text class=\"lab\" text-anchor=\"middle\" transform=\"translate(0 -11)\">Genome position</text></g><line x1=\"20\" x2=\"780\" y1=\"163.2\" y2=\"163.2\"/><g class=\"ticks\"><g class=\"tick\" transform=\"translate(20 163.2)\"><line x1=\"0\" x2=\"0\" y1=\"0\" y2=\"5\"/><g transform=\"translate(0 6)\"><text class=\"lab\">0.00</text></g></g><g class=\"tick\" transform=\"translate(166.511 163.2)\"><line x1=\"0\" x2=\"0\" y1=\"0\" y2=\"5\"/><g transform=\"translate(0 6)\"><text class=\"lab\">19.28</text></g></g><g class=\"tick\" transform=\"translate(327.49 163.2)\"><line x1=\"0\" x2=\"0\" y1=\"0\" y2=\"5\"/><g transform=\"translate(0 6)\"><text class=\"lab\">40.46</text></g></g><g class=\"tick\" transform=\"translate(684.786 163.2)\"><line x1=\"0\" x2=\"0\" y1=\"0\" y2=\"5\"/><g transform=\"translate(0 6)\"><text class=\"lab\">87.47</text></g></g><g class=\"tick\" transform=\"translate(780 163.2)\"><line x1=\"0\" x2=\"0\" y1=\"0\" y2=\"5\"/><g transform=\"translate(0 6)\"><text class=\"lab\">100.00</text></g></g></g></g></g><g class=\"plotbox trees\"><g class=\"tree t0\" transform=\"translate(20 0)\"><g class=\"plotbox\"><g class=\"c2 node n7 p0 root\" transform=\"translate(80.9375 75.3217)\"><g class=\"a7 i0 leaf node n0 p0 sample\" transform=\"translate(-42.1875 46.0783)\"><path class=\"edge\" d=\"M 0 0 V -46.0783 H 42.1875\"/><rect class=\"sym\" height=\"6\" width=\"6\" x=\"-3\" y=\"-3\"/><text class=\"lab\" transform=\"translate(0 11)\">0</text></g><g class=\"a7 c2 node n5 p0\" transform=\"translate(42.1875 41.0358)\"><g class=\"a5 i1 leaf node n2 p0 sample\" transform=\"translate(28.125 5.04243)\"><path class=\"edge\" d=\"M 0 0 V -5.04243 H -28.125\"/><rect class=\"sym\" height=\"6\" width=\"6\" x=\"-3\" y=\"-3\"/><text class=\"lab\" transform=\"translate(0 11)\">2</text></g><g class=\"a5 c2 node n4 p0\" transform=\"translate(-28.125 3.91764)\"><g class=\"a4 i0 leaf node n1 p0 sample\" transform=\"translate(-18.75 1.12479)\"><path class=\"edge\" d=\"M 0 0 V -1.12479 H 18.75\"/><rect class=\"sym\" height=\"6\" width=\"6\" x=\"-3\" y=\"-3\"/><text class=\"lab\" transform=\"translate(0 11)\">1</text></g><g class=\"a4 i1 leaf node n3 p0 sample\" transform=\"translate(18.75 1.12479)\"><path class=\"edge\" d=\"M 0 0 V -1.12479 H -18.75\"/><rect class=\"sym\" height=\"6\" width=\"6\" x=\"-3\" y=\"-3\"/><text class=\"lab\" transform=\"translate(0 11)\">3</text></g><path class=\"edge\" d=\"M 0 0 V -3.91764 H 28.125\"/><circle class=\"sym\" cx=\"0\" cy=\"0\" r=\"3\"/><text class=\"lab lft\" transform=\"translate(-3 -7.0)\">4</text></g><path class=\"edge\" d=\"M 0 0 V -41.0358 H -42.1875\"/><circle class=\"sym\" cx=\"0\" cy=\"0\" r=\"3\"/><text class=\"lab rgt\" transform=\"translate(3 -7.0)\">5</text></g><circle class=\"sym\" cx=\"0\" cy=\"0\" r=\"3\"/><text class=\"lab\" transform=\"translate(0 -11)\">7</text></g></g></g><g class=\"tree t1\" transform=\"translate(210 0)\"><g class=\"plotbox\"><g class=\"c2 node n9 p0 root\" transform=\"translate(109.062 26.8)\"><g class=\"a9 i1 leaf node n2 p0 sample\" transform=\"translate(42.1875 94.6)\"><path class=\"edge\" d=\"M 0 0 V -94.6 H -42.1875\"/><rect class=\"sym\" height=\"6\" width=\"6\" x=\"-3\" y=\"-3\"/><text class=\"lab\" transform=\"translate(0 11)\">2</text></g><g class=\"a9 c2 node n7 p0\" transform=\"translate(-42.1875 48.5217)\"><g class=\"a7 i0 leaf node n0 p0 sample\" transform=\"translate(-28.125 46.0783)\"><path class=\"edge\" d=\"M 0 0 V -46.0783 H 28.125\"/><rect class=\"sym\" height=\"6\" width=\"6\" x=\"-3\" y=\"-3\"/><text class=\"lab\" transform=\"translate(0 11)\">0</text></g><g class=\"a7 c2 node n4 p0\" transform=\"translate(28.125 44.9535)\"><g class=\"a4 i0 leaf node n1 p0 sample\" transform=\"translate(-18.75 1.12479)\"><path class=\"edge\" d=\"M 0 0 V -1.12479 H 18.75\"/><rect class=\"sym\" height=\"6\" width=\"6\" x=\"-3\" y=\"-3\"/><text class=\"lab\" transform=\"translate(0 11)\">1</text></g><g class=\"a4 i1 leaf node n3 p0 sample\" transform=\"translate(18.75 1.12479)\"><path class=\"edge\" d=\"M 0 0 V -1.12479 H -18.75\"/><rect class=\"sym\" height=\"6\" width=\"6\" x=\"-3\" y=\"-3\"/><text class=\"lab\" transform=\"translate(0 11)\">3</text></g><path class=\"edge\" d=\"M 0 0 V -44.9535 H -28.125\"/><circle class=\"sym\" cx=\"0\" cy=\"0\" r=\"3\"/><text class=\"lab rgt\" transform=\"translate(3 -7.0)\">4</text></g><path class=\"edge\" d=\"M 0 0 V -48.5217 H 42.1875\"/><circle class=\"sym\" cx=\"0\" cy=\"0\" r=\"3\"/><text class=\"lab lft\" transform=\"translate(-3 -7.0)\">7</text></g><circle class=\"sym\" cx=\"0\" cy=\"0\" r=\"3\"/><text class=\"lab\" transform=\"translate(0 -11)\">9</text></g></g></g><g class=\"tree t2\" transform=\"translate(400 0)\"><g class=\"plotbox\"><g class=\"c2 node n8 p0 root\" transform=\"translate(109.062 46.8017)\"><g class=\"a8 i1 leaf node n2 p0 sample\" transform=\"translate(42.1875 74.5983)\"><path class=\"edge\" d=\"M 0 0 V -74.5983 H -42.1875\"/><rect class=\"sym\" height=\"6\" width=\"6\" x=\"-3\" y=\"-3\"/><text class=\"lab\" transform=\"translate(0 11)\">2</text></g><g class=\"a8 c2 node n7 p0\" transform=\"translate(-42.1875 28.5201)\"><g class=\"a7 i0 leaf node n0 p0 sample\" transform=\"translate(-28.125 46.0783)\"><path class=\"edge\" d=\"M 0 0 V -46.0783 H 28.125\"/><rect class=\"sym\" height=\"6\" width=\"6\" x=\"-3\" y=\"-3\"/><text class=\"lab\" transform=\"translate(0 11)\">0</text></g><g class=\"a7 c2 node n4 p0\" transform=\"translate(28.125 44.9535)\"><g class=\"a4 i0 leaf node n1 p0 sample\" transform=\"translate(-18.75 1.12479)\"><path class=\"edge\" d=\"M 0 0 V -1.12479 H 18.75\"/><rect class=\"sym\" height=\"6\" width=\"6\" x=\"-3\" y=\"-3\"/><text class=\"lab\" transform=\"translate(0 11)\">1</text></g><g class=\"a4 i1 leaf node n3 p0 sample\" transform=\"translate(18.75 1.12479)\"><path class=\"edge\" d=\"M 0 0 V -1.12479 H -18.75\"/><rect class=\"sym\" height=\"6\" width=\"6\" x=\"-3\" y=\"-3\"/><text class=\"lab\" transform=\"translate(0 11)\">3</text></g><path class=\"edge\" d=\"M 0 0 V -44.9535 H -28.125\"/><circle class=\"sym\" cx=\"0\" cy=\"0\" r=\"3\"/><text class=\"lab rgt\" transform=\"translate(3 -7.0)\">4</text></g><path class=\"edge\" d=\"M 0 0 V -28.5201 H 42.1875\"/><circle class=\"sym\" cx=\"0\" cy=\"0\" r=\"3\"/><text class=\"lab lft\" transform=\"translate(-3 -7.0)\">7</text></g><circle class=\"sym\" cx=\"0\" cy=\"0\" r=\"3\"/><text class=\"lab\" transform=\"translate(0 -11)\">8</text></g></g></g><g class=\"tree t3\" transform=\"translate(590 0)\"><g class=\"plotbox\"><g class=\"c2 node n8 p0 root\" transform=\"translate(95 46.8017)\"><g class=\"a8 c2 node n4 p0\" transform=\"translate(37.5 73.4735)\"><g class=\"a4 i0 leaf node n1 p0 sample\" transform=\"translate(-18.75 1.12479)\"><path class=\"edge\" d=\"M 0 0 V -1.12479 H 18.75\"/><rect class=\"sym\" height=\"6\" width=\"6\" x=\"-3\" y=\"-3\"/><text class=\"lab\" transform=\"translate(0 11)\">1</text></g><g class=\"a4 i1 leaf node n3 p0 sample\" transform=\"translate(18.75 1.12479)\"><path class=\"edge\" d=\"M 0 0 V -1.12479 H -18.75\"/><rect class=\"sym\" height=\"6\" width=\"6\" x=\"-3\" y=\"-3\"/><text class=\"lab\" transform=\"translate(0 11)\">3</text></g><path class=\"edge\" d=\"M 0 0 V -73.4735 H -37.5\"/><circle class=\"sym\" cx=\"0\" cy=\"0\" r=\"3\"/><text class=\"lab rgt\" transform=\"translate(3 -7.0)\">4</text></g><g class=\"a8 c2 node n6 p0\" transform=\"translate(-37.5 35.9638)\"><g class=\"a6 i0 leaf node n0 p0 sample\" transform=\"translate(-18.75 38.6345)\"><path class=\"edge\" d=\"M 0 0 V -38.6345 H 18.75\"/><rect class=\"sym\" height=\"6\" width=\"6\" x=\"-3\" y=\"-3\"/><text class=\"lab\" transform=\"translate(0 11)\">0</text></g><g class=\"a6 i1 leaf node n2 p0 sample\" transform=\"translate(18.75 38.6345)\"><path class=\"edge\" d=\"M 0 0 V -38.6345 H -18.75\"/><rect class=\"sym\" height=\"6\" width=\"6\" x=\"-3\" y=\"-3\"/><text class=\"lab\" transform=\"translate(0 11)\">2</text></g><path class=\"edge\" d=\"M 0 0 V -35.9638 H 37.5\"/><circle class=\"sym\" cx=\"0\" cy=\"0\" r=\"3\"/><text class=\"lab lft\" transform=\"translate(-3 -7.0)\">6</text></g><circle class=\"sym\" cx=\"0\" cy=\"0\" r=\"3\"/><text class=\"lab\" transform=\"translate(0 -11)\">8</text></g></g></g></g></g></svg>"
      ],
      "text/plain": [
       "<IPython.core.display.SVG object>"
      ]
     },
     "execution_count": 9,
     "metadata": {},
     "output_type": "execute_result"
    }
   ],
   "source": [
    "ts = msprime.sim_ancestry(\n",
    "    samples=2, random_seed=28, sequence_length=100,\n",
    "    recombination_rate=0.01, discrete_genome=False)\n",
    "SVG(ts.draw_svg())"
   ]
  },
  {
   "cell_type": "markdown",
   "metadata": {},
   "source": [
    "(10.55am)\n",
    "\n",
    "*Exercise:* Our study organisms have a ploidy of 3 and a chromosome of length 100.\n",
    "Between the bases at positions 50 and 60, there is a recombination 'hotspot' with a higher recombination rate of 0.1.\n",
    "Modify the following code to simulate chromosomes for 2 such organisms."
   ]
  },
  {
   "cell_type": "code",
   "execution_count": 11,
   "metadata": {},
   "outputs": [
    {
     "data": {
      "image/svg+xml": [
       "<svg baseProfile=\"full\" height=\"200\" version=\"1.1\" width=\"1800\" xmlns=\"http://www.w3.org/2000/svg\" xmlns:ev=\"http://www.w3.org/2001/xml-events\" xmlns:xlink=\"http://www.w3.org/1999/xlink\"><defs><style type=\"text/css\"><![CDATA[.background path {fill: #808080; fill-opacity: 0}.background path:nth-child(odd) {fill-opacity: .1}.axes {font-size: 14px}.x-axis .tick .lab {font-weight: bold; dominant-baseline: hanging}.axes, .tree {font-size: 14px; text-anchor: middle}.axes line, .edge {stroke: black; fill: none}.y-axis .grid {stroke: #FAFAFA}.node > .sym {fill: black; stroke: none}.site > .sym {stroke: black}.mut text {fill: red; font-style: italic}.mut.extra text {fill: hotpink}.mut line {fill: none; stroke: none}.mut .sym {fill: none; stroke: red}.mut.extra .sym {stroke: hotpink}.node .mut .sym {stroke-width: 1.5px}.tree text, .tree-sequence text {dominant-baseline: central}.plotbox .lab.lft {text-anchor: end}.plotbox .lab.rgt {text-anchor: start}]]></style></defs><g class=\"tree-sequence\"><g class=\"background\"><path d=\"M20,0 l195.556,0 l0,138.2 l-1.95556,25 l0,5 l-193.6,0 l0,-5 l0,-25 l0,-138.2z\"/><path d=\"M215.556,0 l195.556,0 l0,138.2 l-91.9111,25 l0,5 l-105.6,0 l0,-5 l1.95556,-25 l0,-138.2z\"/><path d=\"M411.111,0 l195.556,0 l0,138.2 l-129.067,25 l0,5 l-158.4,0 l0,-5 l91.9111,-25 l0,-138.2z\"/><path d=\"M606.667,0 l195.556,0 l0,138.2 l-271.822,25 l0,5 l-52.8,0 l0,-5 l129.067,-25 l0,-138.2z\"/><path d=\"M802.222,0 l195.556,0 l0,138.2 l-396.978,25 l0,5 l-70.4,0 l0,-5 l271.822,-25 l0,-138.2z\"/><path d=\"M997.778,0 l195.556,0 l0,138.2 l-170.133,25 l0,5 l-422.4,0 l0,-5 l396.978,-25 l0,-138.2z\"/><path d=\"M1193.33,0 l195.556,0 l0,138.2 l-242.489,25 l0,5 l-123.2,0 l0,-5 l170.133,-25 l0,-138.2z\"/><path d=\"M1388.89,0 l195.556,0 l0,138.2 l-86.0444,25 l0,5 l-352,0 l0,-5 l242.489,-25 l0,-138.2z\"/><path d=\"M1584.44,0 l195.556,0 l0,138.2 l0,25 l0,5 l-281.6,0 l0,-5 l86.0444,-25 l0,-138.2z\"/></g><g class=\"axes\"><g class=\"x-axis\"><g transform=\"translate(900 200)\"><text class=\"lab\" text-anchor=\"middle\" transform=\"translate(0 -11)\">Genome position</text></g><line x1=\"20\" x2=\"1780\" y1=\"163.2\" y2=\"163.2\"/><g class=\"ticks\"><g class=\"tick\" transform=\"translate(20 163.2)\"><line x1=\"0\" x2=\"0\" y1=\"0\" y2=\"5\"/><g transform=\"translate(0 6)\"><text class=\"lab\">0</text></g></g><g class=\"tick\" transform=\"translate(213.6 163.2)\"><line x1=\"0\" x2=\"0\" y1=\"0\" y2=\"5\"/><g transform=\"translate(0 6)\"><text class=\"lab\">11</text></g></g><g class=\"tick\" transform=\"translate(319.2 163.2)\"><line x1=\"0\" x2=\"0\" y1=\"0\" y2=\"5\"/><g transform=\"translate(0 6)\"><text class=\"lab\">17</text></g></g><g class=\"tick\" transform=\"translate(477.6 163.2)\"><line x1=\"0\" x2=\"0\" y1=\"0\" y2=\"5\"/><g transform=\"translate(0 6)\"><text class=\"lab\">26</text></g></g><g class=\"tick\" transform=\"translate(530.4 163.2)\"><line x1=\"0\" x2=\"0\" y1=\"0\" y2=\"5\"/><g transform=\"translate(0 6)\"><text class=\"lab\">29</text></g></g><g class=\"tick\" transform=\"translate(600.8 163.2)\"><line x1=\"0\" x2=\"0\" y1=\"0\" y2=\"5\"/><g transform=\"translate(0 6)\"><text class=\"lab\">33</text></g></g><g class=\"tick\" transform=\"translate(1023.2 163.2)\"><line x1=\"0\" x2=\"0\" y1=\"0\" y2=\"5\"/><g transform=\"translate(0 6)\"><text class=\"lab\">57</text></g></g><g class=\"tick\" transform=\"translate(1146.4 163.2)\"><line x1=\"0\" x2=\"0\" y1=\"0\" y2=\"5\"/><g transform=\"translate(0 6)\"><text class=\"lab\">64</text></g></g><g class=\"tick\" transform=\"translate(1498.4 163.2)\"><line x1=\"0\" x2=\"0\" y1=\"0\" y2=\"5\"/><g transform=\"translate(0 6)\"><text class=\"lab\">84</text></g></g><g class=\"tick\" transform=\"translate(1780 163.2)\"><line x1=\"0\" x2=\"0\" y1=\"0\" y2=\"5\"/><g transform=\"translate(0 6)\"><text class=\"lab\">100</text></g></g></g></g></g><g class=\"plotbox trees\"><g class=\"tree t0\" transform=\"translate(20 0)\"><g class=\"plotbox\"><g class=\"c2 node n16 p0 root\" transform=\"translate(97.7778 27.9511)\"><g class=\"a16 c2 node n10 p0\" transform=\"translate(-32.4074 70.6203)\"><g class=\"a10 i1 leaf node n3 p0 sample\" transform=\"translate(19.4444 22.8286)\"><path class=\"edge\" d=\"M 0 0 V -22.8286 H -19.4444\"/><rect class=\"sym\" height=\"6\" width=\"6\" x=\"-3\" y=\"-3\"/><text class=\"lab\" transform=\"translate(0 11)\">3</text></g><g class=\"a10 c2 node n7 p0\" transform=\"translate(-19.4444 14.0934)\"><g class=\"a7 i0 leaf node n0 p0 sample\" transform=\"translate(-12.963 8.73518)\"><path class=\"edge\" d=\"M 0 0 V -8.73518 H 12.963\"/><rect class=\"sym\" height=\"6\" width=\"6\" x=\"-3\" y=\"-3\"/><text class=\"lab\" transform=\"translate(0 11)\">0</text></g><g class=\"a7 i2 leaf node n5 p0 sample\" transform=\"translate(12.963 8.73518)\"><path class=\"edge\" d=\"M 0 0 V -8.73518 H -12.963\"/><rect class=\"sym\" height=\"6\" width=\"6\" x=\"-3\" y=\"-3\"/><text class=\"lab\" transform=\"translate(0 11)\">5</text></g><path class=\"edge\" d=\"M 0 0 V -14.0934 H 19.4444\"/><circle class=\"sym\" cx=\"0\" cy=\"0\" r=\"3\"/><text class=\"lab lft\" transform=\"translate(-3 -7.0)\">7</text></g><path class=\"edge\" d=\"M 0 0 V -70.6203 H 32.4074\"/><circle class=\"sym\" cx=\"0\" cy=\"0\" r=\"3\"/><text class=\"lab lft\" transform=\"translate(-3 -7.0)\">10</text></g><g class=\"a16 c2 node n14 p0\" transform=\"translate(32.4074 16.3959)\"><g class=\"a14 i0 leaf node n1 p0 sample\" transform=\"translate(-19.4444 77.053)\"><path class=\"edge\" d=\"M 0 0 V -77.053 H 19.4444\"/><rect class=\"sym\" height=\"6\" width=\"6\" x=\"-3\" y=\"-3\"/><text class=\"lab\" transform=\"translate(0 11)\">1</text></g><g class=\"a14 c2 node n6 p0\" transform=\"translate(19.4444 76.3019)\"><g class=\"a6 i1 leaf node n2 p0 sample\" transform=\"translate(-12.963 0.751099)\"><path class=\"edge\" d=\"M 0 0 V -0.751099 H 12.963\"/><rect class=\"sym\" height=\"6\" width=\"6\" x=\"-3\" y=\"-3\"/><text class=\"lab\" transform=\"translate(0 11)\">2</text></g><g class=\"a6 i2 leaf node n4 p0 sample\" transform=\"translate(12.963 0.751099)\"><path class=\"edge\" d=\"M 0 0 V -0.751099 H -12.963\"/><rect class=\"sym\" height=\"6\" width=\"6\" x=\"-3\" y=\"-3\"/><text class=\"lab\" transform=\"translate(0 11)\">4</text></g><path class=\"edge\" d=\"M 0 0 V -76.3019 H -19.4444\"/><circle class=\"sym\" cx=\"0\" cy=\"0\" r=\"3\"/><text class=\"lab rgt\" transform=\"translate(3 -7.0)\">6</text></g><path class=\"edge\" d=\"M 0 0 V -16.3959 H -32.4074\"/><circle class=\"sym\" cx=\"0\" cy=\"0\" r=\"3\"/><text class=\"lab rgt\" transform=\"translate(3 -7.0)\">14</text></g><circle class=\"sym\" cx=\"0\" cy=\"0\" r=\"3\"/><text class=\"lab\" transform=\"translate(0 -11)\">16</text></g></g></g><g class=\"tree t1\" transform=\"translate(215.556 0)\"><g class=\"plotbox\"><g class=\"c2 node n16 p0 root\" transform=\"translate(128.565 27.9511)\"><g class=\"a16 c2 node n14 p0\" transform=\"translate(-34.0278 16.3959)\"><g class=\"a14 c2 node n6 p0\" transform=\"translate(29.1667 76.3019)\"><g class=\"a6 i1 leaf node n2 p0 sample\" transform=\"translate(-12.963 0.751099)\"><path class=\"edge\" d=\"M 0 0 V -0.751099 H 12.963\"/><rect class=\"sym\" height=\"6\" width=\"6\" x=\"-3\" y=\"-3\"/><text class=\"lab\" transform=\"translate(0 11)\">2</text></g><g class=\"a6 i2 leaf node n4 p0 sample\" transform=\"translate(12.963 0.751099)\"><path class=\"edge\" d=\"M 0 0 V -0.751099 H -12.963\"/><rect class=\"sym\" height=\"6\" width=\"6\" x=\"-3\" y=\"-3\"/><text class=\"lab\" transform=\"translate(0 11)\">4</text></g><path class=\"edge\" d=\"M 0 0 V -76.3019 H -29.1667\"/><circle class=\"sym\" cx=\"0\" cy=\"0\" r=\"3\"/><text class=\"lab rgt\" transform=\"translate(3 -7.0)\">6</text></g><g class=\"a14 c2 node n11 p0\" transform=\"translate(-29.1667 43.7712)\"><g class=\"a11 i0 leaf node n1 p0 sample\" transform=\"translate(19.4444 33.2818)\"><path class=\"edge\" d=\"M 0 0 V -33.2818 H -19.4444\"/><rect class=\"sym\" height=\"6\" width=\"6\" x=\"-3\" y=\"-3\"/><text class=\"lab\" transform=\"translate(0 11)\">1</text></g><g class=\"a11 c2 node n7 p0\" transform=\"translate(-19.4444 24.5466)\"><g class=\"a7 i0 leaf node n0 p0 sample\" transform=\"translate(-12.963 8.73518)\"><path class=\"edge\" d=\"M 0 0 V -8.73518 H 12.963\"/><rect class=\"sym\" height=\"6\" width=\"6\" x=\"-3\" y=\"-3\"/><text class=\"lab\" transform=\"translate(0 11)\">0</text></g><g class=\"a7 i2 leaf node n5 p0 sample\" transform=\"translate(12.963 8.73518)\"><path class=\"edge\" d=\"M 0 0 V -8.73518 H -12.963\"/><rect class=\"sym\" height=\"6\" width=\"6\" x=\"-3\" y=\"-3\"/><text class=\"lab\" transform=\"translate(0 11)\">5</text></g><path class=\"edge\" d=\"M 0 0 V -24.5466 H 19.4444\"/><circle class=\"sym\" cx=\"0\" cy=\"0\" r=\"3\"/><text class=\"lab lft\" transform=\"translate(-3 -7.0)\">7</text></g><path class=\"edge\" d=\"M 0 0 V -43.7712 H 29.1667\"/><circle class=\"sym\" cx=\"0\" cy=\"0\" r=\"3\"/><text class=\"lab lft\" transform=\"translate(-3 -7.0)\">11</text></g><path class=\"edge\" d=\"M 0 0 V -16.3959 H 34.0278\"/><circle class=\"sym\" cx=\"0\" cy=\"0\" r=\"3\"/><text class=\"lab lft\" transform=\"translate(-3 -7.0)\">14</text></g><g class=\"a16 i1 leaf node n3 p0 sample\" transform=\"translate(34.0278 93.4489)\"><path class=\"edge\" d=\"M 0 0 V -93.4489 H -34.0278\"/><rect class=\"sym\" height=\"6\" width=\"6\" x=\"-3\" y=\"-3\"/><text class=\"lab\" transform=\"translate(0 11)\">3</text></g><circle class=\"sym\" cx=\"0\" cy=\"0\" r=\"3\"/><text class=\"lab\" transform=\"translate(0 -11)\">16</text></g></g></g><g class=\"tree t2\" transform=\"translate(411.111 0)\"><g class=\"plotbox\"><g class=\"c2 node n16 p0 root\" transform=\"translate(104.259 27.9511)\"><g class=\"a16 c2 node n11 p0\" transform=\"translate(-38.8889 60.1671)\"><g class=\"a11 i0 leaf node n1 p0 sample\" transform=\"translate(19.4444 33.2818)\"><path class=\"edge\" d=\"M 0 0 V -33.2818 H -19.4444\"/><rect class=\"sym\" height=\"6\" width=\"6\" x=\"-3\" y=\"-3\"/><text class=\"lab\" transform=\"translate(0 11)\">1</text></g><g class=\"a11 c2 node n7 p0\" transform=\"translate(-19.4444 24.5466)\"><g class=\"a7 i0 leaf node n0 p0 sample\" transform=\"translate(-12.963 8.73518)\"><path class=\"edge\" d=\"M 0 0 V -8.73518 H 12.963\"/><rect class=\"sym\" height=\"6\" width=\"6\" x=\"-3\" y=\"-3\"/><text class=\"lab\" transform=\"translate(0 11)\">0</text></g><g class=\"a7 i2 leaf node n5 p0 sample\" transform=\"translate(12.963 8.73518)\"><path class=\"edge\" d=\"M 0 0 V -8.73518 H -12.963\"/><rect class=\"sym\" height=\"6\" width=\"6\" x=\"-3\" y=\"-3\"/><text class=\"lab\" transform=\"translate(0 11)\">5</text></g><path class=\"edge\" d=\"M 0 0 V -24.5466 H 19.4444\"/><circle class=\"sym\" cx=\"0\" cy=\"0\" r=\"3\"/><text class=\"lab lft\" transform=\"translate(-3 -7.0)\">7</text></g><path class=\"edge\" d=\"M 0 0 V -60.1671 H 38.8889\"/><circle class=\"sym\" cx=\"0\" cy=\"0\" r=\"3\"/><text class=\"lab lft\" transform=\"translate(-3 -7.0)\">11</text></g><g class=\"a16 c2 node n15 p0\" transform=\"translate(38.8889 5.7174)\"><g class=\"a15 i1 leaf node n3 p0 sample\" transform=\"translate(19.4444 87.7315)\"><path class=\"edge\" d=\"M 0 0 V -87.7315 H -19.4444\"/><rect class=\"sym\" height=\"6\" width=\"6\" x=\"-3\" y=\"-3\"/><text class=\"lab\" transform=\"translate(0 11)\">3</text></g><g class=\"a15 c2 node n6 p0\" transform=\"translate(-19.4444 86.9804)\"><g class=\"a6 i1 leaf node n2 p0 sample\" transform=\"translate(-12.963 0.751099)\"><path class=\"edge\" d=\"M 0 0 V -0.751099 H 12.963\"/><rect class=\"sym\" height=\"6\" width=\"6\" x=\"-3\" y=\"-3\"/><text class=\"lab\" transform=\"translate(0 11)\">2</text></g><g class=\"a6 i2 leaf node n4 p0 sample\" transform=\"translate(12.963 0.751099)\"><path class=\"edge\" d=\"M 0 0 V -0.751099 H -12.963\"/><rect class=\"sym\" height=\"6\" width=\"6\" x=\"-3\" y=\"-3\"/><text class=\"lab\" transform=\"translate(0 11)\">4</text></g><path class=\"edge\" d=\"M 0 0 V -86.9804 H 19.4444\"/><circle class=\"sym\" cx=\"0\" cy=\"0\" r=\"3\"/><text class=\"lab lft\" transform=\"translate(-3 -7.0)\">6</text></g><path class=\"edge\" d=\"M 0 0 V -5.7174 H -38.8889\"/><circle class=\"sym\" cx=\"0\" cy=\"0\" r=\"3\"/><text class=\"lab rgt\" transform=\"translate(3 -7.0)\">15</text></g><circle class=\"sym\" cx=\"0\" cy=\"0\" r=\"3\"/><text class=\"lab\" transform=\"translate(0 -11)\">16</text></g></g></g><g class=\"tree t3\" transform=\"translate(606.667 0)\"><g class=\"plotbox\"><g class=\"c2 node n17 p0 root\" transform=\"translate(104.259 26.8)\"><g class=\"a17 c2 node n11 p0\" transform=\"translate(-38.8889 61.3182)\"><g class=\"a11 i0 leaf node n1 p0 sample\" transform=\"translate(19.4444 33.2818)\"><path class=\"edge\" d=\"M 0 0 V -33.2818 H -19.4444\"/><rect class=\"sym\" height=\"6\" width=\"6\" x=\"-3\" y=\"-3\"/><text class=\"lab\" transform=\"translate(0 11)\">1</text></g><g class=\"a11 c2 node n7 p0\" transform=\"translate(-19.4444 24.5466)\"><g class=\"a7 i0 leaf node n0 p0 sample\" transform=\"translate(-12.963 8.73518)\"><path class=\"edge\" d=\"M 0 0 V -8.73518 H 12.963\"/><rect class=\"sym\" height=\"6\" width=\"6\" x=\"-3\" y=\"-3\"/><text class=\"lab\" transform=\"translate(0 11)\">0</text></g><g class=\"a7 i2 leaf node n5 p0 sample\" transform=\"translate(12.963 8.73518)\"><path class=\"edge\" d=\"M 0 0 V -8.73518 H -12.963\"/><rect class=\"sym\" height=\"6\" width=\"6\" x=\"-3\" y=\"-3\"/><text class=\"lab\" transform=\"translate(0 11)\">5</text></g><path class=\"edge\" d=\"M 0 0 V -24.5466 H 19.4444\"/><circle class=\"sym\" cx=\"0\" cy=\"0\" r=\"3\"/><text class=\"lab lft\" transform=\"translate(-3 -7.0)\">7</text></g><path class=\"edge\" d=\"M 0 0 V -61.3182 H 38.8889\"/><circle class=\"sym\" cx=\"0\" cy=\"0\" r=\"3\"/><text class=\"lab lft\" transform=\"translate(-3 -7.0)\">11</text></g><g class=\"a17 c2 node n15 p0\" transform=\"translate(38.8889 6.8685)\"><g class=\"a15 i1 leaf node n3 p0 sample\" transform=\"translate(19.4444 87.7315)\"><path class=\"edge\" d=\"M 0 0 V -87.7315 H -19.4444\"/><rect class=\"sym\" height=\"6\" width=\"6\" x=\"-3\" y=\"-3\"/><text class=\"lab\" transform=\"translate(0 11)\">3</text></g><g class=\"a15 c2 node n6 p0\" transform=\"translate(-19.4444 86.9804)\"><g class=\"a6 i1 leaf node n2 p0 sample\" transform=\"translate(-12.963 0.751099)\"><path class=\"edge\" d=\"M 0 0 V -0.751099 H 12.963\"/><rect class=\"sym\" height=\"6\" width=\"6\" x=\"-3\" y=\"-3\"/><text class=\"lab\" transform=\"translate(0 11)\">2</text></g><g class=\"a6 i2 leaf node n4 p0 sample\" transform=\"translate(12.963 0.751099)\"><path class=\"edge\" d=\"M 0 0 V -0.751099 H -12.963\"/><rect class=\"sym\" height=\"6\" width=\"6\" x=\"-3\" y=\"-3\"/><text class=\"lab\" transform=\"translate(0 11)\">4</text></g><path class=\"edge\" d=\"M 0 0 V -86.9804 H 19.4444\"/><circle class=\"sym\" cx=\"0\" cy=\"0\" r=\"3\"/><text class=\"lab lft\" transform=\"translate(-3 -7.0)\">6</text></g><path class=\"edge\" d=\"M 0 0 V -6.8685 H -38.8889\"/><circle class=\"sym\" cx=\"0\" cy=\"0\" r=\"3\"/><text class=\"lab rgt\" transform=\"translate(3 -7.0)\">15</text></g><circle class=\"sym\" cx=\"0\" cy=\"0\" r=\"3\"/><text class=\"lab\" transform=\"translate(0 -11)\">17</text></g></g></g><g class=\"tree t4\" transform=\"translate(802.222 0)\"><g class=\"plotbox\"><g class=\"c2 node n17 p0 root\" transform=\"translate(89.6759 26.8)\"><g class=\"a17 c2 node n15 p0\" transform=\"translate(43.75 6.8685)\"><g class=\"a15 i1 leaf node n3 p0 sample\" transform=\"translate(29.1667 87.7315)\"><path class=\"edge\" d=\"M 0 0 V -87.7315 H -29.1667\"/><rect class=\"sym\" height=\"6\" width=\"6\" x=\"-3\" y=\"-3\"/><text class=\"lab\" transform=\"translate(0 11)\">3</text></g><g class=\"a15 c2 node n12 p0\" transform=\"translate(-29.1667 54.1224)\"><g class=\"a12 i0 leaf node n1 p0 sample\" transform=\"translate(-19.4444 33.6091)\"><path class=\"edge\" d=\"M 0 0 V -33.6091 H 19.4444\"/><rect class=\"sym\" height=\"6\" width=\"6\" x=\"-3\" y=\"-3\"/><text class=\"lab\" transform=\"translate(0 11)\">1</text></g><g class=\"a12 c2 node n6 p0\" transform=\"translate(19.4444 32.858)\"><g class=\"a6 i1 leaf node n2 p0 sample\" transform=\"translate(-12.963 0.751099)\"><path class=\"edge\" d=\"M 0 0 V -0.751099 H 12.963\"/><rect class=\"sym\" height=\"6\" width=\"6\" x=\"-3\" y=\"-3\"/><text class=\"lab\" transform=\"translate(0 11)\">2</text></g><g class=\"a6 i2 leaf node n4 p0 sample\" transform=\"translate(12.963 0.751099)\"><path class=\"edge\" d=\"M 0 0 V -0.751099 H -12.963\"/><rect class=\"sym\" height=\"6\" width=\"6\" x=\"-3\" y=\"-3\"/><text class=\"lab\" transform=\"translate(0 11)\">4</text></g><path class=\"edge\" d=\"M 0 0 V -32.858 H -19.4444\"/><circle class=\"sym\" cx=\"0\" cy=\"0\" r=\"3\"/><text class=\"lab rgt\" transform=\"translate(3 -7.0)\">6</text></g><path class=\"edge\" d=\"M 0 0 V -54.1224 H 29.1667\"/><circle class=\"sym\" cx=\"0\" cy=\"0\" r=\"3\"/><text class=\"lab lft\" transform=\"translate(-3 -7.0)\">12</text></g><path class=\"edge\" d=\"M 0 0 V -6.8685 H -43.75\"/><circle class=\"sym\" cx=\"0\" cy=\"0\" r=\"3\"/><text class=\"lab rgt\" transform=\"translate(3 -7.0)\">15</text></g><g class=\"a17 c2 node n7 p0\" transform=\"translate(-43.75 85.8648)\"><g class=\"a7 i0 leaf node n0 p0 sample\" transform=\"translate(-12.963 8.73518)\"><path class=\"edge\" d=\"M 0 0 V -8.73518 H 12.963\"/><rect class=\"sym\" height=\"6\" width=\"6\" x=\"-3\" y=\"-3\"/><text class=\"lab\" transform=\"translate(0 11)\">0</text></g><g class=\"a7 i2 leaf node n5 p0 sample\" transform=\"translate(12.963 8.73518)\"><path class=\"edge\" d=\"M 0 0 V -8.73518 H -12.963\"/><rect class=\"sym\" height=\"6\" width=\"6\" x=\"-3\" y=\"-3\"/><text class=\"lab\" transform=\"translate(0 11)\">5</text></g><path class=\"edge\" d=\"M 0 0 V -85.8648 H 43.75\"/><circle class=\"sym\" cx=\"0\" cy=\"0\" r=\"3\"/><text class=\"lab lft\" transform=\"translate(-3 -7.0)\">7</text></g><circle class=\"sym\" cx=\"0\" cy=\"0\" r=\"3\"/><text class=\"lab\" transform=\"translate(0 -11)\">17</text></g></g></g><g class=\"tree t5\" transform=\"translate(997.778 0)\"><g class=\"plotbox\"><g class=\"c2 node n16 p0 root\" transform=\"translate(89.6759 27.9511)\"><g class=\"a16 c2 node n7 p0\" transform=\"translate(-43.75 84.7137)\"><g class=\"a7 i0 leaf node n0 p0 sample\" transform=\"translate(-12.963 8.73518)\"><path class=\"edge\" d=\"M 0 0 V -8.73518 H 12.963\"/><rect class=\"sym\" height=\"6\" width=\"6\" x=\"-3\" y=\"-3\"/><text class=\"lab\" transform=\"translate(0 11)\">0</text></g><g class=\"a7 i2 leaf node n5 p0 sample\" transform=\"translate(12.963 8.73518)\"><path class=\"edge\" d=\"M 0 0 V -8.73518 H -12.963\"/><rect class=\"sym\" height=\"6\" width=\"6\" x=\"-3\" y=\"-3\"/><text class=\"lab\" transform=\"translate(0 11)\">5</text></g><path class=\"edge\" d=\"M 0 0 V -84.7137 H 43.75\"/><circle class=\"sym\" cx=\"0\" cy=\"0\" r=\"3\"/><text class=\"lab lft\" transform=\"translate(-3 -7.0)\">7</text></g><g class=\"a16 c2 node n15 p0\" transform=\"translate(43.75 5.7174)\"><g class=\"a15 i1 leaf node n3 p0 sample\" transform=\"translate(29.1667 87.7315)\"><path class=\"edge\" d=\"M 0 0 V -87.7315 H -29.1667\"/><rect class=\"sym\" height=\"6\" width=\"6\" x=\"-3\" y=\"-3\"/><text class=\"lab\" transform=\"translate(0 11)\">3</text></g><g class=\"a15 c2 node n12 p0\" transform=\"translate(-29.1667 54.1224)\"><g class=\"a12 i0 leaf node n1 p0 sample\" transform=\"translate(-19.4444 33.6091)\"><path class=\"edge\" d=\"M 0 0 V -33.6091 H 19.4444\"/><rect class=\"sym\" height=\"6\" width=\"6\" x=\"-3\" y=\"-3\"/><text class=\"lab\" transform=\"translate(0 11)\">1</text></g><g class=\"a12 c2 node n6 p0\" transform=\"translate(19.4444 32.858)\"><g class=\"a6 i1 leaf node n2 p0 sample\" transform=\"translate(-12.963 0.751099)\"><path class=\"edge\" d=\"M 0 0 V -0.751099 H 12.963\"/><rect class=\"sym\" height=\"6\" width=\"6\" x=\"-3\" y=\"-3\"/><text class=\"lab\" transform=\"translate(0 11)\">2</text></g><g class=\"a6 i2 leaf node n4 p0 sample\" transform=\"translate(12.963 0.751099)\"><path class=\"edge\" d=\"M 0 0 V -0.751099 H -12.963\"/><rect class=\"sym\" height=\"6\" width=\"6\" x=\"-3\" y=\"-3\"/><text class=\"lab\" transform=\"translate(0 11)\">4</text></g><path class=\"edge\" d=\"M 0 0 V -32.858 H -19.4444\"/><circle class=\"sym\" cx=\"0\" cy=\"0\" r=\"3\"/><text class=\"lab rgt\" transform=\"translate(3 -7.0)\">6</text></g><path class=\"edge\" d=\"M 0 0 V -54.1224 H 29.1667\"/><circle class=\"sym\" cx=\"0\" cy=\"0\" r=\"3\"/><text class=\"lab lft\" transform=\"translate(-3 -7.0)\">12</text></g><path class=\"edge\" d=\"M 0 0 V -5.7174 H -43.75\"/><circle class=\"sym\" cx=\"0\" cy=\"0\" r=\"3\"/><text class=\"lab rgt\" transform=\"translate(3 -7.0)\">15</text></g><circle class=\"sym\" cx=\"0\" cy=\"0\" r=\"3\"/><text class=\"lab\" transform=\"translate(0 -11)\">16</text></g></g></g><g class=\"tree t6\" transform=\"translate(1193.33 0)\"><g class=\"plotbox\"><g class=\"c2 node n16 p0 root\" transform=\"translate(128.565 27.9511)\"><g class=\"a16 i1 leaf node n3 p0 sample\" transform=\"translate(34.0278 93.4489)\"><path class=\"edge\" d=\"M 0 0 V -93.4489 H -34.0278\"/><rect class=\"sym\" height=\"6\" width=\"6\" x=\"-3\" y=\"-3\"/><text class=\"lab\" transform=\"translate(0 11)\">3</text></g><g class=\"a16 c2 node n12 p0\" transform=\"translate(-34.0278 59.8398)\"><g class=\"a12 c2 node n6 p0\" transform=\"translate(29.1667 32.858)\"><g class=\"a6 i1 leaf node n2 p0 sample\" transform=\"translate(-12.963 0.751099)\"><path class=\"edge\" d=\"M 0 0 V -0.751099 H 12.963\"/><rect class=\"sym\" height=\"6\" width=\"6\" x=\"-3\" y=\"-3\"/><text class=\"lab\" transform=\"translate(0 11)\">2</text></g><g class=\"a6 i2 leaf node n4 p0 sample\" transform=\"translate(12.963 0.751099)\"><path class=\"edge\" d=\"M 0 0 V -0.751099 H -12.963\"/><rect class=\"sym\" height=\"6\" width=\"6\" x=\"-3\" y=\"-3\"/><text class=\"lab\" transform=\"translate(0 11)\">4</text></g><path class=\"edge\" d=\"M 0 0 V -32.858 H -29.1667\"/><circle class=\"sym\" cx=\"0\" cy=\"0\" r=\"3\"/><text class=\"lab rgt\" transform=\"translate(3 -7.0)\">6</text></g><g class=\"a12 c2 node n8 p0\" transform=\"translate(-29.1667 20.617)\"><g class=\"a8 i0 leaf node n1 p0 sample\" transform=\"translate(19.4444 12.9921)\"><path class=\"edge\" d=\"M 0 0 V -12.9921 H -19.4444\"/><rect class=\"sym\" height=\"6\" width=\"6\" x=\"-3\" y=\"-3\"/><text class=\"lab\" transform=\"translate(0 11)\">1</text></g><g class=\"a8 c2 node n7 p0\" transform=\"translate(-19.4444 4.2569)\"><g class=\"a7 i0 leaf node n0 p0 sample\" transform=\"translate(-12.963 8.73518)\"><path class=\"edge\" d=\"M 0 0 V -8.73518 H 12.963\"/><rect class=\"sym\" height=\"6\" width=\"6\" x=\"-3\" y=\"-3\"/><text class=\"lab\" transform=\"translate(0 11)\">0</text></g><g class=\"a7 i2 leaf node n5 p0 sample\" transform=\"translate(12.963 8.73518)\"><path class=\"edge\" d=\"M 0 0 V -8.73518 H -12.963\"/><rect class=\"sym\" height=\"6\" width=\"6\" x=\"-3\" y=\"-3\"/><text class=\"lab\" transform=\"translate(0 11)\">5</text></g><path class=\"edge\" d=\"M 0 0 V -4.2569 H 19.4444\"/><circle class=\"sym\" cx=\"0\" cy=\"0\" r=\"3\"/><text class=\"lab lft\" transform=\"translate(-3 -7.0)\">7</text></g><path class=\"edge\" d=\"M 0 0 V -20.617 H 29.1667\"/><circle class=\"sym\" cx=\"0\" cy=\"0\" r=\"3\"/><text class=\"lab lft\" transform=\"translate(-3 -7.0)\">8</text></g><path class=\"edge\" d=\"M 0 0 V -59.8398 H 34.0278\"/><circle class=\"sym\" cx=\"0\" cy=\"0\" r=\"3\"/><text class=\"lab lft\" transform=\"translate(-3 -7.0)\">12</text></g><circle class=\"sym\" cx=\"0\" cy=\"0\" r=\"3\"/><text class=\"lab\" transform=\"translate(0 -11)\">16</text></g></g></g><g class=\"tree t7\" transform=\"translate(1388.89 0)\"><g class=\"plotbox\"><g class=\"c2 node n16 p0 root\" transform=\"translate(128.565 27.9511)\"><g class=\"a16 i1 leaf node n3 p0 sample\" transform=\"translate(34.0278 93.4489)\"><path class=\"edge\" d=\"M 0 0 V -93.4489 H -34.0278\"/><rect class=\"sym\" height=\"6\" width=\"6\" x=\"-3\" y=\"-3\"/><text class=\"lab\" transform=\"translate(0 11)\">3</text></g><g class=\"a16 c2 node n12 p0\" transform=\"translate(-34.0278 59.8398)\"><g class=\"a12 c2 node n6 p0\" transform=\"translate(29.1667 32.858)\"><g class=\"a6 i1 leaf node n2 p0 sample\" transform=\"translate(-12.963 0.751099)\"><path class=\"edge\" d=\"M 0 0 V -0.751099 H 12.963\"/><rect class=\"sym\" height=\"6\" width=\"6\" x=\"-3\" y=\"-3\"/><text class=\"lab\" transform=\"translate(0 11)\">2</text></g><g class=\"a6 i2 leaf node n4 p0 sample\" transform=\"translate(12.963 0.751099)\"><path class=\"edge\" d=\"M 0 0 V -0.751099 H -12.963\"/><rect class=\"sym\" height=\"6\" width=\"6\" x=\"-3\" y=\"-3\"/><text class=\"lab\" transform=\"translate(0 11)\">4</text></g><path class=\"edge\" d=\"M 0 0 V -32.858 H -29.1667\"/><circle class=\"sym\" cx=\"0\" cy=\"0\" r=\"3\"/><text class=\"lab rgt\" transform=\"translate(3 -7.0)\">6</text></g><g class=\"a12 c2 node n9 p0\" transform=\"translate(-29.1667 13.0888)\"><g class=\"a9 i0 leaf node n1 p0 sample\" transform=\"translate(19.4444 20.5203)\"><path class=\"edge\" d=\"M 0 0 V -20.5203 H -19.4444\"/><rect class=\"sym\" height=\"6\" width=\"6\" x=\"-3\" y=\"-3\"/><text class=\"lab\" transform=\"translate(0 11)\">1</text></g><g class=\"a9 c2 node n7 p0\" transform=\"translate(-19.4444 11.7851)\"><g class=\"a7 i0 leaf node n0 p0 sample\" transform=\"translate(-12.963 8.73518)\"><path class=\"edge\" d=\"M 0 0 V -8.73518 H 12.963\"/><rect class=\"sym\" height=\"6\" width=\"6\" x=\"-3\" y=\"-3\"/><text class=\"lab\" transform=\"translate(0 11)\">0</text></g><g class=\"a7 i2 leaf node n5 p0 sample\" transform=\"translate(12.963 8.73518)\"><path class=\"edge\" d=\"M 0 0 V -8.73518 H -12.963\"/><rect class=\"sym\" height=\"6\" width=\"6\" x=\"-3\" y=\"-3\"/><text class=\"lab\" transform=\"translate(0 11)\">5</text></g><path class=\"edge\" d=\"M 0 0 V -11.7851 H 19.4444\"/><circle class=\"sym\" cx=\"0\" cy=\"0\" r=\"3\"/><text class=\"lab lft\" transform=\"translate(-3 -7.0)\">7</text></g><path class=\"edge\" d=\"M 0 0 V -13.0888 H 29.1667\"/><circle class=\"sym\" cx=\"0\" cy=\"0\" r=\"3\"/><text class=\"lab lft\" transform=\"translate(-3 -7.0)\">9</text></g><path class=\"edge\" d=\"M 0 0 V -59.8398 H 34.0278\"/><circle class=\"sym\" cx=\"0\" cy=\"0\" r=\"3\"/><text class=\"lab lft\" transform=\"translate(-3 -7.0)\">12</text></g><circle class=\"sym\" cx=\"0\" cy=\"0\" r=\"3\"/><text class=\"lab\" transform=\"translate(0 -11)\">16</text></g></g></g><g class=\"tree t8\" transform=\"translate(1584.44 0)\"><g class=\"plotbox\"><g class=\"c2 node n13 p0 root\" transform=\"translate(128.565 75.0283)\"><g class=\"a13 i1 leaf node n3 p0 sample\" transform=\"translate(34.0278 46.3717)\"><path class=\"edge\" d=\"M 0 0 V -46.3717 H -34.0278\"/><rect class=\"sym\" height=\"6\" width=\"6\" x=\"-3\" y=\"-3\"/><text class=\"lab\" transform=\"translate(0 11)\">3</text></g><g class=\"a13 c2 node n12 p0\" transform=\"translate(-34.0278 12.7626)\"><g class=\"a12 c2 node n6 p0\" transform=\"translate(29.1667 32.858)\"><g class=\"a6 i1 leaf node n2 p0 sample\" transform=\"translate(-12.963 0.751099)\"><path class=\"edge\" d=\"M 0 0 V -0.751099 H 12.963\"/><rect class=\"sym\" height=\"6\" width=\"6\" x=\"-3\" y=\"-3\"/><text class=\"lab\" transform=\"translate(0 11)\">2</text></g><g class=\"a6 i2 leaf node n4 p0 sample\" transform=\"translate(12.963 0.751099)\"><path class=\"edge\" d=\"M 0 0 V -0.751099 H -12.963\"/><rect class=\"sym\" height=\"6\" width=\"6\" x=\"-3\" y=\"-3\"/><text class=\"lab\" transform=\"translate(0 11)\">4</text></g><path class=\"edge\" d=\"M 0 0 V -32.858 H -29.1667\"/><circle class=\"sym\" cx=\"0\" cy=\"0\" r=\"3\"/><text class=\"lab rgt\" transform=\"translate(3 -7.0)\">6</text></g><g class=\"a12 c2 node n9 p0\" transform=\"translate(-29.1667 13.0888)\"><g class=\"a9 i0 leaf node n1 p0 sample\" transform=\"translate(19.4444 20.5203)\"><path class=\"edge\" d=\"M 0 0 V -20.5203 H -19.4444\"/><rect class=\"sym\" height=\"6\" width=\"6\" x=\"-3\" y=\"-3\"/><text class=\"lab\" transform=\"translate(0 11)\">1</text></g><g class=\"a9 c2 node n7 p0\" transform=\"translate(-19.4444 11.7851)\"><g class=\"a7 i0 leaf node n0 p0 sample\" transform=\"translate(-12.963 8.73518)\"><path class=\"edge\" d=\"M 0 0 V -8.73518 H 12.963\"/><rect class=\"sym\" height=\"6\" width=\"6\" x=\"-3\" y=\"-3\"/><text class=\"lab\" transform=\"translate(0 11)\">0</text></g><g class=\"a7 i2 leaf node n5 p0 sample\" transform=\"translate(12.963 8.73518)\"><path class=\"edge\" d=\"M 0 0 V -8.73518 H -12.963\"/><rect class=\"sym\" height=\"6\" width=\"6\" x=\"-3\" y=\"-3\"/><text class=\"lab\" transform=\"translate(0 11)\">5</text></g><path class=\"edge\" d=\"M 0 0 V -11.7851 H 19.4444\"/><circle class=\"sym\" cx=\"0\" cy=\"0\" r=\"3\"/><text class=\"lab lft\" transform=\"translate(-3 -7.0)\">7</text></g><path class=\"edge\" d=\"M 0 0 V -13.0888 H 29.1667\"/><circle class=\"sym\" cx=\"0\" cy=\"0\" r=\"3\"/><text class=\"lab lft\" transform=\"translate(-3 -7.0)\">9</text></g><path class=\"edge\" d=\"M 0 0 V -12.7626 H 34.0278\"/><circle class=\"sym\" cx=\"0\" cy=\"0\" r=\"3\"/><text class=\"lab lft\" transform=\"translate(-3 -7.0)\">12</text></g><circle class=\"sym\" cx=\"0\" cy=\"0\" r=\"3\"/><text class=\"lab\" transform=\"translate(0 -11)\">13</text></g></g></g></g></g></svg>"
      ],
      "text/plain": [
       "<IPython.core.display.SVG object>"
      ]
     },
     "execution_count": 11,
     "metadata": {},
     "output_type": "execute_result"
    }
   ],
   "source": [
    "rate_map = msprime.RateMap(position=[0, 100], rate=[0.01])\n",
    "ts = msprime.sim_ancestry(samples=3,\n",
    "                          recombination_rate=rate_map,\n",
    "                          random_seed=193)\n",
    "SVG(ts.draw_svg())"
   ]
  },
  {
   "cell_type": "markdown",
   "metadata": {},
   "source": [
    "## Demographic history\n",
    "\n",
    "(11am)"
   ]
  },
  {
   "cell_type": "markdown",
   "metadata": {},
   "source": [
    "So far, we have been simulating samples from a single population of a constant size, which isn’t particularly exciting! One of the strengths of msprime is that it can be used to specify quite complicated models of demography and population history with a simple Python API."
   ]
  },
  {
   "cell_type": "markdown",
   "metadata": {},
   "source": [
    "### Population size"
   ]
  },
  {
   "cell_type": "code",
   "execution_count": 14,
   "metadata": {},
   "outputs": [
    {
     "data": {
      "image/svg+xml": [
       "<svg baseProfile=\"full\" height=\"200\" version=\"1.1\" width=\"200\" xmlns=\"http://www.w3.org/2000/svg\" xmlns:ev=\"http://www.w3.org/2001/xml-events\" xmlns:xlink=\"http://www.w3.org/1999/xlink\"><defs><style type=\"text/css\"><![CDATA[.background path {fill: #808080; fill-opacity: 0}.background path:nth-child(odd) {fill-opacity: .1}.axes {font-size: 14px}.x-axis .tick .lab {font-weight: bold; dominant-baseline: hanging}.axes, .tree {font-size: 14px; text-anchor: middle}.axes line, .edge {stroke: black; fill: none}.y-axis .grid {stroke: #FAFAFA}.node > .sym {fill: black; stroke: none}.site > .sym {stroke: black}.mut text {fill: red; font-style: italic}.mut.extra text {fill: hotpink}.mut line {fill: none; stroke: none}.mut .sym {fill: none; stroke: red}.mut.extra .sym {stroke: hotpink}.node .mut .sym {stroke-width: 1.5px}.tree text, .tree-sequence text {dominant-baseline: central}.plotbox .lab.lft {text-anchor: end}.plotbox .lab.rgt {text-anchor: start}]]></style></defs><g class=\"tree-sequence\"><g class=\"background\"><path d=\"M20,0 l160,0 l0,138.2 l0,25 l0,5 l-160,0 l0,-5 l0,-25 l0,-138.2z\"/></g><g class=\"axes\"><g class=\"x-axis\"><g transform=\"translate(100 200)\"><text class=\"lab\" text-anchor=\"middle\" transform=\"translate(0 -11)\">Genome position</text></g><line x1=\"20\" x2=\"180\" y1=\"163.2\" y2=\"163.2\"/><g class=\"ticks\"><g class=\"tick\" transform=\"translate(20 163.2)\"><line x1=\"0\" x2=\"0\" y1=\"0\" y2=\"5\"/><g transform=\"translate(0 6)\"><text class=\"lab\">0</text></g></g><g class=\"tick\" transform=\"translate(180 163.2)\"><line x1=\"0\" x2=\"0\" y1=\"0\" y2=\"5\"/><g transform=\"translate(0 6)\"><text class=\"lab\">1</text></g></g></g></g></g><g class=\"plotbox trees\"><g class=\"tree t0\" transform=\"translate(20 0)\"><g class=\"plotbox\"><g class=\"c2 node n6 p0 root\" transform=\"translate(98.75 26.8)\"><g class=\"a6 i1 leaf node n2 p0 sample\" transform=\"translate(26.25 94.6)\"><path class=\"edge\" d=\"M 0 0 V -94.6 H -26.25\"/><rect class=\"sym\" height=\"6\" width=\"6\" x=\"-3\" y=\"-3\"/><text class=\"lab\" transform=\"translate(0 11)\">2</text></g><g class=\"a6 c2 node n5 p0\" transform=\"translate(-26.25 25.2505)\"><g class=\"a5 i1 leaf node n3 p0 sample\" transform=\"translate(22.5 69.3495)\"><path class=\"edge\" d=\"M 0 0 V -69.3495 H -22.5\"/><rect class=\"sym\" height=\"6\" width=\"6\" x=\"-3\" y=\"-3\"/><text class=\"lab\" transform=\"translate(0 11)\">3</text></g><g class=\"a5 c2 node n4 p0\" transform=\"translate(-22.5 63.0417)\"><g class=\"a4 i0 leaf node n0 p0 sample\" transform=\"translate(-15 6.3078)\"><path class=\"edge\" d=\"M 0 0 V -6.3078 H 15\"/><rect class=\"sym\" height=\"6\" width=\"6\" x=\"-3\" y=\"-3\"/><text class=\"lab\" transform=\"translate(0 11)\">0</text></g><g class=\"a4 i0 leaf node n1 p0 sample\" transform=\"translate(15 6.3078)\"><path class=\"edge\" d=\"M 0 0 V -6.3078 H -15\"/><rect class=\"sym\" height=\"6\" width=\"6\" x=\"-3\" y=\"-3\"/><text class=\"lab\" transform=\"translate(0 11)\">1</text></g><path class=\"edge\" d=\"M 0 0 V -63.0417 H 22.5\"/><circle class=\"sym\" cx=\"0\" cy=\"0\" r=\"3\"/><text class=\"lab lft\" transform=\"translate(-3 -7.0)\">4</text></g><path class=\"edge\" d=\"M 0 0 V -25.2505 H 26.25\"/><circle class=\"sym\" cx=\"0\" cy=\"0\" r=\"3\"/><text class=\"lab lft\" transform=\"translate(-3 -7.0)\">5</text></g><circle class=\"sym\" cx=\"0\" cy=\"0\" r=\"3\"/><text class=\"lab\" transform=\"translate(0 -11)\">6</text></g></g></g></g></g></svg>"
      ],
      "text/plain": [
       "<IPython.core.display.SVG object>"
      ]
     },
     "execution_count": 14,
     "metadata": {},
     "output_type": "execute_result"
    }
   ],
   "source": [
    "ts = msprime.sim_ancestry(samples=2, random_seed=1)\n",
    "SVG(ts.draw_svg())"
   ]
  },
  {
   "cell_type": "code",
   "execution_count": 15,
   "metadata": {},
   "outputs": [
    {
     "data": {
      "text/plain": [
       "7.552481102666407"
      ]
     },
     "execution_count": 15,
     "metadata": {},
     "output_type": "execute_result"
    }
   ],
   "source": [
    "ts.first().total_branch_length"
   ]
  },
  {
   "cell_type": "code",
   "execution_count": 18,
   "metadata": {},
   "outputs": [
    {
     "data": {
      "image/svg+xml": [
       "<svg baseProfile=\"full\" height=\"200\" version=\"1.1\" width=\"200\" xmlns=\"http://www.w3.org/2000/svg\" xmlns:ev=\"http://www.w3.org/2001/xml-events\" xmlns:xlink=\"http://www.w3.org/1999/xlink\"><defs><style type=\"text/css\"><![CDATA[.background path {fill: #808080; fill-opacity: 0}.background path:nth-child(odd) {fill-opacity: .1}.axes {font-size: 14px}.x-axis .tick .lab {font-weight: bold; dominant-baseline: hanging}.axes, .tree {font-size: 14px; text-anchor: middle}.axes line, .edge {stroke: black; fill: none}.y-axis .grid {stroke: #FAFAFA}.node > .sym {fill: black; stroke: none}.site > .sym {stroke: black}.mut text {fill: red; font-style: italic}.mut.extra text {fill: hotpink}.mut line {fill: none; stroke: none}.mut .sym {fill: none; stroke: red}.mut.extra .sym {stroke: hotpink}.node .mut .sym {stroke-width: 1.5px}.tree text, .tree-sequence text {dominant-baseline: central}.plotbox .lab.lft {text-anchor: end}.plotbox .lab.rgt {text-anchor: start}]]></style></defs><g class=\"tree-sequence\"><g class=\"background\"><path d=\"M20,0 l160,0 l0,138.2 l0,25 l0,5 l-160,0 l0,-5 l0,-25 l0,-138.2z\"/></g><g class=\"axes\"><g class=\"x-axis\"><g transform=\"translate(100 200)\"><text class=\"lab\" text-anchor=\"middle\" transform=\"translate(0 -11)\">Genome position</text></g><line x1=\"20\" x2=\"180\" y1=\"163.2\" y2=\"163.2\"/><g class=\"ticks\"><g class=\"tick\" transform=\"translate(20 163.2)\"><line x1=\"0\" x2=\"0\" y1=\"0\" y2=\"5\"/><g transform=\"translate(0 6)\"><text class=\"lab\">0</text></g></g><g class=\"tick\" transform=\"translate(180 163.2)\"><line x1=\"0\" x2=\"0\" y1=\"0\" y2=\"5\"/><g transform=\"translate(0 6)\"><text class=\"lab\">1</text></g></g></g></g></g><g class=\"plotbox trees\"><g class=\"tree t0\" transform=\"translate(20 0)\"><g class=\"plotbox\"><g class=\"c2 node n6 p0 root\" transform=\"translate(98.75 26.8)\"><g class=\"a6 i1 leaf node n2 p0 sample\" transform=\"translate(26.25 94.6)\"><path class=\"edge\" d=\"M 0 0 V -94.6 H -26.25\"/><rect class=\"sym\" height=\"6\" width=\"6\" x=\"-3\" y=\"-3\"/><text class=\"lab\" transform=\"translate(0 11)\">2</text></g><g class=\"a6 c2 node n5 p0\" transform=\"translate(-26.25 25.2505)\"><g class=\"a5 i1 leaf node n3 p0 sample\" transform=\"translate(22.5 69.3495)\"><path class=\"edge\" d=\"M 0 0 V -69.3495 H -22.5\"/><rect class=\"sym\" height=\"6\" width=\"6\" x=\"-3\" y=\"-3\"/><text class=\"lab\" transform=\"translate(0 11)\">3</text></g><g class=\"a5 c2 node n4 p0\" transform=\"translate(-22.5 63.0417)\"><g class=\"a4 i0 leaf node n0 p0 sample\" transform=\"translate(-15 6.3078)\"><path class=\"edge\" d=\"M 0 0 V -6.3078 H 15\"/><rect class=\"sym\" height=\"6\" width=\"6\" x=\"-3\" y=\"-3\"/><text class=\"lab\" transform=\"translate(0 11)\">0</text></g><g class=\"a4 i0 leaf node n1 p0 sample\" transform=\"translate(15 6.3078)\"><path class=\"edge\" d=\"M 0 0 V -6.3078 H -15\"/><rect class=\"sym\" height=\"6\" width=\"6\" x=\"-3\" y=\"-3\"/><text class=\"lab\" transform=\"translate(0 11)\">1</text></g><path class=\"edge\" d=\"M 0 0 V -63.0417 H 22.5\"/><circle class=\"sym\" cx=\"0\" cy=\"0\" r=\"3\"/><text class=\"lab lft\" transform=\"translate(-3 -7.0)\">4</text></g><path class=\"edge\" d=\"M 0 0 V -25.2505 H 26.25\"/><circle class=\"sym\" cx=\"0\" cy=\"0\" r=\"3\"/><text class=\"lab lft\" transform=\"translate(-3 -7.0)\">5</text></g><circle class=\"sym\" cx=\"0\" cy=\"0\" r=\"3\"/><text class=\"lab\" transform=\"translate(0 -11)\">6</text></g></g></g></g></g></svg>"
      ],
      "text/plain": [
       "<IPython.core.display.SVG object>"
      ]
     },
     "execution_count": 18,
     "metadata": {},
     "output_type": "execute_result"
    }
   ],
   "source": [
    "ts = msprime.sim_ancestry(\n",
    "    samples=2,\n",
    "    random_seed=1,\n",
    "    population_size=2)\n",
    "SVG(ts.draw_svg())"
   ]
  },
  {
   "cell_type": "code",
   "execution_count": 19,
   "metadata": {},
   "outputs": [
    {
     "data": {
      "text/plain": [
       "15.104962205332814"
      ]
     },
     "execution_count": 19,
     "metadata": {},
     "output_type": "execute_result"
    }
   ],
   "source": [
    "ts.first().total_branch_length"
   ]
  },
  {
   "cell_type": "markdown",
   "metadata": {},
   "source": [
    "### Population structure\n",
    "\n",
    "(11.05am)\n",
    "\n"
   ]
  },
  {
   "cell_type": "markdown",
   "metadata": {},
   "source": [
    "msprime supports simulation from multiple discrete populations, each of which is initialized in msprime.Demography via the msprime.Demography.add_population() method. For each population, you can specify a sample size, an effective population size at time = 0, an exponential growth rate and a name.\n",
    "\n",
    "Suppose we wanted to simulate three sequences each from two populations with a constant effective population size of 500."
   ]
  },
  {
   "cell_type": "code",
   "execution_count": null,
   "metadata": {},
   "outputs": [],
   "source": [
    "# DON'T UNCOMMENT AND RUN!\n",
    "#\n",
    "# ts = msprime.sim_ancestry(\n",
    "#   samples={\"A\" : 3, \"B\" : 3}, \n",
    "#   demography=dem,\n",
    "#   random_seed=12,\n",
    "#   sequence_length=1000, \n",
    "#   recombination_rate=1e-4\n",
    "#   )"
   ]
  },
  {
   "cell_type": "markdown",
   "metadata": {},
   "source": [
    "However, this simulation will run forever unless we also specify some migration between the groups! To understand why, recall that msprime is a backwards-time simulator. The simulation will run beginning from the present day working further back in time, simulating until all samples have coalesced to a single common ancestor at each genomic location. However, with no migration between our two populations, samples in one population will never coalesce with samples in another population. To fix this, let’s add some migration events to the specific demographic history."
   ]
  },
  {
   "cell_type": "markdown",
   "metadata": {},
   "source": [
    "With msprime, you can specify continual rates of migrations between populations, as well as admixture events, divergences and one-off mass migrations.\n"
   ]
  },
  {
   "cell_type": "markdown",
   "metadata": {},
   "source": [
    "**Migration rates** between the populations can be thought as the elements of an N by N numpy array, and are passed to our msprime.Demography object individually via the msprime.Demography.set_migration_rate() method. This allows us to specify the expected number of migrants moving from population dest to population source per generation, divided by the size of population source. When this rate is small (close to 0), it is approximately equal to the fraction of population source that consists of new migrants from population dest in each generation. And if both of your populations are exchanging migrants at the same rate, you can save yourself some typing by specifying them with a single msprime.Demography.set_symmetric_migration_rate() call.\n",
    "\n",
    "For instance, the following migration matrix specifies that in each generation, approximately 5% of population 0 consists of migrants from population 1, and approximately 2% of population 1 consists of migrants from population 0."
   ]
  },
  {
   "cell_type": "code",
   "execution_count": 9,
   "metadata": {},
   "outputs": [
    {
     "data": {
      "text/html": [
       "\n",
       "            <div>\n",
       "              <style>\n",
       "                .tskit-table thead tr th {text-align: left;padding: 0.5em 0.5em;}\n",
       "                .tskit-table tbody tr td {padding: 0.5em 0.5em;}\n",
       "                .tskit-table tbody tr td:first-of-type {text-align: left;}\n",
       "                .tskit-details-label {vertical-align: top; padding-right:5px;}\n",
       "                .tskit-table-set {display: inline-flex;flex-wrap: wrap;margin: -12px 0 0 -12px;width: calc(100% + 12px);}\n",
       "                .tskit-table-set-table {margin: 12px 0 0 12px;}\n",
       "                details {display: inline-block;}\n",
       "                summary {cursor: pointer; outline: 0; display: list-item;}\n",
       "              </style>\n",
       "              <div class=\"tskit-table-set\">\n",
       "                <div class=\"tskit-table-set-table\">\n",
       "                  <table class=\"tskit-table\">\n",
       "                    <thead>\n",
       "                      <tr>\n",
       "                        <th style=\"padding:0;line-height:21px;\">\n",
       "                          <img style=\"height: 32px;display: inline-block;padding: 3px 5px 3px 0;\" src=\"https://raw.githubusercontent.com/tskit-dev/administrative/main/tskit_logo.svg\"/>\n",
       "                          <a target=\"_blank\" href=\"https://tskit.dev/tskit/docs/latest/python-api.html#the-treesequence-class\"> Tree Sequence </a>\n",
       "                        </th>\n",
       "                      </tr>\n",
       "                    </thead>\n",
       "                    <tbody>\n",
       "                      <tr><td>Trees</td><td>1</td></tr>\n",
       "                      <tr><td>Sequence Length</td><td>1000.0</td></tr>\n",
       "                      <tr><td>Time Units</td><td>generations</td></tr>\n",
       "                      <tr><td>Sample Nodes</td><td>4</td></tr>\n",
       "                      <tr><td>Total Size</td><td>2.3 KiB</td></tr>\n",
       "                      <tr>\n",
       "                        <td>Metadata</td><td style=\"text-align: left;\">No Metadata</td></tr>\n",
       "                    </tbody>\n",
       "                  </table>\n",
       "                </div>\n",
       "                <div class=\"tskit-table-set-table\">\n",
       "                  <table class=\"tskit-table\">\n",
       "                    <thead>\n",
       "                      <tr>\n",
       "                        <th style=\"line-height:21px;\">Table</th>\n",
       "                        <th>Rows</th>\n",
       "                        <th>Size</th>\n",
       "                        <th>Has Metadata</th>\n",
       "                      </tr>\n",
       "                    </thead>\n",
       "                    <tbody>\n",
       "                    \n",
       "                  <tr>\n",
       "                    <td>Edges</td>\n",
       "                      <td>6</td>\n",
       "                      <td>200 Bytes</td>\n",
       "                      <td style=\"text-align: center;\">\n",
       "                        \n",
       "                      </td>\n",
       "                    </tr>\n",
       "                \n",
       "                  <tr>\n",
       "                    <td>Individuals</td>\n",
       "                      <td>2</td>\n",
       "                      <td>80 Bytes</td>\n",
       "                      <td style=\"text-align: center;\">\n",
       "                        \n",
       "                      </td>\n",
       "                    </tr>\n",
       "                \n",
       "                  <tr>\n",
       "                    <td>Migrations</td>\n",
       "                      <td>0</td>\n",
       "                      <td>8 Bytes</td>\n",
       "                      <td style=\"text-align: center;\">\n",
       "                        \n",
       "                      </td>\n",
       "                    </tr>\n",
       "                \n",
       "                  <tr>\n",
       "                    <td>Mutations</td>\n",
       "                      <td>0</td>\n",
       "                      <td>16 Bytes</td>\n",
       "                      <td style=\"text-align: center;\">\n",
       "                        \n",
       "                      </td>\n",
       "                    </tr>\n",
       "                \n",
       "                  <tr>\n",
       "                    <td>Nodes</td>\n",
       "                      <td>7</td>\n",
       "                      <td>204 Bytes</td>\n",
       "                      <td style=\"text-align: center;\">\n",
       "                        \n",
       "                      </td>\n",
       "                    </tr>\n",
       "                \n",
       "                  <tr>\n",
       "                    <td>Populations</td>\n",
       "                      <td>2</td>\n",
       "                      <td>288 Bytes</td>\n",
       "                      <td style=\"text-align: center;\">\n",
       "                        ✅\n",
       "                      </td>\n",
       "                    </tr>\n",
       "                \n",
       "                  <tr>\n",
       "                    <td>Provenances</td>\n",
       "                      <td>1</td>\n",
       "                      <td>1.5 KiB</td>\n",
       "                      <td style=\"text-align: center;\">\n",
       "                        \n",
       "                      </td>\n",
       "                    </tr>\n",
       "                \n",
       "                  <tr>\n",
       "                    <td>Sites</td>\n",
       "                      <td>0</td>\n",
       "                      <td>16 Bytes</td>\n",
       "                      <td style=\"text-align: center;\">\n",
       "                        \n",
       "                      </td>\n",
       "                    </tr>\n",
       "                \n",
       "                    </tbody>\n",
       "                  </table>\n",
       "                </div>\n",
       "              </div>\n",
       "            </div>\n",
       "            "
      ],
      "text/plain": [
       "<tskit.trees.TreeSequence at 0x1021fc860>"
      ]
     },
     "execution_count": 9,
     "metadata": {},
     "output_type": "execute_result"
    }
   ],
   "source": [
    "dem = msprime.Demography()\n",
    "dem.add_population(name=\"A\", description=\"Plotted in red.\", initial_size=500)\n",
    "dem.add_population(name=\"B\", description=\"Plotted in blue.\",initial_size=500)\n",
    "\n",
    "# Set migration rates.\n",
    "dem.set_migration_rate(source=0, dest=1, rate=0.05)\n",
    "dem.set_migration_rate(source=1, dest=0, rate=0.02)\n",
    "\n",
    "# Simulate.\n",
    "ts = msprime.sim_ancestry(\n",
    "  samples={\"A\" : 1, \"B\" : 1},\n",
    "  demography=dem,\n",
    "  sequence_length=1000,\n",
    "  random_seed=141,\n",
    "  recombination_rate=1e-7)\n",
    "ts"
   ]
  },
  {
   "cell_type": "markdown",
   "metadata": {},
   "source": [
    "One consequence of specifying msprime.Population objects is that each of the simulated nodes will now belong to one of our specified populations:"
   ]
  },
  {
   "cell_type": "code",
   "execution_count": 10,
   "metadata": {},
   "outputs": [
    {
     "data": {
      "text/html": [
       "\n",
       "            <div>\n",
       "                <style scoped=\"\">\n",
       "                    .tskit-table tbody tr th:only-of-type {vertical-align: middle;}\n",
       "                    .tskit-table tbody tr th {vertical-align: top;}\n",
       "                    .tskit-table tbody td {text-align: right;padding: 0.5em 0.5em;}\n",
       "                    .tskit-table tbody th {padding: 0.5em 0.5em;}\n",
       "                </style>\n",
       "                <table border=\"1\" class=\"tskit-table\">\n",
       "                    <thead>\n",
       "                        <tr>\n",
       "                            <th>id</th><th>flags</th><th>population</th><th>individual</th><th>time</th><th>metadata</th>\n",
       "                        </tr>\n",
       "                    </thead>\n",
       "                    <tbody>\n",
       "                        <tr><td>0</td><td>1</td><td>0</td><td>0</td><td>0.00000000</td><td>b''</td></tr>\n",
       "<tr><td>1</td><td>1</td><td>0</td><td>0</td><td>0.00000000</td><td>b''</td></tr>\n",
       "<tr><td>2</td><td>1</td><td>1</td><td>1</td><td>0.00000000</td><td>b''</td></tr>\n",
       "<tr><td>3</td><td>1</td><td>1</td><td>1</td><td>0.00000000</td><td>b''</td></tr>\n",
       "<tr><td>4</td><td>0</td><td>0</td><td>-1</td><td>161.20712736</td><td>b''</td></tr>\n",
       "<tr><td>5</td><td>0</td><td>1</td><td>-1</td><td>336.10713452</td><td>b''</td></tr>\n",
       "<tr><td>6</td><td>0</td><td>1</td><td>-1</td><td>590.71203375</td><td>b''</td></tr>\n",
       "\n",
       "                    </tbody>\n",
       "                </table>\n",
       "            </div>\n",
       "        "
      ],
      "text/plain": [
       "<tskit.tables.NodeTable at 0x131edde80>"
      ]
     },
     "execution_count": 10,
     "metadata": {},
     "output_type": "execute_result"
    }
   ],
   "source": [
    "ts.tables.nodes"
   ]
  },
  {
   "cell_type": "markdown",
   "metadata": {},
   "source": [
    "Notice that the population column of the node table now contains values of 0 and 1. If you are working in a Jupyter notebook, you can draw the tree sequence with nodes coloured by population label using SVG:"
   ]
  },
  {
   "cell_type": "code",
   "execution_count": 11,
   "metadata": {},
   "outputs": [
    {
     "name": "stdout",
     "output_type": "stream",
     "text": [
      "Tree on interval: Interval(left=0.0, right=1000.0)\n"
     ]
    },
    {
     "data": {
      "image/svg+xml": [
       "<svg baseProfile=\"full\" height=\"200\" version=\"1.1\" width=\"200\" xmlns=\"http://www.w3.org/2000/svg\" xmlns:ev=\"http://www.w3.org/2001/xml-events\" xmlns:xlink=\"http://www.w3.org/1999/xlink\"><defs><style type=\"text/css\"><![CDATA[.background path {fill: #808080; fill-opacity: 0}.background path:nth-child(odd) {fill-opacity: .1}.axes {font-size: 14px}.x-axis .tick .lab {font-weight: bold; dominant-baseline: hanging}.axes, .tree {font-size: 14px; text-anchor: middle}.axes line, .edge {stroke: black; fill: none}.y-axis .grid {stroke: #FAFAFA}.node > .sym {fill: black; stroke: none}.site > .sym {stroke: black}.mut text {fill: red; font-style: italic}.mut.extra text {fill: hotpink}.mut line {fill: none; stroke: none}.mut .sym {fill: none; stroke: red}.mut.extra .sym {stroke: hotpink}.node .mut .sym {stroke-width: 1.5px}.tree text, .tree-sequence text {dominant-baseline: central}.plotbox .lab.lft {text-anchor: end}.plotbox .lab.rgt {text-anchor: start}]]></style></defs><g class=\"tree t0\"><g class=\"plotbox\"><g class=\"c2 node n6 p1 root\" transform=\"translate(125 26.8)\"><g class=\"a6 i1 leaf node n3 p1 sample\" transform=\"translate(35 141.4)\"><path class=\"edge\" d=\"M 0 0 V -141.4 H -35\"/><rect class=\"sym\" height=\"6\" style=\"fill:blue;\" width=\"6\" x=\"-3\" y=\"-3\"/><text class=\"lab\" transform=\"translate(0 11)\">3</text></g><g class=\"a6 c2 node n5 p1\" transform=\"translate(-35 60.9453)\"><g class=\"a5 i0 leaf node n1 p0 sample\" transform=\"translate(30 80.4547)\"><path class=\"edge\" d=\"M 0 0 V -80.4547 H -30\"/><rect class=\"sym\" height=\"6\" style=\"fill:red;\" width=\"6\" x=\"-3\" y=\"-3\"/><text class=\"lab\" transform=\"translate(0 11)\">1</text></g><g class=\"a5 c2 node n4 p0\" transform=\"translate(-30 41.8662)\"><g class=\"a4 i0 leaf node n0 p0 sample\" transform=\"translate(-20 38.5885)\"><path class=\"edge\" d=\"M 0 0 V -38.5885 H 20\"/><rect class=\"sym\" height=\"6\" style=\"fill:red;\" width=\"6\" x=\"-3\" y=\"-3\"/><text class=\"lab\" transform=\"translate(0 11)\">0</text></g><g class=\"a4 i1 leaf node n2 p1 sample\" transform=\"translate(20 38.5885)\"><path class=\"edge\" d=\"M 0 0 V -38.5885 H -20\"/><rect class=\"sym\" height=\"6\" style=\"fill:blue;\" width=\"6\" x=\"-3\" y=\"-3\"/><text class=\"lab\" transform=\"translate(0 11)\">2</text></g><path class=\"edge\" d=\"M 0 0 V -41.8662 H 30\"/><circle class=\"sym\" cx=\"0\" cy=\"0\" r=\"3\" style=\"fill:red;\"/><text class=\"lab lft\" transform=\"translate(-3 -7.0)\">4</text></g><path class=\"edge\" d=\"M 0 0 V -60.9453 H 35\"/><circle class=\"sym\" cx=\"0\" cy=\"0\" r=\"3\" style=\"fill:blue;\"/><text class=\"lab lft\" transform=\"translate(-3 -7.0)\">5</text></g><circle class=\"sym\" cx=\"0\" cy=\"0\" r=\"3\" style=\"fill:blue;\"/><text class=\"lab\" transform=\"translate(0 -11)\">6</text></g></g></g></svg>"
      ],
      "text/plain": [
       "<IPython.core.display.SVG object>"
      ]
     },
     "metadata": {},
     "output_type": "display_data"
    }
   ],
   "source": [
    "colour_map = {0:\"red\", 1:\"blue\"}\n",
    "node_colours = {u.id: colour_map[u.population] for u in ts.nodes()}\n",
    "for tree in ts.trees():\n",
    "    print(\"Tree on interval:\", tree.interval)\n",
    "    # The code below will only work in a Jupyter notebook with SVG output enabled.\n",
    "    display(SVG(tree.draw(node_colours=node_colours)))"
   ]
  },
  {
   "cell_type": "markdown",
   "metadata": {},
   "source": [
    "More coalescences are happening in population 1 than population 0. This makes sense given that population 1 is specifying more migrants to population 0 than vice versa."
   ]
  },
  {
   "cell_type": "markdown",
   "metadata": {},
   "source": [
    "### Changing migration rates\n",
    "\n",
    "(11.15am)\n",
    "\n",
    "We can change any of the migration rates at any time in the simulation. To do this, we just need to use the msprime.Demography.add_migration_rate_change() method on our msprime.Demography object, specifying the populations whose migration rates are to be changed, the time of the change and the new migration rate.\n",
    "\n",
    "For instance, say we wanted to specify that in each generation prior to time = 100, 1% of population 0 consisted of migrants from population 1."
   ]
  },
  {
   "cell_type": "code",
   "execution_count": null,
   "metadata": {},
   "outputs": [],
   "source": [
    "dem.add_migration_rate_change(time=100, rate=0.01, source=0, dest=1)\n",
    "dem"
   ]
  },
  {
   "cell_type": "markdown",
   "metadata": {},
   "source": [
    "The output above shows that we have successfully added our first demographic event to our msprime.Demography object, a migration rate change. We are now ready to simulate:"
   ]
  },
  {
   "cell_type": "code",
   "execution_count": null,
   "metadata": {},
   "outputs": [],
   "source": [
    "ts = msprime.sim_ancestry(\n",
    "  samples={\"A\" : 1, \"B\" : 1},\n",
    "  demography=dem,\n",
    "  sequence_length=1000,\n",
    "  random_seed=63461,\n",
    "  recombination_rate=1e-7)\n",
    "ts"
   ]
  },
  {
   "cell_type": "markdown",
   "metadata": {},
   "source": [
    "### Admixture\n",
    "\n",
    "(11.25am)\n",
    "\n",
    "It is also easy to specify admixture and divergence events with msprime. Suppose we wanted to specify our demography so that 50 generations ago, 30% of population 0 was a migrant from population 1:\n",
    "\n",
    "We can do this by using the msprime.Demography.add_admixture() method on our demography object. We must supply a list of ancestral populations participating in the admixture, and a list of the same size specifying the proportions of migrants from each of these populations."
   ]
  },
  {
   "cell_type": "code",
   "execution_count": 12,
   "metadata": {},
   "outputs": [],
   "source": [
    "dem = msprime.Demography()\n",
    "dem.add_population(name=\"AncestralPop0\", description=\"Plotted in red.\", initial_size=500, growth_rate=0)\n",
    "dem.add_population(name=\"AncestralPop1\", description=\"Plotted in blue.\", initial_size=500, growth_rate=0)\n",
    "dem.add_population(name=\"AdmixedPop\", description=\"Plotted in green.\", initial_size=500)\n",
    "dem.set_migration_rate(source=0, dest=1, rate=0.05)\n",
    "dem.set_migration_rate(source=1, dest=0, rate=0.02)\n",
    "\n",
    "# Specify admixture event.\n",
    "dem.add_admixture(time=50, derived=\"AdmixedPop\", ancestral=[\"AncestralPop0\", \"AncestralPop1\"], proportions=[0.3, 0.7]);"
   ]
  },
  {
   "cell_type": "markdown",
   "metadata": {},
   "source": [
    "This simulates a sample where all nodes (ancestral haplotypes) are from the admixed population up until the time of the admixture event, and before this, all nodes are from one of the ancestral populations."
   ]
  },
  {
   "cell_type": "code",
   "execution_count": 13,
   "metadata": {
    "scrolled": true
   },
   "outputs": [
    {
     "name": "stdout",
     "output_type": "stream",
     "text": [
      "Populations of nodes from time < 50:\n",
      "[2, 2, 2, 2, 2, 2, 2, 2, 2, 2, 2, 2, 2, 2, 2]\n",
      "Populations of nodes from time >= 50:\n",
      "[1, 1, 1, 1, 0, 1, 1, 1, 0, 1]\n"
     ]
    }
   ],
   "source": [
    "ts = msprime.sim_ancestry(\n",
    "  samples={\"AncestralPop0\" : 0, \"AncestralPop1\" : 0, \"AdmixedPop\" : 6},\n",
    "  demography=dem,\n",
    "  sequence_length=1000,\n",
    "  random_seed=63,\n",
    "  recombination_rate=1e-7)\n",
    "\n",
    "print(\"Populations of nodes from time < 50:\")\n",
    "print([u.population for u in ts.nodes() if u.time < 50])\n",
    "print(\"Populations of nodes from time >= 50:\")\n",
    "print([u.population for u in ts.nodes() if u.time >= 50])"
   ]
  },
  {
   "cell_type": "markdown",
   "metadata": {},
   "source": [
    "Admixtures and population splits are special types of demographic events that affect the state of some of the defined populations, in addition to moving lineages between populations. The output below shows that by adding the admixture event, we are triggering a change in the state of AdmixedPop at time = 50; the population is active at the start of the simulation, but becomes inactive for all steps of the simulation beyond time 50."
   ]
  },
  {
   "cell_type": "code",
   "execution_count": 14,
   "metadata": {},
   "outputs": [
    {
     "data": {
      "text/html": [
       "<div style=\"margin-left:20px\"><div><style scoped=\"\">\n",
       "            .tskit-table thead tr th:only-of-type {vertical-align: middle;}\n",
       "            .tskit-table thead tr th {text-align: center;vertical-align: top;}\n",
       "            .tskit-table tbody td {text-align: right;padding: 0.5em 0.5em;}\n",
       "            .tskit-table tbody th {padding: 0.5em 0.5em;}\n",
       "        </style><b>Populations (3)</b><table border=\"1\" class=\"tskit-table\"><thead><tr><th>id</th><th>name</th><th>description</th><th>initial_size</th><th>growth_rate</th><th>default_sampling_time</th><th>extra_metadata</th></tr></thead><tbody><tr><td>0</td><td>AncestralPop0</td><td>Plotted in red.</td><td>500.0</td><td>0</td><td>0</td><td>{}</td></tr><tr><td>1</td><td>AncestralPop1</td><td>Plotted in blue.</td><td>500.0</td><td>0</td><td>0</td><td>{}</td></tr><tr><td>2</td><td>AdmixedPop</td><td>Plotted in green.</td><td>500.0</td><td>0</td><td>0</td><td>{}</td></tr></tbody></table></div><div><style scoped=\"\">\n",
       "            .tskit-table thead tr th:only-of-type {vertical-align: middle;}\n",
       "            .tskit-table thead tr th {text-align: center;vertical-align: top;}\n",
       "            .tskit-table tbody td {text-align: right;padding: 0.5em 0.5em;}\n",
       "            .tskit-table tbody th {padding: 0.5em 0.5em;}\n",
       "        </style><b>Migration matrix</b><table border=\"1\" class=\"tskit-table\"><thead><tr><th></th><th>AncestralPop0</th><th>AncestralPop1</th><th>AdmixedPop</th></tr></thead><tbody><tr><td>AncestralPop0</td><td>0</td><td title='Backwards in time migration rate from population AncestralPop0 to AncestralPop1\n",
       "= 0.05 per generation. Forwards in time, this is the expected number of migrants\n",
       "moving from AncestralPop1 to AncestralPop0 per generation, divided by the size\n",
       "of AncestralPop0.'>0.05</td><td title='Backwards in time migration rate from population AncestralPop0 to AdmixedPop =\n",
       "0.0 per generation. Forwards in time, this is the expected number of migrants\n",
       "moving from AdmixedPop to AncestralPop0 per generation, divided by the size of\n",
       "AncestralPop0.'>0</td></tr><tr><td>AncestralPop1</td><td title='Backwards in time migration rate from population AncestralPop1 to AncestralPop0\n",
       "= 0.02 per generation. Forwards in time, this is the expected number of migrants\n",
       "moving from AncestralPop0 to AncestralPop1 per generation, divided by the size\n",
       "of AncestralPop1.'>0.02</td><td>0</td><td title='Backwards in time migration rate from population AncestralPop1 to AdmixedPop =\n",
       "0.0 per generation. Forwards in time, this is the expected number of migrants\n",
       "moving from AdmixedPop to AncestralPop1 per generation, divided by the size of\n",
       "AncestralPop1.'>0</td></tr><tr><td>AdmixedPop</td><td title='Backwards in time migration rate from population AdmixedPop to AncestralPop0 =\n",
       "0.0 per generation. Forwards in time, this is the expected number of migrants\n",
       "moving from AncestralPop0 to AdmixedPop per generation, divided by the size of\n",
       "AdmixedPop.'>0</td><td title='Backwards in time migration rate from population AdmixedPop to AncestralPop1 =\n",
       "0.0 per generation. Forwards in time, this is the expected number of migrants\n",
       "moving from AncestralPop1 to AdmixedPop per generation, divided by the size of\n",
       "AdmixedPop.'>0</td><td>0</td></tr></tbody></table></div><div><style scoped=\"\">\n",
       "            .tskit-table thead tr th:only-of-type {vertical-align: middle;}\n",
       "            .tskit-table thead tr th {text-align: center;vertical-align: top;}\n",
       "            .tskit-table tbody td {text-align: right;padding: 0.5em 0.5em;}\n",
       "            .tskit-table tbody th {padding: 0.5em 0.5em;}\n",
       "        </style><b>Events (1)</b><table border=\"1\" class=\"tskit-table\"><thead><tr><th>time</th><th>type</th><th>parameters</th><th>effect</th></tr></thead><tbody><tr><td>50</td><td><a href='https://tskit.dev/msprime/docs/latest/api.html#msprime.Demography.add_admixture'>Admixture</a></td><td>derived=AdmixedPop ancestral=[AncestralPop0, AncestralPop1] proportions=[0.30, 0.70]</td><td>Moves all lineages from admixed population &#x27;AdmixedPop&#x27; to ancestral populations. Lineages move to &#x27;AncestralPop0&#x27; with proba 0.3; &#x27;AncestralPop1&#x27; with proba 0.7. Set &#x27;AdmixedPop&#x27; to inactive, and all migration rates to and from &#x27;AdmixedPop&#x27; to zero.</td></tr></tbody></table></div></div>"
      ],
      "text/plain": [
       "Demography(populations=[Population(initial_size=500, growth_rate=0, name='AncestralPop0', description='Plotted in red.', extra_metadata={}, default_sampling_time=None, initially_active=None, id=0), Population(initial_size=500, growth_rate=0, name='AncestralPop1', description='Plotted in blue.', extra_metadata={}, default_sampling_time=None, initially_active=None, id=1), Population(initial_size=500, growth_rate=0, name='AdmixedPop', description='Plotted in green.', extra_metadata={}, default_sampling_time=None, initially_active=None, id=2)], events=[Admixture(time=50, derived='AdmixedPop', ancestral=['AncestralPop0', 'AncestralPop1'], proportions=[0.3, 0.7])], migration_matrix=array([[0.  , 0.05, 0.  ],\n",
       "       [0.02, 0.  , 0.  ],\n",
       "       [0.  , 0.  , 0.  ]]))"
      ]
     },
     "execution_count": 14,
     "metadata": {},
     "output_type": "execute_result"
    }
   ],
   "source": [
    "dem"
   ]
  },
  {
   "cell_type": "markdown",
   "metadata": {},
   "source": [
    "This means that, for example, adding any demographic events that affect AdmixedPop beyond this time will produce an error:"
   ]
  },
  {
   "cell_type": "code",
   "execution_count": null,
   "metadata": {},
   "outputs": [],
   "source": [
    "## THIS WON'T WORK\n",
    "# dem.add_migration_rate_change(time=80, rate=0.01, source=\"AncestralPop0\", dest=\"AdmixedPop\");\n",
    "# ts = msprime.sim_ancestry(\n",
    "#   samples={\"AncestralPop0\" : 0, \"AncestralPop1\" : 0, \"AdmixedPop\" : 6},\n",
    "#   demography=dem,\n",
    "#   sequence_length=1000,\n",
    "#   random_seed=63,\n",
    "#   recombination_rate=1e-7)"
   ]
  },
  {
   "cell_type": "markdown",
   "metadata": {},
   "source": [
    "To read more about the way that msprime treats the life cycle of populations, see here."
   ]
  },
  {
   "cell_type": "markdown",
   "metadata": {},
   "source": [
    "### Population splits\n",
    "\n",
    "(11.25am)\n",
    "\n",
    "We can also simulate population divergences with msprime. Suppose we want to model a situation where all lineages from multiple populations are migrants from a single ancestral population at a single point in time.\n",
    "\n",
    "We’ll specify this with the msprime.Demography.add_population_split() method. We need to know the time of the event, and the IDs or labels of the derived and ancestral populations participating in the divergence event. Notice that in this case, we do not need to provide proportions as we did in the case of admixture. This makes sense when you think about the fact that msprime simulates backwards-in-time: all lineages in all of the derived populations originate from the ancestral population in a split event. Any differences in ‘quantities’ of migrants must be modelled by sizes of the derived populations at the time of the split."
   ]
  },
  {
   "cell_type": "code",
   "execution_count": null,
   "metadata": {},
   "outputs": [],
   "source": [
    "dem = msprime.Demography()\n",
    "dem.add_population(name=\"A\", description=\"Plotted in red.\", initial_size=500)\n",
    "dem.add_population(name=\"B\", description=\"Plotted in blue.\",initial_size=500)\n",
    "dem.add_population(name=\"AncestralPopulation\", description=\"Plotted in green.\", initial_size=500)\n",
    "\n",
    "# Add the population split.\n",
    "dem.add_population_split(time=100, derived=[\"A\",\"B\"], ancestral=\"AncestralPopulation\")\n",
    "dem"
   ]
  },
  {
   "cell_type": "markdown",
   "metadata": {},
   "source": [
    "Population splits will also modify the state of each of the derived populations, changing them from active to inactive at the time of the split."
   ]
  },
  {
   "cell_type": "code",
   "execution_count": null,
   "metadata": {},
   "outputs": [],
   "source": [
    "ts = msprime.sim_ancestry(\n",
    "  samples={\"A\" : 3, \"B\" : 3, \"AncestralPopulation\" : 0},\n",
    "  demography=dem,\n",
    "  sequence_length=1000,\n",
    "  random_seed=63,\n",
    "  recombination_rate=1e-7)\n",
    "\n",
    "print(\"Populations of nodes from time < 100:\")\n",
    "print([u.population for u in ts.nodes() if u.time < 100])\n",
    "print(\"Populations of nodes from time >= 100:\")\n",
    "print([u.population for u in ts.nodes() if u.time >= 100])"
   ]
  },
  {
   "cell_type": "markdown",
   "metadata": {},
   "source": [
    "### Changing population sizes or growth rates\n",
    "\n",
    "(11.35am))"
   ]
  },
  {
   "cell_type": "markdown",
   "metadata": {},
   "source": [
    "We may wish to specify changes to rates of population growth, or sudden changes in population size at a particular time. Both of these can be specified by applying the msprime.Demography.add_population_parameters_change() method to our msprime.Demography object."
   ]
  },
  {
   "cell_type": "code",
   "execution_count": null,
   "metadata": {},
   "outputs": [],
   "source": [
    "dem = msprime.Demography()\n",
    "dem.add_population(name=\"A\", description=\"Plotted in red.\", initial_size=500)\n",
    "dem.add_population(name=\"B\", description=\"Plotted in blue.\",initial_size=500)\n",
    "dem.set_migration_rate(source=0, dest=1, rate=0.05)\n",
    "dem.set_migration_rate(source=1, dest=0, rate=0.02)\n",
    "\n",
    "# Bottleneck in Population 0 between 50 - 150 generations ago.\n",
    "dem.add_population_parameters_change(time=50, initial_size=250, population=0)\n",
    "dem.add_population_parameters_change(time=150, initial_size=500, population=0)\n",
    "\n",
    "# Exponential growth in Population 1 starting 50 generations ago.\n",
    "dem.add_population_parameters_change(time=100, growth_rate=0.01, population=1)\n",
    "\n",
    "# Sort events, since we've added some out of time order.\n",
    "dem.sort_events()\n",
    "\n",
    "# Simulate.\n",
    "ts = msprime.sim_ancestry(samples={\"A\" : 3, \"B\" : 3},\n",
    "                          demography=dem, sequence_length=1000,\n",
    "                          random_seed=63461,\n",
    "                          recombination_rate=1e-7)"
   ]
  },
  {
   "cell_type": "markdown",
   "metadata": {},
   "source": [
    "Note that because msprime simulates backwards-in-time, parameter changes must be interpreted backwards-in-time as well. For instance, the pop1_growth event in the example above specifies continual growth in the early history of population 1 up until 100 generations in the past."
   ]
  },
  {
   "cell_type": "markdown",
   "metadata": {},
   "source": [
    "## Debugging demography\n",
    "\n",
    "(11.40am)\n",
    "\n",
    "As we’ve seen, it’s pretty easy to make mistakes when specifying demography!\n",
    "\n",
    "To help you spot these, msprime provides a debugger that prints out your population history in a more human-readable form. It’s good to get into the habit of running the msprime.DemographyDebugger before running your simulations."
   ]
  },
  {
   "cell_type": "markdown",
   "metadata": {},
   "source": [
    "my_history = msprime.DemographyDebugger(demography=dem)\n",
    "my_history"
   ]
  },
  {
   "cell_type": "markdown",
   "metadata": {},
   "source": [
    "## Other ancestry models\n",
    "\n",
    "(11.45am)\n",
    "\n",
    "When might the default (Hudson coalescent) model not be ideal for you?\n",
    " - Neutrality\n",
    " - Random mating and survival\n",
    " - Infinite population size\n",
    " - Infinite sites\n",
    " \n",
    " There may be situations where these assumptions are too restrictive for you. If you have particularly complicated requirements, you may wish move to SLiM. However, it is now possible to simulate with other models in msprime as well.\n",
    "\n",
    "Default is Hudson, but have other options like Discrete-Time-Wright-Fisher (main features)"
   ]
  },
  {
   "cell_type": "code",
   "execution_count": null,
   "metadata": {},
   "outputs": [],
   "source": [
    "# DTWF sim"
   ]
  },
  {
   "cell_type": "markdown",
   "metadata": {},
   "source": [
    "Or simple model of genic selection at a single site using a structured-coalescent:"
   ]
  },
  {
   "cell_type": "code",
   "execution_count": null,
   "metadata": {},
   "outputs": [],
   "source": [
    "Ne = 1e3\n",
    "L = 1e6  # Length of simulated region\n",
    "num_reps = 100\n",
    "\n",
    "# define hard sweep model\n",
    "sweep_model = msprime.SweepGenicSelection(\n",
    "    position=L / 2,  # middle of chrom\n",
    "    start_frequency=1.0 / (2 * Ne),\n",
    "    end_frequency=1.0 - (1.0 / (2 * Ne)),\n",
    "    s=0.25,\n",
    "    dt=1e-6,\n",
    ")"
   ]
  },
  {
   "cell_type": "code",
   "execution_count": null,
   "metadata": {},
   "outputs": [],
   "source": [
    "# Run a small simulation and plot it, hopefully showcasing small trees?"
   ]
  },
  {
   "cell_type": "markdown",
   "metadata": {},
   "source": [
    "## Mixing different ancestry models\n",
    "\n",
    "(11.52am)"
   ]
  },
  {
   "cell_type": "markdown",
   "metadata": {},
   "source": [
    "You can even run multiple models. (Can we simplify the code below?)"
   ]
  },
  {
   "cell_type": "code",
   "execution_count": null,
   "metadata": {},
   "outputs": [],
   "source": [
    "random.seed(1234)\n",
    "L = 100\n",
    "Ne = 1e6\n",
    "\n",
    "models = []\n",
    "for _ in range(100):\n",
    "    models.append(msprime.StandardCoalescent(duration=random.uniform(0, 1)))\n",
    "    models.append(\n",
    "        msprime.SweepGenicSelection(\n",
    "            position=random.randint(1, L - 1),\n",
    "            start_frequency=1 / (2 * Ne),\n",
    "            end_frequency=1.0 - 1 / (2 * Ne),\n",
    "            s=0.01,\n",
    "            dt=1e-6,\n",
    "        )\n",
    "    )\n",
    "models.append(msprime.StandardCoalescent())\n",
    "models[:5]"
   ]
  },
  {
   "cell_type": "code",
   "execution_count": null,
   "metadata": {},
   "outputs": [],
   "source": [
    "ts = msprime.sim_ancestry(\n",
    "    10,\n",
    "    population_size=100,\n",
    "    sequence_length=L,\n",
    "    recombination_rate=0.01,\n",
    "    model=models,\n",
    "    random_seed=6789\n",
    ")\n",
    "ts"
   ]
  },
  {
   "cell_type": "code",
   "execution_count": null,
   "metadata": {},
   "outputs": [],
   "source": []
  }
 ],
 "metadata": {
  "kernelspec": {
   "display_name": "Python 3",
   "language": "python",
   "name": "python3"
  },
  "language_info": {
   "codemirror_mode": {
    "name": "ipython",
    "version": 3
   },
   "file_extension": ".py",
   "mimetype": "text/x-python",
   "name": "python",
   "nbconvert_exporter": "python",
   "pygments_lexer": "ipython3",
   "version": "3.7.3"
  }
 },
 "nbformat": 4,
 "nbformat_minor": 2
}
